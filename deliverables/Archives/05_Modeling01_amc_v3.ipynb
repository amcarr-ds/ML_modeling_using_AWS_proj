{
 "cells": [
  {
   "cell_type": "markdown",
   "id": "a406a9cc-f539-4fc8-ac94-6964d066545e",
   "metadata": {},
   "source": [
    "# ADS-508-01-SP23 Team 8: Final Project"
   ]
  },
  {
   "cell_type": "markdown",
   "id": "b9d4d4ae-78da-4af4-8ca3-86c028dd6e91",
   "metadata": {},
   "source": [
    "# Train model"
   ]
  },
  {
   "cell_type": "markdown",
   "id": "4d3b8db0-6910-4d3d-a870-fec468b57912",
   "metadata": {},
   "source": [
    "Much of the code is modified from `Fregly, C., & Barth, A. (2021). Data science on AWS: Implementing end-to-end, continuous AI and machine learning pipelines. O’Reilly.`"
   ]
  },
  {
   "cell_type": "markdown",
   "id": "4d04427e-2c8f-4b36-97d0-65e28951db9f",
   "metadata": {},
   "source": [
    "## Install missing dependencies\n",
    "\n",
    "[PyAthena](https://pypi.org/project/PyAthena/) is a Python DB API 2.0 (PEP 249) compliant client for Amazon Athena."
   ]
  },
  {
   "cell_type": "code",
   "execution_count": 2,
   "id": "189f41f2-460c-40df-a1d5-b7a39783149d",
   "metadata": {},
   "outputs": [
    {
     "name": "stdout",
     "output_type": "stream",
     "text": [
      "\u001b[33mWARNING: The directory '/root/.cache/pip' or its parent directory is not owned or is not writable by the current user. The cache has been disabled. Check the permissions and owner of that directory. If executing pip with sudo, you should use sudo's -H flag.\u001b[0m\u001b[33m\n",
      "\u001b[0m\u001b[33mWARNING: Running pip as the 'root' user can result in broken permissions and conflicting behaviour with the system package manager. It is recommended to use a virtual environment instead: https://pip.pypa.io/warnings/venv\u001b[0m\u001b[33m\n",
      "\u001b[0m\u001b[33mWARNING: The directory '/root/.cache/pip' or its parent directory is not owned or is not writable by the current user. The cache has been disabled. Check the permissions and owner of that directory. If executing pip with sudo, you should use sudo's -H flag.\u001b[0m\u001b[33m\n",
      "\u001b[0m\u001b[33mWARNING: Running pip as the 'root' user can result in broken permissions and conflicting behaviour with the system package manager. It is recommended to use a virtual environment instead: https://pip.pypa.io/warnings/venv\u001b[0m\u001b[33m\n",
      "\u001b[0m\u001b[33mWARNING: The directory '/root/.cache/pip' or its parent directory is not owned or is not writable by the current user. The cache has been disabled. Check the permissions and owner of that directory. If executing pip with sudo, you should use sudo's -H flag.\u001b[0m\u001b[33m\n",
      "\u001b[0mRequirement already satisfied: missingno in /opt/conda/lib/python3.7/site-packages (0.5.2)\n",
      "Requirement already satisfied: matplotlib in /opt/conda/lib/python3.7/site-packages (from missingno) (3.1.3)\n",
      "Requirement already satisfied: numpy in /opt/conda/lib/python3.7/site-packages (from missingno) (1.21.6)\n",
      "Requirement already satisfied: scipy in /opt/conda/lib/python3.7/site-packages (from missingno) (1.4.1)\n",
      "Requirement already satisfied: seaborn in /opt/conda/lib/python3.7/site-packages (from missingno) (0.10.0)\n",
      "Requirement already satisfied: kiwisolver>=1.0.1 in /opt/conda/lib/python3.7/site-packages (from matplotlib->missingno) (1.1.0)\n",
      "Requirement already satisfied: pyparsing!=2.0.4,!=2.1.2,!=2.1.6,>=2.0.1 in /opt/conda/lib/python3.7/site-packages (from matplotlib->missingno) (2.4.6)\n",
      "Requirement already satisfied: python-dateutil>=2.1 in /opt/conda/lib/python3.7/site-packages (from matplotlib->missingno) (2.8.2)\n",
      "Requirement already satisfied: cycler>=0.10 in /opt/conda/lib/python3.7/site-packages (from matplotlib->missingno) (0.10.0)\n",
      "Requirement already satisfied: pandas>=0.22.0 in /opt/conda/lib/python3.7/site-packages (from seaborn->missingno) (1.3.5)\n",
      "Requirement already satisfied: six in /opt/conda/lib/python3.7/site-packages (from cycler>=0.10->matplotlib->missingno) (1.14.0)\n",
      "Requirement already satisfied: setuptools in /opt/conda/lib/python3.7/site-packages (from kiwisolver>=1.0.1->matplotlib->missingno) (59.3.0)\n",
      "Requirement already satisfied: pytz>=2017.3 in /opt/conda/lib/python3.7/site-packages (from pandas>=0.22.0->seaborn->missingno) (2019.3)\n",
      "\u001b[33mWARNING: Running pip as the 'root' user can result in broken permissions and conflicting behaviour with the system package manager. It is recommended to use a virtual environment instead: https://pip.pypa.io/warnings/venv\u001b[0m\u001b[33m\n",
      "\u001b[0m\u001b[33mWARNING: The directory '/root/.cache/pip' or its parent directory is not owned or is not writable by the current user. The cache has been disabled. Check the permissions and owner of that directory. If executing pip with sudo, you should use sudo's -H flag.\u001b[0m\u001b[33m\n",
      "\u001b[0mRequirement already satisfied: scikit-optimize in /opt/conda/lib/python3.7/site-packages (0.9.0)\n",
      "Requirement already satisfied: numpy>=1.13.3 in /opt/conda/lib/python3.7/site-packages (from scikit-optimize) (1.21.6)\n",
      "Requirement already satisfied: scipy>=0.19.1 in /opt/conda/lib/python3.7/site-packages (from scikit-optimize) (1.4.1)\n",
      "Requirement already satisfied: joblib>=0.11 in /opt/conda/lib/python3.7/site-packages (from scikit-optimize) (1.2.0)\n",
      "Requirement already satisfied: pyaml>=16.9 in /opt/conda/lib/python3.7/site-packages (from scikit-optimize) (21.10.1)\n",
      "Requirement already satisfied: scikit-learn>=0.20.0 in /opt/conda/lib/python3.7/site-packages (from scikit-optimize) (0.22.1)\n",
      "Requirement already satisfied: PyYAML in /opt/conda/lib/python3.7/site-packages (from pyaml>=16.9->scikit-optimize) (6.0)\n",
      "\u001b[33mWARNING: Running pip as the 'root' user can result in broken permissions and conflicting behaviour with the system package manager. It is recommended to use a virtual environment instead: https://pip.pypa.io/warnings/venv\u001b[0m\u001b[33m\n",
      "\u001b[0m"
     ]
    }
   ],
   "source": [
    "!pip install --disable-pip-version-check -q PyAthena==2.1.0\n",
    "!pip install --disable-pip-version-check -q sagemaker-experiments==0.1.26\n",
    "!pip install missingno\n",
    "!pip install scikit-optimize"
   ]
  },
  {
   "cell_type": "markdown",
   "id": "bd6e5a52-94a3-489c-819b-f57885fe9cc6",
   "metadata": {},
   "source": [
    "## Globally import libraries"
   ]
  },
  {
   "cell_type": "code",
   "execution_count": 3,
   "id": "c1264efc-72eb-45b3-9311-6ff9a787a26b",
   "metadata": {},
   "outputs": [],
   "source": [
    "import boto3\n",
    "from botocore.client import ClientError\n",
    "import pandas as pd\n",
    "import numpy as np\n",
    "from pyathena import connect\n",
    "from IPython.core.display import display, HTML\n",
    "import missingno as msno\n",
    "from skopt import BayesSearchCV\n",
    "from skopt.space import Real, Categorical, Integer\n",
    "from sklearn.compose import ColumnTransformer\n",
    "from sklearn.pipeline import make_pipeline, Pipeline\n",
    "from sklearn.preprocessing import StandardScaler, OneHotEncoder\n",
    "from sklearn.model_selection import train_test_split, cross_val_score, GridSearchCV\n",
    "from sklearn.ensemble import RandomForestRegressor\n",
    "from sklearn.neural_network import MLPRegressor\n",
    "from sklearn.impute import SimpleImputer\n",
    "from sklearn.metrics import r2_score, mean_squared_error\n",
    "from sklearn.linear_model import Lasso\n",
    "import datetime as dt\n",
    "import time\n",
    "import sagemaker\n",
    "from sagemaker.sklearn.estimator import SKLearn\n",
    "from smexperiments.experiment import Experiment\n",
    "from smexperiments.trial import Trial\n",
    "import joblib\n",
    "import os\n",
    "from io import BytesIO"
   ]
  },
  {
   "cell_type": "markdown",
   "id": "e0208499-b452-4abe-a5ae-475f0ecc4254",
   "metadata": {},
   "source": [
    "## Instantiate AWS SageMaker and S3 sessions"
   ]
  },
  {
   "cell_type": "code",
   "execution_count": 6,
   "id": "6c4ef463-dd80-4d28-9a1f-09f5261fca85",
   "metadata": {},
   "outputs": [
    {
     "name": "stdout",
     "output_type": "stream",
     "text": [
      "arn:aws:iam::657724983756:role/LabRole\n",
      "us-east-1\n",
      "us-east-1\n"
     ]
    }
   ],
   "source": [
    "session = boto3.session.Session()\n",
    "role = sagemaker.get_execution_role()\n",
    "region = session.region_name\n",
    "#sagemaker_session = sagemaker.Session()\n",
    "\n",
    "s3 = boto3.Session().client(service_name=\"s3\",\n",
    "                            region_name=region)\n",
    "\n",
    "#sm = boto3.Session().client(service_name=\"sagemaker\",\n",
    "#                            region_name=region)\n",
    "\n",
    "sm = boto3.Session(region_name=region).client(service_name=\"sagemaker\", region_name=region)\n",
    "\n",
    "sagemaker_session = sagemaker.Session(\n",
    "    boto_session=boto3.Session(region_name=region),\n",
    "    sagemaker_client=sm\n",
    ")\n",
    "\n",
    "def_bucket = sagemaker_session.default_bucket()\n",
    "bucket = 'sagemaker-us-east-ads508-sp23-t8'\n",
    "\n",
    "print(role)\n",
    "print(region)\n",
    "print( boto3.Session().region_name)"
   ]
  },
  {
   "cell_type": "code",
   "execution_count": 7,
   "id": "59fe83df-3b8d-4120-ae9a-221497980a76",
   "metadata": {},
   "outputs": [
    {
     "name": "stdout",
     "output_type": "stream",
     "text": [
      "Default bucket: sagemaker-us-east-1-657724983756\n",
      "Public T8 bucket: sagemaker-us-east-ads508-sp23-t8\n"
     ]
    }
   ],
   "source": [
    "print(f\"Default bucket: {def_bucket}\")\n",
    "print(f\"Public T8 bucket: {bucket}\")"
   ]
  },
  {
   "cell_type": "markdown",
   "id": "2ea0232b-3373-406b-addb-3bd73572884a",
   "metadata": {},
   "source": [
    "## Pass in train and test X from CSV"
   ]
  },
  {
   "cell_type": "code",
   "execution_count": 8,
   "id": "39061b0e-220f-48bc-b392-9a1e7c18de33",
   "metadata": {},
   "outputs": [
    {
     "name": "stdout",
     "output_type": "stream",
     "text": [
      "s3://sagemaker-us-east-1-657724983756/team_8_data/modeling_data/training/train_x01.csv\n",
      "s3://sagemaker-us-east-1-657724983756/team_8_data/modeling_data/testing/test_x01.csv\n",
      "(25284, 48)\n",
      "\n",
      "(6321, 48)\n"
     ]
    }
   ],
   "source": [
    "s3_train_path = f\"s3://{def_bucket}/team_8_data/modeling_data/training\"\n",
    "s3_test_path = f\"s3://{def_bucket}/team_8_data/modeling_data/testing\"\n",
    "\n",
    "s3_train_x01_csv_path = f\"s3://{def_bucket}/team_8_data/modeling_data/training/train_x01.csv\"\n",
    "train_x01 = pd.read_csv(s3_train_x01_csv_path)\n",
    "s3_test_x01_csv_path = f\"s3://{def_bucket}/team_8_data/modeling_data/testing/test_x01.csv\"\n",
    "test_x01 = pd.read_csv(s3_test_x01_csv_path)\n",
    "\n",
    "print(s3_train_x01_csv_path)\n",
    "print(s3_test_x01_csv_path)\n",
    "\n",
    "\n",
    "print(f'{train_x01.shape}')\n",
    "print(f'\\n{test_x01.shape}')"
   ]
  },
  {
   "cell_type": "markdown",
   "id": "8906d20b-871d-4a6c-8fd2-0d363c49d3ee",
   "metadata": {},
   "source": [
    "## Pass in train and test y from np array"
   ]
  },
  {
   "cell_type": "markdown",
   "id": "f27bb26d-58a8-4ea8-8ffb-06f8fa6d4fde",
   "metadata": {
    "tags": []
   },
   "source": [
    "train_X_uri = sagemaker_session.upload_data('train_x01.csv', bucket=def_bucket)\n",
    "train_y_uri = sagemaker_session.upload_data('train_y01.npy', bucket=def_bucket)\n",
    "\n",
    "print(train_X_uri)\n",
    "print(train_y_uri)"
   ]
  },
  {
   "cell_type": "code",
   "execution_count": 9,
   "id": "52d90171-b637-4458-a57c-bc3bc86372f4",
   "metadata": {},
   "outputs": [
    {
     "name": "stdout",
     "output_type": "stream",
     "text": [
      "(25284, 1)\n",
      "(6321, 1)\n"
     ]
    }
   ],
   "source": [
    "# Define the S3 object key\n",
    "train_y01_s3_key = 'team_8_data/modeling_data/training/train_y01.npy'\n",
    "\n",
    "# Load the numpy array from S3\n",
    "with BytesIO() as data:\n",
    "    s3.download_fileobj(def_bucket, train_y01_s3_key, data)\n",
    "    data.seek(0)\n",
    "    train_y01 = np.load(data)\n",
    "\n",
    "# Define the S3 object key\n",
    "test_y01_s3_key = 'team_8_data/modeling_data/testing/test_y01.npy'\n",
    "\n",
    "# Load the numpy array from S3\n",
    "with BytesIO() as data:\n",
    "    s3.download_fileobj(def_bucket, test_y01_s3_key, data)\n",
    "    data.seek(0)\n",
    "    test_y01 = np.load(data)\n",
    "\n",
    "# Confirm that the numpy array was loaded from S3\n",
    "print(f'{train_y01.shape}')\n",
    "print(f'{test_y01.shape}')"
   ]
  },
  {
   "cell_type": "markdown",
   "id": "f964692a-cf34-4755-bd98-14ce4acd8c93",
   "metadata": {},
   "source": [
    "## Model Training using Grid search with 5-fold cross-validation"
   ]
  },
  {
   "cell_type": "markdown",
   "id": "67effbbc-6281-49a2-8ae8-8424eba5a4f5",
   "metadata": {},
   "source": [
    "### Neural Network"
   ]
  },
  {
   "cell_type": "markdown",
   "id": "702e7382-5b79-4522-b208-89ac3c526b22",
   "metadata": {
    "tags": []
   },
   "source": [
    "# Start timer script\n",
    "start_time = dt.datetime.today()\n",
    "\n",
    "# Citation: Hochberg, 2018; Shanmukh, 2021\n",
    "m2v1_pip = Pipeline([('si', SimpleImputer(strategy='median')),\n",
    "                     ('ss', StandardScaler()),\n",
    "                     ('nn', MLPRegressor(random_state=1699))])\n",
    "\n",
    "nodes_h = 3\n",
    "predictors_p = 49\n",
    "\n",
    "hidden_layer_sizes_hparam = [[100,],\n",
    "                             [(nodes_h*(predictors_p+1))+nodes_h+1,],\n",
    "                             [50, 50]\n",
    "                            ]\n",
    "activation_hparam = ['logistic', 'relu']\n",
    "solver_hparam = ['adam']\n",
    "alpha_hparam = [.0001, .0005, .001]\n",
    "learn_rate_hparam = ['constant', 'invscaling']\n",
    "\n",
    "#hidden_layer_sizes_hparam = [[100,]]\n",
    "#activation_hparam = ['relu']\n",
    "#solver_hparam = ['adam']\n",
    "#alpha_hparam = [.0001]\n",
    "#learn_rate_hparam = ['invscaling']\n",
    "\n",
    "m2v1_grd = {'nn__hidden_layer_sizes': hidden_layer_sizes_hparam,\n",
    "            'nn__activation': activation_hparam,\n",
    "            'nn__solver': solver_hparam,\n",
    "            'nn__alpha': alpha_hparam,\n",
    "            'nn__learning_rate': learn_rate_hparam\n",
    "           }\n",
    "\n",
    "m2v1_nn = GridSearchCV(m2v1_pip,\n",
    "                       m2v1_grd,\n",
    "                       scoring='neg_root_mean_squared_error',\n",
    "                       n_jobs=2,\n",
    "                       refit=True,\n",
    "                       verbose=2)\n",
    "\n",
    "m2v1_nn.fit(train_x01, train_y01)\n",
    "\n",
    "print(f'Best Estimator:\\n{m2v1_nn.best_estimator_}')\n",
    "\n",
    "print(pd.DataFrame(m2v1_nn.cv_results_))\n",
    "\n",
    "train_m2v1_y01_pred = m2v1_nn.predict(train_x01)\n",
    "print(train_m2v1_y01_pred)\n",
    "\n",
    "test_m2v1_y01_pred = m2v1_nn.predict(test_x01)\n",
    "print(test_m2v1_y01_pred)\n",
    "\n",
    "# Display evaluation metrics\n",
    "# R-sq\n",
    "train_m2v1_nn_r2 = r2_score(train_y01, train_m2v1_y01_pred)\n",
    "test_m2v1_nn_r2 = r2_score(test_y01, test_m2v1_y01_pred)\n",
    "\n",
    "print(f'Train R-sq:\\n{train_m2v1_nn_r2}')\n",
    "print(f'Test R-sq:\\n{test_m2v1_nn_r2}')\n",
    "\n",
    "# RMSE\n",
    "train_m2v1_nn_rmse = mean_squared_error(train_y01, train_m2v1_y01_pred, squared=False)\n",
    "test_m2v1_nn_rmse = mean_squared_error(test_y01, test_m2v1_y01_pred, squared=False)\n",
    "\n",
    "print(f'Train RMSE:\\n{train_m2v1_nn_rmse}')\n",
    "print(f'Test RMSE:\\n{test_m2v1_nn_rmse}')\n",
    "\n",
    "# End timer script\n",
    "end_time = dt.datetime.today()\n",
    "time_elapse = end_time - start_time\n",
    "print(f'End Time = {end_time}')\n",
    "print(f'Script Time = {time_elapse}')"
   ]
  },
  {
   "cell_type": "markdown",
   "id": "f0fc775e-bb4a-4f1f-8ca9-628f17df6e7d",
   "metadata": {},
   "source": [
    "s3_m2v1_nn_pqt_base_path = f\"../models\"\n",
    "\n",
    "if not os.path.exists(s3_m2v1_nn_pqt_base_path):\n",
    "    os.makedirs(s3_m2v1_nn_pqt_base_path)\n",
    "\n",
    "s3_m2v1_nn_pqt_path = os.path.join(s3_m2v1_nn_pqt_base_path,\n",
    "                                   'm2v1_nn.parquet')\n",
    "\n",
    "# save the model to disk using joblib\n",
    "joblib.dump(m2v1_nn,\n",
    "            s3_m2v1_nn_pqt_path)\n",
    "\n",
    "# load the saved model from disk using joblib\n",
    "m2v1_nn_fitted = joblib.load(s3_m2v1_nn_pqt_path)"
   ]
  },
  {
   "cell_type": "markdown",
   "id": "bf825858-d3cc-45a7-926a-554144059c73",
   "metadata": {},
   "source": [
    "### Lasso - Using `GridSearchCV`"
   ]
  },
  {
   "cell_type": "markdown",
   "id": "e9ae6eb2-07eb-4b25-adc0-56f00d3d1f3d",
   "metadata": {
    "tags": []
   },
   "source": [
    "# Start timer script\n",
    "start_time = dt.datetime.today()\n",
    "\n",
    "# Citation: Hochberg, 2018; Shanmukh, 2021\n",
    "m3v1_ls_pip = Pipeline([('si', SimpleImputer(strategy='median')),\n",
    "                        ('ss', StandardScaler()),\n",
    "                        ('ls', Lasso(random_state=1699))])\n",
    "\n",
    "alpha_hparam = [.01, .05, .1, .5, 1, 2]\n",
    "selection_hparam = ['cyclic', 'random']\n",
    "\n",
    "\n",
    "m3v1_ls_grd = {'ls__alpha': alpha_hparam,\n",
    "               'ls__selection': selection_hparam\n",
    "           }\n",
    "\n",
    "m3v1_ls = GridSearchCV(m3v1_ls_pip,\n",
    "                       m3v1_ls_grd,\n",
    "                       scoring='neg_root_mean_squared_error',\n",
    "                       n_jobs=2,\n",
    "                       refit=True,\n",
    "                       verbose=2)\n",
    "\n",
    "m3v1_ls.fit(train_x01, train_y01)\n",
    "\n",
    "print(f'Best Estimator:\\n{m3v1_ls.best_estimator_}')\n",
    "print(f'Coefficients:\\n{m3v1_ls.best_estimator_.named_steps[\"ls\"].coef_}')\n",
    "\n",
    "print(pd.DataFrame(m3v1_ls.cv_results_))\n",
    "\n",
    "train_m3v1_ls_y01_pred = m3v1_ls.predict(train_x01)\n",
    "print(train_m3v1_ls_y01_pred)\n",
    "\n",
    "test_m3v1_ls_y01_pred = m3v1_ls.predict(test_x01)\n",
    "print(test_m3v1_ls_y01_pred)\n",
    "\n",
    "# Display evaluation metrics\n",
    "# R-sq\n",
    "train_m3v1_ls_r2 = r2_score(train_y01, train_m3v1_ls_y01_pred)\n",
    "test_m3v1_ls_r2 = r2_score(test_y01, test_m3v1_ls_y01_pred)\n",
    "\n",
    "print(f'Train R-sq:\\n{train_m3v1_ls_r2}')\n",
    "print(f'Test R-sq:\\n{test_m3v1_ls_r2}')\n",
    "\n",
    "# RMSE\n",
    "train_m3v1_ls_rmse = mean_squared_error(train_y01, train_m3v1_ls_y01_pred, squared=False)\n",
    "test_m3v1_ls_rmse = mean_squared_error(test_y01, test_m3v1_ls_y01_pred, squared=False)\n",
    "\n",
    "print(f'Train RMSE:\\n{train_m3v1_ls_rmse}')\n",
    "print(f'Test RMSE:\\n{test_m3v1_ls_rmse}')\n",
    "\n",
    "# End timer script\n",
    "end_time = dt.datetime.today()\n",
    "time_elapse = end_time - start_time\n",
    "print(f'End Time = {end_time}')\n",
    "print(f'Script Time = {time_elapse}')"
   ]
  },
  {
   "cell_type": "markdown",
   "id": "53acebec-c9ed-493c-aa07-9bff95120c63",
   "metadata": {
    "tags": []
   },
   "source": [
    "coef_intercept = np.hstack((m3v1_ls.best_estimator_.named_steps[\"ls\"].coef_,\n",
    "                            m3v1_ls.best_estimator_.named_steps[\"ls\"].intercept_))\n",
    "#print(coef_intercept)\n",
    "\n",
    "coef_intercept_df01 = pd.DataFrame(coef_intercept)\n",
    "#display(coef_intercept_df01)\n",
    "\n",
    "train_x01_col_names = list(train_x01.columns)\n",
    "train_x01_col_names.append('intercept')\n",
    "\n",
    "train_x01_col_names_df01 = pd.DataFrame(train_x01_col_names)\n",
    "#display(train_x01_col_names_df01)\n",
    "\n",
    "model_params = pd.concat([train_x01_col_names_df01, coef_intercept_df01], axis=1)\n",
    "display(model_params)"
   ]
  },
  {
   "cell_type": "markdown",
   "id": "9ae9c65c-0f30-4747-9628-fa48e1b17e63",
   "metadata": {},
   "source": [
    "### Lasso - Using `BayesSearchCV`"
   ]
  },
  {
   "cell_type": "code",
   "execution_count": 13,
   "id": "77e2c244-ed94-487d-9ef1-c76a5447e30c",
   "metadata": {
    "tags": []
   },
   "outputs": [
    {
     "name": "stdout",
     "output_type": "stream",
     "text": [
      "<sagemaker.sklearn.estimator.SKLearn object at 0x7f2db47ad9d0>\n"
     ]
    }
   ],
   "source": [
    "sklearn = SKLearn(entry_point=\"05_Modeling01_v3.py\",\n",
    "                  framework_version=\"0.20.0\",\n",
    "                  instance_type=\"ml.m5.xlarge\",\n",
    "                  image_uri_region=region,\n",
    "                  role=role)\n",
    "\n",
    "print(sklearn)"
   ]
  },
  {
   "cell_type": "code",
   "execution_count": 14,
   "id": "4c442a90-f09a-438e-949d-a4304ab5ed33",
   "metadata": {
    "tags": []
   },
   "outputs": [
    {
     "name": "stdout",
     "output_type": "stream",
     "text": [
      "s3://sagemaker-us-east-1-657724983756/team_8_data/modeling_data/training\n"
     ]
    }
   ],
   "source": [
    "print(s3_train_path)"
   ]
  },
  {
   "cell_type": "code",
   "execution_count": 15,
   "id": "107c8ed5-1723-4ade-ba98-1003064d9e99",
   "metadata": {
    "tags": []
   },
   "outputs": [
    {
     "ename": "NameError",
     "evalue": "name 'train_x01_s3_uri' is not defined",
     "output_type": "error",
     "traceback": [
      "\u001b[0;31m---------------------------------------------------------------------------\u001b[0m",
      "\u001b[0;31mNameError\u001b[0m                                 Traceback (most recent call last)",
      "\u001b[0;32m<ipython-input-15-1b8b06cf1e07>\u001b[0m in \u001b[0;36m<module>\u001b[0;34m\u001b[0m\n\u001b[0;32m----> 1\u001b[0;31m \u001b[0msklearn\u001b[0m\u001b[0;34m.\u001b[0m\u001b[0mfit\u001b[0m\u001b[0;34m(\u001b[0m\u001b[0;34m[\u001b[0m\u001b[0mtrain_x01_s3_uri\u001b[0m\u001b[0;34m,\u001b[0m \u001b[0mtrain_y01_s3_uri\u001b[0m\u001b[0;34m]\u001b[0m\u001b[0;34m)\u001b[0m\u001b[0;34m\u001b[0m\u001b[0;34m\u001b[0m\u001b[0m\n\u001b[0m",
      "\u001b[0;31mNameError\u001b[0m: name 'train_x01_s3_uri' is not defined"
     ]
    }
   ],
   "source": [
    "sklearn.fit([train_x01_s3_uri, train_y01_s3_uri])"
   ]
  },
  {
   "cell_type": "code",
   "execution_count": null,
   "id": "24814f5c-f7fc-4158-b9c0-491e6a2b559f",
   "metadata": {
    "tags": []
   },
   "outputs": [],
   "source": [
    "training_job_description = sklearn.jobs[-1].describe()\n",
    "model_data_s3_uri = f'{training_job_description[\"OutputDataConfig\"][\"S3OutputPath\"]}{training_job_description[\"TrainingJobName\"]}/{\"output/model.tar.gz\"}'\n",
    "print(training_job_description)\n",
    "print(model_data_s3_uri)"
   ]
  },
  {
   "cell_type": "code",
   "execution_count": null,
   "id": "02a6ed29-fa1b-4eb9-8f9f-ca7ddcc0d542",
   "metadata": {
    "scrolled": true
   },
   "outputs": [],
   "source": [
    "scikit_processing_job_name = processor.jobs[-1].describe()[\"ProcessingJobName\"]\n",
    "print(scikit_processing_job_name)"
   ]
  },
  {
   "cell_type": "code",
   "execution_count": null,
   "id": "255814dd-885b-4412-a222-d91618f24bdf",
   "metadata": {
    "scrolled": true
   },
   "outputs": [],
   "source": [
    "from IPython.core.display import display, HTML\n",
    "\n",
    "display(\n",
    "    HTML(\n",
    "        f'<b>Review <a target=\"blank\" href=\"https://console.aws.amazon.com/sagemaker/home?region={region}#/processing-jobs/{scikit_processing_job_name}\">Processing Job</a></b>'\n",
    "    )\n",
    ")"
   ]
  },
  {
   "cell_type": "code",
   "execution_count": null,
   "id": "3ee8a834-cd3d-4b03-8661-ea65dc474a39",
   "metadata": {
    "scrolled": true
   },
   "outputs": [],
   "source": [
    "from IPython.core.display import display, HTML\n",
    "\n",
    "display(\n",
    "    HTML(\n",
    "        f'<b>Review <a target=\"blank\" href=\"https://s3.console.aws.amazon.com/s3/buckets/{def_bucket}/{scikit_processing_job_name}/?region={region}&tab=overview\">S3 Output Data</a> After The Processing Job Has Completed</b>'\n",
    "    )\n",
    ")"
   ]
  },
  {
   "cell_type": "markdown",
   "id": "901a20da-d6ae-4d90-8f2b-2655dd85b9fc",
   "metadata": {},
   "source": [
    "# Monitor the Processing Job"
   ]
  },
  {
   "cell_type": "code",
   "execution_count": null,
   "id": "ef63aa1d-9fd6-4b9b-a718-b88c08209beb",
   "metadata": {
    "scrolled": true
   },
   "outputs": [],
   "source": [
    "running_processor = sagemaker.processing.ProcessingJob.from_processing_name(\n",
    "    processing_job_name=scikit_processing_job_name, sagemaker_session=sagemaker_session\n",
    ")\n",
    "\n",
    "processing_job_description = running_processor.describe()\n",
    "\n",
    "print(processing_job_description)"
   ]
  },
  {
   "cell_type": "code",
   "execution_count": null,
   "id": "b8274f77-4d6c-4ead-a3e2-d6b1e0022d05",
   "metadata": {
    "scrolled": true
   },
   "outputs": [],
   "source": [
    "running_processor.wait(logs=False)"
   ]
  },
  {
   "cell_type": "markdown",
   "id": "482e6e17-d3a7-49f4-bdb7-5550f10cfc2a",
   "metadata": {},
   "source": [
    "## Release Resources"
   ]
  },
  {
   "cell_type": "code",
   "execution_count": null,
   "id": "034b5c94-394b-4fac-aa24-880026e19549",
   "metadata": {},
   "outputs": [],
   "source": [
    "%%html\n",
    "\n",
    "<p><b>Shutting down your kernel for this notebook to release resources.</b></p>\n",
    "<button class=\"sm-command-button\" data-commandlinker-command=\"kernelmenu:shutdown\" style=\"display:none;\">Shutdown Kernel</button>\n",
    "        \n",
    "<script>\n",
    "try {\n",
    "    els = document.getElementsByClassName(\"sm-command-button\");\n",
    "    els[0].click();\n",
    "}\n",
    "catch(err) {\n",
    "    // NoOp\n",
    "}    \n",
    "</script>"
   ]
  },
  {
   "cell_type": "code",
   "execution_count": null,
   "id": "448d3322-a041-43ea-85da-0e347e3569da",
   "metadata": {
    "tags": []
   },
   "outputs": [],
   "source": [
    "%%javascript\n",
    "\n",
    "try {\n",
    "    Jupyter.notebook.save_checkpoint();\n",
    "    Jupyter.notebook.session.delete();\n",
    "}\n",
    "catch(err) {\n",
    "    // NoOp\n",
    "}"
   ]
  }
 ],
 "metadata": {
  "availableInstances": [
   {
    "_defaultOrder": 0,
    "_isFastLaunch": true,
    "category": "General purpose",
    "gpuNum": 0,
    "hideHardwareSpecs": false,
    "memoryGiB": 4,
    "name": "ml.t3.medium",
    "vcpuNum": 2
   },
   {
    "_defaultOrder": 1,
    "_isFastLaunch": false,
    "category": "General purpose",
    "gpuNum": 0,
    "hideHardwareSpecs": false,
    "memoryGiB": 8,
    "name": "ml.t3.large",
    "vcpuNum": 2
   },
   {
    "_defaultOrder": 2,
    "_isFastLaunch": false,
    "category": "General purpose",
    "gpuNum": 0,
    "hideHardwareSpecs": false,
    "memoryGiB": 16,
    "name": "ml.t3.xlarge",
    "vcpuNum": 4
   },
   {
    "_defaultOrder": 3,
    "_isFastLaunch": false,
    "category": "General purpose",
    "gpuNum": 0,
    "hideHardwareSpecs": false,
    "memoryGiB": 32,
    "name": "ml.t3.2xlarge",
    "vcpuNum": 8
   },
   {
    "_defaultOrder": 4,
    "_isFastLaunch": true,
    "category": "General purpose",
    "gpuNum": 0,
    "hideHardwareSpecs": false,
    "memoryGiB": 8,
    "name": "ml.m5.large",
    "vcpuNum": 2
   },
   {
    "_defaultOrder": 5,
    "_isFastLaunch": false,
    "category": "General purpose",
    "gpuNum": 0,
    "hideHardwareSpecs": false,
    "memoryGiB": 16,
    "name": "ml.m5.xlarge",
    "vcpuNum": 4
   },
   {
    "_defaultOrder": 6,
    "_isFastLaunch": false,
    "category": "General purpose",
    "gpuNum": 0,
    "hideHardwareSpecs": false,
    "memoryGiB": 32,
    "name": "ml.m5.2xlarge",
    "vcpuNum": 8
   },
   {
    "_defaultOrder": 7,
    "_isFastLaunch": false,
    "category": "General purpose",
    "gpuNum": 0,
    "hideHardwareSpecs": false,
    "memoryGiB": 64,
    "name": "ml.m5.4xlarge",
    "vcpuNum": 16
   },
   {
    "_defaultOrder": 8,
    "_isFastLaunch": false,
    "category": "General purpose",
    "gpuNum": 0,
    "hideHardwareSpecs": false,
    "memoryGiB": 128,
    "name": "ml.m5.8xlarge",
    "vcpuNum": 32
   },
   {
    "_defaultOrder": 9,
    "_isFastLaunch": false,
    "category": "General purpose",
    "gpuNum": 0,
    "hideHardwareSpecs": false,
    "memoryGiB": 192,
    "name": "ml.m5.12xlarge",
    "vcpuNum": 48
   },
   {
    "_defaultOrder": 10,
    "_isFastLaunch": false,
    "category": "General purpose",
    "gpuNum": 0,
    "hideHardwareSpecs": false,
    "memoryGiB": 256,
    "name": "ml.m5.16xlarge",
    "vcpuNum": 64
   },
   {
    "_defaultOrder": 11,
    "_isFastLaunch": false,
    "category": "General purpose",
    "gpuNum": 0,
    "hideHardwareSpecs": false,
    "memoryGiB": 384,
    "name": "ml.m5.24xlarge",
    "vcpuNum": 96
   },
   {
    "_defaultOrder": 12,
    "_isFastLaunch": false,
    "category": "General purpose",
    "gpuNum": 0,
    "hideHardwareSpecs": false,
    "memoryGiB": 8,
    "name": "ml.m5d.large",
    "vcpuNum": 2
   },
   {
    "_defaultOrder": 13,
    "_isFastLaunch": false,
    "category": "General purpose",
    "gpuNum": 0,
    "hideHardwareSpecs": false,
    "memoryGiB": 16,
    "name": "ml.m5d.xlarge",
    "vcpuNum": 4
   },
   {
    "_defaultOrder": 14,
    "_isFastLaunch": false,
    "category": "General purpose",
    "gpuNum": 0,
    "hideHardwareSpecs": false,
    "memoryGiB": 32,
    "name": "ml.m5d.2xlarge",
    "vcpuNum": 8
   },
   {
    "_defaultOrder": 15,
    "_isFastLaunch": false,
    "category": "General purpose",
    "gpuNum": 0,
    "hideHardwareSpecs": false,
    "memoryGiB": 64,
    "name": "ml.m5d.4xlarge",
    "vcpuNum": 16
   },
   {
    "_defaultOrder": 16,
    "_isFastLaunch": false,
    "category": "General purpose",
    "gpuNum": 0,
    "hideHardwareSpecs": false,
    "memoryGiB": 128,
    "name": "ml.m5d.8xlarge",
    "vcpuNum": 32
   },
   {
    "_defaultOrder": 17,
    "_isFastLaunch": false,
    "category": "General purpose",
    "gpuNum": 0,
    "hideHardwareSpecs": false,
    "memoryGiB": 192,
    "name": "ml.m5d.12xlarge",
    "vcpuNum": 48
   },
   {
    "_defaultOrder": 18,
    "_isFastLaunch": false,
    "category": "General purpose",
    "gpuNum": 0,
    "hideHardwareSpecs": false,
    "memoryGiB": 256,
    "name": "ml.m5d.16xlarge",
    "vcpuNum": 64
   },
   {
    "_defaultOrder": 19,
    "_isFastLaunch": false,
    "category": "General purpose",
    "gpuNum": 0,
    "hideHardwareSpecs": false,
    "memoryGiB": 384,
    "name": "ml.m5d.24xlarge",
    "vcpuNum": 96
   },
   {
    "_defaultOrder": 20,
    "_isFastLaunch": false,
    "category": "General purpose",
    "gpuNum": 0,
    "hideHardwareSpecs": true,
    "memoryGiB": 0,
    "name": "ml.geospatial.interactive",
    "supportedImageNames": [
     "sagemaker-geospatial-v1-0"
    ],
    "vcpuNum": 0
   },
   {
    "_defaultOrder": 21,
    "_isFastLaunch": true,
    "category": "Compute optimized",
    "gpuNum": 0,
    "hideHardwareSpecs": false,
    "memoryGiB": 4,
    "name": "ml.c5.large",
    "vcpuNum": 2
   },
   {
    "_defaultOrder": 22,
    "_isFastLaunch": false,
    "category": "Compute optimized",
    "gpuNum": 0,
    "hideHardwareSpecs": false,
    "memoryGiB": 8,
    "name": "ml.c5.xlarge",
    "vcpuNum": 4
   },
   {
    "_defaultOrder": 23,
    "_isFastLaunch": false,
    "category": "Compute optimized",
    "gpuNum": 0,
    "hideHardwareSpecs": false,
    "memoryGiB": 16,
    "name": "ml.c5.2xlarge",
    "vcpuNum": 8
   },
   {
    "_defaultOrder": 24,
    "_isFastLaunch": false,
    "category": "Compute optimized",
    "gpuNum": 0,
    "hideHardwareSpecs": false,
    "memoryGiB": 32,
    "name": "ml.c5.4xlarge",
    "vcpuNum": 16
   },
   {
    "_defaultOrder": 25,
    "_isFastLaunch": false,
    "category": "Compute optimized",
    "gpuNum": 0,
    "hideHardwareSpecs": false,
    "memoryGiB": 72,
    "name": "ml.c5.9xlarge",
    "vcpuNum": 36
   },
   {
    "_defaultOrder": 26,
    "_isFastLaunch": false,
    "category": "Compute optimized",
    "gpuNum": 0,
    "hideHardwareSpecs": false,
    "memoryGiB": 96,
    "name": "ml.c5.12xlarge",
    "vcpuNum": 48
   },
   {
    "_defaultOrder": 27,
    "_isFastLaunch": false,
    "category": "Compute optimized",
    "gpuNum": 0,
    "hideHardwareSpecs": false,
    "memoryGiB": 144,
    "name": "ml.c5.18xlarge",
    "vcpuNum": 72
   },
   {
    "_defaultOrder": 28,
    "_isFastLaunch": false,
    "category": "Compute optimized",
    "gpuNum": 0,
    "hideHardwareSpecs": false,
    "memoryGiB": 192,
    "name": "ml.c5.24xlarge",
    "vcpuNum": 96
   },
   {
    "_defaultOrder": 29,
    "_isFastLaunch": true,
    "category": "Accelerated computing",
    "gpuNum": 1,
    "hideHardwareSpecs": false,
    "memoryGiB": 16,
    "name": "ml.g4dn.xlarge",
    "vcpuNum": 4
   },
   {
    "_defaultOrder": 30,
    "_isFastLaunch": false,
    "category": "Accelerated computing",
    "gpuNum": 1,
    "hideHardwareSpecs": false,
    "memoryGiB": 32,
    "name": "ml.g4dn.2xlarge",
    "vcpuNum": 8
   },
   {
    "_defaultOrder": 31,
    "_isFastLaunch": false,
    "category": "Accelerated computing",
    "gpuNum": 1,
    "hideHardwareSpecs": false,
    "memoryGiB": 64,
    "name": "ml.g4dn.4xlarge",
    "vcpuNum": 16
   },
   {
    "_defaultOrder": 32,
    "_isFastLaunch": false,
    "category": "Accelerated computing",
    "gpuNum": 1,
    "hideHardwareSpecs": false,
    "memoryGiB": 128,
    "name": "ml.g4dn.8xlarge",
    "vcpuNum": 32
   },
   {
    "_defaultOrder": 33,
    "_isFastLaunch": false,
    "category": "Accelerated computing",
    "gpuNum": 4,
    "hideHardwareSpecs": false,
    "memoryGiB": 192,
    "name": "ml.g4dn.12xlarge",
    "vcpuNum": 48
   },
   {
    "_defaultOrder": 34,
    "_isFastLaunch": false,
    "category": "Accelerated computing",
    "gpuNum": 1,
    "hideHardwareSpecs": false,
    "memoryGiB": 256,
    "name": "ml.g4dn.16xlarge",
    "vcpuNum": 64
   },
   {
    "_defaultOrder": 35,
    "_isFastLaunch": false,
    "category": "Accelerated computing",
    "gpuNum": 1,
    "hideHardwareSpecs": false,
    "memoryGiB": 61,
    "name": "ml.p3.2xlarge",
    "vcpuNum": 8
   },
   {
    "_defaultOrder": 36,
    "_isFastLaunch": false,
    "category": "Accelerated computing",
    "gpuNum": 4,
    "hideHardwareSpecs": false,
    "memoryGiB": 244,
    "name": "ml.p3.8xlarge",
    "vcpuNum": 32
   },
   {
    "_defaultOrder": 37,
    "_isFastLaunch": false,
    "category": "Accelerated computing",
    "gpuNum": 8,
    "hideHardwareSpecs": false,
    "memoryGiB": 488,
    "name": "ml.p3.16xlarge",
    "vcpuNum": 64
   },
   {
    "_defaultOrder": 38,
    "_isFastLaunch": false,
    "category": "Accelerated computing",
    "gpuNum": 8,
    "hideHardwareSpecs": false,
    "memoryGiB": 768,
    "name": "ml.p3dn.24xlarge",
    "vcpuNum": 96
   },
   {
    "_defaultOrder": 39,
    "_isFastLaunch": false,
    "category": "Memory Optimized",
    "gpuNum": 0,
    "hideHardwareSpecs": false,
    "memoryGiB": 16,
    "name": "ml.r5.large",
    "vcpuNum": 2
   },
   {
    "_defaultOrder": 40,
    "_isFastLaunch": false,
    "category": "Memory Optimized",
    "gpuNum": 0,
    "hideHardwareSpecs": false,
    "memoryGiB": 32,
    "name": "ml.r5.xlarge",
    "vcpuNum": 4
   },
   {
    "_defaultOrder": 41,
    "_isFastLaunch": false,
    "category": "Memory Optimized",
    "gpuNum": 0,
    "hideHardwareSpecs": false,
    "memoryGiB": 64,
    "name": "ml.r5.2xlarge",
    "vcpuNum": 8
   },
   {
    "_defaultOrder": 42,
    "_isFastLaunch": false,
    "category": "Memory Optimized",
    "gpuNum": 0,
    "hideHardwareSpecs": false,
    "memoryGiB": 128,
    "name": "ml.r5.4xlarge",
    "vcpuNum": 16
   },
   {
    "_defaultOrder": 43,
    "_isFastLaunch": false,
    "category": "Memory Optimized",
    "gpuNum": 0,
    "hideHardwareSpecs": false,
    "memoryGiB": 256,
    "name": "ml.r5.8xlarge",
    "vcpuNum": 32
   },
   {
    "_defaultOrder": 44,
    "_isFastLaunch": false,
    "category": "Memory Optimized",
    "gpuNum": 0,
    "hideHardwareSpecs": false,
    "memoryGiB": 384,
    "name": "ml.r5.12xlarge",
    "vcpuNum": 48
   },
   {
    "_defaultOrder": 45,
    "_isFastLaunch": false,
    "category": "Memory Optimized",
    "gpuNum": 0,
    "hideHardwareSpecs": false,
    "memoryGiB": 512,
    "name": "ml.r5.16xlarge",
    "vcpuNum": 64
   },
   {
    "_defaultOrder": 46,
    "_isFastLaunch": false,
    "category": "Memory Optimized",
    "gpuNum": 0,
    "hideHardwareSpecs": false,
    "memoryGiB": 768,
    "name": "ml.r5.24xlarge",
    "vcpuNum": 96
   },
   {
    "_defaultOrder": 47,
    "_isFastLaunch": false,
    "category": "Accelerated computing",
    "gpuNum": 1,
    "hideHardwareSpecs": false,
    "memoryGiB": 16,
    "name": "ml.g5.xlarge",
    "vcpuNum": 4
   },
   {
    "_defaultOrder": 48,
    "_isFastLaunch": false,
    "category": "Accelerated computing",
    "gpuNum": 1,
    "hideHardwareSpecs": false,
    "memoryGiB": 32,
    "name": "ml.g5.2xlarge",
    "vcpuNum": 8
   },
   {
    "_defaultOrder": 49,
    "_isFastLaunch": false,
    "category": "Accelerated computing",
    "gpuNum": 1,
    "hideHardwareSpecs": false,
    "memoryGiB": 64,
    "name": "ml.g5.4xlarge",
    "vcpuNum": 16
   },
   {
    "_defaultOrder": 50,
    "_isFastLaunch": false,
    "category": "Accelerated computing",
    "gpuNum": 1,
    "hideHardwareSpecs": false,
    "memoryGiB": 128,
    "name": "ml.g5.8xlarge",
    "vcpuNum": 32
   },
   {
    "_defaultOrder": 51,
    "_isFastLaunch": false,
    "category": "Accelerated computing",
    "gpuNum": 1,
    "hideHardwareSpecs": false,
    "memoryGiB": 256,
    "name": "ml.g5.16xlarge",
    "vcpuNum": 64
   },
   {
    "_defaultOrder": 52,
    "_isFastLaunch": false,
    "category": "Accelerated computing",
    "gpuNum": 4,
    "hideHardwareSpecs": false,
    "memoryGiB": 192,
    "name": "ml.g5.12xlarge",
    "vcpuNum": 48
   },
   {
    "_defaultOrder": 53,
    "_isFastLaunch": false,
    "category": "Accelerated computing",
    "gpuNum": 4,
    "hideHardwareSpecs": false,
    "memoryGiB": 384,
    "name": "ml.g5.24xlarge",
    "vcpuNum": 96
   },
   {
    "_defaultOrder": 54,
    "_isFastLaunch": false,
    "category": "Accelerated computing",
    "gpuNum": 8,
    "hideHardwareSpecs": false,
    "memoryGiB": 768,
    "name": "ml.g5.48xlarge",
    "vcpuNum": 192
   }
  ],
  "instance_type": "ml.t3.medium",
  "kernelspec": {
   "display_name": "Python 3 (Data Science)",
   "language": "python",
   "name": "python3__SAGEMAKER_INTERNAL__arn:aws:sagemaker:us-east-1:081325390199:image/datascience-1.0"
  },
  "language_info": {
   "codemirror_mode": {
    "name": "ipython",
    "version": 3
   },
   "file_extension": ".py",
   "mimetype": "text/x-python",
   "name": "python",
   "nbconvert_exporter": "python",
   "pygments_lexer": "ipython3",
   "version": "3.7.10"
  }
 },
 "nbformat": 4,
 "nbformat_minor": 5
}
