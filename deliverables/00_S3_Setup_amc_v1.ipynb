{
 "cells": [
  {
   "cell_type": "markdown",
   "id": "a406a9cc-f539-4fc8-ac94-6964d066545e",
   "metadata": {},
   "source": [
    "# ADS-508-01-SP23 Team 8: Final Project"
   ]
  },
  {
   "cell_type": "markdown",
   "id": "4d3b8db0-6910-4d3d-a870-fec468b57912",
   "metadata": {},
   "source": [
    "Much of the code is modified from `Fregly, C., & Barth, A. (2021). Data science on AWS: Implementing end-to-end, continuous AI and machine learning pipelines. O’Reilly.`"
   ]
  },
  {
   "cell_type": "markdown",
   "id": "4d04427e-2c8f-4b36-97d0-65e28951db9f",
   "metadata": {},
   "source": [
    "# Import PyAthena\n",
    "\n",
    "[PyAthena](https://pypi.org/project/PyAthena/) is a Python DB API 2.0 (PEP 249) compliant client for Amazon Athena."
   ]
  },
  {
   "cell_type": "code",
   "execution_count": 1,
   "id": "189f41f2-460c-40df-a1d5-b7a39783149d",
   "metadata": {},
   "outputs": [
    {
     "name": "stdout",
     "output_type": "stream",
     "text": [
      "\u001b[33mWARNING: Running pip as the 'root' user can result in broken permissions and conflicting behaviour with the system package manager. It is recommended to use a virtual environment instead: https://pip.pypa.io/warnings/venv\u001b[0m\u001b[33m\n",
      "\u001b[0m"
     ]
    }
   ],
   "source": [
    "!pip install --disable-pip-version-check -q PyAthena==2.1.0"
   ]
  },
  {
   "cell_type": "code",
   "execution_count": 2,
   "id": "c1264efc-72eb-45b3-9311-6ff9a787a26b",
   "metadata": {},
   "outputs": [],
   "source": [
    "import boto3\n",
    "from botocore.client import ClientError\n",
    "import sagemaker\n",
    "import pandas as pd\n",
    "from pyathena import connect"
   ]
  },
  {
   "cell_type": "code",
   "execution_count": 3,
   "id": "6c4ef463-dd80-4d28-9a1f-09f5261fca85",
   "metadata": {},
   "outputs": [],
   "source": [
    "session = boto3.session.Session()\n",
    "region = session.region_name\n",
    "sagemaker_session = sagemaker.Session()\n",
    "def_bucket = sagemaker_session.default_bucket()\n",
    "bucket = 'sagemaker-us-east-ads508-sp23-t8'\n",
    "\n",
    "s3 = boto3.Session().client(service_name=\"s3\", region_name=region)"
   ]
  },
  {
   "cell_type": "code",
   "execution_count": 4,
   "id": "580594ea-994e-4fcf-987a-2ddb722c4237",
   "metadata": {},
   "outputs": [],
   "source": [
    "setup_s3_bucket_passed = False\n",
    "ingest_create_athena_db_passed = False\n",
    "ingest_create_athena_table_tsv_passed = False"
   ]
  },
  {
   "cell_type": "code",
   "execution_count": 5,
   "id": "59fe83df-3b8d-4120-ae9a-221497980a76",
   "metadata": {},
   "outputs": [
    {
     "name": "stdout",
     "output_type": "stream",
     "text": [
      "Default bucket: sagemaker-us-east-1-657724983756\n",
      "Public T8 bucket: sagemaker-us-east-ads508-sp23-t8\n"
     ]
    }
   ],
   "source": [
    "print(f\"Default bucket: {def_bucket}\")\n",
    "print(f\"Public T8 bucket: {bucket}\")"
   ]
  },
  {
   "cell_type": "markdown",
   "id": "aae823a2-4c36-4d81-a2fb-496557565c0b",
   "metadata": {},
   "source": [
    "# Verify S3_BUCKET Bucket Creation"
   ]
  },
  {
   "cell_type": "code",
   "execution_count": 6,
   "id": "7c67927d-c9e0-4b49-8b94-3fa999e09586",
   "metadata": {},
   "outputs": [
    {
     "name": "stdout",
     "output_type": "stream",
     "text": [
      "2023-03-16 17:05:02 aws-athena-query-results-657724983756-us-east-1\n",
      "2023-03-02 16:56:48 sagemaker-studio-657724983756-5nh7ydsouq7\n",
      "2023-03-02 17:25:41 sagemaker-studio-657724983756-7yc8bp8xk0b\n",
      "2023-03-02 17:01:51 sagemaker-us-east-1-657724983756\n",
      "2023-03-17 05:19:31 sagemaker-us-east-ads508-sp23-t8\n"
     ]
    }
   ],
   "source": [
    "%%bash\n",
    "\n",
    "aws s3 ls s3://${bucket}/"
   ]
  },
  {
   "cell_type": "code",
   "execution_count": 7,
   "id": "e38a0299-5e04-4dd4-ada1-9cfd9de9caf2",
   "metadata": {},
   "outputs": [
    {
     "name": "stdout",
     "output_type": "stream",
     "text": [
      "{'ResponseMetadata': {'RequestId': 'Z03JAW8B657MYYZ8', 'HostId': '3AYSWSLAruekdXWawFp9Hc2MNIvv+4uNRmxByTGx+cXa7blTh8Dd3cdh/Z2YXNT9XVnFfIQBZDQ=', 'HTTPStatusCode': 200, 'HTTPHeaders': {'x-amz-id-2': '3AYSWSLAruekdXWawFp9Hc2MNIvv+4uNRmxByTGx+cXa7blTh8Dd3cdh/Z2YXNT9XVnFfIQBZDQ=', 'x-amz-request-id': 'Z03JAW8B657MYYZ8', 'date': 'Sat, 18 Mar 2023 18:50:31 GMT', 'x-amz-bucket-region': 'us-east-1', 'x-amz-access-point-alias': 'false', 'content-type': 'application/xml', 'server': 'AmazonS3'}, 'RetryAttempts': 0}}\n"
     ]
    }
   ],
   "source": [
    "response = None\n",
    "\n",
    "try:\n",
    "    response = s3.head_bucket(Bucket=bucket)\n",
    "    print(response)\n",
    "    setup_s3_bucket_passed = True\n",
    "except ClientError as e:\n",
    "    print(f\"[ERROR] Cannot find bucket {bucket} in {response} due to {e}.\")"
   ]
  },
  {
   "cell_type": "code",
   "execution_count": 8,
   "id": "58668029-ed3a-478a-9c90-01f6db041edb",
   "metadata": {},
   "outputs": [
    {
     "name": "stdout",
     "output_type": "stream",
     "text": [
      "Stored 'setup_s3_bucket_passed' (bool)\n"
     ]
    }
   ],
   "source": [
    "%store setup_s3_bucket_passed"
   ]
  },
  {
   "cell_type": "markdown",
   "id": "76e4c84a-fcd9-4ba3-a750-ee67cebc29e8",
   "metadata": {},
   "source": [
    "# Create Athena Database"
   ]
  },
  {
   "cell_type": "code",
   "execution_count": 9,
   "id": "dd99eeab-b1c0-4d1b-930f-78006e06d42d",
   "metadata": {},
   "outputs": [],
   "source": [
    "database_name = \"ads508_t8\""
   ]
  },
  {
   "cell_type": "markdown",
   "id": "05a40197-8843-4515-ae66-d50ec8f53402",
   "metadata": {},
   "source": [
    "Note: The databases and tables that we create in Athena use a data catalog service to store the metadata of your data. For example, schema information consisting of the column names and data type of each column in a table, together with the table name, is saved as metadata information in a data catalog. \n",
    "\n",
    "Athena natively supports the AWS Glue Data Catalog service. When we run `CREATE DATABASE` and `CREATE TABLE` queries in Athena with the AWS Glue Data Catalog as our source, we automatically see the database and table metadata entries being created in the AWS Glue Data Catalog."
   ]
  },
  {
   "cell_type": "code",
   "execution_count": 10,
   "id": "3c4ba780-9ea7-4a9a-a87a-d4aabca741df",
   "metadata": {},
   "outputs": [
    {
     "name": "stdout",
     "output_type": "stream",
     "text": [
      "s3://sagemaker-us-east-ads508-sp23-t8/raw_data/grad_outcomes\n"
     ]
    }
   ],
   "source": [
    "# Set S3 staging directory -- this is a temporary directory used for Athena queries\n",
    "s3_staging_dir = f\"s3://{bucket}/athena/staging\"\n",
    "s3_raw_data_path = f\"s3://{bucket}/raw_data/grad_outcomes\"\n",
    "print(s3_raw_data_path)\n",
    "s3_db_tbls_dir = f\"s3://{bucket}/athena/db_tbls\""
   ]
  },
  {
   "cell_type": "code",
   "execution_count": 11,
   "id": "bd3f1870-bb61-4c23-a772-554578d4e84e",
   "metadata": {},
   "outputs": [],
   "source": [
    "conn = connect(region_name=region,\n",
    "               s3_staging_dir=s3_staging_dir)"
   ]
  },
  {
   "cell_type": "code",
   "execution_count": 12,
   "id": "6dff8eba-14b7-4114-baea-bdddb7eb33b4",
   "metadata": {},
   "outputs": [
    {
     "name": "stdout",
     "output_type": "stream",
     "text": [
      "CREATE DATABASE IF NOT EXISTS ads508_t8\n"
     ]
    }
   ],
   "source": [
    "create_db_stmnt = f\"CREATE DATABASE IF NOT EXISTS {database_name}\"\n",
    "print(create_db_stmnt)"
   ]
  },
  {
   "cell_type": "code",
   "execution_count": 13,
   "id": "26539f46-0f5d-438a-bec2-33ef507bf86b",
   "metadata": {},
   "outputs": [
    {
     "data": {
      "text/html": [
       "<div>\n",
       "<style scoped>\n",
       "    .dataframe tbody tr th:only-of-type {\n",
       "        vertical-align: middle;\n",
       "    }\n",
       "\n",
       "    .dataframe tbody tr th {\n",
       "        vertical-align: top;\n",
       "    }\n",
       "\n",
       "    .dataframe thead th {\n",
       "        text-align: right;\n",
       "    }\n",
       "</style>\n",
       "<table border=\"1\" class=\"dataframe\">\n",
       "  <thead>\n",
       "    <tr style=\"text-align: right;\">\n",
       "      <th></th>\n",
       "    </tr>\n",
       "  </thead>\n",
       "  <tbody>\n",
       "  </tbody>\n",
       "</table>\n",
       "</div>"
      ],
      "text/plain": [
       "Empty DataFrame\n",
       "Columns: []\n",
       "Index: []"
      ]
     },
     "execution_count": 13,
     "metadata": {},
     "output_type": "execute_result"
    }
   ],
   "source": [
    "pd.read_sql(create_db_stmnt,\n",
    "            conn)"
   ]
  },
  {
   "cell_type": "markdown",
   "id": "5a137327-0065-4ef4-8db8-c74ac225a649",
   "metadata": {},
   "source": [
    "# Verify The Database Has Been Created Succesfully"
   ]
  },
  {
   "cell_type": "code",
   "execution_count": 14,
   "id": "d79bd75e-3cdd-424a-9987-b36ef1224de5",
   "metadata": {},
   "outputs": [
    {
     "data": {
      "text/html": [
       "<div>\n",
       "<style scoped>\n",
       "    .dataframe tbody tr th:only-of-type {\n",
       "        vertical-align: middle;\n",
       "    }\n",
       "\n",
       "    .dataframe tbody tr th {\n",
       "        vertical-align: top;\n",
       "    }\n",
       "\n",
       "    .dataframe thead th {\n",
       "        text-align: right;\n",
       "    }\n",
       "</style>\n",
       "<table border=\"1\" class=\"dataframe\">\n",
       "  <thead>\n",
       "    <tr style=\"text-align: right;\">\n",
       "      <th></th>\n",
       "      <th>database_name</th>\n",
       "    </tr>\n",
       "  </thead>\n",
       "  <tbody>\n",
       "    <tr>\n",
       "      <th>0</th>\n",
       "      <td>ads508_t8</td>\n",
       "    </tr>\n",
       "    <tr>\n",
       "      <th>1</th>\n",
       "      <td>default</td>\n",
       "    </tr>\n",
       "    <tr>\n",
       "      <th>2</th>\n",
       "      <td>dsoaws</td>\n",
       "    </tr>\n",
       "  </tbody>\n",
       "</table>\n",
       "</div>"
      ],
      "text/plain": [
       "  database_name\n",
       "0     ads508_t8\n",
       "1       default\n",
       "2        dsoaws"
      ]
     },
     "execution_count": 14,
     "metadata": {},
     "output_type": "execute_result"
    }
   ],
   "source": [
    "show_db_stmnt = \"SHOW DATABASES\"\n",
    "\n",
    "df_show = pd.read_sql(show_db_stmnt,\n",
    "                      conn)\n",
    "df_show.head(5)"
   ]
  },
  {
   "cell_type": "code",
   "execution_count": 15,
   "id": "ebbde0c0-1fbd-45d2-be0d-9196ceb9f0c3",
   "metadata": {},
   "outputs": [],
   "source": [
    "if database_name in df_show.values:\n",
    "    ingest_create_athena_db_passed = True"
   ]
  },
  {
   "cell_type": "code",
   "execution_count": 16,
   "id": "ef5ac3ab-1499-4fc5-b976-fd15db46563a",
   "metadata": {},
   "outputs": [
    {
     "name": "stdout",
     "output_type": "stream",
     "text": [
      "Stored 'ingest_create_athena_db_passed' (bool)\n"
     ]
    }
   ],
   "source": [
    "%store ingest_create_athena_db_passed"
   ]
  },
  {
   "cell_type": "markdown",
   "id": "873aa13d-5942-4ea2-b370-872a3d63fb97",
   "metadata": {},
   "source": [
    "# Define function to create tables in existing database"
   ]
  },
  {
   "cell_type": "code",
   "execution_count": 18,
   "id": "0bf3a85b-8e58-4341-8ec7-67f5d2c45fbd",
   "metadata": {},
   "outputs": [],
   "source": [
    "def create_athena_tbl_tsv(conn=None,\n",
    "                          db=None,\n",
    "                          tbl_name=None,\n",
    "                          fields='',\n",
    "                          s3_path=None,\n",
    "                          comp='',\n",
    "                          skip=''):\n",
    "    # Set Athena parameters\n",
    "\n",
    "    # SQL statement to execute\n",
    "    drop_tbl_stmnt = f\"\"\"DROP TABLE IF EXISTS {db}.{tbl_name}\"\"\"\n",
    "\n",
    "    create_tbl_stmnt = f\"\"\"\n",
    "    CREATE EXTERNAL TABLE IF NOT EXISTS {db}.{tbl_name}({fields})\n",
    "    ROW FORMAT DELIMITED FIELDS TERMINATED BY '\\\\t' LINES TERMINATED BY '\\\\n' LOCATION '{s3_path}'\n",
    "    TBLPROPERTIES ({comp}{skip})\"\"\"\n",
    "\n",
    "    print(f'Create table statement:\\n{create_tbl_stmnt}')\n",
    "\n",
    "    pd.read_sql(drop_tbl_stmnt,\n",
    "                conn)\n",
    "\n",
    "    pd.read_sql(create_tbl_stmnt,\n",
    "                conn)\n",
    "    \n",
    "    # Verify The Table Has Been Created Succesfully\n",
    "    show_tbl_stmnt = f\"SHOW TABLES in {db}\"\n",
    "\n",
    "    df_show = pd.read_sql(show_tbl_stmnt,\n",
    "                          conn)\n",
    "    print(df_show.head(5))\n",
    "\n",
    "    if tbl_name in df_show.values:\n",
    "        ingest_create_athena_table_tsv_passed = True\n",
    "\n",
    "    print(f'\\nDataframe contains records: {ingest_create_athena_table_tsv_passed}')"
   ]
  },
  {
   "cell_type": "markdown",
   "id": "9e3ba5bb-25e8-4a7a-b6d8-b4448c739f17",
   "metadata": {},
   "source": [
    "# Create Athena Table from Local TSV File - `grad_outcomes`"
   ]
  },
  {
   "cell_type": "markdown",
   "id": "501a04b4-7da5-4ed3-a302-29345e0982d8",
   "metadata": {},
   "source": [
    "#### Dataset columns\n",
    "\n",
    "- `demographic`: ,\n",
    "- `dbn`: ,\n",
    "- `school_name`: ,\n",
    "- `cohort`: ,\n",
    "- `total_cohort`: ,\n",
    "- `total_grads_n`: ,\n",
    "- `total_grads_perc_cohort`: ,\n",
    "- `total_regents_n`: ,\n",
    "- `total_regents_perc_cohort`: ,\n",
    "- `total_regents_perc_grads`: ,\n",
    "- `advanced_regents_n`: ,\n",
    "- `advanced_regents_perc_cohort`: ,\n",
    "- `advanced_regents_perc_grads`: ,\n",
    "- `regents_wo_advanced_n`: ,\n",
    "- `regents_wo_advanced_perc_cohort`: ,\n",
    "- `regents_wo_advanced_perc_grads`: ,\n",
    "- `local_n`: ,\n",
    "- `local_perc_cohort`: ,\n",
    "- `local_perc_grads`: ,\n",
    "- `still_enrolled_n`: ,\n",
    "- `still_enrolled_perc_cohort`: ,\n",
    "- `dropped_out_n`: ,\n",
    "- `dropped_out_perc_cohort`: \n"
   ]
  },
  {
   "cell_type": "code",
   "execution_count": 19,
   "id": "05865698-0e7a-4217-bc74-364b669bcf8d",
   "metadata": {},
   "outputs": [
    {
     "name": "stdout",
     "output_type": "stream",
     "text": [
      "Create table statement:\n",
      "\n",
      "    CREATE EXTERNAL TABLE IF NOT EXISTS ads508_t8.grad_outcomes(zdemographic string,\n",
      "    dbn string,\n",
      "    school_name string,\n",
      "    cohort string,\n",
      "    total_cohort string,\n",
      "    total_grads_n string,\n",
      "    total_grads_perc_cohort string,\n",
      "    total_regents_n string,\n",
      "    total_regents_perc_cohort string,\n",
      "    total_regents_perc_grads string,\n",
      "    advanced_regents_n string,\n",
      "    advanced_regents_perc_cohort string,\n",
      "    advanced_regents_perc_grads string,\n",
      "    regents_wo_advanced_n string,\n",
      "    regents_wo_advanced_perc_cohort string,\n",
      "    regents_wo_advanced_perc_grads string,\n",
      "    local_n string,\n",
      "    local_perc_cohort string,\n",
      "    local_perc_grads string,\n",
      "    still_enrolled_n string,\n",
      "    still_enrolled_perc_cohort string,\n",
      "    dropped_out_n string,\n",
      "    dropped_out_perc_cohort string)\n",
      "    ROW FORMAT DELIMITED FIELDS TERMINATED BY '\\t' LINES TERMINATED BY '\\n' LOCATION 's3://sagemaker-us-east-ads508-sp23-t8/raw_data/grad_outcomes'\n",
      "    TBLPROPERTIES ('skip.header.line.count'='1')\n",
      "        tab_name\n",
      "0  grad_outcomes\n",
      "\n",
      "Dataframe contains records: True\n"
     ]
    }
   ],
   "source": [
    "table_name_grad_outcomes = 'grad_outcomes'\n",
    "field_list_grad_outcomes = \"\"\"\n",
    "demographic string,\n",
    "dbn string,\n",
    "school_name string,\n",
    "cohort string,\n",
    "total_cohort string,\n",
    "total_grads_n string,\n",
    "total_grads_perc_cohort string,\n",
    "total_regents_n string,\n",
    "total_regents_perc_cohort string,\n",
    "total_regents_perc_grads string,\n",
    "advanced_regents_n string,\n",
    "advanced_regents_perc_cohort string,\n",
    "advanced_regents_perc_grads string,\n",
    "regents_wo_advanced_n string,\n",
    "regents_wo_advanced_perc_cohort string,\n",
    "regents_wo_advanced_perc_grads string,\n",
    "local_n string,\n",
    "local_perc_cohort string,\n",
    "local_perc_grads string,\n",
    "still_enrolled_n string,\n",
    "still_enrolled_perc_cohort string,\n",
    "dropped_out_n string,\n",
    "dropped_out_perc_cohort string\n",
    "\"\"\"\n",
    "\n",
    "create_athena_tbl_tsv(conn=conn,\n",
    "                      db=database_name,\n",
    "                      tbl_name=table_name_grad_outcomes,\n",
    "                      fields=field_list_grad_outcomes,\n",
    "                      s3_path=s3_raw_data_path,\n",
    "                      comp='',\n",
    "                      skip=\"'skip.header.line.count'='1'\")"
   ]
  },
  {
   "cell_type": "markdown",
   "id": "c5d90b5d-13b0-434c-a485-75ddbcf3deed",
   "metadata": {},
   "source": [
    "# Run A Sample Query"
   ]
  },
  {
   "cell_type": "code",
   "execution_count": 20,
   "id": "a0ccf7fe-c396-4d0b-bc29-12df4436aa7d",
   "metadata": {
    "tags": []
   },
   "outputs": [
    {
     "name": "stdout",
     "output_type": "stream",
     "text": [
      "SELECT * FROM ads508_t8.grad_outcomes\n",
      "WHERE dbn = '01M448' LIMIT 20\n"
     ]
    }
   ],
   "source": [
    "dbn_01M292 = \"01M448\"\n",
    "\n",
    "statement = f\"\"\"SELECT * FROM {database_name}.{table_name_grad_outcomes}\n",
    "WHERE dbn = '{dbn_01M292}' LIMIT 20\"\"\"\n",
    "\n",
    "print(statement)"
   ]
  },
  {
   "cell_type": "code",
   "execution_count": 21,
   "id": "64b2be71-cda3-435e-89dc-a4204b29c719",
   "metadata": {
    "tags": []
   },
   "outputs": [
    {
     "data": {
      "text/html": [
       "<div>\n",
       "<style scoped>\n",
       "    .dataframe tbody tr th:only-of-type {\n",
       "        vertical-align: middle;\n",
       "    }\n",
       "\n",
       "    .dataframe tbody tr th {\n",
       "        vertical-align: top;\n",
       "    }\n",
       "\n",
       "    .dataframe thead th {\n",
       "        text-align: right;\n",
       "    }\n",
       "</style>\n",
       "<table border=\"1\" class=\"dataframe\">\n",
       "  <thead>\n",
       "    <tr style=\"text-align: right;\">\n",
       "      <th></th>\n",
       "      <th>zdemographic</th>\n",
       "      <th>dbn</th>\n",
       "      <th>school_name</th>\n",
       "      <th>cohort</th>\n",
       "      <th>total_cohort</th>\n",
       "      <th>total_grads_n</th>\n",
       "      <th>total_grads_perc_cohort</th>\n",
       "      <th>total_regents_n</th>\n",
       "      <th>total_regents_perc_cohort</th>\n",
       "      <th>total_regents_perc_grads</th>\n",
       "      <th>...</th>\n",
       "      <th>regents_wo_advanced_n</th>\n",
       "      <th>regents_wo_advanced_perc_cohort</th>\n",
       "      <th>regents_wo_advanced_perc_grads</th>\n",
       "      <th>local_n</th>\n",
       "      <th>local_perc_cohort</th>\n",
       "      <th>local_perc_grads</th>\n",
       "      <th>still_enrolled_n</th>\n",
       "      <th>still_enrolled_perc_cohort</th>\n",
       "      <th>dropped_out_n</th>\n",
       "      <th>dropped_out_perc_cohort</th>\n",
       "    </tr>\n",
       "  </thead>\n",
       "  <tbody>\n",
       "    <tr>\n",
       "      <th>0</th>\n",
       "      <td>Total Cohort</td>\n",
       "      <td>01M448</td>\n",
       "      <td>UNIVERSITY NEIGHBORHOOD HIGH SCHOOL</td>\n",
       "      <td>2001</td>\n",
       "      <td>64</td>\n",
       "      <td>46</td>\n",
       "      <td>71.900000000000006</td>\n",
       "      <td>32</td>\n",
       "      <td>50</td>\n",
       "      <td>69.599999999999994</td>\n",
       "      <td>...</td>\n",
       "      <td>25</td>\n",
       "      <td>39.1</td>\n",
       "      <td>54.3</td>\n",
       "      <td>14</td>\n",
       "      <td>21.9</td>\n",
       "      <td>30.4</td>\n",
       "      <td>10</td>\n",
       "      <td>15.6</td>\n",
       "      <td>6</td>\n",
       "      <td>9.4</td>\n",
       "    </tr>\n",
       "    <tr>\n",
       "      <th>1</th>\n",
       "      <td>Total Cohort</td>\n",
       "      <td>01M448</td>\n",
       "      <td>UNIVERSITY NEIGHBORHOOD HIGH SCHOOL</td>\n",
       "      <td>2002</td>\n",
       "      <td>52</td>\n",
       "      <td>33</td>\n",
       "      <td>63.5</td>\n",
       "      <td>19</td>\n",
       "      <td>36.5</td>\n",
       "      <td>57.6</td>\n",
       "      <td>...</td>\n",
       "      <td>11</td>\n",
       "      <td>21.2</td>\n",
       "      <td>33.299999999999997</td>\n",
       "      <td>14</td>\n",
       "      <td>26.9</td>\n",
       "      <td>42.4</td>\n",
       "      <td>16</td>\n",
       "      <td>30.8</td>\n",
       "      <td>1</td>\n",
       "      <td>1.9</td>\n",
       "    </tr>\n",
       "    <tr>\n",
       "      <th>2</th>\n",
       "      <td>Total Cohort</td>\n",
       "      <td>01M448</td>\n",
       "      <td>UNIVERSITY NEIGHBORHOOD HIGH SCHOOL</td>\n",
       "      <td>2003</td>\n",
       "      <td>87</td>\n",
       "      <td>67</td>\n",
       "      <td>77</td>\n",
       "      <td>39</td>\n",
       "      <td>44.8</td>\n",
       "      <td>58.2</td>\n",
       "      <td>...</td>\n",
       "      <td>28</td>\n",
       "      <td>32.200000000000003</td>\n",
       "      <td>41.8</td>\n",
       "      <td>28</td>\n",
       "      <td>32.200000000000003</td>\n",
       "      <td>41.8</td>\n",
       "      <td>9</td>\n",
       "      <td>10.3</td>\n",
       "      <td>11</td>\n",
       "      <td>12.6</td>\n",
       "    </tr>\n",
       "    <tr>\n",
       "      <th>3</th>\n",
       "      <td>Total Cohort</td>\n",
       "      <td>01M448</td>\n",
       "      <td>UNIVERSITY NEIGHBORHOOD HIGH SCHOOL</td>\n",
       "      <td>2004</td>\n",
       "      <td>112</td>\n",
       "      <td>75</td>\n",
       "      <td>67</td>\n",
       "      <td>36</td>\n",
       "      <td>32.1</td>\n",
       "      <td>48</td>\n",
       "      <td>...</td>\n",
       "      <td>30</td>\n",
       "      <td>26.8</td>\n",
       "      <td>40</td>\n",
       "      <td>39</td>\n",
       "      <td>34.799999999999997</td>\n",
       "      <td>52</td>\n",
       "      <td>33</td>\n",
       "      <td>29.5</td>\n",
       "      <td>4</td>\n",
       "      <td>3.6</td>\n",
       "    </tr>\n",
       "    <tr>\n",
       "      <th>4</th>\n",
       "      <td>Total Cohort</td>\n",
       "      <td>01M448</td>\n",
       "      <td>UNIVERSITY NEIGHBORHOOD HIGH SCHOOL</td>\n",
       "      <td>2005</td>\n",
       "      <td>121</td>\n",
       "      <td>64</td>\n",
       "      <td>52.9</td>\n",
       "      <td>35</td>\n",
       "      <td>28.9</td>\n",
       "      <td>54.7</td>\n",
       "      <td>...</td>\n",
       "      <td>31</td>\n",
       "      <td>25.6</td>\n",
       "      <td>48.4</td>\n",
       "      <td>29</td>\n",
       "      <td>24</td>\n",
       "      <td>45.3</td>\n",
       "      <td>41</td>\n",
       "      <td>33.9</td>\n",
       "      <td>11</td>\n",
       "      <td>9.1</td>\n",
       "    </tr>\n",
       "  </tbody>\n",
       "</table>\n",
       "<p>5 rows × 23 columns</p>\n",
       "</div>"
      ],
      "text/plain": [
       "   zdemographic     dbn                          school_name cohort  \\\n",
       "0  Total Cohort  01M448  UNIVERSITY NEIGHBORHOOD HIGH SCHOOL   2001   \n",
       "1  Total Cohort  01M448  UNIVERSITY NEIGHBORHOOD HIGH SCHOOL   2002   \n",
       "2  Total Cohort  01M448  UNIVERSITY NEIGHBORHOOD HIGH SCHOOL   2003   \n",
       "3  Total Cohort  01M448  UNIVERSITY NEIGHBORHOOD HIGH SCHOOL   2004   \n",
       "4  Total Cohort  01M448  UNIVERSITY NEIGHBORHOOD HIGH SCHOOL   2005   \n",
       "\n",
       "  total_cohort total_grads_n total_grads_perc_cohort total_regents_n  \\\n",
       "0           64            46      71.900000000000006              32   \n",
       "1           52            33                    63.5              19   \n",
       "2           87            67                      77              39   \n",
       "3          112            75                      67              36   \n",
       "4          121            64                    52.9              35   \n",
       "\n",
       "  total_regents_perc_cohort total_regents_perc_grads  ...  \\\n",
       "0                        50       69.599999999999994  ...   \n",
       "1                      36.5                     57.6  ...   \n",
       "2                      44.8                     58.2  ...   \n",
       "3                      32.1                       48  ...   \n",
       "4                      28.9                     54.7  ...   \n",
       "\n",
       "  regents_wo_advanced_n regents_wo_advanced_perc_cohort  \\\n",
       "0                    25                            39.1   \n",
       "1                    11                            21.2   \n",
       "2                    28              32.200000000000003   \n",
       "3                    30                            26.8   \n",
       "4                    31                            25.6   \n",
       "\n",
       "  regents_wo_advanced_perc_grads local_n   local_perc_cohort local_perc_grads  \\\n",
       "0                           54.3      14                21.9             30.4   \n",
       "1             33.299999999999997      14                26.9             42.4   \n",
       "2                           41.8      28  32.200000000000003             41.8   \n",
       "3                             40      39  34.799999999999997               52   \n",
       "4                           48.4      29                  24             45.3   \n",
       "\n",
       "  still_enrolled_n still_enrolled_perc_cohort dropped_out_n  \\\n",
       "0               10                       15.6             6   \n",
       "1               16                       30.8             1   \n",
       "2                9                       10.3            11   \n",
       "3               33                       29.5             4   \n",
       "4               41                       33.9            11   \n",
       "\n",
       "  dropped_out_perc_cohort  \n",
       "0                     9.4  \n",
       "1                     1.9  \n",
       "2                    12.6  \n",
       "3                     3.6  \n",
       "4                     9.1  \n",
       "\n",
       "[5 rows x 23 columns]"
      ]
     },
     "execution_count": 21,
     "metadata": {},
     "output_type": "execute_result"
    }
   ],
   "source": [
    "df = pd.read_sql(statement,\n",
    "                 conn)\n",
    "df.head(5)"
   ]
  },
  {
   "cell_type": "code",
   "execution_count": 22,
   "id": "336a8566-d0c2-47f9-9aa8-8b6821384697",
   "metadata": {
    "tags": []
   },
   "outputs": [
    {
     "name": "stdout",
     "output_type": "stream",
     "text": [
      "[OK]\n"
     ]
    }
   ],
   "source": [
    "if not df.empty:\n",
    "    print(\"[OK]\")\n",
    "else:\n",
    "    print(\"++++++++++++++++++++++++++++++++++++++++++++++++++++++\")\n",
    "    print(\"[ERROR] YOUR DATA HAS NOT BEEN REGISTERED WITH ATHENA. LOOK IN PREVIOUS CELLS TO FIND THE ISSUE.\")\n",
    "    print(\"++++++++++++++++++++++++++++++++++++++++++++++++++++++\")"
   ]
  },
  {
   "cell_type": "markdown",
   "id": "5cefbcd0-adad-4dd8-8887-dc7dacbc9023",
   "metadata": {},
   "source": [
    "# Review the New Athena Table in the Glue Catalog"
   ]
  },
  {
   "cell_type": "code",
   "execution_count": 23,
   "id": "f7381477-5eef-408c-b0cd-a69d4da1197c",
   "metadata": {},
   "outputs": [
    {
     "data": {
      "text/html": [
       "<b>Review <a target=\"top\" href=\"https://console.aws.amazon.com/glue/home?region=us-east-1#\">AWS Glue Catalog</a></b>"
      ],
      "text/plain": [
       "<IPython.core.display.HTML object>"
      ]
     },
     "metadata": {},
     "output_type": "display_data"
    }
   ],
   "source": [
    "from IPython.core.display import display, HTML\n",
    "\n",
    "display(\n",
    "    HTML(\n",
    "        '<b>Review <a target=\"top\" href=\"https://console.aws.amazon.com/glue/home?region={}#\">AWS Glue Catalog</a></b>'.format(\n",
    "            region\n",
    "        )\n",
    "    )\n",
    ")"
   ]
  },
  {
   "cell_type": "markdown",
   "id": "a13641da-5574-4d8d-acc8-d852d122be18",
   "metadata": {},
   "source": [
    "# Store Variables for the Next Notebooks"
   ]
  },
  {
   "cell_type": "code",
   "execution_count": 24,
   "id": "b23d6b3a-e9a4-4687-a91e-72c78434f125",
   "metadata": {},
   "outputs": [
    {
     "name": "stdout",
     "output_type": "stream",
     "text": [
      "Stored variables and their in-db values:\n",
      "ingest_create_athena_db_passed                    -> True\n",
      "ingest_create_athena_table_tsv_passed             -> True\n",
      "s3_private_path_tsv                               -> 's3://sagemaker-us-east-1-657724983756/amazon-revi\n",
      "s3_public_path_tsv                                -> 's3://amazon-reviews-pds/tsv'\n",
      "setup_dependencies_passed                         -> True\n",
      "setup_iam_roles_passed                            -> True\n",
      "setup_instance_check_passed                       -> True\n",
      "setup_s3_bucket_passed                            -> True\n"
     ]
    }
   ],
   "source": [
    "%store"
   ]
  },
  {
   "cell_type": "markdown",
   "id": "482e6e17-d3a7-49f4-bdb7-5550f10cfc2a",
   "metadata": {},
   "source": [
    "# Release Resources"
   ]
  },
  {
   "cell_type": "code",
   "execution_count": 25,
   "id": "087bde2e-2b60-4dd5-997a-8323b521419f",
   "metadata": {},
   "outputs": [
    {
     "data": {
      "text/html": [
       "\n",
       "<p><b>Shutting down your kernel for this notebook to release resources.</b></p>\n",
       "<button class=\"sm-command-button\" data-commandlinker-command=\"kernelmenu:shutdown\" style=\"display:none;\">Shutdown Kernel</button>\n",
       "        \n",
       "<script>\n",
       "try {\n",
       "    els = document.getElementsByClassName(\"sm-command-button\");\n",
       "    els[0].click();\n",
       "}\n",
       "catch(err) {\n",
       "    // NoOp\n",
       "}    \n",
       "</script>\n"
      ],
      "text/plain": [
       "<IPython.core.display.HTML object>"
      ]
     },
     "metadata": {},
     "output_type": "display_data"
    }
   ],
   "source": [
    "%%html\n",
    "\n",
    "<p><b>Shutting down your kernel for this notebook to release resources.</b></p>\n",
    "<button class=\"sm-command-button\" data-commandlinker-command=\"kernelmenu:shutdown\" style=\"display:none;\">Shutdown Kernel</button>\n",
    "        \n",
    "<script>\n",
    "try {\n",
    "    els = document.getElementsByClassName(\"sm-command-button\");\n",
    "    els[0].click();\n",
    "}\n",
    "catch(err) {\n",
    "    // NoOp\n",
    "}    \n",
    "</script>"
   ]
  },
  {
   "cell_type": "code",
   "execution_count": 26,
   "id": "b8219a42-0f8b-4351-8545-b73a7f2ce99e",
   "metadata": {
    "tags": []
   },
   "outputs": [
    {
     "data": {
      "application/javascript": [
       "\n",
       "try {\n",
       "    Jupyter.notebook.save_checkpoint();\n",
       "    Jupyter.notebook.session.delete();\n",
       "}\n",
       "catch(err) {\n",
       "    // NoOp\n",
       "}\n"
      ],
      "text/plain": [
       "<IPython.core.display.Javascript object>"
      ]
     },
     "metadata": {},
     "output_type": "display_data"
    }
   ],
   "source": [
    "%%javascript\n",
    "\n",
    "try {\n",
    "    Jupyter.notebook.save_checkpoint();\n",
    "    Jupyter.notebook.session.delete();\n",
    "}\n",
    "catch(err) {\n",
    "    // NoOp\n",
    "}"
   ]
  }
 ],
 "metadata": {
  "availableInstances": [
   {
    "_defaultOrder": 0,
    "_isFastLaunch": true,
    "category": "General purpose",
    "gpuNum": 0,
    "memoryGiB": 4,
    "name": "ml.t3.medium",
    "vcpuNum": 2
   },
   {
    "_defaultOrder": 1,
    "_isFastLaunch": false,
    "category": "General purpose",
    "gpuNum": 0,
    "memoryGiB": 8,
    "name": "ml.t3.large",
    "vcpuNum": 2
   },
   {
    "_defaultOrder": 2,
    "_isFastLaunch": false,
    "category": "General purpose",
    "gpuNum": 0,
    "memoryGiB": 16,
    "name": "ml.t3.xlarge",
    "vcpuNum": 4
   },
   {
    "_defaultOrder": 3,
    "_isFastLaunch": false,
    "category": "General purpose",
    "gpuNum": 0,
    "memoryGiB": 32,
    "name": "ml.t3.2xlarge",
    "vcpuNum": 8
   },
   {
    "_defaultOrder": 4,
    "_isFastLaunch": true,
    "category": "General purpose",
    "gpuNum": 0,
    "memoryGiB": 8,
    "name": "ml.m5.large",
    "vcpuNum": 2
   },
   {
    "_defaultOrder": 5,
    "_isFastLaunch": false,
    "category": "General purpose",
    "gpuNum": 0,
    "memoryGiB": 16,
    "name": "ml.m5.xlarge",
    "vcpuNum": 4
   },
   {
    "_defaultOrder": 6,
    "_isFastLaunch": false,
    "category": "General purpose",
    "gpuNum": 0,
    "memoryGiB": 32,
    "name": "ml.m5.2xlarge",
    "vcpuNum": 8
   },
   {
    "_defaultOrder": 7,
    "_isFastLaunch": false,
    "category": "General purpose",
    "gpuNum": 0,
    "memoryGiB": 64,
    "name": "ml.m5.4xlarge",
    "vcpuNum": 16
   },
   {
    "_defaultOrder": 8,
    "_isFastLaunch": false,
    "category": "General purpose",
    "gpuNum": 0,
    "memoryGiB": 128,
    "name": "ml.m5.8xlarge",
    "vcpuNum": 32
   },
   {
    "_defaultOrder": 9,
    "_isFastLaunch": false,
    "category": "General purpose",
    "gpuNum": 0,
    "memoryGiB": 192,
    "name": "ml.m5.12xlarge",
    "vcpuNum": 48
   },
   {
    "_defaultOrder": 10,
    "_isFastLaunch": false,
    "category": "General purpose",
    "gpuNum": 0,
    "memoryGiB": 256,
    "name": "ml.m5.16xlarge",
    "vcpuNum": 64
   },
   {
    "_defaultOrder": 11,
    "_isFastLaunch": false,
    "category": "General purpose",
    "gpuNum": 0,
    "memoryGiB": 384,
    "name": "ml.m5.24xlarge",
    "vcpuNum": 96
   },
   {
    "_defaultOrder": 12,
    "_isFastLaunch": false,
    "category": "General purpose",
    "gpuNum": 0,
    "memoryGiB": 8,
    "name": "ml.m5d.large",
    "vcpuNum": 2
   },
   {
    "_defaultOrder": 13,
    "_isFastLaunch": false,
    "category": "General purpose",
    "gpuNum": 0,
    "memoryGiB": 16,
    "name": "ml.m5d.xlarge",
    "vcpuNum": 4
   },
   {
    "_defaultOrder": 14,
    "_isFastLaunch": false,
    "category": "General purpose",
    "gpuNum": 0,
    "memoryGiB": 32,
    "name": "ml.m5d.2xlarge",
    "vcpuNum": 8
   },
   {
    "_defaultOrder": 15,
    "_isFastLaunch": false,
    "category": "General purpose",
    "gpuNum": 0,
    "memoryGiB": 64,
    "name": "ml.m5d.4xlarge",
    "vcpuNum": 16
   },
   {
    "_defaultOrder": 16,
    "_isFastLaunch": false,
    "category": "General purpose",
    "gpuNum": 0,
    "memoryGiB": 128,
    "name": "ml.m5d.8xlarge",
    "vcpuNum": 32
   },
   {
    "_defaultOrder": 17,
    "_isFastLaunch": false,
    "category": "General purpose",
    "gpuNum": 0,
    "memoryGiB": 192,
    "name": "ml.m5d.12xlarge",
    "vcpuNum": 48
   },
   {
    "_defaultOrder": 18,
    "_isFastLaunch": false,
    "category": "General purpose",
    "gpuNum": 0,
    "memoryGiB": 256,
    "name": "ml.m5d.16xlarge",
    "vcpuNum": 64
   },
   {
    "_defaultOrder": 19,
    "_isFastLaunch": false,
    "category": "General purpose",
    "gpuNum": 0,
    "memoryGiB": 384,
    "name": "ml.m5d.24xlarge",
    "vcpuNum": 96
   },
   {
    "_defaultOrder": 20,
    "_isFastLaunch": true,
    "category": "Compute optimized",
    "gpuNum": 0,
    "memoryGiB": 4,
    "name": "ml.c5.large",
    "vcpuNum": 2
   },
   {
    "_defaultOrder": 21,
    "_isFastLaunch": false,
    "category": "Compute optimized",
    "gpuNum": 0,
    "memoryGiB": 8,
    "name": "ml.c5.xlarge",
    "vcpuNum": 4
   },
   {
    "_defaultOrder": 22,
    "_isFastLaunch": false,
    "category": "Compute optimized",
    "gpuNum": 0,
    "memoryGiB": 16,
    "name": "ml.c5.2xlarge",
    "vcpuNum": 8
   },
   {
    "_defaultOrder": 23,
    "_isFastLaunch": false,
    "category": "Compute optimized",
    "gpuNum": 0,
    "memoryGiB": 32,
    "name": "ml.c5.4xlarge",
    "vcpuNum": 16
   },
   {
    "_defaultOrder": 24,
    "_isFastLaunch": false,
    "category": "Compute optimized",
    "gpuNum": 0,
    "memoryGiB": 72,
    "name": "ml.c5.9xlarge",
    "vcpuNum": 36
   },
   {
    "_defaultOrder": 25,
    "_isFastLaunch": false,
    "category": "Compute optimized",
    "gpuNum": 0,
    "memoryGiB": 96,
    "name": "ml.c5.12xlarge",
    "vcpuNum": 48
   },
   {
    "_defaultOrder": 26,
    "_isFastLaunch": false,
    "category": "Compute optimized",
    "gpuNum": 0,
    "memoryGiB": 144,
    "name": "ml.c5.18xlarge",
    "vcpuNum": 72
   },
   {
    "_defaultOrder": 27,
    "_isFastLaunch": false,
    "category": "Compute optimized",
    "gpuNum": 0,
    "memoryGiB": 192,
    "name": "ml.c5.24xlarge",
    "vcpuNum": 96
   },
   {
    "_defaultOrder": 28,
    "_isFastLaunch": true,
    "category": "Accelerated computing",
    "gpuNum": 1,
    "memoryGiB": 16,
    "name": "ml.g4dn.xlarge",
    "vcpuNum": 4
   },
   {
    "_defaultOrder": 29,
    "_isFastLaunch": false,
    "category": "Accelerated computing",
    "gpuNum": 1,
    "memoryGiB": 32,
    "name": "ml.g4dn.2xlarge",
    "vcpuNum": 8
   },
   {
    "_defaultOrder": 30,
    "_isFastLaunch": false,
    "category": "Accelerated computing",
    "gpuNum": 1,
    "memoryGiB": 64,
    "name": "ml.g4dn.4xlarge",
    "vcpuNum": 16
   },
   {
    "_defaultOrder": 31,
    "_isFastLaunch": false,
    "category": "Accelerated computing",
    "gpuNum": 1,
    "memoryGiB": 128,
    "name": "ml.g4dn.8xlarge",
    "vcpuNum": 32
   },
   {
    "_defaultOrder": 32,
    "_isFastLaunch": false,
    "category": "Accelerated computing",
    "gpuNum": 4,
    "memoryGiB": 192,
    "name": "ml.g4dn.12xlarge",
    "vcpuNum": 48
   },
   {
    "_defaultOrder": 33,
    "_isFastLaunch": false,
    "category": "Accelerated computing",
    "gpuNum": 1,
    "memoryGiB": 256,
    "name": "ml.g4dn.16xlarge",
    "vcpuNum": 64
   },
   {
    "_defaultOrder": 34,
    "_isFastLaunch": false,
    "category": "Accelerated computing",
    "gpuNum": 1,
    "memoryGiB": 61,
    "name": "ml.p3.2xlarge",
    "vcpuNum": 8
   },
   {
    "_defaultOrder": 35,
    "_isFastLaunch": false,
    "category": "Accelerated computing",
    "gpuNum": 4,
    "memoryGiB": 244,
    "name": "ml.p3.8xlarge",
    "vcpuNum": 32
   },
   {
    "_defaultOrder": 36,
    "_isFastLaunch": false,
    "category": "Accelerated computing",
    "gpuNum": 8,
    "memoryGiB": 488,
    "name": "ml.p3.16xlarge",
    "vcpuNum": 64
   },
   {
    "_defaultOrder": 37,
    "_isFastLaunch": false,
    "category": "Accelerated computing",
    "gpuNum": 8,
    "memoryGiB": 768,
    "name": "ml.p3dn.24xlarge",
    "vcpuNum": 96
   },
   {
    "_defaultOrder": 38,
    "_isFastLaunch": false,
    "category": "Memory Optimized",
    "gpuNum": 0,
    "memoryGiB": 16,
    "name": "ml.r5.large",
    "vcpuNum": 2
   },
   {
    "_defaultOrder": 39,
    "_isFastLaunch": false,
    "category": "Memory Optimized",
    "gpuNum": 0,
    "memoryGiB": 32,
    "name": "ml.r5.xlarge",
    "vcpuNum": 4
   },
   {
    "_defaultOrder": 40,
    "_isFastLaunch": false,
    "category": "Memory Optimized",
    "gpuNum": 0,
    "memoryGiB": 64,
    "name": "ml.r5.2xlarge",
    "vcpuNum": 8
   },
   {
    "_defaultOrder": 41,
    "_isFastLaunch": false,
    "category": "Memory Optimized",
    "gpuNum": 0,
    "memoryGiB": 128,
    "name": "ml.r5.4xlarge",
    "vcpuNum": 16
   },
   {
    "_defaultOrder": 42,
    "_isFastLaunch": false,
    "category": "Memory Optimized",
    "gpuNum": 0,
    "memoryGiB": 256,
    "name": "ml.r5.8xlarge",
    "vcpuNum": 32
   },
   {
    "_defaultOrder": 43,
    "_isFastLaunch": false,
    "category": "Memory Optimized",
    "gpuNum": 0,
    "memoryGiB": 384,
    "name": "ml.r5.12xlarge",
    "vcpuNum": 48
   },
   {
    "_defaultOrder": 44,
    "_isFastLaunch": false,
    "category": "Memory Optimized",
    "gpuNum": 0,
    "memoryGiB": 512,
    "name": "ml.r5.16xlarge",
    "vcpuNum": 64
   },
   {
    "_defaultOrder": 45,
    "_isFastLaunch": false,
    "category": "Memory Optimized",
    "gpuNum": 0,
    "memoryGiB": 768,
    "name": "ml.r5.24xlarge",
    "vcpuNum": 96
   },
   {
    "_defaultOrder": 46,
    "_isFastLaunch": false,
    "category": "Accelerated computing",
    "gpuNum": 1,
    "memoryGiB": 16,
    "name": "ml.g5.xlarge",
    "vcpuNum": 4
   },
   {
    "_defaultOrder": 47,
    "_isFastLaunch": false,
    "category": "Accelerated computing",
    "gpuNum": 1,
    "memoryGiB": 32,
    "name": "ml.g5.2xlarge",
    "vcpuNum": 8
   },
   {
    "_defaultOrder": 48,
    "_isFastLaunch": false,
    "category": "Accelerated computing",
    "gpuNum": 1,
    "memoryGiB": 64,
    "name": "ml.g5.4xlarge",
    "vcpuNum": 16
   },
   {
    "_defaultOrder": 49,
    "_isFastLaunch": false,
    "category": "Accelerated computing",
    "gpuNum": 1,
    "memoryGiB": 128,
    "name": "ml.g5.8xlarge",
    "vcpuNum": 32
   },
   {
    "_defaultOrder": 50,
    "_isFastLaunch": false,
    "category": "Accelerated computing",
    "gpuNum": 1,
    "memoryGiB": 256,
    "name": "ml.g5.16xlarge",
    "vcpuNum": 64
   },
   {
    "_defaultOrder": 51,
    "_isFastLaunch": false,
    "category": "Accelerated computing",
    "gpuNum": 4,
    "memoryGiB": 192,
    "name": "ml.g5.12xlarge",
    "vcpuNum": 48
   },
   {
    "_defaultOrder": 52,
    "_isFastLaunch": false,
    "category": "Accelerated computing",
    "gpuNum": 4,
    "memoryGiB": 384,
    "name": "ml.g5.24xlarge",
    "vcpuNum": 96
   },
   {
    "_defaultOrder": 53,
    "_isFastLaunch": false,
    "category": "Accelerated computing",
    "gpuNum": 8,
    "memoryGiB": 768,
    "name": "ml.g5.48xlarge",
    "vcpuNum": 192
   }
  ],
  "kernelspec": {
   "display_name": "Python 3 (Data Science)",
   "language": "python",
   "name": "python3__SAGEMAKER_INTERNAL__arn:aws:sagemaker:us-east-1:081325390199:image/datascience-1.0"
  },
  "language_info": {
   "codemirror_mode": {
    "name": "ipython",
    "version": 3
   },
   "file_extension": ".py",
   "mimetype": "text/x-python",
   "name": "python",
   "nbconvert_exporter": "python",
   "pygments_lexer": "ipython3",
   "version": "3.7.10"
  }
 },
 "nbformat": 4,
 "nbformat_minor": 5
}
