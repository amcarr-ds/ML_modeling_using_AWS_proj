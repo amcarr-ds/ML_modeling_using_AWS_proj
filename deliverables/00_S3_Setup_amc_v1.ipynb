{
 "cells": [
  {
   "cell_type": "markdown",
   "id": "a406a9cc-f539-4fc8-ac94-6964d066545e",
   "metadata": {},
   "source": [
    "# ADS-508-01-SP23 Team 8: Final Project"
   ]
  },
  {
   "cell_type": "markdown",
   "id": "4d3b8db0-6910-4d3d-a870-fec468b57912",
   "metadata": {},
   "source": [
    "Much of the code is modified from `Fregly, C., & Barth, A. (2021). Data science on AWS: Implementing end-to-end, continuous AI and machine learning pipelines. O’Reilly.`"
   ]
  },
  {
   "cell_type": "markdown",
   "id": "4d04427e-2c8f-4b36-97d0-65e28951db9f",
   "metadata": {},
   "source": [
    "## Import PyAthena\n",
    "\n",
    "[PyAthena](https://pypi.org/project/PyAthena/) is a Python DB API 2.0 (PEP 249) compliant client for Amazon Athena."
   ]
  },
  {
   "cell_type": "code",
   "execution_count": 2,
   "id": "189f41f2-460c-40df-a1d5-b7a39783149d",
   "metadata": {},
   "outputs": [
    {
     "name": "stdout",
     "output_type": "stream",
     "text": [
      "\u001b[33mWARNING: Running pip as the 'root' user can result in broken permissions and conflicting behaviour with the system package manager. It is recommended to use a virtual environment instead: https://pip.pypa.io/warnings/venv\u001b[0m\u001b[33m\n",
      "\u001b[0m"
     ]
    }
   ],
   "source": [
    "!pip install --disable-pip-version-check -q PyAthena==2.1.0"
   ]
  },
  {
   "cell_type": "code",
   "execution_count": 3,
   "id": "c1264efc-72eb-45b3-9311-6ff9a787a26b",
   "metadata": {},
   "outputs": [],
   "source": [
    "import boto3\n",
    "from botocore.client import ClientError\n",
    "import sagemaker\n",
    "import pandas as pd\n",
    "from pyathena import connect\n",
    "from IPython.core.display import display, HTML"
   ]
  },
  {
   "cell_type": "code",
   "execution_count": 4,
   "id": "6c4ef463-dd80-4d28-9a1f-09f5261fca85",
   "metadata": {},
   "outputs": [],
   "source": [
    "session = boto3.session.Session()\n",
    "region = session.region_name\n",
    "sagemaker_session = sagemaker.Session()\n",
    "def_bucket = sagemaker_session.default_bucket()\n",
    "bucket = 'sagemaker-us-east-ads508-sp23-t8'\n",
    "\n",
    "s3 = boto3.Session().client(service_name=\"s3\", region_name=region)"
   ]
  },
  {
   "cell_type": "code",
   "execution_count": 5,
   "id": "580594ea-994e-4fcf-987a-2ddb722c4237",
   "metadata": {},
   "outputs": [],
   "source": [
    "setup_s3_bucket_passed = False\n",
    "ingest_create_athena_db_passed = False\n",
    "ingest_create_athena_table_tsv_passed = False"
   ]
  },
  {
   "cell_type": "code",
   "execution_count": 6,
   "id": "59fe83df-3b8d-4120-ae9a-221497980a76",
   "metadata": {},
   "outputs": [
    {
     "name": "stdout",
     "output_type": "stream",
     "text": [
      "Default bucket: sagemaker-us-east-1-657724983756\n",
      "Public T8 bucket: sagemaker-us-east-ads508-sp23-t8\n"
     ]
    }
   ],
   "source": [
    "print(f\"Default bucket: {def_bucket}\")\n",
    "print(f\"Public T8 bucket: {bucket}\")"
   ]
  },
  {
   "cell_type": "markdown",
   "id": "aae823a2-4c36-4d81-a2fb-496557565c0b",
   "metadata": {},
   "source": [
    "## Verify S3 Bucket Creation"
   ]
  },
  {
   "cell_type": "code",
   "execution_count": 7,
   "id": "7c67927d-c9e0-4b49-8b94-3fa999e09586",
   "metadata": {},
   "outputs": [
    {
     "name": "stdout",
     "output_type": "stream",
     "text": [
      "2023-03-16 17:05:02 aws-athena-query-results-657724983756-us-east-1\n",
      "2023-03-02 16:56:48 sagemaker-studio-657724983756-5nh7ydsouq7\n",
      "2023-03-02 17:25:41 sagemaker-studio-657724983756-7yc8bp8xk0b\n",
      "2023-03-02 17:01:51 sagemaker-us-east-1-657724983756\n",
      "2023-03-17 05:19:31 sagemaker-us-east-ads508-sp23-t8\n"
     ]
    }
   ],
   "source": [
    "%%bash\n",
    "\n",
    "aws s3 ls s3://${bucket}/"
   ]
  },
  {
   "cell_type": "code",
   "execution_count": 8,
   "id": "e38a0299-5e04-4dd4-ada1-9cfd9de9caf2",
   "metadata": {},
   "outputs": [
    {
     "name": "stdout",
     "output_type": "stream",
     "text": [
      "{'ResponseMetadata': {'RequestId': 'V061TB7SR6YNC3P6', 'HostId': 'BQAAxPQqWy4KqwduMMojY5BCXMH1z9r0GJNlcgMDvr3sThvUFH/b/DdIvorSLifuY/xj/xCQ3qk=', 'HTTPStatusCode': 200, 'HTTPHeaders': {'x-amz-id-2': 'BQAAxPQqWy4KqwduMMojY5BCXMH1z9r0GJNlcgMDvr3sThvUFH/b/DdIvorSLifuY/xj/xCQ3qk=', 'x-amz-request-id': 'V061TB7SR6YNC3P6', 'date': 'Sat, 18 Mar 2023 21:04:30 GMT', 'x-amz-bucket-region': 'us-east-1', 'x-amz-access-point-alias': 'false', 'content-type': 'application/xml', 'server': 'AmazonS3'}, 'RetryAttempts': 0}}\n"
     ]
    }
   ],
   "source": [
    "response = None\n",
    "\n",
    "try:\n",
    "    response = s3.head_bucket(Bucket=bucket)\n",
    "    print(response)\n",
    "    setup_s3_bucket_passed = True\n",
    "except ClientError as e:\n",
    "    print(f\"[ERROR] Cannot find bucket {bucket} in {response} due to {e}.\")"
   ]
  },
  {
   "cell_type": "code",
   "execution_count": 9,
   "id": "58668029-ed3a-478a-9c90-01f6db041edb",
   "metadata": {},
   "outputs": [
    {
     "name": "stdout",
     "output_type": "stream",
     "text": [
      "Stored 'setup_s3_bucket_passed' (bool)\n"
     ]
    }
   ],
   "source": [
    "%store setup_s3_bucket_passed"
   ]
  },
  {
   "cell_type": "markdown",
   "id": "76e4c84a-fcd9-4ba3-a750-ee67cebc29e8",
   "metadata": {},
   "source": [
    "## Create Athena Database"
   ]
  },
  {
   "cell_type": "code",
   "execution_count": 10,
   "id": "dd99eeab-b1c0-4d1b-930f-78006e06d42d",
   "metadata": {},
   "outputs": [],
   "source": [
    "database_name = \"ads508_t8\""
   ]
  },
  {
   "cell_type": "markdown",
   "id": "05a40197-8843-4515-ae66-d50ec8f53402",
   "metadata": {},
   "source": [
    "Note: The databases and tables that we create in Athena use a data catalog service to store the metadata of your data. For example, schema information consisting of the column names and data type of each column in a table, together with the table name, is saved as metadata information in a data catalog. \n",
    "\n",
    "Athena natively supports the AWS Glue Data Catalog service. When we run `CREATE DATABASE` and `CREATE TABLE` queries in Athena with the AWS Glue Data Catalog as our source, we automatically see the database and table metadata entries being created in the AWS Glue Data Catalog."
   ]
  },
  {
   "cell_type": "code",
   "execution_count": 11,
   "id": "3c4ba780-9ea7-4a9a-a87a-d4aabca741df",
   "metadata": {},
   "outputs": [
    {
     "name": "stdout",
     "output_type": "stream",
     "text": [
      "s3://sagemaker-us-east-ads508-sp23-t8/athena/staging\n"
     ]
    }
   ],
   "source": [
    "# Set S3 staging directory -- this is a temporary directory used for Athena queries\n",
    "s3_staging_dir = f\"s3://{bucket}/athena/staging\"\n",
    "print(s3_staging_dir)"
   ]
  },
  {
   "cell_type": "code",
   "execution_count": 12,
   "id": "bd3f1870-bb61-4c23-a772-554578d4e84e",
   "metadata": {},
   "outputs": [],
   "source": [
    "conn = connect(region_name=region,\n",
    "               s3_staging_dir=s3_staging_dir)"
   ]
  },
  {
   "cell_type": "code",
   "execution_count": 13,
   "id": "6dff8eba-14b7-4114-baea-bdddb7eb33b4",
   "metadata": {},
   "outputs": [
    {
     "name": "stdout",
     "output_type": "stream",
     "text": [
      "CREATE DATABASE IF NOT EXISTS ads508_t8\n"
     ]
    }
   ],
   "source": [
    "create_db_stmnt = f\"CREATE DATABASE IF NOT EXISTS {database_name}\"\n",
    "print(create_db_stmnt)"
   ]
  },
  {
   "cell_type": "code",
   "execution_count": 14,
   "id": "26539f46-0f5d-438a-bec2-33ef507bf86b",
   "metadata": {},
   "outputs": [
    {
     "data": {
      "text/html": [
       "<div>\n",
       "<style scoped>\n",
       "    .dataframe tbody tr th:only-of-type {\n",
       "        vertical-align: middle;\n",
       "    }\n",
       "\n",
       "    .dataframe tbody tr th {\n",
       "        vertical-align: top;\n",
       "    }\n",
       "\n",
       "    .dataframe thead th {\n",
       "        text-align: right;\n",
       "    }\n",
       "</style>\n",
       "<table border=\"1\" class=\"dataframe\">\n",
       "  <thead>\n",
       "    <tr style=\"text-align: right;\">\n",
       "      <th></th>\n",
       "    </tr>\n",
       "  </thead>\n",
       "  <tbody>\n",
       "  </tbody>\n",
       "</table>\n",
       "</div>"
      ],
      "text/plain": [
       "Empty DataFrame\n",
       "Columns: []\n",
       "Index: []"
      ]
     },
     "execution_count": 14,
     "metadata": {},
     "output_type": "execute_result"
    }
   ],
   "source": [
    "pd.read_sql(create_db_stmnt,\n",
    "            conn)"
   ]
  },
  {
   "cell_type": "markdown",
   "id": "5a137327-0065-4ef4-8db8-c74ac225a649",
   "metadata": {},
   "source": [
    "### Verify The Database Has Been Created Succesfully"
   ]
  },
  {
   "cell_type": "code",
   "execution_count": 15,
   "id": "d79bd75e-3cdd-424a-9987-b36ef1224de5",
   "metadata": {},
   "outputs": [
    {
     "data": {
      "text/html": [
       "<div>\n",
       "<style scoped>\n",
       "    .dataframe tbody tr th:only-of-type {\n",
       "        vertical-align: middle;\n",
       "    }\n",
       "\n",
       "    .dataframe tbody tr th {\n",
       "        vertical-align: top;\n",
       "    }\n",
       "\n",
       "    .dataframe thead th {\n",
       "        text-align: right;\n",
       "    }\n",
       "</style>\n",
       "<table border=\"1\" class=\"dataframe\">\n",
       "  <thead>\n",
       "    <tr style=\"text-align: right;\">\n",
       "      <th></th>\n",
       "      <th>database_name</th>\n",
       "    </tr>\n",
       "  </thead>\n",
       "  <tbody>\n",
       "    <tr>\n",
       "      <th>0</th>\n",
       "      <td>ads508_t8</td>\n",
       "    </tr>\n",
       "    <tr>\n",
       "      <th>1</th>\n",
       "      <td>default</td>\n",
       "    </tr>\n",
       "    <tr>\n",
       "      <th>2</th>\n",
       "      <td>dsoaws</td>\n",
       "    </tr>\n",
       "  </tbody>\n",
       "</table>\n",
       "</div>"
      ],
      "text/plain": [
       "  database_name\n",
       "0     ads508_t8\n",
       "1       default\n",
       "2        dsoaws"
      ]
     },
     "execution_count": 15,
     "metadata": {},
     "output_type": "execute_result"
    }
   ],
   "source": [
    "show_db_stmnt = \"SHOW DATABASES\"\n",
    "\n",
    "df_show = pd.read_sql(show_db_stmnt,\n",
    "                      conn)\n",
    "df_show.head(5)"
   ]
  },
  {
   "cell_type": "code",
   "execution_count": 16,
   "id": "ebbde0c0-1fbd-45d2-be0d-9196ceb9f0c3",
   "metadata": {},
   "outputs": [],
   "source": [
    "if database_name in df_show.values:\n",
    "    ingest_create_athena_db_passed = True"
   ]
  },
  {
   "cell_type": "code",
   "execution_count": 17,
   "id": "ef5ac3ab-1499-4fc5-b976-fd15db46563a",
   "metadata": {},
   "outputs": [
    {
     "name": "stdout",
     "output_type": "stream",
     "text": [
      "Stored 'ingest_create_athena_db_passed' (bool)\n"
     ]
    }
   ],
   "source": [
    "%store ingest_create_athena_db_passed"
   ]
  },
  {
   "cell_type": "markdown",
   "id": "873aa13d-5942-4ea2-b370-872a3d63fb97",
   "metadata": {},
   "source": [
    "## Define custom function to create tables in existing database"
   ]
  },
  {
   "cell_type": "code",
   "execution_count": 18,
   "id": "0bf3a85b-8e58-4341-8ec7-67f5d2c45fbd",
   "metadata": {},
   "outputs": [],
   "source": [
    "def create_athena_tbl_tsv(conn=None,\n",
    "                          db=None,\n",
    "                          tbl_name=None,\n",
    "                          fields='',\n",
    "                          s3_path=None,\n",
    "                          delim=',',\n",
    "                          ret='',\n",
    "                          comp='',\n",
    "                          skip=''):\n",
    "    # Set Athena parameters\n",
    "\n",
    "    # SQL statement to execute\n",
    "    drop_tbl_stmnt = f\"\"\"DROP TABLE IF EXISTS {db}.{tbl_name}\"\"\"\n",
    "\n",
    "    create_tbl_stmnt = f\"\"\"\n",
    "    CREATE EXTERNAL TABLE IF NOT EXISTS {db}.{tbl_name}({fields})\n",
    "    ROW FORMAT DELIMITED FIELDS TERMINATED BY '{delim}' LINES TERMINATED BY '{ret}\\\\n' LOCATION '{s3_path}'\n",
    "    TBLPROPERTIES ({comp}{skip})\"\"\"\n",
    "\n",
    "    print(f'Create table statement:\\n{create_tbl_stmnt}')\n",
    "\n",
    "    pd.read_sql(drop_tbl_stmnt,\n",
    "                conn)\n",
    "\n",
    "    pd.read_sql(create_tbl_stmnt,\n",
    "                conn)\n",
    "    \n",
    "    # Verify The Table Has Been Created Succesfully\n",
    "    show_tbl_stmnt = f\"SHOW TABLES in {db}\"\n",
    "\n",
    "    df_show = pd.read_sql(show_tbl_stmnt,\n",
    "                          conn)\n",
    "    display(df_show.head(5))\n",
    "\n",
    "    if tbl_name in df_show.values:\n",
    "        ingest_create_athena_table_tsv_passed = True\n",
    "\n",
    "    print(f'\\nDataframe contains records: {ingest_create_athena_table_tsv_passed}')"
   ]
  },
  {
   "cell_type": "markdown",
   "id": "9e3ba5bb-25e8-4a7a-b6d8-b4448c739f17",
   "metadata": {},
   "source": [
    "## Create Athena Table from Local TSV File - `2005-2010_Graduation_Outcomes_-_School_Level.tsv`"
   ]
  },
  {
   "cell_type": "markdown",
   "id": "501a04b4-7da5-4ed3-a302-29345e0982d8",
   "metadata": {},
   "source": [
    "### Dataset columns\n",
    "\n",
    "- `demographic`: ,\n",
    "- `dbn`: ,\n",
    "- `school_name`: ,\n",
    "- `cohort`: ,\n",
    "- `total_cohort`: ,\n",
    "- `total_grads_n`: ,\n",
    "- `total_grads_perc_cohort`: ,\n",
    "- `total_regents_n`: ,\n",
    "- `total_regents_perc_cohort`: ,\n",
    "- `total_regents_perc_grads`: ,\n",
    "- `advanced_regents_n`: ,\n",
    "- `advanced_regents_perc_cohort`: ,\n",
    "- `advanced_regents_perc_grads`: ,\n",
    "- `regents_wo_advanced_n`: ,\n",
    "- `regents_wo_advanced_perc_cohort`: ,\n",
    "- `regents_wo_advanced_perc_grads`: ,\n",
    "- `local_n`: ,\n",
    "- `local_perc_cohort`: ,\n",
    "- `local_perc_grads`: ,\n",
    "- `still_enrolled_n`: ,\n",
    "- `still_enrolled_perc_cohort`: ,\n",
    "- `dropped_out_n`: ,\n",
    "- `dropped_out_perc_cohort`: "
   ]
  },
  {
   "cell_type": "code",
   "execution_count": 19,
   "id": "05865698-0e7a-4217-bc74-364b669bcf8d",
   "metadata": {},
   "outputs": [
    {
     "name": "stdout",
     "output_type": "stream",
     "text": [
      "s3://sagemaker-us-east-ads508-sp23-t8/raw_data/grad_outcomes\n",
      "Create table statement:\n",
      "\n",
      "    CREATE EXTERNAL TABLE IF NOT EXISTS ads508_t8.grad_outcomes(\n",
      "mdemographic string,\n",
      "dbn string,\n",
      "school_name string,\n",
      "cohort string,\n",
      "total_cohort string,\n",
      "total_grads_n string,\n",
      "total_grads_perc_cohort string,\n",
      "total_regents_n string,\n",
      "total_regents_perc_cohort string,\n",
      "total_regents_perc_grads string,\n",
      "advanced_regents_n string,\n",
      "advanced_regents_perc_cohort string,\n",
      "advanced_regents_perc_grads string,\n",
      "regents_wo_advanced_n string,\n",
      "regents_wo_advanced_perc_cohort string,\n",
      "regents_wo_advanced_perc_grads string,\n",
      "local_n string,\n",
      "local_perc_cohort string,\n",
      "local_perc_grads string,\n",
      "still_enrolled_n string,\n",
      "still_enrolled_perc_cohort string,\n",
      "dropped_out_n string,\n",
      "dropped_out_perc_cohort string\n",
      ")\n",
      "    ROW FORMAT DELIMITED FIELDS TERMINATED BY '\\t' LINES TERMINATED BY '\\n' LOCATION 's3://sagemaker-us-east-ads508-sp23-t8/raw_data/grad_outcomes'\n",
      "    TBLPROPERTIES ('skip.header.line.count'='1')\n"
     ]
    },
    {
     "data": {
      "text/html": [
       "<div>\n",
       "<style scoped>\n",
       "    .dataframe tbody tr th:only-of-type {\n",
       "        vertical-align: middle;\n",
       "    }\n",
       "\n",
       "    .dataframe tbody tr th {\n",
       "        vertical-align: top;\n",
       "    }\n",
       "\n",
       "    .dataframe thead th {\n",
       "        text-align: right;\n",
       "    }\n",
       "</style>\n",
       "<table border=\"1\" class=\"dataframe\">\n",
       "  <thead>\n",
       "    <tr style=\"text-align: right;\">\n",
       "      <th></th>\n",
       "      <th>tab_name</th>\n",
       "    </tr>\n",
       "  </thead>\n",
       "  <tbody>\n",
       "    <tr>\n",
       "      <th>0</th>\n",
       "      <td>grad_outcomes</td>\n",
       "    </tr>\n",
       "    <tr>\n",
       "      <th>1</th>\n",
       "      <td>hs_info</td>\n",
       "    </tr>\n",
       "  </tbody>\n",
       "</table>\n",
       "</div>"
      ],
      "text/plain": [
       "        tab_name\n",
       "0  grad_outcomes\n",
       "1        hs_info"
      ]
     },
     "metadata": {},
     "output_type": "display_data"
    },
    {
     "name": "stdout",
     "output_type": "stream",
     "text": [
      "\n",
      "Dataframe contains records: True\n"
     ]
    }
   ],
   "source": [
    "grd_tbl_name = 'grad_outcomes'\n",
    "grd_field_list = \"\"\"\n",
    "mdemographic string,\n",
    "dbn string,\n",
    "school_name string,\n",
    "cohort string,\n",
    "total_cohort string,\n",
    "total_grads_n string,\n",
    "total_grads_perc_cohort string,\n",
    "total_regents_n string,\n",
    "total_regents_perc_cohort string,\n",
    "total_regents_perc_grads string,\n",
    "advanced_regents_n string,\n",
    "advanced_regents_perc_cohort string,\n",
    "advanced_regents_perc_grads string,\n",
    "regents_wo_advanced_n string,\n",
    "regents_wo_advanced_perc_cohort string,\n",
    "regents_wo_advanced_perc_grads string,\n",
    "local_n string,\n",
    "local_perc_cohort string,\n",
    "local_perc_grads string,\n",
    "still_enrolled_n string,\n",
    "still_enrolled_perc_cohort string,\n",
    "dropped_out_n string,\n",
    "dropped_out_perc_cohort string\n",
    "\"\"\"\n",
    "grd_s3_raw_data_path = f\"s3://{bucket}/raw_data/grad_outcomes\"\n",
    "print(grd_s3_raw_data_path)\n",
    "\n",
    "create_athena_tbl_tsv(conn=conn,\n",
    "                      db=database_name,\n",
    "                      tbl_name=grd_tbl_name,\n",
    "                      fields=grd_field_list,\n",
    "                      s3_path=grd_s3_raw_data_path,\n",
    "                      delim='\\\\t',\n",
    "                      comp='',\n",
    "                      skip=\"'skip.header.line.count'='1'\")"
   ]
  },
  {
   "cell_type": "markdown",
   "id": "c5d90b5d-13b0-434c-a485-75ddbcf3deed",
   "metadata": {},
   "source": [
    "### Run A Sample Query"
   ]
  },
  {
   "cell_type": "code",
   "execution_count": 20,
   "id": "a0ccf7fe-c396-4d0b-bc29-12df4436aa7d",
   "metadata": {
    "tags": []
   },
   "outputs": [
    {
     "name": "stdout",
     "output_type": "stream",
     "text": [
      "SELECT * FROM ads508_t8.grad_outcomes\n",
      "WHERE dbn = '01M448' LIMIT 20\n"
     ]
    }
   ],
   "source": [
    "grd_dbn_id01 = \"01M448\"\n",
    "\n",
    "grd_select_dbn_stmnt = f\"\"\"SELECT * FROM {database_name}.{grd_tbl_name}\n",
    "WHERE dbn = '{grd_dbn_id01}' LIMIT 20\"\"\"\n",
    "\n",
    "print(grd_select_dbn_stmnt)"
   ]
  },
  {
   "cell_type": "code",
   "execution_count": 21,
   "id": "64b2be71-cda3-435e-89dc-a4204b29c719",
   "metadata": {
    "tags": []
   },
   "outputs": [
    {
     "data": {
      "text/html": [
       "<div>\n",
       "<style scoped>\n",
       "    .dataframe tbody tr th:only-of-type {\n",
       "        vertical-align: middle;\n",
       "    }\n",
       "\n",
       "    .dataframe tbody tr th {\n",
       "        vertical-align: top;\n",
       "    }\n",
       "\n",
       "    .dataframe thead th {\n",
       "        text-align: right;\n",
       "    }\n",
       "</style>\n",
       "<table border=\"1\" class=\"dataframe\">\n",
       "  <thead>\n",
       "    <tr style=\"text-align: right;\">\n",
       "      <th></th>\n",
       "      <th>mdemographic</th>\n",
       "      <th>dbn</th>\n",
       "      <th>school_name</th>\n",
       "      <th>cohort</th>\n",
       "      <th>total_cohort</th>\n",
       "      <th>total_grads_n</th>\n",
       "      <th>total_grads_perc_cohort</th>\n",
       "      <th>total_regents_n</th>\n",
       "      <th>total_regents_perc_cohort</th>\n",
       "      <th>total_regents_perc_grads</th>\n",
       "      <th>...</th>\n",
       "      <th>regents_wo_advanced_n</th>\n",
       "      <th>regents_wo_advanced_perc_cohort</th>\n",
       "      <th>regents_wo_advanced_perc_grads</th>\n",
       "      <th>local_n</th>\n",
       "      <th>local_perc_cohort</th>\n",
       "      <th>local_perc_grads</th>\n",
       "      <th>still_enrolled_n</th>\n",
       "      <th>still_enrolled_perc_cohort</th>\n",
       "      <th>dropped_out_n</th>\n",
       "      <th>dropped_out_perc_cohort</th>\n",
       "    </tr>\n",
       "  </thead>\n",
       "  <tbody>\n",
       "    <tr>\n",
       "      <th>0</th>\n",
       "      <td>Total Cohort</td>\n",
       "      <td>01M448</td>\n",
       "      <td>UNIVERSITY NEIGHBORHOOD HIGH SCHOOL</td>\n",
       "      <td>2001</td>\n",
       "      <td>64</td>\n",
       "      <td>46</td>\n",
       "      <td>71.900000000000006</td>\n",
       "      <td>32</td>\n",
       "      <td>50</td>\n",
       "      <td>69.599999999999994</td>\n",
       "      <td>...</td>\n",
       "      <td>25</td>\n",
       "      <td>39.1</td>\n",
       "      <td>54.3</td>\n",
       "      <td>14</td>\n",
       "      <td>21.9</td>\n",
       "      <td>30.4</td>\n",
       "      <td>10</td>\n",
       "      <td>15.6</td>\n",
       "      <td>6</td>\n",
       "      <td>9.4</td>\n",
       "    </tr>\n",
       "    <tr>\n",
       "      <th>1</th>\n",
       "      <td>Total Cohort</td>\n",
       "      <td>01M448</td>\n",
       "      <td>UNIVERSITY NEIGHBORHOOD HIGH SCHOOL</td>\n",
       "      <td>2002</td>\n",
       "      <td>52</td>\n",
       "      <td>33</td>\n",
       "      <td>63.5</td>\n",
       "      <td>19</td>\n",
       "      <td>36.5</td>\n",
       "      <td>57.6</td>\n",
       "      <td>...</td>\n",
       "      <td>11</td>\n",
       "      <td>21.2</td>\n",
       "      <td>33.299999999999997</td>\n",
       "      <td>14</td>\n",
       "      <td>26.9</td>\n",
       "      <td>42.4</td>\n",
       "      <td>16</td>\n",
       "      <td>30.8</td>\n",
       "      <td>1</td>\n",
       "      <td>1.9</td>\n",
       "    </tr>\n",
       "    <tr>\n",
       "      <th>2</th>\n",
       "      <td>Total Cohort</td>\n",
       "      <td>01M448</td>\n",
       "      <td>UNIVERSITY NEIGHBORHOOD HIGH SCHOOL</td>\n",
       "      <td>2003</td>\n",
       "      <td>87</td>\n",
       "      <td>67</td>\n",
       "      <td>77</td>\n",
       "      <td>39</td>\n",
       "      <td>44.8</td>\n",
       "      <td>58.2</td>\n",
       "      <td>...</td>\n",
       "      <td>28</td>\n",
       "      <td>32.200000000000003</td>\n",
       "      <td>41.8</td>\n",
       "      <td>28</td>\n",
       "      <td>32.200000000000003</td>\n",
       "      <td>41.8</td>\n",
       "      <td>9</td>\n",
       "      <td>10.3</td>\n",
       "      <td>11</td>\n",
       "      <td>12.6</td>\n",
       "    </tr>\n",
       "    <tr>\n",
       "      <th>3</th>\n",
       "      <td>Total Cohort</td>\n",
       "      <td>01M448</td>\n",
       "      <td>UNIVERSITY NEIGHBORHOOD HIGH SCHOOL</td>\n",
       "      <td>2004</td>\n",
       "      <td>112</td>\n",
       "      <td>75</td>\n",
       "      <td>67</td>\n",
       "      <td>36</td>\n",
       "      <td>32.1</td>\n",
       "      <td>48</td>\n",
       "      <td>...</td>\n",
       "      <td>30</td>\n",
       "      <td>26.8</td>\n",
       "      <td>40</td>\n",
       "      <td>39</td>\n",
       "      <td>34.799999999999997</td>\n",
       "      <td>52</td>\n",
       "      <td>33</td>\n",
       "      <td>29.5</td>\n",
       "      <td>4</td>\n",
       "      <td>3.6</td>\n",
       "    </tr>\n",
       "    <tr>\n",
       "      <th>4</th>\n",
       "      <td>Total Cohort</td>\n",
       "      <td>01M448</td>\n",
       "      <td>UNIVERSITY NEIGHBORHOOD HIGH SCHOOL</td>\n",
       "      <td>2005</td>\n",
       "      <td>121</td>\n",
       "      <td>64</td>\n",
       "      <td>52.9</td>\n",
       "      <td>35</td>\n",
       "      <td>28.9</td>\n",
       "      <td>54.7</td>\n",
       "      <td>...</td>\n",
       "      <td>31</td>\n",
       "      <td>25.6</td>\n",
       "      <td>48.4</td>\n",
       "      <td>29</td>\n",
       "      <td>24</td>\n",
       "      <td>45.3</td>\n",
       "      <td>41</td>\n",
       "      <td>33.9</td>\n",
       "      <td>11</td>\n",
       "      <td>9.1</td>\n",
       "    </tr>\n",
       "  </tbody>\n",
       "</table>\n",
       "<p>5 rows × 23 columns</p>\n",
       "</div>"
      ],
      "text/plain": [
       "   mdemographic     dbn                          school_name cohort  \\\n",
       "0  Total Cohort  01M448  UNIVERSITY NEIGHBORHOOD HIGH SCHOOL   2001   \n",
       "1  Total Cohort  01M448  UNIVERSITY NEIGHBORHOOD HIGH SCHOOL   2002   \n",
       "2  Total Cohort  01M448  UNIVERSITY NEIGHBORHOOD HIGH SCHOOL   2003   \n",
       "3  Total Cohort  01M448  UNIVERSITY NEIGHBORHOOD HIGH SCHOOL   2004   \n",
       "4  Total Cohort  01M448  UNIVERSITY NEIGHBORHOOD HIGH SCHOOL   2005   \n",
       "\n",
       "  total_cohort total_grads_n total_grads_perc_cohort total_regents_n  \\\n",
       "0           64            46      71.900000000000006              32   \n",
       "1           52            33                    63.5              19   \n",
       "2           87            67                      77              39   \n",
       "3          112            75                      67              36   \n",
       "4          121            64                    52.9              35   \n",
       "\n",
       "  total_regents_perc_cohort total_regents_perc_grads  ...  \\\n",
       "0                        50       69.599999999999994  ...   \n",
       "1                      36.5                     57.6  ...   \n",
       "2                      44.8                     58.2  ...   \n",
       "3                      32.1                       48  ...   \n",
       "4                      28.9                     54.7  ...   \n",
       "\n",
       "  regents_wo_advanced_n regents_wo_advanced_perc_cohort  \\\n",
       "0                    25                            39.1   \n",
       "1                    11                            21.2   \n",
       "2                    28              32.200000000000003   \n",
       "3                    30                            26.8   \n",
       "4                    31                            25.6   \n",
       "\n",
       "  regents_wo_advanced_perc_grads local_n   local_perc_cohort local_perc_grads  \\\n",
       "0                           54.3      14                21.9             30.4   \n",
       "1             33.299999999999997      14                26.9             42.4   \n",
       "2                           41.8      28  32.200000000000003             41.8   \n",
       "3                             40      39  34.799999999999997               52   \n",
       "4                           48.4      29                  24             45.3   \n",
       "\n",
       "  still_enrolled_n still_enrolled_perc_cohort dropped_out_n  \\\n",
       "0               10                       15.6             6   \n",
       "1               16                       30.8             1   \n",
       "2                9                       10.3            11   \n",
       "3               33                       29.5             4   \n",
       "4               41                       33.9            11   \n",
       "\n",
       "  dropped_out_perc_cohort  \n",
       "0                     9.4  \n",
       "1                     1.9  \n",
       "2                    12.6  \n",
       "3                     3.6  \n",
       "4                     9.1  \n",
       "\n",
       "[5 rows x 23 columns]"
      ]
     },
     "execution_count": 21,
     "metadata": {},
     "output_type": "execute_result"
    }
   ],
   "source": [
    "grd_df01_s01 = pd.read_sql(grd_select_dbn_stmnt,\n",
    "                           conn)\n",
    "grd_df01_s01.head(5)"
   ]
  },
  {
   "cell_type": "code",
   "execution_count": 22,
   "id": "336a8566-d0c2-47f9-9aa8-8b6821384697",
   "metadata": {
    "tags": []
   },
   "outputs": [
    {
     "name": "stdout",
     "output_type": "stream",
     "text": [
      "[OK]\n"
     ]
    }
   ],
   "source": [
    "if not grd_df01_s01.empty:\n",
    "    print(\"[OK]\")\n",
    "else:\n",
    "    print(\"++++++++++++++++++++++++++++++++++++++++++++++++++++++\")\n",
    "    print(\"[ERROR] YOUR DATA HAS NOT BEEN REGISTERED WITH ATHENA. LOOK IN PREVIOUS CELLS TO FIND THE ISSUE.\")\n",
    "    print(\"++++++++++++++++++++++++++++++++++++++++++++++++++++++\")"
   ]
  },
  {
   "cell_type": "markdown",
   "id": "b090569e-30f8-424e-ac82-232557143375",
   "metadata": {},
   "source": [
    "## Create Athena Table from Local TSV File - `2014_-_2015_DOE_High_School_Directory.tsv`"
   ]
  },
  {
   "cell_type": "markdown",
   "id": "d5b36d83-e3f3-49b4-8a54-521db7b569c4",
   "metadata": {},
   "source": [
    "### Dataset columns\n",
    "\n",
    "- `dbn`: ,\n",
    "- `school_name`: ,\n",
    "- `borough`: ,\n",
    "- `building_code`: ,\n",
    "- `phone_number`: ,\n",
    "- `fax_number`: ,\n",
    "- `grade_span_min`: ,\n",
    "- `grade_span_max`: ,\n",
    "- `expgrade_span_min`: ,\n",
    "- `expgrade_span_max`: ,\n",
    "- `bus`: ,\n",
    "- `subway`: ,\n",
    "- `primary_address_line_1`: ,\n",
    "- `city`: ,\n",
    "- `state_code`: ,\n",
    "- `postcode`: ,\n",
    "- `website`: ,\n",
    "- `total_students`: ,\n",
    "- `campus_name`: ,\n",
    "- `school_type`: ,\n",
    "- `overview_paragraph`: ,\n",
    "- `program_highlights`: ,\n",
    "- `language_classes`: ,\n",
    "- `advancedplacement_courses`: ,\n",
    "- `online_ap_courses`: ,\n",
    "- `online_language_courses`: ,\n",
    "- `extracurricular_activities`: ,\n",
    "- `psal_sports_boys`: ,\n",
    "- `psal_sports_girls`: ,\n",
    "- `psal_sports_coed`: ,\n",
    "- `school_sports`: ,\n",
    "- `partner_cbo`: ,\n",
    "- `partner_hospital`: ,\n",
    "- `partner_highered`: ,\n",
    "- `partner_cultural`: ,\n",
    "- `partner_nonprofit`: ,\n",
    "- `partner_corporate`: ,\n",
    "- `partner_financial`: ,\n",
    "- `partner_other`: ,\n",
    "- `addtl_info1`: ,\n",
    "- `addtl_info2`: ,\n",
    "- `start_time`: ,\n",
    "- `end_time`: ,\n",
    "- `se_services`: ,\n",
    "- `ell_programs`: ,\n",
    "- `school_accessibility_description`: ,\n",
    "- `number_programs`: ,\n",
    "- `priority01`: ,\n",
    "- `priority02`: ,\n",
    "- `priority03`: ,\n",
    "- `priority04`: ,\n",
    "- `priority05`: ,\n",
    "- `priority06`: ,\n",
    "- `priority07`: ,\n",
    "- `priority08`: ,\n",
    "- `priority09`: ,\n",
    "- `priority10`: ,\n",
    "- `location_1`: ,\n",
    "- `community_board`: ,\n",
    "- `council_district`: ,\n",
    "- `census_tract`: ,\n",
    "- `bin`: ,\n",
    "- `bbl`: ,\n",
    "- `nta`: "
   ]
  },
  {
   "cell_type": "code",
   "execution_count": 23,
   "id": "16bd9be5-f2d0-4c8b-a976-eec2f08f6dd3",
   "metadata": {},
   "outputs": [
    {
     "name": "stdout",
     "output_type": "stream",
     "text": [
      "s3://sagemaker-us-east-ads508-sp23-t8/raw_data/hs_dir\n",
      "Create table statement:\n",
      "\n",
      "    CREATE EXTERNAL TABLE IF NOT EXISTS ads508_t8.hs_info(\n",
      "dbn string,\n",
      "school_name string,\n",
      "borough string,\n",
      "building_code string,\n",
      "phone_number string,\n",
      "fax_number string,\n",
      "grade_span_min string,\n",
      "grade_span_max string,\n",
      "expgrade_span_min string,\n",
      "expgrade_span_max string,\n",
      "bus string,\n",
      "subway string,\n",
      "primary_address_line_1 string,\n",
      "city string,\n",
      "state_code string,\n",
      "postcode string,\n",
      "website string,\n",
      "total_students string,\n",
      "campus_name string,\n",
      "school_type string,\n",
      "overview_paragraph string,\n",
      "program_highlights string,\n",
      "language_classes string,\n",
      "advancedplacement_courses string,\n",
      "online_ap_courses string,\n",
      "online_language_courses string,\n",
      "extracurricular_activities string,\n",
      "psal_sports_boys string,\n",
      "psal_sports_girls string,\n",
      "psal_sports_coed string,\n",
      "school_sports string,\n",
      "partner_cbo string,\n",
      "partner_hospital string,\n",
      "partner_highered string,\n",
      "partner_cultural string,\n",
      "partner_nonprofit string,\n",
      "partner_corporate string,\n",
      "partner_financial string,\n",
      "partner_other string,\n",
      "addtl_info1 string,\n",
      "addtl_info2 string,\n",
      "start_time string,\n",
      "end_time string,\n",
      "se_services string,\n",
      "ell_programs string,\n",
      "school_accessibility_description string,\n",
      "number_programs string,\n",
      "priority01 string,\n",
      "priority02 string,\n",
      "priority03 string,\n",
      "priority04 string,\n",
      "priority05 string,\n",
      "priority06 string,\n",
      "priority07 string,\n",
      "priority08 string,\n",
      "priority09 string,\n",
      "priority10 string,\n",
      "location_1 string,\n",
      "community_board string,\n",
      "council_district string,\n",
      "census_tract string,\n",
      "bin string,\n",
      "bbl string,\n",
      "nta string\n",
      ")\n",
      "    ROW FORMAT DELIMITED FIELDS TERMINATED BY '\\t' LINES TERMINATED BY '\\n' LOCATION 's3://sagemaker-us-east-ads508-sp23-t8/raw_data/hs_dir'\n",
      "    TBLPROPERTIES ('skip.header.line.count'='1')\n"
     ]
    },
    {
     "data": {
      "text/html": [
       "<div>\n",
       "<style scoped>\n",
       "    .dataframe tbody tr th:only-of-type {\n",
       "        vertical-align: middle;\n",
       "    }\n",
       "\n",
       "    .dataframe tbody tr th {\n",
       "        vertical-align: top;\n",
       "    }\n",
       "\n",
       "    .dataframe thead th {\n",
       "        text-align: right;\n",
       "    }\n",
       "</style>\n",
       "<table border=\"1\" class=\"dataframe\">\n",
       "  <thead>\n",
       "    <tr style=\"text-align: right;\">\n",
       "      <th></th>\n",
       "      <th>tab_name</th>\n",
       "    </tr>\n",
       "  </thead>\n",
       "  <tbody>\n",
       "    <tr>\n",
       "      <th>0</th>\n",
       "      <td>grad_outcomes</td>\n",
       "    </tr>\n",
       "    <tr>\n",
       "      <th>1</th>\n",
       "      <td>hs_info</td>\n",
       "    </tr>\n",
       "  </tbody>\n",
       "</table>\n",
       "</div>"
      ],
      "text/plain": [
       "        tab_name\n",
       "0  grad_outcomes\n",
       "1        hs_info"
      ]
     },
     "metadata": {},
     "output_type": "display_data"
    },
    {
     "name": "stdout",
     "output_type": "stream",
     "text": [
      "\n",
      "Dataframe contains records: True\n"
     ]
    }
   ],
   "source": [
    "hsi_tbl_name = 'hs_info'\n",
    "hsi_field_list = \"\"\"\n",
    "dbn string,\n",
    "school_name string,\n",
    "borough string,\n",
    "building_code string,\n",
    "phone_number string,\n",
    "fax_number string,\n",
    "grade_span_min string,\n",
    "grade_span_max string,\n",
    "expgrade_span_min string,\n",
    "expgrade_span_max string,\n",
    "bus string,\n",
    "subway string,\n",
    "primary_address_line_1 string,\n",
    "city string,\n",
    "state_code string,\n",
    "postcode string,\n",
    "website string,\n",
    "total_students string,\n",
    "campus_name string,\n",
    "school_type string,\n",
    "overview_paragraph string,\n",
    "program_highlights string,\n",
    "language_classes string,\n",
    "advancedplacement_courses string,\n",
    "online_ap_courses string,\n",
    "online_language_courses string,\n",
    "extracurricular_activities string,\n",
    "psal_sports_boys string,\n",
    "psal_sports_girls string,\n",
    "psal_sports_coed string,\n",
    "school_sports string,\n",
    "partner_cbo string,\n",
    "partner_hospital string,\n",
    "partner_highered string,\n",
    "partner_cultural string,\n",
    "partner_nonprofit string,\n",
    "partner_corporate string,\n",
    "partner_financial string,\n",
    "partner_other string,\n",
    "addtl_info1 string,\n",
    "addtl_info2 string,\n",
    "start_time string,\n",
    "end_time string,\n",
    "se_services string,\n",
    "ell_programs string,\n",
    "school_accessibility_description string,\n",
    "number_programs string,\n",
    "priority01 string,\n",
    "priority02 string,\n",
    "priority03 string,\n",
    "priority04 string,\n",
    "priority05 string,\n",
    "priority06 string,\n",
    "priority07 string,\n",
    "priority08 string,\n",
    "priority09 string,\n",
    "priority10 string,\n",
    "location_1 string,\n",
    "community_board string,\n",
    "council_district string,\n",
    "census_tract string,\n",
    "bin string,\n",
    "bbl string,\n",
    "nta string\n",
    "\"\"\"\n",
    "hsi_s3_raw_data_path = f\"s3://{bucket}/raw_data/hs_dir\"\n",
    "print(hsi_s3_raw_data_path)\n",
    "\n",
    "create_athena_tbl_tsv(conn=conn,\n",
    "                      db=database_name,\n",
    "                      tbl_name=hsi_tbl_name,\n",
    "                      fields=hsi_field_list,\n",
    "                      s3_path=hsi_s3_raw_data_path,\n",
    "                      delim='\\\\t',\n",
    "                      comp='',\n",
    "                      skip=\"'skip.header.line.count'='1'\")"
   ]
  },
  {
   "cell_type": "markdown",
   "id": "8cc58711-c855-456d-be8e-b5e6c51162a4",
   "metadata": {},
   "source": [
    "### Run A Sample Query"
   ]
  },
  {
   "cell_type": "code",
   "execution_count": 24,
   "id": "d1bc66a2-5ed8-49e7-9fa9-504a44b04598",
   "metadata": {
    "tags": []
   },
   "outputs": [
    {
     "name": "stdout",
     "output_type": "stream",
     "text": [
      "SELECT * FROM ads508_t8.hs_info\n",
      "WHERE dbn = '01M448' LIMIT 20\n"
     ]
    }
   ],
   "source": [
    "hsi_dbn_id01 = \"01M448\"\n",
    "\n",
    "hsi_select_dbn_stmnt = f\"\"\"SELECT * FROM {database_name}.{hsi_tbl_name}\n",
    "WHERE dbn = '{hsi_dbn_id01}' LIMIT 20\"\"\"\n",
    "\n",
    "print(hsi_select_dbn_stmnt)"
   ]
  },
  {
   "cell_type": "code",
   "execution_count": 25,
   "id": "ca5ff2cc-70db-47cc-914c-eb1973cc095a",
   "metadata": {
    "tags": []
   },
   "outputs": [
    {
     "data": {
      "text/html": [
       "<div>\n",
       "<style scoped>\n",
       "    .dataframe tbody tr th:only-of-type {\n",
       "        vertical-align: middle;\n",
       "    }\n",
       "\n",
       "    .dataframe tbody tr th {\n",
       "        vertical-align: top;\n",
       "    }\n",
       "\n",
       "    .dataframe thead th {\n",
       "        text-align: right;\n",
       "    }\n",
       "</style>\n",
       "<table border=\"1\" class=\"dataframe\">\n",
       "  <thead>\n",
       "    <tr style=\"text-align: right;\">\n",
       "      <th></th>\n",
       "      <th>dbn</th>\n",
       "      <th>school_name</th>\n",
       "      <th>borough</th>\n",
       "      <th>building_code</th>\n",
       "      <th>phone_number</th>\n",
       "      <th>fax_number</th>\n",
       "      <th>grade_span_min</th>\n",
       "      <th>grade_span_max</th>\n",
       "      <th>expgrade_span_min</th>\n",
       "      <th>expgrade_span_max</th>\n",
       "      <th>...</th>\n",
       "      <th>priority08</th>\n",
       "      <th>priority09</th>\n",
       "      <th>priority10</th>\n",
       "      <th>location_1</th>\n",
       "      <th>community_board</th>\n",
       "      <th>council_district</th>\n",
       "      <th>census_tract</th>\n",
       "      <th>bin</th>\n",
       "      <th>bbl</th>\n",
       "      <th>nta</th>\n",
       "    </tr>\n",
       "  </thead>\n",
       "  <tbody>\n",
       "    <tr>\n",
       "      <th>0</th>\n",
       "      <td>01M448</td>\n",
       "      <td>University Neighborhood High School</td>\n",
       "      <td>Manhattan</td>\n",
       "      <td>M446</td>\n",
       "      <td>212-962-4341</td>\n",
       "      <td>212-267-5611</td>\n",
       "      <td>9</td>\n",
       "      <td>12</td>\n",
       "      <td></td>\n",
       "      <td></td>\n",
       "      <td>...</td>\n",
       "      <td></td>\n",
       "      <td></td>\n",
       "      <td></td>\n",
       "      <td>\"200 Monroe Street</td>\n",
       "      <td>None</td>\n",
       "      <td>None</td>\n",
       "      <td>None</td>\n",
       "      <td>None</td>\n",
       "      <td>None</td>\n",
       "      <td>None</td>\n",
       "    </tr>\n",
       "  </tbody>\n",
       "</table>\n",
       "<p>1 rows × 64 columns</p>\n",
       "</div>"
      ],
      "text/plain": [
       "      dbn                          school_name    borough building_code  \\\n",
       "0  01M448  University Neighborhood High School  Manhattan          M446   \n",
       "\n",
       "   phone_number    fax_number grade_span_min grade_span_max expgrade_span_min  \\\n",
       "0  212-962-4341  212-267-5611              9             12                     \n",
       "\n",
       "  expgrade_span_max  ... priority08 priority09 priority10          location_1  \\\n",
       "0                    ...                                   \"200 Monroe Street   \n",
       "\n",
       "  community_board council_district census_tract   bin   bbl   nta  \n",
       "0            None             None         None  None  None  None  \n",
       "\n",
       "[1 rows x 64 columns]"
      ]
     },
     "execution_count": 25,
     "metadata": {},
     "output_type": "execute_result"
    }
   ],
   "source": [
    "hsi_df01_s01 = pd.read_sql(hsi_select_dbn_stmnt,\n",
    "                           conn)\n",
    "hsi_df01_s01.head(5)"
   ]
  },
  {
   "cell_type": "code",
   "execution_count": 26,
   "id": "76da2790-404d-4d25-9d9b-efd596acdff8",
   "metadata": {
    "tags": []
   },
   "outputs": [
    {
     "name": "stdout",
     "output_type": "stream",
     "text": [
      "[OK]\n"
     ]
    }
   ],
   "source": [
    "if not hsi_df01_s01.empty:\n",
    "    print(\"[OK]\")\n",
    "else:\n",
    "    print(\"++++++++++++++++++++++++++++++++++++++++++++++++++++++\")\n",
    "    print(\"[ERROR] YOUR DATA HAS NOT BEEN REGISTERED WITH ATHENA. LOOK IN PREVIOUS CELLS TO FIND THE ISSUE.\")\n",
    "    print(\"++++++++++++++++++++++++++++++++++++++++++++++++++++++\")"
   ]
  },
  {
   "cell_type": "markdown",
   "id": "f0782d6b-9b2a-4a20-88bc-87475bdf7ea7",
   "metadata": {},
   "source": [
    "## Create Athena Table from Local CSV File - `nyc_census_tracts.csv`"
   ]
  },
  {
   "cell_type": "markdown",
   "id": "a424b790-2d04-4efb-8864-522b83bfd6ed",
   "metadata": {},
   "source": [
    "### Dataset columns\n",
    "\n",
    "- `censustract`: ,\n",
    "- `county`: ,\n",
    "- `borough`: ,\n",
    "- `totalpop`: ,\n",
    "- `men`: ,\n",
    "- `women`: ,\n",
    "- `hispanic`: ,\n",
    "- `white`: ,\n",
    "- `black`: ,\n",
    "- `native`: ,\n",
    "- `asian`: ,\n",
    "- `citizen`: ,\n",
    "- `income`: ,\n",
    "- `incomeerr`: ,\n",
    "- `incomepercap`: ,\n",
    "- `incomepercaperr`: ,\n",
    "- `poverty`: ,\n",
    "- `childpoverty`: ,\n",
    "- `professional`: ,\n",
    "- `service`: ,\n",
    "- `office`: ,\n",
    "- `construction`: ,\n",
    "- `production`: ,\n",
    "- `drive`: ,\n",
    "- `carpool`: ,\n",
    "- `transit`: ,\n",
    "- `walk`: ,\n",
    "- `othertransp`: ,\n",
    "- `workathome`: ,\n",
    "- `meancommute`: ,\n",
    "- `employed`: ,\n",
    "- `privatework`: ,\n",
    "- `publicwork`: ,\n",
    "- `selfemployed`: ,\n",
    "- `familywork`: ,\n",
    "- `unemployment`: "
   ]
  },
  {
   "cell_type": "code",
   "execution_count": 28,
   "id": "6de2674c-f412-4f82-b450-8f07891b7f03",
   "metadata": {},
   "outputs": [
    {
     "name": "stdout",
     "output_type": "stream",
     "text": [
      "s3://sagemaker-us-east-ads508-sp23-t8/raw_data/census\n",
      "Create table statement:\n",
      "\n",
      "    CREATE EXTERNAL TABLE IF NOT EXISTS ads508_t8.crime(\n",
      "censustract string,\n",
      "county string,\n",
      "borough string,\n",
      "totalpop string,\n",
      "men string,\n",
      "women string,\n",
      "hispanic string,\n",
      "white string,\n",
      "black string,\n",
      "native string,\n",
      "asian string,\n",
      "citizen string,\n",
      "income string,\n",
      "incomeerr string,\n",
      "incomepercap string,\n",
      "incomepercaperr string,\n",
      "poverty string,\n",
      "childpoverty string,\n",
      "professional string,\n",
      "service string,\n",
      "office string,\n",
      "construction string,\n",
      "production string,\n",
      "drive string,\n",
      "carpool string,\n",
      "transit string,\n",
      "walk string,\n",
      "othertransp string,\n",
      "workathome string,\n",
      "meancommute string,\n",
      "employed string,\n",
      "privatework string,\n",
      "publicwork string,\n",
      "selfemployed string,\n",
      "familywork string,\n",
      "unemployment string\n",
      ")\n",
      "    ROW FORMAT DELIMITED FIELDS TERMINATED BY ',' LINES TERMINATED BY '\\n' LOCATION 's3://sagemaker-us-east-ads508-sp23-t8/raw_data/census'\n",
      "    TBLPROPERTIES ('skip.header.line.count'='1')\n"
     ]
    },
    {
     "data": {
      "text/html": [
       "<div>\n",
       "<style scoped>\n",
       "    .dataframe tbody tr th:only-of-type {\n",
       "        vertical-align: middle;\n",
       "    }\n",
       "\n",
       "    .dataframe tbody tr th {\n",
       "        vertical-align: top;\n",
       "    }\n",
       "\n",
       "    .dataframe thead th {\n",
       "        text-align: right;\n",
       "    }\n",
       "</style>\n",
       "<table border=\"1\" class=\"dataframe\">\n",
       "  <thead>\n",
       "    <tr style=\"text-align: right;\">\n",
       "      <th></th>\n",
       "      <th>tab_name</th>\n",
       "    </tr>\n",
       "  </thead>\n",
       "  <tbody>\n",
       "    <tr>\n",
       "      <th>0</th>\n",
       "      <td>crime</td>\n",
       "    </tr>\n",
       "    <tr>\n",
       "      <th>1</th>\n",
       "      <td>grad_outcomes</td>\n",
       "    </tr>\n",
       "    <tr>\n",
       "      <th>2</th>\n",
       "      <td>hs_info</td>\n",
       "    </tr>\n",
       "  </tbody>\n",
       "</table>\n",
       "</div>"
      ],
      "text/plain": [
       "        tab_name\n",
       "0          crime\n",
       "1  grad_outcomes\n",
       "2        hs_info"
      ]
     },
     "metadata": {},
     "output_type": "display_data"
    },
    {
     "name": "stdout",
     "output_type": "stream",
     "text": [
      "\n",
      "Dataframe contains records: True\n"
     ]
    }
   ],
   "source": [
    "cen_tbl_name = 'census'\n",
    "cen_field_list = \"\"\"\n",
    "censustract string,\n",
    "county string,\n",
    "borough string,\n",
    "totalpop string,\n",
    "men string,\n",
    "women string,\n",
    "hispanic string,\n",
    "white string,\n",
    "black string,\n",
    "native string,\n",
    "asian string,\n",
    "citizen string,\n",
    "income string,\n",
    "incomeerr string,\n",
    "incomepercap string,\n",
    "incomepercaperr string,\n",
    "poverty string,\n",
    "childpoverty string,\n",
    "professional string,\n",
    "service string,\n",
    "office string,\n",
    "construction string,\n",
    "production string,\n",
    "drive string,\n",
    "carpool string,\n",
    "transit string,\n",
    "walk string,\n",
    "othertransp string,\n",
    "workathome string,\n",
    "meancommute string,\n",
    "employed string,\n",
    "privatework string,\n",
    "publicwork string,\n",
    "selfemployed string,\n",
    "familywork string,\n",
    "unemployment string\n",
    "\"\"\"\n",
    "cen_s3_raw_data_path = f\"s3://{bucket}/raw_data/census\"\n",
    "print(cen_s3_raw_data_path)\n",
    "\n",
    "create_athena_tbl_tsv(conn=conn,\n",
    "                      db=database_name,\n",
    "                      tbl_name=cen_tbl_name,\n",
    "                      fields=cen_field_list,\n",
    "                      s3_path=cen_s3_raw_data_path,\n",
    "                      comp='',\n",
    "                      skip=\"'skip.header.line.count'='1'\")"
   ]
  },
  {
   "cell_type": "markdown",
   "id": "678d4906-c431-44a9-9f1e-2989ce699587",
   "metadata": {},
   "source": [
    "### Run A Sample Query"
   ]
  },
  {
   "cell_type": "code",
   "execution_count": 29,
   "id": "3445f5d7-6bd3-4909-b0c3-6e674d09533c",
   "metadata": {
    "tags": []
   },
   "outputs": [
    {
     "name": "stdout",
     "output_type": "stream",
     "text": [
      "SELECT * FROM ads508_t8.crime\n",
      "WHERE borough = 'Bronx' LIMIT 20\n"
     ]
    }
   ],
   "source": [
    "cen_bourough_id01 = \"Bronx\"\n",
    "\n",
    "cen_select_dbn_stmnt = f\"\"\"SELECT * FROM {database_name}.{cen_tbl_name}\n",
    "WHERE borough = '{cen_bourough_id01}' LIMIT 20\"\"\"\n",
    "\n",
    "print(cen_select_dbn_stmnt)"
   ]
  },
  {
   "cell_type": "code",
   "execution_count": 30,
   "id": "7538b48a-92f6-4346-9f01-30c5ff22d21f",
   "metadata": {
    "tags": []
   },
   "outputs": [
    {
     "data": {
      "text/html": [
       "<div>\n",
       "<style scoped>\n",
       "    .dataframe tbody tr th:only-of-type {\n",
       "        vertical-align: middle;\n",
       "    }\n",
       "\n",
       "    .dataframe tbody tr th {\n",
       "        vertical-align: top;\n",
       "    }\n",
       "\n",
       "    .dataframe thead th {\n",
       "        text-align: right;\n",
       "    }\n",
       "</style>\n",
       "<table border=\"1\" class=\"dataframe\">\n",
       "  <thead>\n",
       "    <tr style=\"text-align: right;\">\n",
       "      <th></th>\n",
       "      <th>censustract</th>\n",
       "      <th>county</th>\n",
       "      <th>borough</th>\n",
       "      <th>totalpop</th>\n",
       "      <th>men</th>\n",
       "      <th>women</th>\n",
       "      <th>hispanic</th>\n",
       "      <th>white</th>\n",
       "      <th>black</th>\n",
       "      <th>native</th>\n",
       "      <th>...</th>\n",
       "      <th>walk</th>\n",
       "      <th>othertransp</th>\n",
       "      <th>workathome</th>\n",
       "      <th>meancommute</th>\n",
       "      <th>employed</th>\n",
       "      <th>privatework</th>\n",
       "      <th>publicwork</th>\n",
       "      <th>selfemployed</th>\n",
       "      <th>familywork</th>\n",
       "      <th>unemployment</th>\n",
       "    </tr>\n",
       "  </thead>\n",
       "  <tbody>\n",
       "    <tr>\n",
       "      <th>0</th>\n",
       "      <td>36005000100</td>\n",
       "      <td>Bronx</td>\n",
       "      <td>Bronx</td>\n",
       "      <td>7703</td>\n",
       "      <td>7133</td>\n",
       "      <td>570</td>\n",
       "      <td>29.9</td>\n",
       "      <td>6.1</td>\n",
       "      <td>60.9</td>\n",
       "      <td>0.2</td>\n",
       "      <td>...</td>\n",
       "      <td></td>\n",
       "      <td></td>\n",
       "      <td></td>\n",
       "      <td></td>\n",
       "      <td>0</td>\n",
       "      <td></td>\n",
       "      <td></td>\n",
       "      <td></td>\n",
       "      <td></td>\n",
       "      <td></td>\n",
       "    </tr>\n",
       "    <tr>\n",
       "      <th>1</th>\n",
       "      <td>36005000200</td>\n",
       "      <td>Bronx</td>\n",
       "      <td>Bronx</td>\n",
       "      <td>5403</td>\n",
       "      <td>2659</td>\n",
       "      <td>2744</td>\n",
       "      <td>75.8</td>\n",
       "      <td>2.3</td>\n",
       "      <td>16.0</td>\n",
       "      <td>0.0</td>\n",
       "      <td>...</td>\n",
       "      <td>2.9</td>\n",
       "      <td>0.0</td>\n",
       "      <td>0.0</td>\n",
       "      <td>43.0</td>\n",
       "      <td>2308</td>\n",
       "      <td>80.8</td>\n",
       "      <td>16.2</td>\n",
       "      <td>2.9</td>\n",
       "      <td>0.0</td>\n",
       "      <td>7.7</td>\n",
       "    </tr>\n",
       "    <tr>\n",
       "      <th>2</th>\n",
       "      <td>36005000400</td>\n",
       "      <td>Bronx</td>\n",
       "      <td>Bronx</td>\n",
       "      <td>5915</td>\n",
       "      <td>2896</td>\n",
       "      <td>3019</td>\n",
       "      <td>62.7</td>\n",
       "      <td>3.6</td>\n",
       "      <td>30.7</td>\n",
       "      <td>0.0</td>\n",
       "      <td>...</td>\n",
       "      <td>1.4</td>\n",
       "      <td>0.5</td>\n",
       "      <td>2.1</td>\n",
       "      <td>45.0</td>\n",
       "      <td>2675</td>\n",
       "      <td>71.7</td>\n",
       "      <td>25.3</td>\n",
       "      <td>2.5</td>\n",
       "      <td>0.6</td>\n",
       "      <td>9.5</td>\n",
       "    </tr>\n",
       "    <tr>\n",
       "      <th>3</th>\n",
       "      <td>36005001600</td>\n",
       "      <td>Bronx</td>\n",
       "      <td>Bronx</td>\n",
       "      <td>5879</td>\n",
       "      <td>2558</td>\n",
       "      <td>3321</td>\n",
       "      <td>65.1</td>\n",
       "      <td>1.6</td>\n",
       "      <td>32.4</td>\n",
       "      <td>0.0</td>\n",
       "      <td>...</td>\n",
       "      <td>8.6</td>\n",
       "      <td>1.6</td>\n",
       "      <td>1.7</td>\n",
       "      <td>38.8</td>\n",
       "      <td>2120</td>\n",
       "      <td>75.0</td>\n",
       "      <td>21.3</td>\n",
       "      <td>3.8</td>\n",
       "      <td>0.0</td>\n",
       "      <td>8.7</td>\n",
       "    </tr>\n",
       "    <tr>\n",
       "      <th>4</th>\n",
       "      <td>36005001900</td>\n",
       "      <td>Bronx</td>\n",
       "      <td>Bronx</td>\n",
       "      <td>2591</td>\n",
       "      <td>1206</td>\n",
       "      <td>1385</td>\n",
       "      <td>55.4</td>\n",
       "      <td>9.0</td>\n",
       "      <td>29.0</td>\n",
       "      <td>0.0</td>\n",
       "      <td>...</td>\n",
       "      <td>3.0</td>\n",
       "      <td>2.4</td>\n",
       "      <td>6.2</td>\n",
       "      <td>45.4</td>\n",
       "      <td>1083</td>\n",
       "      <td>76.8</td>\n",
       "      <td>15.5</td>\n",
       "      <td>7.7</td>\n",
       "      <td>0.0</td>\n",
       "      <td>19.2</td>\n",
       "    </tr>\n",
       "  </tbody>\n",
       "</table>\n",
       "<p>5 rows × 36 columns</p>\n",
       "</div>"
      ],
      "text/plain": [
       "   censustract county borough totalpop   men women hispanic white black  \\\n",
       "0  36005000100  Bronx   Bronx     7703  7133   570     29.9   6.1  60.9   \n",
       "1  36005000200  Bronx   Bronx     5403  2659  2744     75.8   2.3  16.0   \n",
       "2  36005000400  Bronx   Bronx     5915  2896  3019     62.7   3.6  30.7   \n",
       "3  36005001600  Bronx   Bronx     5879  2558  3321     65.1   1.6  32.4   \n",
       "4  36005001900  Bronx   Bronx     2591  1206  1385     55.4   9.0  29.0   \n",
       "\n",
       "  native  ... walk othertransp workathome meancommute employed privatework  \\\n",
       "0    0.2  ...                                                0               \n",
       "1    0.0  ...  2.9         0.0        0.0        43.0     2308        80.8   \n",
       "2    0.0  ...  1.4         0.5        2.1        45.0     2675        71.7   \n",
       "3    0.0  ...  8.6         1.6        1.7        38.8     2120        75.0   \n",
       "4    0.0  ...  3.0         2.4        6.2        45.4     1083        76.8   \n",
       "\n",
       "  publicwork selfemployed familywork unemployment  \n",
       "0                                                  \n",
       "1       16.2          2.9        0.0          7.7  \n",
       "2       25.3          2.5        0.6          9.5  \n",
       "3       21.3          3.8        0.0          8.7  \n",
       "4       15.5          7.7        0.0         19.2  \n",
       "\n",
       "[5 rows x 36 columns]"
      ]
     },
     "execution_count": 30,
     "metadata": {},
     "output_type": "execute_result"
    }
   ],
   "source": [
    "cen_df01_s01 = pd.read_sql(cen_select_dbn_stmnt,\n",
    "                           conn)\n",
    "cen_df01_s01.head(5)"
   ]
  },
  {
   "cell_type": "code",
   "execution_count": 31,
   "id": "55ad2a8b-d97f-4bce-9e6b-5a21f9328a17",
   "metadata": {
    "tags": []
   },
   "outputs": [
    {
     "name": "stdout",
     "output_type": "stream",
     "text": [
      "[OK]\n"
     ]
    }
   ],
   "source": [
    "if not cen_df01_s01.empty:\n",
    "    print(\"[OK]\")\n",
    "else:\n",
    "    print(\"++++++++++++++++++++++++++++++++++++++++++++++++++++++\")\n",
    "    print(\"[ERROR] YOUR DATA HAS NOT BEEN REGISTERED WITH ATHENA. LOOK IN PREVIOUS CELLS TO FIND THE ISSUE.\")\n",
    "    print(\"++++++++++++++++++++++++++++++++++++++++++++++++++++++\")"
   ]
  },
  {
   "cell_type": "markdown",
   "id": "03d623fb-8114-45cb-88e2-fe88879c5ef2",
   "metadata": {},
   "source": [
    "## Create Athena Table from Local TSV File - `NYPD_Complaint_Data_Historic (1).csv`"
   ]
  },
  {
   "cell_type": "markdown",
   "id": "24683d66-e615-45e8-a7b4-4a92834f6234",
   "metadata": {},
   "source": [
    "### Dataset columns\n",
    "\n",
    "- `cmplnt_num`: ,\n",
    "- `cmplnt_fr_dt`: ,\n",
    "- `cmplnt_fr_tm`: ,\n",
    "- `cmplnt_to_dt`: ,\n",
    "- `cmplnt_to_tm`: ,\n",
    "- `addr_pct_cd`: ,\n",
    "- `rpt_dt`: ,\n",
    "- `ky_cd`: ,\n",
    "- `ofns_desc`: ,\n",
    "- `pd_cd`: ,\n",
    "- `pd_desc`: ,\n",
    "- `crm_atpt_cptd_cd`: ,\n",
    "- `law_cat_cd`: ,\n",
    "- `boro_nm`: ,\n",
    "- `loc_of_occur_desc`: ,\n",
    "- `prem_typ_desc`: ,\n",
    "- `juris_desc`: ,\n",
    "- `jurisdiction_code`: ,\n",
    "- `parks_nm`: ,\n",
    "- `hadevelopt`: ,\n",
    "- `housing_psa`: ,\n",
    "- `x_coord_cd`: ,\n",
    "- `y_coord_cd`: ,\n",
    "- `susp_age_group`: ,\n",
    "- `susp_race`: ,\n",
    "- `susp_sex`: ,\n",
    "- `transit_district`: ,\n",
    "- `latitude`: ,\n",
    "- `longitude`: ,\n",
    "- `lat_lon`: ,\n",
    "- `patrol_boro`: ,\n",
    "- `station_name`: ,\n",
    "- `vic_age_group`: ,\n",
    "- `vic_race`: ,\n",
    "- `vic_sex`: "
   ]
  },
  {
   "cell_type": "code",
   "execution_count": 23,
   "id": "37c4b59c-2608-4154-a558-1edd215f1349",
   "metadata": {},
   "outputs": [
    {
     "name": "stdout",
     "output_type": "stream",
     "text": [
      "s3://sagemaker-us-east-ads508-sp23-t8/raw_data/hs_dir\n",
      "Create table statement:\n",
      "\n",
      "    CREATE EXTERNAL TABLE IF NOT EXISTS ads508_t8.hs_info(\n",
      "dbn string,\n",
      "school_name string,\n",
      "borough string,\n",
      "building_code string,\n",
      "phone_number string,\n",
      "fax_number string,\n",
      "grade_span_min string,\n",
      "grade_span_max string,\n",
      "expgrade_span_min string,\n",
      "expgrade_span_max string,\n",
      "bus string,\n",
      "subway string,\n",
      "primary_address_line_1 string,\n",
      "city string,\n",
      "state_code string,\n",
      "postcode string,\n",
      "website string,\n",
      "total_students string,\n",
      "campus_name string,\n",
      "school_type string,\n",
      "overview_paragraph string,\n",
      "program_highlights string,\n",
      "language_classes string,\n",
      "advancedplacement_courses string,\n",
      "online_ap_courses string,\n",
      "online_language_courses string,\n",
      "extracurricular_activities string,\n",
      "psal_sports_boys string,\n",
      "psal_sports_girls string,\n",
      "psal_sports_coed string,\n",
      "school_sports string,\n",
      "partner_cbo string,\n",
      "partner_hospital string,\n",
      "partner_highered string,\n",
      "partner_cultural string,\n",
      "partner_nonprofit string,\n",
      "partner_corporate string,\n",
      "partner_financial string,\n",
      "partner_other string,\n",
      "addtl_info1 string,\n",
      "addtl_info2 string,\n",
      "start_time string,\n",
      "end_time string,\n",
      "se_services string,\n",
      "ell_programs string,\n",
      "school_accessibility_description string,\n",
      "number_programs string,\n",
      "priority01 string,\n",
      "priority02 string,\n",
      "priority03 string,\n",
      "priority04 string,\n",
      "priority05 string,\n",
      "priority06 string,\n",
      "priority07 string,\n",
      "priority08 string,\n",
      "priority09 string,\n",
      "priority10 string,\n",
      "location_1 string,\n",
      "community_board string,\n",
      "council_district string,\n",
      "census_tract string,\n",
      "bin string,\n",
      "bbl string,\n",
      "nta string\n",
      ")\n",
      "    ROW FORMAT DELIMITED FIELDS TERMINATED BY '\\t' LINES TERMINATED BY '\\n' LOCATION 's3://sagemaker-us-east-ads508-sp23-t8/raw_data/hs_dir'\n",
      "    TBLPROPERTIES ('skip.header.line.count'='1')\n"
     ]
    },
    {
     "data": {
      "text/html": [
       "<div>\n",
       "<style scoped>\n",
       "    .dataframe tbody tr th:only-of-type {\n",
       "        vertical-align: middle;\n",
       "    }\n",
       "\n",
       "    .dataframe tbody tr th {\n",
       "        vertical-align: top;\n",
       "    }\n",
       "\n",
       "    .dataframe thead th {\n",
       "        text-align: right;\n",
       "    }\n",
       "</style>\n",
       "<table border=\"1\" class=\"dataframe\">\n",
       "  <thead>\n",
       "    <tr style=\"text-align: right;\">\n",
       "      <th></th>\n",
       "      <th>tab_name</th>\n",
       "    </tr>\n",
       "  </thead>\n",
       "  <tbody>\n",
       "    <tr>\n",
       "      <th>0</th>\n",
       "      <td>grad_outcomes</td>\n",
       "    </tr>\n",
       "    <tr>\n",
       "      <th>1</th>\n",
       "      <td>hs_info</td>\n",
       "    </tr>\n",
       "  </tbody>\n",
       "</table>\n",
       "</div>"
      ],
      "text/plain": [
       "        tab_name\n",
       "0  grad_outcomes\n",
       "1        hs_info"
      ]
     },
     "metadata": {},
     "output_type": "display_data"
    },
    {
     "name": "stdout",
     "output_type": "stream",
     "text": [
      "\n",
      "Dataframe contains records: True\n"
     ]
    }
   ],
   "source": [
    "cri_tbl_name = 'hs_info'\n",
    "cri_field_list = \"\"\"\n",
    "cmplnt_num string,\n",
    "cmplnt_fr_dt string,\n",
    "cmplnt_fr_tm string,\n",
    "cmplnt_to_dt string,\n",
    "cmplnt_to_tm string,\n",
    "addr_pct_cd string,\n",
    "rpt_dt string,\n",
    "ky_cd string,\n",
    "ofns_desc string,\n",
    "pd_cd string,\n",
    "pd_desc string,\n",
    "crm_atpt_cptd_cd string,\n",
    "law_cat_cd string,\n",
    "boro_nm string,\n",
    "loc_of_occur_desc string,\n",
    "prem_typ_desc string,\n",
    "juris_desc string,\n",
    "jurisdiction_code string,\n",
    "parks_nm string,\n",
    "hadevelopt string,\n",
    "housing_psa string,\n",
    "x_coord_cd string,\n",
    "y_coord_cd string,\n",
    "susp_age_group string,\n",
    "susp_race string,\n",
    "susp_sex string,\n",
    "transit_district string,\n",
    "latitude string,\n",
    "longitude string,\n",
    "lat_lon string,\n",
    "patrol_boro string,\n",
    "station_name string,\n",
    "vic_age_group string,\n",
    "vic_race string,\n",
    "vic_sex string\n",
    "\"\"\"\n",
    "cri_s3_raw_data_path = f\"s3://{bucket}/raw_data/crime\"\n",
    "print(cri_s3_raw_data_path)\n",
    "\n",
    "create_athena_tbl_tsv(conn=conn,\n",
    "                      db=database_name,\n",
    "                      tbl_name=cri_tbl_name,\n",
    "                      fields=cri_field_list,\n",
    "                      s3_path=cri_s3_raw_data_path,\n",
    "                      delim='\\\\t',\n",
    "                      comp=\"'compressionType'='gzip'\",\n",
    "                      skip=\"'skip.header.line.count'='1'\")"
   ]
  },
  {
   "cell_type": "markdown",
   "id": "c8bb33f6-a6cf-4605-bce1-9523d1f5b304",
   "metadata": {},
   "source": [
    "### Run A Sample Query"
   ]
  },
  {
   "cell_type": "code",
   "execution_count": 24,
   "id": "dbdadc9d-9a80-4a08-a2bd-7df9e398751e",
   "metadata": {
    "tags": []
   },
   "outputs": [
    {
     "name": "stdout",
     "output_type": "stream",
     "text": [
      "SELECT * FROM ads508_t8.hs_info\n",
      "WHERE dbn = '01M448' LIMIT 20\n"
     ]
    }
   ],
   "source": [
    "cri_law_cat_cd01 = \"MISDEMEANOR\"\n",
    "\n",
    "cri_select_dbn_stmnt = f\"\"\"SELECT * FROM {database_name}.{cri_tbl_name}\n",
    "WHERE law_cat_cd = '{cri_law_cat_cd01}' LIMIT 20\"\"\"\n",
    "\n",
    "print(cri_select_dbn_stmnt)"
   ]
  },
  {
   "cell_type": "code",
   "execution_count": 25,
   "id": "e4f3e893-b995-4126-8cbf-0a41c0f811c5",
   "metadata": {
    "tags": []
   },
   "outputs": [
    {
     "data": {
      "text/html": [
       "<div>\n",
       "<style scoped>\n",
       "    .dataframe tbody tr th:only-of-type {\n",
       "        vertical-align: middle;\n",
       "    }\n",
       "\n",
       "    .dataframe tbody tr th {\n",
       "        vertical-align: top;\n",
       "    }\n",
       "\n",
       "    .dataframe thead th {\n",
       "        text-align: right;\n",
       "    }\n",
       "</style>\n",
       "<table border=\"1\" class=\"dataframe\">\n",
       "  <thead>\n",
       "    <tr style=\"text-align: right;\">\n",
       "      <th></th>\n",
       "      <th>dbn</th>\n",
       "      <th>school_name</th>\n",
       "      <th>borough</th>\n",
       "      <th>building_code</th>\n",
       "      <th>phone_number</th>\n",
       "      <th>fax_number</th>\n",
       "      <th>grade_span_min</th>\n",
       "      <th>grade_span_max</th>\n",
       "      <th>expgrade_span_min</th>\n",
       "      <th>expgrade_span_max</th>\n",
       "      <th>...</th>\n",
       "      <th>priority08</th>\n",
       "      <th>priority09</th>\n",
       "      <th>priority10</th>\n",
       "      <th>location_1</th>\n",
       "      <th>community_board</th>\n",
       "      <th>council_district</th>\n",
       "      <th>census_tract</th>\n",
       "      <th>bin</th>\n",
       "      <th>bbl</th>\n",
       "      <th>nta</th>\n",
       "    </tr>\n",
       "  </thead>\n",
       "  <tbody>\n",
       "    <tr>\n",
       "      <th>0</th>\n",
       "      <td>01M448</td>\n",
       "      <td>University Neighborhood High School</td>\n",
       "      <td>Manhattan</td>\n",
       "      <td>M446</td>\n",
       "      <td>212-962-4341</td>\n",
       "      <td>212-267-5611</td>\n",
       "      <td>9</td>\n",
       "      <td>12</td>\n",
       "      <td></td>\n",
       "      <td></td>\n",
       "      <td>...</td>\n",
       "      <td></td>\n",
       "      <td></td>\n",
       "      <td></td>\n",
       "      <td>\"200 Monroe Street</td>\n",
       "      <td>None</td>\n",
       "      <td>None</td>\n",
       "      <td>None</td>\n",
       "      <td>None</td>\n",
       "      <td>None</td>\n",
       "      <td>None</td>\n",
       "    </tr>\n",
       "  </tbody>\n",
       "</table>\n",
       "<p>1 rows × 64 columns</p>\n",
       "</div>"
      ],
      "text/plain": [
       "      dbn                          school_name    borough building_code  \\\n",
       "0  01M448  University Neighborhood High School  Manhattan          M446   \n",
       "\n",
       "   phone_number    fax_number grade_span_min grade_span_max expgrade_span_min  \\\n",
       "0  212-962-4341  212-267-5611              9             12                     \n",
       "\n",
       "  expgrade_span_max  ... priority08 priority09 priority10          location_1  \\\n",
       "0                    ...                                   \"200 Monroe Street   \n",
       "\n",
       "  community_board council_district census_tract   bin   bbl   nta  \n",
       "0            None             None         None  None  None  None  \n",
       "\n",
       "[1 rows x 64 columns]"
      ]
     },
     "execution_count": 25,
     "metadata": {},
     "output_type": "execute_result"
    }
   ],
   "source": [
    "cri_df01_s01 = pd.read_sql(cri_select_dbn_stmnt,\n",
    "                           conn)\n",
    "cri_df01_s01.head(5)"
   ]
  },
  {
   "cell_type": "code",
   "execution_count": 26,
   "id": "5049df25-8462-411b-b015-0a68aee1cb18",
   "metadata": {
    "tags": []
   },
   "outputs": [
    {
     "name": "stdout",
     "output_type": "stream",
     "text": [
      "[OK]\n"
     ]
    }
   ],
   "source": [
    "if not cri_df01_s01.empty:\n",
    "    print(\"[OK]\")\n",
    "else:\n",
    "    print(\"++++++++++++++++++++++++++++++++++++++++++++++++++++++\")\n",
    "    print(\"[ERROR] YOUR DATA HAS NOT BEEN REGISTERED WITH ATHENA. LOOK IN PREVIOUS CELLS TO FIND THE ISSUE.\")\n",
    "    print(\"++++++++++++++++++++++++++++++++++++++++++++++++++++++\")"
   ]
  },
  {
   "cell_type": "markdown",
   "id": "8ad85b7f-e2f5-4904-a4e9-0ac3e6934d7b",
   "metadata": {},
   "source": [
    "## Create Athena Table from Local TSV File - `Evictions.tsv`"
   ]
  },
  {
   "cell_type": "markdown",
   "id": "179eeca8-2e0c-463f-831c-b5944f7c4579",
   "metadata": {},
   "source": [
    "### Dataset columns\n",
    "\n",
    "- `court_index_number`: ,\n",
    "- `docket_number`: ,\n",
    "- `eviction_address`: ,\n",
    "- `eviction_apartment_number`: ,\n",
    "- `executed_date`: ,\n",
    "- `marshal_first_name`: ,\n",
    "- `marshal_last_name`: ,\n",
    "- `residential_or_commercial`: ,\n",
    "- `borough`: ,\n",
    "- `eviction_postcode`: ,\n",
    "- `ejectment`: ,\n",
    "- `eviction_or_legal_possession`: ,\n",
    "- `latitude`: ,\n",
    "- `longitude`: ,\n",
    "- `community_board`: ,\n",
    "- `council_district`: ,\n",
    "- `census_tract`: ,\n",
    "- `bin`: ,\n",
    "- `bbl`: ,\n",
    "- `nta`: "
   ]
  },
  {
   "cell_type": "code",
   "execution_count": 23,
   "id": "c950c62d-4a4e-417d-a7c5-db09f18b4922",
   "metadata": {},
   "outputs": [
    {
     "name": "stdout",
     "output_type": "stream",
     "text": [
      "s3://sagemaker-us-east-ads508-sp23-t8/raw_data/hs_dir\n",
      "Create table statement:\n",
      "\n",
      "    CREATE EXTERNAL TABLE IF NOT EXISTS ads508_t8.hs_info(\n",
      "dbn string,\n",
      "school_name string,\n",
      "borough string,\n",
      "building_code string,\n",
      "phone_number string,\n",
      "fax_number string,\n",
      "grade_span_min string,\n",
      "grade_span_max string,\n",
      "expgrade_span_min string,\n",
      "expgrade_span_max string,\n",
      "bus string,\n",
      "subway string,\n",
      "primary_address_line_1 string,\n",
      "city string,\n",
      "state_code string,\n",
      "postcode string,\n",
      "website string,\n",
      "total_students string,\n",
      "campus_name string,\n",
      "school_type string,\n",
      "overview_paragraph string,\n",
      "program_highlights string,\n",
      "language_classes string,\n",
      "advancedplacement_courses string,\n",
      "online_ap_courses string,\n",
      "online_language_courses string,\n",
      "extracurricular_activities string,\n",
      "psal_sports_boys string,\n",
      "psal_sports_girls string,\n",
      "psal_sports_coed string,\n",
      "school_sports string,\n",
      "partner_cbo string,\n",
      "partner_hospital string,\n",
      "partner_highered string,\n",
      "partner_cultural string,\n",
      "partner_nonprofit string,\n",
      "partner_corporate string,\n",
      "partner_financial string,\n",
      "partner_other string,\n",
      "addtl_info1 string,\n",
      "addtl_info2 string,\n",
      "start_time string,\n",
      "end_time string,\n",
      "se_services string,\n",
      "ell_programs string,\n",
      "school_accessibility_description string,\n",
      "number_programs string,\n",
      "priority01 string,\n",
      "priority02 string,\n",
      "priority03 string,\n",
      "priority04 string,\n",
      "priority05 string,\n",
      "priority06 string,\n",
      "priority07 string,\n",
      "priority08 string,\n",
      "priority09 string,\n",
      "priority10 string,\n",
      "location_1 string,\n",
      "community_board string,\n",
      "council_district string,\n",
      "census_tract string,\n",
      "bin string,\n",
      "bbl string,\n",
      "nta string\n",
      ")\n",
      "    ROW FORMAT DELIMITED FIELDS TERMINATED BY '\\t' LINES TERMINATED BY '\\n' LOCATION 's3://sagemaker-us-east-ads508-sp23-t8/raw_data/hs_dir'\n",
      "    TBLPROPERTIES ('skip.header.line.count'='1')\n"
     ]
    },
    {
     "data": {
      "text/html": [
       "<div>\n",
       "<style scoped>\n",
       "    .dataframe tbody tr th:only-of-type {\n",
       "        vertical-align: middle;\n",
       "    }\n",
       "\n",
       "    .dataframe tbody tr th {\n",
       "        vertical-align: top;\n",
       "    }\n",
       "\n",
       "    .dataframe thead th {\n",
       "        text-align: right;\n",
       "    }\n",
       "</style>\n",
       "<table border=\"1\" class=\"dataframe\">\n",
       "  <thead>\n",
       "    <tr style=\"text-align: right;\">\n",
       "      <th></th>\n",
       "      <th>tab_name</th>\n",
       "    </tr>\n",
       "  </thead>\n",
       "  <tbody>\n",
       "    <tr>\n",
       "      <th>0</th>\n",
       "      <td>grad_outcomes</td>\n",
       "    </tr>\n",
       "    <tr>\n",
       "      <th>1</th>\n",
       "      <td>hs_info</td>\n",
       "    </tr>\n",
       "  </tbody>\n",
       "</table>\n",
       "</div>"
      ],
      "text/plain": [
       "        tab_name\n",
       "0  grad_outcomes\n",
       "1        hs_info"
      ]
     },
     "metadata": {},
     "output_type": "display_data"
    },
    {
     "name": "stdout",
     "output_type": "stream",
     "text": [
      "\n",
      "Dataframe contains records: True\n"
     ]
    }
   ],
   "source": [
    "evi_tbl_name = 'evictions'\n",
    "evi_field_list = \"\"\"\n",
    "court_index_number string,\n",
    "docket_number string,\n",
    "eviction_address string,\n",
    "eviction_apartment_number string,\n",
    "executed_date string,\n",
    "marshal_first_name string,\n",
    "marshal_last_name string,\n",
    "residential_or_commercial string,\n",
    "borough string,\n",
    "eviction_postcode string,\n",
    "ejectment string,\n",
    "eviction_or_legal_possession string,\n",
    "latitude string,\n",
    "longitude string,\n",
    "community_board string,\n",
    "council_district string,\n",
    "census_tract string,\n",
    "bin string,\n",
    "bbl string,\n",
    "nta string\n",
    "\"\"\"\n",
    "evi_s3_raw_data_path = f\"s3://{bucket}/raw_data/evictions\"\n",
    "print(evi_s3_raw_data_path)\n",
    "\n",
    "create_athena_tbl_tsv(conn=conn,\n",
    "                      db=database_name,\n",
    "                      tbl_name=evi_tbl_name,\n",
    "                      fields=evi_field_list,\n",
    "                      s3_path=evi_s3_raw_data_path,\n",
    "                      delim='\\\\t',\n",
    "                      comp='',\n",
    "                      skip=\"'skip.header.line.count'='1'\")"
   ]
  },
  {
   "cell_type": "markdown",
   "id": "57b0b361-1cd6-4288-8431-7fa367c20acc",
   "metadata": {},
   "source": [
    "### Run A Sample Query"
   ]
  },
  {
   "cell_type": "code",
   "execution_count": 24,
   "id": "df4cbe97-f0a4-4620-93ba-2482fe2f5896",
   "metadata": {
    "tags": []
   },
   "outputs": [
    {
     "name": "stdout",
     "output_type": "stream",
     "text": [
      "SELECT * FROM ads508_t8.hs_info\n",
      "WHERE dbn = '01M448' LIMIT 20\n"
     ]
    }
   ],
   "source": [
    "evi_borough01 = \"BRONX\"\n",
    "\n",
    "evi_select_dbn_stmnt = f\"\"\"SELECT * FROM {database_name}.{evi_tbl_name}\n",
    "WHERE borough = '{evi_borough01}' LIMIT 20\"\"\"\n",
    "\n",
    "print(evi_select_dbn_stmnt)"
   ]
  },
  {
   "cell_type": "code",
   "execution_count": 25,
   "id": "faaa36af-e47d-4801-9a43-dd2dcc0e5ed5",
   "metadata": {
    "tags": []
   },
   "outputs": [
    {
     "data": {
      "text/html": [
       "<div>\n",
       "<style scoped>\n",
       "    .dataframe tbody tr th:only-of-type {\n",
       "        vertical-align: middle;\n",
       "    }\n",
       "\n",
       "    .dataframe tbody tr th {\n",
       "        vertical-align: top;\n",
       "    }\n",
       "\n",
       "    .dataframe thead th {\n",
       "        text-align: right;\n",
       "    }\n",
       "</style>\n",
       "<table border=\"1\" class=\"dataframe\">\n",
       "  <thead>\n",
       "    <tr style=\"text-align: right;\">\n",
       "      <th></th>\n",
       "      <th>dbn</th>\n",
       "      <th>school_name</th>\n",
       "      <th>borough</th>\n",
       "      <th>building_code</th>\n",
       "      <th>phone_number</th>\n",
       "      <th>fax_number</th>\n",
       "      <th>grade_span_min</th>\n",
       "      <th>grade_span_max</th>\n",
       "      <th>expgrade_span_min</th>\n",
       "      <th>expgrade_span_max</th>\n",
       "      <th>...</th>\n",
       "      <th>priority08</th>\n",
       "      <th>priority09</th>\n",
       "      <th>priority10</th>\n",
       "      <th>location_1</th>\n",
       "      <th>community_board</th>\n",
       "      <th>council_district</th>\n",
       "      <th>census_tract</th>\n",
       "      <th>bin</th>\n",
       "      <th>bbl</th>\n",
       "      <th>nta</th>\n",
       "    </tr>\n",
       "  </thead>\n",
       "  <tbody>\n",
       "    <tr>\n",
       "      <th>0</th>\n",
       "      <td>01M448</td>\n",
       "      <td>University Neighborhood High School</td>\n",
       "      <td>Manhattan</td>\n",
       "      <td>M446</td>\n",
       "      <td>212-962-4341</td>\n",
       "      <td>212-267-5611</td>\n",
       "      <td>9</td>\n",
       "      <td>12</td>\n",
       "      <td></td>\n",
       "      <td></td>\n",
       "      <td>...</td>\n",
       "      <td></td>\n",
       "      <td></td>\n",
       "      <td></td>\n",
       "      <td>\"200 Monroe Street</td>\n",
       "      <td>None</td>\n",
       "      <td>None</td>\n",
       "      <td>None</td>\n",
       "      <td>None</td>\n",
       "      <td>None</td>\n",
       "      <td>None</td>\n",
       "    </tr>\n",
       "  </tbody>\n",
       "</table>\n",
       "<p>1 rows × 64 columns</p>\n",
       "</div>"
      ],
      "text/plain": [
       "      dbn                          school_name    borough building_code  \\\n",
       "0  01M448  University Neighborhood High School  Manhattan          M446   \n",
       "\n",
       "   phone_number    fax_number grade_span_min grade_span_max expgrade_span_min  \\\n",
       "0  212-962-4341  212-267-5611              9             12                     \n",
       "\n",
       "  expgrade_span_max  ... priority08 priority09 priority10          location_1  \\\n",
       "0                    ...                                   \"200 Monroe Street   \n",
       "\n",
       "  community_board council_district census_tract   bin   bbl   nta  \n",
       "0            None             None         None  None  None  None  \n",
       "\n",
       "[1 rows x 64 columns]"
      ]
     },
     "execution_count": 25,
     "metadata": {},
     "output_type": "execute_result"
    }
   ],
   "source": [
    "evi_df01_s01 = pd.read_sql(evi_select_dbn_stmnt,\n",
    "                           conn)\n",
    "evi_df01_s01.head(5)"
   ]
  },
  {
   "cell_type": "code",
   "execution_count": 26,
   "id": "27be8e54-dc4d-4bef-82c0-591c75da439a",
   "metadata": {
    "tags": []
   },
   "outputs": [
    {
     "name": "stdout",
     "output_type": "stream",
     "text": [
      "[OK]\n"
     ]
    }
   ],
   "source": [
    "if not evi_df01_s01.empty:\n",
    "    print(\"[OK]\")\n",
    "else:\n",
    "    print(\"++++++++++++++++++++++++++++++++++++++++++++++++++++++\")\n",
    "    print(\"[ERROR] YOUR DATA HAS NOT BEEN REGISTERED WITH ATHENA. LOOK IN PREVIOUS CELLS TO FIND THE ISSUE.\")\n",
    "    print(\"++++++++++++++++++++++++++++++++++++++++++++++++++++++\")"
   ]
  },
  {
   "cell_type": "markdown",
   "id": "467ce791-fc5b-4de4-9ece-e44d56594f94",
   "metadata": {},
   "source": [
    "## Create Athena Table from Local TSV File - `NYC _Jobs.tsv`"
   ]
  },
  {
   "cell_type": "markdown",
   "id": "0b73ba1d-7991-4d37-985b-66909291d90e",
   "metadata": {},
   "source": [
    "### Dataset columns\n",
    "\n",
    "- `job_id`: ,\n",
    "- `agency`: ,\n",
    "- `posting_type`: ,\n",
    "- `num_of_positions`: ,\n",
    "- `business_title`: ,\n",
    "- `civil_service_title`: ,\n",
    "- `title_classification`: ,\n",
    "- `title_code_no`: ,\n",
    "- `level`: ,\n",
    "- `job_category`: ,\n",
    "- `fulltime_or_parttime_indicator`: ,\n",
    "- `career_level`: ,\n",
    "- `salary_range_from`: ,\n",
    "- `salary_range_to`: ,\n",
    "- `salary_frequency`: ,\n",
    "- `work_location`: ,\n",
    "- `division_or_work_unit`: ,\n",
    "- `job_description`: ,\n",
    "- `minimum_qual_requirements`: ,\n",
    "- `preferred_skills`: ,\n",
    "- `additional_information`: ,\n",
    "- `to_apply`: ,\n",
    "- `hours_or_shift`: ,\n",
    "- `work_location_1`: ,\n",
    "- `recruitment_contact`: ,\n",
    "- `residency_requirement`: ,\n",
    "- `posting_date`: ,\n",
    "- `post_until`: ,\n",
    "- `posting_updated`: ,\n",
    "- `process_date`: "
   ]
  },
  {
   "cell_type": "code",
   "execution_count": 23,
   "id": "1f2f6b65-7d2a-4a53-95eb-409c80e0a5e0",
   "metadata": {},
   "outputs": [
    {
     "name": "stdout",
     "output_type": "stream",
     "text": [
      "s3://sagemaker-us-east-ads508-sp23-t8/raw_data/hs_dir\n",
      "Create table statement:\n",
      "\n",
      "    CREATE EXTERNAL TABLE IF NOT EXISTS ads508_t8.hs_info(\n",
      "dbn string,\n",
      "school_name string,\n",
      "borough string,\n",
      "building_code string,\n",
      "phone_number string,\n",
      "fax_number string,\n",
      "grade_span_min string,\n",
      "grade_span_max string,\n",
      "expgrade_span_min string,\n",
      "expgrade_span_max string,\n",
      "bus string,\n",
      "subway string,\n",
      "primary_address_line_1 string,\n",
      "city string,\n",
      "state_code string,\n",
      "postcode string,\n",
      "website string,\n",
      "total_students string,\n",
      "campus_name string,\n",
      "school_type string,\n",
      "overview_paragraph string,\n",
      "program_highlights string,\n",
      "language_classes string,\n",
      "advancedplacement_courses string,\n",
      "online_ap_courses string,\n",
      "online_language_courses string,\n",
      "extracurricular_activities string,\n",
      "psal_sports_boys string,\n",
      "psal_sports_girls string,\n",
      "psal_sports_coed string,\n",
      "school_sports string,\n",
      "partner_cbo string,\n",
      "partner_hospital string,\n",
      "partner_highered string,\n",
      "partner_cultural string,\n",
      "partner_nonprofit string,\n",
      "partner_corporate string,\n",
      "partner_financial string,\n",
      "partner_other string,\n",
      "addtl_info1 string,\n",
      "addtl_info2 string,\n",
      "start_time string,\n",
      "end_time string,\n",
      "se_services string,\n",
      "ell_programs string,\n",
      "school_accessibility_description string,\n",
      "number_programs string,\n",
      "priority01 string,\n",
      "priority02 string,\n",
      "priority03 string,\n",
      "priority04 string,\n",
      "priority05 string,\n",
      "priority06 string,\n",
      "priority07 string,\n",
      "priority08 string,\n",
      "priority09 string,\n",
      "priority10 string,\n",
      "location_1 string,\n",
      "community_board string,\n",
      "council_district string,\n",
      "census_tract string,\n",
      "bin string,\n",
      "bbl string,\n",
      "nta string\n",
      ")\n",
      "    ROW FORMAT DELIMITED FIELDS TERMINATED BY '\\t' LINES TERMINATED BY '\\n' LOCATION 's3://sagemaker-us-east-ads508-sp23-t8/raw_data/hs_dir'\n",
      "    TBLPROPERTIES ('skip.header.line.count'='1')\n"
     ]
    },
    {
     "data": {
      "text/html": [
       "<div>\n",
       "<style scoped>\n",
       "    .dataframe tbody tr th:only-of-type {\n",
       "        vertical-align: middle;\n",
       "    }\n",
       "\n",
       "    .dataframe tbody tr th {\n",
       "        vertical-align: top;\n",
       "    }\n",
       "\n",
       "    .dataframe thead th {\n",
       "        text-align: right;\n",
       "    }\n",
       "</style>\n",
       "<table border=\"1\" class=\"dataframe\">\n",
       "  <thead>\n",
       "    <tr style=\"text-align: right;\">\n",
       "      <th></th>\n",
       "      <th>tab_name</th>\n",
       "    </tr>\n",
       "  </thead>\n",
       "  <tbody>\n",
       "    <tr>\n",
       "      <th>0</th>\n",
       "      <td>grad_outcomes</td>\n",
       "    </tr>\n",
       "    <tr>\n",
       "      <th>1</th>\n",
       "      <td>hs_info</td>\n",
       "    </tr>\n",
       "  </tbody>\n",
       "</table>\n",
       "</div>"
      ],
      "text/plain": [
       "        tab_name\n",
       "0  grad_outcomes\n",
       "1        hs_info"
      ]
     },
     "metadata": {},
     "output_type": "display_data"
    },
    {
     "name": "stdout",
     "output_type": "stream",
     "text": [
      "\n",
      "Dataframe contains records: True\n"
     ]
    }
   ],
   "source": [
    "job_tbl_name = 'jobs'\n",
    "job_field_list = \"\"\"\n",
    "job_id string,\n",
    "agency string,\n",
    "posting_type string,\n",
    "num_of_positions string,\n",
    "business_title string,\n",
    "civil_service_title string,\n",
    "title_classification string,\n",
    "title_code_no string,\n",
    "level string,\n",
    "job_category string,\n",
    "fulltime_or_parttime_indicator string,\n",
    "career_level string,\n",
    "salary_range_from string,\n",
    "salary_range_to string,\n",
    "salary_frequency string,\n",
    "work_location string,\n",
    "division_or_work_unit string,\n",
    "job_description string,\n",
    "minimum_qual_requirements string,\n",
    "preferred_skills string,\n",
    "additional_information string,\n",
    "to_apply string,\n",
    "hours_or_shift string,\n",
    "work_location_1 string,\n",
    "recruitment_contact string,\n",
    "residency_requirement string,\n",
    "posting_date string,\n",
    "post_until string,\n",
    "posting_updated string,\n",
    "process_date string\n",
    "\"\"\"\n",
    "job_s3_raw_data_path = f\"s3://{bucket}/raw_data/jobs\"\n",
    "print(job_s3_raw_data_path)\n",
    "\n",
    "create_athena_tbl_tsv(conn=conn,\n",
    "                      db=database_name,\n",
    "                      tbl_name=job_tbl_name,\n",
    "                      fields=job_field_list,\n",
    "                      s3_path=job_s3_raw_data_path,\n",
    "                      delim='\\\\t',\n",
    "                      comp='',\n",
    "                      skip=\"'skip.header.line.count'='1'\")"
   ]
  },
  {
   "cell_type": "markdown",
   "id": "5289c860-89cc-4d1e-9c2d-a0a9c956d3eb",
   "metadata": {},
   "source": [
    "### Run A Sample Query"
   ]
  },
  {
   "cell_type": "code",
   "execution_count": 24,
   "id": "2f82d711-0e58-4e8c-a5ea-ff215cc3fb08",
   "metadata": {
    "tags": []
   },
   "outputs": [
    {
     "name": "stdout",
     "output_type": "stream",
     "text": [
      "SELECT * FROM ads508_t8.hs_info\n",
      "WHERE dbn = '01M448' LIMIT 20\n"
     ]
    }
   ],
   "source": [
    "job_agency01 = \"HOUSING\"\n",
    "\n",
    "job_select_dbn_stmnt = f\"\"\"SELECT * FROM {database_name}.{job_tbl_name}\n",
    "WHERE agency LIKE '%{job_agency01}%' LIMIT 20\"\"\"\n",
    "\n",
    "print(job_select_dbn_stmnt)"
   ]
  },
  {
   "cell_type": "code",
   "execution_count": 25,
   "id": "b53938dd-3f62-4fe2-a3da-8a2f39bc5b22",
   "metadata": {
    "tags": []
   },
   "outputs": [
    {
     "data": {
      "text/html": [
       "<div>\n",
       "<style scoped>\n",
       "    .dataframe tbody tr th:only-of-type {\n",
       "        vertical-align: middle;\n",
       "    }\n",
       "\n",
       "    .dataframe tbody tr th {\n",
       "        vertical-align: top;\n",
       "    }\n",
       "\n",
       "    .dataframe thead th {\n",
       "        text-align: right;\n",
       "    }\n",
       "</style>\n",
       "<table border=\"1\" class=\"dataframe\">\n",
       "  <thead>\n",
       "    <tr style=\"text-align: right;\">\n",
       "      <th></th>\n",
       "      <th>dbn</th>\n",
       "      <th>school_name</th>\n",
       "      <th>borough</th>\n",
       "      <th>building_code</th>\n",
       "      <th>phone_number</th>\n",
       "      <th>fax_number</th>\n",
       "      <th>grade_span_min</th>\n",
       "      <th>grade_span_max</th>\n",
       "      <th>expgrade_span_min</th>\n",
       "      <th>expgrade_span_max</th>\n",
       "      <th>...</th>\n",
       "      <th>priority08</th>\n",
       "      <th>priority09</th>\n",
       "      <th>priority10</th>\n",
       "      <th>location_1</th>\n",
       "      <th>community_board</th>\n",
       "      <th>council_district</th>\n",
       "      <th>census_tract</th>\n",
       "      <th>bin</th>\n",
       "      <th>bbl</th>\n",
       "      <th>nta</th>\n",
       "    </tr>\n",
       "  </thead>\n",
       "  <tbody>\n",
       "    <tr>\n",
       "      <th>0</th>\n",
       "      <td>01M448</td>\n",
       "      <td>University Neighborhood High School</td>\n",
       "      <td>Manhattan</td>\n",
       "      <td>M446</td>\n",
       "      <td>212-962-4341</td>\n",
       "      <td>212-267-5611</td>\n",
       "      <td>9</td>\n",
       "      <td>12</td>\n",
       "      <td></td>\n",
       "      <td></td>\n",
       "      <td>...</td>\n",
       "      <td></td>\n",
       "      <td></td>\n",
       "      <td></td>\n",
       "      <td>\"200 Monroe Street</td>\n",
       "      <td>None</td>\n",
       "      <td>None</td>\n",
       "      <td>None</td>\n",
       "      <td>None</td>\n",
       "      <td>None</td>\n",
       "      <td>None</td>\n",
       "    </tr>\n",
       "  </tbody>\n",
       "</table>\n",
       "<p>1 rows × 64 columns</p>\n",
       "</div>"
      ],
      "text/plain": [
       "      dbn                          school_name    borough building_code  \\\n",
       "0  01M448  University Neighborhood High School  Manhattan          M446   \n",
       "\n",
       "   phone_number    fax_number grade_span_min grade_span_max expgrade_span_min  \\\n",
       "0  212-962-4341  212-267-5611              9             12                     \n",
       "\n",
       "  expgrade_span_max  ... priority08 priority09 priority10          location_1  \\\n",
       "0                    ...                                   \"200 Monroe Street   \n",
       "\n",
       "  community_board council_district census_tract   bin   bbl   nta  \n",
       "0            None             None         None  None  None  None  \n",
       "\n",
       "[1 rows x 64 columns]"
      ]
     },
     "execution_count": 25,
     "metadata": {},
     "output_type": "execute_result"
    }
   ],
   "source": [
    "job_df01_s01 = pd.read_sql(job_select_dbn_stmnt,\n",
    "                           conn)\n",
    "job_df01_s01.head(5)"
   ]
  },
  {
   "cell_type": "code",
   "execution_count": 26,
   "id": "0118136c-0052-41c9-a870-8e2d7d983507",
   "metadata": {
    "tags": []
   },
   "outputs": [
    {
     "name": "stdout",
     "output_type": "stream",
     "text": [
      "[OK]\n"
     ]
    }
   ],
   "source": [
    "if not job_df01_s01.empty:\n",
    "    print(\"[OK]\")\n",
    "else:\n",
    "    print(\"++++++++++++++++++++++++++++++++++++++++++++++++++++++\")\n",
    "    print(\"[ERROR] YOUR DATA HAS NOT BEEN REGISTERED WITH ATHENA. LOOK IN PREVIOUS CELLS TO FIND THE ISSUE.\")\n",
    "    print(\"++++++++++++++++++++++++++++++++++++++++++++++++++++++\")"
   ]
  },
  {
   "cell_type": "markdown",
   "id": "5cefbcd0-adad-4dd8-8887-dc7dacbc9023",
   "metadata": {},
   "source": [
    "## Review the New Athena Table in the Glue Catalog"
   ]
  },
  {
   "cell_type": "code",
   "execution_count": 32,
   "id": "f7381477-5eef-408c-b0cd-a69d4da1197c",
   "metadata": {},
   "outputs": [
    {
     "data": {
      "text/html": [
       "<b>Review <a target=\"top\" href=\"https://console.aws.amazon.com/glue/home?region=us-east-1#\">AWS Glue Catalog</a></b>"
      ],
      "text/plain": [
       "<IPython.core.display.HTML object>"
      ]
     },
     "metadata": {},
     "output_type": "display_data"
    }
   ],
   "source": [
    "display(\n",
    "    HTML(\n",
    "        f'<b>Review <a target=\"top\" href=\"https://console.aws.amazon.com/glue/home?region={region}#\">AWS Glue Catalog</a></b>'\n",
    "    )\n",
    ")"
   ]
  },
  {
   "cell_type": "markdown",
   "id": "a13641da-5574-4d8d-acc8-d852d122be18",
   "metadata": {},
   "source": [
    "## Store Variables for the Next Notebooks"
   ]
  },
  {
   "cell_type": "code",
   "execution_count": 33,
   "id": "b23d6b3a-e9a4-4687-a91e-72c78434f125",
   "metadata": {},
   "outputs": [
    {
     "name": "stdout",
     "output_type": "stream",
     "text": [
      "Stored variables and their in-db values:\n",
      "ingest_create_athena_db_passed                    -> True\n",
      "ingest_create_athena_table_tsv_passed             -> True\n",
      "s3_private_path_tsv                               -> 's3://sagemaker-us-east-1-657724983756/amazon-revi\n",
      "s3_public_path_tsv                                -> 's3://amazon-reviews-pds/tsv'\n",
      "setup_dependencies_passed                         -> True\n",
      "setup_iam_roles_passed                            -> True\n",
      "setup_instance_check_passed                       -> True\n",
      "setup_s3_bucket_passed                            -> True\n"
     ]
    }
   ],
   "source": [
    "%store"
   ]
  },
  {
   "cell_type": "markdown",
   "id": "482e6e17-d3a7-49f4-bdb7-5550f10cfc2a",
   "metadata": {},
   "source": [
    "## Release Resources"
   ]
  },
  {
   "cell_type": "code",
   "execution_count": 34,
   "id": "087bde2e-2b60-4dd5-997a-8323b521419f",
   "metadata": {},
   "outputs": [
    {
     "data": {
      "text/html": [
       "\n",
       "<p><b>Shutting down your kernel for this notebook to release resources.</b></p>\n",
       "<button class=\"sm-command-button\" data-commandlinker-command=\"kernelmenu:shutdown\" style=\"display:none;\">Shutdown Kernel</button>\n",
       "        \n",
       "<script>\n",
       "try {\n",
       "    els = document.getElementsByClassName(\"sm-command-button\");\n",
       "    els[0].click();\n",
       "}\n",
       "catch(err) {\n",
       "    // NoOp\n",
       "}    \n",
       "</script>\n"
      ],
      "text/plain": [
       "<IPython.core.display.HTML object>"
      ]
     },
     "metadata": {},
     "output_type": "display_data"
    }
   ],
   "source": [
    "%%html\n",
    "\n",
    "<p><b>Shutting down your kernel for this notebook to release resources.</b></p>\n",
    "<button class=\"sm-command-button\" data-commandlinker-command=\"kernelmenu:shutdown\" style=\"display:none;\">Shutdown Kernel</button>\n",
    "        \n",
    "<script>\n",
    "try {\n",
    "    els = document.getElementsByClassName(\"sm-command-button\");\n",
    "    els[0].click();\n",
    "}\n",
    "catch(err) {\n",
    "    // NoOp\n",
    "}    \n",
    "</script>"
   ]
  },
  {
   "cell_type": "code",
   "execution_count": 35,
   "id": "b8219a42-0f8b-4351-8545-b73a7f2ce99e",
   "metadata": {
    "tags": []
   },
   "outputs": [
    {
     "data": {
      "application/javascript": [
       "\n",
       "try {\n",
       "    Jupyter.notebook.save_checkpoint();\n",
       "    Jupyter.notebook.session.delete();\n",
       "}\n",
       "catch(err) {\n",
       "    // NoOp\n",
       "}\n"
      ],
      "text/plain": [
       "<IPython.core.display.Javascript object>"
      ]
     },
     "metadata": {},
     "output_type": "display_data"
    }
   ],
   "source": [
    "%%javascript\n",
    "\n",
    "try {\n",
    "    Jupyter.notebook.save_checkpoint();\n",
    "    Jupyter.notebook.session.delete();\n",
    "}\n",
    "catch(err) {\n",
    "    // NoOp\n",
    "}"
   ]
  }
 ],
 "metadata": {
  "availableInstances": [
   {
    "_defaultOrder": 0,
    "_isFastLaunch": true,
    "category": "General purpose",
    "gpuNum": 0,
    "memoryGiB": 4,
    "name": "ml.t3.medium",
    "vcpuNum": 2
   },
   {
    "_defaultOrder": 1,
    "_isFastLaunch": false,
    "category": "General purpose",
    "gpuNum": 0,
    "memoryGiB": 8,
    "name": "ml.t3.large",
    "vcpuNum": 2
   },
   {
    "_defaultOrder": 2,
    "_isFastLaunch": false,
    "category": "General purpose",
    "gpuNum": 0,
    "memoryGiB": 16,
    "name": "ml.t3.xlarge",
    "vcpuNum": 4
   },
   {
    "_defaultOrder": 3,
    "_isFastLaunch": false,
    "category": "General purpose",
    "gpuNum": 0,
    "memoryGiB": 32,
    "name": "ml.t3.2xlarge",
    "vcpuNum": 8
   },
   {
    "_defaultOrder": 4,
    "_isFastLaunch": true,
    "category": "General purpose",
    "gpuNum": 0,
    "memoryGiB": 8,
    "name": "ml.m5.large",
    "vcpuNum": 2
   },
   {
    "_defaultOrder": 5,
    "_isFastLaunch": false,
    "category": "General purpose",
    "gpuNum": 0,
    "memoryGiB": 16,
    "name": "ml.m5.xlarge",
    "vcpuNum": 4
   },
   {
    "_defaultOrder": 6,
    "_isFastLaunch": false,
    "category": "General purpose",
    "gpuNum": 0,
    "memoryGiB": 32,
    "name": "ml.m5.2xlarge",
    "vcpuNum": 8
   },
   {
    "_defaultOrder": 7,
    "_isFastLaunch": false,
    "category": "General purpose",
    "gpuNum": 0,
    "memoryGiB": 64,
    "name": "ml.m5.4xlarge",
    "vcpuNum": 16
   },
   {
    "_defaultOrder": 8,
    "_isFastLaunch": false,
    "category": "General purpose",
    "gpuNum": 0,
    "memoryGiB": 128,
    "name": "ml.m5.8xlarge",
    "vcpuNum": 32
   },
   {
    "_defaultOrder": 9,
    "_isFastLaunch": false,
    "category": "General purpose",
    "gpuNum": 0,
    "memoryGiB": 192,
    "name": "ml.m5.12xlarge",
    "vcpuNum": 48
   },
   {
    "_defaultOrder": 10,
    "_isFastLaunch": false,
    "category": "General purpose",
    "gpuNum": 0,
    "memoryGiB": 256,
    "name": "ml.m5.16xlarge",
    "vcpuNum": 64
   },
   {
    "_defaultOrder": 11,
    "_isFastLaunch": false,
    "category": "General purpose",
    "gpuNum": 0,
    "memoryGiB": 384,
    "name": "ml.m5.24xlarge",
    "vcpuNum": 96
   },
   {
    "_defaultOrder": 12,
    "_isFastLaunch": false,
    "category": "General purpose",
    "gpuNum": 0,
    "memoryGiB": 8,
    "name": "ml.m5d.large",
    "vcpuNum": 2
   },
   {
    "_defaultOrder": 13,
    "_isFastLaunch": false,
    "category": "General purpose",
    "gpuNum": 0,
    "memoryGiB": 16,
    "name": "ml.m5d.xlarge",
    "vcpuNum": 4
   },
   {
    "_defaultOrder": 14,
    "_isFastLaunch": false,
    "category": "General purpose",
    "gpuNum": 0,
    "memoryGiB": 32,
    "name": "ml.m5d.2xlarge",
    "vcpuNum": 8
   },
   {
    "_defaultOrder": 15,
    "_isFastLaunch": false,
    "category": "General purpose",
    "gpuNum": 0,
    "memoryGiB": 64,
    "name": "ml.m5d.4xlarge",
    "vcpuNum": 16
   },
   {
    "_defaultOrder": 16,
    "_isFastLaunch": false,
    "category": "General purpose",
    "gpuNum": 0,
    "memoryGiB": 128,
    "name": "ml.m5d.8xlarge",
    "vcpuNum": 32
   },
   {
    "_defaultOrder": 17,
    "_isFastLaunch": false,
    "category": "General purpose",
    "gpuNum": 0,
    "memoryGiB": 192,
    "name": "ml.m5d.12xlarge",
    "vcpuNum": 48
   },
   {
    "_defaultOrder": 18,
    "_isFastLaunch": false,
    "category": "General purpose",
    "gpuNum": 0,
    "memoryGiB": 256,
    "name": "ml.m5d.16xlarge",
    "vcpuNum": 64
   },
   {
    "_defaultOrder": 19,
    "_isFastLaunch": false,
    "category": "General purpose",
    "gpuNum": 0,
    "memoryGiB": 384,
    "name": "ml.m5d.24xlarge",
    "vcpuNum": 96
   },
   {
    "_defaultOrder": 20,
    "_isFastLaunch": true,
    "category": "Compute optimized",
    "gpuNum": 0,
    "memoryGiB": 4,
    "name": "ml.c5.large",
    "vcpuNum": 2
   },
   {
    "_defaultOrder": 21,
    "_isFastLaunch": false,
    "category": "Compute optimized",
    "gpuNum": 0,
    "memoryGiB": 8,
    "name": "ml.c5.xlarge",
    "vcpuNum": 4
   },
   {
    "_defaultOrder": 22,
    "_isFastLaunch": false,
    "category": "Compute optimized",
    "gpuNum": 0,
    "memoryGiB": 16,
    "name": "ml.c5.2xlarge",
    "vcpuNum": 8
   },
   {
    "_defaultOrder": 23,
    "_isFastLaunch": false,
    "category": "Compute optimized",
    "gpuNum": 0,
    "memoryGiB": 32,
    "name": "ml.c5.4xlarge",
    "vcpuNum": 16
   },
   {
    "_defaultOrder": 24,
    "_isFastLaunch": false,
    "category": "Compute optimized",
    "gpuNum": 0,
    "memoryGiB": 72,
    "name": "ml.c5.9xlarge",
    "vcpuNum": 36
   },
   {
    "_defaultOrder": 25,
    "_isFastLaunch": false,
    "category": "Compute optimized",
    "gpuNum": 0,
    "memoryGiB": 96,
    "name": "ml.c5.12xlarge",
    "vcpuNum": 48
   },
   {
    "_defaultOrder": 26,
    "_isFastLaunch": false,
    "category": "Compute optimized",
    "gpuNum": 0,
    "memoryGiB": 144,
    "name": "ml.c5.18xlarge",
    "vcpuNum": 72
   },
   {
    "_defaultOrder": 27,
    "_isFastLaunch": false,
    "category": "Compute optimized",
    "gpuNum": 0,
    "memoryGiB": 192,
    "name": "ml.c5.24xlarge",
    "vcpuNum": 96
   },
   {
    "_defaultOrder": 28,
    "_isFastLaunch": true,
    "category": "Accelerated computing",
    "gpuNum": 1,
    "memoryGiB": 16,
    "name": "ml.g4dn.xlarge",
    "vcpuNum": 4
   },
   {
    "_defaultOrder": 29,
    "_isFastLaunch": false,
    "category": "Accelerated computing",
    "gpuNum": 1,
    "memoryGiB": 32,
    "name": "ml.g4dn.2xlarge",
    "vcpuNum": 8
   },
   {
    "_defaultOrder": 30,
    "_isFastLaunch": false,
    "category": "Accelerated computing",
    "gpuNum": 1,
    "memoryGiB": 64,
    "name": "ml.g4dn.4xlarge",
    "vcpuNum": 16
   },
   {
    "_defaultOrder": 31,
    "_isFastLaunch": false,
    "category": "Accelerated computing",
    "gpuNum": 1,
    "memoryGiB": 128,
    "name": "ml.g4dn.8xlarge",
    "vcpuNum": 32
   },
   {
    "_defaultOrder": 32,
    "_isFastLaunch": false,
    "category": "Accelerated computing",
    "gpuNum": 4,
    "memoryGiB": 192,
    "name": "ml.g4dn.12xlarge",
    "vcpuNum": 48
   },
   {
    "_defaultOrder": 33,
    "_isFastLaunch": false,
    "category": "Accelerated computing",
    "gpuNum": 1,
    "memoryGiB": 256,
    "name": "ml.g4dn.16xlarge",
    "vcpuNum": 64
   },
   {
    "_defaultOrder": 34,
    "_isFastLaunch": false,
    "category": "Accelerated computing",
    "gpuNum": 1,
    "memoryGiB": 61,
    "name": "ml.p3.2xlarge",
    "vcpuNum": 8
   },
   {
    "_defaultOrder": 35,
    "_isFastLaunch": false,
    "category": "Accelerated computing",
    "gpuNum": 4,
    "memoryGiB": 244,
    "name": "ml.p3.8xlarge",
    "vcpuNum": 32
   },
   {
    "_defaultOrder": 36,
    "_isFastLaunch": false,
    "category": "Accelerated computing",
    "gpuNum": 8,
    "memoryGiB": 488,
    "name": "ml.p3.16xlarge",
    "vcpuNum": 64
   },
   {
    "_defaultOrder": 37,
    "_isFastLaunch": false,
    "category": "Accelerated computing",
    "gpuNum": 8,
    "memoryGiB": 768,
    "name": "ml.p3dn.24xlarge",
    "vcpuNum": 96
   },
   {
    "_defaultOrder": 38,
    "_isFastLaunch": false,
    "category": "Memory Optimized",
    "gpuNum": 0,
    "memoryGiB": 16,
    "name": "ml.r5.large",
    "vcpuNum": 2
   },
   {
    "_defaultOrder": 39,
    "_isFastLaunch": false,
    "category": "Memory Optimized",
    "gpuNum": 0,
    "memoryGiB": 32,
    "name": "ml.r5.xlarge",
    "vcpuNum": 4
   },
   {
    "_defaultOrder": 40,
    "_isFastLaunch": false,
    "category": "Memory Optimized",
    "gpuNum": 0,
    "memoryGiB": 64,
    "name": "ml.r5.2xlarge",
    "vcpuNum": 8
   },
   {
    "_defaultOrder": 41,
    "_isFastLaunch": false,
    "category": "Memory Optimized",
    "gpuNum": 0,
    "memoryGiB": 128,
    "name": "ml.r5.4xlarge",
    "vcpuNum": 16
   },
   {
    "_defaultOrder": 42,
    "_isFastLaunch": false,
    "category": "Memory Optimized",
    "gpuNum": 0,
    "memoryGiB": 256,
    "name": "ml.r5.8xlarge",
    "vcpuNum": 32
   },
   {
    "_defaultOrder": 43,
    "_isFastLaunch": false,
    "category": "Memory Optimized",
    "gpuNum": 0,
    "memoryGiB": 384,
    "name": "ml.r5.12xlarge",
    "vcpuNum": 48
   },
   {
    "_defaultOrder": 44,
    "_isFastLaunch": false,
    "category": "Memory Optimized",
    "gpuNum": 0,
    "memoryGiB": 512,
    "name": "ml.r5.16xlarge",
    "vcpuNum": 64
   },
   {
    "_defaultOrder": 45,
    "_isFastLaunch": false,
    "category": "Memory Optimized",
    "gpuNum": 0,
    "memoryGiB": 768,
    "name": "ml.r5.24xlarge",
    "vcpuNum": 96
   },
   {
    "_defaultOrder": 46,
    "_isFastLaunch": false,
    "category": "Accelerated computing",
    "gpuNum": 1,
    "memoryGiB": 16,
    "name": "ml.g5.xlarge",
    "vcpuNum": 4
   },
   {
    "_defaultOrder": 47,
    "_isFastLaunch": false,
    "category": "Accelerated computing",
    "gpuNum": 1,
    "memoryGiB": 32,
    "name": "ml.g5.2xlarge",
    "vcpuNum": 8
   },
   {
    "_defaultOrder": 48,
    "_isFastLaunch": false,
    "category": "Accelerated computing",
    "gpuNum": 1,
    "memoryGiB": 64,
    "name": "ml.g5.4xlarge",
    "vcpuNum": 16
   },
   {
    "_defaultOrder": 49,
    "_isFastLaunch": false,
    "category": "Accelerated computing",
    "gpuNum": 1,
    "memoryGiB": 128,
    "name": "ml.g5.8xlarge",
    "vcpuNum": 32
   },
   {
    "_defaultOrder": 50,
    "_isFastLaunch": false,
    "category": "Accelerated computing",
    "gpuNum": 1,
    "memoryGiB": 256,
    "name": "ml.g5.16xlarge",
    "vcpuNum": 64
   },
   {
    "_defaultOrder": 51,
    "_isFastLaunch": false,
    "category": "Accelerated computing",
    "gpuNum": 4,
    "memoryGiB": 192,
    "name": "ml.g5.12xlarge",
    "vcpuNum": 48
   },
   {
    "_defaultOrder": 52,
    "_isFastLaunch": false,
    "category": "Accelerated computing",
    "gpuNum": 4,
    "memoryGiB": 384,
    "name": "ml.g5.24xlarge",
    "vcpuNum": 96
   },
   {
    "_defaultOrder": 53,
    "_isFastLaunch": false,
    "category": "Accelerated computing",
    "gpuNum": 8,
    "memoryGiB": 768,
    "name": "ml.g5.48xlarge",
    "vcpuNum": 192
   }
  ],
  "kernelspec": {
   "display_name": "Python 3 (Data Science)",
   "language": "python",
   "name": "python3__SAGEMAKER_INTERNAL__arn:aws:sagemaker:us-east-1:081325390199:image/datascience-1.0"
  },
  "language_info": {
   "codemirror_mode": {
    "name": "ipython",
    "version": 3
   },
   "file_extension": ".py",
   "mimetype": "text/x-python",
   "name": "python",
   "nbconvert_exporter": "python",
   "pygments_lexer": "ipython3",
   "version": "3.7.10"
  }
 },
 "nbformat": 4,
 "nbformat_minor": 5
}
