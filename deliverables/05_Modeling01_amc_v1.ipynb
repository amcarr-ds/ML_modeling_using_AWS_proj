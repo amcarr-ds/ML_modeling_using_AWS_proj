{
 "cells": [
  {
   "cell_type": "markdown",
   "id": "a406a9cc-f539-4fc8-ac94-6964d066545e",
   "metadata": {},
   "source": [
    "# ADS-508-01-SP23 Team 8: Final Project"
   ]
  },
  {
   "cell_type": "markdown",
   "id": "b9d4d4ae-78da-4af4-8ca3-86c028dd6e91",
   "metadata": {},
   "source": [
    "# Train model"
   ]
  },
  {
   "cell_type": "markdown",
   "id": "4d3b8db0-6910-4d3d-a870-fec468b57912",
   "metadata": {},
   "source": [
    "Much of the code is modified from `Fregly, C., & Barth, A. (2021). Data science on AWS: Implementing end-to-end, continuous AI and machine learning pipelines. O’Reilly.`"
   ]
  },
  {
   "cell_type": "markdown",
   "id": "4d04427e-2c8f-4b36-97d0-65e28951db9f",
   "metadata": {},
   "source": [
    "## Install missing dependencies\n",
    "\n",
    "[PyAthena](https://pypi.org/project/PyAthena/) is a Python DB API 2.0 (PEP 249) compliant client for Amazon Athena."
   ]
  },
  {
   "cell_type": "code",
   "execution_count": 2,
   "id": "189f41f2-460c-40df-a1d5-b7a39783149d",
   "metadata": {},
   "outputs": [
    {
     "name": "stdout",
     "output_type": "stream",
     "text": [
      "\u001b[33mWARNING: Running pip as the 'root' user can result in broken permissions and conflicting behaviour with the system package manager. It is recommended to use a virtual environment instead: https://pip.pypa.io/warnings/venv\u001b[0m\u001b[33m\n",
      "\u001b[0m\u001b[33mWARNING: Running pip as the 'root' user can result in broken permissions and conflicting behaviour with the system package manager. It is recommended to use a virtual environment instead: https://pip.pypa.io/warnings/venv\u001b[0m\u001b[33m\n",
      "\u001b[0mRequirement already satisfied: missingno in /opt/conda/lib/python3.7/site-packages (0.5.2)\n",
      "Requirement already satisfied: seaborn in /opt/conda/lib/python3.7/site-packages (from missingno) (0.10.0)\n",
      "Requirement already satisfied: scipy in /opt/conda/lib/python3.7/site-packages (from missingno) (1.4.1)\n",
      "Requirement already satisfied: numpy in /opt/conda/lib/python3.7/site-packages (from missingno) (1.21.6)\n",
      "Requirement already satisfied: matplotlib in /opt/conda/lib/python3.7/site-packages (from missingno) (3.1.3)\n",
      "Requirement already satisfied: cycler>=0.10 in /opt/conda/lib/python3.7/site-packages (from matplotlib->missingno) (0.10.0)\n",
      "Requirement already satisfied: python-dateutil>=2.1 in /opt/conda/lib/python3.7/site-packages (from matplotlib->missingno) (2.8.2)\n",
      "Requirement already satisfied: pyparsing!=2.0.4,!=2.1.2,!=2.1.6,>=2.0.1 in /opt/conda/lib/python3.7/site-packages (from matplotlib->missingno) (2.4.6)\n",
      "Requirement already satisfied: kiwisolver>=1.0.1 in /opt/conda/lib/python3.7/site-packages (from matplotlib->missingno) (1.1.0)\n",
      "Requirement already satisfied: pandas>=0.22.0 in /opt/conda/lib/python3.7/site-packages (from seaborn->missingno) (1.3.5)\n",
      "Requirement already satisfied: six in /opt/conda/lib/python3.7/site-packages (from cycler>=0.10->matplotlib->missingno) (1.14.0)\n",
      "Requirement already satisfied: setuptools in /opt/conda/lib/python3.7/site-packages (from kiwisolver>=1.0.1->matplotlib->missingno) (59.3.0)\n",
      "Requirement already satisfied: pytz>=2017.3 in /opt/conda/lib/python3.7/site-packages (from pandas>=0.22.0->seaborn->missingno) (2019.3)\n",
      "\u001b[33mWARNING: Running pip as the 'root' user can result in broken permissions and conflicting behaviour with the system package manager. It is recommended to use a virtual environment instead: https://pip.pypa.io/warnings/venv\u001b[0m\u001b[33m\n",
      "\u001b[0mRequirement already satisfied: scikit-optimize in /opt/conda/lib/python3.7/site-packages (0.9.0)\n",
      "Requirement already satisfied: pyaml>=16.9 in /opt/conda/lib/python3.7/site-packages (from scikit-optimize) (21.10.1)\n",
      "Requirement already satisfied: numpy>=1.13.3 in /opt/conda/lib/python3.7/site-packages (from scikit-optimize) (1.21.6)\n",
      "Requirement already satisfied: scikit-learn>=0.20.0 in /opt/conda/lib/python3.7/site-packages (from scikit-optimize) (0.22.1)\n",
      "Requirement already satisfied: joblib>=0.11 in /opt/conda/lib/python3.7/site-packages (from scikit-optimize) (1.2.0)\n",
      "Requirement already satisfied: scipy>=0.19.1 in /opt/conda/lib/python3.7/site-packages (from scikit-optimize) (1.4.1)\n",
      "Requirement already satisfied: PyYAML in /opt/conda/lib/python3.7/site-packages (from pyaml>=16.9->scikit-optimize) (6.0)\n",
      "\u001b[33mWARNING: Running pip as the 'root' user can result in broken permissions and conflicting behaviour with the system package manager. It is recommended to use a virtual environment instead: https://pip.pypa.io/warnings/venv\u001b[0m\u001b[33m\n",
      "\u001b[0m"
     ]
    }
   ],
   "source": [
    "!pip install --disable-pip-version-check -q PyAthena==2.1.0\n",
    "!pip install --disable-pip-version-check -q sagemaker-experiments==0.1.26\n",
    "!pip install missingno\n",
    "!pip install scikit-optimize"
   ]
  },
  {
   "cell_type": "markdown",
   "id": "bd6e5a52-94a3-489c-819b-f57885fe9cc6",
   "metadata": {},
   "source": [
    "## Globally import libraries"
   ]
  },
  {
   "cell_type": "code",
   "execution_count": 3,
   "id": "c1264efc-72eb-45b3-9311-6ff9a787a26b",
   "metadata": {},
   "outputs": [],
   "source": [
    "import boto3\n",
    "from botocore.client import ClientError\n",
    "import pandas as pd\n",
    "import numpy as np\n",
    "from pyathena import connect\n",
    "from IPython.core.display import display, HTML\n",
    "import missingno as msno\n",
    "from skopt import BayesSearchCV\n",
    "from skopt.space import Real, Categorical, Integer\n",
    "from sklearn.compose import ColumnTransformer\n",
    "from sklearn.pipeline import make_pipeline, Pipeline\n",
    "from sklearn.preprocessing import StandardScaler, OneHotEncoder\n",
    "from sklearn.model_selection import train_test_split, cross_val_score, GridSearchCV\n",
    "from sklearn.ensemble import RandomForestRegressor\n",
    "from sklearn.neural_network import MLPRegressor\n",
    "from sklearn.impute import SimpleImputer\n",
    "from sklearn.metrics import r2_score, mean_squared_error\n",
    "from sklearn.linear_model import Lasso\n",
    "import datetime as dt\n",
    "import time\n",
    "import sagemaker\n",
    "from smexperiments.experiment import Experiment\n",
    "from smexperiments.trial import Trial\n",
    "import joblib\n",
    "import os\n",
    "from io import BytesIO"
   ]
  },
  {
   "cell_type": "markdown",
   "id": "e0208499-b452-4abe-a5ae-475f0ecc4254",
   "metadata": {},
   "source": [
    "## Instantiate AWS SageMaker and S3 sessions"
   ]
  },
  {
   "cell_type": "code",
   "execution_count": 4,
   "id": "6c4ef463-dd80-4d28-9a1f-09f5261fca85",
   "metadata": {},
   "outputs": [],
   "source": [
    "session = boto3.session.Session()\n",
    "role = sagemaker.get_execution_role()\n",
    "region = session.region_name\n",
    "sagemaker_session = sagemaker.Session()\n",
    "def_bucket = sagemaker_session.default_bucket()\n",
    "bucket = 'sagemaker-us-east-ads508-sp23-t8'\n",
    "\n",
    "s3 = boto3.Session().client(service_name=\"s3\",\n",
    "                            region_name=region)\n",
    "\n",
    "sm = boto3.Session().client(service_name=\"sagemaker\",\n",
    "                            region_name=region)"
   ]
  },
  {
   "cell_type": "code",
   "execution_count": 5,
   "id": "580594ea-994e-4fcf-987a-2ddb722c4237",
   "metadata": {},
   "outputs": [],
   "source": [
    "setup_s3_bucket_passed = False\n",
    "ingest_create_athena_db_passed = False\n",
    "ingest_create_athena_table_tsv_passed = False"
   ]
  },
  {
   "cell_type": "code",
   "execution_count": 6,
   "id": "59fe83df-3b8d-4120-ae9a-221497980a76",
   "metadata": {},
   "outputs": [
    {
     "name": "stdout",
     "output_type": "stream",
     "text": [
      "Default bucket: sagemaker-us-east-1-657724983756\n",
      "Public T8 bucket: sagemaker-us-east-ads508-sp23-t8\n"
     ]
    }
   ],
   "source": [
    "print(f\"Default bucket: {def_bucket}\")\n",
    "print(f\"Public T8 bucket: {bucket}\")"
   ]
  },
  {
   "cell_type": "markdown",
   "id": "aae823a2-4c36-4d81-a2fb-496557565c0b",
   "metadata": {},
   "source": [
    "## Verify S3 Bucket Creation"
   ]
  },
  {
   "cell_type": "code",
   "execution_count": 7,
   "id": "7c67927d-c9e0-4b49-8b94-3fa999e09586",
   "metadata": {},
   "outputs": [
    {
     "name": "stdout",
     "output_type": "stream",
     "text": [
      "2023-03-16 17:05:02 aws-athena-query-results-657724983756-us-east-1\n",
      "2023-03-02 16:56:48 sagemaker-studio-657724983756-5nh7ydsouq7\n",
      "2023-03-02 17:25:41 sagemaker-studio-657724983756-7yc8bp8xk0b\n",
      "2023-03-02 17:01:51 sagemaker-us-east-1-657724983756\n",
      "2023-03-17 05:19:31 sagemaker-us-east-ads508-sp23-t8\n"
     ]
    }
   ],
   "source": [
    "%%bash\n",
    "\n",
    "aws s3 ls s3://${bucket}/"
   ]
  },
  {
   "cell_type": "code",
   "execution_count": 8,
   "id": "e38a0299-5e04-4dd4-ada1-9cfd9de9caf2",
   "metadata": {},
   "outputs": [
    {
     "name": "stdout",
     "output_type": "stream",
     "text": [
      "{'ResponseMetadata': {'RequestId': 'YZJ6T6B08HP4E6VR', 'HostId': 'M0/w6z8i4PZVn97Klc2Jwi11Y0W29lFv/K0QNjbLdJkdANuGX91IhMMtzdSSC13r4263k+V6WwA=', 'HTTPStatusCode': 200, 'HTTPHeaders': {'x-amz-id-2': 'M0/w6z8i4PZVn97Klc2Jwi11Y0W29lFv/K0QNjbLdJkdANuGX91IhMMtzdSSC13r4263k+V6WwA=', 'x-amz-request-id': 'YZJ6T6B08HP4E6VR', 'date': 'Sat, 01 Apr 2023 18:13:38 GMT', 'x-amz-bucket-region': 'us-east-1', 'x-amz-access-point-alias': 'false', 'content-type': 'application/xml', 'server': 'AmazonS3'}, 'RetryAttempts': 0}}\n"
     ]
    }
   ],
   "source": [
    "response = None\n",
    "\n",
    "try:\n",
    "    response = s3.head_bucket(Bucket=bucket)\n",
    "    print(response)\n",
    "    setup_s3_bucket_passed = True\n",
    "except ClientError as e:\n",
    "    print(f\"[ERROR] Cannot find bucket {bucket} in {response} due to {e}.\")"
   ]
  },
  {
   "cell_type": "code",
   "execution_count": 9,
   "id": "58668029-ed3a-478a-9c90-01f6db041edb",
   "metadata": {},
   "outputs": [
    {
     "name": "stdout",
     "output_type": "stream",
     "text": [
      "Stored 'setup_s3_bucket_passed' (bool)\n"
     ]
    }
   ],
   "source": [
    "%store setup_s3_bucket_passed"
   ]
  },
  {
   "cell_type": "markdown",
   "id": "2ea0232b-3373-406b-addb-3bd73572884a",
   "metadata": {},
   "source": [
    "## Pass in train and test X from CSV"
   ]
  },
  {
   "cell_type": "code",
   "execution_count": 10,
   "id": "39061b0e-220f-48bc-b392-9a1e7c18de33",
   "metadata": {},
   "outputs": [
    {
     "name": "stdout",
     "output_type": "stream",
     "text": [
      "(25284, 48)\n",
      "\n",
      "(6321, 48)\n"
     ]
    }
   ],
   "source": [
    "s3_train_x01_csv_path = f\"s3://{def_bucket}/team_8_data/modeling_data/train_x01.csv\"\n",
    "train_x01 = pd.read_csv(s3_train_x01_csv_path)\n",
    "s3_test_x01_csv_path = f\"s3://{def_bucket}/team_8_data/modeling_data/test_x01.csv\"\n",
    "test_x01 = pd.read_csv(s3_test_x01_csv_path)\n",
    "\n",
    "print(f'{train_x01.shape}')\n",
    "print(f'\\n{test_x01.shape}')"
   ]
  },
  {
   "cell_type": "markdown",
   "id": "8906d20b-871d-4a6c-8fd2-0d363c49d3ee",
   "metadata": {},
   "source": [
    "## Pass in train and test y from np array"
   ]
  },
  {
   "cell_type": "code",
   "execution_count": 11,
   "id": "52d90171-b637-4458-a57c-bc3bc86372f4",
   "metadata": {},
   "outputs": [
    {
     "name": "stdout",
     "output_type": "stream",
     "text": [
      "(25284, 1)\n",
      "(6321, 1)\n"
     ]
    }
   ],
   "source": [
    "# Define the S3 object key\n",
    "train_y01_s3_key = 'team_8_data/modeling_data/train_y01.npy'\n",
    "\n",
    "# Load the numpy array from S3\n",
    "with BytesIO() as data:\n",
    "    s3.download_fileobj(def_bucket, train_y01_s3_key, data)\n",
    "    data.seek(0)\n",
    "    train_y01 = np.load(data)\n",
    "\n",
    "# Define the S3 object key\n",
    "test_y01_s3_key = 'team_8_data/modeling_data/test_y01.npy'\n",
    "\n",
    "# Load the numpy array from S3\n",
    "with BytesIO() as data:\n",
    "    s3.download_fileobj(def_bucket, test_y01_s3_key, data)\n",
    "    data.seek(0)\n",
    "    test_y01 = np.load(data)\n",
    "\n",
    "# Confirm that the numpy array was loaded from S3\n",
    "print(f'{train_y01.shape}')\n",
    "print(f'{test_y01.shape}')"
   ]
  },
  {
   "cell_type": "markdown",
   "id": "3d3d010d-1782-442f-bade-e1a3e562f373",
   "metadata": {
    "tags": []
   },
   "source": [
    "y01 = ['childpoverty']\n",
    "abt_encoded_y01_vc01 = abt_encoded_df01[y01].to_numpy()\n",
    "print(abt_encoded_y01_vc01.shape)\n",
    "display(abt_encoded_y01_vc01[0:11])\n",
    "abt_encoded_x01_df01 = abt_encoded_df01.drop(y01, axis=1)\n",
    "print(abt_encoded_x01_df01.shape)\n",
    "display(abt_encoded_x01_df01.head(11))\n",
    "\n",
    "abt_encoded_x01_df01['boroughs'] = abt_encoded_x01_df01['borough_bronx'].astype(int).astype(str) + abt_encoded_x01_df01['borough_brooklyn'].astype(int).astype(str) + abt_encoded_x01_df01['borough_manhattan'].astype(int).astype(str) + abt_encoded_x01_df01['borough_queens'].astype(int).astype(str) + abt_encoded_x01_df01['borough_staten island'].astype(int).astype(str)\n",
    "display(abt_encoded_x01_df01.head(5))\n",
    "train_x01, test_x01, train_y01, test_y01 = train_test_split(abt_encoded_x01_df01,\n",
    "                                                            abt_encoded_y01_vc01,\n",
    "                                                            test_size=.2,\n",
    "                                                            stratify=abt_encoded_x01_df01[['boroughs']],\n",
    "                                                            shuffle=True,\n",
    "                                                            random_state=1699)\n",
    "\n",
    "train_x01 = train_x01.drop(['boroughs', 'poverty'], axis=1)\n",
    "test_x01 = test_x01.drop(['boroughs', 'poverty'], axis=1)\n",
    "\n",
    "train_y01 = train_y01.ravel()\n",
    "test_y01 = test_y01.ravel()\n",
    "\n",
    "\n",
    "print(f'{train_x01.shape}')\n",
    "print(f'{train_y01.shape}')\n",
    "print(f'\\n{test_x01.shape}')\n",
    "print(f'{test_y01.shape}')"
   ]
  },
  {
   "cell_type": "markdown",
   "id": "f964692a-cf34-4755-bd98-14ce4acd8c93",
   "metadata": {},
   "source": [
    "## Model Training using Grid search with 5-fold cross-validation"
   ]
  },
  {
   "cell_type": "markdown",
   "id": "2bf899ca-f7a5-4687-a1ae-fac72dbbc505",
   "metadata": {
    "tags": []
   },
   "source": [
    "### Random Forests"
   ]
  },
  {
   "cell_type": "markdown",
   "id": "b49fa2c3-4dc1-4cfc-ae53-29b910a06998",
   "metadata": {},
   "source": [
    "# Start timer script\n",
    "start_time = dt.datetime.today()\n",
    "\n",
    "# Citation: Hochberg, 2018; Shanmukh, 2021\n",
    "m1v1_pip = Pipeline([('si', SimpleImputer(strategy='median')),\n",
    "                     ('ss', StandardScaler()),\n",
    "                     ('rf', RandomForestRegressor(n_jobs=2, random_state=1699))])\n",
    "\n",
    "n_est_hparam = [1, 10, 100, 200]\n",
    "max_depth_hparam = [5, 10, None]\n",
    "min_samp_leaf_hparam = [1, 75, 105]\n",
    "max_feat_hparam = ['sqrt', 'log2']\n",
    "\n",
    "#n_est_hparam = [1, 10]\n",
    "#max_depth_hparam = [5, 10]\n",
    "#min_samp_leaf_hparam = [1, 75]\n",
    "#max_feat_hparam = ['sqrt']\n",
    "\n",
    "m1v1_grd = {'rf__n_estimators': n_est_hparam,\n",
    "            'rf__max_depth': max_depth_hparam,\n",
    "            'rf__min_samples_leaf': min_samp_leaf_hparam,\n",
    "            'rf__max_features': max_feat_hparam\n",
    "           }\n",
    "\n",
    "m1v1_rf = GridSearchCV(m1v1_pip,\n",
    "                       m1v1_grd,\n",
    "                       scoring='neg_root_mean_squared_error',\n",
    "                       n_jobs=2,\n",
    "                       refit=True,\n",
    "                       verbose=2)\n",
    "\n",
    "m1v1_rf.fit(train_x01, train_y01)\n",
    "\n",
    "print(f'Best Estimator:\\n{m1v1_rf.best_estimator_}')\n",
    "\n",
    "print(pd.DataFrame(m1v1_rf.cv_results_))\n",
    "\n",
    "train_m1v1_y01_pred = m1v1_rf.predict(train_x01)\n",
    "print(train_m1v1_y01_pred)\n",
    "\n",
    "test_m1v1_y01_pred = m1v1_rf.predict(test_x01)\n",
    "print(test_m1v1_y01_pred)\n",
    "\n",
    "# Display evaluation metrics\n",
    "# R-sq\n",
    "train_m1v1_rf_r2 = r2_score(train_y01, train_m1v1_y01_pred)\n",
    "test_m1v1_rf_r2 = r2_score(test_y01, test_m1v1_y01_pred)\n",
    "\n",
    "print(f'Train R-sq:\\n{train_m1v1_rf_r2}')\n",
    "print(f'Test R-sq:\\n{test_m1v1_rf_r2}')\n",
    "\n",
    "# RMSE\n",
    "train_m1v1_rf_rmse = mean_squared_error(train_y01, train_m1v1_y01_pred, squared=False)\n",
    "test_m1v1_rf_rmse = mean_squared_error(test_y01, test_m1v1_y01_pred, squared=False)\n",
    "\n",
    "print(f'Train RMSE:\\n{train_m1v1_rf_rmse}')\n",
    "print(f'Test RMSE:\\n{test_m1v1_rf_rmse}')\n",
    "\n",
    "# End timer script\n",
    "end_time = dt.datetime.today()\n",
    "time_elapse = end_time - start_time\n",
    "print(f'End Time = {end_time}')\n",
    "print(f'Script Time = {time_elapse}')"
   ]
  },
  {
   "cell_type": "markdown",
   "id": "5a741b78-dcac-43c1-bd67-a1dd56790b07",
   "metadata": {
    "tags": []
   },
   "source": [
    "s3_m1v1_rf_pqt_base_path = f\"../models\"\n",
    "\n",
    "if not os.path.exists(s3_m1v1_rf_pqt_base_path):\n",
    "    os.makedirs(s3_m1v1_rf_pqt_base_path)\n",
    "\n",
    "s3_m1v1_rf_pqt_path = os.path.join(s3_m1v1_rf_pqt_base_path,\n",
    "                                   'm1v1_rf.parquet')\n",
    "\n",
    "# save the model to disk using joblib\n",
    "joblib.dump(m1v1_rf,\n",
    "            s3_m1v1_rf_pqt_path)\n",
    "\n",
    "# load the saved model from disk using joblib\n",
    "m1v1_rf_fitted = joblib.load(s3_m1v1_rf_pqt_path)"
   ]
  },
  {
   "cell_type": "markdown",
   "id": "67effbbc-6281-49a2-8ae8-8424eba5a4f5",
   "metadata": {},
   "source": [
    "### Neural Network"
   ]
  },
  {
   "cell_type": "markdown",
   "id": "a6cc7107-fd59-4d80-800d-49fce92f40e1",
   "metadata": {
    "tags": []
   },
   "source": [
    "# Start timer script\n",
    "start_time = dt.datetime.today()\n",
    "\n",
    "# Citation: Hochberg, 2018; Shanmukh, 2021\n",
    "m2v1_pip = Pipeline([('si', SimpleImputer(strategy='median')),\n",
    "                     ('ss', StandardScaler()),\n",
    "                     ('nn', MLPRegressor(random_state=1699))])\n",
    "\n",
    "nodes_h = 3\n",
    "predictors_p = 49\n",
    "\n",
    "hidden_layer_sizes_hparam = [[100,],\n",
    "                             [(nodes_h*(predictors_p+1))+nodes_h+1,],\n",
    "                             [50, 50]\n",
    "                            ]\n",
    "activation_hparam = ['logistic', 'relu']\n",
    "solver_hparam = ['adam']\n",
    "alpha_hparam = [.0001, .0005, .001]\n",
    "learn_rate_hparam = ['constant', 'invscaling']\n",
    "\n",
    "#hidden_layer_sizes_hparam = [[100,]]\n",
    "#activation_hparam = ['relu']\n",
    "#solver_hparam = ['adam']\n",
    "#alpha_hparam = [.0001]\n",
    "#learn_rate_hparam = ['invscaling']\n",
    "\n",
    "m2v1_grd = {'nn__hidden_layer_sizes': hidden_layer_sizes_hparam,\n",
    "            'nn__activation': activation_hparam,\n",
    "            'nn__solver': solver_hparam,\n",
    "            'nn__alpha': alpha_hparam,\n",
    "            'nn__learning_rate': learn_rate_hparam\n",
    "           }\n",
    "\n",
    "m2v1_nn = GridSearchCV(m2v1_pip,\n",
    "                       m2v1_grd,\n",
    "                       scoring='neg_root_mean_squared_error',\n",
    "                       n_jobs=2,\n",
    "                       refit=True,\n",
    "                       verbose=2)\n",
    "\n",
    "m2v1_nn.fit(train_x01, train_y01)\n",
    "\n",
    "print(f'Best Estimator:\\n{m2v1_nn.best_estimator_}')\n",
    "\n",
    "print(pd.DataFrame(m2v1_nn.cv_results_))\n",
    "\n",
    "train_m2v1_y01_pred = m2v1_nn.predict(train_x01)\n",
    "print(train_m2v1_y01_pred)\n",
    "\n",
    "test_m2v1_y01_pred = m2v1_nn.predict(test_x01)\n",
    "print(test_m2v1_y01_pred)\n",
    "\n",
    "# Display evaluation metrics\n",
    "# R-sq\n",
    "train_m2v1_nn_r2 = r2_score(train_y01, train_m2v1_y01_pred)\n",
    "test_m2v1_nn_r2 = r2_score(test_y01, test_m2v1_y01_pred)\n",
    "\n",
    "print(f'Train R-sq:\\n{train_m2v1_nn_r2}')\n",
    "print(f'Test R-sq:\\n{test_m2v1_nn_r2}')\n",
    "\n",
    "# RMSE\n",
    "train_m2v1_nn_rmse = mean_squared_error(train_y01, train_m2v1_y01_pred, squared=False)\n",
    "test_m2v1_nn_rmse = mean_squared_error(test_y01, test_m2v1_y01_pred, squared=False)\n",
    "\n",
    "print(f'Train RMSE:\\n{train_m2v1_nn_rmse}')\n",
    "print(f'Test RMSE:\\n{test_m2v1_nn_rmse}')\n",
    "\n",
    "# End timer script\n",
    "end_time = dt.datetime.today()\n",
    "time_elapse = end_time - start_time\n",
    "print(f'End Time = {end_time}')\n",
    "print(f'Script Time = {time_elapse}')"
   ]
  },
  {
   "cell_type": "markdown",
   "id": "9190abfa-5152-4bcc-948b-68ce6b438104",
   "metadata": {},
   "source": [
    "s3_m2v1_nn_pqt_base_path = f\"../models\"\n",
    "\n",
    "if not os.path.exists(s3_m2v1_nn_pqt_base_path):\n",
    "    os.makedirs(s3_m2v1_nn_pqt_base_path)\n",
    "\n",
    "s3_m2v1_nn_pqt_path = os.path.join(s3_m2v1_nn_pqt_base_path,\n",
    "                                   'm2v1_nn.parquet')\n",
    "\n",
    "# save the model to disk using joblib\n",
    "joblib.dump(m2v1_nn,\n",
    "            s3_m2v1_nn_pqt_path)\n",
    "\n",
    "# load the saved model from disk using joblib\n",
    "m2v1_nn_fitted = joblib.load(s3_m2v1_nn_pqt_path)"
   ]
  },
  {
   "cell_type": "markdown",
   "id": "bf825858-d3cc-45a7-926a-554144059c73",
   "metadata": {},
   "source": [
    "### Lasso - Using `GridSearchCV`"
   ]
  },
  {
   "cell_type": "code",
   "execution_count": 12,
   "id": "2738b762-9315-4768-ad58-bcbc5d2e111c",
   "metadata": {
    "tags": []
   },
   "outputs": [
    {
     "name": "stdout",
     "output_type": "stream",
     "text": [
      "Fitting 5 folds for each of 12 candidates, totalling 60 fits\n"
     ]
    },
    {
     "name": "stderr",
     "output_type": "stream",
     "text": [
      "[Parallel(n_jobs=2)]: Using backend LokyBackend with 2 concurrent workers.\n",
      "[Parallel(n_jobs=2)]: Done  37 tasks      | elapsed:   17.0s\n",
      "[Parallel(n_jobs=2)]: Done  60 out of  60 | elapsed:   20.4s finished\n"
     ]
    },
    {
     "name": "stdout",
     "output_type": "stream",
     "text": [
      "Best Estimator:\n",
      "Pipeline(memory=None,\n",
      "         steps=[('si',\n",
      "                 SimpleImputer(add_indicator=False, copy=True, fill_value=None,\n",
      "                               missing_values=nan, strategy='median',\n",
      "                               verbose=0)),\n",
      "                ('ss',\n",
      "                 StandardScaler(copy=True, with_mean=True, with_std=True)),\n",
      "                ('ls',\n",
      "                 Lasso(alpha=0.01, copy_X=True, fit_intercept=True,\n",
      "                       max_iter=1000, normalize=False, positive=False,\n",
      "                       precompute=False, random_state=1699, selection='random',\n",
      "                       tol=0.0001, warm_start=False))],\n",
      "         verbose=False)\n",
      "Coefficients:\n",
      "[-0.04577328  1.16271284  0.         -1.02188349  1.13824356 -0.\n",
      " -0.          0.          0.02926359 -0.         -0.02410066 -0.\n",
      "  0.01199356 -0.         -0.          0.         -0.          2.92818225\n",
      "  2.50144703  5.6083571   1.40163864 -2.3430507  -1.18949503 -0.33823435\n",
      " -1.36576657 -3.47372848 -6.79346366  0.12910537  0.20835838 -0.04815575\n",
      " -0.51853259  2.1504569   0.72949465 -0.44586032  0.         -1.47779658\n",
      " -0.4831309   0.          1.54019508  0.49112942  0.56203387 -0.72541539\n",
      " -8.1631541   0.40609409 -1.28560838  0.46767281  0.73587244  1.62060247]\n",
      "    mean_fit_time  std_fit_time  mean_score_time  std_score_time  \\\n",
      "0        1.078176      0.128608         0.010457        0.001574   \n",
      "1        1.619120      0.140734         0.010502        0.000640   \n",
      "2        0.455139      0.017337         0.009374        0.000734   \n",
      "3        0.856135      0.177683         0.012187        0.005327   \n",
      "4        0.477487      0.021418         0.010751        0.002749   \n",
      "5        1.189483      0.492490         0.009805        0.001567   \n",
      "6        0.316428      0.037012         0.008817        0.001056   \n",
      "7        0.318373      0.027222         0.009244        0.001128   \n",
      "8        0.338848      0.035940         0.011255        0.006285   \n",
      "9        0.308988      0.049294         0.009237        0.000875   \n",
      "10       0.244224      0.002794         0.009824        0.000500   \n",
      "11       0.251237      0.002945         0.009639        0.001315   \n",
      "\n",
      "   param_ls__alpha param_ls__selection  \\\n",
      "0             0.01              cyclic   \n",
      "1             0.01              random   \n",
      "2             0.05              cyclic   \n",
      "3             0.05              random   \n",
      "4              0.1              cyclic   \n",
      "5              0.1              random   \n",
      "6              0.5              cyclic   \n",
      "7              0.5              random   \n",
      "8                1              cyclic   \n",
      "9                1              random   \n",
      "10               2              cyclic   \n",
      "11               2              random   \n",
      "\n",
      "                                            params  split0_test_score  \\\n",
      "0   {'ls__alpha': 0.01, 'ls__selection': 'cyclic'}         -11.378622   \n",
      "1   {'ls__alpha': 0.01, 'ls__selection': 'random'}         -11.378487   \n",
      "2   {'ls__alpha': 0.05, 'ls__selection': 'cyclic'}         -11.381011   \n",
      "3   {'ls__alpha': 0.05, 'ls__selection': 'random'}         -11.380911   \n",
      "4    {'ls__alpha': 0.1, 'ls__selection': 'cyclic'}         -11.396508   \n",
      "5    {'ls__alpha': 0.1, 'ls__selection': 'random'}         -11.396574   \n",
      "6    {'ls__alpha': 0.5, 'ls__selection': 'cyclic'}         -11.806394   \n",
      "7    {'ls__alpha': 0.5, 'ls__selection': 'random'}         -11.806288   \n",
      "8      {'ls__alpha': 1, 'ls__selection': 'cyclic'}         -12.008540   \n",
      "9      {'ls__alpha': 1, 'ls__selection': 'random'}         -12.008700   \n",
      "10     {'ls__alpha': 2, 'ls__selection': 'cyclic'}         -12.496541   \n",
      "11     {'ls__alpha': 2, 'ls__selection': 'random'}         -12.496534   \n",
      "\n",
      "    split1_test_score  split2_test_score  split3_test_score  \\\n",
      "0          -11.391382         -11.411045         -11.505769   \n",
      "1          -11.391378         -11.411014         -11.505288   \n",
      "2          -11.384965         -11.423042         -11.519926   \n",
      "3          -11.384859         -11.423228         -11.520247   \n",
      "4          -11.408320         -11.450277         -11.549378   \n",
      "5          -11.408500         -11.450586         -11.550226   \n",
      "6          -11.866156         -11.935607         -12.014084   \n",
      "7          -11.866342         -11.935859         -12.014299   \n",
      "8          -12.112724         -12.186260         -12.226056   \n",
      "9          -12.112880         -12.186494         -12.226203   \n",
      "10         -12.607476         -12.682111         -12.710059   \n",
      "11         -12.607472         -12.682084         -12.710063   \n",
      "\n",
      "    split4_test_score  mean_test_score  std_test_score  rank_test_score  \n",
      "0          -11.386551       -11.414674        0.046786                2  \n",
      "1          -11.386614       -11.414556        0.046613                1  \n",
      "2          -11.395211       -11.420831        0.051678                3  \n",
      "3          -11.395461       -11.420941        0.051808                4  \n",
      "4          -11.417847       -11.444466        0.055417                5  \n",
      "5          -11.418167       -11.444811        0.055679                6  \n",
      "6          -11.850882       -11.894625        0.072744                7  \n",
      "7          -11.851056       -11.894769        0.072834                8  \n",
      "8          -12.081994       -12.123115        0.076825                9  \n",
      "9          -12.082092       -12.123274        0.076840               10  \n",
      "10         -12.596496       -12.618537        0.074712               11  \n",
      "11         -12.596565       -12.618544        0.074706               12  \n",
      "[ 1.00912042  2.11578233 20.65156726 ...  5.04336003 20.69816125\n",
      "  9.29922202]\n",
      "[43.29747345  3.29283668 36.55231188 ... -0.46895826  1.17582424\n",
      "  3.26821323]\n",
      "Train R-sq:\n",
      "0.6369222804126817\n",
      "Test R-sq:\n",
      "0.6479588276300332\n",
      "Train RMSE:\n",
      "11.38937162907483\n",
      "Test RMSE:\n",
      "11.339096004339149\n",
      "End Time = 2023-04-01 18:14:00.491670\n",
      "Script Time = 0:00:21.709315\n"
     ]
    }
   ],
   "source": [
    "# Start timer script\n",
    "start_time = dt.datetime.today()\n",
    "\n",
    "# Citation: Hochberg, 2018; Shanmukh, 2021\n",
    "m3v1_ls_pip = Pipeline([('si', SimpleImputer(strategy='median')),\n",
    "                        ('ss', StandardScaler()),\n",
    "                        ('ls', Lasso(random_state=1699))])\n",
    "\n",
    "alpha_hparam = [.01, .05, .1, .5, 1, 2]\n",
    "selection_hparam = ['cyclic', 'random']\n",
    "\n",
    "\n",
    "m3v1_ls_grd = {'ls__alpha': alpha_hparam,\n",
    "               'ls__selection': selection_hparam\n",
    "           }\n",
    "\n",
    "m3v1_ls = GridSearchCV(m3v1_ls_pip,\n",
    "                       m3v1_ls_grd,\n",
    "                       scoring='neg_root_mean_squared_error',\n",
    "                       n_jobs=2,\n",
    "                       refit=True,\n",
    "                       verbose=2)\n",
    "\n",
    "m3v1_ls.fit(train_x01, train_y01)\n",
    "\n",
    "print(f'Best Estimator:\\n{m3v1_ls.best_estimator_}')\n",
    "print(f'Coefficients:\\n{m3v1_ls.best_estimator_.named_steps[\"ls\"].coef_}')\n",
    "\n",
    "print(pd.DataFrame(m3v1_ls.cv_results_))\n",
    "\n",
    "train_m3v1_ls_y01_pred = m3v1_ls.predict(train_x01)\n",
    "print(train_m3v1_ls_y01_pred)\n",
    "\n",
    "test_m3v1_ls_y01_pred = m3v1_ls.predict(test_x01)\n",
    "print(test_m3v1_ls_y01_pred)\n",
    "\n",
    "# Display evaluation metrics\n",
    "# R-sq\n",
    "train_m3v1_ls_r2 = r2_score(train_y01, train_m3v1_ls_y01_pred)\n",
    "test_m3v1_ls_r2 = r2_score(test_y01, test_m3v1_ls_y01_pred)\n",
    "\n",
    "print(f'Train R-sq:\\n{train_m3v1_ls_r2}')\n",
    "print(f'Test R-sq:\\n{test_m3v1_ls_r2}')\n",
    "\n",
    "# RMSE\n",
    "train_m3v1_ls_rmse = mean_squared_error(train_y01, train_m3v1_ls_y01_pred, squared=False)\n",
    "test_m3v1_ls_rmse = mean_squared_error(test_y01, test_m3v1_ls_y01_pred, squared=False)\n",
    "\n",
    "print(f'Train RMSE:\\n{train_m3v1_ls_rmse}')\n",
    "print(f'Test RMSE:\\n{test_m3v1_ls_rmse}')\n",
    "\n",
    "# End timer script\n",
    "end_time = dt.datetime.today()\n",
    "time_elapse = end_time - start_time\n",
    "print(f'End Time = {end_time}')\n",
    "print(f'Script Time = {time_elapse}')"
   ]
  },
  {
   "cell_type": "code",
   "execution_count": 13,
   "id": "3f56e4e9-ab8a-42d1-89a0-e1795c560afa",
   "metadata": {
    "tags": []
   },
   "outputs": [
    {
     "data": {
      "text/html": [
       "<div>\n",
       "<style scoped>\n",
       "    .dataframe tbody tr th:only-of-type {\n",
       "        vertical-align: middle;\n",
       "    }\n",
       "\n",
       "    .dataframe tbody tr th {\n",
       "        vertical-align: top;\n",
       "    }\n",
       "\n",
       "    .dataframe thead th {\n",
       "        text-align: right;\n",
       "    }\n",
       "</style>\n",
       "<table border=\"1\" class=\"dataframe\">\n",
       "  <thead>\n",
       "    <tr style=\"text-align: right;\">\n",
       "      <th></th>\n",
       "      <th>0</th>\n",
       "      <th>0</th>\n",
       "    </tr>\n",
       "  </thead>\n",
       "  <tbody>\n",
       "    <tr>\n",
       "      <th>0</th>\n",
       "      <td>borough_bronx</td>\n",
       "      <td>-0.045773</td>\n",
       "    </tr>\n",
       "    <tr>\n",
       "      <th>1</th>\n",
       "      <td>borough_brooklyn</td>\n",
       "      <td>1.162713</td>\n",
       "    </tr>\n",
       "    <tr>\n",
       "      <th>2</th>\n",
       "      <td>borough_manhattan</td>\n",
       "      <td>0.000000</td>\n",
       "    </tr>\n",
       "    <tr>\n",
       "      <th>3</th>\n",
       "      <td>borough_queens</td>\n",
       "      <td>-1.021883</td>\n",
       "    </tr>\n",
       "    <tr>\n",
       "      <th>4</th>\n",
       "      <td>borough_staten island</td>\n",
       "      <td>1.138244</td>\n",
       "    </tr>\n",
       "    <tr>\n",
       "      <th>5</th>\n",
       "      <td>relative_data_year_-4</td>\n",
       "      <td>-0.000000</td>\n",
       "    </tr>\n",
       "    <tr>\n",
       "      <th>6</th>\n",
       "      <td>relative_data_year_-3</td>\n",
       "      <td>-0.000000</td>\n",
       "    </tr>\n",
       "    <tr>\n",
       "      <th>7</th>\n",
       "      <td>relative_data_year_-2</td>\n",
       "      <td>0.000000</td>\n",
       "    </tr>\n",
       "    <tr>\n",
       "      <th>8</th>\n",
       "      <td>relative_data_year_-1</td>\n",
       "      <td>0.029264</td>\n",
       "    </tr>\n",
       "    <tr>\n",
       "      <th>9</th>\n",
       "      <td>relative_data_year_0</td>\n",
       "      <td>-0.000000</td>\n",
       "    </tr>\n",
       "    <tr>\n",
       "      <th>10</th>\n",
       "      <td>complaint_type_FELONY</td>\n",
       "      <td>-0.024101</td>\n",
       "    </tr>\n",
       "    <tr>\n",
       "      <th>11</th>\n",
       "      <td>complaint_type_MISDEMEANOR</td>\n",
       "      <td>-0.000000</td>\n",
       "    </tr>\n",
       "    <tr>\n",
       "      <th>12</th>\n",
       "      <td>complaint_type_VIOLATION</td>\n",
       "      <td>0.011994</td>\n",
       "    </tr>\n",
       "    <tr>\n",
       "      <th>13</th>\n",
       "      <td>annual_evictions_x_borough</td>\n",
       "      <td>-0.000000</td>\n",
       "    </tr>\n",
       "    <tr>\n",
       "      <th>14</th>\n",
       "      <td>annual_complaint_counts</td>\n",
       "      <td>-0.000000</td>\n",
       "    </tr>\n",
       "    <tr>\n",
       "      <th>15</th>\n",
       "      <td>annual_grad_n</td>\n",
       "      <td>0.000000</td>\n",
       "    </tr>\n",
       "    <tr>\n",
       "      <th>16</th>\n",
       "      <td>annual_dropped_out_n</td>\n",
       "      <td>-0.000000</td>\n",
       "    </tr>\n",
       "    <tr>\n",
       "      <th>17</th>\n",
       "      <td>totalpop</td>\n",
       "      <td>2.928182</td>\n",
       "    </tr>\n",
       "    <tr>\n",
       "      <th>18</th>\n",
       "      <td>men</td>\n",
       "      <td>2.501447</td>\n",
       "    </tr>\n",
       "    <tr>\n",
       "      <th>19</th>\n",
       "      <td>women</td>\n",
       "      <td>5.608357</td>\n",
       "    </tr>\n",
       "    <tr>\n",
       "      <th>20</th>\n",
       "      <td>hispanic</td>\n",
       "      <td>1.401639</td>\n",
       "    </tr>\n",
       "    <tr>\n",
       "      <th>21</th>\n",
       "      <td>white</td>\n",
       "      <td>-2.343051</td>\n",
       "    </tr>\n",
       "    <tr>\n",
       "      <th>22</th>\n",
       "      <td>black</td>\n",
       "      <td>-1.189495</td>\n",
       "    </tr>\n",
       "    <tr>\n",
       "      <th>23</th>\n",
       "      <td>native</td>\n",
       "      <td>-0.338234</td>\n",
       "    </tr>\n",
       "    <tr>\n",
       "      <th>24</th>\n",
       "      <td>asian</td>\n",
       "      <td>-1.365767</td>\n",
       "    </tr>\n",
       "    <tr>\n",
       "      <th>25</th>\n",
       "      <td>citizen</td>\n",
       "      <td>-3.473728</td>\n",
       "    </tr>\n",
       "    <tr>\n",
       "      <th>26</th>\n",
       "      <td>income</td>\n",
       "      <td>-6.793464</td>\n",
       "    </tr>\n",
       "    <tr>\n",
       "      <th>27</th>\n",
       "      <td>incomeerr</td>\n",
       "      <td>0.129105</td>\n",
       "    </tr>\n",
       "    <tr>\n",
       "      <th>28</th>\n",
       "      <td>incomepercap</td>\n",
       "      <td>0.208358</td>\n",
       "    </tr>\n",
       "    <tr>\n",
       "      <th>29</th>\n",
       "      <td>incomepercaperr</td>\n",
       "      <td>-0.048156</td>\n",
       "    </tr>\n",
       "    <tr>\n",
       "      <th>30</th>\n",
       "      <td>professional</td>\n",
       "      <td>-0.518533</td>\n",
       "    </tr>\n",
       "    <tr>\n",
       "      <th>31</th>\n",
       "      <td>service</td>\n",
       "      <td>2.150457</td>\n",
       "    </tr>\n",
       "    <tr>\n",
       "      <th>32</th>\n",
       "      <td>office</td>\n",
       "      <td>0.729495</td>\n",
       "    </tr>\n",
       "    <tr>\n",
       "      <th>33</th>\n",
       "      <td>construction</td>\n",
       "      <td>-0.445860</td>\n",
       "    </tr>\n",
       "    <tr>\n",
       "      <th>34</th>\n",
       "      <td>production</td>\n",
       "      <td>0.000000</td>\n",
       "    </tr>\n",
       "    <tr>\n",
       "      <th>35</th>\n",
       "      <td>drive</td>\n",
       "      <td>-1.477797</td>\n",
       "    </tr>\n",
       "    <tr>\n",
       "      <th>36</th>\n",
       "      <td>carpool</td>\n",
       "      <td>-0.483131</td>\n",
       "    </tr>\n",
       "    <tr>\n",
       "      <th>37</th>\n",
       "      <td>transit</td>\n",
       "      <td>0.000000</td>\n",
       "    </tr>\n",
       "    <tr>\n",
       "      <th>38</th>\n",
       "      <td>walk</td>\n",
       "      <td>1.540195</td>\n",
       "    </tr>\n",
       "    <tr>\n",
       "      <th>39</th>\n",
       "      <td>othertransp</td>\n",
       "      <td>0.491129</td>\n",
       "    </tr>\n",
       "    <tr>\n",
       "      <th>40</th>\n",
       "      <td>workathome</td>\n",
       "      <td>0.562034</td>\n",
       "    </tr>\n",
       "    <tr>\n",
       "      <th>41</th>\n",
       "      <td>meancommute</td>\n",
       "      <td>-0.725415</td>\n",
       "    </tr>\n",
       "    <tr>\n",
       "      <th>42</th>\n",
       "      <td>employed</td>\n",
       "      <td>-8.163154</td>\n",
       "    </tr>\n",
       "    <tr>\n",
       "      <th>43</th>\n",
       "      <td>privatework</td>\n",
       "      <td>0.406094</td>\n",
       "    </tr>\n",
       "    <tr>\n",
       "      <th>44</th>\n",
       "      <td>publicwork</td>\n",
       "      <td>-1.285608</td>\n",
       "    </tr>\n",
       "    <tr>\n",
       "      <th>45</th>\n",
       "      <td>selfemployed</td>\n",
       "      <td>0.467673</td>\n",
       "    </tr>\n",
       "    <tr>\n",
       "      <th>46</th>\n",
       "      <td>familywork</td>\n",
       "      <td>0.735872</td>\n",
       "    </tr>\n",
       "    <tr>\n",
       "      <th>47</th>\n",
       "      <td>unemployment</td>\n",
       "      <td>1.620602</td>\n",
       "    </tr>\n",
       "    <tr>\n",
       "      <th>48</th>\n",
       "      <td>intercept</td>\n",
       "      <td>24.475273</td>\n",
       "    </tr>\n",
       "  </tbody>\n",
       "</table>\n",
       "</div>"
      ],
      "text/plain": [
       "                             0          0\n",
       "0                borough_bronx  -0.045773\n",
       "1             borough_brooklyn   1.162713\n",
       "2            borough_manhattan   0.000000\n",
       "3               borough_queens  -1.021883\n",
       "4        borough_staten island   1.138244\n",
       "5        relative_data_year_-4  -0.000000\n",
       "6        relative_data_year_-3  -0.000000\n",
       "7        relative_data_year_-2   0.000000\n",
       "8        relative_data_year_-1   0.029264\n",
       "9         relative_data_year_0  -0.000000\n",
       "10       complaint_type_FELONY  -0.024101\n",
       "11  complaint_type_MISDEMEANOR  -0.000000\n",
       "12    complaint_type_VIOLATION   0.011994\n",
       "13  annual_evictions_x_borough  -0.000000\n",
       "14     annual_complaint_counts  -0.000000\n",
       "15               annual_grad_n   0.000000\n",
       "16        annual_dropped_out_n  -0.000000\n",
       "17                    totalpop   2.928182\n",
       "18                         men   2.501447\n",
       "19                       women   5.608357\n",
       "20                    hispanic   1.401639\n",
       "21                       white  -2.343051\n",
       "22                       black  -1.189495\n",
       "23                      native  -0.338234\n",
       "24                       asian  -1.365767\n",
       "25                     citizen  -3.473728\n",
       "26                      income  -6.793464\n",
       "27                   incomeerr   0.129105\n",
       "28                incomepercap   0.208358\n",
       "29             incomepercaperr  -0.048156\n",
       "30                professional  -0.518533\n",
       "31                     service   2.150457\n",
       "32                      office   0.729495\n",
       "33                construction  -0.445860\n",
       "34                  production   0.000000\n",
       "35                       drive  -1.477797\n",
       "36                     carpool  -0.483131\n",
       "37                     transit   0.000000\n",
       "38                        walk   1.540195\n",
       "39                 othertransp   0.491129\n",
       "40                  workathome   0.562034\n",
       "41                 meancommute  -0.725415\n",
       "42                    employed  -8.163154\n",
       "43                 privatework   0.406094\n",
       "44                  publicwork  -1.285608\n",
       "45                selfemployed   0.467673\n",
       "46                  familywork   0.735872\n",
       "47                unemployment   1.620602\n",
       "48                   intercept  24.475273"
      ]
     },
     "metadata": {},
     "output_type": "display_data"
    }
   ],
   "source": [
    "coef_intercept = np.hstack((m3v1_ls.best_estimator_.named_steps[\"ls\"].coef_,\n",
    "                            m3v1_ls.best_estimator_.named_steps[\"ls\"].intercept_))\n",
    "#print(coef_intercept)\n",
    "\n",
    "coef_intercept_df01 = pd.DataFrame(coef_intercept)\n",
    "#display(coef_intercept_df01)\n",
    "\n",
    "train_x01_col_names = list(train_x01.columns)\n",
    "train_x01_col_names.append('intercept')\n",
    "\n",
    "train_x01_col_names_df01 = pd.DataFrame(train_x01_col_names)\n",
    "#display(train_x01_col_names_df01)\n",
    "\n",
    "model_params = pd.concat([train_x01_col_names_df01, coef_intercept_df01], axis=1)\n",
    "display(model_params)"
   ]
  },
  {
   "cell_type": "markdown",
   "id": "9ae9c65c-0f30-4747-9628-fa48e1b17e63",
   "metadata": {},
   "source": [
    "### Lasso - Using `BayesSearchCV`"
   ]
  },
  {
   "cell_type": "code",
   "execution_count": 14,
   "id": "77e2c244-ed94-487d-9ef1-c76a5447e30c",
   "metadata": {
    "tags": []
   },
   "outputs": [
    {
     "name": "stdout",
     "output_type": "stream",
     "text": [
      "Fitting 5 folds for each of 1 candidates, totalling 5 fits\n"
     ]
    },
    {
     "name": "stderr",
     "output_type": "stream",
     "text": [
      "[Parallel(n_jobs=2)]: Using backend LokyBackend with 2 concurrent workers.\n",
      "[Parallel(n_jobs=2)]: Done   5 out of   5 | elapsed:    1.6s remaining:    0.0s\n",
      "[Parallel(n_jobs=2)]: Done   5 out of   5 | elapsed:    1.6s finished\n",
      "[Parallel(n_jobs=2)]: Using backend LokyBackend with 2 concurrent workers.\n"
     ]
    },
    {
     "name": "stdout",
     "output_type": "stream",
     "text": [
      "Fitting 5 folds for each of 1 candidates, totalling 5 fits\n"
     ]
    },
    {
     "name": "stderr",
     "output_type": "stream",
     "text": [
      "[Parallel(n_jobs=2)]: Done   5 out of   5 | elapsed:    1.3s remaining:    0.0s\n",
      "[Parallel(n_jobs=2)]: Done   5 out of   5 | elapsed:    1.3s finished\n",
      "[Parallel(n_jobs=2)]: Using backend LokyBackend with 2 concurrent workers.\n"
     ]
    },
    {
     "name": "stdout",
     "output_type": "stream",
     "text": [
      "Fitting 5 folds for each of 1 candidates, totalling 5 fits\n"
     ]
    },
    {
     "name": "stderr",
     "output_type": "stream",
     "text": [
      "[Parallel(n_jobs=2)]: Done   5 out of   5 | elapsed:    5.5s remaining:    0.0s\n",
      "[Parallel(n_jobs=2)]: Done   5 out of   5 | elapsed:    5.5s finished\n",
      "[Parallel(n_jobs=2)]: Using backend LokyBackend with 2 concurrent workers.\n"
     ]
    },
    {
     "name": "stdout",
     "output_type": "stream",
     "text": [
      "Fitting 5 folds for each of 1 candidates, totalling 5 fits\n"
     ]
    },
    {
     "name": "stderr",
     "output_type": "stream",
     "text": [
      "[Parallel(n_jobs=2)]: Done   5 out of   5 | elapsed:    3.8s remaining:    0.0s\n",
      "[Parallel(n_jobs=2)]: Done   5 out of   5 | elapsed:    3.8s finished\n",
      "[Parallel(n_jobs=2)]: Using backend LokyBackend with 2 concurrent workers.\n"
     ]
    },
    {
     "name": "stdout",
     "output_type": "stream",
     "text": [
      "Fitting 5 folds for each of 1 candidates, totalling 5 fits\n"
     ]
    },
    {
     "name": "stderr",
     "output_type": "stream",
     "text": [
      "[Parallel(n_jobs=2)]: Done   5 out of   5 | elapsed:    0.7s remaining:    0.0s\n",
      "[Parallel(n_jobs=2)]: Done   5 out of   5 | elapsed:    0.7s finished\n",
      "[Parallel(n_jobs=2)]: Using backend LokyBackend with 2 concurrent workers.\n"
     ]
    },
    {
     "name": "stdout",
     "output_type": "stream",
     "text": [
      "Fitting 5 folds for each of 1 candidates, totalling 5 fits\n"
     ]
    },
    {
     "name": "stderr",
     "output_type": "stream",
     "text": [
      "[Parallel(n_jobs=2)]: Done   5 out of   5 | elapsed:    9.5s remaining:    0.0s\n",
      "[Parallel(n_jobs=2)]: Done   5 out of   5 | elapsed:    9.5s finished\n",
      "[Parallel(n_jobs=2)]: Using backend LokyBackend with 2 concurrent workers.\n"
     ]
    },
    {
     "name": "stdout",
     "output_type": "stream",
     "text": [
      "Fitting 5 folds for each of 1 candidates, totalling 5 fits\n"
     ]
    },
    {
     "name": "stderr",
     "output_type": "stream",
     "text": [
      "[Parallel(n_jobs=2)]: Done   5 out of   5 | elapsed:    5.2s remaining:    0.0s\n",
      "[Parallel(n_jobs=2)]: Done   5 out of   5 | elapsed:    5.2s finished\n",
      "[Parallel(n_jobs=2)]: Using backend LokyBackend with 2 concurrent workers.\n"
     ]
    },
    {
     "name": "stdout",
     "output_type": "stream",
     "text": [
      "Fitting 5 folds for each of 1 candidates, totalling 5 fits\n"
     ]
    },
    {
     "name": "stderr",
     "output_type": "stream",
     "text": [
      "[Parallel(n_jobs=2)]: Done   5 out of   5 | elapsed:    1.2s remaining:    0.0s\n",
      "[Parallel(n_jobs=2)]: Done   5 out of   5 | elapsed:    1.2s finished\n",
      "[Parallel(n_jobs=2)]: Using backend LokyBackend with 2 concurrent workers.\n"
     ]
    },
    {
     "name": "stdout",
     "output_type": "stream",
     "text": [
      "Fitting 5 folds for each of 1 candidates, totalling 5 fits\n"
     ]
    },
    {
     "name": "stderr",
     "output_type": "stream",
     "text": [
      "[Parallel(n_jobs=2)]: Done   5 out of   5 | elapsed:    0.7s remaining:    0.0s\n",
      "[Parallel(n_jobs=2)]: Done   5 out of   5 | elapsed:    0.7s finished\n"
     ]
    },
    {
     "name": "stdout",
     "output_type": "stream",
     "text": [
      "Fitting 5 folds for each of 1 candidates, totalling 5 fits\n"
     ]
    },
    {
     "name": "stderr",
     "output_type": "stream",
     "text": [
      "[Parallel(n_jobs=2)]: Using backend LokyBackend with 2 concurrent workers.\n",
      "[Parallel(n_jobs=2)]: Done   5 out of   5 | elapsed:    0.7s remaining:    0.0s\n",
      "[Parallel(n_jobs=2)]: Done   5 out of   5 | elapsed:    0.7s finished\n"
     ]
    },
    {
     "name": "stdout",
     "output_type": "stream",
     "text": [
      "Fitting 5 folds for each of 1 candidates, totalling 5 fits\n"
     ]
    },
    {
     "name": "stderr",
     "output_type": "stream",
     "text": [
      "[Parallel(n_jobs=2)]: Using backend LokyBackend with 2 concurrent workers.\n",
      "[Parallel(n_jobs=2)]: Done   5 out of   5 | elapsed:    0.7s remaining:    0.0s\n",
      "[Parallel(n_jobs=2)]: Done   5 out of   5 | elapsed:    0.7s finished\n"
     ]
    },
    {
     "name": "stdout",
     "output_type": "stream",
     "text": [
      "Fitting 5 folds for each of 1 candidates, totalling 5 fits\n"
     ]
    },
    {
     "name": "stderr",
     "output_type": "stream",
     "text": [
      "[Parallel(n_jobs=2)]: Using backend LokyBackend with 2 concurrent workers.\n",
      "[Parallel(n_jobs=2)]: Done   5 out of   5 | elapsed:    2.1s remaining:    0.0s\n",
      "[Parallel(n_jobs=2)]: Done   5 out of   5 | elapsed:    2.1s finished\n"
     ]
    },
    {
     "name": "stdout",
     "output_type": "stream",
     "text": [
      "Fitting 5 folds for each of 1 candidates, totalling 5 fits\n"
     ]
    },
    {
     "name": "stderr",
     "output_type": "stream",
     "text": [
      "[Parallel(n_jobs=2)]: Using backend LokyBackend with 2 concurrent workers.\n",
      "[Parallel(n_jobs=2)]: Done   5 out of   5 | elapsed:    2.1s remaining:    0.0s\n",
      "[Parallel(n_jobs=2)]: Done   5 out of   5 | elapsed:    2.1s finished\n"
     ]
    },
    {
     "name": "stdout",
     "output_type": "stream",
     "text": [
      "Fitting 5 folds for each of 1 candidates, totalling 5 fits\n"
     ]
    },
    {
     "name": "stderr",
     "output_type": "stream",
     "text": [
      "[Parallel(n_jobs=2)]: Using backend LokyBackend with 2 concurrent workers.\n",
      "[Parallel(n_jobs=2)]: Done   5 out of   5 | elapsed:    1.1s remaining:    0.0s\n",
      "[Parallel(n_jobs=2)]: Done   5 out of   5 | elapsed:    1.1s finished\n"
     ]
    },
    {
     "name": "stdout",
     "output_type": "stream",
     "text": [
      "Fitting 5 folds for each of 1 candidates, totalling 5 fits\n"
     ]
    },
    {
     "name": "stderr",
     "output_type": "stream",
     "text": [
      "[Parallel(n_jobs=2)]: Using backend LokyBackend with 2 concurrent workers.\n",
      "[Parallel(n_jobs=2)]: Done   5 out of   5 | elapsed:    3.8s remaining:    0.0s\n",
      "[Parallel(n_jobs=2)]: Done   5 out of   5 | elapsed:    3.8s finished\n"
     ]
    },
    {
     "name": "stdout",
     "output_type": "stream",
     "text": [
      "Fitting 5 folds for each of 1 candidates, totalling 5 fits\n"
     ]
    },
    {
     "name": "stderr",
     "output_type": "stream",
     "text": [
      "[Parallel(n_jobs=2)]: Using backend LokyBackend with 2 concurrent workers.\n",
      "[Parallel(n_jobs=2)]: Done   5 out of   5 | elapsed:    2.8s remaining:    0.0s\n",
      "[Parallel(n_jobs=2)]: Done   5 out of   5 | elapsed:    2.8s finished\n"
     ]
    },
    {
     "name": "stdout",
     "output_type": "stream",
     "text": [
      "Fitting 5 folds for each of 1 candidates, totalling 5 fits\n"
     ]
    },
    {
     "name": "stderr",
     "output_type": "stream",
     "text": [
      "[Parallel(n_jobs=2)]: Using backend LokyBackend with 2 concurrent workers.\n",
      "[Parallel(n_jobs=2)]: Done   5 out of   5 | elapsed:   18.2s remaining:    0.0s\n",
      "[Parallel(n_jobs=2)]: Done   5 out of   5 | elapsed:   18.2s finished\n"
     ]
    },
    {
     "name": "stdout",
     "output_type": "stream",
     "text": [
      "Fitting 5 folds for each of 1 candidates, totalling 5 fits\n"
     ]
    },
    {
     "name": "stderr",
     "output_type": "stream",
     "text": [
      "[Parallel(n_jobs=2)]: Using backend LokyBackend with 2 concurrent workers.\n",
      "[Parallel(n_jobs=2)]: Done   5 out of   5 | elapsed:    1.1s remaining:    0.0s\n",
      "[Parallel(n_jobs=2)]: Done   5 out of   5 | elapsed:    1.1s finished\n"
     ]
    },
    {
     "name": "stdout",
     "output_type": "stream",
     "text": [
      "Fitting 5 folds for each of 1 candidates, totalling 5 fits\n"
     ]
    },
    {
     "name": "stderr",
     "output_type": "stream",
     "text": [
      "[Parallel(n_jobs=2)]: Using backend LokyBackend with 2 concurrent workers.\n",
      "[Parallel(n_jobs=2)]: Done   5 out of   5 | elapsed:    1.1s remaining:    0.0s\n",
      "[Parallel(n_jobs=2)]: Done   5 out of   5 | elapsed:    1.1s finished\n"
     ]
    },
    {
     "name": "stdout",
     "output_type": "stream",
     "text": [
      "Fitting 5 folds for each of 1 candidates, totalling 5 fits\n"
     ]
    },
    {
     "name": "stderr",
     "output_type": "stream",
     "text": [
      "[Parallel(n_jobs=2)]: Using backend LokyBackend with 2 concurrent workers.\n",
      "[Parallel(n_jobs=2)]: Done   5 out of   5 | elapsed:   16.4s remaining:    0.0s\n",
      "[Parallel(n_jobs=2)]: Done   5 out of   5 | elapsed:   16.4s finished\n"
     ]
    },
    {
     "name": "stdout",
     "output_type": "stream",
     "text": [
      "Fitting 5 folds for each of 1 candidates, totalling 5 fits\n"
     ]
    },
    {
     "name": "stderr",
     "output_type": "stream",
     "text": [
      "[Parallel(n_jobs=2)]: Using backend LokyBackend with 2 concurrent workers.\n",
      "[Parallel(n_jobs=2)]: Done   5 out of   5 | elapsed:    1.1s remaining:    0.0s\n",
      "[Parallel(n_jobs=2)]: Done   5 out of   5 | elapsed:    1.1s finished\n"
     ]
    },
    {
     "name": "stdout",
     "output_type": "stream",
     "text": [
      "Fitting 5 folds for each of 1 candidates, totalling 5 fits\n"
     ]
    },
    {
     "name": "stderr",
     "output_type": "stream",
     "text": [
      "[Parallel(n_jobs=2)]: Using backend LokyBackend with 2 concurrent workers.\n",
      "[Parallel(n_jobs=2)]: Done   5 out of   5 | elapsed:    7.4s remaining:    0.0s\n",
      "[Parallel(n_jobs=2)]: Done   5 out of   5 | elapsed:    7.4s finished\n"
     ]
    },
    {
     "name": "stdout",
     "output_type": "stream",
     "text": [
      "Fitting 5 folds for each of 1 candidates, totalling 5 fits\n"
     ]
    },
    {
     "name": "stderr",
     "output_type": "stream",
     "text": [
      "[Parallel(n_jobs=2)]: Using backend LokyBackend with 2 concurrent workers.\n",
      "[Parallel(n_jobs=2)]: Done   5 out of   5 | elapsed:    1.0s remaining:    0.0s\n",
      "[Parallel(n_jobs=2)]: Done   5 out of   5 | elapsed:    1.0s finished\n"
     ]
    },
    {
     "name": "stdout",
     "output_type": "stream",
     "text": [
      "Fitting 5 folds for each of 1 candidates, totalling 5 fits\n"
     ]
    },
    {
     "name": "stderr",
     "output_type": "stream",
     "text": [
      "[Parallel(n_jobs=2)]: Using backend LokyBackend with 2 concurrent workers.\n",
      "[Parallel(n_jobs=2)]: Done   5 out of   5 | elapsed:    1.0s remaining:    0.0s\n",
      "[Parallel(n_jobs=2)]: Done   5 out of   5 | elapsed:    1.0s finished\n"
     ]
    },
    {
     "name": "stdout",
     "output_type": "stream",
     "text": [
      "Fitting 5 folds for each of 1 candidates, totalling 5 fits\n"
     ]
    },
    {
     "name": "stderr",
     "output_type": "stream",
     "text": [
      "[Parallel(n_jobs=2)]: Using backend LokyBackend with 2 concurrent workers.\n",
      "[Parallel(n_jobs=2)]: Done   5 out of   5 | elapsed:    1.4s remaining:    0.0s\n",
      "[Parallel(n_jobs=2)]: Done   5 out of   5 | elapsed:    1.4s finished\n"
     ]
    },
    {
     "name": "stdout",
     "output_type": "stream",
     "text": [
      "Fitting 5 folds for each of 1 candidates, totalling 5 fits\n"
     ]
    },
    {
     "name": "stderr",
     "output_type": "stream",
     "text": [
      "[Parallel(n_jobs=2)]: Using backend LokyBackend with 2 concurrent workers.\n",
      "[Parallel(n_jobs=2)]: Done   5 out of   5 | elapsed:    9.2s remaining:    0.0s\n",
      "[Parallel(n_jobs=2)]: Done   5 out of   5 | elapsed:    9.2s finished\n"
     ]
    },
    {
     "name": "stdout",
     "output_type": "stream",
     "text": [
      "Fitting 5 folds for each of 1 candidates, totalling 5 fits\n"
     ]
    },
    {
     "name": "stderr",
     "output_type": "stream",
     "text": [
      "[Parallel(n_jobs=2)]: Using backend LokyBackend with 2 concurrent workers.\n",
      "[Parallel(n_jobs=2)]: Done   5 out of   5 | elapsed:    1.3s remaining:    0.0s\n",
      "[Parallel(n_jobs=2)]: Done   5 out of   5 | elapsed:    1.3s finished\n"
     ]
    },
    {
     "name": "stdout",
     "output_type": "stream",
     "text": [
      "Fitting 5 folds for each of 1 candidates, totalling 5 fits\n"
     ]
    },
    {
     "name": "stderr",
     "output_type": "stream",
     "text": [
      "[Parallel(n_jobs=2)]: Using backend LokyBackend with 2 concurrent workers.\n",
      "[Parallel(n_jobs=2)]: Done   5 out of   5 | elapsed:    1.1s remaining:    0.0s\n",
      "[Parallel(n_jobs=2)]: Done   5 out of   5 | elapsed:    1.1s finished\n"
     ]
    },
    {
     "name": "stdout",
     "output_type": "stream",
     "text": [
      "Fitting 5 folds for each of 1 candidates, totalling 5 fits\n"
     ]
    },
    {
     "name": "stderr",
     "output_type": "stream",
     "text": [
      "[Parallel(n_jobs=2)]: Using backend LokyBackend with 2 concurrent workers.\n",
      "[Parallel(n_jobs=2)]: Done   5 out of   5 | elapsed:    1.0s remaining:    0.0s\n",
      "[Parallel(n_jobs=2)]: Done   5 out of   5 | elapsed:    1.0s finished\n"
     ]
    },
    {
     "name": "stdout",
     "output_type": "stream",
     "text": [
      "Fitting 5 folds for each of 1 candidates, totalling 5 fits\n"
     ]
    },
    {
     "name": "stderr",
     "output_type": "stream",
     "text": [
      "[Parallel(n_jobs=2)]: Using backend LokyBackend with 2 concurrent workers.\n",
      "[Parallel(n_jobs=2)]: Done   5 out of   5 | elapsed:    7.1s remaining:    0.0s\n",
      "[Parallel(n_jobs=2)]: Done   5 out of   5 | elapsed:    7.1s finished\n"
     ]
    },
    {
     "name": "stdout",
     "output_type": "stream",
     "text": [
      "Fitting 5 folds for each of 1 candidates, totalling 5 fits\n"
     ]
    },
    {
     "name": "stderr",
     "output_type": "stream",
     "text": [
      "[Parallel(n_jobs=2)]: Using backend LokyBackend with 2 concurrent workers.\n",
      "[Parallel(n_jobs=2)]: Done   5 out of   5 | elapsed:    1.1s remaining:    0.0s\n",
      "[Parallel(n_jobs=2)]: Done   5 out of   5 | elapsed:    1.1s finished\n"
     ]
    },
    {
     "name": "stdout",
     "output_type": "stream",
     "text": [
      "Fitting 5 folds for each of 1 candidates, totalling 5 fits\n"
     ]
    },
    {
     "name": "stderr",
     "output_type": "stream",
     "text": [
      "[Parallel(n_jobs=2)]: Using backend LokyBackend with 2 concurrent workers.\n",
      "[Parallel(n_jobs=2)]: Done   5 out of   5 | elapsed:    3.7s remaining:    0.0s\n",
      "[Parallel(n_jobs=2)]: Done   5 out of   5 | elapsed:    3.7s finished\n"
     ]
    },
    {
     "name": "stdout",
     "output_type": "stream",
     "text": [
      "Fitting 5 folds for each of 1 candidates, totalling 5 fits\n"
     ]
    },
    {
     "name": "stderr",
     "output_type": "stream",
     "text": [
      "[Parallel(n_jobs=2)]: Using backend LokyBackend with 2 concurrent workers.\n",
      "[Parallel(n_jobs=2)]: Done   5 out of   5 | elapsed:    1.1s remaining:    0.0s\n",
      "[Parallel(n_jobs=2)]: Done   5 out of   5 | elapsed:    1.1s finished\n"
     ]
    },
    {
     "name": "stdout",
     "output_type": "stream",
     "text": [
      "Fitting 5 folds for each of 1 candidates, totalling 5 fits\n"
     ]
    },
    {
     "name": "stderr",
     "output_type": "stream",
     "text": [
      "[Parallel(n_jobs=2)]: Using backend LokyBackend with 2 concurrent workers.\n",
      "[Parallel(n_jobs=2)]: Done   5 out of   5 | elapsed:    1.1s remaining:    0.0s\n",
      "[Parallel(n_jobs=2)]: Done   5 out of   5 | elapsed:    1.1s finished\n"
     ]
    },
    {
     "name": "stdout",
     "output_type": "stream",
     "text": [
      "Fitting 5 folds for each of 1 candidates, totalling 5 fits\n"
     ]
    },
    {
     "name": "stderr",
     "output_type": "stream",
     "text": [
      "[Parallel(n_jobs=2)]: Using backend LokyBackend with 2 concurrent workers.\n",
      "[Parallel(n_jobs=2)]: Done   5 out of   5 | elapsed:    1.1s remaining:    0.0s\n",
      "[Parallel(n_jobs=2)]: Done   5 out of   5 | elapsed:    1.1s finished\n"
     ]
    },
    {
     "name": "stdout",
     "output_type": "stream",
     "text": [
      "Fitting 5 folds for each of 1 candidates, totalling 5 fits\n"
     ]
    },
    {
     "name": "stderr",
     "output_type": "stream",
     "text": [
      "[Parallel(n_jobs=2)]: Using backend LokyBackend with 2 concurrent workers.\n",
      "[Parallel(n_jobs=2)]: Done   5 out of   5 | elapsed:    4.9s remaining:    0.0s\n",
      "[Parallel(n_jobs=2)]: Done   5 out of   5 | elapsed:    4.9s finished\n"
     ]
    },
    {
     "name": "stdout",
     "output_type": "stream",
     "text": [
      "Fitting 5 folds for each of 1 candidates, totalling 5 fits\n"
     ]
    },
    {
     "name": "stderr",
     "output_type": "stream",
     "text": [
      "[Parallel(n_jobs=2)]: Using backend LokyBackend with 2 concurrent workers.\n",
      "[Parallel(n_jobs=2)]: Done   5 out of   5 | elapsed:   11.0s remaining:    0.0s\n",
      "[Parallel(n_jobs=2)]: Done   5 out of   5 | elapsed:   11.0s finished\n"
     ]
    },
    {
     "name": "stdout",
     "output_type": "stream",
     "text": [
      "Fitting 5 folds for each of 1 candidates, totalling 5 fits\n"
     ]
    },
    {
     "name": "stderr",
     "output_type": "stream",
     "text": [
      "[Parallel(n_jobs=2)]: Using backend LokyBackend with 2 concurrent workers.\n",
      "[Parallel(n_jobs=2)]: Done   5 out of   5 | elapsed:    1.1s remaining:    0.0s\n",
      "[Parallel(n_jobs=2)]: Done   5 out of   5 | elapsed:    1.1s finished\n"
     ]
    },
    {
     "name": "stdout",
     "output_type": "stream",
     "text": [
      "Fitting 5 folds for each of 1 candidates, totalling 5 fits\n"
     ]
    },
    {
     "name": "stderr",
     "output_type": "stream",
     "text": [
      "[Parallel(n_jobs=2)]: Using backend LokyBackend with 2 concurrent workers.\n",
      "[Parallel(n_jobs=2)]: Done   5 out of   5 | elapsed:    1.1s remaining:    0.0s\n",
      "[Parallel(n_jobs=2)]: Done   5 out of   5 | elapsed:    1.1s finished\n"
     ]
    },
    {
     "name": "stdout",
     "output_type": "stream",
     "text": [
      "Fitting 5 folds for each of 1 candidates, totalling 5 fits\n"
     ]
    },
    {
     "name": "stderr",
     "output_type": "stream",
     "text": [
      "[Parallel(n_jobs=2)]: Using backend LokyBackend with 2 concurrent workers.\n",
      "[Parallel(n_jobs=2)]: Done   5 out of   5 | elapsed:    1.1s remaining:    0.0s\n",
      "[Parallel(n_jobs=2)]: Done   5 out of   5 | elapsed:    1.1s finished\n"
     ]
    },
    {
     "name": "stdout",
     "output_type": "stream",
     "text": [
      "Fitting 5 folds for each of 1 candidates, totalling 5 fits\n"
     ]
    },
    {
     "name": "stderr",
     "output_type": "stream",
     "text": [
      "[Parallel(n_jobs=2)]: Using backend LokyBackend with 2 concurrent workers.\n",
      "[Parallel(n_jobs=2)]: Done   5 out of   5 | elapsed:    4.4s remaining:    0.0s\n",
      "[Parallel(n_jobs=2)]: Done   5 out of   5 | elapsed:    4.4s finished\n"
     ]
    },
    {
     "name": "stdout",
     "output_type": "stream",
     "text": [
      "Fitting 5 folds for each of 1 candidates, totalling 5 fits\n"
     ]
    },
    {
     "name": "stderr",
     "output_type": "stream",
     "text": [
      "[Parallel(n_jobs=2)]: Using backend LokyBackend with 2 concurrent workers.\n",
      "[Parallel(n_jobs=2)]: Done   5 out of   5 | elapsed:    1.0s remaining:    0.0s\n",
      "[Parallel(n_jobs=2)]: Done   5 out of   5 | elapsed:    1.0s finished\n"
     ]
    },
    {
     "name": "stdout",
     "output_type": "stream",
     "text": [
      "Fitting 5 folds for each of 1 candidates, totalling 5 fits\n"
     ]
    },
    {
     "name": "stderr",
     "output_type": "stream",
     "text": [
      "[Parallel(n_jobs=2)]: Using backend LokyBackend with 2 concurrent workers.\n",
      "[Parallel(n_jobs=2)]: Done   5 out of   5 | elapsed:    2.5s remaining:    0.0s\n",
      "[Parallel(n_jobs=2)]: Done   5 out of   5 | elapsed:    2.5s finished\n"
     ]
    },
    {
     "name": "stdout",
     "output_type": "stream",
     "text": [
      "Fitting 5 folds for each of 1 candidates, totalling 5 fits\n"
     ]
    },
    {
     "name": "stderr",
     "output_type": "stream",
     "text": [
      "[Parallel(n_jobs=2)]: Using backend LokyBackend with 2 concurrent workers.\n",
      "[Parallel(n_jobs=2)]: Done   5 out of   5 | elapsed:   17.4s remaining:    0.0s\n",
      "[Parallel(n_jobs=2)]: Done   5 out of   5 | elapsed:   17.4s finished\n"
     ]
    },
    {
     "name": "stdout",
     "output_type": "stream",
     "text": [
      "Fitting 5 folds for each of 1 candidates, totalling 5 fits\n"
     ]
    },
    {
     "name": "stderr",
     "output_type": "stream",
     "text": [
      "[Parallel(n_jobs=2)]: Using backend LokyBackend with 2 concurrent workers.\n",
      "[Parallel(n_jobs=2)]: Done   5 out of   5 | elapsed:    6.6s remaining:    0.0s\n",
      "[Parallel(n_jobs=2)]: Done   5 out of   5 | elapsed:    6.6s finished\n"
     ]
    },
    {
     "name": "stdout",
     "output_type": "stream",
     "text": [
      "Fitting 5 folds for each of 1 candidates, totalling 5 fits\n"
     ]
    },
    {
     "name": "stderr",
     "output_type": "stream",
     "text": [
      "[Parallel(n_jobs=2)]: Using backend LokyBackend with 2 concurrent workers.\n",
      "[Parallel(n_jobs=2)]: Done   5 out of   5 | elapsed:   15.6s remaining:    0.0s\n",
      "[Parallel(n_jobs=2)]: Done   5 out of   5 | elapsed:   15.6s finished\n"
     ]
    },
    {
     "name": "stdout",
     "output_type": "stream",
     "text": [
      "Fitting 5 folds for each of 1 candidates, totalling 5 fits\n"
     ]
    },
    {
     "name": "stderr",
     "output_type": "stream",
     "text": [
      "[Parallel(n_jobs=2)]: Using backend LokyBackend with 2 concurrent workers.\n",
      "[Parallel(n_jobs=2)]: Done   5 out of   5 | elapsed:    1.7s remaining:    0.0s\n",
      "[Parallel(n_jobs=2)]: Done   5 out of   5 | elapsed:    1.7s finished\n"
     ]
    },
    {
     "name": "stdout",
     "output_type": "stream",
     "text": [
      "Fitting 5 folds for each of 1 candidates, totalling 5 fits\n"
     ]
    },
    {
     "name": "stderr",
     "output_type": "stream",
     "text": [
      "[Parallel(n_jobs=2)]: Using backend LokyBackend with 2 concurrent workers.\n",
      "[Parallel(n_jobs=2)]: Done   5 out of   5 | elapsed:   27.8s remaining:    0.0s\n",
      "[Parallel(n_jobs=2)]: Done   5 out of   5 | elapsed:   27.8s finished\n"
     ]
    },
    {
     "name": "stdout",
     "output_type": "stream",
     "text": [
      "Fitting 5 folds for each of 1 candidates, totalling 5 fits\n"
     ]
    },
    {
     "name": "stderr",
     "output_type": "stream",
     "text": [
      "[Parallel(n_jobs=2)]: Using backend LokyBackend with 2 concurrent workers.\n",
      "[Parallel(n_jobs=2)]: Done   5 out of   5 | elapsed:    5.1s remaining:    0.0s\n",
      "[Parallel(n_jobs=2)]: Done   5 out of   5 | elapsed:    5.1s finished\n"
     ]
    },
    {
     "name": "stdout",
     "output_type": "stream",
     "text": [
      "Fitting 5 folds for each of 1 candidates, totalling 5 fits\n"
     ]
    },
    {
     "name": "stderr",
     "output_type": "stream",
     "text": [
      "[Parallel(n_jobs=2)]: Using backend LokyBackend with 2 concurrent workers.\n",
      "[Parallel(n_jobs=2)]: Done   5 out of   5 | elapsed:    1.1s remaining:    0.0s\n",
      "[Parallel(n_jobs=2)]: Done   5 out of   5 | elapsed:    1.1s finished\n"
     ]
    },
    {
     "name": "stdout",
     "output_type": "stream",
     "text": [
      "Best Estimator:\n",
      "Pipeline(memory=None,\n",
      "         steps=[('si',\n",
      "                 SimpleImputer(add_indicator=False, copy=True, fill_value=None,\n",
      "                               missing_values=nan, strategy='median',\n",
      "                               verbose=0)),\n",
      "                ('ss',\n",
      "                 StandardScaler(copy=True, with_mean=True, with_std=True)),\n",
      "                ('ls',\n",
      "                 Lasso(alpha=0.002188020033288823, copy_X=True,\n",
      "                       fit_intercept=True, max_iter=1006, normalize=False,\n",
      "                       positive=False, precompute=False, random_state=1699,\n",
      "                       selection='cyclic', tol=0.0001, warm_start=True))],\n",
      "         verbose=False)\n",
      "Coefficients:\n",
      "[-5.82922236e-02  1.20418285e+00  0.00000000e+00 -1.03494899e+00\n",
      "  1.14199963e+00 -0.00000000e+00 -0.00000000e+00  4.60525109e-03\n",
      "  3.73130083e-02 -0.00000000e+00 -3.80975614e-02  1.70700666e-03\n",
      "  0.00000000e+00 -0.00000000e+00 -2.26438004e-02  0.00000000e+00\n",
      " -0.00000000e+00  8.51853402e+00  0.00000000e+00  2.77230201e+00\n",
      "  6.05114765e-01 -3.43247806e+00 -2.27592024e+00 -3.75482940e-01\n",
      " -1.97984008e+00 -3.68190864e+00 -6.89300912e+00  1.58064276e-01\n",
      "  4.75790172e-01 -1.93796974e-01 -2.65053063e+00  7.96396078e-01\n",
      "  1.61240591e-04 -1.01131382e+00 -6.35163136e-01 -1.45141664e+00\n",
      " -4.87138395e-01 -0.00000000e+00  1.52591916e+00  4.84826663e-01\n",
      "  5.69091116e-01 -7.51932452e-01 -8.31677165e+00  7.42523150e-01\n",
      " -9.03732333e-01  6.34983332e-01  7.60988808e-01  1.60728063e+00]\n",
      "    mean_fit_time  std_fit_time  mean_score_time  std_score_time  \\\n",
      "0        0.538061      0.046933         0.013311        0.003764   \n",
      "1        0.446034      0.230365         0.016565        0.009478   \n",
      "2        1.950980      0.427388         0.009521        0.001928   \n",
      "3        1.353979      0.353920         0.009435        0.001848   \n",
      "4        0.223155      0.036972         0.008996        0.001455   \n",
      "5        3.421016      0.682886         0.008934        0.001815   \n",
      "6        1.840373      0.345139         0.009046        0.001987   \n",
      "7        0.429495      0.060799         0.008937        0.001963   \n",
      "8        0.227137      0.030132         0.009401        0.001775   \n",
      "9        0.219597      0.031590         0.011229        0.003740   \n",
      "10       0.247517      0.043186         0.008592        0.001352   \n",
      "11       0.720053      0.124198         0.009529        0.001781   \n",
      "12       0.814025      0.173488         0.009883        0.002273   \n",
      "13       0.379331      0.057587         0.009154        0.001678   \n",
      "14       1.314937      0.223984         0.008852        0.001537   \n",
      "15       1.111240      0.268814         0.009233        0.001769   \n",
      "16       6.686179      3.430019         0.012427        0.006102   \n",
      "17       0.384633      0.068454         0.008986        0.001732   \n",
      "18       0.383544      0.068971         0.009330        0.001861   \n",
      "19       5.396097      2.838029         0.009417        0.002023   \n",
      "20       0.371513      0.069852         0.009082        0.001687   \n",
      "21       2.646112      0.468089         0.012626        0.005135   \n",
      "22       0.354999      0.064032         0.008998        0.001712   \n",
      "23       0.349901      0.059532         0.009621        0.002605   \n",
      "24       0.490782      0.082109         0.010200        0.002311   \n",
      "25       3.606975      0.984306         0.010358        0.002166   \n",
      "26       0.457727      0.075956         0.009143        0.001822   \n",
      "27       0.390176      0.066834         0.008949        0.001726   \n",
      "28       0.347825      0.065351         0.009972        0.002594   \n",
      "29       2.478071      0.415826         0.009157        0.001662   \n",
      "30       0.378681      0.065839         0.009901        0.001434   \n",
      "31       1.420285      0.283703         0.010103        0.001984   \n",
      "32       0.379366      0.069673         0.009877        0.001979   \n",
      "33       0.389545      0.065041         0.009454        0.001786   \n",
      "34       0.388535      0.065720         0.009806        0.001794   \n",
      "35       1.814930      0.313412         0.010364        0.001391   \n",
      "36       4.301079      2.722008         0.010170        0.002119   \n",
      "37       0.388485      0.087547         0.008527        0.001330   \n",
      "38       0.363527      0.063065         0.009497        0.001687   \n",
      "39       0.372613      0.063844         0.009597        0.001743   \n",
      "40       1.613904      0.313437         0.009306        0.001816   \n",
      "41       0.365149      0.059660         0.009003        0.001648   \n",
      "42       0.878953      0.167232         0.009452        0.001607   \n",
      "43       6.800896      1.876058         0.009899        0.002205   \n",
      "44       2.415765      0.442106         0.010109        0.001951   \n",
      "45       5.735507      2.579490         0.010436        0.002077   \n",
      "46       0.579031      0.096772         0.009874        0.001220   \n",
      "47      10.029873      2.085729         0.011808        0.003672   \n",
      "48       1.816322      0.291700         0.008773        0.001862   \n",
      "49       0.381623      0.062355         0.009162        0.001860   \n",
      "\n",
      "   param_ls__alpha param_ls__max_iter param_ls__selection  \\\n",
      "0         0.038367                186              random   \n",
      "1        23.162192               1679              random   \n",
      "2         0.004613               1081              random   \n",
      "3         0.195583               3277              random   \n",
      "4         4.452799               4714              cyclic   \n",
      "5         0.001156               1965              random   \n",
      "6         0.002188               1006              cyclic   \n",
      "7         0.120439               1216              cyclic   \n",
      "8        87.205229                370              cyclic   \n",
      "9       335.551012               4989              random   \n",
      "10        0.826399                100              cyclic   \n",
      "11        0.013626               5000              cyclic   \n",
      "12        0.066073               5000              random   \n",
      "13        0.001611                100              random   \n",
      "14        0.006969               5000              cyclic   \n",
      "15        0.024537               5000              random   \n",
      "16        0.001027               5000              cyclic   \n",
      "17           0.001                100              random   \n",
      "18        0.009846                100              random   \n",
      "19        0.001314               5000              cyclic   \n",
      "20         0.00354                100              cyclic   \n",
      "21        0.003069               5000              random   \n",
      "22        0.019591                100              cyclic   \n",
      "23        0.036893                100              cyclic   \n",
      "24        0.031868               5000              cyclic   \n",
      "25        0.003071               5000              cyclic   \n",
      "26        0.048521               5000              cyclic   \n",
      "27        0.001167                100              cyclic   \n",
      "28        0.069429                100              cyclic   \n",
      "29        0.004449               5000              cyclic   \n",
      "30        0.005881                100              random   \n",
      "31         0.01593               5000              random   \n",
      "32        0.005997                100              cyclic   \n",
      "33        0.015578                100              random   \n",
      "34        0.002526                100              random   \n",
      "35        0.007391               5000              random   \n",
      "36        0.001884               5000              cyclic   \n",
      "37        0.027016                100              random   \n",
      "38        0.052021                100              random   \n",
      "39        0.008404                100              cyclic   \n",
      "40        0.010265               5000              random   \n",
      "41        0.092592                100              random   \n",
      "42        0.010886               5000              cyclic   \n",
      "43         0.00193               5000              random   \n",
      "44         0.00376               5000              random   \n",
      "45           0.001               5000              cyclic   \n",
      "46        0.018501               5000              cyclic   \n",
      "47           0.001               5000              random   \n",
      "48        0.005373               5000              cyclic   \n",
      "49        0.001743                100              cyclic   \n",
      "\n",
      "   param_ls__warm_start                                             params  \\\n",
      "0                 False  {'ls__alpha': 0.03836735932371188, 'ls__max_it...   \n",
      "1                  True  {'ls__alpha': 23.16219151287845, 'ls__max_iter...   \n",
      "2                 False  {'ls__alpha': 0.004613074249883895, 'ls__max_i...   \n",
      "3                  True  {'ls__alpha': 0.19558334332215102, 'ls__max_it...   \n",
      "4                  True  {'ls__alpha': 4.452799268834197, 'ls__max_iter...   \n",
      "5                 False  {'ls__alpha': 0.0011556412567062118, 'ls__max_...   \n",
      "6                  True  {'ls__alpha': 0.002188020033288823, 'ls__max_i...   \n",
      "7                 False  {'ls__alpha': 0.12043922786985647, 'ls__max_it...   \n",
      "8                 False  {'ls__alpha': 87.20522927550651, 'ls__max_iter...   \n",
      "9                  True  {'ls__alpha': 335.551011947253, 'ls__max_iter'...   \n",
      "10                False  {'ls__alpha': 0.8263992699604701, 'ls__max_ite...   \n",
      "11                 True  {'ls__alpha': 0.013626494061735824, 'ls__max_i...   \n",
      "12                 True  {'ls__alpha': 0.06607267948488063, 'ls__max_it...   \n",
      "13                False  {'ls__alpha': 0.0016111625293803306, 'ls__max_...   \n",
      "14                 True  {'ls__alpha': 0.006969468848301479, 'ls__max_i...   \n",
      "15                 True  {'ls__alpha': 0.024536894116938185, 'ls__max_i...   \n",
      "16                False  {'ls__alpha': 0.0010270441679343981, 'ls__max_...   \n",
      "17                 True  {'ls__alpha': 0.001, 'ls__max_iter': 100, 'ls_...   \n",
      "18                False  {'ls__alpha': 0.009845532657434708, 'ls__max_i...   \n",
      "19                 True  {'ls__alpha': 0.001314395749700894, 'ls__max_i...   \n",
      "20                 True  {'ls__alpha': 0.0035399662215375867, 'ls__max_...   \n",
      "21                 True  {'ls__alpha': 0.003069403200919244, 'ls__max_i...   \n",
      "22                False  {'ls__alpha': 0.019591442516869263, 'ls__max_i...   \n",
      "23                 True  {'ls__alpha': 0.03689309847982738, 'ls__max_it...   \n",
      "24                False  {'ls__alpha': 0.03186770933528117, 'ls__max_it...   \n",
      "25                False  {'ls__alpha': 0.0030710069653958868, 'ls__max_...   \n",
      "26                False  {'ls__alpha': 0.048520600700976954, 'ls__max_i...   \n",
      "27                False  {'ls__alpha': 0.0011672602209505901, 'ls__max_...   \n",
      "28                False  {'ls__alpha': 0.06942908953647893, 'ls__max_it...   \n",
      "29                 True  {'ls__alpha': 0.004448706646897533, 'ls__max_i...   \n",
      "30                 True  {'ls__alpha': 0.005881325216336004, 'ls__max_i...   \n",
      "31                False  {'ls__alpha': 0.015930399423035483, 'ls__max_i...   \n",
      "32                False  {'ls__alpha': 0.005996856095703831, 'ls__max_i...   \n",
      "33                 True  {'ls__alpha': 0.015577693601389638, 'ls__max_i...   \n",
      "34                False  {'ls__alpha': 0.002525559110050761, 'ls__max_i...   \n",
      "35                False  {'ls__alpha': 0.007390865146931399, 'ls__max_i...   \n",
      "36                False  {'ls__alpha': 0.0018839300318294918, 'ls__max_...   \n",
      "37                False  {'ls__alpha': 0.02701648432108567, 'ls__max_it...   \n",
      "38                 True  {'ls__alpha': 0.05202145181120178, 'ls__max_it...   \n",
      "39                 True  {'ls__alpha': 0.008403616783224719, 'ls__max_i...   \n",
      "40                 True  {'ls__alpha': 0.0102648812547744, 'ls__max_ite...   \n",
      "41                 True  {'ls__alpha': 0.09259156346452782, 'ls__max_it...   \n",
      "42                False  {'ls__alpha': 0.01088626912393381, 'ls__max_it...   \n",
      "43                 True  {'ls__alpha': 0.0019295142522134552, 'ls__max_...   \n",
      "44                False  {'ls__alpha': 0.003759861042171885, 'ls__max_i...   \n",
      "45                 True  {'ls__alpha': 0.001, 'ls__max_iter': 5000, 'ls...   \n",
      "46                 True  {'ls__alpha': 0.01850050728091878, 'ls__max_it...   \n",
      "47                False  {'ls__alpha': 0.001, 'ls__max_iter': 5000, 'ls...   \n",
      "48                False  {'ls__alpha': 0.005373358582430891, 'ls__max_i...   \n",
      "49                 True  {'ls__alpha': 0.0017429397686957, 'ls__max_ite...   \n",
      "\n",
      "    split0_test_score  split1_test_score  split2_test_score  \\\n",
      "0          -11.380254         -11.383127         -11.419801   \n",
      "1          -18.828273         -18.816528         -18.873667   \n",
      "2          -11.378941         -11.395545         -11.407737   \n",
      "3          -11.462820         -11.499222         -11.544455   \n",
      "4          -13.899454         -13.972656         -14.009556   \n",
      "5          -11.379810         -11.399013         -11.406305   \n",
      "6          -11.379245         -11.397737         -11.406421   \n",
      "7          -11.407914         -11.423132         -11.466394   \n",
      "8          -18.828273         -18.816528         -18.873667   \n",
      "9          -18.828273         -18.816528         -18.873667   \n",
      "10         -11.944357         -12.046055         -12.123456   \n",
      "11         -11.378982         -11.389232         -11.413019   \n",
      "12         -11.383889         -11.390512         -11.430169   \n",
      "13         -11.382287         -11.395575         -11.412491   \n",
      "14         -11.378705         -11.393623         -11.409038   \n",
      "15         -11.380043         -11.384885         -11.416287   \n",
      "16         -11.379583         -11.398863         -11.405890   \n",
      "17         -11.382423         -11.395983         -11.412374   \n",
      "18         -11.381096         -11.390824         -11.413519   \n",
      "19         -11.379508         -11.398615         -11.406010   \n",
      "20         -11.379718         -11.395847         -11.409407   \n",
      "21         -11.379212         -11.396937         -11.406987   \n",
      "22         -11.381456         -11.388593         -11.414107   \n",
      "23         -11.381266         -11.383242         -11.416780   \n",
      "24         -11.380143         -11.382466         -11.417629   \n",
      "25         -11.379193         -11.396938         -11.406888   \n",
      "26         -11.380868         -11.384563         -11.422507   \n",
      "27         -11.379626         -11.396932         -11.408869   \n",
      "28         -11.384926         -11.391862         -11.431006   \n",
      "29         -11.379045         -11.395774         -11.407712   \n",
      "30         -11.381476         -11.392709         -11.412947   \n",
      "31         -11.379278         -11.388119         -11.414476   \n",
      "32         -11.380057         -11.394921         -11.410025   \n",
      "33         -11.380933         -11.388917         -11.415282   \n",
      "34         -11.382116         -11.394970         -11.412698   \n",
      "35         -11.378603         -11.393266         -11.409267   \n",
      "36         -11.379342         -11.398116         -11.406380   \n",
      "37         -11.380746         -11.383698         -11.417468   \n",
      "38         -11.382418         -11.385922         -11.425366   \n",
      "39         -11.380502         -11.394369         -11.410853   \n",
      "40         -11.378499         -11.391208         -11.411145   \n",
      "41         -11.394028         -11.404293         -11.446776   \n",
      "42         -11.378669         -11.390798         -11.411493   \n",
      "43         -11.379542         -11.398094         -11.406501   \n",
      "44         -11.379102         -11.396288         -11.407314   \n",
      "45         -11.379576         -11.398869         -11.405871   \n",
      "46         -11.380140         -11.387224         -11.415258   \n",
      "47         -11.379678         -11.398950         -11.406031   \n",
      "48         -11.378901         -11.394956         -11.408162   \n",
      "49         -11.379596         -11.396611         -11.408913   \n",
      "\n",
      "    split3_test_score  split4_test_score  mean_test_score  std_test_score  \\\n",
      "0          -11.515400         -11.392545       -11.418225        0.050554   \n",
      "1          -18.934900         -19.055553       -18.901784        0.087412   \n",
      "2          -11.502600         -11.385610       -11.414087        0.045310   \n",
      "3          -11.643922         -11.501285       -11.530341        0.062404   \n",
      "4          -14.075040         -14.060710       -14.003483        0.063568   \n",
      "5          -11.501061         -11.385960       -11.414430        0.044312   \n",
      "6          -11.501259         -11.385366       -11.414005        0.044641   \n",
      "7          -11.565851         -11.432072       -11.459073        0.056733   \n",
      "8          -18.934900         -19.055553       -18.901784        0.087412   \n",
      "9          -18.934900         -19.055553       -18.901784        0.087412   \n",
      "10         -12.167761         -12.017104       -12.059747        0.078799   \n",
      "11         -11.507967         -11.387394       -11.415319        0.047686   \n",
      "12         -11.528146         -11.400953       -11.426734        0.053120   \n",
      "13         -11.506535         -11.388798       -11.417137        0.045817   \n",
      "14         -11.504127         -11.386185       -11.414336        0.046003   \n",
      "15         -11.511833         -11.390435       -11.416697        0.049186   \n",
      "16         -11.500853         -11.385601       -11.414158        0.044338   \n",
      "17         -11.506239         -11.388726       -11.417149        0.045654   \n",
      "18         -11.509083         -11.388749       -11.416654        0.047462   \n",
      "19         -11.501038         -11.385534       -11.414141        0.044443   \n",
      "20         -11.503346         -11.385841       -11.414832        0.045383   \n",
      "21         -11.501984         -11.385555       -11.414135        0.044946   \n",
      "22         -11.508251         -11.388455       -11.416173        0.047364   \n",
      "23         -11.514115         -11.390492       -11.417179        0.050101   \n",
      "24         -11.513598         -11.391226       -11.417012        0.050094   \n",
      "25         -11.501939         -11.385382       -11.414068        0.044957   \n",
      "26         -11.519328         -11.394802       -11.420414        0.051563   \n",
      "27         -11.503085         -11.385837       -11.414870        0.045221   \n",
      "28         -11.527717         -11.401541       -11.427410        0.052559   \n",
      "29         -11.502800         -11.385635       -11.414193        0.045351   \n",
      "30         -11.508181         -11.388727       -11.416808        0.046865   \n",
      "31         -11.509227         -11.388182       -11.415856        0.048152   \n",
      "32         -11.503735         -11.386375       -11.415023        0.045480   \n",
      "33         -11.509887         -11.388950       -11.416794        0.047973   \n",
      "34         -11.507038         -11.388863       -11.417137        0.046085   \n",
      "35         -11.504236         -11.386215       -11.414317        0.046085   \n",
      "36         -11.501157         -11.385419       -11.414083        0.044553   \n",
      "37         -11.512608         -11.390434       -11.416991        0.049538   \n",
      "38         -11.521636         -11.396423       -11.422353        0.051885   \n",
      "39         -11.503984         -11.386865       -11.415315        0.045480   \n",
      "40         -11.505780         -11.386665       -11.414659        0.046812   \n",
      "41         -11.545184         -11.415132       -11.441083        0.054974   \n",
      "42         -11.506291         -11.386718       -11.414794        0.047014   \n",
      "43         -11.501417         -11.385660       -11.414243        0.044590   \n",
      "44         -11.502404         -11.385561       -11.414134        0.045167   \n",
      "45         -11.500833         -11.385606       -11.414151        0.044331   \n",
      "46         -11.510395         -11.389219       -11.416447        0.048459   \n",
      "47         -11.500967         -11.385744       -11.414274        0.044338   \n",
      "48         -11.503352         -11.385779       -11.414230        0.045626   \n",
      "49         -11.503067         -11.385862       -11.414810        0.045240   \n",
      "\n",
      "    rank_test_score  \n",
      "0                38  \n",
      "1                48  \n",
      "2                 4  \n",
      "3                45  \n",
      "4                47  \n",
      "5                16  \n",
      "6                 1  \n",
      "7                44  \n",
      "8                48  \n",
      "9                48  \n",
      "10               46  \n",
      "11               24  \n",
      "12               41  \n",
      "13               35  \n",
      "14               15  \n",
      "15               29  \n",
      "16                9  \n",
      "17               36  \n",
      "18               28  \n",
      "19                7  \n",
      "20               20  \n",
      "21                6  \n",
      "22               26  \n",
      "23               37  \n",
      "24               33  \n",
      "25                2  \n",
      "26               39  \n",
      "27               21  \n",
      "28               42  \n",
      "29               10  \n",
      "30               31  \n",
      "31               25  \n",
      "32               22  \n",
      "33               30  \n",
      "34               34  \n",
      "35               14  \n",
      "36                3  \n",
      "37               32  \n",
      "38               40  \n",
      "39               23  \n",
      "40               17  \n",
      "41               43  \n",
      "42               18  \n",
      "43               12  \n",
      "44                5  \n",
      "45                8  \n",
      "46               27  \n",
      "47               13  \n",
      "48               11  \n",
      "49               19  \n",
      "[ 0.79116989  2.15851601 20.44678968 ...  4.85128995 20.67369915\n",
      "  9.18828352]\n",
      "[43.3683202   3.59529834 36.55418199 ... -0.58474024  1.09011465\n",
      "  3.12814131]\n",
      "Train R-sq:\n",
      "0.6370543680482668\n",
      "Test R-sq:\n",
      "0.6480538542197378\n",
      "Train RMSE:\n",
      "11.387299714526357\n",
      "Test RMSE:\n",
      "11.337565518089878\n",
      "End Time = 2023-04-01 18:19:26.044656\n",
      "Script Time = 0:05:25.452443\n"
     ]
    },
    {
     "name": "stderr",
     "output_type": "stream",
     "text": [
      "/opt/conda/lib/python3.7/site-packages/sklearn/linear_model/_coordinate_descent.py:476: ConvergenceWarning: Objective did not converge. You might want to increase the number of iterations. Duality gap: 1445.3489556270652, tolerance: 903.328496061699\n",
      "  positive)\n"
     ]
    }
   ],
   "source": [
    "# Start timer script\n",
    "start_time = dt.datetime.today()\n",
    "\n",
    "# Citation: Hochberg, 2018; Shanmukh, 2021\n",
    "m3v2_ls_pip = Pipeline([('si', SimpleImputer(strategy='median')),\n",
    "                        ('ss', StandardScaler()),\n",
    "                        ('ls', Lasso(random_state=1699))])\n",
    "\n",
    "alpha_hparam = Real(1e-3, 1e3, prior='log-uniform')\n",
    "selection_hparam = Categorical(['cyclic', 'random'])\n",
    "max_iter_hparam = Integer(100, 5000, prior='log-uniform')\n",
    "warm_start_hparam = Categorical([False, True])\n",
    "\n",
    "\n",
    "m3v2_ls_grd = {'ls__alpha': alpha_hparam,\n",
    "               'ls__selection': selection_hparam,\n",
    "               'ls__max_iter': max_iter_hparam,\n",
    "               'ls__warm_start': warm_start_hparam\n",
    "           }\n",
    "\n",
    "m3v2_ls = BayesSearchCV(m3v2_ls_pip,\n",
    "                       m3v2_ls_grd,\n",
    "                       scoring='neg_root_mean_squared_error',\n",
    "                        cv=5,\n",
    "                       n_jobs=2,\n",
    "                       refit=True,\n",
    "                       verbose=2)\n",
    "\n",
    "m3v2_ls.fit(train_x01, train_y01)\n",
    "\n",
    "print(f'Best Estimator:\\n{m3v2_ls.best_estimator_}')\n",
    "print(f'Coefficients:\\n{m3v2_ls.best_estimator_.named_steps[\"ls\"].coef_}')\n",
    "\n",
    "print(pd.DataFrame(m3v2_ls.cv_results_))\n",
    "\n",
    "train_m3v2_ls_y01_pred = m3v2_ls.predict(train_x01)\n",
    "print(train_m3v2_ls_y01_pred)\n",
    "\n",
    "test_m3v2_ls_y01_pred = m3v2_ls.predict(test_x01)\n",
    "print(test_m3v2_ls_y01_pred)\n",
    "\n",
    "# Display evaluation metrics\n",
    "# R-sq\n",
    "train_m3v2_ls_r2 = r2_score(train_y01, train_m3v2_ls_y01_pred)\n",
    "test_m3v2_ls_r2 = r2_score(test_y01, test_m3v2_ls_y01_pred)\n",
    "\n",
    "print(f'Train R-sq:\\n{train_m3v2_ls_r2}')\n",
    "print(f'Test R-sq:\\n{test_m3v2_ls_r2}')\n",
    "\n",
    "# RMSE\n",
    "train_m3v2_ls_rmse = mean_squared_error(train_y01, train_m3v2_ls_y01_pred, squared=False)\n",
    "test_m3v2_ls_rmse = mean_squared_error(test_y01, test_m3v2_ls_y01_pred, squared=False)\n",
    "\n",
    "print(f'Train RMSE:\\n{train_m3v2_ls_rmse}')\n",
    "print(f'Test RMSE:\\n{test_m3v2_ls_rmse}')\n",
    "\n",
    "# End timer script\n",
    "end_time = dt.datetime.today()\n",
    "time_elapse = end_time - start_time\n",
    "print(f'End Time = {end_time}')\n",
    "print(f'Script Time = {time_elapse}')"
   ]
  },
  {
   "cell_type": "code",
   "execution_count": 15,
   "id": "26638d66-e6de-4097-9bf2-12c8f7c5a11e",
   "metadata": {
    "tags": []
   },
   "outputs": [
    {
     "data": {
      "text/html": [
       "<div>\n",
       "<style scoped>\n",
       "    .dataframe tbody tr th:only-of-type {\n",
       "        vertical-align: middle;\n",
       "    }\n",
       "\n",
       "    .dataframe tbody tr th {\n",
       "        vertical-align: top;\n",
       "    }\n",
       "\n",
       "    .dataframe thead th {\n",
       "        text-align: right;\n",
       "    }\n",
       "</style>\n",
       "<table border=\"1\" class=\"dataframe\">\n",
       "  <thead>\n",
       "    <tr style=\"text-align: right;\">\n",
       "      <th></th>\n",
       "      <th>0</th>\n",
       "      <th>0</th>\n",
       "    </tr>\n",
       "  </thead>\n",
       "  <tbody>\n",
       "    <tr>\n",
       "      <th>0</th>\n",
       "      <td>borough_bronx</td>\n",
       "      <td>-0.058292</td>\n",
       "    </tr>\n",
       "    <tr>\n",
       "      <th>1</th>\n",
       "      <td>borough_brooklyn</td>\n",
       "      <td>1.204183</td>\n",
       "    </tr>\n",
       "    <tr>\n",
       "      <th>2</th>\n",
       "      <td>borough_manhattan</td>\n",
       "      <td>0.000000</td>\n",
       "    </tr>\n",
       "    <tr>\n",
       "      <th>3</th>\n",
       "      <td>borough_queens</td>\n",
       "      <td>-1.034949</td>\n",
       "    </tr>\n",
       "    <tr>\n",
       "      <th>4</th>\n",
       "      <td>borough_staten island</td>\n",
       "      <td>1.142000</td>\n",
       "    </tr>\n",
       "    <tr>\n",
       "      <th>5</th>\n",
       "      <td>relative_data_year_-4</td>\n",
       "      <td>-0.000000</td>\n",
       "    </tr>\n",
       "    <tr>\n",
       "      <th>6</th>\n",
       "      <td>relative_data_year_-3</td>\n",
       "      <td>-0.000000</td>\n",
       "    </tr>\n",
       "    <tr>\n",
       "      <th>7</th>\n",
       "      <td>relative_data_year_-2</td>\n",
       "      <td>0.004605</td>\n",
       "    </tr>\n",
       "    <tr>\n",
       "      <th>8</th>\n",
       "      <td>relative_data_year_-1</td>\n",
       "      <td>0.037313</td>\n",
       "    </tr>\n",
       "    <tr>\n",
       "      <th>9</th>\n",
       "      <td>relative_data_year_0</td>\n",
       "      <td>-0.000000</td>\n",
       "    </tr>\n",
       "    <tr>\n",
       "      <th>10</th>\n",
       "      <td>complaint_type_FELONY</td>\n",
       "      <td>-0.038098</td>\n",
       "    </tr>\n",
       "    <tr>\n",
       "      <th>11</th>\n",
       "      <td>complaint_type_MISDEMEANOR</td>\n",
       "      <td>0.001707</td>\n",
       "    </tr>\n",
       "    <tr>\n",
       "      <th>12</th>\n",
       "      <td>complaint_type_VIOLATION</td>\n",
       "      <td>0.000000</td>\n",
       "    </tr>\n",
       "    <tr>\n",
       "      <th>13</th>\n",
       "      <td>annual_evictions_x_borough</td>\n",
       "      <td>-0.000000</td>\n",
       "    </tr>\n",
       "    <tr>\n",
       "      <th>14</th>\n",
       "      <td>annual_complaint_counts</td>\n",
       "      <td>-0.022644</td>\n",
       "    </tr>\n",
       "    <tr>\n",
       "      <th>15</th>\n",
       "      <td>annual_grad_n</td>\n",
       "      <td>0.000000</td>\n",
       "    </tr>\n",
       "    <tr>\n",
       "      <th>16</th>\n",
       "      <td>annual_dropped_out_n</td>\n",
       "      <td>-0.000000</td>\n",
       "    </tr>\n",
       "    <tr>\n",
       "      <th>17</th>\n",
       "      <td>totalpop</td>\n",
       "      <td>8.518534</td>\n",
       "    </tr>\n",
       "    <tr>\n",
       "      <th>18</th>\n",
       "      <td>men</td>\n",
       "      <td>0.000000</td>\n",
       "    </tr>\n",
       "    <tr>\n",
       "      <th>19</th>\n",
       "      <td>women</td>\n",
       "      <td>2.772302</td>\n",
       "    </tr>\n",
       "    <tr>\n",
       "      <th>20</th>\n",
       "      <td>hispanic</td>\n",
       "      <td>0.605115</td>\n",
       "    </tr>\n",
       "    <tr>\n",
       "      <th>21</th>\n",
       "      <td>white</td>\n",
       "      <td>-3.432478</td>\n",
       "    </tr>\n",
       "    <tr>\n",
       "      <th>22</th>\n",
       "      <td>black</td>\n",
       "      <td>-2.275920</td>\n",
       "    </tr>\n",
       "    <tr>\n",
       "      <th>23</th>\n",
       "      <td>native</td>\n",
       "      <td>-0.375483</td>\n",
       "    </tr>\n",
       "    <tr>\n",
       "      <th>24</th>\n",
       "      <td>asian</td>\n",
       "      <td>-1.979840</td>\n",
       "    </tr>\n",
       "    <tr>\n",
       "      <th>25</th>\n",
       "      <td>citizen</td>\n",
       "      <td>-3.681909</td>\n",
       "    </tr>\n",
       "    <tr>\n",
       "      <th>26</th>\n",
       "      <td>income</td>\n",
       "      <td>-6.893009</td>\n",
       "    </tr>\n",
       "    <tr>\n",
       "      <th>27</th>\n",
       "      <td>incomeerr</td>\n",
       "      <td>0.158064</td>\n",
       "    </tr>\n",
       "    <tr>\n",
       "      <th>28</th>\n",
       "      <td>incomepercap</td>\n",
       "      <td>0.475790</td>\n",
       "    </tr>\n",
       "    <tr>\n",
       "      <th>29</th>\n",
       "      <td>incomepercaperr</td>\n",
       "      <td>-0.193797</td>\n",
       "    </tr>\n",
       "    <tr>\n",
       "      <th>30</th>\n",
       "      <td>professional</td>\n",
       "      <td>-2.650531</td>\n",
       "    </tr>\n",
       "    <tr>\n",
       "      <th>31</th>\n",
       "      <td>service</td>\n",
       "      <td>0.796396</td>\n",
       "    </tr>\n",
       "    <tr>\n",
       "      <th>32</th>\n",
       "      <td>office</td>\n",
       "      <td>0.000161</td>\n",
       "    </tr>\n",
       "    <tr>\n",
       "      <th>33</th>\n",
       "      <td>construction</td>\n",
       "      <td>-1.011314</td>\n",
       "    </tr>\n",
       "    <tr>\n",
       "      <th>34</th>\n",
       "      <td>production</td>\n",
       "      <td>-0.635163</td>\n",
       "    </tr>\n",
       "    <tr>\n",
       "      <th>35</th>\n",
       "      <td>drive</td>\n",
       "      <td>-1.451417</td>\n",
       "    </tr>\n",
       "    <tr>\n",
       "      <th>36</th>\n",
       "      <td>carpool</td>\n",
       "      <td>-0.487138</td>\n",
       "    </tr>\n",
       "    <tr>\n",
       "      <th>37</th>\n",
       "      <td>transit</td>\n",
       "      <td>-0.000000</td>\n",
       "    </tr>\n",
       "    <tr>\n",
       "      <th>38</th>\n",
       "      <td>walk</td>\n",
       "      <td>1.525919</td>\n",
       "    </tr>\n",
       "    <tr>\n",
       "      <th>39</th>\n",
       "      <td>othertransp</td>\n",
       "      <td>0.484827</td>\n",
       "    </tr>\n",
       "    <tr>\n",
       "      <th>40</th>\n",
       "      <td>workathome</td>\n",
       "      <td>0.569091</td>\n",
       "    </tr>\n",
       "    <tr>\n",
       "      <th>41</th>\n",
       "      <td>meancommute</td>\n",
       "      <td>-0.751932</td>\n",
       "    </tr>\n",
       "    <tr>\n",
       "      <th>42</th>\n",
       "      <td>employed</td>\n",
       "      <td>-8.316772</td>\n",
       "    </tr>\n",
       "    <tr>\n",
       "      <th>43</th>\n",
       "      <td>privatework</td>\n",
       "      <td>0.742523</td>\n",
       "    </tr>\n",
       "    <tr>\n",
       "      <th>44</th>\n",
       "      <td>publicwork</td>\n",
       "      <td>-0.903732</td>\n",
       "    </tr>\n",
       "    <tr>\n",
       "      <th>45</th>\n",
       "      <td>selfemployed</td>\n",
       "      <td>0.634983</td>\n",
       "    </tr>\n",
       "    <tr>\n",
       "      <th>46</th>\n",
       "      <td>familywork</td>\n",
       "      <td>0.760989</td>\n",
       "    </tr>\n",
       "    <tr>\n",
       "      <th>47</th>\n",
       "      <td>unemployment</td>\n",
       "      <td>1.607281</td>\n",
       "    </tr>\n",
       "    <tr>\n",
       "      <th>48</th>\n",
       "      <td>intercept</td>\n",
       "      <td>24.475273</td>\n",
       "    </tr>\n",
       "  </tbody>\n",
       "</table>\n",
       "</div>"
      ],
      "text/plain": [
       "                             0          0\n",
       "0                borough_bronx  -0.058292\n",
       "1             borough_brooklyn   1.204183\n",
       "2            borough_manhattan   0.000000\n",
       "3               borough_queens  -1.034949\n",
       "4        borough_staten island   1.142000\n",
       "5        relative_data_year_-4  -0.000000\n",
       "6        relative_data_year_-3  -0.000000\n",
       "7        relative_data_year_-2   0.004605\n",
       "8        relative_data_year_-1   0.037313\n",
       "9         relative_data_year_0  -0.000000\n",
       "10       complaint_type_FELONY  -0.038098\n",
       "11  complaint_type_MISDEMEANOR   0.001707\n",
       "12    complaint_type_VIOLATION   0.000000\n",
       "13  annual_evictions_x_borough  -0.000000\n",
       "14     annual_complaint_counts  -0.022644\n",
       "15               annual_grad_n   0.000000\n",
       "16        annual_dropped_out_n  -0.000000\n",
       "17                    totalpop   8.518534\n",
       "18                         men   0.000000\n",
       "19                       women   2.772302\n",
       "20                    hispanic   0.605115\n",
       "21                       white  -3.432478\n",
       "22                       black  -2.275920\n",
       "23                      native  -0.375483\n",
       "24                       asian  -1.979840\n",
       "25                     citizen  -3.681909\n",
       "26                      income  -6.893009\n",
       "27                   incomeerr   0.158064\n",
       "28                incomepercap   0.475790\n",
       "29             incomepercaperr  -0.193797\n",
       "30                professional  -2.650531\n",
       "31                     service   0.796396\n",
       "32                      office   0.000161\n",
       "33                construction  -1.011314\n",
       "34                  production  -0.635163\n",
       "35                       drive  -1.451417\n",
       "36                     carpool  -0.487138\n",
       "37                     transit  -0.000000\n",
       "38                        walk   1.525919\n",
       "39                 othertransp   0.484827\n",
       "40                  workathome   0.569091\n",
       "41                 meancommute  -0.751932\n",
       "42                    employed  -8.316772\n",
       "43                 privatework   0.742523\n",
       "44                  publicwork  -0.903732\n",
       "45                selfemployed   0.634983\n",
       "46                  familywork   0.760989\n",
       "47                unemployment   1.607281\n",
       "48                   intercept  24.475273"
      ]
     },
     "metadata": {},
     "output_type": "display_data"
    }
   ],
   "source": [
    "coef_intercept = np.hstack((m3v2_ls.best_estimator_.named_steps[\"ls\"].coef_,\n",
    "                            m3v2_ls.best_estimator_.named_steps[\"ls\"].intercept_))\n",
    "#print(coef_intercept)\n",
    "\n",
    "coef_intercept_df01 = pd.DataFrame(coef_intercept)\n",
    "#display(coef_intercept_df01)\n",
    "\n",
    "train_x01_col_names = list(train_x01.columns)\n",
    "train_x01_col_names.append('intercept')\n",
    "\n",
    "train_x01_col_names_df01 = pd.DataFrame(train_x01_col_names)\n",
    "#display(train_x01_col_names_df01)\n",
    "\n",
    "model_params = pd.concat([train_x01_col_names_df01, coef_intercept_df01], axis=1)\n",
    "display(model_params)"
   ]
  },
  {
   "cell_type": "markdown",
   "id": "482e6e17-d3a7-49f4-bdb7-5550f10cfc2a",
   "metadata": {},
   "source": [
    "## Release Resources"
   ]
  },
  {
   "cell_type": "code",
   "execution_count": 16,
   "id": "034b5c94-394b-4fac-aa24-880026e19549",
   "metadata": {},
   "outputs": [
    {
     "data": {
      "text/html": [
       "\n",
       "<p><b>Shutting down your kernel for this notebook to release resources.</b></p>\n",
       "<button class=\"sm-command-button\" data-commandlinker-command=\"kernelmenu:shutdown\" style=\"display:none;\">Shutdown Kernel</button>\n",
       "        \n",
       "<script>\n",
       "try {\n",
       "    els = document.getElementsByClassName(\"sm-command-button\");\n",
       "    els[0].click();\n",
       "}\n",
       "catch(err) {\n",
       "    // NoOp\n",
       "}    \n",
       "</script>\n"
      ],
      "text/plain": [
       "<IPython.core.display.HTML object>"
      ]
     },
     "metadata": {},
     "output_type": "display_data"
    }
   ],
   "source": [
    "%%html\n",
    "\n",
    "<p><b>Shutting down your kernel for this notebook to release resources.</b></p>\n",
    "<button class=\"sm-command-button\" data-commandlinker-command=\"kernelmenu:shutdown\" style=\"display:none;\">Shutdown Kernel</button>\n",
    "        \n",
    "<script>\n",
    "try {\n",
    "    els = document.getElementsByClassName(\"sm-command-button\");\n",
    "    els[0].click();\n",
    "}\n",
    "catch(err) {\n",
    "    // NoOp\n",
    "}    \n",
    "</script>"
   ]
  },
  {
   "cell_type": "code",
   "execution_count": 17,
   "id": "448d3322-a041-43ea-85da-0e347e3569da",
   "metadata": {
    "tags": []
   },
   "outputs": [
    {
     "data": {
      "application/javascript": [
       "\n",
       "try {\n",
       "    Jupyter.notebook.save_checkpoint();\n",
       "    Jupyter.notebook.session.delete();\n",
       "}\n",
       "catch(err) {\n",
       "    // NoOp\n",
       "}\n"
      ],
      "text/plain": [
       "<IPython.core.display.Javascript object>"
      ]
     },
     "metadata": {},
     "output_type": "display_data"
    }
   ],
   "source": [
    "%%javascript\n",
    "\n",
    "try {\n",
    "    Jupyter.notebook.save_checkpoint();\n",
    "    Jupyter.notebook.session.delete();\n",
    "}\n",
    "catch(err) {\n",
    "    // NoOp\n",
    "}"
   ]
  }
 ],
 "metadata": {
  "availableInstances": [
   {
    "_defaultOrder": 0,
    "_isFastLaunch": true,
    "category": "General purpose",
    "gpuNum": 0,
    "hideHardwareSpecs": false,
    "memoryGiB": 4,
    "name": "ml.t3.medium",
    "vcpuNum": 2
   },
   {
    "_defaultOrder": 1,
    "_isFastLaunch": false,
    "category": "General purpose",
    "gpuNum": 0,
    "hideHardwareSpecs": false,
    "memoryGiB": 8,
    "name": "ml.t3.large",
    "vcpuNum": 2
   },
   {
    "_defaultOrder": 2,
    "_isFastLaunch": false,
    "category": "General purpose",
    "gpuNum": 0,
    "hideHardwareSpecs": false,
    "memoryGiB": 16,
    "name": "ml.t3.xlarge",
    "vcpuNum": 4
   },
   {
    "_defaultOrder": 3,
    "_isFastLaunch": false,
    "category": "General purpose",
    "gpuNum": 0,
    "hideHardwareSpecs": false,
    "memoryGiB": 32,
    "name": "ml.t3.2xlarge",
    "vcpuNum": 8
   },
   {
    "_defaultOrder": 4,
    "_isFastLaunch": true,
    "category": "General purpose",
    "gpuNum": 0,
    "hideHardwareSpecs": false,
    "memoryGiB": 8,
    "name": "ml.m5.large",
    "vcpuNum": 2
   },
   {
    "_defaultOrder": 5,
    "_isFastLaunch": false,
    "category": "General purpose",
    "gpuNum": 0,
    "hideHardwareSpecs": false,
    "memoryGiB": 16,
    "name": "ml.m5.xlarge",
    "vcpuNum": 4
   },
   {
    "_defaultOrder": 6,
    "_isFastLaunch": false,
    "category": "General purpose",
    "gpuNum": 0,
    "hideHardwareSpecs": false,
    "memoryGiB": 32,
    "name": "ml.m5.2xlarge",
    "vcpuNum": 8
   },
   {
    "_defaultOrder": 7,
    "_isFastLaunch": false,
    "category": "General purpose",
    "gpuNum": 0,
    "hideHardwareSpecs": false,
    "memoryGiB": 64,
    "name": "ml.m5.4xlarge",
    "vcpuNum": 16
   },
   {
    "_defaultOrder": 8,
    "_isFastLaunch": false,
    "category": "General purpose",
    "gpuNum": 0,
    "hideHardwareSpecs": false,
    "memoryGiB": 128,
    "name": "ml.m5.8xlarge",
    "vcpuNum": 32
   },
   {
    "_defaultOrder": 9,
    "_isFastLaunch": false,
    "category": "General purpose",
    "gpuNum": 0,
    "hideHardwareSpecs": false,
    "memoryGiB": 192,
    "name": "ml.m5.12xlarge",
    "vcpuNum": 48
   },
   {
    "_defaultOrder": 10,
    "_isFastLaunch": false,
    "category": "General purpose",
    "gpuNum": 0,
    "hideHardwareSpecs": false,
    "memoryGiB": 256,
    "name": "ml.m5.16xlarge",
    "vcpuNum": 64
   },
   {
    "_defaultOrder": 11,
    "_isFastLaunch": false,
    "category": "General purpose",
    "gpuNum": 0,
    "hideHardwareSpecs": false,
    "memoryGiB": 384,
    "name": "ml.m5.24xlarge",
    "vcpuNum": 96
   },
   {
    "_defaultOrder": 12,
    "_isFastLaunch": false,
    "category": "General purpose",
    "gpuNum": 0,
    "hideHardwareSpecs": false,
    "memoryGiB": 8,
    "name": "ml.m5d.large",
    "vcpuNum": 2
   },
   {
    "_defaultOrder": 13,
    "_isFastLaunch": false,
    "category": "General purpose",
    "gpuNum": 0,
    "hideHardwareSpecs": false,
    "memoryGiB": 16,
    "name": "ml.m5d.xlarge",
    "vcpuNum": 4
   },
   {
    "_defaultOrder": 14,
    "_isFastLaunch": false,
    "category": "General purpose",
    "gpuNum": 0,
    "hideHardwareSpecs": false,
    "memoryGiB": 32,
    "name": "ml.m5d.2xlarge",
    "vcpuNum": 8
   },
   {
    "_defaultOrder": 15,
    "_isFastLaunch": false,
    "category": "General purpose",
    "gpuNum": 0,
    "hideHardwareSpecs": false,
    "memoryGiB": 64,
    "name": "ml.m5d.4xlarge",
    "vcpuNum": 16
   },
   {
    "_defaultOrder": 16,
    "_isFastLaunch": false,
    "category": "General purpose",
    "gpuNum": 0,
    "hideHardwareSpecs": false,
    "memoryGiB": 128,
    "name": "ml.m5d.8xlarge",
    "vcpuNum": 32
   },
   {
    "_defaultOrder": 17,
    "_isFastLaunch": false,
    "category": "General purpose",
    "gpuNum": 0,
    "hideHardwareSpecs": false,
    "memoryGiB": 192,
    "name": "ml.m5d.12xlarge",
    "vcpuNum": 48
   },
   {
    "_defaultOrder": 18,
    "_isFastLaunch": false,
    "category": "General purpose",
    "gpuNum": 0,
    "hideHardwareSpecs": false,
    "memoryGiB": 256,
    "name": "ml.m5d.16xlarge",
    "vcpuNum": 64
   },
   {
    "_defaultOrder": 19,
    "_isFastLaunch": false,
    "category": "General purpose",
    "gpuNum": 0,
    "hideHardwareSpecs": false,
    "memoryGiB": 384,
    "name": "ml.m5d.24xlarge",
    "vcpuNum": 96
   },
   {
    "_defaultOrder": 20,
    "_isFastLaunch": false,
    "category": "General purpose",
    "gpuNum": 0,
    "hideHardwareSpecs": true,
    "memoryGiB": 0,
    "name": "ml.geospatial.interactive",
    "supportedImageNames": [
     "sagemaker-geospatial-v1-0"
    ],
    "vcpuNum": 0
   },
   {
    "_defaultOrder": 21,
    "_isFastLaunch": true,
    "category": "Compute optimized",
    "gpuNum": 0,
    "hideHardwareSpecs": false,
    "memoryGiB": 4,
    "name": "ml.c5.large",
    "vcpuNum": 2
   },
   {
    "_defaultOrder": 22,
    "_isFastLaunch": false,
    "category": "Compute optimized",
    "gpuNum": 0,
    "hideHardwareSpecs": false,
    "memoryGiB": 8,
    "name": "ml.c5.xlarge",
    "vcpuNum": 4
   },
   {
    "_defaultOrder": 23,
    "_isFastLaunch": false,
    "category": "Compute optimized",
    "gpuNum": 0,
    "hideHardwareSpecs": false,
    "memoryGiB": 16,
    "name": "ml.c5.2xlarge",
    "vcpuNum": 8
   },
   {
    "_defaultOrder": 24,
    "_isFastLaunch": false,
    "category": "Compute optimized",
    "gpuNum": 0,
    "hideHardwareSpecs": false,
    "memoryGiB": 32,
    "name": "ml.c5.4xlarge",
    "vcpuNum": 16
   },
   {
    "_defaultOrder": 25,
    "_isFastLaunch": false,
    "category": "Compute optimized",
    "gpuNum": 0,
    "hideHardwareSpecs": false,
    "memoryGiB": 72,
    "name": "ml.c5.9xlarge",
    "vcpuNum": 36
   },
   {
    "_defaultOrder": 26,
    "_isFastLaunch": false,
    "category": "Compute optimized",
    "gpuNum": 0,
    "hideHardwareSpecs": false,
    "memoryGiB": 96,
    "name": "ml.c5.12xlarge",
    "vcpuNum": 48
   },
   {
    "_defaultOrder": 27,
    "_isFastLaunch": false,
    "category": "Compute optimized",
    "gpuNum": 0,
    "hideHardwareSpecs": false,
    "memoryGiB": 144,
    "name": "ml.c5.18xlarge",
    "vcpuNum": 72
   },
   {
    "_defaultOrder": 28,
    "_isFastLaunch": false,
    "category": "Compute optimized",
    "gpuNum": 0,
    "hideHardwareSpecs": false,
    "memoryGiB": 192,
    "name": "ml.c5.24xlarge",
    "vcpuNum": 96
   },
   {
    "_defaultOrder": 29,
    "_isFastLaunch": true,
    "category": "Accelerated computing",
    "gpuNum": 1,
    "hideHardwareSpecs": false,
    "memoryGiB": 16,
    "name": "ml.g4dn.xlarge",
    "vcpuNum": 4
   },
   {
    "_defaultOrder": 30,
    "_isFastLaunch": false,
    "category": "Accelerated computing",
    "gpuNum": 1,
    "hideHardwareSpecs": false,
    "memoryGiB": 32,
    "name": "ml.g4dn.2xlarge",
    "vcpuNum": 8
   },
   {
    "_defaultOrder": 31,
    "_isFastLaunch": false,
    "category": "Accelerated computing",
    "gpuNum": 1,
    "hideHardwareSpecs": false,
    "memoryGiB": 64,
    "name": "ml.g4dn.4xlarge",
    "vcpuNum": 16
   },
   {
    "_defaultOrder": 32,
    "_isFastLaunch": false,
    "category": "Accelerated computing",
    "gpuNum": 1,
    "hideHardwareSpecs": false,
    "memoryGiB": 128,
    "name": "ml.g4dn.8xlarge",
    "vcpuNum": 32
   },
   {
    "_defaultOrder": 33,
    "_isFastLaunch": false,
    "category": "Accelerated computing",
    "gpuNum": 4,
    "hideHardwareSpecs": false,
    "memoryGiB": 192,
    "name": "ml.g4dn.12xlarge",
    "vcpuNum": 48
   },
   {
    "_defaultOrder": 34,
    "_isFastLaunch": false,
    "category": "Accelerated computing",
    "gpuNum": 1,
    "hideHardwareSpecs": false,
    "memoryGiB": 256,
    "name": "ml.g4dn.16xlarge",
    "vcpuNum": 64
   },
   {
    "_defaultOrder": 35,
    "_isFastLaunch": false,
    "category": "Accelerated computing",
    "gpuNum": 1,
    "hideHardwareSpecs": false,
    "memoryGiB": 61,
    "name": "ml.p3.2xlarge",
    "vcpuNum": 8
   },
   {
    "_defaultOrder": 36,
    "_isFastLaunch": false,
    "category": "Accelerated computing",
    "gpuNum": 4,
    "hideHardwareSpecs": false,
    "memoryGiB": 244,
    "name": "ml.p3.8xlarge",
    "vcpuNum": 32
   },
   {
    "_defaultOrder": 37,
    "_isFastLaunch": false,
    "category": "Accelerated computing",
    "gpuNum": 8,
    "hideHardwareSpecs": false,
    "memoryGiB": 488,
    "name": "ml.p3.16xlarge",
    "vcpuNum": 64
   },
   {
    "_defaultOrder": 38,
    "_isFastLaunch": false,
    "category": "Accelerated computing",
    "gpuNum": 8,
    "hideHardwareSpecs": false,
    "memoryGiB": 768,
    "name": "ml.p3dn.24xlarge",
    "vcpuNum": 96
   },
   {
    "_defaultOrder": 39,
    "_isFastLaunch": false,
    "category": "Memory Optimized",
    "gpuNum": 0,
    "hideHardwareSpecs": false,
    "memoryGiB": 16,
    "name": "ml.r5.large",
    "vcpuNum": 2
   },
   {
    "_defaultOrder": 40,
    "_isFastLaunch": false,
    "category": "Memory Optimized",
    "gpuNum": 0,
    "hideHardwareSpecs": false,
    "memoryGiB": 32,
    "name": "ml.r5.xlarge",
    "vcpuNum": 4
   },
   {
    "_defaultOrder": 41,
    "_isFastLaunch": false,
    "category": "Memory Optimized",
    "gpuNum": 0,
    "hideHardwareSpecs": false,
    "memoryGiB": 64,
    "name": "ml.r5.2xlarge",
    "vcpuNum": 8
   },
   {
    "_defaultOrder": 42,
    "_isFastLaunch": false,
    "category": "Memory Optimized",
    "gpuNum": 0,
    "hideHardwareSpecs": false,
    "memoryGiB": 128,
    "name": "ml.r5.4xlarge",
    "vcpuNum": 16
   },
   {
    "_defaultOrder": 43,
    "_isFastLaunch": false,
    "category": "Memory Optimized",
    "gpuNum": 0,
    "hideHardwareSpecs": false,
    "memoryGiB": 256,
    "name": "ml.r5.8xlarge",
    "vcpuNum": 32
   },
   {
    "_defaultOrder": 44,
    "_isFastLaunch": false,
    "category": "Memory Optimized",
    "gpuNum": 0,
    "hideHardwareSpecs": false,
    "memoryGiB": 384,
    "name": "ml.r5.12xlarge",
    "vcpuNum": 48
   },
   {
    "_defaultOrder": 45,
    "_isFastLaunch": false,
    "category": "Memory Optimized",
    "gpuNum": 0,
    "hideHardwareSpecs": false,
    "memoryGiB": 512,
    "name": "ml.r5.16xlarge",
    "vcpuNum": 64
   },
   {
    "_defaultOrder": 46,
    "_isFastLaunch": false,
    "category": "Memory Optimized",
    "gpuNum": 0,
    "hideHardwareSpecs": false,
    "memoryGiB": 768,
    "name": "ml.r5.24xlarge",
    "vcpuNum": 96
   },
   {
    "_defaultOrder": 47,
    "_isFastLaunch": false,
    "category": "Accelerated computing",
    "gpuNum": 1,
    "hideHardwareSpecs": false,
    "memoryGiB": 16,
    "name": "ml.g5.xlarge",
    "vcpuNum": 4
   },
   {
    "_defaultOrder": 48,
    "_isFastLaunch": false,
    "category": "Accelerated computing",
    "gpuNum": 1,
    "hideHardwareSpecs": false,
    "memoryGiB": 32,
    "name": "ml.g5.2xlarge",
    "vcpuNum": 8
   },
   {
    "_defaultOrder": 49,
    "_isFastLaunch": false,
    "category": "Accelerated computing",
    "gpuNum": 1,
    "hideHardwareSpecs": false,
    "memoryGiB": 64,
    "name": "ml.g5.4xlarge",
    "vcpuNum": 16
   },
   {
    "_defaultOrder": 50,
    "_isFastLaunch": false,
    "category": "Accelerated computing",
    "gpuNum": 1,
    "hideHardwareSpecs": false,
    "memoryGiB": 128,
    "name": "ml.g5.8xlarge",
    "vcpuNum": 32
   },
   {
    "_defaultOrder": 51,
    "_isFastLaunch": false,
    "category": "Accelerated computing",
    "gpuNum": 1,
    "hideHardwareSpecs": false,
    "memoryGiB": 256,
    "name": "ml.g5.16xlarge",
    "vcpuNum": 64
   },
   {
    "_defaultOrder": 52,
    "_isFastLaunch": false,
    "category": "Accelerated computing",
    "gpuNum": 4,
    "hideHardwareSpecs": false,
    "memoryGiB": 192,
    "name": "ml.g5.12xlarge",
    "vcpuNum": 48
   },
   {
    "_defaultOrder": 53,
    "_isFastLaunch": false,
    "category": "Accelerated computing",
    "gpuNum": 4,
    "hideHardwareSpecs": false,
    "memoryGiB": 384,
    "name": "ml.g5.24xlarge",
    "vcpuNum": 96
   },
   {
    "_defaultOrder": 54,
    "_isFastLaunch": false,
    "category": "Accelerated computing",
    "gpuNum": 8,
    "hideHardwareSpecs": false,
    "memoryGiB": 768,
    "name": "ml.g5.48xlarge",
    "vcpuNum": 192
   }
  ],
  "instance_type": "ml.t3.medium",
  "kernelspec": {
   "display_name": "Python 3 (Data Science)",
   "language": "python",
   "name": "python3__SAGEMAKER_INTERNAL__arn:aws:sagemaker:us-east-1:081325390199:image/datascience-1.0"
  },
  "language_info": {
   "codemirror_mode": {
    "name": "ipython",
    "version": 3
   },
   "file_extension": ".py",
   "mimetype": "text/x-python",
   "name": "python",
   "nbconvert_exporter": "python",
   "pygments_lexer": "ipython3",
   "version": "3.7.10"
  }
 },
 "nbformat": 4,
 "nbformat_minor": 5
}
