{
 "cells": [
  {
   "cell_type": "markdown",
   "id": "a406a9cc-f539-4fc8-ac94-6964d066545e",
   "metadata": {},
   "source": [
    "# ADS-508-01-SP23 Team 8: Final Project"
   ]
  },
  {
   "cell_type": "markdown",
   "id": "b9d4d4ae-78da-4af4-8ca3-86c028dd6e91",
   "metadata": {},
   "source": [
    "# Train model"
   ]
  },
  {
   "cell_type": "markdown",
   "id": "4d3b8db0-6910-4d3d-a870-fec468b57912",
   "metadata": {},
   "source": [
    "Much of the code is modified from `Fregly, C., & Barth, A. (2021). Data science on AWS: Implementing end-to-end, continuous AI and machine learning pipelines. O’Reilly.`"
   ]
  },
  {
   "cell_type": "markdown",
   "id": "4d04427e-2c8f-4b36-97d0-65e28951db9f",
   "metadata": {},
   "source": [
    "## Install missing dependencies\n",
    "\n",
    "[PyAthena](https://pypi.org/project/PyAthena/) is a Python DB API 2.0 (PEP 249) compliant client for Amazon Athena."
   ]
  },
  {
   "cell_type": "code",
   "execution_count": 2,
   "id": "189f41f2-460c-40df-a1d5-b7a39783149d",
   "metadata": {},
   "outputs": [
    {
     "name": "stdout",
     "output_type": "stream",
     "text": [
      "\u001b[33mWARNING: Running pip as the 'root' user can result in broken permissions and conflicting behaviour with the system package manager. It is recommended to use a virtual environment instead: https://pip.pypa.io/warnings/venv\u001b[0m\u001b[33m\n",
      "\u001b[0m\u001b[33mWARNING: Running pip as the 'root' user can result in broken permissions and conflicting behaviour with the system package manager. It is recommended to use a virtual environment instead: https://pip.pypa.io/warnings/venv\u001b[0m\u001b[33m\n",
      "\u001b[0mCollecting missingno\n",
      "  Using cached missingno-0.5.2-py3-none-any.whl (8.7 kB)\n",
      "Requirement already satisfied: scipy in /opt/conda/lib/python3.7/site-packages (from missingno) (1.4.1)\n",
      "Requirement already satisfied: numpy in /opt/conda/lib/python3.7/site-packages (from missingno) (1.21.6)\n",
      "Requirement already satisfied: matplotlib in /opt/conda/lib/python3.7/site-packages (from missingno) (3.1.3)\n",
      "Requirement already satisfied: seaborn in /opt/conda/lib/python3.7/site-packages (from missingno) (0.10.0)\n",
      "Requirement already satisfied: python-dateutil>=2.1 in /opt/conda/lib/python3.7/site-packages (from matplotlib->missingno) (2.8.2)\n",
      "Requirement already satisfied: cycler>=0.10 in /opt/conda/lib/python3.7/site-packages (from matplotlib->missingno) (0.10.0)\n",
      "Requirement already satisfied: kiwisolver>=1.0.1 in /opt/conda/lib/python3.7/site-packages (from matplotlib->missingno) (1.1.0)\n",
      "Requirement already satisfied: pyparsing!=2.0.4,!=2.1.2,!=2.1.6,>=2.0.1 in /opt/conda/lib/python3.7/site-packages (from matplotlib->missingno) (2.4.6)\n",
      "Requirement already satisfied: pandas>=0.22.0 in /opt/conda/lib/python3.7/site-packages (from seaborn->missingno) (1.3.5)\n",
      "Requirement already satisfied: six in /opt/conda/lib/python3.7/site-packages (from cycler>=0.10->matplotlib->missingno) (1.14.0)\n",
      "Requirement already satisfied: setuptools in /opt/conda/lib/python3.7/site-packages (from kiwisolver>=1.0.1->matplotlib->missingno) (59.3.0)\n",
      "Requirement already satisfied: pytz>=2017.3 in /opt/conda/lib/python3.7/site-packages (from pandas>=0.22.0->seaborn->missingno) (2019.3)\n",
      "Installing collected packages: missingno\n",
      "Successfully installed missingno-0.5.2\n",
      "\u001b[33mWARNING: Running pip as the 'root' user can result in broken permissions and conflicting behaviour with the system package manager. It is recommended to use a virtual environment instead: https://pip.pypa.io/warnings/venv\u001b[0m\u001b[33m\n",
      "\u001b[0mCollecting scikit-optimize\n",
      "  Using cached scikit_optimize-0.9.0-py2.py3-none-any.whl (100 kB)\n",
      "Collecting pyaml>=16.9\n",
      "  Using cached pyaml-21.10.1-py2.py3-none-any.whl (24 kB)\n",
      "Requirement already satisfied: scikit-learn>=0.20.0 in /opt/conda/lib/python3.7/site-packages (from scikit-optimize) (0.22.1)\n",
      "Requirement already satisfied: scipy>=0.19.1 in /opt/conda/lib/python3.7/site-packages (from scikit-optimize) (1.4.1)\n",
      "Requirement already satisfied: joblib>=0.11 in /opt/conda/lib/python3.7/site-packages (from scikit-optimize) (1.2.0)\n",
      "Requirement already satisfied: numpy>=1.13.3 in /opt/conda/lib/python3.7/site-packages (from scikit-optimize) (1.21.6)\n",
      "Requirement already satisfied: PyYAML in /opt/conda/lib/python3.7/site-packages (from pyaml>=16.9->scikit-optimize) (6.0)\n",
      "Installing collected packages: pyaml, scikit-optimize\n",
      "Successfully installed pyaml-21.10.1 scikit-optimize-0.9.0\n",
      "\u001b[33mWARNING: Running pip as the 'root' user can result in broken permissions and conflicting behaviour with the system package manager. It is recommended to use a virtual environment instead: https://pip.pypa.io/warnings/venv\u001b[0m\u001b[33m\n",
      "\u001b[0m"
     ]
    }
   ],
   "source": [
    "!pip install --disable-pip-version-check -q PyAthena==2.1.0\n",
    "!pip install --disable-pip-version-check -q sagemaker-experiments==0.1.26\n",
    "!pip install missingno\n",
    "!pip install scikit-optimize"
   ]
  },
  {
   "cell_type": "markdown",
   "id": "bd6e5a52-94a3-489c-819b-f57885fe9cc6",
   "metadata": {},
   "source": [
    "## Globally import libraries"
   ]
  },
  {
   "cell_type": "code",
   "execution_count": 3,
   "id": "c1264efc-72eb-45b3-9311-6ff9a787a26b",
   "metadata": {},
   "outputs": [],
   "source": [
    "import boto3\n",
    "from botocore.client import ClientError\n",
    "import pandas as pd\n",
    "import numpy as np\n",
    "from pyathena import connect\n",
    "from IPython.core.display import display, HTML\n",
    "import missingno as msno\n",
    "from skopt import BayesSearchCV\n",
    "from skopt.space import Real, Categorical, Integer\n",
    "from sklearn.compose import ColumnTransformer\n",
    "from sklearn.pipeline import make_pipeline, Pipeline\n",
    "from sklearn.preprocessing import StandardScaler, OneHotEncoder\n",
    "from sklearn.model_selection import train_test_split, cross_val_score, GridSearchCV\n",
    "from sklearn.ensemble import RandomForestRegressor\n",
    "from sklearn.neural_network import MLPRegressor\n",
    "from sklearn.impute import SimpleImputer\n",
    "from sklearn.metrics import r2_score, mean_squared_error\n",
    "from sklearn.linear_model import Lasso\n",
    "import datetime as dt\n",
    "import time\n",
    "import sagemaker\n",
    "from smexperiments.experiment import Experiment\n",
    "from smexperiments.trial import Trial\n",
    "import joblib\n",
    "import os\n",
    "from io import BytesIO"
   ]
  },
  {
   "cell_type": "markdown",
   "id": "e0208499-b452-4abe-a5ae-475f0ecc4254",
   "metadata": {},
   "source": [
    "## Instantiate AWS SageMaker and S3 sessions"
   ]
  },
  {
   "cell_type": "code",
   "execution_count": 4,
   "id": "6c4ef463-dd80-4d28-9a1f-09f5261fca85",
   "metadata": {},
   "outputs": [],
   "source": [
    "session = boto3.session.Session()\n",
    "role = sagemaker.get_execution_role()\n",
    "region = session.region_name\n",
    "sagemaker_session = sagemaker.Session()\n",
    "def_bucket = sagemaker_session.default_bucket()\n",
    "bucket = 'sagemaker-us-east-ads508-sp23-t8'\n",
    "\n",
    "s3 = boto3.Session().client(service_name=\"s3\",\n",
    "                            region_name=region)\n",
    "\n",
    "sm = boto3.Session().client(service_name=\"sagemaker\",\n",
    "                            region_name=region)"
   ]
  },
  {
   "cell_type": "code",
   "execution_count": 5,
   "id": "580594ea-994e-4fcf-987a-2ddb722c4237",
   "metadata": {},
   "outputs": [],
   "source": [
    "setup_s3_bucket_passed = False\n",
    "ingest_create_athena_db_passed = False\n",
    "ingest_create_athena_table_tsv_passed = False"
   ]
  },
  {
   "cell_type": "code",
   "execution_count": 6,
   "id": "59fe83df-3b8d-4120-ae9a-221497980a76",
   "metadata": {},
   "outputs": [
    {
     "name": "stdout",
     "output_type": "stream",
     "text": [
      "Default bucket: sagemaker-us-east-1-657724983756\n",
      "Public T8 bucket: sagemaker-us-east-ads508-sp23-t8\n"
     ]
    }
   ],
   "source": [
    "print(f\"Default bucket: {def_bucket}\")\n",
    "print(f\"Public T8 bucket: {bucket}\")"
   ]
  },
  {
   "cell_type": "markdown",
   "id": "aae823a2-4c36-4d81-a2fb-496557565c0b",
   "metadata": {},
   "source": [
    "## Verify S3 Bucket Creation"
   ]
  },
  {
   "cell_type": "code",
   "execution_count": 7,
   "id": "7c67927d-c9e0-4b49-8b94-3fa999e09586",
   "metadata": {},
   "outputs": [
    {
     "name": "stdout",
     "output_type": "stream",
     "text": [
      "2023-03-16 17:05:02 aws-athena-query-results-657724983756-us-east-1\n",
      "2023-03-02 16:56:48 sagemaker-studio-657724983756-5nh7ydsouq7\n",
      "2023-03-02 17:25:41 sagemaker-studio-657724983756-7yc8bp8xk0b\n",
      "2023-03-02 17:01:51 sagemaker-us-east-1-657724983756\n",
      "2023-03-17 05:19:31 sagemaker-us-east-ads508-sp23-t8\n"
     ]
    }
   ],
   "source": [
    "%%bash\n",
    "\n",
    "aws s3 ls s3://${bucket}/"
   ]
  },
  {
   "cell_type": "code",
   "execution_count": 8,
   "id": "e38a0299-5e04-4dd4-ada1-9cfd9de9caf2",
   "metadata": {},
   "outputs": [
    {
     "name": "stdout",
     "output_type": "stream",
     "text": [
      "{'ResponseMetadata': {'RequestId': 'FTQBQBGXR3A9WFGA', 'HostId': 'CXEmbIwsTPPPbdutzV03ul3rcbmtUGhPp5R7Jd138lA4hHGcHwsMxAtX4Mot4lQOLztpSLU0SZM=', 'HTTPStatusCode': 200, 'HTTPHeaders': {'x-amz-id-2': 'CXEmbIwsTPPPbdutzV03ul3rcbmtUGhPp5R7Jd138lA4hHGcHwsMxAtX4Mot4lQOLztpSLU0SZM=', 'x-amz-request-id': 'FTQBQBGXR3A9WFGA', 'date': 'Mon, 03 Apr 2023 16:52:08 GMT', 'x-amz-bucket-region': 'us-east-1', 'x-amz-access-point-alias': 'false', 'content-type': 'application/xml', 'server': 'AmazonS3'}, 'RetryAttempts': 0}}\n"
     ]
    }
   ],
   "source": [
    "response = None\n",
    "\n",
    "try:\n",
    "    response = s3.head_bucket(Bucket=bucket)\n",
    "    print(response)\n",
    "    setup_s3_bucket_passed = True\n",
    "except ClientError as e:\n",
    "    print(f\"[ERROR] Cannot find bucket {bucket} in {response} due to {e}.\")"
   ]
  },
  {
   "cell_type": "code",
   "execution_count": 9,
   "id": "58668029-ed3a-478a-9c90-01f6db041edb",
   "metadata": {},
   "outputs": [
    {
     "name": "stdout",
     "output_type": "stream",
     "text": [
      "Stored 'setup_s3_bucket_passed' (bool)\n"
     ]
    }
   ],
   "source": [
    "%store setup_s3_bucket_passed"
   ]
  },
  {
   "cell_type": "markdown",
   "id": "2ea0232b-3373-406b-addb-3bd73572884a",
   "metadata": {},
   "source": [
    "## Pass in train and test X from CSV"
   ]
  },
  {
   "cell_type": "code",
   "execution_count": 10,
   "id": "39061b0e-220f-48bc-b392-9a1e7c18de33",
   "metadata": {},
   "outputs": [
    {
     "name": "stdout",
     "output_type": "stream",
     "text": [
      "(25284, 48)\n",
      "\n",
      "(6321, 48)\n"
     ]
    }
   ],
   "source": [
    "s3_train_x01_csv_path = f\"s3://{def_bucket}/team_8_data/modeling_data/train_x01.csv\"\n",
    "train_x01 = pd.read_csv(s3_train_x01_csv_path)\n",
    "s3_test_x01_csv_path = f\"s3://{def_bucket}/team_8_data/modeling_data/test_x01.csv\"\n",
    "test_x01 = pd.read_csv(s3_test_x01_csv_path)\n",
    "\n",
    "print(f'{train_x01.shape}')\n",
    "print(f'\\n{test_x01.shape}')"
   ]
  },
  {
   "cell_type": "markdown",
   "id": "8906d20b-871d-4a6c-8fd2-0d363c49d3ee",
   "metadata": {},
   "source": [
    "## Pass in train and test y from np array"
   ]
  },
  {
   "cell_type": "code",
   "execution_count": 11,
   "id": "52d90171-b637-4458-a57c-bc3bc86372f4",
   "metadata": {},
   "outputs": [
    {
     "name": "stdout",
     "output_type": "stream",
     "text": [
      "(25284, 1)\n",
      "(6321, 1)\n"
     ]
    }
   ],
   "source": [
    "# Define the S3 object key\n",
    "train_y01_s3_key = 'team_8_data/modeling_data/train_y01.npy'\n",
    "\n",
    "# Load the numpy array from S3\n",
    "with BytesIO() as data:\n",
    "    s3.download_fileobj(def_bucket, train_y01_s3_key, data)\n",
    "    data.seek(0)\n",
    "    train_y01 = np.load(data)\n",
    "\n",
    "# Define the S3 object key\n",
    "test_y01_s3_key = 'team_8_data/modeling_data/test_y01.npy'\n",
    "\n",
    "# Load the numpy array from S3\n",
    "with BytesIO() as data:\n",
    "    s3.download_fileobj(def_bucket, test_y01_s3_key, data)\n",
    "    data.seek(0)\n",
    "    test_y01 = np.load(data)\n",
    "\n",
    "# Confirm that the numpy array was loaded from S3\n",
    "print(f'{train_y01.shape}')\n",
    "print(f'{test_y01.shape}')"
   ]
  },
  {
   "cell_type": "markdown",
   "id": "f964692a-cf34-4755-bd98-14ce4acd8c93",
   "metadata": {},
   "source": [
    "## Model Training using Grid search with 5-fold cross-validation"
   ]
  },
  {
   "cell_type": "markdown",
   "id": "67effbbc-6281-49a2-8ae8-8424eba5a4f5",
   "metadata": {},
   "source": [
    "### Neural Network"
   ]
  },
  {
   "cell_type": "code",
   "execution_count": 12,
   "id": "fc11cbc6-c656-4b38-89d0-ecb204542df7",
   "metadata": {
    "tags": []
   },
   "outputs": [
    {
     "name": "stdout",
     "output_type": "stream",
     "text": [
      "Fitting 5 folds for each of 36 candidates, totalling 180 fits\n"
     ]
    },
    {
     "name": "stderr",
     "output_type": "stream",
     "text": [
      "[Parallel(n_jobs=2)]: Using backend LokyBackend with 2 concurrent workers.\n",
      "[Parallel(n_jobs=2)]: Done  37 tasks      | elapsed: 12.0min\n",
      "[Parallel(n_jobs=2)]: Done 158 tasks      | elapsed: 46.1min\n",
      "[Parallel(n_jobs=2)]: Done 180 out of 180 | elapsed: 52.0min finished\n",
      "/opt/conda/lib/python3.7/site-packages/sklearn/neural_network/_multilayer_perceptron.py:1342: DataConversionWarning: A column-vector y was passed when a 1d array was expected. Please change the shape of y to (n_samples, ), for example using ravel().\n",
      "  y = column_or_1d(y, warn=True)\n"
     ]
    },
    {
     "name": "stdout",
     "output_type": "stream",
     "text": [
      "Best Estimator:\n",
      "Pipeline(memory=None,\n",
      "         steps=[('si',\n",
      "                 SimpleImputer(add_indicator=False, copy=True, fill_value=None,\n",
      "                               missing_values=nan, strategy='median',\n",
      "                               verbose=0)),\n",
      "                ('ss',\n",
      "                 StandardScaler(copy=True, with_mean=True, with_std=True)),\n",
      "                ('nn',\n",
      "                 MLPRegressor(activation='relu', alpha=0.0001,\n",
      "                              batch_size='auto', beta_1=0.9, beta_2=0.999,\n",
      "                              early_stopping=False, epsilon=1e-08,\n",
      "                              hidden_layer_sizes=[50, 50],\n",
      "                              learning_rate='constant',\n",
      "                              learning_rate_init=0.001, max_fun=15000,\n",
      "                              max_iter=200, momentum=0.9, n_iter_no_change=10,\n",
      "                              nesterovs_momentum=True, power_t=0.5,\n",
      "                              random_state=1699, shuffle=True, solver='adam',\n",
      "                              tol=0.0001, validation_fraction=0.1,\n",
      "                              verbose=False, warm_start=False))],\n",
      "         verbose=False)\n",
      "    mean_fit_time  std_fit_time  mean_score_time  std_score_time  \\\n",
      "0       33.667158      0.777223         0.033018        0.001206   \n",
      "1       33.635767      0.888072         0.032571        0.000231   \n",
      "2       46.060047      0.548136         0.048212        0.008583   \n",
      "3       45.332855      0.326343         0.048835        0.010679   \n",
      "4       38.375779      0.836559         0.048537        0.028793   \n",
      "5       37.575850      0.935446         0.031585        0.001673   \n",
      "6       33.134551      0.517984         0.033161        0.000406   \n",
      "7       32.644002      0.419478         0.032260        0.001190   \n",
      "8       45.060609      0.634258         0.042065        0.000687   \n",
      "9       44.811748      0.377252         0.042551        0.000347   \n",
      "10      37.081683      0.368700         0.034463        0.002404   \n",
      "11      36.878416      0.649533         0.032805        0.000434   \n",
      "12      32.753272      0.551222         0.032962        0.000795   \n",
      "13      32.764994      0.491490         0.033172        0.001591   \n",
      "14      45.293813      0.861924         0.042758        0.000731   \n",
      "15      44.860143      0.440849         0.043077        0.000803   \n",
      "16      36.689507      0.489473         0.032746        0.000253   \n",
      "17      37.306661      0.391238         0.032953        0.000312   \n",
      "18      25.452249      0.308026         0.017674        0.000623   \n",
      "19      26.112231      0.758505         0.017211        0.000497   \n",
      "20      34.451634      0.996340         0.020085        0.000393   \n",
      "21      34.328026      0.805545         0.022204        0.004568   \n",
      "22      30.915882      0.432341         0.017141        0.000386   \n",
      "23      30.986902      0.695516         0.017149        0.000267   \n",
      "24      31.286959      3.604348         0.018480        0.002304   \n",
      "25      26.481329      0.997035         0.017672        0.000445   \n",
      "26      33.367254      0.443924         0.019866        0.000300   \n",
      "27      33.468436      0.207426         0.020008        0.000295   \n",
      "28      31.058546      0.474498         0.018525        0.001887   \n",
      "29      30.960427      0.542675         0.017511        0.000754   \n",
      "30      25.558126      0.211622         0.017218        0.000173   \n",
      "31      25.934361      0.328839         0.017657        0.000287   \n",
      "32      34.013685      0.786819         0.020317        0.000646   \n",
      "33      34.234049      0.681908         0.020335        0.000295   \n",
      "34      31.387921      0.760227         0.018230        0.001022   \n",
      "35      30.810189      0.493873         0.016169        0.002245   \n",
      "\n",
      "   param_nn__activation param_nn__alpha param_nn__hidden_layer_sizes  \\\n",
      "0              logistic          0.0001                        [100]   \n",
      "1              logistic          0.0001                        [100]   \n",
      "2              logistic          0.0001                        [154]   \n",
      "3              logistic          0.0001                        [154]   \n",
      "4              logistic          0.0001                     [50, 50]   \n",
      "5              logistic          0.0001                     [50, 50]   \n",
      "6              logistic          0.0005                        [100]   \n",
      "7              logistic          0.0005                        [100]   \n",
      "8              logistic          0.0005                        [154]   \n",
      "9              logistic          0.0005                        [154]   \n",
      "10             logistic          0.0005                     [50, 50]   \n",
      "11             logistic          0.0005                     [50, 50]   \n",
      "12             logistic           0.001                        [100]   \n",
      "13             logistic           0.001                        [100]   \n",
      "14             logistic           0.001                        [154]   \n",
      "15             logistic           0.001                        [154]   \n",
      "16             logistic           0.001                     [50, 50]   \n",
      "17             logistic           0.001                     [50, 50]   \n",
      "18                 relu          0.0001                        [100]   \n",
      "19                 relu          0.0001                        [100]   \n",
      "20                 relu          0.0001                        [154]   \n",
      "21                 relu          0.0001                        [154]   \n",
      "22                 relu          0.0001                     [50, 50]   \n",
      "23                 relu          0.0001                     [50, 50]   \n",
      "24                 relu          0.0005                        [100]   \n",
      "25                 relu          0.0005                        [100]   \n",
      "26                 relu          0.0005                        [154]   \n",
      "27                 relu          0.0005                        [154]   \n",
      "28                 relu          0.0005                     [50, 50]   \n",
      "29                 relu          0.0005                     [50, 50]   \n",
      "30                 relu           0.001                        [100]   \n",
      "31                 relu           0.001                        [100]   \n",
      "32                 relu           0.001                        [154]   \n",
      "33                 relu           0.001                        [154]   \n",
      "34                 relu           0.001                     [50, 50]   \n",
      "35                 relu           0.001                     [50, 50]   \n",
      "\n",
      "   param_nn__learning_rate param_nn__solver  \\\n",
      "0                 constant             adam   \n",
      "1               invscaling             adam   \n",
      "2                 constant             adam   \n",
      "3               invscaling             adam   \n",
      "4                 constant             adam   \n",
      "5               invscaling             adam   \n",
      "6                 constant             adam   \n",
      "7               invscaling             adam   \n",
      "8                 constant             adam   \n",
      "9               invscaling             adam   \n",
      "10                constant             adam   \n",
      "11              invscaling             adam   \n",
      "12                constant             adam   \n",
      "13              invscaling             adam   \n",
      "14                constant             adam   \n",
      "15              invscaling             adam   \n",
      "16                constant             adam   \n",
      "17              invscaling             adam   \n",
      "18                constant             adam   \n",
      "19              invscaling             adam   \n",
      "20                constant             adam   \n",
      "21              invscaling             adam   \n",
      "22                constant             adam   \n",
      "23              invscaling             adam   \n",
      "24                constant             adam   \n",
      "25              invscaling             adam   \n",
      "26                constant             adam   \n",
      "27              invscaling             adam   \n",
      "28                constant             adam   \n",
      "29              invscaling             adam   \n",
      "30                constant             adam   \n",
      "31              invscaling             adam   \n",
      "32                constant             adam   \n",
      "33              invscaling             adam   \n",
      "34                constant             adam   \n",
      "35              invscaling             adam   \n",
      "\n",
      "                                               params  split0_test_score  \\\n",
      "0   {'nn__activation': 'logistic', 'nn__alpha': 0....          -7.896606   \n",
      "1   {'nn__activation': 'logistic', 'nn__alpha': 0....          -7.896606   \n",
      "2   {'nn__activation': 'logistic', 'nn__alpha': 0....          -6.634038   \n",
      "3   {'nn__activation': 'logistic', 'nn__alpha': 0....          -6.634038   \n",
      "4   {'nn__activation': 'logistic', 'nn__alpha': 0....          -4.863808   \n",
      "5   {'nn__activation': 'logistic', 'nn__alpha': 0....          -4.863808   \n",
      "6   {'nn__activation': 'logistic', 'nn__alpha': 0....          -7.896162   \n",
      "7   {'nn__activation': 'logistic', 'nn__alpha': 0....          -7.896162   \n",
      "8   {'nn__activation': 'logistic', 'nn__alpha': 0....          -6.631015   \n",
      "9   {'nn__activation': 'logistic', 'nn__alpha': 0....          -6.631015   \n",
      "10  {'nn__activation': 'logistic', 'nn__alpha': 0....          -4.865442   \n",
      "11  {'nn__activation': 'logistic', 'nn__alpha': 0....          -4.865442   \n",
      "12  {'nn__activation': 'logistic', 'nn__alpha': 0....          -7.896077   \n",
      "13  {'nn__activation': 'logistic', 'nn__alpha': 0....          -7.896077   \n",
      "14  {'nn__activation': 'logistic', 'nn__alpha': 0....          -6.627105   \n",
      "15  {'nn__activation': 'logistic', 'nn__alpha': 0....          -6.627105   \n",
      "16  {'nn__activation': 'logistic', 'nn__alpha': 0....          -4.867651   \n",
      "17  {'nn__activation': 'logistic', 'nn__alpha': 0....          -4.867651   \n",
      "18  {'nn__activation': 'relu', 'nn__alpha': 0.0001...          -4.666096   \n",
      "19  {'nn__activation': 'relu', 'nn__alpha': 0.0001...          -4.666096   \n",
      "20  {'nn__activation': 'relu', 'nn__alpha': 0.0001...          -3.280876   \n",
      "21  {'nn__activation': 'relu', 'nn__alpha': 0.0001...          -3.280876   \n",
      "22  {'nn__activation': 'relu', 'nn__alpha': 0.0001...          -2.108900   \n",
      "23  {'nn__activation': 'relu', 'nn__alpha': 0.0001...          -2.108900   \n",
      "24  {'nn__activation': 'relu', 'nn__alpha': 0.0005...          -4.608422   \n",
      "25  {'nn__activation': 'relu', 'nn__alpha': 0.0005...          -4.608422   \n",
      "26  {'nn__activation': 'relu', 'nn__alpha': 0.0005...          -3.237069   \n",
      "27  {'nn__activation': 'relu', 'nn__alpha': 0.0005...          -3.237069   \n",
      "28  {'nn__activation': 'relu', 'nn__alpha': 0.0005...          -2.204875   \n",
      "29  {'nn__activation': 'relu', 'nn__alpha': 0.0005...          -2.204875   \n",
      "30  {'nn__activation': 'relu', 'nn__alpha': 0.001,...          -4.605848   \n",
      "31  {'nn__activation': 'relu', 'nn__alpha': 0.001,...          -4.605848   \n",
      "32  {'nn__activation': 'relu', 'nn__alpha': 0.001,...          -3.286169   \n",
      "33  {'nn__activation': 'relu', 'nn__alpha': 0.001,...          -3.286169   \n",
      "34  {'nn__activation': 'relu', 'nn__alpha': 0.001,...          -2.357422   \n",
      "35  {'nn__activation': 'relu', 'nn__alpha': 0.001,...          -2.357422   \n",
      "\n",
      "    split1_test_score  split2_test_score  split3_test_score  \\\n",
      "0           -8.060608          -7.680067          -7.944964   \n",
      "1           -8.060608          -7.680067          -7.944964   \n",
      "2           -6.516264          -6.274278          -6.410227   \n",
      "3           -6.516264          -6.274278          -6.410227   \n",
      "4           -4.809287          -4.601219          -4.701617   \n",
      "5           -4.809287          -4.601219          -4.701617   \n",
      "6           -8.060553          -7.680665          -7.943558   \n",
      "7           -8.060553          -7.680665          -7.943558   \n",
      "8           -6.512971          -6.286705          -6.403424   \n",
      "9           -6.512971          -6.286705          -6.403424   \n",
      "10          -4.808104          -4.603009          -4.719953   \n",
      "11          -4.808104          -4.603009          -4.719953   \n",
      "12          -8.065892          -7.681282          -7.941494   \n",
      "13          -8.065892          -7.681282          -7.941494   \n",
      "14          -6.510025          -6.282591          -6.409070   \n",
      "15          -6.510025          -6.282591          -6.409070   \n",
      "16          -4.806735          -4.605292          -4.715654   \n",
      "17          -4.806735          -4.605292          -4.715654   \n",
      "18          -4.694414          -4.506066          -4.681871   \n",
      "19          -4.694414          -4.506066          -4.681871   \n",
      "20          -3.282632          -3.182136          -3.263523   \n",
      "21          -3.282632          -3.182136          -3.263523   \n",
      "22          -1.896801          -1.918083          -1.889855   \n",
      "23          -1.896801          -1.918083          -1.889855   \n",
      "24          -4.635379          -4.493020          -4.741592   \n",
      "25          -4.635379          -4.493020          -4.741592   \n",
      "26          -3.113639          -3.156231          -3.130845   \n",
      "27          -3.113639          -3.156231          -3.130845   \n",
      "28          -1.958592          -1.977115          -1.989675   \n",
      "29          -1.958592          -1.977115          -1.989675   \n",
      "30          -4.672005          -4.562269          -4.612202   \n",
      "31          -4.672005          -4.562269          -4.612202   \n",
      "32          -3.227098          -3.092131          -3.214182   \n",
      "33          -3.227098          -3.092131          -3.214182   \n",
      "34          -1.723606          -2.042286          -1.858113   \n",
      "35          -1.723606          -2.042286          -1.858113   \n",
      "\n",
      "    split4_test_score  mean_test_score  std_test_score  rank_test_score  \n",
      "0           -7.959954        -7.908440        0.126045               33  \n",
      "1           -7.959954        -7.908440        0.126045               33  \n",
      "2           -6.358542        -6.438670        0.125255               29  \n",
      "3           -6.358542        -6.438670        0.125255               29  \n",
      "4           -4.477560        -4.690698        0.139703               19  \n",
      "5           -4.477560        -4.690698        0.139703               19  \n",
      "6           -7.960021        -7.908192        0.125749               31  \n",
      "7           -7.960021        -7.908192        0.125749               31  \n",
      "8           -6.358937        -6.438610        0.121004               25  \n",
      "9           -6.358937        -6.438610        0.121004               25  \n",
      "10          -4.483240        -4.695950        0.138395               23  \n",
      "11          -4.483240        -4.695950        0.138395               23  \n",
      "12          -7.959886        -7.908926        0.126714               35  \n",
      "13          -7.959886        -7.908926        0.126714               35  \n",
      "14          -6.364293        -6.438617        0.119472               27  \n",
      "15          -6.364293        -6.438617        0.119472               27  \n",
      "16          -4.483894        -4.695845        0.138079               21  \n",
      "17          -4.483894        -4.695845        0.138079               21  \n",
      "18          -4.427547        -4.595199        0.108105               17  \n",
      "19          -4.427547        -4.595199        0.108105               17  \n",
      "20          -3.181515        -3.238136        0.046461               11  \n",
      "21          -3.181515        -3.238136        0.046461               11  \n",
      "22          -2.053977        -1.973523        0.090289                1  \n",
      "23          -2.053977        -1.973523        0.090289                1  \n",
      "24          -4.433001        -4.582283        0.108752               13  \n",
      "25          -4.433001        -4.582283        0.108752               13  \n",
      "26          -3.185771        -3.164711        0.043603                7  \n",
      "27          -3.185771        -3.164711        0.043603                7  \n",
      "28          -2.058354        -2.037722        0.090121                5  \n",
      "29          -2.058354        -2.037722        0.090121                5  \n",
      "30          -4.472001        -4.584865        0.066378               15  \n",
      "31          -4.472001        -4.584865        0.066378               15  \n",
      "32          -3.241769        -3.212270        0.064789                9  \n",
      "33          -3.241769        -3.212270        0.064789                9  \n",
      "34          -2.178614        -2.032008        0.224875                3  \n",
      "35          -2.178614        -2.032008        0.224875                3  \n",
      "[ 4.28293275  2.18191705 33.20368091 ...  3.45754319 14.47807899\n",
      " -0.44166575]\n",
      "[38.92433822  0.11251085 36.38252318 ...  0.92623887  4.94974899\n",
      " 15.95351146]\n",
      "Train R-sq:\n",
      "0.9948398728404513\n",
      "Test R-sq:\n",
      "0.9941566166765957\n",
      "Train RMSE:\n",
      "1.3577823734415249\n",
      "Test RMSE:\n",
      "1.4608778066443278\n",
      "End Time = 2023-04-03 17:44:45.058790\n",
      "Script Time = 0:52:36.254874\n"
     ]
    },
    {
     "name": "stderr",
     "output_type": "stream",
     "text": [
      "/opt/conda/lib/python3.7/site-packages/sklearn/neural_network/_multilayer_perceptron.py:571: ConvergenceWarning: Stochastic Optimizer: Maximum iterations (200) reached and the optimization hasn't converged yet.\n",
      "  % self.max_iter, ConvergenceWarning)\n"
     ]
    }
   ],
   "source": [
    "# Start timer script\n",
    "start_time = dt.datetime.today()\n",
    "\n",
    "# Citation: Hochberg, 2018; Shanmukh, 2021\n",
    "m2v1_pip = Pipeline([('si', SimpleImputer(strategy='median')),\n",
    "                     ('ss', StandardScaler()),\n",
    "                     ('nn', MLPRegressor(random_state=1699))])\n",
    "\n",
    "nodes_h = 3\n",
    "predictors_p = 49\n",
    "\n",
    "hidden_layer_sizes_hparam = [[100,],\n",
    "                             [(nodes_h*(predictors_p+1))+nodes_h+1,],\n",
    "                             [50, 50]\n",
    "                            ]\n",
    "activation_hparam = ['logistic', 'relu']\n",
    "solver_hparam = ['adam']\n",
    "alpha_hparam = [.0001, .0005, .001]\n",
    "learn_rate_hparam = ['constant', 'invscaling']\n",
    "\n",
    "#hidden_layer_sizes_hparam = [[100,]]\n",
    "#activation_hparam = ['relu']\n",
    "#solver_hparam = ['adam']\n",
    "#alpha_hparam = [.0001]\n",
    "#learn_rate_hparam = ['invscaling']\n",
    "\n",
    "m2v1_grd = {'nn__hidden_layer_sizes': hidden_layer_sizes_hparam,\n",
    "            'nn__activation': activation_hparam,\n",
    "            'nn__solver': solver_hparam,\n",
    "            'nn__alpha': alpha_hparam,\n",
    "            'nn__learning_rate': learn_rate_hparam\n",
    "           }\n",
    "\n",
    "m2v1_nn = GridSearchCV(m2v1_pip,\n",
    "                       m2v1_grd,\n",
    "                       scoring='neg_root_mean_squared_error',\n",
    "                       n_jobs=2,\n",
    "                       refit=True,\n",
    "                       verbose=2)\n",
    "\n",
    "m2v1_nn.fit(train_x01, train_y01)\n",
    "\n",
    "print(f'Best Estimator:\\n{m2v1_nn.best_estimator_}')\n",
    "\n",
    "print(pd.DataFrame(m2v1_nn.cv_results_))\n",
    "\n",
    "train_m2v1_y01_pred = m2v1_nn.predict(train_x01)\n",
    "print(train_m2v1_y01_pred)\n",
    "\n",
    "test_m2v1_y01_pred = m2v1_nn.predict(test_x01)\n",
    "print(test_m2v1_y01_pred)\n",
    "\n",
    "# Display evaluation metrics\n",
    "# R-sq\n",
    "train_m2v1_nn_r2 = r2_score(train_y01, train_m2v1_y01_pred)\n",
    "test_m2v1_nn_r2 = r2_score(test_y01, test_m2v1_y01_pred)\n",
    "\n",
    "print(f'Train R-sq:\\n{train_m2v1_nn_r2}')\n",
    "print(f'Test R-sq:\\n{test_m2v1_nn_r2}')\n",
    "\n",
    "# RMSE\n",
    "train_m2v1_nn_rmse = mean_squared_error(train_y01, train_m2v1_y01_pred, squared=False)\n",
    "test_m2v1_nn_rmse = mean_squared_error(test_y01, test_m2v1_y01_pred, squared=False)\n",
    "\n",
    "print(f'Train RMSE:\\n{train_m2v1_nn_rmse}')\n",
    "print(f'Test RMSE:\\n{test_m2v1_nn_rmse}')\n",
    "\n",
    "# End timer script\n",
    "end_time = dt.datetime.today()\n",
    "time_elapse = end_time - start_time\n",
    "print(f'End Time = {end_time}')\n",
    "print(f'Script Time = {time_elapse}')"
   ]
  },
  {
   "cell_type": "code",
   "execution_count": 13,
   "id": "f60a9861-cbb4-4044-89a9-9b5683cb5cda",
   "metadata": {},
   "outputs": [],
   "source": [
    "s3_m2v1_nn_pqt_base_path = f\"../models\"\n",
    "\n",
    "if not os.path.exists(s3_m2v1_nn_pqt_base_path):\n",
    "    os.makedirs(s3_m2v1_nn_pqt_base_path)\n",
    "\n",
    "s3_m2v1_nn_pqt_path = os.path.join(s3_m2v1_nn_pqt_base_path,\n",
    "                                   'm2v1_nn.parquet')\n",
    "\n",
    "# save the model to disk using joblib\n",
    "joblib.dump(m2v1_nn,\n",
    "            s3_m2v1_nn_pqt_path)\n",
    "\n",
    "# load the saved model from disk using joblib\n",
    "m2v1_nn_fitted = joblib.load(s3_m2v1_nn_pqt_path)"
   ]
  },
  {
   "cell_type": "markdown",
   "id": "bf825858-d3cc-45a7-926a-554144059c73",
   "metadata": {},
   "source": [
    "### Lasso - Using `GridSearchCV`"
   ]
  },
  {
   "cell_type": "code",
   "execution_count": 14,
   "id": "2738b762-9315-4768-ad58-bcbc5d2e111c",
   "metadata": {
    "tags": []
   },
   "outputs": [
    {
     "name": "stdout",
     "output_type": "stream",
     "text": [
      "Fitting 5 folds for each of 12 candidates, totalling 60 fits\n"
     ]
    },
    {
     "name": "stderr",
     "output_type": "stream",
     "text": [
      "[Parallel(n_jobs=2)]: Using backend LokyBackend with 2 concurrent workers.\n",
      "[Parallel(n_jobs=2)]: Done  37 tasks      | elapsed:   14.9s\n",
      "[Parallel(n_jobs=2)]: Done  60 out of  60 | elapsed:   19.6s finished\n"
     ]
    },
    {
     "name": "stdout",
     "output_type": "stream",
     "text": [
      "Best Estimator:\n",
      "Pipeline(memory=None,\n",
      "         steps=[('si',\n",
      "                 SimpleImputer(add_indicator=False, copy=True, fill_value=None,\n",
      "                               missing_values=nan, strategy='median',\n",
      "                               verbose=0)),\n",
      "                ('ss',\n",
      "                 StandardScaler(copy=True, with_mean=True, with_std=True)),\n",
      "                ('ls',\n",
      "                 Lasso(alpha=0.01, copy_X=True, fit_intercept=True,\n",
      "                       max_iter=1000, normalize=False, positive=False,\n",
      "                       precompute=False, random_state=1699, selection='random',\n",
      "                       tol=0.0001, warm_start=False))],\n",
      "         verbose=False)\n",
      "Coefficients:\n",
      "[-0.04577328  1.16271284  0.         -1.02188349  1.13824356 -0.\n",
      " -0.          0.          0.02926359 -0.         -0.02410066 -0.\n",
      "  0.01199356 -0.         -0.          0.         -0.          2.92818225\n",
      "  2.50144703  5.6083571   1.40163864 -2.3430507  -1.18949503 -0.33823435\n",
      " -1.36576657 -3.47372848 -6.79346366  0.12910537  0.20835838 -0.04815575\n",
      " -0.51853259  2.1504569   0.72949465 -0.44586032  0.         -1.47779658\n",
      " -0.4831309   0.          1.54019508  0.49112942  0.56203387 -0.72541539\n",
      " -8.1631541   0.40609409 -1.28560838  0.46767281  0.73587244  1.62060247]\n",
      "    mean_fit_time  std_fit_time  mean_score_time  std_score_time  \\\n",
      "0        1.027307      0.072258         0.011246        0.000693   \n",
      "1        1.526136      0.129519         0.010387        0.001500   \n",
      "2        0.440268      0.008162         0.009594        0.001787   \n",
      "3        0.826586      0.197969         0.009851        0.001449   \n",
      "4        0.445516      0.013640         0.010205        0.001174   \n",
      "5        1.135026      0.466847         0.009657        0.001854   \n",
      "6        0.292140      0.038353         0.008298        0.001644   \n",
      "7        0.320668      0.021699         0.008363        0.000550   \n",
      "8        0.348859      0.070217         0.017895        0.012717   \n",
      "9        0.731927      0.309746         0.017462        0.008376   \n",
      "10       0.244269      0.004596         0.009290        0.000809   \n",
      "11       0.233341      0.040002         0.009177        0.001830   \n",
      "\n",
      "   param_ls__alpha param_ls__selection  \\\n",
      "0             0.01              cyclic   \n",
      "1             0.01              random   \n",
      "2             0.05              cyclic   \n",
      "3             0.05              random   \n",
      "4              0.1              cyclic   \n",
      "5              0.1              random   \n",
      "6              0.5              cyclic   \n",
      "7              0.5              random   \n",
      "8                1              cyclic   \n",
      "9                1              random   \n",
      "10               2              cyclic   \n",
      "11               2              random   \n",
      "\n",
      "                                            params  split0_test_score  \\\n",
      "0   {'ls__alpha': 0.01, 'ls__selection': 'cyclic'}         -11.378622   \n",
      "1   {'ls__alpha': 0.01, 'ls__selection': 'random'}         -11.378487   \n",
      "2   {'ls__alpha': 0.05, 'ls__selection': 'cyclic'}         -11.381011   \n",
      "3   {'ls__alpha': 0.05, 'ls__selection': 'random'}         -11.380911   \n",
      "4    {'ls__alpha': 0.1, 'ls__selection': 'cyclic'}         -11.396508   \n",
      "5    {'ls__alpha': 0.1, 'ls__selection': 'random'}         -11.396574   \n",
      "6    {'ls__alpha': 0.5, 'ls__selection': 'cyclic'}         -11.806394   \n",
      "7    {'ls__alpha': 0.5, 'ls__selection': 'random'}         -11.806288   \n",
      "8      {'ls__alpha': 1, 'ls__selection': 'cyclic'}         -12.008540   \n",
      "9      {'ls__alpha': 1, 'ls__selection': 'random'}         -12.008700   \n",
      "10     {'ls__alpha': 2, 'ls__selection': 'cyclic'}         -12.496541   \n",
      "11     {'ls__alpha': 2, 'ls__selection': 'random'}         -12.496534   \n",
      "\n",
      "    split1_test_score  split2_test_score  split3_test_score  \\\n",
      "0          -11.391382         -11.411045         -11.505769   \n",
      "1          -11.391378         -11.411014         -11.505288   \n",
      "2          -11.384965         -11.423042         -11.519926   \n",
      "3          -11.384859         -11.423228         -11.520247   \n",
      "4          -11.408320         -11.450277         -11.549378   \n",
      "5          -11.408500         -11.450586         -11.550226   \n",
      "6          -11.866156         -11.935607         -12.014084   \n",
      "7          -11.866342         -11.935859         -12.014299   \n",
      "8          -12.112724         -12.186260         -12.226056   \n",
      "9          -12.112880         -12.186494         -12.226203   \n",
      "10         -12.607476         -12.682111         -12.710059   \n",
      "11         -12.607472         -12.682084         -12.710063   \n",
      "\n",
      "    split4_test_score  mean_test_score  std_test_score  rank_test_score  \n",
      "0          -11.386551       -11.414674        0.046786                2  \n",
      "1          -11.386614       -11.414556        0.046613                1  \n",
      "2          -11.395211       -11.420831        0.051678                3  \n",
      "3          -11.395461       -11.420941        0.051808                4  \n",
      "4          -11.417847       -11.444466        0.055417                5  \n",
      "5          -11.418167       -11.444811        0.055679                6  \n",
      "6          -11.850882       -11.894625        0.072744                7  \n",
      "7          -11.851056       -11.894769        0.072834                8  \n",
      "8          -12.081994       -12.123115        0.076825                9  \n",
      "9          -12.082092       -12.123274        0.076840               10  \n",
      "10         -12.596496       -12.618537        0.074712               11  \n",
      "11         -12.596565       -12.618544        0.074706               12  \n",
      "[ 1.00912042  2.11578233 20.65156726 ...  5.04336003 20.69816125\n",
      "  9.29922202]\n",
      "[43.29747345  3.29283668 36.55231188 ... -0.46895826  1.17582424\n",
      "  3.26821323]\n",
      "Train R-sq:\n",
      "0.6369222804126817\n",
      "Test R-sq:\n",
      "0.6479588276300332\n",
      "Train RMSE:\n",
      "11.38937162907483\n",
      "Test RMSE:\n",
      "11.339096004339149\n",
      "End Time = 2023-04-03 17:45:05.926470\n",
      "Script Time = 0:00:20.741898\n"
     ]
    }
   ],
   "source": [
    "# Start timer script\n",
    "start_time = dt.datetime.today()\n",
    "\n",
    "# Citation: Hochberg, 2018; Shanmukh, 2021\n",
    "m3v1_ls_pip = Pipeline([('si', SimpleImputer(strategy='median')),\n",
    "                        ('ss', StandardScaler()),\n",
    "                        ('ls', Lasso(random_state=1699))])\n",
    "\n",
    "alpha_hparam = [.01, .05, .1, .5, 1, 2]\n",
    "selection_hparam = ['cyclic', 'random']\n",
    "\n",
    "\n",
    "m3v1_ls_grd = {'ls__alpha': alpha_hparam,\n",
    "               'ls__selection': selection_hparam\n",
    "           }\n",
    "\n",
    "m3v1_ls = GridSearchCV(m3v1_ls_pip,\n",
    "                       m3v1_ls_grd,\n",
    "                       scoring='neg_root_mean_squared_error',\n",
    "                       n_jobs=2,\n",
    "                       refit=True,\n",
    "                       verbose=2)\n",
    "\n",
    "m3v1_ls.fit(train_x01, train_y01)\n",
    "\n",
    "print(f'Best Estimator:\\n{m3v1_ls.best_estimator_}')\n",
    "print(f'Coefficients:\\n{m3v1_ls.best_estimator_.named_steps[\"ls\"].coef_}')\n",
    "\n",
    "print(pd.DataFrame(m3v1_ls.cv_results_))\n",
    "\n",
    "train_m3v1_ls_y01_pred = m3v1_ls.predict(train_x01)\n",
    "print(train_m3v1_ls_y01_pred)\n",
    "\n",
    "test_m3v1_ls_y01_pred = m3v1_ls.predict(test_x01)\n",
    "print(test_m3v1_ls_y01_pred)\n",
    "\n",
    "# Display evaluation metrics\n",
    "# R-sq\n",
    "train_m3v1_ls_r2 = r2_score(train_y01, train_m3v1_ls_y01_pred)\n",
    "test_m3v1_ls_r2 = r2_score(test_y01, test_m3v1_ls_y01_pred)\n",
    "\n",
    "print(f'Train R-sq:\\n{train_m3v1_ls_r2}')\n",
    "print(f'Test R-sq:\\n{test_m3v1_ls_r2}')\n",
    "\n",
    "# RMSE\n",
    "train_m3v1_ls_rmse = mean_squared_error(train_y01, train_m3v1_ls_y01_pred, squared=False)\n",
    "test_m3v1_ls_rmse = mean_squared_error(test_y01, test_m3v1_ls_y01_pred, squared=False)\n",
    "\n",
    "print(f'Train RMSE:\\n{train_m3v1_ls_rmse}')\n",
    "print(f'Test RMSE:\\n{test_m3v1_ls_rmse}')\n",
    "\n",
    "# End timer script\n",
    "end_time = dt.datetime.today()\n",
    "time_elapse = end_time - start_time\n",
    "print(f'End Time = {end_time}')\n",
    "print(f'Script Time = {time_elapse}')"
   ]
  },
  {
   "cell_type": "code",
   "execution_count": 15,
   "id": "3f56e4e9-ab8a-42d1-89a0-e1795c560afa",
   "metadata": {
    "tags": []
   },
   "outputs": [
    {
     "data": {
      "text/html": [
       "<div>\n",
       "<style scoped>\n",
       "    .dataframe tbody tr th:only-of-type {\n",
       "        vertical-align: middle;\n",
       "    }\n",
       "\n",
       "    .dataframe tbody tr th {\n",
       "        vertical-align: top;\n",
       "    }\n",
       "\n",
       "    .dataframe thead th {\n",
       "        text-align: right;\n",
       "    }\n",
       "</style>\n",
       "<table border=\"1\" class=\"dataframe\">\n",
       "  <thead>\n",
       "    <tr style=\"text-align: right;\">\n",
       "      <th></th>\n",
       "      <th>0</th>\n",
       "      <th>0</th>\n",
       "    </tr>\n",
       "  </thead>\n",
       "  <tbody>\n",
       "    <tr>\n",
       "      <th>0</th>\n",
       "      <td>borough_bronx</td>\n",
       "      <td>-0.045773</td>\n",
       "    </tr>\n",
       "    <tr>\n",
       "      <th>1</th>\n",
       "      <td>borough_brooklyn</td>\n",
       "      <td>1.162713</td>\n",
       "    </tr>\n",
       "    <tr>\n",
       "      <th>2</th>\n",
       "      <td>borough_manhattan</td>\n",
       "      <td>0.000000</td>\n",
       "    </tr>\n",
       "    <tr>\n",
       "      <th>3</th>\n",
       "      <td>borough_queens</td>\n",
       "      <td>-1.021883</td>\n",
       "    </tr>\n",
       "    <tr>\n",
       "      <th>4</th>\n",
       "      <td>borough_staten island</td>\n",
       "      <td>1.138244</td>\n",
       "    </tr>\n",
       "    <tr>\n",
       "      <th>5</th>\n",
       "      <td>relative_data_year_-4</td>\n",
       "      <td>-0.000000</td>\n",
       "    </tr>\n",
       "    <tr>\n",
       "      <th>6</th>\n",
       "      <td>relative_data_year_-3</td>\n",
       "      <td>-0.000000</td>\n",
       "    </tr>\n",
       "    <tr>\n",
       "      <th>7</th>\n",
       "      <td>relative_data_year_-2</td>\n",
       "      <td>0.000000</td>\n",
       "    </tr>\n",
       "    <tr>\n",
       "      <th>8</th>\n",
       "      <td>relative_data_year_-1</td>\n",
       "      <td>0.029264</td>\n",
       "    </tr>\n",
       "    <tr>\n",
       "      <th>9</th>\n",
       "      <td>relative_data_year_0</td>\n",
       "      <td>-0.000000</td>\n",
       "    </tr>\n",
       "    <tr>\n",
       "      <th>10</th>\n",
       "      <td>complaint_type_FELONY</td>\n",
       "      <td>-0.024101</td>\n",
       "    </tr>\n",
       "    <tr>\n",
       "      <th>11</th>\n",
       "      <td>complaint_type_MISDEMEANOR</td>\n",
       "      <td>-0.000000</td>\n",
       "    </tr>\n",
       "    <tr>\n",
       "      <th>12</th>\n",
       "      <td>complaint_type_VIOLATION</td>\n",
       "      <td>0.011994</td>\n",
       "    </tr>\n",
       "    <tr>\n",
       "      <th>13</th>\n",
       "      <td>annual_evictions_x_borough</td>\n",
       "      <td>-0.000000</td>\n",
       "    </tr>\n",
       "    <tr>\n",
       "      <th>14</th>\n",
       "      <td>annual_complaint_counts</td>\n",
       "      <td>-0.000000</td>\n",
       "    </tr>\n",
       "    <tr>\n",
       "      <th>15</th>\n",
       "      <td>annual_grad_n</td>\n",
       "      <td>0.000000</td>\n",
       "    </tr>\n",
       "    <tr>\n",
       "      <th>16</th>\n",
       "      <td>annual_dropped_out_n</td>\n",
       "      <td>-0.000000</td>\n",
       "    </tr>\n",
       "    <tr>\n",
       "      <th>17</th>\n",
       "      <td>totalpop</td>\n",
       "      <td>2.928182</td>\n",
       "    </tr>\n",
       "    <tr>\n",
       "      <th>18</th>\n",
       "      <td>men</td>\n",
       "      <td>2.501447</td>\n",
       "    </tr>\n",
       "    <tr>\n",
       "      <th>19</th>\n",
       "      <td>women</td>\n",
       "      <td>5.608357</td>\n",
       "    </tr>\n",
       "    <tr>\n",
       "      <th>20</th>\n",
       "      <td>hispanic</td>\n",
       "      <td>1.401639</td>\n",
       "    </tr>\n",
       "    <tr>\n",
       "      <th>21</th>\n",
       "      <td>white</td>\n",
       "      <td>-2.343051</td>\n",
       "    </tr>\n",
       "    <tr>\n",
       "      <th>22</th>\n",
       "      <td>black</td>\n",
       "      <td>-1.189495</td>\n",
       "    </tr>\n",
       "    <tr>\n",
       "      <th>23</th>\n",
       "      <td>native</td>\n",
       "      <td>-0.338234</td>\n",
       "    </tr>\n",
       "    <tr>\n",
       "      <th>24</th>\n",
       "      <td>asian</td>\n",
       "      <td>-1.365767</td>\n",
       "    </tr>\n",
       "    <tr>\n",
       "      <th>25</th>\n",
       "      <td>citizen</td>\n",
       "      <td>-3.473728</td>\n",
       "    </tr>\n",
       "    <tr>\n",
       "      <th>26</th>\n",
       "      <td>income</td>\n",
       "      <td>-6.793464</td>\n",
       "    </tr>\n",
       "    <tr>\n",
       "      <th>27</th>\n",
       "      <td>incomeerr</td>\n",
       "      <td>0.129105</td>\n",
       "    </tr>\n",
       "    <tr>\n",
       "      <th>28</th>\n",
       "      <td>incomepercap</td>\n",
       "      <td>0.208358</td>\n",
       "    </tr>\n",
       "    <tr>\n",
       "      <th>29</th>\n",
       "      <td>incomepercaperr</td>\n",
       "      <td>-0.048156</td>\n",
       "    </tr>\n",
       "    <tr>\n",
       "      <th>30</th>\n",
       "      <td>professional</td>\n",
       "      <td>-0.518533</td>\n",
       "    </tr>\n",
       "    <tr>\n",
       "      <th>31</th>\n",
       "      <td>service</td>\n",
       "      <td>2.150457</td>\n",
       "    </tr>\n",
       "    <tr>\n",
       "      <th>32</th>\n",
       "      <td>office</td>\n",
       "      <td>0.729495</td>\n",
       "    </tr>\n",
       "    <tr>\n",
       "      <th>33</th>\n",
       "      <td>construction</td>\n",
       "      <td>-0.445860</td>\n",
       "    </tr>\n",
       "    <tr>\n",
       "      <th>34</th>\n",
       "      <td>production</td>\n",
       "      <td>0.000000</td>\n",
       "    </tr>\n",
       "    <tr>\n",
       "      <th>35</th>\n",
       "      <td>drive</td>\n",
       "      <td>-1.477797</td>\n",
       "    </tr>\n",
       "    <tr>\n",
       "      <th>36</th>\n",
       "      <td>carpool</td>\n",
       "      <td>-0.483131</td>\n",
       "    </tr>\n",
       "    <tr>\n",
       "      <th>37</th>\n",
       "      <td>transit</td>\n",
       "      <td>0.000000</td>\n",
       "    </tr>\n",
       "    <tr>\n",
       "      <th>38</th>\n",
       "      <td>walk</td>\n",
       "      <td>1.540195</td>\n",
       "    </tr>\n",
       "    <tr>\n",
       "      <th>39</th>\n",
       "      <td>othertransp</td>\n",
       "      <td>0.491129</td>\n",
       "    </tr>\n",
       "    <tr>\n",
       "      <th>40</th>\n",
       "      <td>workathome</td>\n",
       "      <td>0.562034</td>\n",
       "    </tr>\n",
       "    <tr>\n",
       "      <th>41</th>\n",
       "      <td>meancommute</td>\n",
       "      <td>-0.725415</td>\n",
       "    </tr>\n",
       "    <tr>\n",
       "      <th>42</th>\n",
       "      <td>employed</td>\n",
       "      <td>-8.163154</td>\n",
       "    </tr>\n",
       "    <tr>\n",
       "      <th>43</th>\n",
       "      <td>privatework</td>\n",
       "      <td>0.406094</td>\n",
       "    </tr>\n",
       "    <tr>\n",
       "      <th>44</th>\n",
       "      <td>publicwork</td>\n",
       "      <td>-1.285608</td>\n",
       "    </tr>\n",
       "    <tr>\n",
       "      <th>45</th>\n",
       "      <td>selfemployed</td>\n",
       "      <td>0.467673</td>\n",
       "    </tr>\n",
       "    <tr>\n",
       "      <th>46</th>\n",
       "      <td>familywork</td>\n",
       "      <td>0.735872</td>\n",
       "    </tr>\n",
       "    <tr>\n",
       "      <th>47</th>\n",
       "      <td>unemployment</td>\n",
       "      <td>1.620602</td>\n",
       "    </tr>\n",
       "    <tr>\n",
       "      <th>48</th>\n",
       "      <td>intercept</td>\n",
       "      <td>24.475273</td>\n",
       "    </tr>\n",
       "  </tbody>\n",
       "</table>\n",
       "</div>"
      ],
      "text/plain": [
       "                             0          0\n",
       "0                borough_bronx  -0.045773\n",
       "1             borough_brooklyn   1.162713\n",
       "2            borough_manhattan   0.000000\n",
       "3               borough_queens  -1.021883\n",
       "4        borough_staten island   1.138244\n",
       "5        relative_data_year_-4  -0.000000\n",
       "6        relative_data_year_-3  -0.000000\n",
       "7        relative_data_year_-2   0.000000\n",
       "8        relative_data_year_-1   0.029264\n",
       "9         relative_data_year_0  -0.000000\n",
       "10       complaint_type_FELONY  -0.024101\n",
       "11  complaint_type_MISDEMEANOR  -0.000000\n",
       "12    complaint_type_VIOLATION   0.011994\n",
       "13  annual_evictions_x_borough  -0.000000\n",
       "14     annual_complaint_counts  -0.000000\n",
       "15               annual_grad_n   0.000000\n",
       "16        annual_dropped_out_n  -0.000000\n",
       "17                    totalpop   2.928182\n",
       "18                         men   2.501447\n",
       "19                       women   5.608357\n",
       "20                    hispanic   1.401639\n",
       "21                       white  -2.343051\n",
       "22                       black  -1.189495\n",
       "23                      native  -0.338234\n",
       "24                       asian  -1.365767\n",
       "25                     citizen  -3.473728\n",
       "26                      income  -6.793464\n",
       "27                   incomeerr   0.129105\n",
       "28                incomepercap   0.208358\n",
       "29             incomepercaperr  -0.048156\n",
       "30                professional  -0.518533\n",
       "31                     service   2.150457\n",
       "32                      office   0.729495\n",
       "33                construction  -0.445860\n",
       "34                  production   0.000000\n",
       "35                       drive  -1.477797\n",
       "36                     carpool  -0.483131\n",
       "37                     transit   0.000000\n",
       "38                        walk   1.540195\n",
       "39                 othertransp   0.491129\n",
       "40                  workathome   0.562034\n",
       "41                 meancommute  -0.725415\n",
       "42                    employed  -8.163154\n",
       "43                 privatework   0.406094\n",
       "44                  publicwork  -1.285608\n",
       "45                selfemployed   0.467673\n",
       "46                  familywork   0.735872\n",
       "47                unemployment   1.620602\n",
       "48                   intercept  24.475273"
      ]
     },
     "metadata": {},
     "output_type": "display_data"
    }
   ],
   "source": [
    "coef_intercept = np.hstack((m3v1_ls.best_estimator_.named_steps[\"ls\"].coef_,\n",
    "                            m3v1_ls.best_estimator_.named_steps[\"ls\"].intercept_))\n",
    "#print(coef_intercept)\n",
    "\n",
    "coef_intercept_df01 = pd.DataFrame(coef_intercept)\n",
    "#display(coef_intercept_df01)\n",
    "\n",
    "train_x01_col_names = list(train_x01.columns)\n",
    "train_x01_col_names.append('intercept')\n",
    "\n",
    "train_x01_col_names_df01 = pd.DataFrame(train_x01_col_names)\n",
    "#display(train_x01_col_names_df01)\n",
    "\n",
    "model_params = pd.concat([train_x01_col_names_df01, coef_intercept_df01], axis=1)\n",
    "display(model_params)"
   ]
  },
  {
   "cell_type": "markdown",
   "id": "9ae9c65c-0f30-4747-9628-fa48e1b17e63",
   "metadata": {},
   "source": [
    "### Lasso - Using `BayesSearchCV`"
   ]
  },
  {
   "cell_type": "code",
   "execution_count": 16,
   "id": "77e2c244-ed94-487d-9ef1-c76a5447e30c",
   "metadata": {
    "tags": []
   },
   "outputs": [
    {
     "name": "stdout",
     "output_type": "stream",
     "text": [
      "Fitting 5 folds for each of 1 candidates, totalling 5 fits\n"
     ]
    },
    {
     "name": "stderr",
     "output_type": "stream",
     "text": [
      "[Parallel(n_jobs=2)]: Using backend LokyBackend with 2 concurrent workers.\n",
      "[Parallel(n_jobs=2)]: Done   5 out of   5 | elapsed:   12.5s remaining:    0.0s\n",
      "[Parallel(n_jobs=2)]: Done   5 out of   5 | elapsed:   12.5s finished\n",
      "[Parallel(n_jobs=2)]: Using backend LokyBackend with 2 concurrent workers.\n"
     ]
    },
    {
     "name": "stdout",
     "output_type": "stream",
     "text": [
      "Fitting 5 folds for each of 1 candidates, totalling 5 fits\n"
     ]
    },
    {
     "name": "stderr",
     "output_type": "stream",
     "text": [
      "[Parallel(n_jobs=2)]: Done   5 out of   5 | elapsed:    0.7s remaining:    0.0s\n",
      "[Parallel(n_jobs=2)]: Done   5 out of   5 | elapsed:    0.7s finished\n",
      "[Parallel(n_jobs=2)]: Using backend LokyBackend with 2 concurrent workers.\n"
     ]
    },
    {
     "name": "stdout",
     "output_type": "stream",
     "text": [
      "Fitting 5 folds for each of 1 candidates, totalling 5 fits\n"
     ]
    },
    {
     "name": "stderr",
     "output_type": "stream",
     "text": [
      "[Parallel(n_jobs=2)]: Done   5 out of   5 | elapsed:    0.7s remaining:    0.0s\n",
      "[Parallel(n_jobs=2)]: Done   5 out of   5 | elapsed:    0.7s finished\n",
      "[Parallel(n_jobs=2)]: Using backend LokyBackend with 2 concurrent workers.\n"
     ]
    },
    {
     "name": "stdout",
     "output_type": "stream",
     "text": [
      "Fitting 5 folds for each of 1 candidates, totalling 5 fits\n"
     ]
    },
    {
     "name": "stderr",
     "output_type": "stream",
     "text": [
      "[Parallel(n_jobs=2)]: Done   5 out of   5 | elapsed:    6.9s remaining:    0.0s\n",
      "[Parallel(n_jobs=2)]: Done   5 out of   5 | elapsed:    6.9s finished\n",
      "[Parallel(n_jobs=2)]: Using backend LokyBackend with 2 concurrent workers.\n"
     ]
    },
    {
     "name": "stdout",
     "output_type": "stream",
     "text": [
      "Fitting 5 folds for each of 1 candidates, totalling 5 fits\n"
     ]
    },
    {
     "name": "stderr",
     "output_type": "stream",
     "text": [
      "[Parallel(n_jobs=2)]: Done   5 out of   5 | elapsed:    0.7s remaining:    0.0s\n",
      "[Parallel(n_jobs=2)]: Done   5 out of   5 | elapsed:    0.7s finished\n",
      "[Parallel(n_jobs=2)]: Using backend LokyBackend with 2 concurrent workers.\n"
     ]
    },
    {
     "name": "stdout",
     "output_type": "stream",
     "text": [
      "Fitting 5 folds for each of 1 candidates, totalling 5 fits\n"
     ]
    },
    {
     "name": "stderr",
     "output_type": "stream",
     "text": [
      "[Parallel(n_jobs=2)]: Done   5 out of   5 | elapsed:    0.7s remaining:    0.0s\n",
      "[Parallel(n_jobs=2)]: Done   5 out of   5 | elapsed:    0.7s finished\n",
      "[Parallel(n_jobs=2)]: Using backend LokyBackend with 2 concurrent workers.\n"
     ]
    },
    {
     "name": "stdout",
     "output_type": "stream",
     "text": [
      "Fitting 5 folds for each of 1 candidates, totalling 5 fits\n"
     ]
    },
    {
     "name": "stderr",
     "output_type": "stream",
     "text": [
      "[Parallel(n_jobs=2)]: Done   5 out of   5 | elapsed:    1.1s remaining:    0.0s\n",
      "[Parallel(n_jobs=2)]: Done   5 out of   5 | elapsed:    1.1s finished\n",
      "[Parallel(n_jobs=2)]: Using backend LokyBackend with 2 concurrent workers.\n"
     ]
    },
    {
     "name": "stdout",
     "output_type": "stream",
     "text": [
      "Fitting 5 folds for each of 1 candidates, totalling 5 fits\n"
     ]
    },
    {
     "name": "stderr",
     "output_type": "stream",
     "text": [
      "[Parallel(n_jobs=2)]: Done   5 out of   5 | elapsed:    0.7s remaining:    0.0s\n",
      "[Parallel(n_jobs=2)]: Done   5 out of   5 | elapsed:    0.7s finished\n",
      "[Parallel(n_jobs=2)]: Using backend LokyBackend with 2 concurrent workers.\n"
     ]
    },
    {
     "name": "stdout",
     "output_type": "stream",
     "text": [
      "Fitting 5 folds for each of 1 candidates, totalling 5 fits\n"
     ]
    },
    {
     "name": "stderr",
     "output_type": "stream",
     "text": [
      "[Parallel(n_jobs=2)]: Done   5 out of   5 | elapsed:    2.2s remaining:    0.0s\n",
      "[Parallel(n_jobs=2)]: Done   5 out of   5 | elapsed:    2.2s finished\n"
     ]
    },
    {
     "name": "stdout",
     "output_type": "stream",
     "text": [
      "Fitting 5 folds for each of 1 candidates, totalling 5 fits\n"
     ]
    },
    {
     "name": "stderr",
     "output_type": "stream",
     "text": [
      "[Parallel(n_jobs=2)]: Using backend LokyBackend with 2 concurrent workers.\n",
      "[Parallel(n_jobs=2)]: Done   5 out of   5 | elapsed:    0.7s remaining:    0.0s\n",
      "[Parallel(n_jobs=2)]: Done   5 out of   5 | elapsed:    0.7s finished\n"
     ]
    },
    {
     "name": "stdout",
     "output_type": "stream",
     "text": [
      "Fitting 5 folds for each of 1 candidates, totalling 5 fits\n"
     ]
    },
    {
     "name": "stderr",
     "output_type": "stream",
     "text": [
      "[Parallel(n_jobs=2)]: Using backend LokyBackend with 2 concurrent workers.\n",
      "[Parallel(n_jobs=2)]: Done   5 out of   5 | elapsed:    1.2s remaining:    0.0s\n",
      "[Parallel(n_jobs=2)]: Done   5 out of   5 | elapsed:    1.2s finished\n"
     ]
    },
    {
     "name": "stdout",
     "output_type": "stream",
     "text": [
      "Fitting 5 folds for each of 1 candidates, totalling 5 fits\n"
     ]
    },
    {
     "name": "stderr",
     "output_type": "stream",
     "text": [
      "[Parallel(n_jobs=2)]: Using backend LokyBackend with 2 concurrent workers.\n",
      "[Parallel(n_jobs=2)]: Done   5 out of   5 | elapsed:    1.3s remaining:    0.0s\n",
      "[Parallel(n_jobs=2)]: Done   5 out of   5 | elapsed:    1.3s finished\n"
     ]
    },
    {
     "name": "stdout",
     "output_type": "stream",
     "text": [
      "Fitting 5 folds for each of 1 candidates, totalling 5 fits\n"
     ]
    },
    {
     "name": "stderr",
     "output_type": "stream",
     "text": [
      "[Parallel(n_jobs=2)]: Using backend LokyBackend with 2 concurrent workers.\n",
      "[Parallel(n_jobs=2)]: Done   5 out of   5 | elapsed:    8.1s remaining:    0.0s\n",
      "[Parallel(n_jobs=2)]: Done   5 out of   5 | elapsed:    8.1s finished\n"
     ]
    },
    {
     "name": "stdout",
     "output_type": "stream",
     "text": [
      "Fitting 5 folds for each of 1 candidates, totalling 5 fits\n"
     ]
    },
    {
     "name": "stderr",
     "output_type": "stream",
     "text": [
      "[Parallel(n_jobs=2)]: Using backend LokyBackend with 2 concurrent workers.\n",
      "[Parallel(n_jobs=2)]: Done   5 out of   5 | elapsed:    1.1s remaining:    0.0s\n",
      "[Parallel(n_jobs=2)]: Done   5 out of   5 | elapsed:    1.1s finished\n"
     ]
    },
    {
     "name": "stdout",
     "output_type": "stream",
     "text": [
      "Fitting 5 folds for each of 1 candidates, totalling 5 fits\n"
     ]
    },
    {
     "name": "stderr",
     "output_type": "stream",
     "text": [
      "[Parallel(n_jobs=2)]: Using backend LokyBackend with 2 concurrent workers.\n",
      "[Parallel(n_jobs=2)]: Done   5 out of   5 | elapsed:    1.1s remaining:    0.0s\n",
      "[Parallel(n_jobs=2)]: Done   5 out of   5 | elapsed:    1.1s finished\n"
     ]
    },
    {
     "name": "stdout",
     "output_type": "stream",
     "text": [
      "Fitting 5 folds for each of 1 candidates, totalling 5 fits\n"
     ]
    },
    {
     "name": "stderr",
     "output_type": "stream",
     "text": [
      "[Parallel(n_jobs=2)]: Using backend LokyBackend with 2 concurrent workers.\n",
      "[Parallel(n_jobs=2)]: Done   5 out of   5 | elapsed:    1.1s remaining:    0.0s\n",
      "[Parallel(n_jobs=2)]: Done   5 out of   5 | elapsed:    1.1s finished\n"
     ]
    },
    {
     "name": "stdout",
     "output_type": "stream",
     "text": [
      "Fitting 5 folds for each of 1 candidates, totalling 5 fits\n"
     ]
    },
    {
     "name": "stderr",
     "output_type": "stream",
     "text": [
      "[Parallel(n_jobs=2)]: Using backend LokyBackend with 2 concurrent workers.\n",
      "[Parallel(n_jobs=2)]: Done   5 out of   5 | elapsed:    1.1s remaining:    0.0s\n",
      "[Parallel(n_jobs=2)]: Done   5 out of   5 | elapsed:    1.1s finished\n"
     ]
    },
    {
     "name": "stdout",
     "output_type": "stream",
     "text": [
      "Fitting 5 folds for each of 1 candidates, totalling 5 fits\n"
     ]
    },
    {
     "name": "stderr",
     "output_type": "stream",
     "text": [
      "[Parallel(n_jobs=2)]: Using backend LokyBackend with 2 concurrent workers.\n",
      "[Parallel(n_jobs=2)]: Done   5 out of   5 | elapsed:    1.4s remaining:    0.0s\n",
      "[Parallel(n_jobs=2)]: Done   5 out of   5 | elapsed:    1.4s finished\n"
     ]
    },
    {
     "name": "stdout",
     "output_type": "stream",
     "text": [
      "Fitting 5 folds for each of 1 candidates, totalling 5 fits\n"
     ]
    },
    {
     "name": "stderr",
     "output_type": "stream",
     "text": [
      "[Parallel(n_jobs=2)]: Using backend LokyBackend with 2 concurrent workers.\n",
      "[Parallel(n_jobs=2)]: Done   5 out of   5 | elapsed:    4.5s remaining:    0.0s\n",
      "[Parallel(n_jobs=2)]: Done   5 out of   5 | elapsed:    4.5s finished\n"
     ]
    },
    {
     "name": "stdout",
     "output_type": "stream",
     "text": [
      "Fitting 5 folds for each of 1 candidates, totalling 5 fits\n"
     ]
    },
    {
     "name": "stderr",
     "output_type": "stream",
     "text": [
      "[Parallel(n_jobs=2)]: Using backend LokyBackend with 2 concurrent workers.\n",
      "[Parallel(n_jobs=2)]: Done   5 out of   5 | elapsed:    1.1s remaining:    0.0s\n",
      "[Parallel(n_jobs=2)]: Done   5 out of   5 | elapsed:    1.1s finished\n"
     ]
    },
    {
     "name": "stdout",
     "output_type": "stream",
     "text": [
      "Fitting 5 folds for each of 1 candidates, totalling 5 fits\n"
     ]
    },
    {
     "name": "stderr",
     "output_type": "stream",
     "text": [
      "[Parallel(n_jobs=2)]: Using backend LokyBackend with 2 concurrent workers.\n",
      "[Parallel(n_jobs=2)]: Done   5 out of   5 | elapsed:    2.9s remaining:    0.0s\n",
      "[Parallel(n_jobs=2)]: Done   5 out of   5 | elapsed:    2.9s finished\n"
     ]
    },
    {
     "name": "stdout",
     "output_type": "stream",
     "text": [
      "Fitting 5 folds for each of 1 candidates, totalling 5 fits\n"
     ]
    },
    {
     "name": "stderr",
     "output_type": "stream",
     "text": [
      "[Parallel(n_jobs=2)]: Using backend LokyBackend with 2 concurrent workers.\n",
      "[Parallel(n_jobs=2)]: Done   5 out of   5 | elapsed:   14.7s remaining:    0.0s\n",
      "[Parallel(n_jobs=2)]: Done   5 out of   5 | elapsed:   14.7s finished\n"
     ]
    },
    {
     "name": "stdout",
     "output_type": "stream",
     "text": [
      "Fitting 5 folds for each of 1 candidates, totalling 5 fits\n"
     ]
    },
    {
     "name": "stderr",
     "output_type": "stream",
     "text": [
      "[Parallel(n_jobs=2)]: Using backend LokyBackend with 2 concurrent workers.\n",
      "[Parallel(n_jobs=2)]: Done   5 out of   5 | elapsed:   26.2s remaining:    0.0s\n",
      "[Parallel(n_jobs=2)]: Done   5 out of   5 | elapsed:   26.2s finished\n"
     ]
    },
    {
     "name": "stdout",
     "output_type": "stream",
     "text": [
      "Fitting 5 folds for each of 1 candidates, totalling 5 fits\n"
     ]
    },
    {
     "name": "stderr",
     "output_type": "stream",
     "text": [
      "[Parallel(n_jobs=2)]: Using backend LokyBackend with 2 concurrent workers.\n",
      "[Parallel(n_jobs=2)]: Done   5 out of   5 | elapsed:    2.2s remaining:    0.0s\n",
      "[Parallel(n_jobs=2)]: Done   5 out of   5 | elapsed:    2.2s finished\n"
     ]
    },
    {
     "name": "stdout",
     "output_type": "stream",
     "text": [
      "Fitting 5 folds for each of 1 candidates, totalling 5 fits\n"
     ]
    },
    {
     "name": "stderr",
     "output_type": "stream",
     "text": [
      "[Parallel(n_jobs=2)]: Using backend LokyBackend with 2 concurrent workers.\n",
      "[Parallel(n_jobs=2)]: Done   5 out of   5 | elapsed:    2.8s remaining:    0.0s\n",
      "[Parallel(n_jobs=2)]: Done   5 out of   5 | elapsed:    2.8s finished\n"
     ]
    },
    {
     "name": "stdout",
     "output_type": "stream",
     "text": [
      "Fitting 5 folds for each of 1 candidates, totalling 5 fits\n"
     ]
    },
    {
     "name": "stderr",
     "output_type": "stream",
     "text": [
      "[Parallel(n_jobs=2)]: Using backend LokyBackend with 2 concurrent workers.\n",
      "[Parallel(n_jobs=2)]: Done   5 out of   5 | elapsed:    1.1s remaining:    0.0s\n",
      "[Parallel(n_jobs=2)]: Done   5 out of   5 | elapsed:    1.1s finished\n"
     ]
    },
    {
     "name": "stdout",
     "output_type": "stream",
     "text": [
      "Fitting 5 folds for each of 1 candidates, totalling 5 fits\n"
     ]
    },
    {
     "name": "stderr",
     "output_type": "stream",
     "text": [
      "[Parallel(n_jobs=2)]: Using backend LokyBackend with 2 concurrent workers.\n",
      "[Parallel(n_jobs=2)]: Done   5 out of   5 | elapsed:    1.0s remaining:    0.0s\n",
      "[Parallel(n_jobs=2)]: Done   5 out of   5 | elapsed:    1.0s finished\n"
     ]
    },
    {
     "name": "stdout",
     "output_type": "stream",
     "text": [
      "Fitting 5 folds for each of 1 candidates, totalling 5 fits\n"
     ]
    },
    {
     "name": "stderr",
     "output_type": "stream",
     "text": [
      "[Parallel(n_jobs=2)]: Using backend LokyBackend with 2 concurrent workers.\n",
      "[Parallel(n_jobs=2)]: Done   5 out of   5 | elapsed:    9.9s remaining:    0.0s\n",
      "[Parallel(n_jobs=2)]: Done   5 out of   5 | elapsed:    9.9s finished\n"
     ]
    },
    {
     "name": "stdout",
     "output_type": "stream",
     "text": [
      "Fitting 5 folds for each of 1 candidates, totalling 5 fits\n"
     ]
    },
    {
     "name": "stderr",
     "output_type": "stream",
     "text": [
      "[Parallel(n_jobs=2)]: Using backend LokyBackend with 2 concurrent workers.\n",
      "[Parallel(n_jobs=2)]: Done   5 out of   5 | elapsed:    3.6s remaining:    0.0s\n",
      "[Parallel(n_jobs=2)]: Done   5 out of   5 | elapsed:    3.6s finished\n"
     ]
    },
    {
     "name": "stdout",
     "output_type": "stream",
     "text": [
      "Fitting 5 folds for each of 1 candidates, totalling 5 fits\n"
     ]
    },
    {
     "name": "stderr",
     "output_type": "stream",
     "text": [
      "[Parallel(n_jobs=2)]: Using backend LokyBackend with 2 concurrent workers.\n",
      "[Parallel(n_jobs=2)]: Done   5 out of   5 | elapsed:    1.1s remaining:    0.0s\n",
      "[Parallel(n_jobs=2)]: Done   5 out of   5 | elapsed:    1.1s finished\n"
     ]
    },
    {
     "name": "stdout",
     "output_type": "stream",
     "text": [
      "Fitting 5 folds for each of 1 candidates, totalling 5 fits\n"
     ]
    },
    {
     "name": "stderr",
     "output_type": "stream",
     "text": [
      "[Parallel(n_jobs=2)]: Using backend LokyBackend with 2 concurrent workers.\n",
      "[Parallel(n_jobs=2)]: Done   5 out of   5 | elapsed:    1.0s remaining:    0.0s\n",
      "[Parallel(n_jobs=2)]: Done   5 out of   5 | elapsed:    1.0s finished\n"
     ]
    },
    {
     "name": "stdout",
     "output_type": "stream",
     "text": [
      "Fitting 5 folds for each of 1 candidates, totalling 5 fits\n"
     ]
    },
    {
     "name": "stderr",
     "output_type": "stream",
     "text": [
      "[Parallel(n_jobs=2)]: Using backend LokyBackend with 2 concurrent workers.\n",
      "[Parallel(n_jobs=2)]: Done   5 out of   5 | elapsed:   26.7s remaining:    0.0s\n",
      "[Parallel(n_jobs=2)]: Done   5 out of   5 | elapsed:   26.7s finished\n"
     ]
    },
    {
     "name": "stdout",
     "output_type": "stream",
     "text": [
      "Fitting 5 folds for each of 1 candidates, totalling 5 fits\n"
     ]
    },
    {
     "name": "stderr",
     "output_type": "stream",
     "text": [
      "[Parallel(n_jobs=2)]: Using backend LokyBackend with 2 concurrent workers.\n",
      "[Parallel(n_jobs=2)]: Done   5 out of   5 | elapsed:    7.2s remaining:    0.0s\n",
      "[Parallel(n_jobs=2)]: Done   5 out of   5 | elapsed:    7.2s finished\n"
     ]
    },
    {
     "name": "stdout",
     "output_type": "stream",
     "text": [
      "Fitting 5 folds for each of 1 candidates, totalling 5 fits\n"
     ]
    },
    {
     "name": "stderr",
     "output_type": "stream",
     "text": [
      "[Parallel(n_jobs=2)]: Using backend LokyBackend with 2 concurrent workers.\n",
      "[Parallel(n_jobs=2)]: Done   5 out of   5 | elapsed:    1.0s remaining:    0.0s\n",
      "[Parallel(n_jobs=2)]: Done   5 out of   5 | elapsed:    1.0s finished\n"
     ]
    },
    {
     "name": "stdout",
     "output_type": "stream",
     "text": [
      "Fitting 5 folds for each of 1 candidates, totalling 5 fits\n"
     ]
    },
    {
     "name": "stderr",
     "output_type": "stream",
     "text": [
      "[Parallel(n_jobs=2)]: Using backend LokyBackend with 2 concurrent workers.\n",
      "[Parallel(n_jobs=2)]: Done   5 out of   5 | elapsed:    6.0s remaining:    0.0s\n",
      "[Parallel(n_jobs=2)]: Done   5 out of   5 | elapsed:    6.0s finished\n"
     ]
    },
    {
     "name": "stdout",
     "output_type": "stream",
     "text": [
      "Fitting 5 folds for each of 1 candidates, totalling 5 fits\n"
     ]
    },
    {
     "name": "stderr",
     "output_type": "stream",
     "text": [
      "[Parallel(n_jobs=2)]: Using backend LokyBackend with 2 concurrent workers.\n",
      "[Parallel(n_jobs=2)]: Done   5 out of   5 | elapsed:   15.2s remaining:    0.0s\n",
      "[Parallel(n_jobs=2)]: Done   5 out of   5 | elapsed:   15.2s finished\n"
     ]
    },
    {
     "name": "stdout",
     "output_type": "stream",
     "text": [
      "Fitting 5 folds for each of 1 candidates, totalling 5 fits\n"
     ]
    },
    {
     "name": "stderr",
     "output_type": "stream",
     "text": [
      "[Parallel(n_jobs=2)]: Using backend LokyBackend with 2 concurrent workers.\n",
      "[Parallel(n_jobs=2)]: Done   5 out of   5 | elapsed:    2.7s remaining:    0.0s\n",
      "[Parallel(n_jobs=2)]: Done   5 out of   5 | elapsed:    2.7s finished\n"
     ]
    },
    {
     "name": "stdout",
     "output_type": "stream",
     "text": [
      "Fitting 5 folds for each of 1 candidates, totalling 5 fits\n"
     ]
    },
    {
     "name": "stderr",
     "output_type": "stream",
     "text": [
      "[Parallel(n_jobs=2)]: Using backend LokyBackend with 2 concurrent workers.\n",
      "[Parallel(n_jobs=2)]: Done   5 out of   5 | elapsed:    1.4s remaining:    0.0s\n",
      "[Parallel(n_jobs=2)]: Done   5 out of   5 | elapsed:    1.4s finished\n"
     ]
    },
    {
     "name": "stdout",
     "output_type": "stream",
     "text": [
      "Fitting 5 folds for each of 1 candidates, totalling 5 fits\n"
     ]
    },
    {
     "name": "stderr",
     "output_type": "stream",
     "text": [
      "[Parallel(n_jobs=2)]: Using backend LokyBackend with 2 concurrent workers.\n",
      "[Parallel(n_jobs=2)]: Done   5 out of   5 | elapsed:    3.4s remaining:    0.0s\n",
      "[Parallel(n_jobs=2)]: Done   5 out of   5 | elapsed:    3.4s finished\n"
     ]
    },
    {
     "name": "stdout",
     "output_type": "stream",
     "text": [
      "Fitting 5 folds for each of 1 candidates, totalling 5 fits\n"
     ]
    },
    {
     "name": "stderr",
     "output_type": "stream",
     "text": [
      "[Parallel(n_jobs=2)]: Using backend LokyBackend with 2 concurrent workers.\n",
      "[Parallel(n_jobs=2)]: Done   5 out of   5 | elapsed:    1.1s remaining:    0.0s\n",
      "[Parallel(n_jobs=2)]: Done   5 out of   5 | elapsed:    1.1s finished\n"
     ]
    },
    {
     "name": "stdout",
     "output_type": "stream",
     "text": [
      "Fitting 5 folds for each of 1 candidates, totalling 5 fits\n"
     ]
    },
    {
     "name": "stderr",
     "output_type": "stream",
     "text": [
      "[Parallel(n_jobs=2)]: Using backend LokyBackend with 2 concurrent workers.\n",
      "[Parallel(n_jobs=2)]: Done   5 out of   5 | elapsed:    1.0s remaining:    0.0s\n",
      "[Parallel(n_jobs=2)]: Done   5 out of   5 | elapsed:    1.0s finished\n"
     ]
    },
    {
     "name": "stdout",
     "output_type": "stream",
     "text": [
      "Fitting 5 folds for each of 1 candidates, totalling 5 fits\n"
     ]
    },
    {
     "name": "stderr",
     "output_type": "stream",
     "text": [
      "[Parallel(n_jobs=2)]: Using backend LokyBackend with 2 concurrent workers.\n",
      "[Parallel(n_jobs=2)]: Done   5 out of   5 | elapsed:    1.1s remaining:    0.0s\n",
      "[Parallel(n_jobs=2)]: Done   5 out of   5 | elapsed:    1.1s finished\n"
     ]
    },
    {
     "name": "stdout",
     "output_type": "stream",
     "text": [
      "Fitting 5 folds for each of 1 candidates, totalling 5 fits\n"
     ]
    },
    {
     "name": "stderr",
     "output_type": "stream",
     "text": [
      "[Parallel(n_jobs=2)]: Using backend LokyBackend with 2 concurrent workers.\n",
      "[Parallel(n_jobs=2)]: Done   5 out of   5 | elapsed:   10.2s remaining:    0.0s\n",
      "[Parallel(n_jobs=2)]: Done   5 out of   5 | elapsed:   10.2s finished\n"
     ]
    },
    {
     "name": "stdout",
     "output_type": "stream",
     "text": [
      "Fitting 5 folds for each of 1 candidates, totalling 5 fits\n"
     ]
    },
    {
     "name": "stderr",
     "output_type": "stream",
     "text": [
      "[Parallel(n_jobs=2)]: Using backend LokyBackend with 2 concurrent workers.\n",
      "[Parallel(n_jobs=2)]: Done   5 out of   5 | elapsed:   14.7s remaining:    0.0s\n",
      "[Parallel(n_jobs=2)]: Done   5 out of   5 | elapsed:   14.7s finished\n"
     ]
    },
    {
     "name": "stdout",
     "output_type": "stream",
     "text": [
      "Fitting 5 folds for each of 1 candidates, totalling 5 fits\n"
     ]
    },
    {
     "name": "stderr",
     "output_type": "stream",
     "text": [
      "[Parallel(n_jobs=2)]: Using backend LokyBackend with 2 concurrent workers.\n",
      "[Parallel(n_jobs=2)]: Done   5 out of   5 | elapsed:    1.1s remaining:    0.0s\n",
      "[Parallel(n_jobs=2)]: Done   5 out of   5 | elapsed:    1.1s finished\n"
     ]
    },
    {
     "name": "stdout",
     "output_type": "stream",
     "text": [
      "Fitting 5 folds for each of 1 candidates, totalling 5 fits\n"
     ]
    },
    {
     "name": "stderr",
     "output_type": "stream",
     "text": [
      "[Parallel(n_jobs=2)]: Using backend LokyBackend with 2 concurrent workers.\n",
      "[Parallel(n_jobs=2)]: Done   5 out of   5 | elapsed:   10.5s remaining:    0.0s\n",
      "[Parallel(n_jobs=2)]: Done   5 out of   5 | elapsed:   10.5s finished\n"
     ]
    },
    {
     "name": "stdout",
     "output_type": "stream",
     "text": [
      "Fitting 5 folds for each of 1 candidates, totalling 5 fits\n"
     ]
    },
    {
     "name": "stderr",
     "output_type": "stream",
     "text": [
      "[Parallel(n_jobs=2)]: Using backend LokyBackend with 2 concurrent workers.\n",
      "[Parallel(n_jobs=2)]: Done   5 out of   5 | elapsed:    5.3s remaining:    0.0s\n",
      "[Parallel(n_jobs=2)]: Done   5 out of   5 | elapsed:    5.3s finished\n"
     ]
    },
    {
     "name": "stdout",
     "output_type": "stream",
     "text": [
      "Fitting 5 folds for each of 1 candidates, totalling 5 fits\n"
     ]
    },
    {
     "name": "stderr",
     "output_type": "stream",
     "text": [
      "[Parallel(n_jobs=2)]: Using backend LokyBackend with 2 concurrent workers.\n",
      "[Parallel(n_jobs=2)]: Done   5 out of   5 | elapsed:    1.1s remaining:    0.0s\n",
      "[Parallel(n_jobs=2)]: Done   5 out of   5 | elapsed:    1.1s finished\n"
     ]
    },
    {
     "name": "stdout",
     "output_type": "stream",
     "text": [
      "Fitting 5 folds for each of 1 candidates, totalling 5 fits\n"
     ]
    },
    {
     "name": "stderr",
     "output_type": "stream",
     "text": [
      "[Parallel(n_jobs=2)]: Using backend LokyBackend with 2 concurrent workers.\n",
      "[Parallel(n_jobs=2)]: Done   5 out of   5 | elapsed:    1.1s remaining:    0.0s\n",
      "[Parallel(n_jobs=2)]: Done   5 out of   5 | elapsed:    1.1s finished\n"
     ]
    },
    {
     "name": "stdout",
     "output_type": "stream",
     "text": [
      "Fitting 5 folds for each of 1 candidates, totalling 5 fits\n"
     ]
    },
    {
     "name": "stderr",
     "output_type": "stream",
     "text": [
      "[Parallel(n_jobs=2)]: Using backend LokyBackend with 2 concurrent workers.\n",
      "[Parallel(n_jobs=2)]: Done   5 out of   5 | elapsed:    4.2s remaining:    0.0s\n",
      "[Parallel(n_jobs=2)]: Done   5 out of   5 | elapsed:    4.2s finished\n"
     ]
    },
    {
     "name": "stdout",
     "output_type": "stream",
     "text": [
      "Best Estimator:\n",
      "Pipeline(memory=None,\n",
      "         steps=[('si',\n",
      "                 SimpleImputer(add_indicator=False, copy=True, fill_value=None,\n",
      "                               missing_values=nan, strategy='median',\n",
      "                               verbose=0)),\n",
      "                ('ss',\n",
      "                 StandardScaler(copy=True, with_mean=True, with_std=True)),\n",
      "                ('ls',\n",
      "                 Lasso(alpha=0.002035892273769913, copy_X=True,\n",
      "                       fit_intercept=True, max_iter=5000, normalize=False,\n",
      "                       positive=False, precompute=False, random_state=1699,\n",
      "                       selection='cyclic', tol=0.0001, warm_start=False))],\n",
      "         verbose=False)\n",
      "Coefficients:\n",
      "[-5.87149987e-02  1.20541779e+00  0.00000000e+00 -1.03559277e+00\n",
      "  1.14097161e+00 -0.00000000e+00 -0.00000000e+00  4.88266424e-03\n",
      "  3.73090756e-02 -0.00000000e+00 -3.65839306e-02  5.52861600e-03\n",
      "  0.00000000e+00 -0.00000000e+00 -2.64485358e-02  0.00000000e+00\n",
      " -0.00000000e+00  8.52430015e+00  0.00000000e+00  2.77273692e+00\n",
      "  5.89949162e-01 -3.45291359e+00 -2.29656770e+00 -3.76200189e-01\n",
      " -1.99156702e+00 -3.68617801e+00 -6.89488984e+00  1.58682144e-01\n",
      "  4.80605257e-01 -1.96538343e-01 -2.65229516e+00  7.95730649e-01\n",
      "  0.00000000e+00 -1.01230563e+00 -6.36331724e-01 -1.45113875e+00\n",
      " -4.87205380e-01 -0.00000000e+00  1.52550076e+00  4.84747915e-01\n",
      "  5.69189705e-01 -7.52393221e-01 -8.31933731e+00  2.63854596e-01\n",
      " -1.41428537e+00  3.81264346e-01  7.32815597e-01  1.60704219e+00]\n",
      "    mean_fit_time  std_fit_time  mean_score_time  std_score_time  \\\n",
      "0        4.941249      2.285224         0.010572        0.002195   \n",
      "1        0.228198      0.031489         0.009683        0.001824   \n",
      "2        0.245169      0.042811         0.008770        0.000885   \n",
      "3        2.465214      0.514001         0.009425        0.001416   \n",
      "4        0.230834      0.033762         0.009980        0.002079   \n",
      "5        0.226447      0.038269         0.009779        0.002376   \n",
      "6        0.357913      0.061329         0.010057        0.001846   \n",
      "7        0.223566      0.031091         0.009913        0.001831   \n",
      "8        0.855370      0.185298         0.009646        0.002004   \n",
      "9        0.231317      0.041812         0.008502        0.001650   \n",
      "10       0.398633      0.075243         0.009593        0.002104   \n",
      "11       0.449892      0.080144         0.009263        0.001917   \n",
      "12       2.973444      0.570797         0.009905        0.002043   \n",
      "13       0.383352      0.073190         0.010086        0.002380   \n",
      "14       0.374161      0.067303         0.009758        0.001756   \n",
      "15       0.365627      0.067449         0.009769        0.001860   \n",
      "16       0.375218      0.069611         0.009673        0.001681   \n",
      "17       0.491549      0.109982         0.009267        0.001835   \n",
      "18       1.680356      0.312732         0.009871        0.002192   \n",
      "19       0.375027      0.069740         0.009418        0.001865   \n",
      "20       1.150792      0.266836         0.009385        0.002190   \n",
      "21       5.356033      2.573320         0.010391        0.002117   \n",
      "22       9.361792      1.853854         0.011674        0.003136   \n",
      "23       0.866793      0.197096         0.009658        0.002066   \n",
      "24       0.993054      0.182377         0.009088        0.001717   \n",
      "25       0.364711      0.060798         0.009312        0.001631   \n",
      "26       0.358345      0.069444         0.009142        0.001755   \n",
      "27       3.572884      0.531900         0.010884        0.001552   \n",
      "28       1.350203      0.271404         0.009629        0.001847   \n",
      "29       0.364246      0.063036         0.009905        0.001755   \n",
      "30       0.350556      0.057616         0.009403        0.001702   \n",
      "31       9.665501      2.217690         0.009660        0.002501   \n",
      "32       2.548752      0.341269         0.013230        0.006509   \n",
      "33       0.348394      0.063462         0.010791        0.002475   \n",
      "34       2.200023      0.411684         0.010058        0.002056   \n",
      "35       5.035779      2.752393         0.011906        0.003947   \n",
      "36       0.914471      0.129558         0.012364        0.004628   \n",
      "37       0.491513      0.089723         0.009934        0.002271   \n",
      "38       1.207615      0.207660         0.009112        0.001942   \n",
      "39       0.364362      0.058841         0.009710        0.001836   \n",
      "40       0.357352      0.068632         0.009055        0.001681   \n",
      "41       0.369048      0.066058         0.009154        0.001833   \n",
      "42       3.628583      0.830105         0.009730        0.002216   \n",
      "43       5.466169      2.292990         0.011939        0.003617   \n",
      "44       0.367641      0.069052         0.013547        0.009652   \n",
      "45       3.723798      1.788108         0.010575        0.002292   \n",
      "46       1.927706      0.399753         0.009440        0.002258   \n",
      "47       0.388947      0.077963         0.008993        0.001553   \n",
      "48       0.379070      0.073911         0.009531        0.001700   \n",
      "49       1.568440      0.327791         0.009758        0.001969   \n",
      "\n",
      "   param_ls__alpha param_ls__max_iter param_ls__selection  \\\n",
      "0         0.001689               3544              cyclic   \n",
      "1         1.837182                840              cyclic   \n",
      "2         1.344793               1241              random   \n",
      "3         0.003511               1935              random   \n",
      "4         4.416573                387              random   \n",
      "5         3.834277               2970              cyclic   \n",
      "6         0.048544                106              random   \n",
      "7       735.534927                861              random   \n",
      "8         0.044996               2515              random   \n",
      "9         5.174081                349              random   \n",
      "10        0.181951               5000              cyclic   \n",
      "11        0.035289               5000              cyclic   \n",
      "12        0.002339               5000              random   \n",
      "13           0.001                100              random   \n",
      "14        0.001873                100              random   \n",
      "15        0.010925                100              random   \n",
      "16        0.005187                100              cyclic   \n",
      "17        0.067086               5000              cyclic   \n",
      "18        0.006471               5000              random   \n",
      "19           0.001                100              cyclic   \n",
      "20        0.020567               5000              random   \n",
      "21           0.001               5000              cyclic   \n",
      "22           0.001               5000              random   \n",
      "23         0.04324               5000              random   \n",
      "24        0.008794               5000              cyclic   \n",
      "25        0.006741                100              random   \n",
      "26        0.017092                100              cyclic   \n",
      "27        0.002691               5000              cyclic   \n",
      "28        0.013538               5000              random   \n",
      "29        0.003036                100              cyclic   \n",
      "30        0.027177                100              random   \n",
      "31        0.001285               5000              random   \n",
      "32        0.004582               5000              cyclic   \n",
      "33        0.044715                100              cyclic   \n",
      "34        0.003967               5000              random   \n",
      "35        0.001276               5000              cyclic   \n",
      "36        0.012729               5000              cyclic   \n",
      "37        0.023621               5000              cyclic   \n",
      "38        0.007242               4414              cyclic   \n",
      "39        0.001333                108              cyclic   \n",
      "40        0.024476                104              cyclic   \n",
      "41        0.080029                110              random   \n",
      "42        0.003677               4406              cyclic   \n",
      "43           0.001               5000              cyclic   \n",
      "44        0.010478                100              cyclic   \n",
      "45        0.002036               5000              cyclic   \n",
      "46         0.00531               5000              random   \n",
      "47        0.003773                104              random   \n",
      "48        0.002223                100              cyclic   \n",
      "49        0.009065               4870              random   \n",
      "\n",
      "   param_ls__warm_start                                             params  \\\n",
      "0                  True  {'ls__alpha': 0.0016891190163874673, 'ls__max_...   \n",
      "1                  True  {'ls__alpha': 1.8371820307920692, 'ls__max_ite...   \n",
      "2                 False  {'ls__alpha': 1.3447930340790564, 'ls__max_ite...   \n",
      "3                 False  {'ls__alpha': 0.0035109462992656305, 'ls__max_...   \n",
      "4                  True  {'ls__alpha': 4.416572981265558, 'ls__max_iter...   \n",
      "5                  True  {'ls__alpha': 3.834276742639628, 'ls__max_iter...   \n",
      "6                  True  {'ls__alpha': 0.04854369319698333, 'ls__max_it...   \n",
      "7                 False  {'ls__alpha': 735.5349265829144, 'ls__max_iter...   \n",
      "8                 False  {'ls__alpha': 0.04499624547707304, 'ls__max_it...   \n",
      "9                 False  {'ls__alpha': 5.174080957458812, 'ls__max_iter...   \n",
      "10                 True  {'ls__alpha': 0.18195122450524567, 'ls__max_it...   \n",
      "11                 True  {'ls__alpha': 0.03528875446828628, 'ls__max_it...   \n",
      "12                 True  {'ls__alpha': 0.0023389844355604437, 'ls__max_...   \n",
      "13                False  {'ls__alpha': 0.001, 'ls__max_iter': 100, 'ls_...   \n",
      "14                False  {'ls__alpha': 0.001873303940264528, 'ls__max_i...   \n",
      "15                 True  {'ls__alpha': 0.010924745228166513, 'ls__max_i...   \n",
      "16                 True  {'ls__alpha': 0.005187353906802671, 'ls__max_i...   \n",
      "17                 True  {'ls__alpha': 0.06708644577959981, 'ls__max_it...   \n",
      "18                 True  {'ls__alpha': 0.0064706598504371965, 'ls__max_...   \n",
      "19                 True  {'ls__alpha': 0.001, 'ls__max_iter': 100, 'ls_...   \n",
      "20                 True  {'ls__alpha': 0.02056688050827186, 'ls__max_it...   \n",
      "21                False  {'ls__alpha': 0.001, 'ls__max_iter': 5000, 'ls...   \n",
      "22                 True  {'ls__alpha': 0.001, 'ls__max_iter': 5000, 'ls...   \n",
      "23                 True  {'ls__alpha': 0.04323992003877331, 'ls__max_it...   \n",
      "24                False  {'ls__alpha': 0.00879395143607489, 'ls__max_it...   \n",
      "25                False  {'ls__alpha': 0.00674053574751886, 'ls__max_it...   \n",
      "26                False  {'ls__alpha': 0.01709168473700908, 'ls__max_it...   \n",
      "27                False  {'ls__alpha': 0.0026907472715826703, 'ls__max_...   \n",
      "28                False  {'ls__alpha': 0.013537795499761675, 'ls__max_i...   \n",
      "29                 True  {'ls__alpha': 0.0030363730711897895, 'ls__max_...   \n",
      "30                False  {'ls__alpha': 0.02717678781783014, 'ls__max_it...   \n",
      "31                 True  {'ls__alpha': 0.0012845655055753577, 'ls__max_...   \n",
      "32                False  {'ls__alpha': 0.004581823199801348, 'ls__max_i...   \n",
      "33                False  {'ls__alpha': 0.04471529997507781, 'ls__max_it...   \n",
      "34                 True  {'ls__alpha': 0.003967210845237331, 'ls__max_i...   \n",
      "35                False  {'ls__alpha': 0.0012760403888038658, 'ls__max_...   \n",
      "36                 True  {'ls__alpha': 0.012729262779431013, 'ls__max_i...   \n",
      "37                False  {'ls__alpha': 0.02362145496772779, 'ls__max_it...   \n",
      "38                 True  {'ls__alpha': 0.007242264805957147, 'ls__max_i...   \n",
      "39                 True  {'ls__alpha': 0.0013326972257796143, 'ls__max_...   \n",
      "40                 True  {'ls__alpha': 0.024475538874202667, 'ls__max_i...   \n",
      "41                False  {'ls__alpha': 0.08002869886599219, 'ls__max_it...   \n",
      "42                 True  {'ls__alpha': 0.003677392524900041, 'ls__max_i...   \n",
      "43                 True  {'ls__alpha': 0.001, 'ls__max_iter': 5000, 'ls...   \n",
      "44                False  {'ls__alpha': 0.010477619239002662, 'ls__max_i...   \n",
      "45                False  {'ls__alpha': 0.002035892273769913, 'ls__max_i...   \n",
      "46                False  {'ls__alpha': 0.005310223580701806, 'ls__max_i...   \n",
      "47                False  {'ls__alpha': 0.0037732438223934033, 'ls__max_...   \n",
      "48                 True  {'ls__alpha': 0.002223327520222213, 'ls__max_i...   \n",
      "49                 True  {'ls__alpha': 0.00906549294839439, 'ls__max_it...   \n",
      "\n",
      "    split0_test_score  split1_test_score  split2_test_score  \\\n",
      "0          -11.379399         -11.398265         -11.406292   \n",
      "1          -12.409065         -12.519198         -12.594685   \n",
      "2          -12.154037         -12.263125         -12.341888   \n",
      "3          -11.379128         -11.396537         -11.407195   \n",
      "4          -13.876695         -13.950461         -13.993778   \n",
      "5          -13.533299         -13.615111         -13.660084   \n",
      "6          -11.382000         -11.385017         -11.424098   \n",
      "7          -18.828273         -18.816528         -18.873667   \n",
      "8          -11.380464         -11.383589         -11.421471   \n",
      "9          -14.258275         -14.322701         -14.335671   \n",
      "10         -11.453888         -11.484456         -11.531057   \n",
      "11         -11.380207         -11.382418         -11.418438   \n",
      "12         -11.379429         -11.397667         -11.406678   \n",
      "13         -11.382423         -11.395983         -11.412374   \n",
      "14         -11.382253         -11.395403         -11.412571   \n",
      "15         -11.380992         -11.390703         -11.414102   \n",
      "16         -11.379937         -11.395209         -11.409802   \n",
      "17         -11.384202         -11.390923         -11.430398   \n",
      "18         -11.378677         -11.393971         -11.408728   \n",
      "19         -11.379617         -11.397029         -11.408860   \n",
      "20         -11.380253         -11.386520         -11.415635   \n",
      "21         -11.379576         -11.398869         -11.405871   \n",
      "22         -11.379678         -11.398950         -11.406031   \n",
      "23         -11.380350         -11.383192         -11.420894   \n",
      "24         -11.378610         -11.392229         -11.410244   \n",
      "25         -11.381682         -11.392202         -11.413085   \n",
      "26         -11.380994         -11.389833         -11.413938   \n",
      "27         -11.379246         -11.397306         -11.406737   \n",
      "28         -11.378834         -11.389293         -11.412961   \n",
      "29         -11.379658         -11.396063         -11.409300   \n",
      "30         -11.380744         -11.383642         -11.417504   \n",
      "31         -11.379620         -11.398671         -11.406165   \n",
      "32         -11.379023         -11.395654         -11.407775   \n",
      "33         -11.381067         -11.383852         -11.420134   \n",
      "34         -11.379062         -11.396103         -11.407401   \n",
      "35         -11.379518         -11.398653         -11.405994   \n",
      "36         -11.378860         -11.389707         -11.412497   \n",
      "37         -11.380270         -11.385425         -11.416007   \n",
      "38         -11.378682         -11.393407         -11.409200   \n",
      "39         -11.379601         -11.396918         -11.408592   \n",
      "40         -11.381558         -11.386106         -11.414696   \n",
      "41         -11.388435         -11.396953         -11.438442   \n",
      "42         -11.379188         -11.396483         -11.407364   \n",
      "43         -11.379576         -11.398869         -11.405871   \n",
      "44         -11.380880         -11.393940         -11.411761   \n",
      "45         -11.379293         -11.397958         -11.406441   \n",
      "46         -11.378817         -11.394926         -11.408069   \n",
      "47         -11.381675         -11.394496         -11.412459   \n",
      "48         -11.379549         -11.396355         -11.408978   \n",
      "49         -11.378386         -11.392072         -11.410411   \n",
      "\n",
      "    split3_test_score  split4_test_score  mean_test_score  std_test_score  \\\n",
      "0          -11.501160         -11.385460       -11.414115        0.044532   \n",
      "1          -12.621060         -12.501931       -12.529188        0.074836   \n",
      "2          -12.364145         -12.228594       -12.270358        0.076472   \n",
      "3          -11.502254         -11.385535       -11.414130        0.045092   \n",
      "4          -14.054000         -14.037194       -13.982425        0.063956   \n",
      "5          -13.702893         -13.677898       -13.637857        0.059627   \n",
      "6          -11.519012         -11.395441       -11.421114        0.051156   \n",
      "7          -18.934900         -19.055553       -18.901784        0.087412   \n",
      "8          -11.518292         -11.394114       -11.419586        0.051423   \n",
      "9          -14.414558         -14.434122       -14.353065        0.064127   \n",
      "10         -11.630017         -11.488893       -11.517662        0.061320   \n",
      "11         -11.514628         -11.391789       -11.417496        0.050433   \n",
      "12         -11.501583         -11.385616       -11.414195        0.044703   \n",
      "13         -11.506239         -11.388726       -11.417149        0.045654   \n",
      "14         -11.506662         -11.388801       -11.417138        0.045886   \n",
      "15         -11.508679         -11.388521       -11.416599        0.047354   \n",
      "16         -11.503678         -11.386138       -11.414952        0.045486   \n",
      "17         -11.528167         -11.401111       -11.426960        0.053009   \n",
      "18         -11.503776         -11.386041       -11.414239        0.045865   \n",
      "19         -11.503092         -11.385832       -11.414886        0.045218   \n",
      "20         -11.510951         -11.390058       -11.416683        0.048648   \n",
      "21         -11.500833         -11.385606       -11.414151        0.044331   \n",
      "22         -11.500967         -11.385744       -11.414274        0.044338   \n",
      "23         -11.517657         -11.393686       -11.419156        0.051290   \n",
      "24         -11.505084         -11.386368       -11.414507        0.046474   \n",
      "25         -11.508505         -11.388752       -11.416845        0.047008   \n",
      "26         -11.506965         -11.387923       -11.415931        0.046856   \n",
      "27         -11.501627         -11.385419       -11.414067        0.044799   \n",
      "28         -11.507754         -11.387470       -11.415262        0.047611   \n",
      "29         -11.503215         -11.385811       -11.414809        0.045329   \n",
      "30         -11.512657         -11.390523       -11.417014        0.049556   \n",
      "31         -11.501101         -11.385667       -11.414245        0.044424   \n",
      "32         -11.502881         -11.385646       -11.414196        0.045392   \n",
      "33         -11.516475         -11.392691       -11.418844        0.050733   \n",
      "34         -11.502520         -11.385555       -11.414128        0.045231   \n",
      "35         -11.501024         -11.385540       -11.414146        0.044434   \n",
      "36         -11.507415         -11.387150       -11.415126        0.047473   \n",
      "37         -11.511431         -11.390289       -11.416684        0.048943   \n",
      "38         -11.504237         -11.386207       -11.414347        0.046063   \n",
      "39         -11.502810         -11.385757       -11.414735        0.045137   \n",
      "40         -11.510709         -11.389182       -11.416450        0.048517   \n",
      "41         -11.536923         -11.408332       -11.433817        0.054259   \n",
      "42         -11.502352         -11.385589       -11.414195        0.045113   \n",
      "43         -11.500833         -11.385606       -11.414151        0.044331   \n",
      "44         -11.504289         -11.387236       -11.415621        0.045519   \n",
      "45         -11.501208         -11.385410       -11.414062        0.044591   \n",
      "46         -11.503274         -11.385736       -11.414164        0.045619   \n",
      "47         -11.506743         -11.389162       -11.416907        0.046051   \n",
      "48         -11.503059         -11.385892       -11.414767        0.045259   \n",
      "49         -11.505113         -11.386450       -11.414486        0.046522   \n",
      "\n",
      "    rank_test_score  \n",
      "0                 3  \n",
      "1                46  \n",
      "2                45  \n",
      "3                 5  \n",
      "4                48  \n",
      "5                47  \n",
      "6                41  \n",
      "7                50  \n",
      "8                40  \n",
      "9                49  \n",
      "10               44  \n",
      "11               37  \n",
      "12               10  \n",
      "13               36  \n",
      "14               35  \n",
      "15               29  \n",
      "16               23  \n",
      "17               42  \n",
      "18               13  \n",
      "19               22  \n",
      "20               30  \n",
      "21                7  \n",
      "22               15  \n",
      "23               39  \n",
      "24               18  \n",
      "25               32  \n",
      "26               27  \n",
      "27                2  \n",
      "28               25  \n",
      "29               21  \n",
      "30               34  \n",
      "31               14  \n",
      "32               12  \n",
      "33               38  \n",
      "34                4  \n",
      "35                6  \n",
      "36               24  \n",
      "37               31  \n",
      "38               16  \n",
      "39               19  \n",
      "40               28  \n",
      "41               43  \n",
      "42               11  \n",
      "43                7  \n",
      "44               26  \n",
      "45                1  \n",
      "46                9  \n",
      "47               33  \n",
      "48               20  \n",
      "49               17  \n",
      "[ 0.77980314  2.15968096 20.44140656 ...  4.84713697 20.67316072\n",
      "  9.18487366]\n",
      "[43.37770578  3.60071596 36.55377131 ... -0.58627368  1.08810188\n",
      "  3.12632628]\n",
      "Train R-sq:\n",
      "0.6370531647034641\n",
      "Test R-sq:\n",
      "0.6480506348101345\n",
      "Train RMSE:\n",
      "11.38731859178422\n",
      "Test RMSE:\n",
      "11.337617372875439\n",
      "End Time = 2023-04-03 17:50:43.481140\n",
      "Script Time = 0:05:37.457632\n"
     ]
    }
   ],
   "source": [
    "# Start timer script\n",
    "start_time = dt.datetime.today()\n",
    "\n",
    "# Citation: Hochberg, 2018; Shanmukh, 2021\n",
    "m3v2_ls_pip = Pipeline([('si', SimpleImputer(strategy='median')),\n",
    "                        ('ss', StandardScaler()),\n",
    "                        ('ls', Lasso(random_state=1699))])\n",
    "\n",
    "alpha_hparam = Real(1e-3, 1e3, prior='log-uniform')\n",
    "selection_hparam = Categorical(['cyclic', 'random'])\n",
    "max_iter_hparam = Integer(100, 5000, prior='log-uniform')\n",
    "warm_start_hparam = Categorical([False, True])\n",
    "\n",
    "\n",
    "m3v2_ls_grd = {'ls__alpha': alpha_hparam,\n",
    "               'ls__selection': selection_hparam,\n",
    "               'ls__max_iter': max_iter_hparam,\n",
    "               'ls__warm_start': warm_start_hparam\n",
    "           }\n",
    "\n",
    "m3v2_ls = BayesSearchCV(m3v2_ls_pip,\n",
    "                       m3v2_ls_grd,\n",
    "                       scoring='neg_root_mean_squared_error',\n",
    "                        cv=5,\n",
    "                       n_jobs=2,\n",
    "                       refit=True,\n",
    "                       verbose=2)\n",
    "\n",
    "m3v2_ls.fit(train_x01, train_y01)\n",
    "\n",
    "print(f'Best Estimator:\\n{m3v2_ls.best_estimator_}')\n",
    "print(f'Coefficients:\\n{m3v2_ls.best_estimator_.named_steps[\"ls\"].coef_}')\n",
    "\n",
    "print(pd.DataFrame(m3v2_ls.cv_results_))\n",
    "\n",
    "train_m3v2_ls_y01_pred = m3v2_ls.predict(train_x01)\n",
    "print(train_m3v2_ls_y01_pred)\n",
    "\n",
    "test_m3v2_ls_y01_pred = m3v2_ls.predict(test_x01)\n",
    "print(test_m3v2_ls_y01_pred)\n",
    "\n",
    "# Display evaluation metrics\n",
    "# R-sq\n",
    "train_m3v2_ls_r2 = r2_score(train_y01, train_m3v2_ls_y01_pred)\n",
    "test_m3v2_ls_r2 = r2_score(test_y01, test_m3v2_ls_y01_pred)\n",
    "\n",
    "print(f'Train R-sq:\\n{train_m3v2_ls_r2}')\n",
    "print(f'Test R-sq:\\n{test_m3v2_ls_r2}')\n",
    "\n",
    "# RMSE\n",
    "train_m3v2_ls_rmse = mean_squared_error(train_y01, train_m3v2_ls_y01_pred, squared=False)\n",
    "test_m3v2_ls_rmse = mean_squared_error(test_y01, test_m3v2_ls_y01_pred, squared=False)\n",
    "\n",
    "print(f'Train RMSE:\\n{train_m3v2_ls_rmse}')\n",
    "print(f'Test RMSE:\\n{test_m3v2_ls_rmse}')\n",
    "\n",
    "# End timer script\n",
    "end_time = dt.datetime.today()\n",
    "time_elapse = end_time - start_time\n",
    "print(f'End Time = {end_time}')\n",
    "print(f'Script Time = {time_elapse}')"
   ]
  },
  {
   "cell_type": "code",
   "execution_count": 17,
   "id": "26638d66-e6de-4097-9bf2-12c8f7c5a11e",
   "metadata": {
    "tags": []
   },
   "outputs": [
    {
     "data": {
      "text/html": [
       "<div>\n",
       "<style scoped>\n",
       "    .dataframe tbody tr th:only-of-type {\n",
       "        vertical-align: middle;\n",
       "    }\n",
       "\n",
       "    .dataframe tbody tr th {\n",
       "        vertical-align: top;\n",
       "    }\n",
       "\n",
       "    .dataframe thead th {\n",
       "        text-align: right;\n",
       "    }\n",
       "</style>\n",
       "<table border=\"1\" class=\"dataframe\">\n",
       "  <thead>\n",
       "    <tr style=\"text-align: right;\">\n",
       "      <th></th>\n",
       "      <th>0</th>\n",
       "      <th>0</th>\n",
       "    </tr>\n",
       "  </thead>\n",
       "  <tbody>\n",
       "    <tr>\n",
       "      <th>0</th>\n",
       "      <td>borough_bronx</td>\n",
       "      <td>-0.058715</td>\n",
       "    </tr>\n",
       "    <tr>\n",
       "      <th>1</th>\n",
       "      <td>borough_brooklyn</td>\n",
       "      <td>1.205418</td>\n",
       "    </tr>\n",
       "    <tr>\n",
       "      <th>2</th>\n",
       "      <td>borough_manhattan</td>\n",
       "      <td>0.000000</td>\n",
       "    </tr>\n",
       "    <tr>\n",
       "      <th>3</th>\n",
       "      <td>borough_queens</td>\n",
       "      <td>-1.035593</td>\n",
       "    </tr>\n",
       "    <tr>\n",
       "      <th>4</th>\n",
       "      <td>borough_staten island</td>\n",
       "      <td>1.140972</td>\n",
       "    </tr>\n",
       "    <tr>\n",
       "      <th>5</th>\n",
       "      <td>relative_data_year_-4</td>\n",
       "      <td>-0.000000</td>\n",
       "    </tr>\n",
       "    <tr>\n",
       "      <th>6</th>\n",
       "      <td>relative_data_year_-3</td>\n",
       "      <td>-0.000000</td>\n",
       "    </tr>\n",
       "    <tr>\n",
       "      <th>7</th>\n",
       "      <td>relative_data_year_-2</td>\n",
       "      <td>0.004883</td>\n",
       "    </tr>\n",
       "    <tr>\n",
       "      <th>8</th>\n",
       "      <td>relative_data_year_-1</td>\n",
       "      <td>0.037309</td>\n",
       "    </tr>\n",
       "    <tr>\n",
       "      <th>9</th>\n",
       "      <td>relative_data_year_0</td>\n",
       "      <td>-0.000000</td>\n",
       "    </tr>\n",
       "    <tr>\n",
       "      <th>10</th>\n",
       "      <td>complaint_type_FELONY</td>\n",
       "      <td>-0.036584</td>\n",
       "    </tr>\n",
       "    <tr>\n",
       "      <th>11</th>\n",
       "      <td>complaint_type_MISDEMEANOR</td>\n",
       "      <td>0.005529</td>\n",
       "    </tr>\n",
       "    <tr>\n",
       "      <th>12</th>\n",
       "      <td>complaint_type_VIOLATION</td>\n",
       "      <td>0.000000</td>\n",
       "    </tr>\n",
       "    <tr>\n",
       "      <th>13</th>\n",
       "      <td>annual_evictions_x_borough</td>\n",
       "      <td>-0.000000</td>\n",
       "    </tr>\n",
       "    <tr>\n",
       "      <th>14</th>\n",
       "      <td>annual_complaint_counts</td>\n",
       "      <td>-0.026449</td>\n",
       "    </tr>\n",
       "    <tr>\n",
       "      <th>15</th>\n",
       "      <td>annual_grad_n</td>\n",
       "      <td>0.000000</td>\n",
       "    </tr>\n",
       "    <tr>\n",
       "      <th>16</th>\n",
       "      <td>annual_dropped_out_n</td>\n",
       "      <td>-0.000000</td>\n",
       "    </tr>\n",
       "    <tr>\n",
       "      <th>17</th>\n",
       "      <td>totalpop</td>\n",
       "      <td>8.524300</td>\n",
       "    </tr>\n",
       "    <tr>\n",
       "      <th>18</th>\n",
       "      <td>men</td>\n",
       "      <td>0.000000</td>\n",
       "    </tr>\n",
       "    <tr>\n",
       "      <th>19</th>\n",
       "      <td>women</td>\n",
       "      <td>2.772737</td>\n",
       "    </tr>\n",
       "    <tr>\n",
       "      <th>20</th>\n",
       "      <td>hispanic</td>\n",
       "      <td>0.589949</td>\n",
       "    </tr>\n",
       "    <tr>\n",
       "      <th>21</th>\n",
       "      <td>white</td>\n",
       "      <td>-3.452914</td>\n",
       "    </tr>\n",
       "    <tr>\n",
       "      <th>22</th>\n",
       "      <td>black</td>\n",
       "      <td>-2.296568</td>\n",
       "    </tr>\n",
       "    <tr>\n",
       "      <th>23</th>\n",
       "      <td>native</td>\n",
       "      <td>-0.376200</td>\n",
       "    </tr>\n",
       "    <tr>\n",
       "      <th>24</th>\n",
       "      <td>asian</td>\n",
       "      <td>-1.991567</td>\n",
       "    </tr>\n",
       "    <tr>\n",
       "      <th>25</th>\n",
       "      <td>citizen</td>\n",
       "      <td>-3.686178</td>\n",
       "    </tr>\n",
       "    <tr>\n",
       "      <th>26</th>\n",
       "      <td>income</td>\n",
       "      <td>-6.894890</td>\n",
       "    </tr>\n",
       "    <tr>\n",
       "      <th>27</th>\n",
       "      <td>incomeerr</td>\n",
       "      <td>0.158682</td>\n",
       "    </tr>\n",
       "    <tr>\n",
       "      <th>28</th>\n",
       "      <td>incomepercap</td>\n",
       "      <td>0.480605</td>\n",
       "    </tr>\n",
       "    <tr>\n",
       "      <th>29</th>\n",
       "      <td>incomepercaperr</td>\n",
       "      <td>-0.196538</td>\n",
       "    </tr>\n",
       "    <tr>\n",
       "      <th>30</th>\n",
       "      <td>professional</td>\n",
       "      <td>-2.652295</td>\n",
       "    </tr>\n",
       "    <tr>\n",
       "      <th>31</th>\n",
       "      <td>service</td>\n",
       "      <td>0.795731</td>\n",
       "    </tr>\n",
       "    <tr>\n",
       "      <th>32</th>\n",
       "      <td>office</td>\n",
       "      <td>0.000000</td>\n",
       "    </tr>\n",
       "    <tr>\n",
       "      <th>33</th>\n",
       "      <td>construction</td>\n",
       "      <td>-1.012306</td>\n",
       "    </tr>\n",
       "    <tr>\n",
       "      <th>34</th>\n",
       "      <td>production</td>\n",
       "      <td>-0.636332</td>\n",
       "    </tr>\n",
       "    <tr>\n",
       "      <th>35</th>\n",
       "      <td>drive</td>\n",
       "      <td>-1.451139</td>\n",
       "    </tr>\n",
       "    <tr>\n",
       "      <th>36</th>\n",
       "      <td>carpool</td>\n",
       "      <td>-0.487205</td>\n",
       "    </tr>\n",
       "    <tr>\n",
       "      <th>37</th>\n",
       "      <td>transit</td>\n",
       "      <td>-0.000000</td>\n",
       "    </tr>\n",
       "    <tr>\n",
       "      <th>38</th>\n",
       "      <td>walk</td>\n",
       "      <td>1.525501</td>\n",
       "    </tr>\n",
       "    <tr>\n",
       "      <th>39</th>\n",
       "      <td>othertransp</td>\n",
       "      <td>0.484748</td>\n",
       "    </tr>\n",
       "    <tr>\n",
       "      <th>40</th>\n",
       "      <td>workathome</td>\n",
       "      <td>0.569190</td>\n",
       "    </tr>\n",
       "    <tr>\n",
       "      <th>41</th>\n",
       "      <td>meancommute</td>\n",
       "      <td>-0.752393</td>\n",
       "    </tr>\n",
       "    <tr>\n",
       "      <th>42</th>\n",
       "      <td>employed</td>\n",
       "      <td>-8.319337</td>\n",
       "    </tr>\n",
       "    <tr>\n",
       "      <th>43</th>\n",
       "      <td>privatework</td>\n",
       "      <td>0.263855</td>\n",
       "    </tr>\n",
       "    <tr>\n",
       "      <th>44</th>\n",
       "      <td>publicwork</td>\n",
       "      <td>-1.414285</td>\n",
       "    </tr>\n",
       "    <tr>\n",
       "      <th>45</th>\n",
       "      <td>selfemployed</td>\n",
       "      <td>0.381264</td>\n",
       "    </tr>\n",
       "    <tr>\n",
       "      <th>46</th>\n",
       "      <td>familywork</td>\n",
       "      <td>0.732816</td>\n",
       "    </tr>\n",
       "    <tr>\n",
       "      <th>47</th>\n",
       "      <td>unemployment</td>\n",
       "      <td>1.607042</td>\n",
       "    </tr>\n",
       "    <tr>\n",
       "      <th>48</th>\n",
       "      <td>intercept</td>\n",
       "      <td>24.475273</td>\n",
       "    </tr>\n",
       "  </tbody>\n",
       "</table>\n",
       "</div>"
      ],
      "text/plain": [
       "                             0          0\n",
       "0                borough_bronx  -0.058715\n",
       "1             borough_brooklyn   1.205418\n",
       "2            borough_manhattan   0.000000\n",
       "3               borough_queens  -1.035593\n",
       "4        borough_staten island   1.140972\n",
       "5        relative_data_year_-4  -0.000000\n",
       "6        relative_data_year_-3  -0.000000\n",
       "7        relative_data_year_-2   0.004883\n",
       "8        relative_data_year_-1   0.037309\n",
       "9         relative_data_year_0  -0.000000\n",
       "10       complaint_type_FELONY  -0.036584\n",
       "11  complaint_type_MISDEMEANOR   0.005529\n",
       "12    complaint_type_VIOLATION   0.000000\n",
       "13  annual_evictions_x_borough  -0.000000\n",
       "14     annual_complaint_counts  -0.026449\n",
       "15               annual_grad_n   0.000000\n",
       "16        annual_dropped_out_n  -0.000000\n",
       "17                    totalpop   8.524300\n",
       "18                         men   0.000000\n",
       "19                       women   2.772737\n",
       "20                    hispanic   0.589949\n",
       "21                       white  -3.452914\n",
       "22                       black  -2.296568\n",
       "23                      native  -0.376200\n",
       "24                       asian  -1.991567\n",
       "25                     citizen  -3.686178\n",
       "26                      income  -6.894890\n",
       "27                   incomeerr   0.158682\n",
       "28                incomepercap   0.480605\n",
       "29             incomepercaperr  -0.196538\n",
       "30                professional  -2.652295\n",
       "31                     service   0.795731\n",
       "32                      office   0.000000\n",
       "33                construction  -1.012306\n",
       "34                  production  -0.636332\n",
       "35                       drive  -1.451139\n",
       "36                     carpool  -0.487205\n",
       "37                     transit  -0.000000\n",
       "38                        walk   1.525501\n",
       "39                 othertransp   0.484748\n",
       "40                  workathome   0.569190\n",
       "41                 meancommute  -0.752393\n",
       "42                    employed  -8.319337\n",
       "43                 privatework   0.263855\n",
       "44                  publicwork  -1.414285\n",
       "45                selfemployed   0.381264\n",
       "46                  familywork   0.732816\n",
       "47                unemployment   1.607042\n",
       "48                   intercept  24.475273"
      ]
     },
     "metadata": {},
     "output_type": "display_data"
    }
   ],
   "source": [
    "coef_intercept = np.hstack((m3v2_ls.best_estimator_.named_steps[\"ls\"].coef_,\n",
    "                            m3v2_ls.best_estimator_.named_steps[\"ls\"].intercept_))\n",
    "#print(coef_intercept)\n",
    "\n",
    "coef_intercept_df01 = pd.DataFrame(coef_intercept)\n",
    "#display(coef_intercept_df01)\n",
    "\n",
    "train_x01_col_names = list(train_x01.columns)\n",
    "train_x01_col_names.append('intercept')\n",
    "\n",
    "train_x01_col_names_df01 = pd.DataFrame(train_x01_col_names)\n",
    "#display(train_x01_col_names_df01)\n",
    "\n",
    "model_params = pd.concat([train_x01_col_names_df01, coef_intercept_df01], axis=1)\n",
    "display(model_params)"
   ]
  },
  {
   "cell_type": "markdown",
   "id": "482e6e17-d3a7-49f4-bdb7-5550f10cfc2a",
   "metadata": {},
   "source": [
    "## Release Resources"
   ]
  },
  {
   "cell_type": "code",
   "execution_count": 18,
   "id": "034b5c94-394b-4fac-aa24-880026e19549",
   "metadata": {},
   "outputs": [
    {
     "data": {
      "text/html": [
       "\n",
       "<p><b>Shutting down your kernel for this notebook to release resources.</b></p>\n",
       "<button class=\"sm-command-button\" data-commandlinker-command=\"kernelmenu:shutdown\" style=\"display:none;\">Shutdown Kernel</button>\n",
       "        \n",
       "<script>\n",
       "try {\n",
       "    els = document.getElementsByClassName(\"sm-command-button\");\n",
       "    els[0].click();\n",
       "}\n",
       "catch(err) {\n",
       "    // NoOp\n",
       "}    \n",
       "</script>\n"
      ],
      "text/plain": [
       "<IPython.core.display.HTML object>"
      ]
     },
     "metadata": {},
     "output_type": "display_data"
    }
   ],
   "source": [
    "%%html\n",
    "\n",
    "<p><b>Shutting down your kernel for this notebook to release resources.</b></p>\n",
    "<button class=\"sm-command-button\" data-commandlinker-command=\"kernelmenu:shutdown\" style=\"display:none;\">Shutdown Kernel</button>\n",
    "        \n",
    "<script>\n",
    "try {\n",
    "    els = document.getElementsByClassName(\"sm-command-button\");\n",
    "    els[0].click();\n",
    "}\n",
    "catch(err) {\n",
    "    // NoOp\n",
    "}    \n",
    "</script>"
   ]
  },
  {
   "cell_type": "code",
   "execution_count": 19,
   "id": "448d3322-a041-43ea-85da-0e347e3569da",
   "metadata": {
    "tags": []
   },
   "outputs": [
    {
     "data": {
      "application/javascript": [
       "\n",
       "try {\n",
       "    Jupyter.notebook.save_checkpoint();\n",
       "    Jupyter.notebook.session.delete();\n",
       "}\n",
       "catch(err) {\n",
       "    // NoOp\n",
       "}\n"
      ],
      "text/plain": [
       "<IPython.core.display.Javascript object>"
      ]
     },
     "metadata": {},
     "output_type": "display_data"
    }
   ],
   "source": [
    "%%javascript\n",
    "\n",
    "try {\n",
    "    Jupyter.notebook.save_checkpoint();\n",
    "    Jupyter.notebook.session.delete();\n",
    "}\n",
    "catch(err) {\n",
    "    // NoOp\n",
    "}"
   ]
  }
 ],
 "metadata": {
  "availableInstances": [
   {
    "_defaultOrder": 0,
    "_isFastLaunch": true,
    "category": "General purpose",
    "gpuNum": 0,
    "hideHardwareSpecs": false,
    "memoryGiB": 4,
    "name": "ml.t3.medium",
    "vcpuNum": 2
   },
   {
    "_defaultOrder": 1,
    "_isFastLaunch": false,
    "category": "General purpose",
    "gpuNum": 0,
    "hideHardwareSpecs": false,
    "memoryGiB": 8,
    "name": "ml.t3.large",
    "vcpuNum": 2
   },
   {
    "_defaultOrder": 2,
    "_isFastLaunch": false,
    "category": "General purpose",
    "gpuNum": 0,
    "hideHardwareSpecs": false,
    "memoryGiB": 16,
    "name": "ml.t3.xlarge",
    "vcpuNum": 4
   },
   {
    "_defaultOrder": 3,
    "_isFastLaunch": false,
    "category": "General purpose",
    "gpuNum": 0,
    "hideHardwareSpecs": false,
    "memoryGiB": 32,
    "name": "ml.t3.2xlarge",
    "vcpuNum": 8
   },
   {
    "_defaultOrder": 4,
    "_isFastLaunch": true,
    "category": "General purpose",
    "gpuNum": 0,
    "hideHardwareSpecs": false,
    "memoryGiB": 8,
    "name": "ml.m5.large",
    "vcpuNum": 2
   },
   {
    "_defaultOrder": 5,
    "_isFastLaunch": false,
    "category": "General purpose",
    "gpuNum": 0,
    "hideHardwareSpecs": false,
    "memoryGiB": 16,
    "name": "ml.m5.xlarge",
    "vcpuNum": 4
   },
   {
    "_defaultOrder": 6,
    "_isFastLaunch": false,
    "category": "General purpose",
    "gpuNum": 0,
    "hideHardwareSpecs": false,
    "memoryGiB": 32,
    "name": "ml.m5.2xlarge",
    "vcpuNum": 8
   },
   {
    "_defaultOrder": 7,
    "_isFastLaunch": false,
    "category": "General purpose",
    "gpuNum": 0,
    "hideHardwareSpecs": false,
    "memoryGiB": 64,
    "name": "ml.m5.4xlarge",
    "vcpuNum": 16
   },
   {
    "_defaultOrder": 8,
    "_isFastLaunch": false,
    "category": "General purpose",
    "gpuNum": 0,
    "hideHardwareSpecs": false,
    "memoryGiB": 128,
    "name": "ml.m5.8xlarge",
    "vcpuNum": 32
   },
   {
    "_defaultOrder": 9,
    "_isFastLaunch": false,
    "category": "General purpose",
    "gpuNum": 0,
    "hideHardwareSpecs": false,
    "memoryGiB": 192,
    "name": "ml.m5.12xlarge",
    "vcpuNum": 48
   },
   {
    "_defaultOrder": 10,
    "_isFastLaunch": false,
    "category": "General purpose",
    "gpuNum": 0,
    "hideHardwareSpecs": false,
    "memoryGiB": 256,
    "name": "ml.m5.16xlarge",
    "vcpuNum": 64
   },
   {
    "_defaultOrder": 11,
    "_isFastLaunch": false,
    "category": "General purpose",
    "gpuNum": 0,
    "hideHardwareSpecs": false,
    "memoryGiB": 384,
    "name": "ml.m5.24xlarge",
    "vcpuNum": 96
   },
   {
    "_defaultOrder": 12,
    "_isFastLaunch": false,
    "category": "General purpose",
    "gpuNum": 0,
    "hideHardwareSpecs": false,
    "memoryGiB": 8,
    "name": "ml.m5d.large",
    "vcpuNum": 2
   },
   {
    "_defaultOrder": 13,
    "_isFastLaunch": false,
    "category": "General purpose",
    "gpuNum": 0,
    "hideHardwareSpecs": false,
    "memoryGiB": 16,
    "name": "ml.m5d.xlarge",
    "vcpuNum": 4
   },
   {
    "_defaultOrder": 14,
    "_isFastLaunch": false,
    "category": "General purpose",
    "gpuNum": 0,
    "hideHardwareSpecs": false,
    "memoryGiB": 32,
    "name": "ml.m5d.2xlarge",
    "vcpuNum": 8
   },
   {
    "_defaultOrder": 15,
    "_isFastLaunch": false,
    "category": "General purpose",
    "gpuNum": 0,
    "hideHardwareSpecs": false,
    "memoryGiB": 64,
    "name": "ml.m5d.4xlarge",
    "vcpuNum": 16
   },
   {
    "_defaultOrder": 16,
    "_isFastLaunch": false,
    "category": "General purpose",
    "gpuNum": 0,
    "hideHardwareSpecs": false,
    "memoryGiB": 128,
    "name": "ml.m5d.8xlarge",
    "vcpuNum": 32
   },
   {
    "_defaultOrder": 17,
    "_isFastLaunch": false,
    "category": "General purpose",
    "gpuNum": 0,
    "hideHardwareSpecs": false,
    "memoryGiB": 192,
    "name": "ml.m5d.12xlarge",
    "vcpuNum": 48
   },
   {
    "_defaultOrder": 18,
    "_isFastLaunch": false,
    "category": "General purpose",
    "gpuNum": 0,
    "hideHardwareSpecs": false,
    "memoryGiB": 256,
    "name": "ml.m5d.16xlarge",
    "vcpuNum": 64
   },
   {
    "_defaultOrder": 19,
    "_isFastLaunch": false,
    "category": "General purpose",
    "gpuNum": 0,
    "hideHardwareSpecs": false,
    "memoryGiB": 384,
    "name": "ml.m5d.24xlarge",
    "vcpuNum": 96
   },
   {
    "_defaultOrder": 20,
    "_isFastLaunch": false,
    "category": "General purpose",
    "gpuNum": 0,
    "hideHardwareSpecs": true,
    "memoryGiB": 0,
    "name": "ml.geospatial.interactive",
    "supportedImageNames": [
     "sagemaker-geospatial-v1-0"
    ],
    "vcpuNum": 0
   },
   {
    "_defaultOrder": 21,
    "_isFastLaunch": true,
    "category": "Compute optimized",
    "gpuNum": 0,
    "hideHardwareSpecs": false,
    "memoryGiB": 4,
    "name": "ml.c5.large",
    "vcpuNum": 2
   },
   {
    "_defaultOrder": 22,
    "_isFastLaunch": false,
    "category": "Compute optimized",
    "gpuNum": 0,
    "hideHardwareSpecs": false,
    "memoryGiB": 8,
    "name": "ml.c5.xlarge",
    "vcpuNum": 4
   },
   {
    "_defaultOrder": 23,
    "_isFastLaunch": false,
    "category": "Compute optimized",
    "gpuNum": 0,
    "hideHardwareSpecs": false,
    "memoryGiB": 16,
    "name": "ml.c5.2xlarge",
    "vcpuNum": 8
   },
   {
    "_defaultOrder": 24,
    "_isFastLaunch": false,
    "category": "Compute optimized",
    "gpuNum": 0,
    "hideHardwareSpecs": false,
    "memoryGiB": 32,
    "name": "ml.c5.4xlarge",
    "vcpuNum": 16
   },
   {
    "_defaultOrder": 25,
    "_isFastLaunch": false,
    "category": "Compute optimized",
    "gpuNum": 0,
    "hideHardwareSpecs": false,
    "memoryGiB": 72,
    "name": "ml.c5.9xlarge",
    "vcpuNum": 36
   },
   {
    "_defaultOrder": 26,
    "_isFastLaunch": false,
    "category": "Compute optimized",
    "gpuNum": 0,
    "hideHardwareSpecs": false,
    "memoryGiB": 96,
    "name": "ml.c5.12xlarge",
    "vcpuNum": 48
   },
   {
    "_defaultOrder": 27,
    "_isFastLaunch": false,
    "category": "Compute optimized",
    "gpuNum": 0,
    "hideHardwareSpecs": false,
    "memoryGiB": 144,
    "name": "ml.c5.18xlarge",
    "vcpuNum": 72
   },
   {
    "_defaultOrder": 28,
    "_isFastLaunch": false,
    "category": "Compute optimized",
    "gpuNum": 0,
    "hideHardwareSpecs": false,
    "memoryGiB": 192,
    "name": "ml.c5.24xlarge",
    "vcpuNum": 96
   },
   {
    "_defaultOrder": 29,
    "_isFastLaunch": true,
    "category": "Accelerated computing",
    "gpuNum": 1,
    "hideHardwareSpecs": false,
    "memoryGiB": 16,
    "name": "ml.g4dn.xlarge",
    "vcpuNum": 4
   },
   {
    "_defaultOrder": 30,
    "_isFastLaunch": false,
    "category": "Accelerated computing",
    "gpuNum": 1,
    "hideHardwareSpecs": false,
    "memoryGiB": 32,
    "name": "ml.g4dn.2xlarge",
    "vcpuNum": 8
   },
   {
    "_defaultOrder": 31,
    "_isFastLaunch": false,
    "category": "Accelerated computing",
    "gpuNum": 1,
    "hideHardwareSpecs": false,
    "memoryGiB": 64,
    "name": "ml.g4dn.4xlarge",
    "vcpuNum": 16
   },
   {
    "_defaultOrder": 32,
    "_isFastLaunch": false,
    "category": "Accelerated computing",
    "gpuNum": 1,
    "hideHardwareSpecs": false,
    "memoryGiB": 128,
    "name": "ml.g4dn.8xlarge",
    "vcpuNum": 32
   },
   {
    "_defaultOrder": 33,
    "_isFastLaunch": false,
    "category": "Accelerated computing",
    "gpuNum": 4,
    "hideHardwareSpecs": false,
    "memoryGiB": 192,
    "name": "ml.g4dn.12xlarge",
    "vcpuNum": 48
   },
   {
    "_defaultOrder": 34,
    "_isFastLaunch": false,
    "category": "Accelerated computing",
    "gpuNum": 1,
    "hideHardwareSpecs": false,
    "memoryGiB": 256,
    "name": "ml.g4dn.16xlarge",
    "vcpuNum": 64
   },
   {
    "_defaultOrder": 35,
    "_isFastLaunch": false,
    "category": "Accelerated computing",
    "gpuNum": 1,
    "hideHardwareSpecs": false,
    "memoryGiB": 61,
    "name": "ml.p3.2xlarge",
    "vcpuNum": 8
   },
   {
    "_defaultOrder": 36,
    "_isFastLaunch": false,
    "category": "Accelerated computing",
    "gpuNum": 4,
    "hideHardwareSpecs": false,
    "memoryGiB": 244,
    "name": "ml.p3.8xlarge",
    "vcpuNum": 32
   },
   {
    "_defaultOrder": 37,
    "_isFastLaunch": false,
    "category": "Accelerated computing",
    "gpuNum": 8,
    "hideHardwareSpecs": false,
    "memoryGiB": 488,
    "name": "ml.p3.16xlarge",
    "vcpuNum": 64
   },
   {
    "_defaultOrder": 38,
    "_isFastLaunch": false,
    "category": "Accelerated computing",
    "gpuNum": 8,
    "hideHardwareSpecs": false,
    "memoryGiB": 768,
    "name": "ml.p3dn.24xlarge",
    "vcpuNum": 96
   },
   {
    "_defaultOrder": 39,
    "_isFastLaunch": false,
    "category": "Memory Optimized",
    "gpuNum": 0,
    "hideHardwareSpecs": false,
    "memoryGiB": 16,
    "name": "ml.r5.large",
    "vcpuNum": 2
   },
   {
    "_defaultOrder": 40,
    "_isFastLaunch": false,
    "category": "Memory Optimized",
    "gpuNum": 0,
    "hideHardwareSpecs": false,
    "memoryGiB": 32,
    "name": "ml.r5.xlarge",
    "vcpuNum": 4
   },
   {
    "_defaultOrder": 41,
    "_isFastLaunch": false,
    "category": "Memory Optimized",
    "gpuNum": 0,
    "hideHardwareSpecs": false,
    "memoryGiB": 64,
    "name": "ml.r5.2xlarge",
    "vcpuNum": 8
   },
   {
    "_defaultOrder": 42,
    "_isFastLaunch": false,
    "category": "Memory Optimized",
    "gpuNum": 0,
    "hideHardwareSpecs": false,
    "memoryGiB": 128,
    "name": "ml.r5.4xlarge",
    "vcpuNum": 16
   },
   {
    "_defaultOrder": 43,
    "_isFastLaunch": false,
    "category": "Memory Optimized",
    "gpuNum": 0,
    "hideHardwareSpecs": false,
    "memoryGiB": 256,
    "name": "ml.r5.8xlarge",
    "vcpuNum": 32
   },
   {
    "_defaultOrder": 44,
    "_isFastLaunch": false,
    "category": "Memory Optimized",
    "gpuNum": 0,
    "hideHardwareSpecs": false,
    "memoryGiB": 384,
    "name": "ml.r5.12xlarge",
    "vcpuNum": 48
   },
   {
    "_defaultOrder": 45,
    "_isFastLaunch": false,
    "category": "Memory Optimized",
    "gpuNum": 0,
    "hideHardwareSpecs": false,
    "memoryGiB": 512,
    "name": "ml.r5.16xlarge",
    "vcpuNum": 64
   },
   {
    "_defaultOrder": 46,
    "_isFastLaunch": false,
    "category": "Memory Optimized",
    "gpuNum": 0,
    "hideHardwareSpecs": false,
    "memoryGiB": 768,
    "name": "ml.r5.24xlarge",
    "vcpuNum": 96
   },
   {
    "_defaultOrder": 47,
    "_isFastLaunch": false,
    "category": "Accelerated computing",
    "gpuNum": 1,
    "hideHardwareSpecs": false,
    "memoryGiB": 16,
    "name": "ml.g5.xlarge",
    "vcpuNum": 4
   },
   {
    "_defaultOrder": 48,
    "_isFastLaunch": false,
    "category": "Accelerated computing",
    "gpuNum": 1,
    "hideHardwareSpecs": false,
    "memoryGiB": 32,
    "name": "ml.g5.2xlarge",
    "vcpuNum": 8
   },
   {
    "_defaultOrder": 49,
    "_isFastLaunch": false,
    "category": "Accelerated computing",
    "gpuNum": 1,
    "hideHardwareSpecs": false,
    "memoryGiB": 64,
    "name": "ml.g5.4xlarge",
    "vcpuNum": 16
   },
   {
    "_defaultOrder": 50,
    "_isFastLaunch": false,
    "category": "Accelerated computing",
    "gpuNum": 1,
    "hideHardwareSpecs": false,
    "memoryGiB": 128,
    "name": "ml.g5.8xlarge",
    "vcpuNum": 32
   },
   {
    "_defaultOrder": 51,
    "_isFastLaunch": false,
    "category": "Accelerated computing",
    "gpuNum": 1,
    "hideHardwareSpecs": false,
    "memoryGiB": 256,
    "name": "ml.g5.16xlarge",
    "vcpuNum": 64
   },
   {
    "_defaultOrder": 52,
    "_isFastLaunch": false,
    "category": "Accelerated computing",
    "gpuNum": 4,
    "hideHardwareSpecs": false,
    "memoryGiB": 192,
    "name": "ml.g5.12xlarge",
    "vcpuNum": 48
   },
   {
    "_defaultOrder": 53,
    "_isFastLaunch": false,
    "category": "Accelerated computing",
    "gpuNum": 4,
    "hideHardwareSpecs": false,
    "memoryGiB": 384,
    "name": "ml.g5.24xlarge",
    "vcpuNum": 96
   },
   {
    "_defaultOrder": 54,
    "_isFastLaunch": false,
    "category": "Accelerated computing",
    "gpuNum": 8,
    "hideHardwareSpecs": false,
    "memoryGiB": 768,
    "name": "ml.g5.48xlarge",
    "vcpuNum": 192
   }
  ],
  "kernelspec": {
   "display_name": "Python 3 (Data Science)",
   "language": "python",
   "name": "python3__SAGEMAKER_INTERNAL__arn:aws:sagemaker:us-east-1:081325390199:image/datascience-1.0"
  },
  "language_info": {
   "codemirror_mode": {
    "name": "ipython",
    "version": 3
   },
   "file_extension": ".py",
   "mimetype": "text/x-python",
   "name": "python",
   "nbconvert_exporter": "python",
   "pygments_lexer": "ipython3",
   "version": "3.7.10"
  }
 },
 "nbformat": 4,
 "nbformat_minor": 5
}
