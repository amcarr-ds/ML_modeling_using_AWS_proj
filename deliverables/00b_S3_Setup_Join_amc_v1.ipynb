{
 "cells": [
  {
   "cell_type": "markdown",
   "id": "a406a9cc-f539-4fc8-ac94-6964d066545e",
   "metadata": {},
   "source": [
    "# ADS-508-01-SP23 Team 8: Final Project"
   ]
  },
  {
   "cell_type": "markdown",
   "id": "b9d4d4ae-78da-4af4-8ca3-86c028dd6e91",
   "metadata": {},
   "source": [
    "# Setup Database and Athena Tables"
   ]
  },
  {
   "cell_type": "markdown",
   "id": "4d3b8db0-6910-4d3d-a870-fec468b57912",
   "metadata": {},
   "source": [
    "Much of the code is modified from `Fregly, C., & Barth, A. (2021). Data science on AWS: Implementing end-to-end, continuous AI and machine learning pipelines. O’Reilly.`"
   ]
  },
  {
   "cell_type": "markdown",
   "id": "4d04427e-2c8f-4b36-97d0-65e28951db9f",
   "metadata": {},
   "source": [
    "## Install missing dependencies\n",
    "\n",
    "[PyAthena](https://pypi.org/project/PyAthena/) is a Python DB API 2.0 (PEP 249) compliant client for Amazon Athena."
   ]
  },
  {
   "cell_type": "code",
   "execution_count": 3,
   "id": "189f41f2-460c-40df-a1d5-b7a39783149d",
   "metadata": {},
   "outputs": [
    {
     "name": "stdout",
     "output_type": "stream",
     "text": [
      "\u001b[33mWARNING: Running pip as the 'root' user can result in broken permissions and conflicting behaviour with the system package manager. It is recommended to use a virtual environment instead: https://pip.pypa.io/warnings/venv\u001b[0m\u001b[33m\n",
      "\u001b[0m"
     ]
    }
   ],
   "source": [
    "!pip install --disable-pip-version-check -q PyAthena==2.1.0"
   ]
  },
  {
   "cell_type": "markdown",
   "id": "bd6e5a52-94a3-489c-819b-f57885fe9cc6",
   "metadata": {},
   "source": [
    "## Globally import libraries"
   ]
  },
  {
   "cell_type": "code",
   "execution_count": 4,
   "id": "c1264efc-72eb-45b3-9311-6ff9a787a26b",
   "metadata": {},
   "outputs": [],
   "source": [
    "import boto3\n",
    "from botocore.client import ClientError\n",
    "import sagemaker\n",
    "import pandas as pd\n",
    "from pyathena import connect\n",
    "from IPython.core.display import display, HTML"
   ]
  },
  {
   "cell_type": "markdown",
   "id": "e0208499-b452-4abe-a5ae-475f0ecc4254",
   "metadata": {},
   "source": [
    "## Instantiate AWS SageMaker session"
   ]
  },
  {
   "cell_type": "code",
   "execution_count": 5,
   "id": "6c4ef463-dd80-4d28-9a1f-09f5261fca85",
   "metadata": {},
   "outputs": [],
   "source": [
    "session = boto3.session.Session()\n",
    "region = session.region_name\n",
    "sagemaker_session = sagemaker.Session()\n",
    "def_bucket = sagemaker_session.default_bucket()\n",
    "bucket = 'sagemaker-us-east-ads508-sp23-t8'\n",
    "\n",
    "s3 = boto3.Session().client(service_name=\"s3\",\n",
    "                            region_name=region)"
   ]
  },
  {
   "cell_type": "code",
   "execution_count": 6,
   "id": "580594ea-994e-4fcf-987a-2ddb722c4237",
   "metadata": {},
   "outputs": [],
   "source": [
    "setup_s3_bucket_passed = False\n",
    "ingest_create_athena_db_passed = False\n",
    "ingest_create_athena_table_tsv_passed = False"
   ]
  },
  {
   "cell_type": "code",
   "execution_count": 7,
   "id": "59fe83df-3b8d-4120-ae9a-221497980a76",
   "metadata": {},
   "outputs": [
    {
     "name": "stdout",
     "output_type": "stream",
     "text": [
      "Default bucket: sagemaker-us-east-1-657724983756\n",
      "Public T8 bucket: sagemaker-us-east-ads508-sp23-t8\n"
     ]
    }
   ],
   "source": [
    "print(f\"Default bucket: {def_bucket}\")\n",
    "print(f\"Public T8 bucket: {bucket}\")"
   ]
  },
  {
   "cell_type": "markdown",
   "id": "aae823a2-4c36-4d81-a2fb-496557565c0b",
   "metadata": {},
   "source": [
    "## Verify S3 Bucket Creation"
   ]
  },
  {
   "cell_type": "code",
   "execution_count": 8,
   "id": "7c67927d-c9e0-4b49-8b94-3fa999e09586",
   "metadata": {},
   "outputs": [
    {
     "name": "stdout",
     "output_type": "stream",
     "text": [
      "2023-03-16 17:05:02 aws-athena-query-results-657724983756-us-east-1\n",
      "2023-03-02 16:56:48 sagemaker-studio-657724983756-5nh7ydsouq7\n",
      "2023-03-02 17:25:41 sagemaker-studio-657724983756-7yc8bp8xk0b\n",
      "2023-03-02 17:01:51 sagemaker-us-east-1-657724983756\n",
      "2023-03-17 05:19:31 sagemaker-us-east-ads508-sp23-t8\n"
     ]
    }
   ],
   "source": [
    "%%bash\n",
    "\n",
    "aws s3 ls s3://${bucket}/"
   ]
  },
  {
   "cell_type": "code",
   "execution_count": 9,
   "id": "e38a0299-5e04-4dd4-ada1-9cfd9de9caf2",
   "metadata": {},
   "outputs": [
    {
     "name": "stdout",
     "output_type": "stream",
     "text": [
      "{'ResponseMetadata': {'RequestId': '3M7QCX621FG6HM0T', 'HostId': 'IYJClEFWEtK3JIGUVIFtrvq/aYESk0eFsF8HyXWqK8mqfid4vnK7iw8c+Dv1dWBkc98cfYq43FE=', 'HTTPStatusCode': 200, 'HTTPHeaders': {'x-amz-id-2': 'IYJClEFWEtK3JIGUVIFtrvq/aYESk0eFsF8HyXWqK8mqfid4vnK7iw8c+Dv1dWBkc98cfYq43FE=', 'x-amz-request-id': '3M7QCX621FG6HM0T', 'date': 'Tue, 21 Mar 2023 17:06:54 GMT', 'x-amz-bucket-region': 'us-east-1', 'x-amz-access-point-alias': 'false', 'content-type': 'application/xml', 'server': 'AmazonS3'}, 'RetryAttempts': 0}}\n"
     ]
    }
   ],
   "source": [
    "response = None\n",
    "\n",
    "try:\n",
    "    response = s3.head_bucket(Bucket=bucket)\n",
    "    print(response)\n",
    "    setup_s3_bucket_passed = True\n",
    "except ClientError as e:\n",
    "    print(f\"[ERROR] Cannot find bucket {bucket} in {response} due to {e}.\")"
   ]
  },
  {
   "cell_type": "code",
   "execution_count": 10,
   "id": "58668029-ed3a-478a-9c90-01f6db041edb",
   "metadata": {},
   "outputs": [
    {
     "name": "stdout",
     "output_type": "stream",
     "text": [
      "Stored 'setup_s3_bucket_passed' (bool)\n"
     ]
    }
   ],
   "source": [
    "%store setup_s3_bucket_passed"
   ]
  },
  {
   "cell_type": "markdown",
   "id": "76e4c84a-fcd9-4ba3-a750-ee67cebc29e8",
   "metadata": {},
   "source": [
    "## Create Athena Database"
   ]
  },
  {
   "cell_type": "code",
   "execution_count": 11,
   "id": "dd99eeab-b1c0-4d1b-930f-78006e06d42d",
   "metadata": {},
   "outputs": [],
   "source": [
    "database_name = \"ads508_t8\""
   ]
  },
  {
   "cell_type": "code",
   "execution_count": 12,
   "id": "3c4ba780-9ea7-4a9a-a87a-d4aabca741df",
   "metadata": {},
   "outputs": [
    {
     "name": "stdout",
     "output_type": "stream",
     "text": [
      "s3://sagemaker-us-east-ads508-sp23-t8/athena/staging\n"
     ]
    }
   ],
   "source": [
    "# Set S3 staging directory -- this is a temporary directory used for Athena queries\n",
    "s3_staging_dir = f\"s3://{bucket}/athena/staging\"\n",
    "print(s3_staging_dir)"
   ]
  },
  {
   "cell_type": "code",
   "execution_count": 13,
   "id": "bd3f1870-bb61-4c23-a772-554578d4e84e",
   "metadata": {},
   "outputs": [],
   "source": [
    "conn = connect(region_name=region,\n",
    "               s3_staging_dir=s3_staging_dir)"
   ]
  },
  {
   "cell_type": "markdown",
   "id": "5a137327-0065-4ef4-8db8-c74ac225a649",
   "metadata": {},
   "source": [
    "### Verify The Database Has Been Created Succesfully"
   ]
  },
  {
   "cell_type": "code",
   "execution_count": 14,
   "id": "d79bd75e-3cdd-424a-9987-b36ef1224de5",
   "metadata": {},
   "outputs": [
    {
     "data": {
      "text/html": [
       "<div>\n",
       "<style scoped>\n",
       "    .dataframe tbody tr th:only-of-type {\n",
       "        vertical-align: middle;\n",
       "    }\n",
       "\n",
       "    .dataframe tbody tr th {\n",
       "        vertical-align: top;\n",
       "    }\n",
       "\n",
       "    .dataframe thead th {\n",
       "        text-align: right;\n",
       "    }\n",
       "</style>\n",
       "<table border=\"1\" class=\"dataframe\">\n",
       "  <thead>\n",
       "    <tr style=\"text-align: right;\">\n",
       "      <th></th>\n",
       "      <th>database_name</th>\n",
       "    </tr>\n",
       "  </thead>\n",
       "  <tbody>\n",
       "    <tr>\n",
       "      <th>0</th>\n",
       "      <td>ads508_t8</td>\n",
       "    </tr>\n",
       "    <tr>\n",
       "      <th>1</th>\n",
       "      <td>default</td>\n",
       "    </tr>\n",
       "    <tr>\n",
       "      <th>2</th>\n",
       "      <td>dsoaws</td>\n",
       "    </tr>\n",
       "  </tbody>\n",
       "</table>\n",
       "</div>"
      ],
      "text/plain": [
       "  database_name\n",
       "0     ads508_t8\n",
       "1       default\n",
       "2        dsoaws"
      ]
     },
     "execution_count": 14,
     "metadata": {},
     "output_type": "execute_result"
    }
   ],
   "source": [
    "show_db_stmnt = \"SHOW DATABASES\"\n",
    "\n",
    "df_show = pd.read_sql(show_db_stmnt,\n",
    "                      conn)\n",
    "df_show.head(17)"
   ]
  },
  {
   "cell_type": "code",
   "execution_count": 15,
   "id": "ebbde0c0-1fbd-45d2-be0d-9196ceb9f0c3",
   "metadata": {},
   "outputs": [],
   "source": [
    "if database_name in df_show.values:\n",
    "    ingest_create_athena_db_passed = True"
   ]
  },
  {
   "cell_type": "code",
   "execution_count": 16,
   "id": "ef5ac3ab-1499-4fc5-b976-fd15db46563a",
   "metadata": {},
   "outputs": [
    {
     "name": "stdout",
     "output_type": "stream",
     "text": [
      "Stored 'ingest_create_athena_db_passed' (bool)\n"
     ]
    }
   ],
   "source": [
    "%store ingest_create_athena_db_passed"
   ]
  },
  {
   "cell_type": "markdown",
   "id": "7e02f2a5-a19e-447e-81eb-4e869c1cb119",
   "metadata": {},
   "source": [
    "# Create Parquet Files from TSV Table\n",
    "\n",
    "As you can see from the query below, we’re also adding a new `year` column to our dataset by converting the `review_date` string to a date format, and then cast the year out of the date. Let’s store the year value as an integer. And let's partition the Parquet data by `Product Category`."
   ]
  },
  {
   "cell_type": "code",
   "execution_count": 17,
   "id": "1b63979a-f716-4b7a-9eab-a6c782cfc449",
   "metadata": {},
   "outputs": [],
   "source": [
    "ingest_create_athena_table_parquet_passed = False"
   ]
  },
  {
   "cell_type": "code",
   "execution_count": 18,
   "id": "022297a4-05bd-49e6-93f1-1a663688b791",
   "metadata": {},
   "outputs": [],
   "source": [
    "%store -r ingest_create_athena_table_tsv_passed"
   ]
  },
  {
   "cell_type": "code",
   "execution_count": 19,
   "id": "5e55603c-8bcb-4881-90c1-d7633e3656a2",
   "metadata": {},
   "outputs": [],
   "source": [
    "try:\n",
    "    ingest_create_athena_table_tsv_passed\n",
    "except NameError:\n",
    "    print(\"++++++++++++++++++++++++++++++++++++++++++++++\")\n",
    "    print(\"[ERROR] YOU HAVE TO RUN ALL PREVIOUS NOTEBOOKS.  You did not register the TSV Data.\")\n",
    "    print(\"++++++++++++++++++++++++++++++++++++++++++++++\")"
   ]
  },
  {
   "cell_type": "code",
   "execution_count": 20,
   "id": "2d798094-cff9-417e-be1a-97c120bb87e2",
   "metadata": {},
   "outputs": [
    {
     "name": "stdout",
     "output_type": "stream",
     "text": [
      "True\n"
     ]
    }
   ],
   "source": [
    "print(ingest_create_athena_table_tsv_passed)"
   ]
  },
  {
   "cell_type": "code",
   "execution_count": 21,
   "id": "cdd50ed5-ccf3-460a-bb66-fb61530ac48a",
   "metadata": {},
   "outputs": [
    {
     "name": "stdout",
     "output_type": "stream",
     "text": [
      "[OK]\n"
     ]
    }
   ],
   "source": [
    "if not ingest_create_athena_table_tsv_passed:\n",
    "    print(\"++++++++++++++++++++++++++++++++++++++++++++++\")\n",
    "    print(\"[ERROR] YOU HAVE TO RUN ALL PREVIOUS NOTEBOOKS.  You did not register the TSV Data.\")\n",
    "    print(\"++++++++++++++++++++++++++++++++++++++++++++++\")\n",
    "else:\n",
    "    print(\"[OK]\")"
   ]
  },
  {
   "cell_type": "markdown",
   "id": "6c68e8e4-72c7-435f-a247-691779962bac",
   "metadata": {},
   "source": [
    "## Define custom function to create tables in existing database"
   ]
  },
  {
   "cell_type": "code",
   "execution_count": 22,
   "id": "1cf69f1e-e1ca-4b94-9d44-198f0e989961",
   "metadata": {},
   "outputs": [],
   "source": [
    "def create_athena_tbl_tsv(conn=None,\n",
    "                          db=None,\n",
    "                          tbl_name=None,\n",
    "                          fields='',\n",
    "                          s3_path=None,\n",
    "                          delim=',',\n",
    "                          ret='',\n",
    "                          comp='',\n",
    "                          skip=''):\n",
    "    # Set Athena parameters\n",
    "\n",
    "    # SQL statement to execute\n",
    "    drop_tsv_tbl_stmnt = f\"\"\"DROP TABLE IF EXISTS {db}.{tbl_name}\"\"\"\n",
    "\n",
    "    create_tsv_tbl_stmnt = f\"\"\"\n",
    "        CREATE EXTERNAL TABLE IF NOT EXISTS {db}.{tbl_name}({fields})\n",
    "        ROW FORMAT DELIMITED\n",
    "            FIELDS\n",
    "                TERMINATED BY '{delim}'\n",
    "            LINES\n",
    "                TERMINATED BY '{ret}\\\\n'\n",
    "        LOCATION '{s3_path}'\n",
    "        TBLPROPERTIES ({comp}{skip})\n",
    "        \"\"\"\n",
    "\n",
    "    print(f'Create table statement:\\n{create_tsv_tbl_stmnt}')\n",
    "\n",
    "    pd.read_sql(drop_tsv_tbl_stmnt,\n",
    "                conn)\n",
    "\n",
    "    pd.read_sql(create_tsv_tbl_stmnt,\n",
    "                conn)\n",
    "    \n",
    "    # Verify The Table Has Been Created Succesfully\n",
    "    show_tsv_tbl_stmnt = f\"SHOW TABLES IN {db}\"\n",
    "\n",
    "    df_show = pd.read_sql(show_tsv_tbl_stmnt,\n",
    "                          conn)\n",
    "    display(df_show.head(17))\n",
    "\n",
    "    if tbl_name in df_show.values:\n",
    "        ingest_create_athena_table_tsv_passed = True\n",
    "\n",
    "    print(f'\\nDataframe contains records: {ingest_create_athena_table_tsv_passed}')"
   ]
  },
  {
   "cell_type": "markdown",
   "id": "3698b734-4758-47bf-b8d5-b37d3a011285",
   "metadata": {},
   "source": [
    "## Create Athena Table from Local TSV File - `census_block_loc.csv`"
   ]
  },
  {
   "cell_type": "markdown",
   "id": "597876fb-a11d-4575-bc09-3773f3c3ab99",
   "metadata": {},
   "source": [
    "### Dataset columns\n",
    "\n"
   ]
  },
  {
   "cell_type": "code",
   "execution_count": 23,
   "id": "37c4b59c-2608-4154-a558-1edd215f1349",
   "metadata": {},
   "outputs": [
    {
     "name": "stdout",
     "output_type": "stream",
     "text": [
      "s3://sagemaker-us-east-ads508-sp23-t8/raw_data/census_block\n",
      "Create table statement:\n",
      "\n",
      "        CREATE EXTERNAL TABLE IF NOT EXISTS ads508_t8.census_block(\n",
      "latitude double,\n",
      "longitude double,\n",
      "blockCode string,\n",
      "county string\n",
      ")\n",
      "        ROW FORMAT DELIMITED\n",
      "            FIELDS\n",
      "                TERMINATED BY ','\n",
      "            LINES\n",
      "                TERMINATED BY '\\n'\n",
      "        LOCATION 's3://sagemaker-us-east-ads508-sp23-t8/raw_data/census_block'\n",
      "        TBLPROPERTIES ('skip.header.line.count'='1')\n",
      "        \n"
     ]
    },
    {
     "data": {
      "text/html": [
       "<div>\n",
       "<style scoped>\n",
       "    .dataframe tbody tr th:only-of-type {\n",
       "        vertical-align: middle;\n",
       "    }\n",
       "\n",
       "    .dataframe tbody tr th {\n",
       "        vertical-align: top;\n",
       "    }\n",
       "\n",
       "    .dataframe thead th {\n",
       "        text-align: right;\n",
       "    }\n",
       "</style>\n",
       "<table border=\"1\" class=\"dataframe\">\n",
       "  <thead>\n",
       "    <tr style=\"text-align: right;\">\n",
       "      <th></th>\n",
       "      <th>tab_name</th>\n",
       "    </tr>\n",
       "  </thead>\n",
       "  <tbody>\n",
       "    <tr>\n",
       "      <th>0</th>\n",
       "      <td>census</td>\n",
       "    </tr>\n",
       "    <tr>\n",
       "      <th>1</th>\n",
       "      <td>census_block</td>\n",
       "    </tr>\n",
       "    <tr>\n",
       "      <th>2</th>\n",
       "      <td>crime</td>\n",
       "    </tr>\n",
       "    <tr>\n",
       "      <th>3</th>\n",
       "      <td>crime_pqt</td>\n",
       "    </tr>\n",
       "    <tr>\n",
       "      <th>4</th>\n",
       "      <td>evictions</td>\n",
       "    </tr>\n",
       "    <tr>\n",
       "      <th>5</th>\n",
       "      <td>grad_outcomes</td>\n",
       "    </tr>\n",
       "    <tr>\n",
       "      <th>6</th>\n",
       "      <td>hs_info</td>\n",
       "    </tr>\n",
       "    <tr>\n",
       "      <th>7</th>\n",
       "      <td>jobs</td>\n",
       "    </tr>\n",
       "  </tbody>\n",
       "</table>\n",
       "</div>"
      ],
      "text/plain": [
       "        tab_name\n",
       "0         census\n",
       "1   census_block\n",
       "2          crime\n",
       "3      crime_pqt\n",
       "4      evictions\n",
       "5  grad_outcomes\n",
       "6        hs_info\n",
       "7           jobs"
      ]
     },
     "metadata": {},
     "output_type": "display_data"
    },
    {
     "name": "stdout",
     "output_type": "stream",
     "text": [
      "\n",
      "Dataframe contains records: True\n"
     ]
    }
   ],
   "source": [
    "ceb_tsv_tbl_name = 'census_block'\n",
    "ceb_tsv_field_list = \"\"\"\n",
    "latitude double,\n",
    "longitude double,\n",
    "blockCode string,\n",
    "county string\n",
    "\"\"\"\n",
    "ceb_tsv_s3_raw_data_path = f\"s3://{bucket}/raw_data/census_block\"\n",
    "print(ceb_tsv_s3_raw_data_path)\n",
    "\n",
    "create_athena_tbl_tsv(conn=conn,\n",
    "                      db=database_name,\n",
    "                      tbl_name=ceb_tsv_tbl_name,\n",
    "                      fields=ceb_tsv_field_list,\n",
    "                      s3_path=ceb_tsv_s3_raw_data_path,\n",
    "                      comp='',\n",
    "                      skip=\"'skip.header.line.count'='1'\")"
   ]
  },
  {
   "cell_type": "markdown",
   "id": "801d4cf4-db13-4f65-a86a-c15d2edef887",
   "metadata": {},
   "source": [
    "### Run A Sample Query"
   ]
  },
  {
   "cell_type": "code",
   "execution_count": 24,
   "id": "dbdadc9d-9a80-4a08-a2bd-7df9e398751e",
   "metadata": {
    "tags": []
   },
   "outputs": [
    {
     "name": "stdout",
     "output_type": "stream",
     "text": [
      "\n",
      "    SELECT\n",
      "        blockCode,\n",
      "        count(*),\n",
      "        min(latitude) AS min_lat,\n",
      "        max(latitude) AS max_lat,\n",
      "        min(longitude) AS min_long,\n",
      "        max(longitude) AS max_long     \n",
      "    FROM ads508_t8.census_block\n",
      "    GROUP BY blockCode\n",
      "    ORDER BY count(*) DESC\n",
      "    LIMIT 50000\n",
      "    \n",
      "(20406, 6)\n"
     ]
    },
    {
     "data": {
      "text/html": [
       "<div>\n",
       "<style scoped>\n",
       "    .dataframe tbody tr th:only-of-type {\n",
       "        vertical-align: middle;\n",
       "    }\n",
       "\n",
       "    .dataframe tbody tr th {\n",
       "        vertical-align: top;\n",
       "    }\n",
       "\n",
       "    .dataframe thead th {\n",
       "        text-align: right;\n",
       "    }\n",
       "</style>\n",
       "<table border=\"1\" class=\"dataframe\">\n",
       "  <thead>\n",
       "    <tr style=\"text-align: right;\">\n",
       "      <th></th>\n",
       "      <th>blockCode</th>\n",
       "      <th>_col1</th>\n",
       "      <th>min_lat</th>\n",
       "      <th>max_lat</th>\n",
       "      <th>min_long</th>\n",
       "      <th>max_long</th>\n",
       "    </tr>\n",
       "  </thead>\n",
       "  <tbody>\n",
       "    <tr>\n",
       "      <th>0</th>\n",
       "      <td>360819901000008</td>\n",
       "      <td>550</td>\n",
       "      <td>40.498090</td>\n",
       "      <td>40.570452</td>\n",
       "      <td>-73.896935</td>\n",
       "      <td>-73.808291</td>\n",
       "    </tr>\n",
       "    <tr>\n",
       "      <th>1</th>\n",
       "      <td>360819901000012</td>\n",
       "      <td>537</td>\n",
       "      <td>40.511658</td>\n",
       "      <td>40.565930</td>\n",
       "      <td>-74.039397</td>\n",
       "      <td>-73.938090</td>\n",
       "    </tr>\n",
       "    <tr>\n",
       "      <th>2</th>\n",
       "      <td>360599904000008</td>\n",
       "      <td>354</td>\n",
       "      <td>40.534271</td>\n",
       "      <td>40.579497</td>\n",
       "      <td>-73.767136</td>\n",
       "      <td>-73.706985</td>\n",
       "    </tr>\n",
       "    <tr>\n",
       "      <th>3</th>\n",
       "      <td>340259900000002</td>\n",
       "      <td>328</td>\n",
       "      <td>40.486784</td>\n",
       "      <td>40.525226</td>\n",
       "      <td>-74.064724</td>\n",
       "      <td>-73.950754</td>\n",
       "    </tr>\n",
       "    <tr>\n",
       "      <th>4</th>\n",
       "      <td>360599904000006</td>\n",
       "      <td>317</td>\n",
       "      <td>40.536533</td>\n",
       "      <td>40.577236</td>\n",
       "      <td>-73.700653</td>\n",
       "      <td>-73.650000</td>\n",
       "    </tr>\n",
       "    <tr>\n",
       "      <th>5</th>\n",
       "      <td>340259900000001</td>\n",
       "      <td>308</td>\n",
       "      <td>40.484523</td>\n",
       "      <td>40.522965</td>\n",
       "      <td>-73.985578</td>\n",
       "      <td>-73.887437</td>\n",
       "    </tr>\n",
       "    <tr>\n",
       "      <th>6</th>\n",
       "      <td>360859901000005</td>\n",
       "      <td>283</td>\n",
       "      <td>40.507136</td>\n",
       "      <td>40.559146</td>\n",
       "      <td>-74.105879</td>\n",
       "      <td>-74.039397</td>\n",
       "    </tr>\n",
       "    <tr>\n",
       "      <th>7</th>\n",
       "      <td>360819901000009</td>\n",
       "      <td>273</td>\n",
       "      <td>40.491307</td>\n",
       "      <td>40.550101</td>\n",
       "      <td>-73.947588</td>\n",
       "      <td>-73.884271</td>\n",
       "    </tr>\n",
       "    <tr>\n",
       "      <th>8</th>\n",
       "      <td>360470702030001</td>\n",
       "      <td>237</td>\n",
       "      <td>40.579497</td>\n",
       "      <td>40.642814</td>\n",
       "      <td>-73.890603</td>\n",
       "      <td>-73.836784</td>\n",
       "    </tr>\n",
       "    <tr>\n",
       "      <th>9</th>\n",
       "      <td>360599902000001</td>\n",
       "      <td>233</td>\n",
       "      <td>40.868945</td>\n",
       "      <td>40.927739</td>\n",
       "      <td>-73.694322</td>\n",
       "      <td>-73.650000</td>\n",
       "    </tr>\n",
       "    <tr>\n",
       "      <th>10</th>\n",
       "      <td>360859901000006</td>\n",
       "      <td>231</td>\n",
       "      <td>40.500352</td>\n",
       "      <td>40.543317</td>\n",
       "      <td>-74.131206</td>\n",
       "      <td>-74.061558</td>\n",
       "    </tr>\n",
       "    <tr>\n",
       "      <th>11</th>\n",
       "      <td>360859901000003</td>\n",
       "      <td>173</td>\n",
       "      <td>40.545578</td>\n",
       "      <td>40.586281</td>\n",
       "      <td>-74.083719</td>\n",
       "      <td>-74.036231</td>\n",
       "    </tr>\n",
       "    <tr>\n",
       "      <th>12</th>\n",
       "      <td>360599901000001</td>\n",
       "      <td>170</td>\n",
       "      <td>40.844070</td>\n",
       "      <td>40.900603</td>\n",
       "      <td>-73.754472</td>\n",
       "      <td>-73.678492</td>\n",
       "    </tr>\n",
       "    <tr>\n",
       "      <th>13</th>\n",
       "      <td>360810716001028</td>\n",
       "      <td>159</td>\n",
       "      <td>40.622462</td>\n",
       "      <td>40.663166</td>\n",
       "      <td>-73.830452</td>\n",
       "      <td>-73.748141</td>\n",
       "    </tr>\n",
       "    <tr>\n",
       "      <th>14</th>\n",
       "      <td>361190076002003</td>\n",
       "      <td>159</td>\n",
       "      <td>40.896080</td>\n",
       "      <td>40.930000</td>\n",
       "      <td>-73.710151</td>\n",
       "      <td>-73.650000</td>\n",
       "    </tr>\n",
       "  </tbody>\n",
       "</table>\n",
       "</div>"
      ],
      "text/plain": [
       "          blockCode  _col1    min_lat    max_lat   min_long   max_long\n",
       "0   360819901000008    550  40.498090  40.570452 -73.896935 -73.808291\n",
       "1   360819901000012    537  40.511658  40.565930 -74.039397 -73.938090\n",
       "2   360599904000008    354  40.534271  40.579497 -73.767136 -73.706985\n",
       "3   340259900000002    328  40.486784  40.525226 -74.064724 -73.950754\n",
       "4   360599904000006    317  40.536533  40.577236 -73.700653 -73.650000\n",
       "5   340259900000001    308  40.484523  40.522965 -73.985578 -73.887437\n",
       "6   360859901000005    283  40.507136  40.559146 -74.105879 -74.039397\n",
       "7   360819901000009    273  40.491307  40.550101 -73.947588 -73.884271\n",
       "8   360470702030001    237  40.579497  40.642814 -73.890603 -73.836784\n",
       "9   360599902000001    233  40.868945  40.927739 -73.694322 -73.650000\n",
       "10  360859901000006    231  40.500352  40.543317 -74.131206 -74.061558\n",
       "11  360859901000003    173  40.545578  40.586281 -74.083719 -74.036231\n",
       "12  360599901000001    170  40.844070  40.900603 -73.754472 -73.678492\n",
       "13  360810716001028    159  40.622462  40.663166 -73.830452 -73.748141\n",
       "14  361190076002003    159  40.896080  40.930000 -73.710151 -73.650000"
      ]
     },
     "metadata": {},
     "output_type": "display_data"
    }
   ],
   "source": [
    "ceb_select_dbn_stmnt01 = f\"\"\"\n",
    "    SELECT\n",
    "        blockCode,\n",
    "        count(*),\n",
    "        min(latitude) AS min_lat,\n",
    "        max(latitude) AS max_lat,\n",
    "        min(longitude) AS min_long,\n",
    "        max(longitude) AS max_long     \n",
    "    FROM {database_name}.{ceb_tsv_tbl_name}\n",
    "    GROUP BY blockCode\n",
    "    ORDER BY count(*) DESC\n",
    "    LIMIT 50000\n",
    "    \"\"\"\n",
    "\n",
    "print(ceb_select_dbn_stmnt01)\n",
    "\n",
    "ceb_df01_s01 = pd.read_sql(ceb_select_dbn_stmnt01,\n",
    "                           conn)\n",
    "print(ceb_df01_s01.shape)\n",
    "display(ceb_df01_s01.head(15))"
   ]
  },
  {
   "cell_type": "code",
   "execution_count": 25,
   "id": "dd66c84c-2926-4b0a-9df9-c4ad053fe734",
   "metadata": {},
   "outputs": [],
   "source": [
    "# Set S3 path to Parquet data\n",
    "abt_s3_data_path = f\"s3://{bucket}/ABT\""
   ]
  },
  {
   "cell_type": "markdown",
   "id": "bcf3e08f-8724-4e3b-89c7-e08afe3e4ddb",
   "metadata": {},
   "source": [
    "# Execute Statement\n",
    "_This can take a few minutes.  Please be patient._"
   ]
  },
  {
   "cell_type": "code",
   "execution_count": 26,
   "id": "5d1d0421-67f3-4ec6-b65b-0b282d23d816",
   "metadata": {},
   "outputs": [
    {
     "name": "stdout",
     "output_type": "stream",
     "text": [
      "Create table statement:\n",
      "\n",
      "CREATE TABLE IF NOT EXISTS ads508_t8.abt\n",
      "WITH (\n",
      "    external_location = 's3://sagemaker-us-east-ads508-sp23-t8/ABT'\n",
      "    )\n",
      "AS\n",
      "SELECT\n",
      "        cen.censustract,\n",
      "        cen.borough,\n",
      "        cen.totalpop,\n",
      "        cen.men,\n",
      "        cen.women,\n",
      "        cen.hispanic,\n",
      "        cen.white,\n",
      "        cen.black,\n",
      "        cen.native,\n",
      "        cen.asian,\n",
      "        cen.citizen,\n",
      "        cen.income,\n",
      "        cen.poverty,\n",
      "        cen.childpoverty,\n",
      "        cen.professional,\n",
      "        cen.service,\n",
      "        cen.office,\n",
      "        cen.construction,\n",
      "        cen.production,\n",
      "        cen.drive,\n",
      "        cen.carpool,\n",
      "        cen.transit,\n",
      "        cen.walk,\n",
      "        cen.othertransp,\n",
      "        cen.workathome,\n",
      "        cen.meancommute,\n",
      "        cen.employed,\n",
      "        cen.privatework,\n",
      "        cen.publicwork,\n",
      "        cen.selfemployed,\n",
      "        cen.familywork,\n",
      "        cen.unemployment,\n",
      "        ceb.blockCode\n",
      "FROM ads508_t8.census AS cen\n",
      "LEFT JOIN (\n",
      "    SELECT\n",
      "        blockCode,\n",
      "        count(*),\n",
      "        min(latitude) AS min_lat,\n",
      "        max(latitude) AS max_lat,\n",
      "        min(longitude) AS min_long,\n",
      "        max(longitude) AS max_long     \n",
      "    FROM ads508_t8.census_block\n",
      "    GROUP BY blockCode\n",
      "    ORDER BY count(*) DESC\n",
      "    LIMIT 50000\n",
      "    ) AS ceb\n",
      "    ON cen.censustract = ceb.blockCode\n",
      "\n"
     ]
    },
    {
     "data": {
      "text/html": [
       "<div>\n",
       "<style scoped>\n",
       "    .dataframe tbody tr th:only-of-type {\n",
       "        vertical-align: middle;\n",
       "    }\n",
       "\n",
       "    .dataframe tbody tr th {\n",
       "        vertical-align: top;\n",
       "    }\n",
       "\n",
       "    .dataframe thead th {\n",
       "        text-align: right;\n",
       "    }\n",
       "</style>\n",
       "<table border=\"1\" class=\"dataframe\">\n",
       "  <thead>\n",
       "    <tr style=\"text-align: right;\">\n",
       "      <th></th>\n",
       "      <th>rows</th>\n",
       "    </tr>\n",
       "  </thead>\n",
       "  <tbody>\n",
       "  </tbody>\n",
       "</table>\n",
       "</div>"
      ],
      "text/plain": [
       "Empty DataFrame\n",
       "Columns: [rows]\n",
       "Index: []"
      ]
     },
     "execution_count": 26,
     "metadata": {},
     "output_type": "execute_result"
    }
   ],
   "source": [
    "cen_tsv_tbl_name = 'census'\n",
    "abt_tbl_name = 'abt'\n",
    "drop_abt_tbl_stmnt = f\"\"\"DROP TABLE IF EXISTS {database_name}.{abt_tbl_name}\"\"\"\n",
    "\n",
    "# SQL statement to execute\n",
    "create_abt_tble_stmnt = f\"\"\"\n",
    "CREATE TABLE IF NOT EXISTS {database_name}.{abt_tbl_name}\n",
    "WITH (\n",
    "    external_location = '{abt_s3_data_path}'\n",
    "    )\n",
    "AS\n",
    "SELECT\n",
    "        cen.censustract,\n",
    "        cen.borough,\n",
    "        cen.totalpop,\n",
    "        cen.men,\n",
    "        cen.women,\n",
    "        cen.hispanic,\n",
    "        cen.white,\n",
    "        cen.black,\n",
    "        cen.native,\n",
    "        cen.asian,\n",
    "        cen.citizen,\n",
    "        cen.income,\n",
    "        cen.poverty,\n",
    "        cen.childpoverty,\n",
    "        cen.professional,\n",
    "        cen.service,\n",
    "        cen.office,\n",
    "        cen.construction,\n",
    "        cen.production,\n",
    "        cen.drive,\n",
    "        cen.carpool,\n",
    "        cen.transit,\n",
    "        cen.walk,\n",
    "        cen.othertransp,\n",
    "        cen.workathome,\n",
    "        cen.meancommute,\n",
    "        cen.employed,\n",
    "        cen.privatework,\n",
    "        cen.publicwork,\n",
    "        cen.selfemployed,\n",
    "        cen.familywork,\n",
    "        cen.unemployment,\n",
    "        ceb.blockCode\n",
    "FROM {database_name}.{cen_tsv_tbl_name} AS cen\n",
    "LEFT JOIN (\n",
    "    SELECT\n",
    "        blockCode,\n",
    "        count(*),\n",
    "        min(latitude) AS min_lat,\n",
    "        max(latitude) AS max_lat,\n",
    "        min(longitude) AS min_long,\n",
    "        max(longitude) AS max_long     \n",
    "    FROM {database_name}.{ceb_tsv_tbl_name}\n",
    "    GROUP BY blockCode\n",
    "    ORDER BY count(*) DESC\n",
    "    LIMIT 50000\n",
    "    ) AS ceb\n",
    "    ON cen.censustract = ceb.blockCode\n",
    "\"\"\"\n",
    "\n",
    "print(f'Create table statement:\\n{create_abt_tble_stmnt}')\n",
    "\n",
    "pd.read_sql(drop_abt_tbl_stmnt,\n",
    "            conn)\n",
    "\n",
    "pd.read_sql(create_abt_tble_stmnt,\n",
    "            conn)"
   ]
  },
  {
   "cell_type": "markdown",
   "id": "7221a352-e8f9-4c73-9fb1-83eb99d79e83",
   "metadata": {},
   "source": [
    "# Show the Tables"
   ]
  },
  {
   "cell_type": "code",
   "execution_count": 27,
   "id": "dc40bda6-db33-4b32-bffa-67227a20f4de",
   "metadata": {},
   "outputs": [],
   "source": [
    "show_tbl_stmnt = f\"SHOW TABLES in {database_name}\""
   ]
  },
  {
   "cell_type": "code",
   "execution_count": 28,
   "id": "d8d57d34-7172-4c73-acaa-ffa9aa07bb86",
   "metadata": {},
   "outputs": [
    {
     "data": {
      "text/html": [
       "<div>\n",
       "<style scoped>\n",
       "    .dataframe tbody tr th:only-of-type {\n",
       "        vertical-align: middle;\n",
       "    }\n",
       "\n",
       "    .dataframe tbody tr th {\n",
       "        vertical-align: top;\n",
       "    }\n",
       "\n",
       "    .dataframe thead th {\n",
       "        text-align: right;\n",
       "    }\n",
       "</style>\n",
       "<table border=\"1\" class=\"dataframe\">\n",
       "  <thead>\n",
       "    <tr style=\"text-align: right;\">\n",
       "      <th></th>\n",
       "      <th>tab_name</th>\n",
       "    </tr>\n",
       "  </thead>\n",
       "  <tbody>\n",
       "    <tr>\n",
       "      <th>0</th>\n",
       "      <td>abt</td>\n",
       "    </tr>\n",
       "    <tr>\n",
       "      <th>1</th>\n",
       "      <td>census</td>\n",
       "    </tr>\n",
       "    <tr>\n",
       "      <th>2</th>\n",
       "      <td>census_block</td>\n",
       "    </tr>\n",
       "    <tr>\n",
       "      <th>3</th>\n",
       "      <td>crime</td>\n",
       "    </tr>\n",
       "    <tr>\n",
       "      <th>4</th>\n",
       "      <td>crime_pqt</td>\n",
       "    </tr>\n",
       "    <tr>\n",
       "      <th>5</th>\n",
       "      <td>evictions</td>\n",
       "    </tr>\n",
       "    <tr>\n",
       "      <th>6</th>\n",
       "      <td>grad_outcomes</td>\n",
       "    </tr>\n",
       "    <tr>\n",
       "      <th>7</th>\n",
       "      <td>hs_info</td>\n",
       "    </tr>\n",
       "    <tr>\n",
       "      <th>8</th>\n",
       "      <td>jobs</td>\n",
       "    </tr>\n",
       "  </tbody>\n",
       "</table>\n",
       "</div>"
      ],
      "text/plain": [
       "        tab_name\n",
       "0            abt\n",
       "1         census\n",
       "2   census_block\n",
       "3          crime\n",
       "4      crime_pqt\n",
       "5      evictions\n",
       "6  grad_outcomes\n",
       "7        hs_info\n",
       "8           jobs"
      ]
     },
     "execution_count": 28,
     "metadata": {},
     "output_type": "execute_result"
    }
   ],
   "source": [
    "df_tables = pd.read_sql(show_tbl_stmnt,\n",
    "                        conn)\n",
    "df_tables.head(17)"
   ]
  },
  {
   "cell_type": "code",
   "execution_count": 29,
   "id": "5f70dea8-6388-474d-9ab9-968062c859a1",
   "metadata": {},
   "outputs": [],
   "source": [
    "if abt_tbl_name in df_tables.values:\n",
    "    ingest_create_athena_table_parquet_passed = True"
   ]
  },
  {
   "cell_type": "code",
   "execution_count": 30,
   "id": "19be1c8d-1473-467b-b10d-5c70ebce66f3",
   "metadata": {},
   "outputs": [
    {
     "name": "stdout",
     "output_type": "stream",
     "text": [
      "Stored 'ingest_create_athena_table_parquet_passed' (bool)\n"
     ]
    }
   ],
   "source": [
    "%store ingest_create_athena_table_parquet_passed"
   ]
  },
  {
   "cell_type": "markdown",
   "id": "80c737fc-716d-47c8-abcd-391c49990082",
   "metadata": {},
   "source": [
    "# Run Sample Query"
   ]
  },
  {
   "cell_type": "code",
   "execution_count": 31,
   "id": "df0d622d-de4d-4430-a5fc-43714a0fe3fb",
   "metadata": {},
   "outputs": [],
   "source": [
    "cri_borough01 = 'bronx'\n",
    "\n",
    "cri_select_borough_stmnt02 = f\"\"\"\n",
    "    SELECT * FROM {database_name}.{abt_tbl_name}\n",
    "    WHERE lower(borough) = '{cri_borough01}'\n",
    "    LIMIT 17\n",
    "    \"\"\"\n",
    "\n",
    "print(cri_select_borough_stmnt02)\n",
    "\n",
    "cri_df02_s01 = pd.read_sql(cri_select_borough_stmnt02,\n",
    "                           conn)\n",
    "cri_df02_s01.head(17)"
   ]
  },
  {
   "cell_type": "code",
   "execution_count": 33,
   "id": "6f57b5f2-1f36-4680-beb2-b4b00936ad6c",
   "metadata": {},
   "outputs": [
    {
     "name": "stdout",
     "output_type": "stream",
     "text": [
      "[OK]\n"
     ]
    }
   ],
   "source": [
    "if not cri_df02_s01.empty:\n",
    "    print(\"[OK]\")\n",
    "else:\n",
    "    print(\"++++++++++++++++++++++++++++++++++++++++++++++++++++++\")\n",
    "    print(\"[ERROR] YOUR DATA HAS NOT BEEN CONVERTED TO PARQUET. LOOK IN PREVIOUS CELLS TO FIND THE ISSUE.\")\n",
    "    print(\"++++++++++++++++++++++++++++++++++++++++++++++++++++++\")"
   ]
  },
  {
   "cell_type": "markdown",
   "id": "5cefbcd0-adad-4dd8-8887-dc7dacbc9023",
   "metadata": {},
   "source": [
    "## Review the New Athena Table in the Glue Catalog"
   ]
  },
  {
   "cell_type": "code",
   "execution_count": 34,
   "id": "f7381477-5eef-408c-b0cd-a69d4da1197c",
   "metadata": {},
   "outputs": [
    {
     "data": {
      "text/html": [
       "<b>Review <a target=\"top\" href=\"https://console.aws.amazon.com/glue/home?region=us-east-1#\">AWS Glue Catalog</a></b>"
      ],
      "text/plain": [
       "<IPython.core.display.HTML object>"
      ]
     },
     "metadata": {},
     "output_type": "display_data"
    }
   ],
   "source": [
    "display(\n",
    "    HTML(\n",
    "        f'<b>Review <a target=\"top\" href=\"https://console.aws.amazon.com/glue/home?region={region}#\">AWS Glue Catalog</a></b>'\n",
    "    )\n",
    ")"
   ]
  },
  {
   "cell_type": "markdown",
   "id": "a13641da-5574-4d8d-acc8-d852d122be18",
   "metadata": {},
   "source": [
    "## Store Variables for the Next Notebooks"
   ]
  },
  {
   "cell_type": "code",
   "execution_count": 35,
   "id": "b23d6b3a-e9a4-4687-a91e-72c78434f125",
   "metadata": {},
   "outputs": [
    {
     "name": "stdout",
     "output_type": "stream",
     "text": [
      "Stored variables and their in-db values:\n",
      "balanced_bias_data_jsonlines_s3_uri                   -> 's3://sagemaker-us-east-1-657724983756/bias-detect\n",
      "balanced_bias_data_s3_uri                             -> 's3://sagemaker-us-east-1-657724983756/bias-detect\n",
      "bias_data_s3_uri                                      -> 's3://sagemaker-us-east-1-657724983756/bias-detect\n",
      "ingest_create_athena_db_passed                        -> True\n",
      "ingest_create_athena_table_parquet_passed             -> True\n",
      "ingest_create_athena_table_tsv_passed                 -> True\n",
      "s3_private_path_tsv                                   -> 's3://sagemaker-us-east-1-657724983756/amazon-revi\n",
      "s3_public_path_tsv                                    -> 's3://amazon-reviews-pds/tsv'\n",
      "setup_dependencies_passed                             -> True\n",
      "setup_iam_roles_passed                                -> True\n",
      "setup_instance_check_passed                           -> True\n",
      "setup_s3_bucket_passed                                -> True\n"
     ]
    }
   ],
   "source": [
    "%store"
   ]
  },
  {
   "cell_type": "markdown",
   "id": "482e6e17-d3a7-49f4-bdb7-5550f10cfc2a",
   "metadata": {},
   "source": [
    "## Release Resources"
   ]
  },
  {
   "cell_type": "code",
   "execution_count": 36,
   "id": "087bde2e-2b60-4dd5-997a-8323b521419f",
   "metadata": {},
   "outputs": [
    {
     "data": {
      "text/html": [
       "\n",
       "<p><b>Shutting down your kernel for this notebook to release resources.</b></p>\n",
       "<button class=\"sm-command-button\" data-commandlinker-command=\"kernelmenu:shutdown\" style=\"display:none;\">Shutdown Kernel</button>\n",
       "        \n",
       "<script>\n",
       "try {\n",
       "    els = document.getElementsByClassName(\"sm-command-button\");\n",
       "    els[0].click();\n",
       "}\n",
       "catch(err) {\n",
       "    // NoOp\n",
       "}    \n",
       "</script>\n"
      ],
      "text/plain": [
       "<IPython.core.display.HTML object>"
      ]
     },
     "metadata": {},
     "output_type": "display_data"
    }
   ],
   "source": [
    "%%html\n",
    "\n",
    "<p><b>Shutting down your kernel for this notebook to release resources.</b></p>\n",
    "<button class=\"sm-command-button\" data-commandlinker-command=\"kernelmenu:shutdown\" style=\"display:none;\">Shutdown Kernel</button>\n",
    "        \n",
    "<script>\n",
    "try {\n",
    "    els = document.getElementsByClassName(\"sm-command-button\");\n",
    "    els[0].click();\n",
    "}\n",
    "catch(err) {\n",
    "    // NoOp\n",
    "}    \n",
    "</script>"
   ]
  },
  {
   "cell_type": "code",
   "execution_count": 37,
   "id": "b8219a42-0f8b-4351-8545-b73a7f2ce99e",
   "metadata": {
    "tags": []
   },
   "outputs": [
    {
     "data": {
      "application/javascript": [
       "\n",
       "try {\n",
       "    Jupyter.notebook.save_checkpoint();\n",
       "    Jupyter.notebook.session.delete();\n",
       "}\n",
       "catch(err) {\n",
       "    // NoOp\n",
       "}\n"
      ],
      "text/plain": [
       "<IPython.core.display.Javascript object>"
      ]
     },
     "metadata": {},
     "output_type": "display_data"
    }
   ],
   "source": [
    "%%javascript\n",
    "\n",
    "try {\n",
    "    Jupyter.notebook.save_checkpoint();\n",
    "    Jupyter.notebook.session.delete();\n",
    "}\n",
    "catch(err) {\n",
    "    // NoOp\n",
    "}"
   ]
  }
 ],
 "metadata": {
  "availableInstances": [
   {
    "_defaultOrder": 0,
    "_isFastLaunch": true,
    "category": "General purpose",
    "gpuNum": 0,
    "hideHardwareSpecs": false,
    "memoryGiB": 4,
    "name": "ml.t3.medium",
    "vcpuNum": 2
   },
   {
    "_defaultOrder": 1,
    "_isFastLaunch": false,
    "category": "General purpose",
    "gpuNum": 0,
    "hideHardwareSpecs": false,
    "memoryGiB": 8,
    "name": "ml.t3.large",
    "vcpuNum": 2
   },
   {
    "_defaultOrder": 2,
    "_isFastLaunch": false,
    "category": "General purpose",
    "gpuNum": 0,
    "hideHardwareSpecs": false,
    "memoryGiB": 16,
    "name": "ml.t3.xlarge",
    "vcpuNum": 4
   },
   {
    "_defaultOrder": 3,
    "_isFastLaunch": false,
    "category": "General purpose",
    "gpuNum": 0,
    "hideHardwareSpecs": false,
    "memoryGiB": 32,
    "name": "ml.t3.2xlarge",
    "vcpuNum": 8
   },
   {
    "_defaultOrder": 4,
    "_isFastLaunch": true,
    "category": "General purpose",
    "gpuNum": 0,
    "hideHardwareSpecs": false,
    "memoryGiB": 8,
    "name": "ml.m5.large",
    "vcpuNum": 2
   },
   {
    "_defaultOrder": 5,
    "_isFastLaunch": false,
    "category": "General purpose",
    "gpuNum": 0,
    "hideHardwareSpecs": false,
    "memoryGiB": 16,
    "name": "ml.m5.xlarge",
    "vcpuNum": 4
   },
   {
    "_defaultOrder": 6,
    "_isFastLaunch": false,
    "category": "General purpose",
    "gpuNum": 0,
    "hideHardwareSpecs": false,
    "memoryGiB": 32,
    "name": "ml.m5.2xlarge",
    "vcpuNum": 8
   },
   {
    "_defaultOrder": 7,
    "_isFastLaunch": false,
    "category": "General purpose",
    "gpuNum": 0,
    "hideHardwareSpecs": false,
    "memoryGiB": 64,
    "name": "ml.m5.4xlarge",
    "vcpuNum": 16
   },
   {
    "_defaultOrder": 8,
    "_isFastLaunch": false,
    "category": "General purpose",
    "gpuNum": 0,
    "hideHardwareSpecs": false,
    "memoryGiB": 128,
    "name": "ml.m5.8xlarge",
    "vcpuNum": 32
   },
   {
    "_defaultOrder": 9,
    "_isFastLaunch": false,
    "category": "General purpose",
    "gpuNum": 0,
    "hideHardwareSpecs": false,
    "memoryGiB": 192,
    "name": "ml.m5.12xlarge",
    "vcpuNum": 48
   },
   {
    "_defaultOrder": 10,
    "_isFastLaunch": false,
    "category": "General purpose",
    "gpuNum": 0,
    "hideHardwareSpecs": false,
    "memoryGiB": 256,
    "name": "ml.m5.16xlarge",
    "vcpuNum": 64
   },
   {
    "_defaultOrder": 11,
    "_isFastLaunch": false,
    "category": "General purpose",
    "gpuNum": 0,
    "hideHardwareSpecs": false,
    "memoryGiB": 384,
    "name": "ml.m5.24xlarge",
    "vcpuNum": 96
   },
   {
    "_defaultOrder": 12,
    "_isFastLaunch": false,
    "category": "General purpose",
    "gpuNum": 0,
    "hideHardwareSpecs": false,
    "memoryGiB": 8,
    "name": "ml.m5d.large",
    "vcpuNum": 2
   },
   {
    "_defaultOrder": 13,
    "_isFastLaunch": false,
    "category": "General purpose",
    "gpuNum": 0,
    "hideHardwareSpecs": false,
    "memoryGiB": 16,
    "name": "ml.m5d.xlarge",
    "vcpuNum": 4
   },
   {
    "_defaultOrder": 14,
    "_isFastLaunch": false,
    "category": "General purpose",
    "gpuNum": 0,
    "hideHardwareSpecs": false,
    "memoryGiB": 32,
    "name": "ml.m5d.2xlarge",
    "vcpuNum": 8
   },
   {
    "_defaultOrder": 15,
    "_isFastLaunch": false,
    "category": "General purpose",
    "gpuNum": 0,
    "hideHardwareSpecs": false,
    "memoryGiB": 64,
    "name": "ml.m5d.4xlarge",
    "vcpuNum": 16
   },
   {
    "_defaultOrder": 16,
    "_isFastLaunch": false,
    "category": "General purpose",
    "gpuNum": 0,
    "hideHardwareSpecs": false,
    "memoryGiB": 128,
    "name": "ml.m5d.8xlarge",
    "vcpuNum": 32
   },
   {
    "_defaultOrder": 17,
    "_isFastLaunch": false,
    "category": "General purpose",
    "gpuNum": 0,
    "hideHardwareSpecs": false,
    "memoryGiB": 192,
    "name": "ml.m5d.12xlarge",
    "vcpuNum": 48
   },
   {
    "_defaultOrder": 18,
    "_isFastLaunch": false,
    "category": "General purpose",
    "gpuNum": 0,
    "hideHardwareSpecs": false,
    "memoryGiB": 256,
    "name": "ml.m5d.16xlarge",
    "vcpuNum": 64
   },
   {
    "_defaultOrder": 19,
    "_isFastLaunch": false,
    "category": "General purpose",
    "gpuNum": 0,
    "hideHardwareSpecs": false,
    "memoryGiB": 384,
    "name": "ml.m5d.24xlarge",
    "vcpuNum": 96
   },
   {
    "_defaultOrder": 20,
    "_isFastLaunch": false,
    "category": "General purpose",
    "gpuNum": 0,
    "hideHardwareSpecs": true,
    "memoryGiB": 0,
    "name": "ml.geospatial.interactive",
    "supportedImageNames": [
     "sagemaker-geospatial-v1-0"
    ],
    "vcpuNum": 0
   },
   {
    "_defaultOrder": 21,
    "_isFastLaunch": true,
    "category": "Compute optimized",
    "gpuNum": 0,
    "hideHardwareSpecs": false,
    "memoryGiB": 4,
    "name": "ml.c5.large",
    "vcpuNum": 2
   },
   {
    "_defaultOrder": 22,
    "_isFastLaunch": false,
    "category": "Compute optimized",
    "gpuNum": 0,
    "hideHardwareSpecs": false,
    "memoryGiB": 8,
    "name": "ml.c5.xlarge",
    "vcpuNum": 4
   },
   {
    "_defaultOrder": 23,
    "_isFastLaunch": false,
    "category": "Compute optimized",
    "gpuNum": 0,
    "hideHardwareSpecs": false,
    "memoryGiB": 16,
    "name": "ml.c5.2xlarge",
    "vcpuNum": 8
   },
   {
    "_defaultOrder": 24,
    "_isFastLaunch": false,
    "category": "Compute optimized",
    "gpuNum": 0,
    "hideHardwareSpecs": false,
    "memoryGiB": 32,
    "name": "ml.c5.4xlarge",
    "vcpuNum": 16
   },
   {
    "_defaultOrder": 25,
    "_isFastLaunch": false,
    "category": "Compute optimized",
    "gpuNum": 0,
    "hideHardwareSpecs": false,
    "memoryGiB": 72,
    "name": "ml.c5.9xlarge",
    "vcpuNum": 36
   },
   {
    "_defaultOrder": 26,
    "_isFastLaunch": false,
    "category": "Compute optimized",
    "gpuNum": 0,
    "hideHardwareSpecs": false,
    "memoryGiB": 96,
    "name": "ml.c5.12xlarge",
    "vcpuNum": 48
   },
   {
    "_defaultOrder": 27,
    "_isFastLaunch": false,
    "category": "Compute optimized",
    "gpuNum": 0,
    "hideHardwareSpecs": false,
    "memoryGiB": 144,
    "name": "ml.c5.18xlarge",
    "vcpuNum": 72
   },
   {
    "_defaultOrder": 28,
    "_isFastLaunch": false,
    "category": "Compute optimized",
    "gpuNum": 0,
    "hideHardwareSpecs": false,
    "memoryGiB": 192,
    "name": "ml.c5.24xlarge",
    "vcpuNum": 96
   },
   {
    "_defaultOrder": 29,
    "_isFastLaunch": true,
    "category": "Accelerated computing",
    "gpuNum": 1,
    "hideHardwareSpecs": false,
    "memoryGiB": 16,
    "name": "ml.g4dn.xlarge",
    "vcpuNum": 4
   },
   {
    "_defaultOrder": 30,
    "_isFastLaunch": false,
    "category": "Accelerated computing",
    "gpuNum": 1,
    "hideHardwareSpecs": false,
    "memoryGiB": 32,
    "name": "ml.g4dn.2xlarge",
    "vcpuNum": 8
   },
   {
    "_defaultOrder": 31,
    "_isFastLaunch": false,
    "category": "Accelerated computing",
    "gpuNum": 1,
    "hideHardwareSpecs": false,
    "memoryGiB": 64,
    "name": "ml.g4dn.4xlarge",
    "vcpuNum": 16
   },
   {
    "_defaultOrder": 32,
    "_isFastLaunch": false,
    "category": "Accelerated computing",
    "gpuNum": 1,
    "hideHardwareSpecs": false,
    "memoryGiB": 128,
    "name": "ml.g4dn.8xlarge",
    "vcpuNum": 32
   },
   {
    "_defaultOrder": 33,
    "_isFastLaunch": false,
    "category": "Accelerated computing",
    "gpuNum": 4,
    "hideHardwareSpecs": false,
    "memoryGiB": 192,
    "name": "ml.g4dn.12xlarge",
    "vcpuNum": 48
   },
   {
    "_defaultOrder": 34,
    "_isFastLaunch": false,
    "category": "Accelerated computing",
    "gpuNum": 1,
    "hideHardwareSpecs": false,
    "memoryGiB": 256,
    "name": "ml.g4dn.16xlarge",
    "vcpuNum": 64
   },
   {
    "_defaultOrder": 35,
    "_isFastLaunch": false,
    "category": "Accelerated computing",
    "gpuNum": 1,
    "hideHardwareSpecs": false,
    "memoryGiB": 61,
    "name": "ml.p3.2xlarge",
    "vcpuNum": 8
   },
   {
    "_defaultOrder": 36,
    "_isFastLaunch": false,
    "category": "Accelerated computing",
    "gpuNum": 4,
    "hideHardwareSpecs": false,
    "memoryGiB": 244,
    "name": "ml.p3.8xlarge",
    "vcpuNum": 32
   },
   {
    "_defaultOrder": 37,
    "_isFastLaunch": false,
    "category": "Accelerated computing",
    "gpuNum": 8,
    "hideHardwareSpecs": false,
    "memoryGiB": 488,
    "name": "ml.p3.16xlarge",
    "vcpuNum": 64
   },
   {
    "_defaultOrder": 38,
    "_isFastLaunch": false,
    "category": "Accelerated computing",
    "gpuNum": 8,
    "hideHardwareSpecs": false,
    "memoryGiB": 768,
    "name": "ml.p3dn.24xlarge",
    "vcpuNum": 96
   },
   {
    "_defaultOrder": 39,
    "_isFastLaunch": false,
    "category": "Memory Optimized",
    "gpuNum": 0,
    "hideHardwareSpecs": false,
    "memoryGiB": 16,
    "name": "ml.r5.large",
    "vcpuNum": 2
   },
   {
    "_defaultOrder": 40,
    "_isFastLaunch": false,
    "category": "Memory Optimized",
    "gpuNum": 0,
    "hideHardwareSpecs": false,
    "memoryGiB": 32,
    "name": "ml.r5.xlarge",
    "vcpuNum": 4
   },
   {
    "_defaultOrder": 41,
    "_isFastLaunch": false,
    "category": "Memory Optimized",
    "gpuNum": 0,
    "hideHardwareSpecs": false,
    "memoryGiB": 64,
    "name": "ml.r5.2xlarge",
    "vcpuNum": 8
   },
   {
    "_defaultOrder": 42,
    "_isFastLaunch": false,
    "category": "Memory Optimized",
    "gpuNum": 0,
    "hideHardwareSpecs": false,
    "memoryGiB": 128,
    "name": "ml.r5.4xlarge",
    "vcpuNum": 16
   },
   {
    "_defaultOrder": 43,
    "_isFastLaunch": false,
    "category": "Memory Optimized",
    "gpuNum": 0,
    "hideHardwareSpecs": false,
    "memoryGiB": 256,
    "name": "ml.r5.8xlarge",
    "vcpuNum": 32
   },
   {
    "_defaultOrder": 44,
    "_isFastLaunch": false,
    "category": "Memory Optimized",
    "gpuNum": 0,
    "hideHardwareSpecs": false,
    "memoryGiB": 384,
    "name": "ml.r5.12xlarge",
    "vcpuNum": 48
   },
   {
    "_defaultOrder": 45,
    "_isFastLaunch": false,
    "category": "Memory Optimized",
    "gpuNum": 0,
    "hideHardwareSpecs": false,
    "memoryGiB": 512,
    "name": "ml.r5.16xlarge",
    "vcpuNum": 64
   },
   {
    "_defaultOrder": 46,
    "_isFastLaunch": false,
    "category": "Memory Optimized",
    "gpuNum": 0,
    "hideHardwareSpecs": false,
    "memoryGiB": 768,
    "name": "ml.r5.24xlarge",
    "vcpuNum": 96
   },
   {
    "_defaultOrder": 47,
    "_isFastLaunch": false,
    "category": "Accelerated computing",
    "gpuNum": 1,
    "hideHardwareSpecs": false,
    "memoryGiB": 16,
    "name": "ml.g5.xlarge",
    "vcpuNum": 4
   },
   {
    "_defaultOrder": 48,
    "_isFastLaunch": false,
    "category": "Accelerated computing",
    "gpuNum": 1,
    "hideHardwareSpecs": false,
    "memoryGiB": 32,
    "name": "ml.g5.2xlarge",
    "vcpuNum": 8
   },
   {
    "_defaultOrder": 49,
    "_isFastLaunch": false,
    "category": "Accelerated computing",
    "gpuNum": 1,
    "hideHardwareSpecs": false,
    "memoryGiB": 64,
    "name": "ml.g5.4xlarge",
    "vcpuNum": 16
   },
   {
    "_defaultOrder": 50,
    "_isFastLaunch": false,
    "category": "Accelerated computing",
    "gpuNum": 1,
    "hideHardwareSpecs": false,
    "memoryGiB": 128,
    "name": "ml.g5.8xlarge",
    "vcpuNum": 32
   },
   {
    "_defaultOrder": 51,
    "_isFastLaunch": false,
    "category": "Accelerated computing",
    "gpuNum": 1,
    "hideHardwareSpecs": false,
    "memoryGiB": 256,
    "name": "ml.g5.16xlarge",
    "vcpuNum": 64
   },
   {
    "_defaultOrder": 52,
    "_isFastLaunch": false,
    "category": "Accelerated computing",
    "gpuNum": 4,
    "hideHardwareSpecs": false,
    "memoryGiB": 192,
    "name": "ml.g5.12xlarge",
    "vcpuNum": 48
   },
   {
    "_defaultOrder": 53,
    "_isFastLaunch": false,
    "category": "Accelerated computing",
    "gpuNum": 4,
    "hideHardwareSpecs": false,
    "memoryGiB": 384,
    "name": "ml.g5.24xlarge",
    "vcpuNum": 96
   },
   {
    "_defaultOrder": 54,
    "_isFastLaunch": false,
    "category": "Accelerated computing",
    "gpuNum": 8,
    "hideHardwareSpecs": false,
    "memoryGiB": 768,
    "name": "ml.g5.48xlarge",
    "vcpuNum": 192
   }
  ],
  "instance_type": "ml.t3.medium",
  "kernelspec": {
   "display_name": "Python 3 (Data Science)",
   "language": "python",
   "name": "python3__SAGEMAKER_INTERNAL__arn:aws:sagemaker:us-east-1:081325390199:image/datascience-1.0"
  },
  "language_info": {
   "codemirror_mode": {
    "name": "ipython",
    "version": 3
   },
   "file_extension": ".py",
   "mimetype": "text/x-python",
   "name": "python",
   "nbconvert_exporter": "python",
   "pygments_lexer": "ipython3",
   "version": "3.7.10"
  }
 },
 "nbformat": 4,
 "nbformat_minor": 5
}
