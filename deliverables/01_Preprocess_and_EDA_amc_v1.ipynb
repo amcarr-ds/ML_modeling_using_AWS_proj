{
 "cells": [
  {
   "cell_type": "markdown",
   "id": "2c28c202-f083-4f17-bce4-75a8733e4e94",
   "metadata": {},
   "source": [
    "# ADS-508-01-SP23 Team 8: Final Project"
   ]
  },
  {
   "cell_type": "markdown",
   "id": "909e7a12-7af1-4100-8481-c655fef67796",
   "metadata": {},
   "source": [
    "# Setup Database and Athena Tables"
   ]
  },
  {
   "cell_type": "markdown",
   "id": "ed82d3db-7375-45a2-8469-605182fe8c5b",
   "metadata": {},
   "source": [
    "Much of the code is modified from `Fregly, C., & Barth, A. (2021). Data science on AWS: Implementing end-to-end, continuous AI and machine learning pipelines. O’Reilly.`"
   ]
  },
  {
   "cell_type": "markdown",
   "id": "6cdd19d4-5924-488e-a3b0-7e7065759ab7",
   "metadata": {},
   "source": [
    "## Install missing dependencies\n",
    "\n",
    "[PyAthena](https://pypi.org/project/PyAthena/) is a Python DB API 2.0 (PEP 249) compliant client for Amazon Athena."
   ]
  },
  {
   "cell_type": "code",
   "execution_count": null,
   "id": "d9f1c7ee-09af-4e4f-ab1c-3ba90224c186",
   "metadata": {},
   "outputs": [],
   "source": [
    "!pip install --disable-pip-version-check -q PyAthena==2.1.0\n",
    "!pip install missingno"
   ]
  },
  {
   "cell_type": "markdown",
   "id": "4f89a22a-dfbe-40a5-9922-f7dd159fea53",
   "metadata": {},
   "source": [
    "## Globally import libraries"
   ]
  },
  {
   "cell_type": "code",
   "execution_count": null,
   "id": "d0637c68-42e5-4705-b183-a8e751e3d534",
   "metadata": {},
   "outputs": [],
   "source": [
    "import boto3\n",
    "from botocore.client import ClientError\n",
    "from IPython.core.display import display, HTML\n",
    "import pandas as pd\n",
    "from pyathena import connect\n",
    "import matplotlib.pyplot as plt\n",
    "import missingno as msno\n",
    "import sagemaker\n",
    "import seaborn as sns\n",
    "from sklearn.feature_selection import VarianceThreshold"
   ]
  },
  {
   "cell_type": "markdown",
   "id": "5de88cf8-f158-44f2-adde-2aabff91452e",
   "metadata": {},
   "source": [
    "# Set Seaborn Parameters"
   ]
  },
  {
   "cell_type": "markdown",
   "id": "24a02059-adcf-4515-b864-b0ddfc43e795",
   "metadata": {},
   "source": [
    "sns.set_style = \"seaborn-whitegrid\"\n",
    "\n",
    "sns.set(\n",
    "    rc={\n",
    "        \"font.style\": \"normal\",\n",
    "        \"axes.facecolor\": \"white\",\n",
    "        \"grid.color\": \".8\",\n",
    "        \"grid.linestyle\": \"-\",\n",
    "        \"figure.facecolor\": \"white\",\n",
    "        \"figure.titlesize\": 20,\n",
    "        \"text.color\": \"black\",\n",
    "        \"xtick.color\": \"black\",\n",
    "        \"ytick.color\": \"black\",\n",
    "        \"axes.labelcolor\": \"black\",\n",
    "        \"axes.grid\": True,\n",
    "        \"axes.labelsize\": 10,\n",
    "        \"xtick.labelsize\": 10,\n",
    "        \"font.size\": 10,\n",
    "        \"ytick.labelsize\": 10,\n",
    "    }\n",
    ")"
   ]
  },
  {
   "cell_type": "markdown",
   "id": "8d97d4b8-857a-4dbf-8a63-59f4456253b6",
   "metadata": {},
   "source": [
    "## Instantiate AWS SageMaker session"
   ]
  },
  {
   "cell_type": "code",
   "execution_count": null,
   "id": "b6cf2b25-c2b3-47be-8cf8-5a3a3d6495ad",
   "metadata": {},
   "outputs": [],
   "source": [
    "session = boto3.session.Session()\n",
    "region = session.region_name\n",
    "sagemaker_session = sagemaker.Session()\n",
    "def_bucket = sagemaker_session.default_bucket()\n",
    "bucket = 'sagemaker-us-east-ads508-sp23-t8'\n",
    "role = sagemaker.get_execution_role()\n",
    "\n",
    "s3 = boto3.Session().client(service_name=\"s3\", region_name=region)"
   ]
  },
  {
   "cell_type": "code",
   "execution_count": null,
   "id": "59fe83df-3b8d-4120-ae9a-221497980a76",
   "metadata": {},
   "outputs": [],
   "source": [
    "print(f\"Default bucket: {def_bucket}\")\n",
    "print(f\"Public T8 bucket: {bucket}\")"
   ]
  },
  {
   "cell_type": "markdown",
   "id": "663173bf-7e26-4f26-bdad-d1cb242a210b",
   "metadata": {
    "tags": []
   },
   "source": [
    "# Citaion: OpenAI\n",
    "s3_conn = boto3.resource('s3')\n",
    "bucket_conn = s3_conn.Bucket(bucket)\n",
    "\n",
    "# List bucket contents\n",
    "for obj in bucket_conn.objects.all():\n",
    "    print(obj.key)"
   ]
  },
  {
   "cell_type": "code",
   "execution_count": null,
   "id": "3c4ba780-9ea7-4a9a-a87a-d4aabca741df",
   "metadata": {},
   "outputs": [],
   "source": [
    "# Set S3 staging directory -- this is a temporary directory used for Athena queries\n",
    "s3_staging_dir = f\"s3://{bucket}/athena/staging\"\n",
    "print(s3_staging_dir)"
   ]
  },
  {
   "cell_type": "code",
   "execution_count": null,
   "id": "bd3f1870-bb61-4c23-a772-554578d4e84e",
   "metadata": {},
   "outputs": [],
   "source": [
    "conn = connect(region_name=region,\n",
    "               s3_staging_dir=s3_staging_dir)"
   ]
  },
  {
   "cell_type": "code",
   "execution_count": null,
   "id": "5c63283f-b849-4e9b-8e0a-78ad22d23b87",
   "metadata": {},
   "outputs": [],
   "source": [
    "database_name = \"ads508_t8\""
   ]
  },
  {
   "cell_type": "markdown",
   "id": "b395999f-c146-4bf2-9740-b0e72479272c",
   "metadata": {},
   "source": [
    "## Explore DB tables"
   ]
  },
  {
   "cell_type": "markdown",
   "id": "1b8e6871-8dca-43f6-b100-7d1bc842fff0",
   "metadata": {},
   "source": [
    "### `census`"
   ]
  },
  {
   "cell_type": "code",
   "execution_count": null,
   "id": "062944b5-fb3b-485a-a8be-89aa2a97aac6",
   "metadata": {},
   "outputs": [],
   "source": [
    "cen_tsv_tbl_name = 'census'"
   ]
  },
  {
   "cell_type": "markdown",
   "id": "e306162a-b36f-4350-b3de-8e2c83adedb6",
   "metadata": {},
   "source": [
    "#### Explore via SQL SELECT statements"
   ]
  },
  {
   "cell_type": "code",
   "execution_count": null,
   "id": "f4db4ba2-ad4d-44a0-9c28-b6728823b391",
   "metadata": {
    "tags": []
   },
   "outputs": [],
   "source": [
    "# Run query to review a sample of records\n",
    "cen_bourough01 = \"bronx\"\n",
    "\n",
    "cen_select_borough_stmnt01 = f\"\"\"\n",
    "    SELECT * FROM {database_name}.{cen_tsv_tbl_name}\n",
    "    WHERE lower(borough) = '{cen_bourough01}'\n",
    "    LIMIT 17\n",
    "    \"\"\"\n",
    "\n",
    "# Display SQL statement\n",
    "print(cen_select_borough_stmnt01)\n",
    "\n",
    "# Run SQL statement against Athena table\n",
    "cen_df01_s01 = pd.read_sql(cen_select_borough_stmnt01,\n",
    "                           conn)\n",
    "# Display results\n",
    "cen_df01_s01.head(17)"
   ]
  },
  {
   "cell_type": "markdown",
   "id": "87c22cf6-4cfa-4504-89d9-c825cd66a96a",
   "metadata": {},
   "source": [
    "#### Perform aggregated summaries"
   ]
  },
  {
   "cell_type": "code",
   "execution_count": null,
   "id": "e52b0e77-b596-4c49-b3a5-0f534ca7bfd7",
   "metadata": {
    "tags": []
   },
   "outputs": [],
   "source": [
    "# Run query to review a sample of records\n",
    "cen_select_hispanic_stmnt01 = f\"\"\"\n",
    "    SELECT DISTINCT\n",
    "        hispanic,\n",
    "        count(*)\n",
    "    FROM {database_name}.{cen_tsv_tbl_name}\n",
    "    WHERE hispanic IS NULL\n",
    "    GROUP BY hispanic\n",
    "    LIMIT 10\n",
    "    \"\"\"\n",
    "\n",
    "# Display SQL statement\n",
    "print(cen_select_hispanic_stmnt01)\n",
    "\n",
    "# Run SQL statement against Athena table\n",
    "cen_df01_s03 = pd.read_sql(cen_select_hispanic_stmnt01,\n",
    "                           conn)\n",
    "# Display results\n",
    "cen_df01_s03.head(17)"
   ]
  },
  {
   "cell_type": "code",
   "execution_count": null,
   "id": "bfe34e79-527e-47ec-8224-e17856136e71",
   "metadata": {
    "tags": []
   },
   "outputs": [],
   "source": [
    "cen_summ_borough_stmnt01 = f\"\"\"\n",
    "    SELECT\n",
    "        borough,\n",
    "        COUNT(*) AS ctract_count,\n",
    "        SUM(totalpop) AS bor_pop,\n",
    "        SUM(round(totalpop*hispanic/100,0))/SUM(totalpop) AS hispanic_perc,\n",
    "        SUM(round(totalpop*white/100,0))/SUM(totalpop) AS white_perc,\n",
    "        SUM(round(totalpop*black/100,0))/SUM(totalpop) AS black_perc,\n",
    "        SUM(round(totalpop*native/100,0))/SUM(totalpop) AS native_perc,\n",
    "        SUM(round(totalpop*asian/100,0))/SUM(totalpop) AS asian_perc,\n",
    "        SUM(round(totalpop*childpoverty/100,0))/SUM(totalpop) AS child_poverty_perc,\n",
    "        SUM(round(totalpop*income,0))/SUM(totalpop) AS income_avg\n",
    "    FROM {database_name}.{cen_tsv_tbl_name}\n",
    "    GROUP BY borough\n",
    "    LIMIT 100\n",
    "    \"\"\"\n",
    "\n",
    "# Display SQL statement\n",
    "print(cen_summ_borough_stmnt01)\n",
    "\n",
    "# Run SQL statement against Athena table\n",
    "cen_df01_s02 = pd.read_sql(cen_summ_borough_stmnt01,\n",
    "                           conn)\n",
    "# Display results\n",
    "cen_df01_s02.head(17)"
   ]
  },
  {
   "cell_type": "code",
   "execution_count": null,
   "id": "a9ccf8ed-7eaa-44b7-9612-f7680b63b323",
   "metadata": {},
   "outputs": [],
   "source": [
    "cen_summ_borough_stmnt01 = f\"\"\"\n",
    "    SELECT\n",
    "        censustract,\n",
    "        COUNT(*) AS ctract_count,\n",
    "        SUM(totalpop) AS bor_pop,\n",
    "        SUM(round(totalpop*hispanic/100,0))/SUM(totalpop) AS hispanic_perc,\n",
    "        SUM(round(totalpop*white/100,0))/SUM(totalpop) AS white_perc,\n",
    "        SUM(round(totalpop*black/100,0))/SUM(totalpop) AS black_perc,\n",
    "        SUM(round(totalpop*native/100,0))/SUM(totalpop) AS native_perc,\n",
    "        SUM(round(totalpop*asian/100,0))/SUM(totalpop) AS asian_perc,\n",
    "        SUM(round(totalpop*childpoverty/100,0))/SUM(totalpop) AS child_poverty_perc,\n",
    "        SUM(round(totalpop*income,0))/SUM(totalpop) AS income_avg\n",
    "    FROM {database_name}.{cen_tsv_tbl_name}\n",
    "    GROUP BY censustract\n",
    "    LIMIT 100\n",
    "    \"\"\"\n",
    "\n",
    "# Display SQL statement\n",
    "print(cen_summ_borough_stmnt01)\n",
    "\n",
    "# Run SQL statement against Athena table\n",
    "cen_df01_s02 = pd.read_sql(cen_summ_borough_stmnt01,\n",
    "                           conn)\n",
    "# Display results\n",
    "cen_df01_s02.head(17)"
   ]
  },
  {
   "cell_type": "markdown",
   "id": "35847bb3-6ff6-4a72-9bf9-3ac13b4e55ff",
   "metadata": {},
   "source": [
    "#### Load potential predictors and target for further exploration using pandas"
   ]
  },
  {
   "cell_type": "code",
   "execution_count": null,
   "id": "f628eb6b-0392-45b3-8321-8cee5cdcc6aa",
   "metadata": {},
   "outputs": [],
   "source": [
    "cen_box_stmnt01 = f\"\"\"\n",
    "    SELECT\n",
    "        borough,\n",
    "        totalpop,\n",
    "        men,\n",
    "        women,\n",
    "        hispanic,\n",
    "        white,\n",
    "        black,\n",
    "        native,\n",
    "        asian,\n",
    "        citizen,\n",
    "        income,\n",
    "        poverty,\n",
    "        childpoverty,\n",
    "        professional,\n",
    "        service,\n",
    "        office,\n",
    "        construction,\n",
    "        production,\n",
    "        drive,\n",
    "        carpool,\n",
    "        transit,\n",
    "        walk,\n",
    "        othertransp,\n",
    "        workathome,\n",
    "        meancommute,\n",
    "        employed,\n",
    "        privatework,\n",
    "        publicwork,\n",
    "        selfemployed,\n",
    "        familywork,\n",
    "        unemployment\n",
    "    FROM {database_name}.{cen_tsv_tbl_name}\n",
    "    WHERE childpoverty IS NOT NULL\n",
    "    LIMIT 5000\n",
    "    \"\"\"\n",
    "\n",
    "# Display SQL statement\n",
    "print(cen_box_stmnt01)\n",
    "\n",
    "# Run SQL statement against Athena table\n",
    "cen_df01_s04 = pd.read_sql(cen_box_stmnt01,\n",
    "                           conn)\n",
    "# Display results\n",
    "cen_df01_s04.head(17)"
   ]
  },
  {
   "cell_type": "markdown",
   "id": "0d3738bb-292d-462a-b0bd-ebbb83b2b708",
   "metadata": {},
   "source": [
    "#### Display boxplots for select features"
   ]
  },
  {
   "cell_type": "code",
   "execution_count": null,
   "id": "ab13405f-e92d-496b-9843-b764de8ed1bb",
   "metadata": {
    "tags": []
   },
   "outputs": [],
   "source": [
    "%matplotlib inline\n",
    "sns.boxplot(x='borough', y='totalpop', data=cen_df01_s04).set(title='Population of Each Census Tract by Borough')"
   ]
  },
  {
   "cell_type": "code",
   "execution_count": null,
   "id": "a40a68b6-6193-4a14-aa18-9c0e9355604b",
   "metadata": {
    "tags": []
   },
   "outputs": [],
   "source": [
    "%matplotlib inline\n",
    "sns.boxplot(x='borough', y='childpoverty', data=cen_df01_s04).set(title='Child Poverty (%) of Each Census Tract by Borough')"
   ]
  },
  {
   "cell_type": "markdown",
   "id": "a89e695d-d937-4b05-92d8-1be93742680c",
   "metadata": {},
   "source": [
    "#### Create subsets of columns for various purposes"
   ]
  },
  {
   "cell_type": "code",
   "execution_count": null,
   "id": "10d872fb-b175-411e-913f-265013120d02",
   "metadata": {
    "tags": []
   },
   "outputs": [],
   "source": [
    "cen_df01_s04_num_lst01 = ['totalpop',\n",
    "                          'men',\n",
    "                          'women',\n",
    "                          'hispanic',\n",
    "                          'white',\n",
    "                          'black',\n",
    "                          'native',\n",
    "                          'asian',\n",
    "                          'citizen',\n",
    "                          'income',\n",
    "                          'poverty',\n",
    "                          'childpoverty',\n",
    "                          'professional',\n",
    "                          'service',\n",
    "                          'office',\n",
    "                          'construction',\n",
    "                          'production',\n",
    "                          'drive',\n",
    "                          'carpool',\n",
    "                          'transit',\n",
    "                          'walk',\n",
    "                          'othertransp',\n",
    "                          'workathome',\n",
    "                          'meancommute',\n",
    "                          'employed',\n",
    "                          'privatework',\n",
    "                          'publicwork',\n",
    "                          'selfemployed',\n",
    "                          'familywork',\n",
    "                          'unemployment'\n",
    "                         ]\n",
    "\n",
    "cen_df01_s04_num_lst02 = ['totalpop',\n",
    "                          'women',\n",
    "                          'hispanic',\n",
    "                          'black',\n",
    "                          'native',\n",
    "                          'asian',\n",
    "                          'citizen',\n",
    "                          'income',\n",
    "                          'poverty',\n",
    "                          'childpoverty',\n",
    "                          'professional',\n",
    "                          'service',\n",
    "                          'office',\n",
    "                          'construction',\n",
    "                          'meancommute',\n",
    "                          'employed',\n",
    "                          'unemployment'\n",
    "                         ]\n",
    "\n",
    "cen_df02_s01 = cen_df01_s04[cen_df01_s04_num_lst01]\n",
    "cen_df03_s01 = cen_df01_s04[cen_df01_s04_num_lst02]\n",
    "\n",
    "display(cen_df02_s01.head(17))"
   ]
  },
  {
   "cell_type": "code",
   "execution_count": null,
   "id": "91d96250-d034-4b98-b5e5-63607eafb22d",
   "metadata": {},
   "outputs": [],
   "source": []
  },
  {
   "cell_type": "code",
   "execution_count": null,
   "id": "866bddc4-0b2f-4427-b2a1-583532c66221",
   "metadata": {},
   "outputs": [],
   "source": [
    "# Pair scatter plots for selected features\n",
    "#sns.pairplot(cen_df02_s01.iloc[:, 0:2])\n",
    "sns.pairplot(cen_df03_s01)"
   ]
  },
  {
   "cell_type": "code",
   "execution_count": null,
   "id": "cc56a32a-51dc-4a9a-b958-e7582d5270c7",
   "metadata": {
    "tags": []
   },
   "outputs": [],
   "source": [
    "# Visualize missing values in each column\n",
    "msno.matrix(cen_df01_s04)"
   ]
  },
  {
   "cell_type": "code",
   "execution_count": null,
   "id": "41a7f950-0c50-415f-a63e-658198b620e0",
   "metadata": {
    "tags": []
   },
   "outputs": [],
   "source": [
    "# Remove any features for which the number of null vals exceed a threshold--\n",
    "#-- (15% of total N)\n",
    "cen_df01_s04_null_summ01 = pd.DataFrame(cen_df01_s04.isnull().sum(), columns=['null_count'])\n",
    "\n",
    "cen_df01_s04_null_summ02 = cen_df01_s04_null_summ01.loc[(cen_df01_s04_null_summ01['null_count'] != 0)].sort_values('null_count', ascending=False)\n",
    "cen_df01_s04_null_summ03 = cen_df01_s04_null_summ02.reset_index()\n",
    "print(cen_df01_s04_null_summ03)\n",
    "\n",
    "cen_df01_s04_null_summ04 = cen_df01_s04_null_summ03.loc[cen_df01_s04_null_summ03['null_count'] > (len(cen_df01_s04)*.05)]\n",
    "print('\\n', cen_df01_s04_null_summ04)\n",
    "\n",
    "cen_df01_s04_null_summ04_remove_lst01 = list(cen_df01_s04_null_summ04['index'])\n",
    "print('\\n', cen_df01_s04_null_summ04_remove_lst01)\n",
    "\n",
    "#train_x03_tx_df01 = cen_df01_s04.drop(cen_df01_s04_null_summ04_remove_lst01, axis=1)\n",
    "#test_x03_tx_df01 = test_x02_tx_df01_eda1.drop(cen_df01_s04_null_summ04_remove_lst01, axis=1)\n",
    "\n",
    "#print(f'\\n{train_x03_tx_df01.shape}')\n",
    "#print(f'\\n{test_x03_tx_df01.shape}')"
   ]
  },
  {
   "cell_type": "code",
   "execution_count": null,
   "id": "37347457-1cd5-46c0-92ca-00ed28c455f5",
   "metadata": {
    "tags": []
   },
   "outputs": [],
   "source": [
    "# Review near-zero variance (NZV) features for possible removal\n",
    "cen_df01_s04_nzv_fit = VarianceThreshold().fit(cen_df02_s01)\n",
    "cen_df01_s04_nzv_vc01 = cen_df01_s04_nzv_fit.transform(cen_df02_s01)\n",
    "print(cen_df01_s04_nzv_vc01)\n",
    "print(cen_df01_s04_nzv_vc01.shape)\n",
    "\n",
    "# Get the names of the selected features\n",
    "selected_features = cen_df02_s01.columns[cen_df01_s04_nzv_fit.get_support()]\n",
    "\n",
    "cen_df01_s04_nzv_df01 = pd.DataFrame(cen_df01_s04_nzv_vc01,\n",
    "                        columns=selected_features)\n",
    "\n",
    "print(cen_df01_s04_nzv_df01.head(5))\n",
    "print(f'X NZV transformed matrix dimensions = {cen_df01_s04_nzv_df01.shape}')\n",
    "\n",
    "print(f'\\n{cen_df02_s01.shape[1] - cen_df01_s04_nzv_df01.shape[1]} \\\n",
    "                                  near zero variance features were eliminated')\n"
   ]
  },
  {
   "cell_type": "code",
   "execution_count": null,
   "id": "31a190f7-58c7-4ad3-bd7b-d2dc114d5cc3",
   "metadata": {},
   "outputs": [],
   "source": []
  },
  {
   "cell_type": "markdown",
   "id": "04a3945d-2444-4e05-9bb0-a0b425e3819e",
   "metadata": {},
   "source": [
    "## Release Resources"
   ]
  },
  {
   "cell_type": "code",
   "execution_count": null,
   "id": "ee3299c6-302a-47ab-9744-90d9801f2045",
   "metadata": {},
   "outputs": [],
   "source": [
    "%%html\n",
    "\n",
    "<p><b>Shutting down your kernel for this notebook to release resources.</b></p>\n",
    "<button class=\"sm-command-button\" data-commandlinker-command=\"kernelmenu:shutdown\" style=\"display:none;\">Shutdown Kernel</button>\n",
    "        \n",
    "<script>\n",
    "try {\n",
    "    els = document.getElementsByClassName(\"sm-command-button\");\n",
    "    els[0].click();\n",
    "}\n",
    "catch(err) {\n",
    "    // NoOp\n",
    "}    \n",
    "</script>"
   ]
  },
  {
   "cell_type": "code",
   "execution_count": null,
   "id": "e7ae97b5-dbef-4ccb-83a7-5069806f0a19",
   "metadata": {
    "tags": []
   },
   "outputs": [],
   "source": [
    "%%javascript\n",
    "\n",
    "try {\n",
    "    Jupyter.notebook.save_checkpoint();\n",
    "    Jupyter.notebook.session.delete();\n",
    "}\n",
    "catch(err) {\n",
    "    // NoOp\n",
    "}"
   ]
  }
 ],
 "metadata": {
  "availableInstances": [
   {
    "_defaultOrder": 0,
    "_isFastLaunch": true,
    "category": "General purpose",
    "gpuNum": 0,
    "memoryGiB": 4,
    "name": "ml.t3.medium",
    "vcpuNum": 2
   },
   {
    "_defaultOrder": 1,
    "_isFastLaunch": false,
    "category": "General purpose",
    "gpuNum": 0,
    "memoryGiB": 8,
    "name": "ml.t3.large",
    "vcpuNum": 2
   },
   {
    "_defaultOrder": 2,
    "_isFastLaunch": false,
    "category": "General purpose",
    "gpuNum": 0,
    "memoryGiB": 16,
    "name": "ml.t3.xlarge",
    "vcpuNum": 4
   },
   {
    "_defaultOrder": 3,
    "_isFastLaunch": false,
    "category": "General purpose",
    "gpuNum": 0,
    "memoryGiB": 32,
    "name": "ml.t3.2xlarge",
    "vcpuNum": 8
   },
   {
    "_defaultOrder": 4,
    "_isFastLaunch": true,
    "category": "General purpose",
    "gpuNum": 0,
    "memoryGiB": 8,
    "name": "ml.m5.large",
    "vcpuNum": 2
   },
   {
    "_defaultOrder": 5,
    "_isFastLaunch": false,
    "category": "General purpose",
    "gpuNum": 0,
    "memoryGiB": 16,
    "name": "ml.m5.xlarge",
    "vcpuNum": 4
   },
   {
    "_defaultOrder": 6,
    "_isFastLaunch": false,
    "category": "General purpose",
    "gpuNum": 0,
    "memoryGiB": 32,
    "name": "ml.m5.2xlarge",
    "vcpuNum": 8
   },
   {
    "_defaultOrder": 7,
    "_isFastLaunch": false,
    "category": "General purpose",
    "gpuNum": 0,
    "memoryGiB": 64,
    "name": "ml.m5.4xlarge",
    "vcpuNum": 16
   },
   {
    "_defaultOrder": 8,
    "_isFastLaunch": false,
    "category": "General purpose",
    "gpuNum": 0,
    "memoryGiB": 128,
    "name": "ml.m5.8xlarge",
    "vcpuNum": 32
   },
   {
    "_defaultOrder": 9,
    "_isFastLaunch": false,
    "category": "General purpose",
    "gpuNum": 0,
    "memoryGiB": 192,
    "name": "ml.m5.12xlarge",
    "vcpuNum": 48
   },
   {
    "_defaultOrder": 10,
    "_isFastLaunch": false,
    "category": "General purpose",
    "gpuNum": 0,
    "memoryGiB": 256,
    "name": "ml.m5.16xlarge",
    "vcpuNum": 64
   },
   {
    "_defaultOrder": 11,
    "_isFastLaunch": false,
    "category": "General purpose",
    "gpuNum": 0,
    "memoryGiB": 384,
    "name": "ml.m5.24xlarge",
    "vcpuNum": 96
   },
   {
    "_defaultOrder": 12,
    "_isFastLaunch": false,
    "category": "General purpose",
    "gpuNum": 0,
    "memoryGiB": 8,
    "name": "ml.m5d.large",
    "vcpuNum": 2
   },
   {
    "_defaultOrder": 13,
    "_isFastLaunch": false,
    "category": "General purpose",
    "gpuNum": 0,
    "memoryGiB": 16,
    "name": "ml.m5d.xlarge",
    "vcpuNum": 4
   },
   {
    "_defaultOrder": 14,
    "_isFastLaunch": false,
    "category": "General purpose",
    "gpuNum": 0,
    "memoryGiB": 32,
    "name": "ml.m5d.2xlarge",
    "vcpuNum": 8
   },
   {
    "_defaultOrder": 15,
    "_isFastLaunch": false,
    "category": "General purpose",
    "gpuNum": 0,
    "memoryGiB": 64,
    "name": "ml.m5d.4xlarge",
    "vcpuNum": 16
   },
   {
    "_defaultOrder": 16,
    "_isFastLaunch": false,
    "category": "General purpose",
    "gpuNum": 0,
    "memoryGiB": 128,
    "name": "ml.m5d.8xlarge",
    "vcpuNum": 32
   },
   {
    "_defaultOrder": 17,
    "_isFastLaunch": false,
    "category": "General purpose",
    "gpuNum": 0,
    "memoryGiB": 192,
    "name": "ml.m5d.12xlarge",
    "vcpuNum": 48
   },
   {
    "_defaultOrder": 18,
    "_isFastLaunch": false,
    "category": "General purpose",
    "gpuNum": 0,
    "memoryGiB": 256,
    "name": "ml.m5d.16xlarge",
    "vcpuNum": 64
   },
   {
    "_defaultOrder": 19,
    "_isFastLaunch": false,
    "category": "General purpose",
    "gpuNum": 0,
    "memoryGiB": 384,
    "name": "ml.m5d.24xlarge",
    "vcpuNum": 96
   },
   {
    "_defaultOrder": 20,
    "_isFastLaunch": true,
    "category": "Compute optimized",
    "gpuNum": 0,
    "memoryGiB": 4,
    "name": "ml.c5.large",
    "vcpuNum": 2
   },
   {
    "_defaultOrder": 21,
    "_isFastLaunch": false,
    "category": "Compute optimized",
    "gpuNum": 0,
    "memoryGiB": 8,
    "name": "ml.c5.xlarge",
    "vcpuNum": 4
   },
   {
    "_defaultOrder": 22,
    "_isFastLaunch": false,
    "category": "Compute optimized",
    "gpuNum": 0,
    "memoryGiB": 16,
    "name": "ml.c5.2xlarge",
    "vcpuNum": 8
   },
   {
    "_defaultOrder": 23,
    "_isFastLaunch": false,
    "category": "Compute optimized",
    "gpuNum": 0,
    "memoryGiB": 32,
    "name": "ml.c5.4xlarge",
    "vcpuNum": 16
   },
   {
    "_defaultOrder": 24,
    "_isFastLaunch": false,
    "category": "Compute optimized",
    "gpuNum": 0,
    "memoryGiB": 72,
    "name": "ml.c5.9xlarge",
    "vcpuNum": 36
   },
   {
    "_defaultOrder": 25,
    "_isFastLaunch": false,
    "category": "Compute optimized",
    "gpuNum": 0,
    "memoryGiB": 96,
    "name": "ml.c5.12xlarge",
    "vcpuNum": 48
   },
   {
    "_defaultOrder": 26,
    "_isFastLaunch": false,
    "category": "Compute optimized",
    "gpuNum": 0,
    "memoryGiB": 144,
    "name": "ml.c5.18xlarge",
    "vcpuNum": 72
   },
   {
    "_defaultOrder": 27,
    "_isFastLaunch": false,
    "category": "Compute optimized",
    "gpuNum": 0,
    "memoryGiB": 192,
    "name": "ml.c5.24xlarge",
    "vcpuNum": 96
   },
   {
    "_defaultOrder": 28,
    "_isFastLaunch": true,
    "category": "Accelerated computing",
    "gpuNum": 1,
    "memoryGiB": 16,
    "name": "ml.g4dn.xlarge",
    "vcpuNum": 4
   },
   {
    "_defaultOrder": 29,
    "_isFastLaunch": false,
    "category": "Accelerated computing",
    "gpuNum": 1,
    "memoryGiB": 32,
    "name": "ml.g4dn.2xlarge",
    "vcpuNum": 8
   },
   {
    "_defaultOrder": 30,
    "_isFastLaunch": false,
    "category": "Accelerated computing",
    "gpuNum": 1,
    "memoryGiB": 64,
    "name": "ml.g4dn.4xlarge",
    "vcpuNum": 16
   },
   {
    "_defaultOrder": 31,
    "_isFastLaunch": false,
    "category": "Accelerated computing",
    "gpuNum": 1,
    "memoryGiB": 128,
    "name": "ml.g4dn.8xlarge",
    "vcpuNum": 32
   },
   {
    "_defaultOrder": 32,
    "_isFastLaunch": false,
    "category": "Accelerated computing",
    "gpuNum": 4,
    "memoryGiB": 192,
    "name": "ml.g4dn.12xlarge",
    "vcpuNum": 48
   },
   {
    "_defaultOrder": 33,
    "_isFastLaunch": false,
    "category": "Accelerated computing",
    "gpuNum": 1,
    "memoryGiB": 256,
    "name": "ml.g4dn.16xlarge",
    "vcpuNum": 64
   },
   {
    "_defaultOrder": 34,
    "_isFastLaunch": false,
    "category": "Accelerated computing",
    "gpuNum": 1,
    "memoryGiB": 61,
    "name": "ml.p3.2xlarge",
    "vcpuNum": 8
   },
   {
    "_defaultOrder": 35,
    "_isFastLaunch": false,
    "category": "Accelerated computing",
    "gpuNum": 4,
    "memoryGiB": 244,
    "name": "ml.p3.8xlarge",
    "vcpuNum": 32
   },
   {
    "_defaultOrder": 36,
    "_isFastLaunch": false,
    "category": "Accelerated computing",
    "gpuNum": 8,
    "memoryGiB": 488,
    "name": "ml.p3.16xlarge",
    "vcpuNum": 64
   },
   {
    "_defaultOrder": 37,
    "_isFastLaunch": false,
    "category": "Accelerated computing",
    "gpuNum": 8,
    "memoryGiB": 768,
    "name": "ml.p3dn.24xlarge",
    "vcpuNum": 96
   },
   {
    "_defaultOrder": 38,
    "_isFastLaunch": false,
    "category": "Memory Optimized",
    "gpuNum": 0,
    "memoryGiB": 16,
    "name": "ml.r5.large",
    "vcpuNum": 2
   },
   {
    "_defaultOrder": 39,
    "_isFastLaunch": false,
    "category": "Memory Optimized",
    "gpuNum": 0,
    "memoryGiB": 32,
    "name": "ml.r5.xlarge",
    "vcpuNum": 4
   },
   {
    "_defaultOrder": 40,
    "_isFastLaunch": false,
    "category": "Memory Optimized",
    "gpuNum": 0,
    "memoryGiB": 64,
    "name": "ml.r5.2xlarge",
    "vcpuNum": 8
   },
   {
    "_defaultOrder": 41,
    "_isFastLaunch": false,
    "category": "Memory Optimized",
    "gpuNum": 0,
    "memoryGiB": 128,
    "name": "ml.r5.4xlarge",
    "vcpuNum": 16
   },
   {
    "_defaultOrder": 42,
    "_isFastLaunch": false,
    "category": "Memory Optimized",
    "gpuNum": 0,
    "memoryGiB": 256,
    "name": "ml.r5.8xlarge",
    "vcpuNum": 32
   },
   {
    "_defaultOrder": 43,
    "_isFastLaunch": false,
    "category": "Memory Optimized",
    "gpuNum": 0,
    "memoryGiB": 384,
    "name": "ml.r5.12xlarge",
    "vcpuNum": 48
   },
   {
    "_defaultOrder": 44,
    "_isFastLaunch": false,
    "category": "Memory Optimized",
    "gpuNum": 0,
    "memoryGiB": 512,
    "name": "ml.r5.16xlarge",
    "vcpuNum": 64
   },
   {
    "_defaultOrder": 45,
    "_isFastLaunch": false,
    "category": "Memory Optimized",
    "gpuNum": 0,
    "memoryGiB": 768,
    "name": "ml.r5.24xlarge",
    "vcpuNum": 96
   },
   {
    "_defaultOrder": 46,
    "_isFastLaunch": false,
    "category": "Accelerated computing",
    "gpuNum": 1,
    "memoryGiB": 16,
    "name": "ml.g5.xlarge",
    "vcpuNum": 4
   },
   {
    "_defaultOrder": 47,
    "_isFastLaunch": false,
    "category": "Accelerated computing",
    "gpuNum": 1,
    "memoryGiB": 32,
    "name": "ml.g5.2xlarge",
    "vcpuNum": 8
   },
   {
    "_defaultOrder": 48,
    "_isFastLaunch": false,
    "category": "Accelerated computing",
    "gpuNum": 1,
    "memoryGiB": 64,
    "name": "ml.g5.4xlarge",
    "vcpuNum": 16
   },
   {
    "_defaultOrder": 49,
    "_isFastLaunch": false,
    "category": "Accelerated computing",
    "gpuNum": 1,
    "memoryGiB": 128,
    "name": "ml.g5.8xlarge",
    "vcpuNum": 32
   },
   {
    "_defaultOrder": 50,
    "_isFastLaunch": false,
    "category": "Accelerated computing",
    "gpuNum": 1,
    "memoryGiB": 256,
    "name": "ml.g5.16xlarge",
    "vcpuNum": 64
   },
   {
    "_defaultOrder": 51,
    "_isFastLaunch": false,
    "category": "Accelerated computing",
    "gpuNum": 4,
    "memoryGiB": 192,
    "name": "ml.g5.12xlarge",
    "vcpuNum": 48
   },
   {
    "_defaultOrder": 52,
    "_isFastLaunch": false,
    "category": "Accelerated computing",
    "gpuNum": 4,
    "memoryGiB": 384,
    "name": "ml.g5.24xlarge",
    "vcpuNum": 96
   },
   {
    "_defaultOrder": 53,
    "_isFastLaunch": false,
    "category": "Accelerated computing",
    "gpuNum": 8,
    "memoryGiB": 768,
    "name": "ml.g5.48xlarge",
    "vcpuNum": 192
   }
  ],
  "instance_type": "ml.t3.medium",
  "kernelspec": {
   "display_name": "Python 3 (Data Science)",
   "language": "python",
   "name": "python3__SAGEMAKER_INTERNAL__arn:aws:sagemaker:us-east-1:081325390199:image/datascience-1.0"
  },
  "language_info": {
   "codemirror_mode": {
    "name": "ipython",
    "version": 3
   },
   "file_extension": ".py",
   "mimetype": "text/x-python",
   "name": "python",
   "nbconvert_exporter": "python",
   "pygments_lexer": "ipython3",
   "version": "3.7.10"
  }
 },
 "nbformat": 4,
 "nbformat_minor": 5
}
