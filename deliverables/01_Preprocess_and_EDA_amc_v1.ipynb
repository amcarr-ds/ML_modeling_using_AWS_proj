{
 "cells": [
  {
   "cell_type": "markdown",
   "id": "2c28c202-f083-4f17-bce4-75a8733e4e94",
   "metadata": {},
   "source": [
    "# ADS-508-01-SP23 Team 8: Final Project"
   ]
  },
  {
   "cell_type": "markdown",
   "id": "909e7a12-7af1-4100-8481-c655fef67796",
   "metadata": {},
   "source": [
    "# Setup Database and Athena Tables"
   ]
  },
  {
   "cell_type": "markdown",
   "id": "ed82d3db-7375-45a2-8469-605182fe8c5b",
   "metadata": {},
   "source": [
    "Much of the code is modified from `Fregly, C., & Barth, A. (2021). Data science on AWS: Implementing end-to-end, continuous AI and machine learning pipelines. O’Reilly.`"
   ]
  },
  {
   "cell_type": "markdown",
   "id": "6cdd19d4-5924-488e-a3b0-7e7065759ab7",
   "metadata": {},
   "source": [
    "## Install missing dependencies\n",
    "\n",
    "[PyAthena](https://pypi.org/project/PyAthena/) is a Python DB API 2.0 (PEP 249) compliant client for Amazon Athena."
   ]
  },
  {
   "cell_type": "code",
   "execution_count": null,
   "id": "d9f1c7ee-09af-4e4f-ab1c-3ba90224c186",
   "metadata": {},
   "outputs": [],
   "source": [
    "!pip install --disable-pip-version-check -q PyAthena==2.1.0\n",
    "!pip install missingno"
   ]
  },
  {
   "cell_type": "markdown",
   "id": "4f89a22a-dfbe-40a5-9922-f7dd159fea53",
   "metadata": {},
   "source": [
    "## Globally import libraries"
   ]
  },
  {
   "cell_type": "code",
   "execution_count": null,
   "id": "d0637c68-42e5-4705-b183-a8e751e3d534",
   "metadata": {},
   "outputs": [],
   "source": [
    "import boto3\n",
    "from botocore.client import ClientError\n",
    "from IPython.core.display import display, HTML\n",
    "import pandas as pd\n",
    "from pyathena import connect\n",
    "import matplotlib.pyplot as plt\n",
    "import missingno as msno\n",
    "import sagemaker\n",
    "import seaborn as sns\n",
    "from sklearn.feature_selection import VarianceThreshold"
   ]
  },
  {
   "cell_type": "markdown",
   "id": "5de88cf8-f158-44f2-adde-2aabff91452e",
   "metadata": {},
   "source": [
    "# Set Seaborn Parameters"
   ]
  },
  {
   "cell_type": "markdown",
   "id": "24a02059-adcf-4515-b864-b0ddfc43e795",
   "metadata": {},
   "source": [
    "sns.set_style = \"seaborn-whitegrid\"\n",
    "\n",
    "sns.set(\n",
    "    rc={\n",
    "        \"font.style\": \"normal\",\n",
    "        \"axes.facecolor\": \"white\",\n",
    "        \"grid.color\": \".8\",\n",
    "        \"grid.linestyle\": \"-\",\n",
    "        \"figure.facecolor\": \"white\",\n",
    "        \"figure.titlesize\": 20,\n",
    "        \"text.color\": \"black\",\n",
    "        \"xtick.color\": \"black\",\n",
    "        \"ytick.color\": \"black\",\n",
    "        \"axes.labelcolor\": \"black\",\n",
    "        \"axes.grid\": True,\n",
    "        \"axes.labelsize\": 10,\n",
    "        \"xtick.labelsize\": 10,\n",
    "        \"font.size\": 10,\n",
    "        \"ytick.labelsize\": 10,\n",
    "    }\n",
    ")"
   ]
  },
  {
   "cell_type": "markdown",
   "id": "8d97d4b8-857a-4dbf-8a63-59f4456253b6",
   "metadata": {},
   "source": [
    "## Instantiate AWS SageMaker session"
   ]
  },
  {
   "cell_type": "code",
   "execution_count": null,
   "id": "b6cf2b25-c2b3-47be-8cf8-5a3a3d6495ad",
   "metadata": {},
   "outputs": [],
   "source": [
    "session = boto3.session.Session()\n",
    "region = session.region_name\n",
    "sagemaker_session = sagemaker.Session()\n",
    "def_bucket = sagemaker_session.default_bucket()\n",
    "bucket = 'sagemaker-us-east-ads508-sp23-t8'\n",
    "role = sagemaker.get_execution_role()\n",
    "\n",
    "s3 = boto3.Session().client(service_name=\"s3\", region_name=region)"
   ]
  },
  {
   "cell_type": "code",
   "execution_count": null,
   "id": "59fe83df-3b8d-4120-ae9a-221497980a76",
   "metadata": {},
   "outputs": [],
   "source": [
    "print(f\"Default bucket: {def_bucket}\")\n",
    "print(f\"Public T8 bucket: {bucket}\")"
   ]
  },
  {
   "cell_type": "markdown",
   "id": "663173bf-7e26-4f26-bdad-d1cb242a210b",
   "metadata": {
    "tags": []
   },
   "source": [
    "# Citaion: OpenAI\n",
    "s3_conn = boto3.resource('s3')\n",
    "bucket_conn = s3_conn.Bucket(bucket)\n",
    "\n",
    "# List bucket contents\n",
    "for obj in bucket_conn.objects.all():\n",
    "    print(obj.key)"
   ]
  },
  {
   "cell_type": "code",
   "execution_count": null,
   "id": "3c4ba780-9ea7-4a9a-a87a-d4aabca741df",
   "metadata": {},
   "outputs": [],
   "source": [
    "# Set S3 staging directory -- this is a temporary directory used for Athena queries\n",
    "s3_staging_dir = f\"s3://{bucket}/athena/staging\"\n",
    "print(s3_staging_dir)"
   ]
  },
  {
   "cell_type": "code",
   "execution_count": null,
   "id": "bd3f1870-bb61-4c23-a772-554578d4e84e",
   "metadata": {},
   "outputs": [],
   "source": [
    "conn = connect(region_name=region,\n",
    "               s3_staging_dir=s3_staging_dir)"
   ]
  },
  {
   "cell_type": "code",
   "execution_count": null,
   "id": "5c63283f-b849-4e9b-8e0a-78ad22d23b87",
   "metadata": {},
   "outputs": [],
   "source": [
    "database_name = \"ads508_t8\""
   ]
  },
  {
   "cell_type": "markdown",
   "id": "b395999f-c146-4bf2-9740-b0e72479272c",
   "metadata": {},
   "source": [
    "## Explore DB tables"
   ]
  },
  {
   "cell_type": "markdown",
   "id": "1b8e6871-8dca-43f6-b100-7d1bc842fff0",
   "metadata": {},
   "source": [
    "### `census`"
   ]
  },
  {
   "cell_type": "code",
   "execution_count": null,
   "id": "062944b5-fb3b-485a-a8be-89aa2a97aac6",
   "metadata": {},
   "outputs": [],
   "source": [
    "cen_tsv_tbl_name = 'census'"
   ]
  },
  {
   "cell_type": "markdown",
   "id": "e306162a-b36f-4350-b3de-8e2c83adedb6",
   "metadata": {},
   "source": [
    "#### Explore via SQL SELECT statements"
   ]
  },
  {
   "cell_type": "code",
   "execution_count": null,
   "id": "f4db4ba2-ad4d-44a0-9c28-b6728823b391",
   "metadata": {
    "tags": []
   },
   "outputs": [],
   "source": [
    "# Run query to review a sample of records\n",
    "cen_bourough01 = \"bronx\"\n",
    "\n",
    "cen_select_borough_stmnt01 = f\"\"\"\n",
    "    SELECT * FROM {database_name}.{cen_tsv_tbl_name}\n",
    "    WHERE lower(borough) = '{cen_bourough01}'\n",
    "    LIMIT 11\n",
    "    \"\"\"\n",
    "\n",
    "# Display SQL statement\n",
    "print(cen_select_borough_stmnt01)\n",
    "\n",
    "# Run SQL statement against Athena table\n",
    "cen_df01_s01 = pd.read_sql(cen_select_borough_stmnt01,\n",
    "                           conn)\n",
    "# Display results\n",
    "cen_df01_s01.head(11)"
   ]
  },
  {
   "cell_type": "markdown",
   "id": "87c22cf6-4cfa-4504-89d9-c825cd66a96a",
   "metadata": {},
   "source": [
    "#### Perform aggregated summaries"
   ]
  },
  {
   "cell_type": "code",
   "execution_count": null,
   "id": "e52b0e77-b596-4c49-b3a5-0f534ca7bfd7",
   "metadata": {
    "tags": []
   },
   "outputs": [],
   "source": [
    "# Run query to review a sample of records\n",
    "cen_select_hispanic_stmnt01 = f\"\"\"\n",
    "    SELECT DISTINCT\n",
    "        hispanic,\n",
    "        count(*)\n",
    "    FROM {database_name}.{cen_tsv_tbl_name}\n",
    "    WHERE hispanic IS NULL\n",
    "    GROUP BY hispanic\n",
    "    LIMIT 10\n",
    "    \"\"\"\n",
    "\n",
    "# Display SQL statement\n",
    "print(cen_select_hispanic_stmnt01)\n",
    "\n",
    "# Run SQL statement against Athena table\n",
    "cen_df01_s02 = pd.read_sql(cen_select_hispanic_stmnt01,\n",
    "                           conn)\n",
    "# Display results\n",
    "cen_df01_s02.head(11)"
   ]
  },
  {
   "cell_type": "code",
   "execution_count": null,
   "id": "bfe34e79-527e-47ec-8224-e17856136e71",
   "metadata": {
    "tags": []
   },
   "outputs": [],
   "source": [
    "cen_summ_borough_stmnt01 = f\"\"\"\n",
    "    SELECT\n",
    "        borough,\n",
    "        COUNT(*) AS ctract_count,\n",
    "        SUM(totalpop) AS bor_pop,\n",
    "        SUM(round(totalpop*hispanic/100,0))/SUM(totalpop) AS hispanic_perc,\n",
    "        SUM(round(totalpop*white/100,0))/SUM(totalpop) AS white_perc,\n",
    "        SUM(round(totalpop*black/100,0))/SUM(totalpop) AS black_perc,\n",
    "        SUM(round(totalpop*native/100,0))/SUM(totalpop) AS native_perc,\n",
    "        SUM(round(totalpop*asian/100,0))/SUM(totalpop) AS asian_perc,\n",
    "        SUM(round(totalpop*childpoverty/100,0))/SUM(totalpop) AS child_poverty_perc,\n",
    "        SUM(round(totalpop*income,0))/SUM(totalpop) AS income_avg\n",
    "    FROM {database_name}.{cen_tsv_tbl_name}\n",
    "    GROUP BY borough\n",
    "    LIMIT 100\n",
    "    \"\"\"\n",
    "\n",
    "# Display SQL statement\n",
    "print(cen_summ_borough_stmnt01)\n",
    "\n",
    "# Run SQL statement against Athena table\n",
    "cen_df01_s03 = pd.read_sql(cen_summ_borough_stmnt01,\n",
    "                           conn)\n",
    "# Display results\n",
    "cen_df01_s03.head(11)"
   ]
  },
  {
   "cell_type": "code",
   "execution_count": null,
   "id": "a9ccf8ed-7eaa-44b7-9612-f7680b63b323",
   "metadata": {},
   "outputs": [],
   "source": [
    "cen_summ_borough_stmnt01 = f\"\"\"\n",
    "    SELECT\n",
    "        censustract,\n",
    "        COUNT(*) AS ctract_count,\n",
    "        SUM(totalpop) AS bor_pop,\n",
    "        SUM(round(totalpop*hispanic/100,0))/SUM(totalpop) AS hispanic_perc,\n",
    "        SUM(round(totalpop*white/100,0))/SUM(totalpop) AS white_perc,\n",
    "        SUM(round(totalpop*black/100,0))/SUM(totalpop) AS black_perc,\n",
    "        SUM(round(totalpop*native/100,0))/SUM(totalpop) AS native_perc,\n",
    "        SUM(round(totalpop*asian/100,0))/SUM(totalpop) AS asian_perc,\n",
    "        SUM(round(totalpop*childpoverty/100,0))/SUM(totalpop) AS child_poverty_perc,\n",
    "        SUM(round(totalpop*income,0))/SUM(totalpop) AS income_avg\n",
    "    FROM {database_name}.{cen_tsv_tbl_name}\n",
    "    GROUP BY censustract\n",
    "    LIMIT 100\n",
    "    \"\"\"\n",
    "\n",
    "# Display SQL statement\n",
    "print(cen_summ_borough_stmnt01)\n",
    "\n",
    "# Run SQL statement against Athena table\n",
    "cen_df01_s04 = pd.read_sql(cen_summ_borough_stmnt01,\n",
    "                           conn)\n",
    "# Display results\n",
    "cen_df01_s04.head(11)"
   ]
  },
  {
   "cell_type": "markdown",
   "id": "35847bb3-6ff6-4a72-9bf9-3ac13b4e55ff",
   "metadata": {},
   "source": [
    "#### Load potential predictors and target for further exploration using pandas"
   ]
  },
  {
   "cell_type": "code",
   "execution_count": null,
   "id": "f628eb6b-0392-45b3-8321-8cee5cdcc6aa",
   "metadata": {},
   "outputs": [],
   "source": [
    "cen_box_stmnt01 = f\"\"\"\n",
    "    SELECT\n",
    "        borough,\n",
    "        totalpop,\n",
    "        men,\n",
    "        women,\n",
    "        hispanic,\n",
    "        white,\n",
    "        black,\n",
    "        native,\n",
    "        asian,\n",
    "        citizen,\n",
    "        income,\n",
    "        poverty,\n",
    "        childpoverty,\n",
    "        professional,\n",
    "        service,\n",
    "        office,\n",
    "        construction,\n",
    "        production,\n",
    "        drive,\n",
    "        carpool,\n",
    "        transit,\n",
    "        walk,\n",
    "        othertransp,\n",
    "        workathome,\n",
    "        meancommute,\n",
    "        employed,\n",
    "        privatework,\n",
    "        publicwork,\n",
    "        selfemployed,\n",
    "        familywork,\n",
    "        unemployment\n",
    "    FROM {database_name}.{cen_tsv_tbl_name}\n",
    "    WHERE childpoverty IS NOT NULL\n",
    "    LIMIT 5000\n",
    "    \"\"\"\n",
    "\n",
    "# Display SQL statement\n",
    "print(cen_box_stmnt01)\n",
    "\n",
    "# Run SQL statement against Athena table\n",
    "cen_df01_s05 = pd.read_sql(cen_box_stmnt01,\n",
    "                           conn)\n",
    "# Display results\n",
    "cen_df01_s05.head(11)"
   ]
  },
  {
   "cell_type": "markdown",
   "id": "0d3738bb-292d-462a-b0bd-ebbb83b2b708",
   "metadata": {},
   "source": [
    "#### Display boxplots for select features"
   ]
  },
  {
   "cell_type": "code",
   "execution_count": null,
   "id": "ab13405f-e92d-496b-9843-b764de8ed1bb",
   "metadata": {
    "tags": []
   },
   "outputs": [],
   "source": [
    "%matplotlib inline\n",
    "sns.boxplot(x='borough', y='totalpop', data=cen_df01_s05).set(title='Population of Each Census Tract by Borough')"
   ]
  },
  {
   "cell_type": "code",
   "execution_count": null,
   "id": "a40a68b6-6193-4a14-aa18-9c0e9355604b",
   "metadata": {
    "tags": []
   },
   "outputs": [],
   "source": [
    "%matplotlib inline\n",
    "sns.boxplot(x='borough', y='childpoverty', data=cen_df01_s05).set(title='Child Poverty (%) of Each Census Tract by Borough')"
   ]
  },
  {
   "cell_type": "markdown",
   "id": "a89e695d-d937-4b05-92d8-1be93742680c",
   "metadata": {},
   "source": [
    "#### Create subsets of columns for various purposes"
   ]
  },
  {
   "cell_type": "code",
   "execution_count": null,
   "id": "10d872fb-b175-411e-913f-265013120d02",
   "metadata": {
    "tags": []
   },
   "outputs": [],
   "source": [
    "cen_df01_s05_num_lst01 = ['totalpop',\n",
    "                          'men',\n",
    "                          'women',\n",
    "                          'hispanic',\n",
    "                          'white',\n",
    "                          'black',\n",
    "                          'native',\n",
    "                          'asian',\n",
    "                          'citizen',\n",
    "                          'income',\n",
    "                          'poverty',\n",
    "                          'childpoverty',\n",
    "                          'professional',\n",
    "                          'service',\n",
    "                          'office',\n",
    "                          'construction',\n",
    "                          'production',\n",
    "                          'drive',\n",
    "                          'carpool',\n",
    "                          'transit',\n",
    "                          'walk',\n",
    "                          'othertransp',\n",
    "                          'workathome',\n",
    "                          'meancommute',\n",
    "                          'employed',\n",
    "                          'privatework',\n",
    "                          'publicwork',\n",
    "                          'selfemployed',\n",
    "                          'familywork',\n",
    "                          'unemployment'\n",
    "                         ]\n",
    "\n",
    "cen_df01_s05_num_lst02 = ['totalpop',\n",
    "                          'women',\n",
    "                          'hispanic',\n",
    "                          'black',\n",
    "                          'native',\n",
    "                          'asian',\n",
    "                          'citizen',\n",
    "                          'income',\n",
    "                          'poverty',\n",
    "                          'childpoverty',\n",
    "                          'professional',\n",
    "                          'service',\n",
    "                          'office',\n",
    "                          'construction',\n",
    "                          'meancommute',\n",
    "                          'employed',\n",
    "                          'unemployment'\n",
    "                         ]\n",
    "\n",
    "cen_df02_s01 = cen_df01_s05[cen_df01_s05_num_lst01]\n",
    "cen_df03_s01 = cen_df01_s05[cen_df01_s05_num_lst02]\n",
    "\n",
    "display(cen_df02_s01.head(5))"
   ]
  },
  {
   "cell_type": "markdown",
   "id": "6a9631db-aef8-4161-a842-4a692a9b87da",
   "metadata": {},
   "source": [
    "#### Scatterplots of numerical features"
   ]
  },
  {
   "cell_type": "code",
   "execution_count": null,
   "id": "866bddc4-0b2f-4427-b2a1-583532c66221",
   "metadata": {},
   "outputs": [],
   "source": [
    "# Pair scatter plots for selected features\n",
    "#sns.pairplot(cen_df02_s01.iloc[:, 0:2])\n",
    "sns.pairplot(cen_df03_s01)"
   ]
  },
  {
   "cell_type": "markdown",
   "id": "69a25fd1-05ef-4fea-853c-f6c39aa615c8",
   "metadata": {},
   "source": [
    "#### Examine features with missing values"
   ]
  },
  {
   "cell_type": "code",
   "execution_count": null,
   "id": "cc56a32a-51dc-4a9a-b958-e7582d5270c7",
   "metadata": {
    "tags": []
   },
   "outputs": [],
   "source": [
    "# Visualize missing values in each column\n",
    "msno.matrix(cen_df01_s05)"
   ]
  },
  {
   "cell_type": "code",
   "execution_count": null,
   "id": "41a7f950-0c50-415f-a63e-658198b620e0",
   "metadata": {
    "tags": []
   },
   "outputs": [],
   "source": [
    "# Remove any features for which the number of null vals exceed a threshold--\n",
    "#-- (15% of total N)\n",
    "cen_df01_s05_null_summ01 = pd.DataFrame(cen_df01_s05.isnull().sum(),\n",
    "                                        columns=['null_count'])\n",
    "\n",
    "cen_df01_s05_null_summ02 = cen_df01_s05_null_summ01.loc[(cen_df01_s05_null_summ01['null_count'] != 0)].sort_values('null_count',\n",
    "                                                                                                                   ascending=False)\n",
    "cen_df01_s05_null_summ03 = cen_df01_s05_null_summ02.reset_index()\n",
    "print(cen_df01_s05_null_summ03)\n",
    "\n",
    "cen_df01_s05_null_summ04 = cen_df01_s05_null_summ03.loc[cen_df01_s05_null_summ03['null_count'] > (len(cen_df01_s05)*.05)]\n",
    "print('\\n', cen_df01_s05_null_summ04)\n",
    "\n",
    "cen_df01_s05_null_summ04_remove_lst01 = list(cen_df01_s05_null_summ04['index'])\n",
    "print('\\n', cen_df01_s05_null_summ04_remove_lst01)\n",
    "\n",
    "#train_x03_tx_df01 = cen_df01_s05.drop(cen_df01_s05_null_summ04_remove_lst01, axis=1)\n",
    "#test_x03_tx_df01 = test_x02_tx_df01_eda1.drop(cen_df01_s05_null_summ04_remove_lst01, axis=1)\n",
    "\n",
    "#print(f'\\n{train_x03_tx_df01.shape}')\n",
    "#print(f'\\n{test_x03_tx_df01.shape}')"
   ]
  },
  {
   "cell_type": "markdown",
   "id": "d7a98146-7feb-4089-94e1-f1e621a59926",
   "metadata": {},
   "source": [
    "#### Examine featues with near zero variances"
   ]
  },
  {
   "cell_type": "code",
   "execution_count": null,
   "id": "37347457-1cd5-46c0-92ca-00ed28c455f5",
   "metadata": {
    "tags": []
   },
   "outputs": [],
   "source": [
    "# Review near-zero variance (NZV) features for possible removal\n",
    "cen_df02_s01_nzv_fit = VarianceThreshold().fit(cen_df02_s01)\n",
    "cen_df02_s01_nzv_vc01 = cen_df02_s01_nzv_fit.transform(cen_df02_s01)\n",
    "#print(cen_df02_s01_nzv_vc01)\n",
    "#print(cen_df02_s01_nzv_vc01.shape)\n",
    "\n",
    "# Get the names of the selected features\n",
    "cen_df02_s01_nzv_fit_select_features = cen_df02_s01.columns[cen_df02_s01_nzv_fit.get_support()]\n",
    "\n",
    "cen_df02_s01_nzv_df01 = pd.DataFrame(cen_df02_s01_nzv_vc01,\n",
    "                                     columns=cen_df02_s01_nzv_fit_select_features)\n",
    "\n",
    "display(cen_df02_s01_nzv_df01.head(5))\n",
    "print(f'NZV transformed matrix dimensions = {cen_df02_s01_nzv_df01.shape}')\n",
    "\n",
    "print(f'\\n{cen_df02_s01.shape[1] - cen_df02_s01_nzv_df01.shape[1]} near zero variance features were eliminated')"
   ]
  },
  {
   "cell_type": "markdown",
   "id": "2919c7a1-66a1-49c4-81f1-cc76bb8244a6",
   "metadata": {},
   "source": [
    "### `crime_pqt`"
   ]
  },
  {
   "cell_type": "code",
   "execution_count": null,
   "id": "97ebc72e-0391-406a-a774-e493b0d22e85",
   "metadata": {},
   "outputs": [],
   "source": [
    "cri_pqt_tbl_name = 'crime_pqt'"
   ]
  },
  {
   "cell_type": "markdown",
   "id": "03ce8554-6c13-4131-8dbc-7932dc500a5b",
   "metadata": {},
   "source": [
    "#### Explore via SQL SELECT statements"
   ]
  },
  {
   "cell_type": "code",
   "execution_count": null,
   "id": "4fcba1a6-ccac-4967-85cb-54cd423b4840",
   "metadata": {
    "tags": []
   },
   "outputs": [],
   "source": [
    "# Run query to review a sample of records\n",
    "cri_law_cat_cd01 = \"misdemeanor\"\n",
    "cri_bourough01 = \"bronx\"\n",
    "\n",
    "cri_select_borough_stmnt01 = f\"\"\"\n",
    "    SELECT * FROM {database_name}.{cri_pqt_tbl_name}\n",
    "    WHERE lower(law_cat_cd) = '{cri_law_cat_cd01}' AND lower(borough) = '{cri_bourough01}'\n",
    "    LIMIT 11\n",
    "    \"\"\"\n",
    "\n",
    "# Display SQL statement\n",
    "print(cri_select_borough_stmnt01)\n",
    "\n",
    "# Run SQL statement against Athena table\n",
    "cri_df01_s01 = pd.read_sql(cri_select_borough_stmnt01,\n",
    "                           conn)\n",
    "# Display results\n",
    "cri_df01_s01.head(5)"
   ]
  },
  {
   "cell_type": "markdown",
   "id": "7cb4e6ac-4012-4060-8cb6-3e14f3779bc6",
   "metadata": {},
   "source": [
    "#### Perform aggregated summaries"
   ]
  },
  {
   "cell_type": "code",
   "execution_count": null,
   "id": "8e79c207-6ea9-4308-aaef-0d5250efe430",
   "metadata": {
    "tags": []
   },
   "outputs": [],
   "source": [
    "# Run query to review a sample of records\n",
    "cri_select_ofns_desc_stmnt01 = f\"\"\"\n",
    "    SELECT DISTINCT\n",
    "        ofns_desc,\n",
    "        count(*) AS misdemeanor_offense_count\n",
    "    FROM {database_name}.{cri_pqt_tbl_name}\n",
    "    WHERE lower(law_cat_cd) = '{cri_law_cat_cd01}' \n",
    "    GROUP BY ofns_desc\n",
    "    ORDER BY misdemeanor_offense_count DESC\n",
    "    LIMIT 1000\n",
    "    \"\"\"\n",
    "\n",
    "# Display SQL statement\n",
    "print(cri_select_ofns_desc_stmnt01)\n",
    "\n",
    "# Run SQL statement against Athena table\n",
    "cri_df01_s02 = pd.read_sql(cri_select_ofns_desc_stmnt01,\n",
    "                           conn)\n",
    "# Display results\n",
    "cri_df01_s02.head(31)"
   ]
  },
  {
   "cell_type": "code",
   "execution_count": null,
   "id": "3de107e0-ad3f-4b91-b784-147ce3ef5b77",
   "metadata": {
    "tags": []
   },
   "outputs": [],
   "source": [
    "cri_summ_borough_stmnt01 = f\"\"\"\n",
    "    SELECT\n",
    "        law_cat_cd,\n",
    "        borough,\n",
    "        COUNT(*) AS crime_count\n",
    "    FROM {database_name}.{cri_pqt_tbl_name}\n",
    "    GROUP BY law_cat_cd, borough\n",
    "    ORDER BY crime_count DESC\n",
    "    LIMIT 100\n",
    "    \"\"\"\n",
    "\n",
    "# Display SQL statement\n",
    "print(cri_summ_borough_stmnt01)\n",
    "\n",
    "# Run SQL statement against Athena table\n",
    "cri_df01_s03 = pd.read_sql(cri_summ_borough_stmnt01,\n",
    "                           conn)\n",
    "# Display results\n",
    "cri_df01_s03.head(47)"
   ]
  },
  {
   "cell_type": "code",
   "execution_count": null,
   "id": "9902276e-a761-4a7d-b66a-e78a32dc3fcb",
   "metadata": {
    "tags": []
   },
   "outputs": [],
   "source": [
    "cri_date_stmnt01 = f\"\"\"\n",
    "    SELECT\n",
    "        cmplnt_fr_dt,\n",
    "        date_parse(cmplnt_fr_dt, '%m/%d/%Y') AS cmplnt_fr_date,\n",
    "        count(*) AS daily_misdemeanor_counts\n",
    "    FROM {database_name}.{cri_pqt_tbl_name}\n",
    "    WHERE lower(law_cat_cd) = '{cri_law_cat_cd01}'\n",
    "        AND cmplnt_fr_dt <> ''\n",
    "    GROUP BY cmplnt_fr_dt\n",
    "    ORDER BY cmplnt_fr_dt\n",
    "    LIMIT 10000\n",
    "    \"\"\"\n",
    "\n",
    "# Display SQL statement\n",
    "print(cri_date_stmnt01)\n",
    "\n",
    "# Run SQL statement against Athena table\n",
    "cri_df01_s04 = pd.read_sql(cri_date_stmnt01,\n",
    "                           conn)\n",
    "# Display results\n",
    "print(cri_df01_s04.shape)\n",
    "display(cri_df01_s04.head(11))"
   ]
  },
  {
   "cell_type": "markdown",
   "id": "464657bb-63dd-4aaf-aed8-98914194bd45",
   "metadata": {},
   "source": [
    "#### Load potential predictors and target for further exploration using pandas"
   ]
  },
  {
   "cell_type": "code",
   "execution_count": null,
   "id": "fa9df4b5-8b04-48da-88c8-a9a8ed1cb524",
   "metadata": {},
   "outputs": [],
   "source": [
    "cri_box_stmnt01 = f\"\"\"\n",
    "    SELECT\n",
    "        date_parse(cmplnt_fr_dt, '%m/%d/%Y') AS cmplnt_fr_date,\n",
    "        ky_cd,\n",
    "        ofns_desc,\n",
    "        pd_cd,\n",
    "        pd_desc,\n",
    "        crm_atpt_cptd_cd,\n",
    "        loc_of_occur_desc,\n",
    "        prem_typ_desc,\n",
    "        jurisdiction_code,\n",
    "        parks_nm,\n",
    "        susp_age_group,\n",
    "        susp_race,\n",
    "        susp_sex,\n",
    "        transit_district,\n",
    "        latitude,\n",
    "        longitude,\n",
    "        vic_age_group,\n",
    "        vic_race,\n",
    "        vic_sex,\n",
    "        law_cat_cd,\n",
    "        borough\n",
    "    FROM {database_name}.{cri_pqt_tbl_name}\n",
    "    WHERE lower(law_cat_cd) = '{cri_law_cat_cd01}' \n",
    "    \"\"\"\n",
    "\n",
    "# Display SQL statement\n",
    "print(cri_box_stmnt01)\n",
    "\n",
    "# Run SQL statement against Athena table\n",
    "cri_df01_s05 = pd.read_sql(cri_box_stmnt01,\n",
    "                           conn)\n",
    "# Display results\n",
    "print(cri_df01_s05.shape)\n",
    "display(cri_df01_s05.head(11))"
   ]
  },
  {
   "cell_type": "markdown",
   "id": "2f09dbc3-0056-4534-8f4e-2ae99336e370",
   "metadata": {},
   "source": [
    "#### Create subsets of columns for various purposes"
   ]
  },
  {
   "cell_type": "code",
   "execution_count": null,
   "id": "c7b120cd-7a6a-4aff-8d17-90a77f8fef23",
   "metadata": {
    "tags": []
   },
   "outputs": [],
   "source": [
    "cri_df01_s05_num_lst01 = []\n",
    "\n",
    "cri_df01_s05_num_lst02 = []\n",
    "\n",
    "cri_df02_s01 = cri_df01_s05[cri_df01_s05_num_lst01]\n",
    "cri_df03_s01 = cri_df01_s05[cri_df01_s05_num_lst02]\n",
    "\n",
    "display(cri_df02_s01.head(11))"
   ]
  },
  {
   "cell_type": "markdown",
   "id": "2b605575-b3b6-4752-928e-a4696c401172",
   "metadata": {},
   "source": [
    "#### Examine features with missing values"
   ]
  },
  {
   "cell_type": "code",
   "execution_count": null,
   "id": "016458dd-7f6e-419f-abcc-c9de57d61041",
   "metadata": {
    "tags": []
   },
   "outputs": [],
   "source": [
    "# Visualize missing values in each column\n",
    "msno.matrix(cri_df01_s05)"
   ]
  },
  {
   "cell_type": "code",
   "execution_count": null,
   "id": "d11e4faa-4392-40b4-91cf-5dacbf68de6f",
   "metadata": {
    "tags": []
   },
   "outputs": [],
   "source": [
    "# Remove any features for which the number of null vals exceed a threshold--\n",
    "#-- (15% of total N)\n",
    "cri_df01_s05_null_summ01 = pd.DataFrame(cri_df01_s05.isnull().sum(),\n",
    "                                        columns=['null_count'])\n",
    "\n",
    "cri_df01_s05_null_summ02 = cri_df01_s05_null_summ01.loc[(cri_df01_s05_null_summ01['null_count'] != 0)].sort_values('null_count',\n",
    "                                                                                                                   ascending=False)\n",
    "cri_df01_s05_null_summ03 = cri_df01_s05_null_summ02.reset_index()\n",
    "print(cri_df01_s05_null_summ03)\n",
    "\n",
    "cri_df01_s05_null_summ04 = cri_df01_s05_null_summ03.loc[cri_df01_s05_null_summ03['null_count'] > (len(cri_df01_s05)*.05)]\n",
    "print('\\n', cri_df01_s05_null_summ04)\n",
    "\n",
    "cri_df01_s05_null_summ04_remove_lst01 = list(cri_df01_s05_null_summ04['index'])\n",
    "print('\\n', cri_df01_s05_null_summ04_remove_lst01)\n",
    "\n",
    "#train_x03_tx_df01 = cri_df01_s05.drop(cri_df01_s05_null_summ04_remove_lst01, axis=1)\n",
    "#test_x03_tx_df01 = test_x02_tx_df01_eda1.drop(cri_df01_s05_null_summ04_remove_lst01, axis=1)\n",
    "\n",
    "#print(f'\\n{train_x03_tx_df01.shape}')\n",
    "#print(f'\\n{test_x03_tx_df01.shape}')"
   ]
  },
  {
   "cell_type": "markdown",
   "id": "df5ea7b7-68f0-4a0e-9eab-944db4367993",
   "metadata": {},
   "source": [
    "#### Display time plots for select features"
   ]
  },
  {
   "cell_type": "code",
   "execution_count": null,
   "id": "e8046854-fd3b-485f-a648-d67310f33f73",
   "metadata": {
    "tags": []
   },
   "outputs": [],
   "source": [
    "%matplotlib inline\n",
    "fig = plt.gcf()\n",
    "fig.set_size_inches(12, 5)\n",
    "\n",
    "fig.suptitle(\"Misdemeanor Event Counts Over Time\")\n",
    "\n",
    "ax = plt.gca()\n",
    "# ax = plt.gca().set_xticks(df['year'])\n",
    "ax.locator_params(integer=True)\n",
    "ax.set_xticks(cri_df01_s04[\"cmplnt_fr_date\"].unique())\n",
    "\n",
    "cri_df01_s04.plot(kind=\"line\",\n",
    "        x=\"cmplnt_fr_date\",\n",
    "        y='daily_misdemeanor_counts',\n",
    "        color=\"red\",\n",
    "        ax=ax)\n",
    "\n",
    "# plt.xticks(range(1995, 2016, 1))\n",
    "# plt.yticks(range(0,6,1))\n",
    "plt.xlabel(\"Dates\")\n",
    "plt.ylabel(\"Crime Counts\")\n",
    "plt.xticks(rotation=45)\n",
    "\n",
    "# fig.savefig('average-rating.png', dpi=300)\n",
    "plt.show()"
   ]
  },
  {
   "cell_type": "markdown",
   "id": "220108d5-3776-433b-82f7-80e2f8e72226",
   "metadata": {},
   "source": [
    "### `evictions`"
   ]
  },
  {
   "cell_type": "code",
   "execution_count": null,
   "id": "617a7997-8361-42d9-917e-62c6712d935c",
   "metadata": {},
   "outputs": [],
   "source": [
    "evi_tsv_tbl_name = 'evictions'"
   ]
  },
  {
   "cell_type": "markdown",
   "id": "e5baa0d1-509d-4a30-836f-07db26bc72b9",
   "metadata": {},
   "source": [
    "#### Explore via SQL SELECT statements"
   ]
  },
  {
   "cell_type": "code",
   "execution_count": null,
   "id": "7b6a94ed-4dae-45e4-91ba-3dbbfb5969ab",
   "metadata": {
    "tags": []
   },
   "outputs": [],
   "source": [
    "# Run query to review a sample of records\n",
    "evi_bourough01 = \"bronx\"\n",
    "\n",
    "evi_select_borough_stmnt01 = f\"\"\"\n",
    "    SELECT * FROM {database_name}.{evi_tsv_tbl_name}\n",
    "    WHERE lower(borough) = '{evi_bourough01}'\n",
    "    LIMIT 11\n",
    "    \"\"\"\n",
    "\n",
    "# Display SQL statement\n",
    "print(evi_select_borough_stmnt01)\n",
    "\n",
    "# Run SQL statement against Athena table\n",
    "evi_df01_s01 = pd.read_sql(evi_select_borough_stmnt01,\n",
    "                           conn)\n",
    "# Display results\n",
    "evi_df01_s01.head(11)"
   ]
  },
  {
   "cell_type": "markdown",
   "id": "da5aac02-af25-4fb7-9bb7-7c40588abc59",
   "metadata": {},
   "source": [
    "#### Perform aggregated summaries"
   ]
  },
  {
   "cell_type": "code",
   "execution_count": null,
   "id": "8daf284a-e046-4b07-9778-fc140886bccc",
   "metadata": {
    "tags": []
   },
   "outputs": [],
   "source": [
    "# Run query to review a sample of records\n",
    "evi_select_eviction_postcode_stmnt01 = f\"\"\"\n",
    "    SELECT DISTINCT\n",
    "        eviction_postcode,\n",
    "        count(*)\n",
    "    FROM {database_name}.{evi_tsv_tbl_name}\n",
    "    GROUP BY eviction_postcode\n",
    "    LIMIT 1000\n",
    "    \"\"\"\n",
    "\n",
    "# Display SQL statement\n",
    "print(evi_select_eviction_postcode_stmnt01)\n",
    "\n",
    "# Run SQL statement against Athena table\n",
    "evi_df01_s02 = pd.read_sql(evi_select_eviction_postcode_stmnt01,\n",
    "                           conn)\n",
    "# Display results\n",
    "evi_df01_s02.head(11)"
   ]
  },
  {
   "cell_type": "code",
   "execution_count": null,
   "id": "c9191a28-acba-46fd-a906-d071bb969ce7",
   "metadata": {
    "tags": []
   },
   "outputs": [],
   "source": [
    "evi_summ_borough_stmnt01 = f\"\"\"\n",
    "    SELECT\n",
    "        borough,\n",
    "        COUNT(*) AS evictions_count\n",
    "    FROM {database_name}.{evi_tsv_tbl_name}\n",
    "    GROUP BY borough\n",
    "    LIMIT 100\n",
    "    \"\"\"\n",
    "\n",
    "# Display SQL statement\n",
    "print(evi_summ_borough_stmnt01)\n",
    "\n",
    "# Run SQL statement against Athena table\n",
    "evi_df01_s03 = pd.read_sql(evi_summ_borough_stmnt01,\n",
    "                           conn)\n",
    "# Display results\n",
    "evi_df01_s03.head(11)"
   ]
  },
  {
   "cell_type": "code",
   "execution_count": null,
   "id": "427af084-f624-4ef4-a591-438cab8c85b8",
   "metadata": {},
   "outputs": [],
   "source": [
    "evi_summ_borough_stmnt01 = f\"\"\"\n",
    "    SELECT\n",
    "        borough,\n",
    "        census_tract,\n",
    "        COUNT(*) AS ctract_count\n",
    "    FROM {database_name}.{evi_tsv_tbl_name}\n",
    "    GROUP BY borough, census_tract\n",
    "    LIMIT 100\n",
    "    \"\"\"\n",
    "\n",
    "# Display SQL statement\n",
    "print(evi_summ_borough_stmnt01)\n",
    "\n",
    "# Run SQL statement against Athena table\n",
    "evi_df01_s04 = pd.read_sql(evi_summ_borough_stmnt01,\n",
    "                           conn)\n",
    "# Display results\n",
    "evi_df01_s04.head(11)"
   ]
  },
  {
   "cell_type": "code",
   "execution_count": null,
   "id": "e741b4ef-4491-4c5a-b2f4-004c83c6d252",
   "metadata": {},
   "outputs": [],
   "source": [
    "evi_date_stmnt01 = f\"\"\"\n",
    "    SELECT\n",
    "        executed_date,\n",
    "        date_parse(executed_date, '%m/%d/%Y') AS executed_date,\n",
    "        count(*) AS daily_eviction_counts\n",
    "    FROM {database_name}.{cri_pqt_tbl_name}\n",
    "    WHERE executed_date <> ''\n",
    "    GROUP BY executed_date\n",
    "    ORDER BY executed_date\n",
    "    LIMIT 10000\n",
    "    \"\"\"\n",
    "\n",
    "# Display SQL statement\n",
    "print(evi_date_stmnt01)\n",
    "\n",
    "# Run SQL statement against Athena table\n",
    "evi_df01_s06 = pd.read_sql(evi_date_stmnt01,\n",
    "                           conn)\n",
    "# Display results\n",
    "print(evi_df01_s06.shape)\n",
    "display(evi_df01_s06.head(11))"
   ]
  },
  {
   "cell_type": "markdown",
   "id": "e7b718d0-2a84-4723-94c9-8302d9540117",
   "metadata": {},
   "source": [
    "#### Load potential predictors and target for further exploration using pandas"
   ]
  },
  {
   "cell_type": "code",
   "execution_count": null,
   "id": "0634b23e-09fb-4171-9283-beddb53e4bf1",
   "metadata": {},
   "outputs": [],
   "source": [
    "evi_box_stmnt01 = f\"\"\"\n",
    "    SELECT\n",
    "        court_index_number,\n",
    "        docket_number,\n",
    "        eviction_address,\n",
    "        eviction_apartment_number,\n",
    "        executed_date,\n",
    "        marshal_first_name,\n",
    "        marshal_last_name,\n",
    "        residential_or_commercial,\n",
    "        borough,\n",
    "        eviction_postcode,\n",
    "        ejectment,\n",
    "        eviction_or_legal_possession,\n",
    "        latitude,\n",
    "        longitude,\n",
    "        census_tract\n",
    "    FROM {database_name}.{evi_tsv_tbl_name}\n",
    "    LIMIT 5000\n",
    "    \"\"\"\n",
    "\n",
    "# Display SQL statement\n",
    "print(evi_box_stmnt01)\n",
    "\n",
    "# Run SQL statement against Athena table\n",
    "evi_df01_s05 = pd.read_sql(evi_box_stmnt01,\n",
    "                           conn)\n",
    "# Display results\n",
    "evi_df01_s05.head(11)"
   ]
  },
  {
   "cell_type": "markdown",
   "id": "bff502c1-90af-4858-90d5-ae893ed2d600",
   "metadata": {},
   "source": [
    "#### Create subsets of columns for various purposes"
   ]
  },
  {
   "cell_type": "code",
   "execution_count": null,
   "id": "461508fe-268e-4f39-bd19-9f975c36652b",
   "metadata": {
    "tags": []
   },
   "outputs": [],
   "source": [
    "evi_df01_s05_num_lst01 = []\n",
    "\n",
    "evi_df01_s05_num_lst02 = []\n",
    "\n",
    "evi_df02_s01 = evi_df01_s05[evi_df01_s05_num_lst01]\n",
    "evi_df03_s01 = evi_df01_s05[evi_df01_s05_num_lst02]\n",
    "\n",
    "display(evi_df02_s01.head(5))"
   ]
  },
  {
   "cell_type": "markdown",
   "id": "aedaf299-b3ad-40d0-a305-354d84f23661",
   "metadata": {},
   "source": [
    "#### Examine features with missing values"
   ]
  },
  {
   "cell_type": "code",
   "execution_count": null,
   "id": "3e955382-6f9d-4c75-bb48-b5db65e99842",
   "metadata": {
    "tags": []
   },
   "outputs": [],
   "source": [
    "# Visualize missing values in each column\n",
    "msno.matrix(evi_df01_s05)"
   ]
  },
  {
   "cell_type": "code",
   "execution_count": null,
   "id": "b47eb1f7-f950-492e-8e02-4bdf1f7dd0f6",
   "metadata": {
    "tags": []
   },
   "outputs": [],
   "source": [
    "# Remove any features for which the number of null vals exceed a threshold--\n",
    "#-- (15% of total N)\n",
    "evi_df01_s05_null_summ01 = pd.DataFrame(evi_df01_s05.isnull().sum(),\n",
    "                                        columns=['null_count'])\n",
    "\n",
    "evi_df01_s05_null_summ02 = evi_df01_s05_null_summ01.loc[(evi_df01_s05_null_summ01['null_count'] != 0)].sort_values('null_count',\n",
    "                                                                                                                   ascending=False)\n",
    "evi_df01_s05_null_summ03 = evi_df01_s05_null_summ02.reset_index()\n",
    "print(evi_df01_s05_null_summ03)\n",
    "\n",
    "evi_df01_s05_null_summ04 = evi_df01_s05_null_summ03.loc[evi_df01_s05_null_summ03['null_count'] > (len(evi_df01_s05)*.05)]\n",
    "print('\\n', evi_df01_s05_null_summ04)\n",
    "\n",
    "evi_df01_s05_null_summ04_remove_lst01 = list(evi_df01_s05_null_summ04['index'])\n",
    "print('\\n', evi_df01_s05_null_summ04_remove_lst01)\n",
    "\n",
    "#train_x03_tx_df01 = evi_df01_s05.drop(evi_df01_s05_null_summ04_remove_lst01, axis=1)\n",
    "#test_x03_tx_df01 = test_x02_tx_df01_eda1.drop(evi_df01_s05_null_summ04_remove_lst01, axis=1)\n",
    "\n",
    "#print(f'\\n{train_x03_tx_df01.shape}')\n",
    "#print(f'\\n{test_x03_tx_df01.shape}')"
   ]
  },
  {
   "cell_type": "markdown",
   "id": "7c6ee8ae-97e3-42ac-8063-42d17c24d922",
   "metadata": {},
   "source": [
    "#### Display time plots for select features"
   ]
  },
  {
   "cell_type": "code",
   "execution_count": null,
   "id": "24df3bd3-da61-41cf-be70-d52d0d97ebac",
   "metadata": {
    "tags": []
   },
   "outputs": [],
   "source": [
    "%matplotlib inline\n",
    "fig = plt.gcf()\n",
    "fig.set_size_inches(12, 5)\n",
    "\n",
    "fig.suptitle(\"Eviction Counts Over Time\")\n",
    "\n",
    "ax = plt.gca()\n",
    "# ax = plt.gca().set_xticks(df['year'])\n",
    "ax.locator_params(integer=True)\n",
    "ax.set_xticks(evi_df01_s06[\"executed_date\"].unique())\n",
    "\n",
    "evi_df01_s06.plot(kind=\"line\",\n",
    "        x=\"executed_date\",\n",
    "        y='daily_eviction_counts',\n",
    "        color=\"red\",\n",
    "        ax=ax)\n",
    "\n",
    "# plt.xticks(range(1995, 2016, 1))\n",
    "# plt.yticks(range(0,6,1))\n",
    "plt.xlabel(\"Dates\")\n",
    "plt.ylabel(\"Eviction Counts\")\n",
    "plt.xticks(rotation=45)\n",
    "\n",
    "# fig.savefig('average-rating.png', dpi=300)\n",
    "plt.show()"
   ]
  },
  {
   "cell_type": "markdown",
   "id": "5b85b07e-7b5f-433b-88de-fc9a124e73e8",
   "metadata": {},
   "source": [
    "### `grad_outcomes`"
   ]
  },
  {
   "cell_type": "code",
   "execution_count": null,
   "id": "64bd2954-c431-474f-b982-fc8fe90ffc77",
   "metadata": {},
   "outputs": [],
   "source": [
    "grd_tsv_tbl_name = 'grad_outcomes'"
   ]
  },
  {
   "cell_type": "markdown",
   "id": "84f8ccff-a052-4e52-8e6f-2c573c61beb0",
   "metadata": {},
   "source": [
    "#### Explore via SQL SELECT statements"
   ]
  },
  {
   "cell_type": "code",
   "execution_count": null,
   "id": "1274e14d-e5a8-485d-afa4-b89948acc8ef",
   "metadata": {
    "tags": []
   },
   "outputs": [],
   "source": [
    "# Run query to review a sample of records\n",
    "grd_total_grads_n01 = \"s\"\n",
    "\n",
    "grd_select_borough_stmnt01 = f\"\"\"\n",
    "    SELECT * FROM {database_name}.{grd_tsv_tbl_name}\n",
    "    WHERE total_grads_n <> '{grd_total_grads_n01}'\n",
    "    LIMIT 1000\n",
    "    \"\"\"\n",
    "\n",
    "# Display SQL statement\n",
    "print(grd_select_borough_stmnt01)\n",
    "\n",
    "# Run SQL statement against Athena table\n",
    "grd_df01_s01 = pd.read_sql(grd_select_borough_stmnt01,\n",
    "                           conn)\n",
    "# Display results\n",
    "grd_df01_s01.head(11)"
   ]
  },
  {
   "cell_type": "markdown",
   "id": "48a471c0-5dc2-4372-bac3-9b998006b9a1",
   "metadata": {},
   "source": [
    "#### Perform aggregated summaries"
   ]
  },
  {
   "cell_type": "code",
   "execution_count": null,
   "id": "ef1b7a4b-a964-4cde-b49b-5cbfb776d978",
   "metadata": {
    "tags": []
   },
   "outputs": [],
   "source": [
    "# Run query to review a sample of records\n",
    "grd_select_hispanic_stmnt01 = f\"\"\"\n",
    "    SELECT DISTINCT\n",
    "        demographic,\n",
    "        count(*)\n",
    "    FROM {database_name}.{grd_tsv_tbl_name}\n",
    "    GROUP BY demographic\n",
    "    LIMIT 100\n",
    "    \"\"\"\n",
    "\n",
    "# Display SQL statement\n",
    "print(grd_select_hispanic_stmnt01)\n",
    "\n",
    "# Run SQL statement against Athena table\n",
    "grd_df01_s02 = pd.read_sql(grd_select_hispanic_stmnt01,\n",
    "                           conn)\n",
    "# Display results\n",
    "grd_df01_s02.head(11)"
   ]
  },
  {
   "cell_type": "markdown",
   "id": "de4911a0-3f8f-4071-b5e3-a1879219d1e0",
   "metadata": {},
   "source": [
    "#### Load potential predictors and target for further exploration using pandas"
   ]
  },
  {
   "cell_type": "code",
   "execution_count": null,
   "id": "059363b3-22f6-4c95-b266-b078d2ec5d57",
   "metadata": {},
   "outputs": [],
   "source": [
    "grd_box_stmnt01 = f\"\"\"\n",
    "    SELECT\n",
    "        demographic,\n",
    "        dbn,\n",
    "        CAST(cohort AS DOUBLE) AS cohort,\n",
    "        CAST(total_cohort AS DOUBLE) AS total_cohort,\n",
    "        CAST(total_grads_n AS DOUBLE) AS total_grads_n,\n",
    "        CAST(total_regents_n AS DOUBLE) AS total_regents_n,\n",
    "        CAST(advanced_regents_n AS DOUBLE) AS advanced_regents_n,\n",
    "        CAST(regents_wo_advanced_n AS DOUBLE) AS regents_wo_advanced_n,\n",
    "        CAST(local_n AS DOUBLE) AS local_n,\n",
    "        CAST(still_enrolled_n AS DOUBLE) AS still_enrolled_n,\n",
    "        CAST(dropped_out_n AS DOUBLE) AS dropped_out_n,\n",
    "    FROM {database_name}.{grd_tsv_tbl_name}\n",
    "    WHERE total_grads_n <> '{grd_total_grads_n01}'\n",
    "    LIMIT 50000\n",
    "    \"\"\"\n",
    "\n",
    "# Display SQL statement\n",
    "print(grd_box_stmnt01)\n",
    "\n",
    "# Run SQL statement against Athena table\n",
    "grd_df01_s05 = pd.read_sql(grd_box_stmnt01,\n",
    "                           conn)\n",
    "# Display results\n",
    "grd_df01_s05.head(11)"
   ]
  },
  {
   "cell_type": "markdown",
   "id": "3aced421-d4b4-4625-b3eb-bc892613f4bc",
   "metadata": {},
   "source": [
    "#### Display boxplots for select features"
   ]
  },
  {
   "cell_type": "code",
   "execution_count": null,
   "id": "2a6dc73c-0665-4c98-9989-12c8a94cd567",
   "metadata": {
    "tags": []
   },
   "outputs": [],
   "source": [
    "%matplotlib inline\n",
    "sns.boxplot(x='cohort', y='total_cohort', data=grd_df01_s05).set(title='Total Cohorts by Cohort Year')"
   ]
  },
  {
   "cell_type": "code",
   "execution_count": null,
   "id": "9667b69c-63fa-4a1b-bf70-434b344e235f",
   "metadata": {
    "tags": []
   },
   "outputs": [],
   "source": [
    "%matplotlib inline\n",
    "sns.boxplot(x='cohort', y='total_grads_n', data=grd_df01_s05).set(title='Total Grads by Cohort Year')"
   ]
  },
  {
   "cell_type": "code",
   "execution_count": null,
   "id": "5a839ef7-86b3-4210-9774-5ae30db23a58",
   "metadata": {},
   "outputs": [],
   "source": [
    "%matplotlib inline\n",
    "sns.boxplot(x='cohort', y='dropped_out_n', data=grd_df01_s05).set(title='Total Dropped Out by Cohort Year')"
   ]
  },
  {
   "cell_type": "markdown",
   "id": "9759151d-32d9-49b9-83dd-bb94ac472af6",
   "metadata": {},
   "source": [
    "#### Create subsets of columns for various purposes"
   ]
  },
  {
   "cell_type": "code",
   "execution_count": null,
   "id": "893cbb0c-6ccf-42e4-af50-abdc545a9a08",
   "metadata": {
    "tags": []
   },
   "outputs": [],
   "source": [
    "grd_df01_s05_num_lst01 = ['cohort',\n",
    "                          'total_cohort',\n",
    "                          'total_grads_n',\n",
    "                          'total_regents_n',\n",
    "                          'advanced_regents_n',\n",
    "                          'regents_wo_advanced_n',\n",
    "                          'local_n',\n",
    "                          'still_enrolled_n',\n",
    "                          'dropped_out_n'\n",
    "                         ]\n",
    "\n",
    "grd_df01_s05_num_lst02 = ['cohort',\n",
    "                          'total_cohort',\n",
    "                          'total_grads_n',\n",
    "                          'total_regents_n',\n",
    "                          'advanced_regents_n',\n",
    "                          'regents_wo_advanced_n',\n",
    "                          'local_n',\n",
    "                          'still_enrolled_n',\n",
    "                          'dropped_out_n'\n",
    "                         ]\n",
    "\n",
    "grd_df02_s01 = grd_df01_s05[grd_df01_s05_num_lst01]\n",
    "grd_df03_s01 = grd_df01_s05[grd_df01_s05_num_lst02]\n",
    "\n",
    "display(grd_df02_s01.head(5))"
   ]
  },
  {
   "cell_type": "markdown",
   "id": "a81669fd-d3b4-480e-9ccf-f0d844e41da5",
   "metadata": {},
   "source": [
    "#### Scatterplots of numerical features"
   ]
  },
  {
   "cell_type": "code",
   "execution_count": null,
   "id": "b4092308-e425-4fbd-8083-2196144863ce",
   "metadata": {},
   "outputs": [],
   "source": [
    "# Pair scatter plots for selected features\n",
    "#sns.pairplot(grd_df02_s01.iloc[:, 0:2])\n",
    "sns.pairplot(grd_df03_s01)"
   ]
  },
  {
   "cell_type": "markdown",
   "id": "a5db8529-457a-41f9-941e-b7426a0226aa",
   "metadata": {},
   "source": [
    "#### Examine features with missing values"
   ]
  },
  {
   "cell_type": "code",
   "execution_count": null,
   "id": "76452b34-33c7-44ec-ae20-ef04329e0761",
   "metadata": {
    "tags": []
   },
   "outputs": [],
   "source": [
    "# Visualize missing values in each column\n",
    "msno.matrix(grd_df01_s05)"
   ]
  },
  {
   "cell_type": "code",
   "execution_count": null,
   "id": "afb457c8-becf-4bb3-887e-2ad8bb039863",
   "metadata": {
    "tags": []
   },
   "outputs": [],
   "source": [
    "# Remove any features for which the number of null vals exceed a threshold--\n",
    "#-- (15% of total N)\n",
    "grd_df01_s05_null_summ01 = pd.DataFrame(grd_df01_s05.isnull().sum(),\n",
    "                                        columns=['null_count'])\n",
    "\n",
    "grd_df01_s05_null_summ02 = grd_df01_s05_null_summ01.loc[(grd_df01_s05_null_summ01['null_count'] != 0)].sort_values('null_count',\n",
    "                                                                                                                   ascending=False)\n",
    "grd_df01_s05_null_summ03 = grd_df01_s05_null_summ02.reset_index()\n",
    "print(grd_df01_s05_null_summ03)\n",
    "\n",
    "grd_df01_s05_null_summ04 = grd_df01_s05_null_summ03.loc[grd_df01_s05_null_summ03['null_count'] > (len(grd_df01_s05)*.05)]\n",
    "print('\\n', grd_df01_s05_null_summ04)\n",
    "\n",
    "grd_df01_s05_null_summ04_remove_lst01 = list(grd_df01_s05_null_summ04['index'])\n",
    "print('\\n', grd_df01_s05_null_summ04_remove_lst01)\n",
    "\n",
    "#train_x03_tx_df01 = grd_df01_s05.drop(grd_df01_s05_null_summ04_remove_lst01, axis=1)\n",
    "#test_x03_tx_df01 = test_x02_tx_df01_eda1.drop(grd_df01_s05_null_summ04_remove_lst01, axis=1)\n",
    "\n",
    "#print(f'\\n{train_x03_tx_df01.shape}')\n",
    "#print(f'\\n{test_x03_tx_df01.shape}')"
   ]
  },
  {
   "cell_type": "markdown",
   "id": "9cfb86bf-0291-4585-8518-5a1273bc5a0b",
   "metadata": {},
   "source": [
    "#### Examine features with near zero variances"
   ]
  },
  {
   "cell_type": "code",
   "execution_count": null,
   "id": "c300ea4d-b3fd-4c17-a305-baca9841a9e6",
   "metadata": {
    "tags": []
   },
   "outputs": [],
   "source": [
    "# Review near-zero variance (NZV) features for possible removal\n",
    "grd_df02_s01_nzv_fit = VarianceThreshold().fit(grd_df02_s01)\n",
    "grd_df02_s01_nzv_vc01 = grd_df02_s01_nzv_fit.transform(grd_df02_s01)\n",
    "#print(grd_df02_s01_nzv_vc01)\n",
    "#print(grd_df02_s01_nzv_vc01.shape)\n",
    "\n",
    "# Get the names of the selected features\n",
    "grd_df02_s01_nzv_fit_select_features = grd_df02_s01.columns[grd_df02_s01_nzv_fit.get_support()]\n",
    "\n",
    "grd_df02_s01_nzv_df01 = pd.DataFrame(grd_df02_s01_nzv_vc01,\n",
    "                                     columns=grd_df02_s01_nzv_fit_select_features)\n",
    "\n",
    "display(grd_df02_s01_nzv_df01.head(5))\n",
    "print(f'NZV transformed matrix dimensions = {grd_df02_s01_nzv_df01.shape}')\n",
    "\n",
    "print(f'\\n{grd_df02_s01.shape[1] - grd_df02_s01_nzv_df01.shape[1]} near zero variance features were eliminated')"
   ]
  },
  {
   "cell_type": "markdown",
   "id": "a1618824-2b1e-4c05-b89f-c0497f5e8289",
   "metadata": {},
   "source": [
    "### `jobs`"
   ]
  },
  {
   "cell_type": "code",
   "execution_count": null,
   "id": "ba2f1b5b-c38d-4cda-8924-b83408eee3cc",
   "metadata": {},
   "outputs": [],
   "source": [
    "job_tsv_tbl_name = 'jobs'"
   ]
  },
  {
   "cell_type": "markdown",
   "id": "4f975ee6-33b9-45c6-8c54-397a01d21711",
   "metadata": {},
   "source": [
    "#### Explore via SQL SELECT statements"
   ]
  },
  {
   "cell_type": "code",
   "execution_count": null,
   "id": "feb7683d-e03d-42b9-a5a4-ff89200145db",
   "metadata": {
    "tags": []
   },
   "outputs": [],
   "source": [
    "# Run query to review a sample of records\n",
    "job_agency01 = \"housing\"\n",
    "\n",
    "job_select_borough_stmnt01 = f\"\"\"\n",
    "    SELECT * FROM {database_name}.{job_tsv_tbl_name}\n",
    "    WHERE lower(agency) LIKE '%{job_bourough01}%'\n",
    "    LIMIT 100\n",
    "    \"\"\"\n",
    "\n",
    "# Display SQL statement\n",
    "print(job_select_borough_stmnt01)\n",
    "\n",
    "# Run SQL statement against Athena table\n",
    "job_df01_s01 = pd.read_sql(job_select_borough_stmnt01,\n",
    "                           conn)\n",
    "# Display results\n",
    "job_df01_s01.head(11)"
   ]
  },
  {
   "cell_type": "markdown",
   "id": "1fec26cc-1280-4807-9078-0d06a96c3927",
   "metadata": {},
   "source": [
    "#### Perform aggregated summaries"
   ]
  },
  {
   "cell_type": "code",
   "execution_count": 2,
   "id": "9df77682-8b9b-4620-b120-7a837d5f3b93",
   "metadata": {
    "tags": []
   },
   "outputs": [
    {
     "ename": "SyntaxError",
     "evalue": "invalid syntax (<ipython-input-2-abcaf7b1e819>, line 19)",
     "output_type": "error",
     "traceback": [
      "\u001b[0;36m  File \u001b[0;32m\"<ipython-input-2-abcaf7b1e819>\"\u001b[0;36m, line \u001b[0;32m19\u001b[0m\n\u001b[0;31m    print(job_df01_s02,.shape)\u001b[0m\n\u001b[0m                       ^\u001b[0m\n\u001b[0;31mSyntaxError\u001b[0m\u001b[0;31m:\u001b[0m invalid syntax\n"
     ]
    }
   ],
   "source": [
    "# Run query to review a sample of records\n",
    "job_select_job_category_stmnt01 = f\"\"\"\n",
    "    SELECT DISTINCT\n",
    "        job_category,\n",
    "        count(*)\n",
    "    FROM {database_name}.{job_tsv_tbl_name}\n",
    "    WHERE job_category IS NULL\n",
    "    GROUP BY job_category\n",
    "    LIMIT 100\n",
    "    \"\"\"\n",
    "\n",
    "# Display SQL statement\n",
    "print(job_select_job_category_stmnt01)\n",
    "\n",
    "# Run SQL statement against Athena table\n",
    "job_df01_s02 = pd.read_sql(job_select_job_category_stmnt01,\n",
    "                           conn)\n",
    "# Display results\n",
    "print(job_df01_s02.shape)\n",
    "display(job_df01_s02.head(11))"
   ]
  },
  {
   "cell_type": "code",
   "execution_count": null,
   "id": "9b2d9d79-5c7e-4f15-8ab6-5793a5928fe3",
   "metadata": {
    "tags": []
   },
   "outputs": [],
   "source": [
    "job_summ_borough_stmnt01 = f\"\"\"\n",
    "    SELECT\n",
    "        job_id,\n",
    "        COUNT(*) AS jobs_count\n",
    "    FROM {database_name}.{job_tsv_tbl_name}\n",
    "    GROUP BY job_id\n",
    "    LIMIT 100\n",
    "    \"\"\"\n",
    "\n",
    "# Display SQL statement\n",
    "print(job_summ_borough_stmnt01)\n",
    "\n",
    "# Run SQL statement against Athena table\n",
    "job_df01_s03 = pd.read_sql(job_summ_borough_stmnt01,\n",
    "                           conn)\n",
    "# Display results\n",
    "job_df01_s03.head(11)"
   ]
  },
  {
   "cell_type": "markdown",
   "id": "9060c527-4e36-4522-bc2a-1352d487dd9a",
   "metadata": {},
   "source": [
    "#### Load potential predictors and target for further exploration using pandas"
   ]
  },
  {
   "cell_type": "code",
   "execution_count": null,
   "id": "2b88a13f-0cf6-479d-bac4-5194ca379d23",
   "metadata": {},
   "outputs": [],
   "source": [
    "job_box_stmnt01 = f\"\"\"\n",
    "    SELECT\n",
    "        agency,\n",
    "        posting_type,\n",
    "        num_of_positions,\n",
    "        business_title,\n",
    "        civil_service_title,\n",
    "        title_classification,\n",
    "        title_code_no,\n",
    "        level,\n",
    "        job_category,\n",
    "        fulltime_or_parttime_indicator,\n",
    "        career_level,\n",
    "        CAST(salary_range_from AS INT) AS salary_range_from,\n",
    "        CAST(salary_range_to AS INT) AS salary_range_to,\n",
    "        salary_frequency,\n",
    "        work_location,\n",
    "        division_or_work_unit,\n",
    "        job_description,\n",
    "        minimum_qual_requirements,\n",
    "        preferred_skills,\n",
    "        additional_information,\n",
    "        to_apply,\n",
    "        hours_or_shift,\n",
    "        work_location_1,\n",
    "        recruitment_contact,\n",
    "        residency_requirement,\n",
    "        posting_date,\n",
    "        post_until,\n",
    "        posting_updated,\n",
    "        process_date\n",
    "    FROM {database_name}.{job_tsv_tbl_name}\n",
    "    LIMIT 5000\n",
    "    \"\"\"\n",
    "\n",
    "# Display SQL statement\n",
    "print(job_box_stmnt01)\n",
    "\n",
    "# Run SQL statement against Athena table\n",
    "job_df01_s05 = pd.read_sql(job_box_stmnt01,\n",
    "                           conn)\n",
    "# Display results\n",
    "job_df01_s05.head(11)"
   ]
  },
  {
   "cell_type": "markdown",
   "id": "78cef39e-b9dd-4949-93cf-a0360734e947",
   "metadata": {},
   "source": [
    "#### Display boxplots for select features"
   ]
  },
  {
   "cell_type": "code",
   "execution_count": null,
   "id": "af923e86-a761-4005-962c-cc0c13db58db",
   "metadata": {
    "tags": []
   },
   "outputs": [],
   "source": [
    "%matplotlib inline\n",
    "sns.boxplot(x='job_category', y='salary_range_from', data=job_df01_s05).set(title='Range Floor by Job Category')"
   ]
  },
  {
   "cell_type": "code",
   "execution_count": null,
   "id": "3054cfc1-26d7-4fa3-85cb-6975f5562c5c",
   "metadata": {
    "tags": []
   },
   "outputs": [],
   "source": [
    "%matplotlib inline\n",
    "sns.boxplot(x='job_category', y='salary_range_to', data=job_df01_s05).set(title='Range Ceiling by Job Category')"
   ]
  },
  {
   "cell_type": "markdown",
   "id": "a1516ef4-6faa-4c26-b3fc-fd781de6929e",
   "metadata": {},
   "source": [
    "#### Create subsets of columns for various purposes"
   ]
  },
  {
   "cell_type": "code",
   "execution_count": null,
   "id": "3e4f1232-a321-4d83-8031-cf574474de37",
   "metadata": {
    "tags": []
   },
   "outputs": [],
   "source": [
    "job_df01_s05_num_lst01 = ['salary_range_from',\n",
    "                          'salary_range_to'\n",
    "                         ]\n",
    "\n",
    "job_df01_s05_num_lst02 = ['salary_range_from',\n",
    "                          'salary_range_to'\n",
    "                         ]\n",
    "\n",
    "job_df02_s01 = job_df01_s05[job_df01_s05_num_lst01]\n",
    "job_df03_s01 = job_df01_s05[job_df01_s05_num_lst02]\n",
    "\n",
    "display(job_df02_s01.head(5))"
   ]
  },
  {
   "cell_type": "markdown",
   "id": "53f93617-3877-4570-a30a-17a5b1cdbf8c",
   "metadata": {},
   "source": [
    "#### Scatterplots of numerical features"
   ]
  },
  {
   "cell_type": "code",
   "execution_count": null,
   "id": "44b6561b-c50f-49aa-a22a-d15d65cd7633",
   "metadata": {},
   "outputs": [],
   "source": [
    "# Pair scatter plots for selected features\n",
    "#sns.pairplot(job_df02_s01.iloc[:, 0:2])\n",
    "sns.pairplot(job_df03_s01)"
   ]
  },
  {
   "cell_type": "markdown",
   "id": "671beb79-6df9-483f-9b3b-392c597d973a",
   "metadata": {},
   "source": [
    "#### Examine features with missing values"
   ]
  },
  {
   "cell_type": "code",
   "execution_count": null,
   "id": "fecda35f-503d-43ee-842c-f19ad683371f",
   "metadata": {
    "tags": []
   },
   "outputs": [],
   "source": [
    "# Visualize missing values in each column\n",
    "msno.matrix(job_df01_s05)"
   ]
  },
  {
   "cell_type": "code",
   "execution_count": null,
   "id": "b681a7e8-43a3-4f2c-98fa-6a5d4c750260",
   "metadata": {
    "tags": []
   },
   "outputs": [],
   "source": [
    "# Remove any features for which the number of null vals exceed a threshold--\n",
    "#-- (15% of total N)\n",
    "job_df01_s05_null_summ01 = pd.DataFrame(job_df01_s05.isnull().sum(),\n",
    "                                        columns=['null_count'])\n",
    "\n",
    "job_df01_s05_null_summ02 = job_df01_s05_null_summ01.loc[(job_df01_s05_null_summ01['null_count'] != 0)].sort_values('null_count',\n",
    "                                                                                                                   ascending=False)\n",
    "job_df01_s05_null_summ03 = job_df01_s05_null_summ02.reset_index()\n",
    "print(job_df01_s05_null_summ03)\n",
    "\n",
    "job_df01_s05_null_summ04 = job_df01_s05_null_summ03.loc[job_df01_s05_null_summ03['null_count'] > (len(job_df01_s05)*.05)]\n",
    "print('\\n', job_df01_s05_null_summ04)\n",
    "\n",
    "job_df01_s05_null_summ04_remove_lst01 = list(job_df01_s05_null_summ04['index'])\n",
    "print('\\n', job_df01_s05_null_summ04_remove_lst01)\n",
    "\n",
    "#train_x03_tx_df01 = job_df01_s05.drop(job_df01_s05_null_summ04_remove_lst01, axis=1)\n",
    "#test_x03_tx_df01 = test_x02_tx_df01_eda1.drop(job_df01_s05_null_summ04_remove_lst01, axis=1)\n",
    "\n",
    "#print(f'\\n{train_x03_tx_df01.shape}')\n",
    "#print(f'\\n{test_x03_tx_df01.shape}')"
   ]
  },
  {
   "cell_type": "markdown",
   "id": "72209271-00f8-4765-8cc1-6be7074d31d1",
   "metadata": {},
   "source": [
    "#### Examine featues with near zero variances"
   ]
  },
  {
   "cell_type": "code",
   "execution_count": null,
   "id": "1b077beb-54e0-4f33-a649-f22378fbdb19",
   "metadata": {
    "tags": []
   },
   "outputs": [],
   "source": [
    "# Review near-zero variance (NZV) features for possible removal\n",
    "job_df02_s01_nzv_fit = VarianceThreshold().fit(job_df02_s01)\n",
    "job_df02_s01_nzv_vc01 = job_df02_s01_nzv_fit.transform(job_df02_s01)\n",
    "#print(job_df02_s01_nzv_vc01)\n",
    "#print(job_df02_s01_nzv_vc01.shape)\n",
    "\n",
    "# Get the names of the selected features\n",
    "job_df02_s01_nzv_fit_select_features = job_df02_s01.columns[job_df02_s01_nzv_fit.get_support()]\n",
    "\n",
    "job_df02_s01_nzv_df01 = pd.DataFrame(job_df02_s01_nzv_vc01,\n",
    "                                     columns=job_df02_s01_nzv_fit_select_features)\n",
    "\n",
    "display(job_df02_s01_nzv_df01.head(5))\n",
    "print(f'NZV transformed matrix dimensions = {job_df02_s01_nzv_df01.shape}')\n",
    "\n",
    "print(f'\\n{job_df02_s01.shape[1] - job_df02_s01_nzv_df01.shape[1]} near zero variance features were eliminated')"
   ]
  },
  {
   "cell_type": "code",
   "execution_count": null,
   "id": "31a190f7-58c7-4ad3-bd7b-d2dc114d5cc3",
   "metadata": {},
   "outputs": [],
   "source": []
  },
  {
   "cell_type": "markdown",
   "id": "04a3945d-2444-4e05-9bb0-a0b425e3819e",
   "metadata": {},
   "source": [
    "## Release Resources"
   ]
  },
  {
   "cell_type": "markdown",
   "id": "c2708776-cfd0-4819-9eb4-2f9d93062095",
   "metadata": {},
   "source": [
    "%%html\n",
    "\n",
    "<p><b>Shutting down your kernel for this notebook to release resources.</b></p>\n",
    "<button class=\"sm-command-button\" data-commandlinker-command=\"kernelmenu:shutdown\" style=\"display:none;\">Shutdown Kernel</button>\n",
    "        \n",
    "<script>\n",
    "try {\n",
    "    els = document.getElementsByClassName(\"sm-command-button\");\n",
    "    els[0].click();\n",
    "}\n",
    "catch(err) {\n",
    "    // NoOp\n",
    "}    \n",
    "</script>"
   ]
  },
  {
   "cell_type": "markdown",
   "id": "b6e0f4a6-8ab3-4d58-860b-8e5f8bb2f92f",
   "metadata": {
    "tags": []
   },
   "source": [
    "%%javascript\n",
    "\n",
    "try {\n",
    "    Jupyter.notebook.save_checkpoint();\n",
    "    Jupyter.notebook.session.delete();\n",
    "}\n",
    "catch(err) {\n",
    "    // NoOp\n",
    "}"
   ]
  }
 ],
 "metadata": {
  "availableInstances": [
   {
    "_defaultOrder": 0,
    "_isFastLaunch": true,
    "category": "General purpose",
    "gpuNum": 0,
    "hideHardwareSpecs": false,
    "memoryGiB": 4,
    "name": "ml.t3.medium",
    "vcpuNum": 2
   },
   {
    "_defaultOrder": 1,
    "_isFastLaunch": false,
    "category": "General purpose",
    "gpuNum": 0,
    "hideHardwareSpecs": false,
    "memoryGiB": 8,
    "name": "ml.t3.large",
    "vcpuNum": 2
   },
   {
    "_defaultOrder": 2,
    "_isFastLaunch": false,
    "category": "General purpose",
    "gpuNum": 0,
    "hideHardwareSpecs": false,
    "memoryGiB": 16,
    "name": "ml.t3.xlarge",
    "vcpuNum": 4
   },
   {
    "_defaultOrder": 3,
    "_isFastLaunch": false,
    "category": "General purpose",
    "gpuNum": 0,
    "hideHardwareSpecs": false,
    "memoryGiB": 32,
    "name": "ml.t3.2xlarge",
    "vcpuNum": 8
   },
   {
    "_defaultOrder": 4,
    "_isFastLaunch": true,
    "category": "General purpose",
    "gpuNum": 0,
    "hideHardwareSpecs": false,
    "memoryGiB": 8,
    "name": "ml.m5.large",
    "vcpuNum": 2
   },
   {
    "_defaultOrder": 5,
    "_isFastLaunch": false,
    "category": "General purpose",
    "gpuNum": 0,
    "hideHardwareSpecs": false,
    "memoryGiB": 16,
    "name": "ml.m5.xlarge",
    "vcpuNum": 4
   },
   {
    "_defaultOrder": 6,
    "_isFastLaunch": false,
    "category": "General purpose",
    "gpuNum": 0,
    "hideHardwareSpecs": false,
    "memoryGiB": 32,
    "name": "ml.m5.2xlarge",
    "vcpuNum": 8
   },
   {
    "_defaultOrder": 7,
    "_isFastLaunch": false,
    "category": "General purpose",
    "gpuNum": 0,
    "hideHardwareSpecs": false,
    "memoryGiB": 64,
    "name": "ml.m5.4xlarge",
    "vcpuNum": 16
   },
   {
    "_defaultOrder": 8,
    "_isFastLaunch": false,
    "category": "General purpose",
    "gpuNum": 0,
    "hideHardwareSpecs": false,
    "memoryGiB": 128,
    "name": "ml.m5.8xlarge",
    "vcpuNum": 32
   },
   {
    "_defaultOrder": 9,
    "_isFastLaunch": false,
    "category": "General purpose",
    "gpuNum": 0,
    "hideHardwareSpecs": false,
    "memoryGiB": 192,
    "name": "ml.m5.12xlarge",
    "vcpuNum": 48
   },
   {
    "_defaultOrder": 10,
    "_isFastLaunch": false,
    "category": "General purpose",
    "gpuNum": 0,
    "hideHardwareSpecs": false,
    "memoryGiB": 256,
    "name": "ml.m5.16xlarge",
    "vcpuNum": 64
   },
   {
    "_defaultOrder": 11,
    "_isFastLaunch": false,
    "category": "General purpose",
    "gpuNum": 0,
    "hideHardwareSpecs": false,
    "memoryGiB": 384,
    "name": "ml.m5.24xlarge",
    "vcpuNum": 96
   },
   {
    "_defaultOrder": 12,
    "_isFastLaunch": false,
    "category": "General purpose",
    "gpuNum": 0,
    "hideHardwareSpecs": false,
    "memoryGiB": 8,
    "name": "ml.m5d.large",
    "vcpuNum": 2
   },
   {
    "_defaultOrder": 13,
    "_isFastLaunch": false,
    "category": "General purpose",
    "gpuNum": 0,
    "hideHardwareSpecs": false,
    "memoryGiB": 16,
    "name": "ml.m5d.xlarge",
    "vcpuNum": 4
   },
   {
    "_defaultOrder": 14,
    "_isFastLaunch": false,
    "category": "General purpose",
    "gpuNum": 0,
    "hideHardwareSpecs": false,
    "memoryGiB": 32,
    "name": "ml.m5d.2xlarge",
    "vcpuNum": 8
   },
   {
    "_defaultOrder": 15,
    "_isFastLaunch": false,
    "category": "General purpose",
    "gpuNum": 0,
    "hideHardwareSpecs": false,
    "memoryGiB": 64,
    "name": "ml.m5d.4xlarge",
    "vcpuNum": 16
   },
   {
    "_defaultOrder": 16,
    "_isFastLaunch": false,
    "category": "General purpose",
    "gpuNum": 0,
    "hideHardwareSpecs": false,
    "memoryGiB": 128,
    "name": "ml.m5d.8xlarge",
    "vcpuNum": 32
   },
   {
    "_defaultOrder": 17,
    "_isFastLaunch": false,
    "category": "General purpose",
    "gpuNum": 0,
    "hideHardwareSpecs": false,
    "memoryGiB": 192,
    "name": "ml.m5d.12xlarge",
    "vcpuNum": 48
   },
   {
    "_defaultOrder": 18,
    "_isFastLaunch": false,
    "category": "General purpose",
    "gpuNum": 0,
    "hideHardwareSpecs": false,
    "memoryGiB": 256,
    "name": "ml.m5d.16xlarge",
    "vcpuNum": 64
   },
   {
    "_defaultOrder": 19,
    "_isFastLaunch": false,
    "category": "General purpose",
    "gpuNum": 0,
    "hideHardwareSpecs": false,
    "memoryGiB": 384,
    "name": "ml.m5d.24xlarge",
    "vcpuNum": 96
   },
   {
    "_defaultOrder": 20,
    "_isFastLaunch": false,
    "category": "General purpose",
    "gpuNum": 0,
    "hideHardwareSpecs": true,
    "memoryGiB": 0,
    "name": "ml.geospatial.interactive",
    "supportedImageNames": [
     "sagemaker-geospatial-v1-0"
    ],
    "vcpuNum": 0
   },
   {
    "_defaultOrder": 21,
    "_isFastLaunch": true,
    "category": "Compute optimized",
    "gpuNum": 0,
    "hideHardwareSpecs": false,
    "memoryGiB": 4,
    "name": "ml.c5.large",
    "vcpuNum": 2
   },
   {
    "_defaultOrder": 22,
    "_isFastLaunch": false,
    "category": "Compute optimized",
    "gpuNum": 0,
    "hideHardwareSpecs": false,
    "memoryGiB": 8,
    "name": "ml.c5.xlarge",
    "vcpuNum": 4
   },
   {
    "_defaultOrder": 23,
    "_isFastLaunch": false,
    "category": "Compute optimized",
    "gpuNum": 0,
    "hideHardwareSpecs": false,
    "memoryGiB": 16,
    "name": "ml.c5.2xlarge",
    "vcpuNum": 8
   },
   {
    "_defaultOrder": 24,
    "_isFastLaunch": false,
    "category": "Compute optimized",
    "gpuNum": 0,
    "hideHardwareSpecs": false,
    "memoryGiB": 32,
    "name": "ml.c5.4xlarge",
    "vcpuNum": 16
   },
   {
    "_defaultOrder": 25,
    "_isFastLaunch": false,
    "category": "Compute optimized",
    "gpuNum": 0,
    "hideHardwareSpecs": false,
    "memoryGiB": 72,
    "name": "ml.c5.9xlarge",
    "vcpuNum": 36
   },
   {
    "_defaultOrder": 26,
    "_isFastLaunch": false,
    "category": "Compute optimized",
    "gpuNum": 0,
    "hideHardwareSpecs": false,
    "memoryGiB": 96,
    "name": "ml.c5.12xlarge",
    "vcpuNum": 48
   },
   {
    "_defaultOrder": 27,
    "_isFastLaunch": false,
    "category": "Compute optimized",
    "gpuNum": 0,
    "hideHardwareSpecs": false,
    "memoryGiB": 144,
    "name": "ml.c5.18xlarge",
    "vcpuNum": 72
   },
   {
    "_defaultOrder": 28,
    "_isFastLaunch": false,
    "category": "Compute optimized",
    "gpuNum": 0,
    "hideHardwareSpecs": false,
    "memoryGiB": 192,
    "name": "ml.c5.24xlarge",
    "vcpuNum": 96
   },
   {
    "_defaultOrder": 29,
    "_isFastLaunch": true,
    "category": "Accelerated computing",
    "gpuNum": 1,
    "hideHardwareSpecs": false,
    "memoryGiB": 16,
    "name": "ml.g4dn.xlarge",
    "vcpuNum": 4
   },
   {
    "_defaultOrder": 30,
    "_isFastLaunch": false,
    "category": "Accelerated computing",
    "gpuNum": 1,
    "hideHardwareSpecs": false,
    "memoryGiB": 32,
    "name": "ml.g4dn.2xlarge",
    "vcpuNum": 8
   },
   {
    "_defaultOrder": 31,
    "_isFastLaunch": false,
    "category": "Accelerated computing",
    "gpuNum": 1,
    "hideHardwareSpecs": false,
    "memoryGiB": 64,
    "name": "ml.g4dn.4xlarge",
    "vcpuNum": 16
   },
   {
    "_defaultOrder": 32,
    "_isFastLaunch": false,
    "category": "Accelerated computing",
    "gpuNum": 1,
    "hideHardwareSpecs": false,
    "memoryGiB": 128,
    "name": "ml.g4dn.8xlarge",
    "vcpuNum": 32
   },
   {
    "_defaultOrder": 33,
    "_isFastLaunch": false,
    "category": "Accelerated computing",
    "gpuNum": 4,
    "hideHardwareSpecs": false,
    "memoryGiB": 192,
    "name": "ml.g4dn.12xlarge",
    "vcpuNum": 48
   },
   {
    "_defaultOrder": 34,
    "_isFastLaunch": false,
    "category": "Accelerated computing",
    "gpuNum": 1,
    "hideHardwareSpecs": false,
    "memoryGiB": 256,
    "name": "ml.g4dn.16xlarge",
    "vcpuNum": 64
   },
   {
    "_defaultOrder": 35,
    "_isFastLaunch": false,
    "category": "Accelerated computing",
    "gpuNum": 1,
    "hideHardwareSpecs": false,
    "memoryGiB": 61,
    "name": "ml.p3.2xlarge",
    "vcpuNum": 8
   },
   {
    "_defaultOrder": 36,
    "_isFastLaunch": false,
    "category": "Accelerated computing",
    "gpuNum": 4,
    "hideHardwareSpecs": false,
    "memoryGiB": 244,
    "name": "ml.p3.8xlarge",
    "vcpuNum": 32
   },
   {
    "_defaultOrder": 37,
    "_isFastLaunch": false,
    "category": "Accelerated computing",
    "gpuNum": 8,
    "hideHardwareSpecs": false,
    "memoryGiB": 488,
    "name": "ml.p3.16xlarge",
    "vcpuNum": 64
   },
   {
    "_defaultOrder": 38,
    "_isFastLaunch": false,
    "category": "Accelerated computing",
    "gpuNum": 8,
    "hideHardwareSpecs": false,
    "memoryGiB": 768,
    "name": "ml.p3dn.24xlarge",
    "vcpuNum": 96
   },
   {
    "_defaultOrder": 39,
    "_isFastLaunch": false,
    "category": "Memory Optimized",
    "gpuNum": 0,
    "hideHardwareSpecs": false,
    "memoryGiB": 16,
    "name": "ml.r5.large",
    "vcpuNum": 2
   },
   {
    "_defaultOrder": 40,
    "_isFastLaunch": false,
    "category": "Memory Optimized",
    "gpuNum": 0,
    "hideHardwareSpecs": false,
    "memoryGiB": 32,
    "name": "ml.r5.xlarge",
    "vcpuNum": 4
   },
   {
    "_defaultOrder": 41,
    "_isFastLaunch": false,
    "category": "Memory Optimized",
    "gpuNum": 0,
    "hideHardwareSpecs": false,
    "memoryGiB": 64,
    "name": "ml.r5.2xlarge",
    "vcpuNum": 8
   },
   {
    "_defaultOrder": 42,
    "_isFastLaunch": false,
    "category": "Memory Optimized",
    "gpuNum": 0,
    "hideHardwareSpecs": false,
    "memoryGiB": 128,
    "name": "ml.r5.4xlarge",
    "vcpuNum": 16
   },
   {
    "_defaultOrder": 43,
    "_isFastLaunch": false,
    "category": "Memory Optimized",
    "gpuNum": 0,
    "hideHardwareSpecs": false,
    "memoryGiB": 256,
    "name": "ml.r5.8xlarge",
    "vcpuNum": 32
   },
   {
    "_defaultOrder": 44,
    "_isFastLaunch": false,
    "category": "Memory Optimized",
    "gpuNum": 0,
    "hideHardwareSpecs": false,
    "memoryGiB": 384,
    "name": "ml.r5.12xlarge",
    "vcpuNum": 48
   },
   {
    "_defaultOrder": 45,
    "_isFastLaunch": false,
    "category": "Memory Optimized",
    "gpuNum": 0,
    "hideHardwareSpecs": false,
    "memoryGiB": 512,
    "name": "ml.r5.16xlarge",
    "vcpuNum": 64
   },
   {
    "_defaultOrder": 46,
    "_isFastLaunch": false,
    "category": "Memory Optimized",
    "gpuNum": 0,
    "hideHardwareSpecs": false,
    "memoryGiB": 768,
    "name": "ml.r5.24xlarge",
    "vcpuNum": 96
   },
   {
    "_defaultOrder": 47,
    "_isFastLaunch": false,
    "category": "Accelerated computing",
    "gpuNum": 1,
    "hideHardwareSpecs": false,
    "memoryGiB": 16,
    "name": "ml.g5.xlarge",
    "vcpuNum": 4
   },
   {
    "_defaultOrder": 48,
    "_isFastLaunch": false,
    "category": "Accelerated computing",
    "gpuNum": 1,
    "hideHardwareSpecs": false,
    "memoryGiB": 32,
    "name": "ml.g5.2xlarge",
    "vcpuNum": 8
   },
   {
    "_defaultOrder": 49,
    "_isFastLaunch": false,
    "category": "Accelerated computing",
    "gpuNum": 1,
    "hideHardwareSpecs": false,
    "memoryGiB": 64,
    "name": "ml.g5.4xlarge",
    "vcpuNum": 16
   },
   {
    "_defaultOrder": 50,
    "_isFastLaunch": false,
    "category": "Accelerated computing",
    "gpuNum": 1,
    "hideHardwareSpecs": false,
    "memoryGiB": 128,
    "name": "ml.g5.8xlarge",
    "vcpuNum": 32
   },
   {
    "_defaultOrder": 51,
    "_isFastLaunch": false,
    "category": "Accelerated computing",
    "gpuNum": 1,
    "hideHardwareSpecs": false,
    "memoryGiB": 256,
    "name": "ml.g5.16xlarge",
    "vcpuNum": 64
   },
   {
    "_defaultOrder": 52,
    "_isFastLaunch": false,
    "category": "Accelerated computing",
    "gpuNum": 4,
    "hideHardwareSpecs": false,
    "memoryGiB": 192,
    "name": "ml.g5.12xlarge",
    "vcpuNum": 48
   },
   {
    "_defaultOrder": 53,
    "_isFastLaunch": false,
    "category": "Accelerated computing",
    "gpuNum": 4,
    "hideHardwareSpecs": false,
    "memoryGiB": 384,
    "name": "ml.g5.24xlarge",
    "vcpuNum": 96
   },
   {
    "_defaultOrder": 54,
    "_isFastLaunch": false,
    "category": "Accelerated computing",
    "gpuNum": 8,
    "hideHardwareSpecs": false,
    "memoryGiB": 768,
    "name": "ml.g5.48xlarge",
    "vcpuNum": 192
   }
  ],
  "instance_type": "ml.t3.medium",
  "kernelspec": {
   "display_name": "Python 3 (Data Science)",
   "language": "python",
   "name": "python3__SAGEMAKER_INTERNAL__arn:aws:sagemaker:us-east-1:081325390199:image/datascience-1.0"
  },
  "language_info": {
   "codemirror_mode": {
    "name": "ipython",
    "version": 3
   },
   "file_extension": ".py",
   "mimetype": "text/x-python",
   "name": "python",
   "nbconvert_exporter": "python",
   "pygments_lexer": "ipython3",
   "version": "3.7.10"
  }
 },
 "nbformat": 4,
 "nbformat_minor": 5
}
