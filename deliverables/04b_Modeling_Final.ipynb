{
 "cells": [
  {
   "cell_type": "markdown",
   "id": "a406a9cc-f539-4fc8-ac94-6964d066545e",
   "metadata": {},
   "source": [
    "# ADS-508-01-SP23 Team 8: Final Project"
   ]
  },
  {
   "cell_type": "markdown",
   "id": "b9d4d4ae-78da-4af4-8ca3-86c028dd6e91",
   "metadata": {},
   "source": [
    "# Train model"
   ]
  },
  {
   "cell_type": "markdown",
   "id": "4d3b8db0-6910-4d3d-a870-fec468b57912",
   "metadata": {},
   "source": [
    "Much of the code is modified from `Fregly, C., & Barth, A. (2021). Data science on AWS: Implementing end-to-end, continuous AI and machine learning pipelines. O’Reilly.`"
   ]
  },
  {
   "cell_type": "markdown",
   "id": "4d04427e-2c8f-4b36-97d0-65e28951db9f",
   "metadata": {},
   "source": [
    "## Install missing dependencies\n",
    "\n",
    "[PyAthena](https://pypi.org/project/PyAthena/) is a Python DB API 2.0 (PEP 249) compliant client for Amazon Athena."
   ]
  },
  {
   "cell_type": "code",
   "execution_count": 2,
   "id": "189f41f2-460c-40df-a1d5-b7a39783149d",
   "metadata": {},
   "outputs": [
    {
     "name": "stdout",
     "output_type": "stream",
     "text": [
      "\u001b[33mWARNING: The directory '/root/.cache/pip' or its parent directory is not owned or is not writable by the current user. The cache has been disabled. Check the permissions and owner of that directory. If executing pip with sudo, you should use sudo's -H flag.\u001b[0m\u001b[33m\n",
      "\u001b[0m\u001b[33mWARNING: Running pip as the 'root' user can result in broken permissions and conflicting behaviour with the system package manager. It is recommended to use a virtual environment instead: https://pip.pypa.io/warnings/venv\u001b[0m\u001b[33m\n",
      "\u001b[0m\u001b[33mWARNING: The directory '/root/.cache/pip' or its parent directory is not owned or is not writable by the current user. The cache has been disabled. Check the permissions and owner of that directory. If executing pip with sudo, you should use sudo's -H flag.\u001b[0m\u001b[33m\n",
      "\u001b[0m\u001b[33mWARNING: Running pip as the 'root' user can result in broken permissions and conflicting behaviour with the system package manager. It is recommended to use a virtual environment instead: https://pip.pypa.io/warnings/venv\u001b[0m\u001b[33m\n",
      "\u001b[0m\u001b[33mWARNING: The directory '/root/.cache/pip' or its parent directory is not owned or is not writable by the current user. The cache has been disabled. Check the permissions and owner of that directory. If executing pip with sudo, you should use sudo's -H flag.\u001b[0m\u001b[33m\n",
      "\u001b[0mCollecting missingno\n",
      "  Downloading missingno-0.5.2-py3-none-any.whl (8.7 kB)\n",
      "Requirement already satisfied: matplotlib in /opt/conda/lib/python3.7/site-packages (from missingno) (3.1.3)\n",
      "Requirement already satisfied: numpy in /opt/conda/lib/python3.7/site-packages (from missingno) (1.21.6)\n",
      "Requirement already satisfied: seaborn in /opt/conda/lib/python3.7/site-packages (from missingno) (0.10.0)\n",
      "Requirement already satisfied: scipy in /opt/conda/lib/python3.7/site-packages (from missingno) (1.4.1)\n",
      "Requirement already satisfied: kiwisolver>=1.0.1 in /opt/conda/lib/python3.7/site-packages (from matplotlib->missingno) (1.1.0)\n",
      "Requirement already satisfied: python-dateutil>=2.1 in /opt/conda/lib/python3.7/site-packages (from matplotlib->missingno) (2.8.2)\n",
      "Requirement already satisfied: cycler>=0.10 in /opt/conda/lib/python3.7/site-packages (from matplotlib->missingno) (0.10.0)\n",
      "Requirement already satisfied: pyparsing!=2.0.4,!=2.1.2,!=2.1.6,>=2.0.1 in /opt/conda/lib/python3.7/site-packages (from matplotlib->missingno) (2.4.6)\n",
      "Requirement already satisfied: pandas>=0.22.0 in /opt/conda/lib/python3.7/site-packages (from seaborn->missingno) (1.3.5)\n",
      "Requirement already satisfied: six in /opt/conda/lib/python3.7/site-packages (from cycler>=0.10->matplotlib->missingno) (1.14.0)\n",
      "Requirement already satisfied: setuptools in /opt/conda/lib/python3.7/site-packages (from kiwisolver>=1.0.1->matplotlib->missingno) (59.3.0)\n",
      "Requirement already satisfied: pytz>=2017.3 in /opt/conda/lib/python3.7/site-packages (from pandas>=0.22.0->seaborn->missingno) (2019.3)\n",
      "Installing collected packages: missingno\n",
      "Successfully installed missingno-0.5.2\n",
      "\u001b[33mWARNING: Running pip as the 'root' user can result in broken permissions and conflicting behaviour with the system package manager. It is recommended to use a virtual environment instead: https://pip.pypa.io/warnings/venv\u001b[0m\u001b[33m\n",
      "\u001b[0m\u001b[33mWARNING: The directory '/root/.cache/pip' or its parent directory is not owned or is not writable by the current user. The cache has been disabled. Check the permissions and owner of that directory. If executing pip with sudo, you should use sudo's -H flag.\u001b[0m\u001b[33m\n",
      "\u001b[0mCollecting scikit-optimize\n",
      "  Downloading scikit_optimize-0.9.0-py2.py3-none-any.whl (100 kB)\n",
      "\u001b[2K     \u001b[90m━━━━━━━━━━━━━━━━━━━━━━━━━━━━━━━━━━━━━\u001b[0m \u001b[32m100.3/100.3 kB\u001b[0m \u001b[31m197.3 MB/s\u001b[0m eta \u001b[36m0:00:00\u001b[0m\n",
      "\u001b[?25hCollecting pyaml>=16.9\n",
      "  Downloading pyaml-21.10.1-py2.py3-none-any.whl (24 kB)\n",
      "Requirement already satisfied: scipy>=0.19.1 in /opt/conda/lib/python3.7/site-packages (from scikit-optimize) (1.4.1)\n",
      "Requirement already satisfied: numpy>=1.13.3 in /opt/conda/lib/python3.7/site-packages (from scikit-optimize) (1.21.6)\n",
      "Requirement already satisfied: scikit-learn>=0.20.0 in /opt/conda/lib/python3.7/site-packages (from scikit-optimize) (0.22.1)\n",
      "Requirement already satisfied: joblib>=0.11 in /opt/conda/lib/python3.7/site-packages (from scikit-optimize) (1.2.0)\n",
      "Requirement already satisfied: PyYAML in /opt/conda/lib/python3.7/site-packages (from pyaml>=16.9->scikit-optimize) (6.0)\n",
      "Installing collected packages: pyaml, scikit-optimize\n",
      "Successfully installed pyaml-21.10.1 scikit-optimize-0.9.0\n",
      "\u001b[33mWARNING: Running pip as the 'root' user can result in broken permissions and conflicting behaviour with the system package manager. It is recommended to use a virtual environment instead: https://pip.pypa.io/warnings/venv\u001b[0m\u001b[33m\n",
      "\u001b[0m"
     ]
    }
   ],
   "source": [
    "!pip install --disable-pip-version-check -q PyAthena==2.1.0\n",
    "!pip install --disable-pip-version-check -q sagemaker-experiments==0.1.26\n",
    "!pip install missingno\n",
    "!pip install scikit-optimize"
   ]
  },
  {
   "cell_type": "markdown",
   "id": "bd6e5a52-94a3-489c-819b-f57885fe9cc6",
   "metadata": {},
   "source": [
    "## Globally import libraries"
   ]
  },
  {
   "cell_type": "code",
   "execution_count": 3,
   "id": "c1264efc-72eb-45b3-9311-6ff9a787a26b",
   "metadata": {},
   "outputs": [],
   "source": [
    "import boto3\n",
    "from botocore.client import ClientError\n",
    "import pandas as pd\n",
    "import numpy as np\n",
    "from pyathena import connect\n",
    "from IPython.core.display import display, HTML\n",
    "import missingno as msno\n",
    "from skopt import BayesSearchCV\n",
    "from skopt.space import Real, Categorical, Integer\n",
    "from sklearn.compose import ColumnTransformer\n",
    "from sklearn.pipeline import make_pipeline, Pipeline\n",
    "from sklearn.preprocessing import StandardScaler, OneHotEncoder\n",
    "from sklearn.model_selection import train_test_split, cross_val_score, GridSearchCV\n",
    "from sklearn.ensemble import RandomForestRegressor\n",
    "from sklearn.neural_network import MLPRegressor\n",
    "from sklearn.impute import SimpleImputer\n",
    "from sklearn.metrics import r2_score, mean_squared_error\n",
    "from sklearn.linear_model import Lasso\n",
    "import datetime as dt\n",
    "import time\n",
    "import sagemaker\n",
    "from smexperiments.experiment import Experiment\n",
    "from smexperiments.trial import Trial\n",
    "import joblib\n",
    "import os\n",
    "from io import BytesIO\n",
    "\n",
    "%matplotlib inline"
   ]
  },
  {
   "cell_type": "markdown",
   "id": "e0208499-b452-4abe-a5ae-475f0ecc4254",
   "metadata": {},
   "source": [
    "## Instantiate AWS SageMaker and S3 sessions"
   ]
  },
  {
   "cell_type": "code",
   "execution_count": 4,
   "id": "6c4ef463-dd80-4d28-9a1f-09f5261fca85",
   "metadata": {},
   "outputs": [],
   "source": [
    "session = boto3.session.Session()\n",
    "role = sagemaker.get_execution_role()\n",
    "region = session.region_name\n",
    "sagemaker_session = sagemaker.Session()\n",
    "def_bucket = sagemaker_session.default_bucket()\n",
    "bucket = 'sagemaker-us-east-ads508-sp23-t8'\n",
    "\n",
    "s3 = boto3.Session().client(service_name=\"s3\",\n",
    "                            region_name=region)\n",
    "\n",
    "sm = boto3.Session().client(service_name=\"sagemaker\",\n",
    "                            region_name=region)"
   ]
  },
  {
   "cell_type": "code",
   "execution_count": 5,
   "id": "59fe83df-3b8d-4120-ae9a-221497980a76",
   "metadata": {},
   "outputs": [
    {
     "name": "stdout",
     "output_type": "stream",
     "text": [
      "Default bucket: sagemaker-us-east-1-657724983756\n",
      "Public T8 bucket: sagemaker-us-east-ads508-sp23-t8\n"
     ]
    }
   ],
   "source": [
    "print(f\"Default bucket: {def_bucket}\")\n",
    "print(f\"Public T8 bucket: {bucket}\")"
   ]
  },
  {
   "cell_type": "markdown",
   "id": "2ea0232b-3373-406b-addb-3bd73572884a",
   "metadata": {},
   "source": [
    "## Pass in train and test X from CSV"
   ]
  },
  {
   "cell_type": "code",
   "execution_count": 6,
   "id": "39061b0e-220f-48bc-b392-9a1e7c18de33",
   "metadata": {},
   "outputs": [
    {
     "name": "stdout",
     "output_type": "stream",
     "text": [
      "(25284, 48)\n",
      "\n",
      "(6321, 48)\n"
     ]
    }
   ],
   "source": [
    "s3_train_x01_csv_path = f\"s3://{def_bucket}/team_8_data/modeling_data/training/train_x01.csv\"\n",
    "train_x01 = pd.read_csv(s3_train_x01_csv_path)\n",
    "s3_test_x01_csv_path = f\"s3://{def_bucket}/team_8_data/modeling_data/testing/test_x01.csv\"\n",
    "test_x01 = pd.read_csv(s3_test_x01_csv_path)\n",
    "\n",
    "print(f'{train_x01.shape}')\n",
    "print(f'\\n{test_x01.shape}')"
   ]
  },
  {
   "cell_type": "markdown",
   "id": "8906d20b-871d-4a6c-8fd2-0d363c49d3ee",
   "metadata": {},
   "source": [
    "## Pass in train and test y from np array"
   ]
  },
  {
   "cell_type": "code",
   "execution_count": 7,
   "id": "52d90171-b637-4458-a57c-bc3bc86372f4",
   "metadata": {},
   "outputs": [
    {
     "name": "stdout",
     "output_type": "stream",
     "text": [
      "(25284,)\n",
      "(6321,)\n"
     ]
    }
   ],
   "source": [
    "# Define the S3 object key\n",
    "train_y01_s3_key = 'team_8_data/modeling_data/training/train_y01.npy'\n",
    "\n",
    "# Load the numpy array from S3\n",
    "with BytesIO() as data:\n",
    "    s3.download_fileobj(def_bucket, train_y01_s3_key, data)\n",
    "    data.seek(0)\n",
    "    train_y01 = np.load(data)\n",
    "\n",
    "# Define the S3 object key\n",
    "test_y01_s3_key = 'team_8_data/modeling_data/testing/test_y01.npy'\n",
    "\n",
    "# Load the numpy array from S3\n",
    "with BytesIO() as data:\n",
    "    s3.download_fileobj(def_bucket, test_y01_s3_key, data)\n",
    "    data.seek(0)\n",
    "    test_y01 = np.load(data)\n",
    "\n",
    "train_y01 = train_y01.ravel()\n",
    "test_y01 = test_y01.ravel()\n",
    "\n",
    "# Confirm that the numpy array was loaded from S3\n",
    "print(f'{train_y01.shape}')\n",
    "print(f'{test_y01.shape}')"
   ]
  },
  {
   "cell_type": "markdown",
   "id": "f964692a-cf34-4755-bd98-14ce4acd8c93",
   "metadata": {},
   "source": [
    "## Model Training using Grid search with 5-fold cross-validation"
   ]
  },
  {
   "cell_type": "markdown",
   "id": "67effbbc-6281-49a2-8ae8-8424eba5a4f5",
   "metadata": {},
   "source": [
    "### Neural Network"
   ]
  },
  {
   "cell_type": "code",
   "execution_count": 8,
   "id": "fc11cbc6-c656-4b38-89d0-ecb204542df7",
   "metadata": {
    "tags": []
   },
   "outputs": [
    {
     "name": "stdout",
     "output_type": "stream",
     "text": [
      "Fitting 5 folds for each of 36 candidates, totalling 180 fits\n"
     ]
    },
    {
     "name": "stderr",
     "output_type": "stream",
     "text": [
      "[Parallel(n_jobs=2)]: Using backend LokyBackend with 2 concurrent workers.\n",
      "[Parallel(n_jobs=2)]: Done  37 tasks      | elapsed: 12.0min\n",
      "[Parallel(n_jobs=2)]: Done 158 tasks      | elapsed: 46.5min\n",
      "[Parallel(n_jobs=2)]: Done 180 out of 180 | elapsed: 52.4min finished\n"
     ]
    },
    {
     "name": "stdout",
     "output_type": "stream",
     "text": [
      "Best Estimator:\n",
      "Pipeline(memory=None,\n",
      "         steps=[('si',\n",
      "                 SimpleImputer(add_indicator=False, copy=True, fill_value=None,\n",
      "                               missing_values=nan, strategy='median',\n",
      "                               verbose=0)),\n",
      "                ('ss',\n",
      "                 StandardScaler(copy=True, with_mean=True, with_std=True)),\n",
      "                ('nn',\n",
      "                 MLPRegressor(activation='relu', alpha=0.001, batch_size='auto',\n",
      "                              beta_1=0.9, beta_2=0.999, early_stopping=False,\n",
      "                              epsilon=1e-08, hidden_layer_sizes=[50, 50],\n",
      "                              learning_rate='constant',\n",
      "                              learning_rate_init=0.001, max_fun=15000,\n",
      "                              max_iter=200, momentum=0.9, n_iter_no_change=10,\n",
      "                              nesterovs_momentum=True, power_t=0.5,\n",
      "                              random_state=1699, shuffle=True, solver='adam',\n",
      "                              tol=0.0001, validation_fraction=0.1,\n",
      "                              verbose=False, warm_start=False))],\n",
      "         verbose=False)\n",
      "    mean_fit_time  std_fit_time  mean_score_time  std_score_time  \\\n",
      "0       33.440827      0.342329         0.042622        0.012259   \n",
      "1       33.554799      0.615465         0.032828        0.000290   \n",
      "2       46.058777      0.458099         0.042406        0.001485   \n",
      "3       46.014916      0.690004         0.051821        0.018801   \n",
      "4       37.743837      0.645877         0.032383        0.000622   \n",
      "5       37.834643      0.399197         0.032696        0.000655   \n",
      "6       33.240170      0.409809         0.033882        0.002831   \n",
      "7       33.752082      0.516491         0.032447        0.000435   \n",
      "8       46.379478      0.634676         0.042300        0.000679   \n",
      "9       46.129870      0.249600         0.042755        0.000761   \n",
      "10      38.397613      1.227609         0.032573        0.000372   \n",
      "11      37.662963      0.372815         0.034530        0.002075   \n",
      "12      33.174833      0.506245         0.032409        0.000365   \n",
      "13      33.241961      0.296740         0.032846        0.001173   \n",
      "14      46.216550      0.339701         0.042860        0.001398   \n",
      "15      45.537351      0.294249         0.042794        0.000444   \n",
      "16      37.729958      0.598202         0.035291        0.005098   \n",
      "17      37.480900      0.316498         0.032584        0.000463   \n",
      "18      26.123552      0.574058         0.018327        0.002515   \n",
      "19      25.956536      0.398745         0.017077        0.000617   \n",
      "20      33.947372      0.181555         0.024974        0.007449   \n",
      "21      33.941831      0.227275         0.018910        0.000692   \n",
      "22      31.437450      0.412940         0.016844        0.000395   \n",
      "23      31.493415      0.194058         0.018189        0.003532   \n",
      "24      26.371321      0.580023         0.016821        0.000134   \n",
      "25      26.008920      0.065400         0.016951        0.000274   \n",
      "26      34.482812      0.803167         0.025048        0.011177   \n",
      "27      34.281947      0.475591         0.021694        0.003414   \n",
      "28      31.498008      0.459917         0.017056        0.000353   \n",
      "29      31.468688      0.360799         0.017390        0.000730   \n",
      "30      26.013760      0.315331         0.016832        0.000429   \n",
      "31      26.010489      0.439400         0.016749        0.000340   \n",
      "32      35.036697      1.926968         0.026160        0.012484   \n",
      "33      34.590153      0.625601         0.019893        0.000412   \n",
      "34      31.326440      0.483956         0.017146        0.000322   \n",
      "35      30.494279      1.734791         0.015680        0.002028   \n",
      "\n",
      "   param_nn__activation param_nn__alpha param_nn__hidden_layer_sizes  \\\n",
      "0              logistic          0.0001                        [100]   \n",
      "1              logistic          0.0001                        [100]   \n",
      "2              logistic          0.0001                        [154]   \n",
      "3              logistic          0.0001                        [154]   \n",
      "4              logistic          0.0001                     [50, 50]   \n",
      "5              logistic          0.0001                     [50, 50]   \n",
      "6              logistic          0.0005                        [100]   \n",
      "7              logistic          0.0005                        [100]   \n",
      "8              logistic          0.0005                        [154]   \n",
      "9              logistic          0.0005                        [154]   \n",
      "10             logistic          0.0005                     [50, 50]   \n",
      "11             logistic          0.0005                     [50, 50]   \n",
      "12             logistic           0.001                        [100]   \n",
      "13             logistic           0.001                        [100]   \n",
      "14             logistic           0.001                        [154]   \n",
      "15             logistic           0.001                        [154]   \n",
      "16             logistic           0.001                     [50, 50]   \n",
      "17             logistic           0.001                     [50, 50]   \n",
      "18                 relu          0.0001                        [100]   \n",
      "19                 relu          0.0001                        [100]   \n",
      "20                 relu          0.0001                        [154]   \n",
      "21                 relu          0.0001                        [154]   \n",
      "22                 relu          0.0001                     [50, 50]   \n",
      "23                 relu          0.0001                     [50, 50]   \n",
      "24                 relu          0.0005                        [100]   \n",
      "25                 relu          0.0005                        [100]   \n",
      "26                 relu          0.0005                        [154]   \n",
      "27                 relu          0.0005                        [154]   \n",
      "28                 relu          0.0005                     [50, 50]   \n",
      "29                 relu          0.0005                     [50, 50]   \n",
      "30                 relu           0.001                        [100]   \n",
      "31                 relu           0.001                        [100]   \n",
      "32                 relu           0.001                        [154]   \n",
      "33                 relu           0.001                        [154]   \n",
      "34                 relu           0.001                     [50, 50]   \n",
      "35                 relu           0.001                     [50, 50]   \n",
      "\n",
      "   param_nn__learning_rate param_nn__solver  \\\n",
      "0                 constant             adam   \n",
      "1               invscaling             adam   \n",
      "2                 constant             adam   \n",
      "3               invscaling             adam   \n",
      "4                 constant             adam   \n",
      "5               invscaling             adam   \n",
      "6                 constant             adam   \n",
      "7               invscaling             adam   \n",
      "8                 constant             adam   \n",
      "9               invscaling             adam   \n",
      "10                constant             adam   \n",
      "11              invscaling             adam   \n",
      "12                constant             adam   \n",
      "13              invscaling             adam   \n",
      "14                constant             adam   \n",
      "15              invscaling             adam   \n",
      "16                constant             adam   \n",
      "17              invscaling             adam   \n",
      "18                constant             adam   \n",
      "19              invscaling             adam   \n",
      "20                constant             adam   \n",
      "21              invscaling             adam   \n",
      "22                constant             adam   \n",
      "23              invscaling             adam   \n",
      "24                constant             adam   \n",
      "25              invscaling             adam   \n",
      "26                constant             adam   \n",
      "27              invscaling             adam   \n",
      "28                constant             adam   \n",
      "29              invscaling             adam   \n",
      "30                constant             adam   \n",
      "31              invscaling             adam   \n",
      "32                constant             adam   \n",
      "33              invscaling             adam   \n",
      "34                constant             adam   \n",
      "35              invscaling             adam   \n",
      "\n",
      "                                               params  split0_test_score  \\\n",
      "0   {'nn__activation': 'logistic', 'nn__alpha': 0....          -7.893160   \n",
      "1   {'nn__activation': 'logistic', 'nn__alpha': 0....          -7.893160   \n",
      "2   {'nn__activation': 'logistic', 'nn__alpha': 0....          -6.690877   \n",
      "3   {'nn__activation': 'logistic', 'nn__alpha': 0....          -6.690877   \n",
      "4   {'nn__activation': 'logistic', 'nn__alpha': 0....          -4.922911   \n",
      "5   {'nn__activation': 'logistic', 'nn__alpha': 0....          -4.922911   \n",
      "6   {'nn__activation': 'logistic', 'nn__alpha': 0....          -7.894902   \n",
      "7   {'nn__activation': 'logistic', 'nn__alpha': 0....          -7.894902   \n",
      "8   {'nn__activation': 'logistic', 'nn__alpha': 0....          -6.694356   \n",
      "9   {'nn__activation': 'logistic', 'nn__alpha': 0....          -6.694356   \n",
      "10  {'nn__activation': 'logistic', 'nn__alpha': 0....          -4.922247   \n",
      "11  {'nn__activation': 'logistic', 'nn__alpha': 0....          -4.922247   \n",
      "12  {'nn__activation': 'logistic', 'nn__alpha': 0....          -7.895925   \n",
      "13  {'nn__activation': 'logistic', 'nn__alpha': 0....          -7.895925   \n",
      "14  {'nn__activation': 'logistic', 'nn__alpha': 0....          -6.702765   \n",
      "15  {'nn__activation': 'logistic', 'nn__alpha': 0....          -6.702765   \n",
      "16  {'nn__activation': 'logistic', 'nn__alpha': 0....          -4.921938   \n",
      "17  {'nn__activation': 'logistic', 'nn__alpha': 0....          -4.921938   \n",
      "18  {'nn__activation': 'relu', 'nn__alpha': 0.0001...          -4.747644   \n",
      "19  {'nn__activation': 'relu', 'nn__alpha': 0.0001...          -4.747644   \n",
      "20  {'nn__activation': 'relu', 'nn__alpha': 0.0001...          -3.320986   \n",
      "21  {'nn__activation': 'relu', 'nn__alpha': 0.0001...          -3.320986   \n",
      "22  {'nn__activation': 'relu', 'nn__alpha': 0.0001...          -2.222588   \n",
      "23  {'nn__activation': 'relu', 'nn__alpha': 0.0001...          -2.222588   \n",
      "24  {'nn__activation': 'relu', 'nn__alpha': 0.0005...          -4.752730   \n",
      "25  {'nn__activation': 'relu', 'nn__alpha': 0.0005...          -4.752730   \n",
      "26  {'nn__activation': 'relu', 'nn__alpha': 0.0005...          -3.251472   \n",
      "27  {'nn__activation': 'relu', 'nn__alpha': 0.0005...          -3.251472   \n",
      "28  {'nn__activation': 'relu', 'nn__alpha': 0.0005...          -2.220999   \n",
      "29  {'nn__activation': 'relu', 'nn__alpha': 0.0005...          -2.220999   \n",
      "30  {'nn__activation': 'relu', 'nn__alpha': 0.001,...          -4.743829   \n",
      "31  {'nn__activation': 'relu', 'nn__alpha': 0.001,...          -4.743829   \n",
      "32  {'nn__activation': 'relu', 'nn__alpha': 0.001,...          -3.401174   \n",
      "33  {'nn__activation': 'relu', 'nn__alpha': 0.001,...          -3.401174   \n",
      "34  {'nn__activation': 'relu', 'nn__alpha': 0.001,...          -2.139570   \n",
      "35  {'nn__activation': 'relu', 'nn__alpha': 0.001,...          -2.139570   \n",
      "\n",
      "    split1_test_score  split2_test_score  split3_test_score  \\\n",
      "0           -8.045321          -7.606735          -7.887879   \n",
      "1           -8.045321          -7.606735          -7.887879   \n",
      "2           -6.622841          -6.282463          -6.311630   \n",
      "3           -6.622841          -6.282463          -6.311630   \n",
      "4           -4.799495          -4.681083          -4.567906   \n",
      "5           -4.799495          -4.681083          -4.567906   \n",
      "6           -8.045079          -7.606707          -7.884065   \n",
      "7           -8.045079          -7.606707          -7.884065   \n",
      "8           -6.621845          -6.260514          -6.312248   \n",
      "9           -6.621845          -6.260514          -6.312248   \n",
      "10          -4.799356          -4.681814          -4.575365   \n",
      "11          -4.799356          -4.681814          -4.575365   \n",
      "12          -8.044853          -7.627297          -7.882186   \n",
      "13          -8.044853          -7.627297          -7.882186   \n",
      "14          -6.620233          -6.252306          -6.313369   \n",
      "15          -6.620233          -6.252306          -6.313369   \n",
      "16          -4.799057          -4.682791          -4.584181   \n",
      "17          -4.799057          -4.682791          -4.584181   \n",
      "18          -4.752539          -4.440817          -4.621588   \n",
      "19          -4.752539          -4.440817          -4.621588   \n",
      "20          -3.432054          -3.313170          -3.084569   \n",
      "21          -3.432054          -3.313170          -3.084569   \n",
      "22          -1.991906          -1.912473          -1.967868   \n",
      "23          -1.991906          -1.912473          -1.967868   \n",
      "24          -4.723405          -4.383779          -4.699524   \n",
      "25          -4.723405          -4.383779          -4.699524   \n",
      "26          -3.351511          -3.267686          -3.180918   \n",
      "27          -3.351511          -3.267686          -3.180918   \n",
      "28          -2.187700          -1.937144          -2.150662   \n",
      "29          -2.187700          -1.937144          -2.150662   \n",
      "30          -4.697556          -4.529831          -4.706887   \n",
      "31          -4.697556          -4.529831          -4.706887   \n",
      "32          -3.281246          -3.308936          -3.137562   \n",
      "33          -3.281246          -3.308936          -3.137562   \n",
      "34          -2.307100          -1.677755          -1.843716   \n",
      "35          -2.307100          -1.677755          -1.843716   \n",
      "\n",
      "    split4_test_score  mean_test_score  std_test_score  rank_test_score  \n",
      "0           -7.914903        -7.869600        0.143470               33  \n",
      "1           -7.914903        -7.869600        0.143470               33  \n",
      "2           -6.349869        -6.451536        0.170367               29  \n",
      "3           -6.349869        -6.451536        0.170367               29  \n",
      "4           -4.480262        -4.690331        0.158249               19  \n",
      "5           -4.480262        -4.690331        0.158249               19  \n",
      "6           -7.914671        -7.869085        0.143377               31  \n",
      "7           -7.914671        -7.869085        0.143377               31  \n",
      "8           -6.353835        -6.448560        0.175133               25  \n",
      "9           -6.353835        -6.448560        0.175133               25  \n",
      "10          -4.475120        -4.690780        0.158288               21  \n",
      "11          -4.475120        -4.690780        0.158288               21  \n",
      "12          -7.914196        -7.872891        0.135801               35  \n",
      "13          -7.914196        -7.872891        0.135801               35  \n",
      "14          -6.356008        -6.448936        0.178577               27  \n",
      "15          -6.356008        -6.448936        0.178577               27  \n",
      "16          -4.467572        -4.691108        0.159001               23  \n",
      "17          -4.467572        -4.691108        0.159001               23  \n",
      "18          -4.374002        -4.587318        0.155655               13  \n",
      "19          -4.374002        -4.587318        0.155655               13  \n",
      "20          -3.319987        -3.294153        0.113746               11  \n",
      "21          -3.319987        -3.294153        0.113746               11  \n",
      "22          -2.149157        -2.048798        0.117172                3  \n",
      "23          -2.149157        -2.048798        0.117172                3  \n",
      "24          -4.524476        -4.616783        0.141073               15  \n",
      "25          -4.524476        -4.616783        0.141073               15  \n",
      "26          -3.279162        -3.266150        0.054659                7  \n",
      "27          -3.279162        -3.266150        0.054659                7  \n",
      "28          -2.107118        -2.120725        0.099321                5  \n",
      "29          -2.107118        -2.120725        0.099321                5  \n",
      "30          -4.501059        -4.635832        0.099922               17  \n",
      "31          -4.501059        -4.635832        0.099922               17  \n",
      "32          -3.231785        -3.272141        0.086979                9  \n",
      "33          -3.231785        -3.272141        0.086979                9  \n",
      "34          -2.044833        -2.002595        0.220922                1  \n",
      "35          -2.044833        -2.002595        0.220922                1  \n",
      "[ 5.2239951   1.4240794  33.60946188 ...  1.62222776 12.68407229\n",
      " -0.13801927]\n",
      "[36.75484156  0.10294243 35.60242194 ...  0.51506525  7.23472543\n",
      " 15.31690199]\n",
      "Train R-sq:\n",
      "0.9943290359036614\n",
      "Test R-sq:\n",
      "0.9936659559616544\n",
      "Train RMSE:\n",
      "1.4234047583109315\n",
      "Test RMSE:\n",
      "1.5209755835024865\n",
      "End Time = 2023-04-12 20:05:32.091976\n",
      "Script Time = 0:53:03.915204\n"
     ]
    },
    {
     "name": "stderr",
     "output_type": "stream",
     "text": [
      "/opt/conda/lib/python3.7/site-packages/sklearn/neural_network/_multilayer_perceptron.py:571: ConvergenceWarning: Stochastic Optimizer: Maximum iterations (200) reached and the optimization hasn't converged yet.\n",
      "  % self.max_iter, ConvergenceWarning)\n"
     ]
    }
   ],
   "source": [
    "# Start timer script\n",
    "start_time = dt.datetime.today()\n",
    "\n",
    "# Citation: Hochberg, 2018; Shanmukh, 2021\n",
    "m1v1_nn_pip = Pipeline([('si', SimpleImputer(strategy='median')),\n",
    "                     ('ss', StandardScaler()),\n",
    "                     ('nn', MLPRegressor(random_state=1699))])\n",
    "\n",
    "nodes_h = 3\n",
    "predictors_p = 49\n",
    "\n",
    "hidden_layer_sizes_hparam = [[100,],\n",
    "                             [(nodes_h*(predictors_p+1))+nodes_h+1,],\n",
    "                             [50, 50]\n",
    "                            ]\n",
    "activation_hparam = ['logistic', 'relu']\n",
    "solver_hparam = ['adam']\n",
    "alpha_hparam = [.0001, .0005, .001]\n",
    "learn_rate_hparam = ['constant', 'invscaling']\n",
    "\n",
    "#hidden_layer_sizes_hparam = [[100,]]\n",
    "#activation_hparam = ['relu']\n",
    "#solver_hparam = ['adam']\n",
    "#alpha_hparam = [.0001]\n",
    "#learn_rate_hparam = ['invscaling']\n",
    "\n",
    "m1v1_nn_grd = {'nn__hidden_layer_sizes': hidden_layer_sizes_hparam,\n",
    "            'nn__activation': activation_hparam,\n",
    "            'nn__solver': solver_hparam,\n",
    "            'nn__alpha': alpha_hparam,\n",
    "            'nn__learning_rate': learn_rate_hparam\n",
    "           }\n",
    "\n",
    "m1v1_nn = GridSearchCV(m1v1_nn_pip,\n",
    "                       m1v1_nn_grd,\n",
    "                       scoring='neg_root_mean_squared_error',\n",
    "                       n_jobs=2,\n",
    "                       refit=True,\n",
    "                       verbose=2)\n",
    "\n",
    "m1v1_nn.fit(train_x01, train_y01)\n",
    "\n",
    "print(f'Best Estimator:\\n{m1v1_nn.best_estimator_}')\n",
    "\n",
    "print(pd.DataFrame(m1v1_nn.cv_results_))\n",
    "\n",
    "train_m1v1_nn_y01_pred = m1v1_nn.predict(train_x01)\n",
    "print(train_m1v1_nn_y01_pred)\n",
    "\n",
    "test_m1v1_nn_y01_pred = m1v1_nn.predict(test_x01)\n",
    "print(test_m1v1_nn_y01_pred)\n",
    "\n",
    "# Display evaluation metrics\n",
    "# R-sq\n",
    "train_m1v1_nn_r2 = r2_score(train_y01, train_m1v1_nn_y01_pred)\n",
    "test_m1v1_nn_r2 = r2_score(test_y01, test_m1v1_nn_y01_pred)\n",
    "\n",
    "print(f'Train R-sq:\\n{train_m1v1_nn_r2}')\n",
    "print(f'Test R-sq:\\n{test_m1v1_nn_r2}')\n",
    "\n",
    "# RMSE\n",
    "train_m1v1_nn_rmse = mean_squared_error(train_y01, train_m1v1_nn_y01_pred, squared=False)\n",
    "test_m1v1_nn_rmse = mean_squared_error(test_y01, test_m1v1_nn_y01_pred, squared=False)\n",
    "\n",
    "print(f'Train RMSE:\\n{train_m1v1_nn_rmse}')\n",
    "print(f'Test RMSE:\\n{test_m1v1_nn_rmse}')\n",
    "\n",
    "# End timer script\n",
    "end_time = dt.datetime.today()\n",
    "time_elapse = end_time - start_time\n",
    "print(f'End Time = {end_time}')\n",
    "print(f'Script Time = {time_elapse}')"
   ]
  },
  {
   "cell_type": "code",
   "execution_count": 9,
   "id": "f60a9861-cbb4-4044-89a9-9b5683cb5cda",
   "metadata": {},
   "outputs": [],
   "source": [
    "s3_m1v1_nn_pqt_base_path = f\"../models\"\n",
    "\n",
    "if not os.path.exists(s3_m1v1_nn_pqt_base_path):\n",
    "    os.makedirs(s3_m1v1_nn_pqt_base_path)\n",
    "\n",
    "s3_m1v1_nn_pqt_path = os.path.join(s3_m1v1_nn_pqt_base_path,\n",
    "                                   'm1v1_nn.parquet')\n",
    "\n",
    "# save the model to disk using joblib\n",
    "joblib.dump(m1v1_nn,\n",
    "            s3_m1v1_nn_pqt_path)\n",
    "\n",
    "# load the saved model from disk using joblib\n",
    "m1v1_nn_fitted = joblib.load(s3_m1v1_nn_pqt_path)"
   ]
  },
  {
   "cell_type": "code",
   "execution_count": 10,
   "id": "7eb8ef45-fcb8-45cc-b019-95d7077bbeb0",
   "metadata": {
    "tags": []
   },
   "outputs": [],
   "source": [
    "# specify the S3 bucket and key where you want to save the model\n",
    "m1v1_nn_key_name = 'team_8_data/models/m1v1_nn.parquet'\n",
    "\n",
    "# save the model to an in-memory buffer\n",
    "buffer = BytesIO()\n",
    "joblib.dump(m1v1_nn, buffer)\n",
    "\n",
    "# upload the buffer to S3\n",
    "buffer.seek(0)\n",
    "s3.upload_fileobj(buffer, def_bucket, m1v1_nn_key_name)\n",
    "\n",
    "# load the saved model from S3\n",
    "#buffer = BytesIO()\n",
    "#s3.download_fileobj(def_bucket, m1v1_nn_key_name, buffer)\n",
    "#buffer.seek(0)\n",
    "#m1v1_nn_fitted = joblib.load(buffer)"
   ]
  },
  {
   "cell_type": "markdown",
   "id": "bf825858-d3cc-45a7-926a-554144059c73",
   "metadata": {},
   "source": [
    "### Lasso - Using `GridSearchCV`"
   ]
  },
  {
   "cell_type": "code",
   "execution_count": 11,
   "id": "2738b762-9315-4768-ad58-bcbc5d2e111c",
   "metadata": {
    "tags": []
   },
   "outputs": [
    {
     "name": "stdout",
     "output_type": "stream",
     "text": [
      "Fitting 5 folds for each of 12 candidates, totalling 60 fits\n"
     ]
    },
    {
     "name": "stderr",
     "output_type": "stream",
     "text": [
      "[Parallel(n_jobs=2)]: Using backend LokyBackend with 2 concurrent workers.\n",
      "[Parallel(n_jobs=2)]: Done  37 tasks      | elapsed:   15.4s\n",
      "[Parallel(n_jobs=2)]: Done  60 out of  60 | elapsed:   18.6s finished\n"
     ]
    },
    {
     "name": "stdout",
     "output_type": "stream",
     "text": [
      "Best Estimator:\n",
      "Pipeline(memory=None,\n",
      "         steps=[('si',\n",
      "                 SimpleImputer(add_indicator=False, copy=True, fill_value=None,\n",
      "                               missing_values=nan, strategy='median',\n",
      "                               verbose=0)),\n",
      "                ('ss',\n",
      "                 StandardScaler(copy=True, with_mean=True, with_std=True)),\n",
      "                ('ls',\n",
      "                 Lasso(alpha=0.01, copy_X=True, fit_intercept=True,\n",
      "                       max_iter=1000, normalize=False, positive=False,\n",
      "                       precompute=False, random_state=1699, selection='random',\n",
      "                       tol=0.0001, warm_start=False))],\n",
      "         verbose=False)\n",
      "Coefficients:\n",
      "[-0.04577277  1.16271418  0.         -1.02188478  1.13824362 -0.\n",
      " -0.          0.          0.02926365 -0.         -0.02410061 -0.\n",
      "  0.0119936  -0.         -0.          0.         -0.          2.92896198\n",
      "  2.50108088  5.60793621  1.40158242 -2.34312552 -1.18956973 -0.33823673\n",
      " -1.36580852 -3.47373119 -6.79346566  0.12910576  0.20836013 -0.04815633\n",
      " -0.51852762  2.15046121  0.72949565 -0.44586008  0.         -1.47779594\n",
      " -0.48313045  0.          1.5401948   0.49112884  0.56203366 -0.72541635\n",
      " -8.16315562  0.4061263  -1.28557315  0.46768905  0.73587444  1.62060149]\n",
      "    mean_fit_time  std_fit_time  mean_score_time  std_score_time  \\\n",
      "0        1.052945      0.123997         0.011520        0.003593   \n",
      "1        1.582911      0.142715         0.011213        0.001766   \n",
      "2        0.469113      0.017397         0.008977        0.001896   \n",
      "3        0.837726      0.174566         0.010419        0.000757   \n",
      "4        0.426905      0.019520         0.008734        0.001197   \n",
      "5        1.235994      0.475734         0.010319        0.001319   \n",
      "6        0.293249      0.022296         0.009530        0.000741   \n",
      "7        0.299760      0.004495         0.010051        0.001329   \n",
      "8        0.247001      0.002456         0.010419        0.001292   \n",
      "9        0.269335      0.010757         0.009680        0.001640   \n",
      "10       0.237643      0.003130         0.010786        0.000442   \n",
      "11       0.222146      0.029867         0.009301        0.001507   \n",
      "\n",
      "   param_ls__alpha param_ls__selection  \\\n",
      "0             0.01              cyclic   \n",
      "1             0.01              random   \n",
      "2             0.05              cyclic   \n",
      "3             0.05              random   \n",
      "4              0.1              cyclic   \n",
      "5              0.1              random   \n",
      "6              0.5              cyclic   \n",
      "7              0.5              random   \n",
      "8                1              cyclic   \n",
      "9                1              random   \n",
      "10               2              cyclic   \n",
      "11               2              random   \n",
      "\n",
      "                                            params  split0_test_score  \\\n",
      "0   {'ls__alpha': 0.01, 'ls__selection': 'cyclic'}         -11.378791   \n",
      "1   {'ls__alpha': 0.01, 'ls__selection': 'random'}         -11.378656   \n",
      "2   {'ls__alpha': 0.05, 'ls__selection': 'cyclic'}         -11.381011   \n",
      "3   {'ls__alpha': 0.05, 'ls__selection': 'random'}         -11.380911   \n",
      "4    {'ls__alpha': 0.1, 'ls__selection': 'cyclic'}         -11.396508   \n",
      "5    {'ls__alpha': 0.1, 'ls__selection': 'random'}         -11.396574   \n",
      "6    {'ls__alpha': 0.5, 'ls__selection': 'cyclic'}         -11.806394   \n",
      "7    {'ls__alpha': 0.5, 'ls__selection': 'random'}         -11.806288   \n",
      "8      {'ls__alpha': 1, 'ls__selection': 'cyclic'}         -12.008540   \n",
      "9      {'ls__alpha': 1, 'ls__selection': 'random'}         -12.008700   \n",
      "10     {'ls__alpha': 2, 'ls__selection': 'cyclic'}         -12.496541   \n",
      "11     {'ls__alpha': 2, 'ls__selection': 'random'}         -12.496534   \n",
      "\n",
      "    split1_test_score  split2_test_score  split3_test_score  \\\n",
      "0          -11.391392         -11.411124         -11.506008   \n",
      "1          -11.391387         -11.411096         -11.505527   \n",
      "2          -11.384965         -11.423042         -11.519926   \n",
      "3          -11.384860         -11.423229         -11.520242   \n",
      "4          -11.408320         -11.450277         -11.549378   \n",
      "5          -11.408500         -11.450586         -11.550226   \n",
      "6          -11.866156         -11.935607         -12.014084   \n",
      "7          -11.866340         -11.935859         -12.014298   \n",
      "8          -12.112724         -12.186260         -12.226056   \n",
      "9          -12.112880         -12.186494         -12.226203   \n",
      "10         -12.607476         -12.682111         -12.710059   \n",
      "11         -12.607472         -12.682084         -12.710063   \n",
      "\n",
      "    split4_test_score  mean_test_score  std_test_score  rank_test_score  \n",
      "0          -11.386542       -11.414771        0.046852                2  \n",
      "1          -11.386605       -11.414654        0.046679                1  \n",
      "2          -11.395211       -11.420831        0.051678                3  \n",
      "3          -11.395449       -11.420938        0.051807                4  \n",
      "4          -11.417847       -11.444466        0.055417                5  \n",
      "5          -11.418167       -11.444811        0.055679                6  \n",
      "6          -11.850882       -11.894625        0.072744                7  \n",
      "7          -11.851056       -11.894768        0.072833                8  \n",
      "8          -12.081994       -12.123115        0.076825                9  \n",
      "9          -12.082092       -12.123274        0.076840               10  \n",
      "10         -12.596496       -12.618537        0.074712               11  \n",
      "11         -12.596565       -12.618544        0.074706               12  \n",
      "[ 1.00911181  2.11578766 20.65155599 ...  5.04334797 20.69816068\n",
      "  9.29921887]\n",
      "[43.29747575  3.29284246 36.5523188  ... -0.46896614  1.17581945\n",
      "  3.2682078 ]\n",
      "Train R-sq:\n",
      "0.6369222890584766\n",
      "Test R-sq:\n",
      "0.6479588299151445\n",
      "Train RMSE:\n",
      "11.389371493470017\n",
      "Test RMSE:\n",
      "11.339095967537917\n",
      "End Time = 2023-04-12 20:05:51.992239\n",
      "Script Time = 0:00:19.690880\n"
     ]
    }
   ],
   "source": [
    "# Start timer script\n",
    "start_time = dt.datetime.today()\n",
    "\n",
    "# Citation: Hochberg, 2018; Shanmukh, 2021\n",
    "m2v1_ls_pip = Pipeline([('si', SimpleImputer(strategy='median')),\n",
    "                        ('ss', StandardScaler()),\n",
    "                        ('ls', Lasso(random_state=1699))])\n",
    "\n",
    "alpha_hparam = [.01, .05, .1, .5, 1, 2]\n",
    "selection_hparam = ['cyclic', 'random']\n",
    "\n",
    "\n",
    "m2v1_ls_grd = {'ls__alpha': alpha_hparam,\n",
    "               'ls__selection': selection_hparam\n",
    "           }\n",
    "\n",
    "m2v1_ls = GridSearchCV(m2v1_ls_pip,\n",
    "                       m2v1_ls_grd,\n",
    "                       scoring='neg_root_mean_squared_error',\n",
    "                       n_jobs=2,\n",
    "                       refit=True,\n",
    "                       verbose=2)\n",
    "\n",
    "m2v1_ls.fit(train_x01, train_y01)\n",
    "\n",
    "print(f'Best Estimator:\\n{m2v1_ls.best_estimator_}')\n",
    "print(f'Coefficients:\\n{m2v1_ls.best_estimator_.named_steps[\"ls\"].coef_}')\n",
    "\n",
    "print(pd.DataFrame(m2v1_ls.cv_results_))\n",
    "\n",
    "train_m2v1_ls_y01_pred = m2v1_ls.predict(train_x01)\n",
    "print(train_m2v1_ls_y01_pred)\n",
    "\n",
    "test_m2v1_ls_y01_pred = m2v1_ls.predict(test_x01)\n",
    "print(test_m2v1_ls_y01_pred)\n",
    "\n",
    "# Display evaluation metrics\n",
    "# R-sq\n",
    "train_m2v1_ls_r2 = r2_score(train_y01, train_m2v1_ls_y01_pred)\n",
    "test_m2v1_ls_r2 = r2_score(test_y01, test_m2v1_ls_y01_pred)\n",
    "\n",
    "print(f'Train R-sq:\\n{train_m2v1_ls_r2}')\n",
    "print(f'Test R-sq:\\n{test_m2v1_ls_r2}')\n",
    "\n",
    "# RMSE\n",
    "train_m2v1_ls_rmse = mean_squared_error(train_y01, train_m2v1_ls_y01_pred, squared=False)\n",
    "test_m2v1_ls_rmse = mean_squared_error(test_y01, test_m2v1_ls_y01_pred, squared=False)\n",
    "\n",
    "print(f'Train RMSE:\\n{train_m2v1_ls_rmse}')\n",
    "print(f'Test RMSE:\\n{test_m2v1_ls_rmse}')\n",
    "\n",
    "# End timer script\n",
    "end_time = dt.datetime.today()\n",
    "time_elapse = end_time - start_time\n",
    "print(f'End Time = {end_time}')\n",
    "print(f'Script Time = {time_elapse}')"
   ]
  },
  {
   "cell_type": "code",
   "execution_count": 12,
   "id": "3f56e4e9-ab8a-42d1-89a0-e1795c560afa",
   "metadata": {
    "tags": []
   },
   "outputs": [
    {
     "data": {
      "text/html": [
       "<div>\n",
       "<style scoped>\n",
       "    .dataframe tbody tr th:only-of-type {\n",
       "        vertical-align: middle;\n",
       "    }\n",
       "\n",
       "    .dataframe tbody tr th {\n",
       "        vertical-align: top;\n",
       "    }\n",
       "\n",
       "    .dataframe thead th {\n",
       "        text-align: right;\n",
       "    }\n",
       "</style>\n",
       "<table border=\"1\" class=\"dataframe\">\n",
       "  <thead>\n",
       "    <tr style=\"text-align: right;\">\n",
       "      <th></th>\n",
       "      <th>0</th>\n",
       "      <th>0</th>\n",
       "    </tr>\n",
       "  </thead>\n",
       "  <tbody>\n",
       "    <tr>\n",
       "      <th>0</th>\n",
       "      <td>borough_bronx</td>\n",
       "      <td>-0.045773</td>\n",
       "    </tr>\n",
       "    <tr>\n",
       "      <th>1</th>\n",
       "      <td>borough_brooklyn</td>\n",
       "      <td>1.162714</td>\n",
       "    </tr>\n",
       "    <tr>\n",
       "      <th>2</th>\n",
       "      <td>borough_manhattan</td>\n",
       "      <td>0.000000</td>\n",
       "    </tr>\n",
       "    <tr>\n",
       "      <th>3</th>\n",
       "      <td>borough_queens</td>\n",
       "      <td>-1.021885</td>\n",
       "    </tr>\n",
       "    <tr>\n",
       "      <th>4</th>\n",
       "      <td>borough_staten island</td>\n",
       "      <td>1.138244</td>\n",
       "    </tr>\n",
       "    <tr>\n",
       "      <th>5</th>\n",
       "      <td>relative_data_year_-4</td>\n",
       "      <td>-0.000000</td>\n",
       "    </tr>\n",
       "    <tr>\n",
       "      <th>6</th>\n",
       "      <td>relative_data_year_-3</td>\n",
       "      <td>-0.000000</td>\n",
       "    </tr>\n",
       "    <tr>\n",
       "      <th>7</th>\n",
       "      <td>relative_data_year_-2</td>\n",
       "      <td>0.000000</td>\n",
       "    </tr>\n",
       "    <tr>\n",
       "      <th>8</th>\n",
       "      <td>relative_data_year_-1</td>\n",
       "      <td>0.029264</td>\n",
       "    </tr>\n",
       "    <tr>\n",
       "      <th>9</th>\n",
       "      <td>relative_data_year_0</td>\n",
       "      <td>-0.000000</td>\n",
       "    </tr>\n",
       "    <tr>\n",
       "      <th>10</th>\n",
       "      <td>complaint_type_FELONY</td>\n",
       "      <td>-0.024101</td>\n",
       "    </tr>\n",
       "    <tr>\n",
       "      <th>11</th>\n",
       "      <td>complaint_type_MISDEMEANOR</td>\n",
       "      <td>-0.000000</td>\n",
       "    </tr>\n",
       "    <tr>\n",
       "      <th>12</th>\n",
       "      <td>complaint_type_VIOLATION</td>\n",
       "      <td>0.011994</td>\n",
       "    </tr>\n",
       "    <tr>\n",
       "      <th>13</th>\n",
       "      <td>annual_evictions_x_borough</td>\n",
       "      <td>-0.000000</td>\n",
       "    </tr>\n",
       "    <tr>\n",
       "      <th>14</th>\n",
       "      <td>annual_complaint_counts</td>\n",
       "      <td>-0.000000</td>\n",
       "    </tr>\n",
       "    <tr>\n",
       "      <th>15</th>\n",
       "      <td>annual_grad_n</td>\n",
       "      <td>0.000000</td>\n",
       "    </tr>\n",
       "    <tr>\n",
       "      <th>16</th>\n",
       "      <td>annual_dropped_out_n</td>\n",
       "      <td>-0.000000</td>\n",
       "    </tr>\n",
       "    <tr>\n",
       "      <th>17</th>\n",
       "      <td>totalpop</td>\n",
       "      <td>2.928962</td>\n",
       "    </tr>\n",
       "    <tr>\n",
       "      <th>18</th>\n",
       "      <td>men</td>\n",
       "      <td>2.501081</td>\n",
       "    </tr>\n",
       "    <tr>\n",
       "      <th>19</th>\n",
       "      <td>women</td>\n",
       "      <td>5.607936</td>\n",
       "    </tr>\n",
       "    <tr>\n",
       "      <th>20</th>\n",
       "      <td>hispanic</td>\n",
       "      <td>1.401582</td>\n",
       "    </tr>\n",
       "    <tr>\n",
       "      <th>21</th>\n",
       "      <td>white</td>\n",
       "      <td>-2.343126</td>\n",
       "    </tr>\n",
       "    <tr>\n",
       "      <th>22</th>\n",
       "      <td>black</td>\n",
       "      <td>-1.189570</td>\n",
       "    </tr>\n",
       "    <tr>\n",
       "      <th>23</th>\n",
       "      <td>native</td>\n",
       "      <td>-0.338237</td>\n",
       "    </tr>\n",
       "    <tr>\n",
       "      <th>24</th>\n",
       "      <td>asian</td>\n",
       "      <td>-1.365809</td>\n",
       "    </tr>\n",
       "    <tr>\n",
       "      <th>25</th>\n",
       "      <td>citizen</td>\n",
       "      <td>-3.473731</td>\n",
       "    </tr>\n",
       "    <tr>\n",
       "      <th>26</th>\n",
       "      <td>income</td>\n",
       "      <td>-6.793466</td>\n",
       "    </tr>\n",
       "    <tr>\n",
       "      <th>27</th>\n",
       "      <td>incomeerr</td>\n",
       "      <td>0.129106</td>\n",
       "    </tr>\n",
       "    <tr>\n",
       "      <th>28</th>\n",
       "      <td>incomepercap</td>\n",
       "      <td>0.208360</td>\n",
       "    </tr>\n",
       "    <tr>\n",
       "      <th>29</th>\n",
       "      <td>incomepercaperr</td>\n",
       "      <td>-0.048156</td>\n",
       "    </tr>\n",
       "    <tr>\n",
       "      <th>30</th>\n",
       "      <td>professional</td>\n",
       "      <td>-0.518528</td>\n",
       "    </tr>\n",
       "    <tr>\n",
       "      <th>31</th>\n",
       "      <td>service</td>\n",
       "      <td>2.150461</td>\n",
       "    </tr>\n",
       "    <tr>\n",
       "      <th>32</th>\n",
       "      <td>office</td>\n",
       "      <td>0.729496</td>\n",
       "    </tr>\n",
       "    <tr>\n",
       "      <th>33</th>\n",
       "      <td>construction</td>\n",
       "      <td>-0.445860</td>\n",
       "    </tr>\n",
       "    <tr>\n",
       "      <th>34</th>\n",
       "      <td>production</td>\n",
       "      <td>0.000000</td>\n",
       "    </tr>\n",
       "    <tr>\n",
       "      <th>35</th>\n",
       "      <td>drive</td>\n",
       "      <td>-1.477796</td>\n",
       "    </tr>\n",
       "    <tr>\n",
       "      <th>36</th>\n",
       "      <td>carpool</td>\n",
       "      <td>-0.483130</td>\n",
       "    </tr>\n",
       "    <tr>\n",
       "      <th>37</th>\n",
       "      <td>transit</td>\n",
       "      <td>0.000000</td>\n",
       "    </tr>\n",
       "    <tr>\n",
       "      <th>38</th>\n",
       "      <td>walk</td>\n",
       "      <td>1.540195</td>\n",
       "    </tr>\n",
       "    <tr>\n",
       "      <th>39</th>\n",
       "      <td>othertransp</td>\n",
       "      <td>0.491129</td>\n",
       "    </tr>\n",
       "    <tr>\n",
       "      <th>40</th>\n",
       "      <td>workathome</td>\n",
       "      <td>0.562034</td>\n",
       "    </tr>\n",
       "    <tr>\n",
       "      <th>41</th>\n",
       "      <td>meancommute</td>\n",
       "      <td>-0.725416</td>\n",
       "    </tr>\n",
       "    <tr>\n",
       "      <th>42</th>\n",
       "      <td>employed</td>\n",
       "      <td>-8.163156</td>\n",
       "    </tr>\n",
       "    <tr>\n",
       "      <th>43</th>\n",
       "      <td>privatework</td>\n",
       "      <td>0.406126</td>\n",
       "    </tr>\n",
       "    <tr>\n",
       "      <th>44</th>\n",
       "      <td>publicwork</td>\n",
       "      <td>-1.285573</td>\n",
       "    </tr>\n",
       "    <tr>\n",
       "      <th>45</th>\n",
       "      <td>selfemployed</td>\n",
       "      <td>0.467689</td>\n",
       "    </tr>\n",
       "    <tr>\n",
       "      <th>46</th>\n",
       "      <td>familywork</td>\n",
       "      <td>0.735874</td>\n",
       "    </tr>\n",
       "    <tr>\n",
       "      <th>47</th>\n",
       "      <td>unemployment</td>\n",
       "      <td>1.620601</td>\n",
       "    </tr>\n",
       "    <tr>\n",
       "      <th>48</th>\n",
       "      <td>intercept</td>\n",
       "      <td>24.475273</td>\n",
       "    </tr>\n",
       "  </tbody>\n",
       "</table>\n",
       "</div>"
      ],
      "text/plain": [
       "                             0          0\n",
       "0                borough_bronx  -0.045773\n",
       "1             borough_brooklyn   1.162714\n",
       "2            borough_manhattan   0.000000\n",
       "3               borough_queens  -1.021885\n",
       "4        borough_staten island   1.138244\n",
       "5        relative_data_year_-4  -0.000000\n",
       "6        relative_data_year_-3  -0.000000\n",
       "7        relative_data_year_-2   0.000000\n",
       "8        relative_data_year_-1   0.029264\n",
       "9         relative_data_year_0  -0.000000\n",
       "10       complaint_type_FELONY  -0.024101\n",
       "11  complaint_type_MISDEMEANOR  -0.000000\n",
       "12    complaint_type_VIOLATION   0.011994\n",
       "13  annual_evictions_x_borough  -0.000000\n",
       "14     annual_complaint_counts  -0.000000\n",
       "15               annual_grad_n   0.000000\n",
       "16        annual_dropped_out_n  -0.000000\n",
       "17                    totalpop   2.928962\n",
       "18                         men   2.501081\n",
       "19                       women   5.607936\n",
       "20                    hispanic   1.401582\n",
       "21                       white  -2.343126\n",
       "22                       black  -1.189570\n",
       "23                      native  -0.338237\n",
       "24                       asian  -1.365809\n",
       "25                     citizen  -3.473731\n",
       "26                      income  -6.793466\n",
       "27                   incomeerr   0.129106\n",
       "28                incomepercap   0.208360\n",
       "29             incomepercaperr  -0.048156\n",
       "30                professional  -0.518528\n",
       "31                     service   2.150461\n",
       "32                      office   0.729496\n",
       "33                construction  -0.445860\n",
       "34                  production   0.000000\n",
       "35                       drive  -1.477796\n",
       "36                     carpool  -0.483130\n",
       "37                     transit   0.000000\n",
       "38                        walk   1.540195\n",
       "39                 othertransp   0.491129\n",
       "40                  workathome   0.562034\n",
       "41                 meancommute  -0.725416\n",
       "42                    employed  -8.163156\n",
       "43                 privatework   0.406126\n",
       "44                  publicwork  -1.285573\n",
       "45                selfemployed   0.467689\n",
       "46                  familywork   0.735874\n",
       "47                unemployment   1.620601\n",
       "48                   intercept  24.475273"
      ]
     },
     "metadata": {},
     "output_type": "display_data"
    }
   ],
   "source": [
    "coef_intercept = np.hstack((m2v1_ls.best_estimator_.named_steps[\"ls\"].coef_,\n",
    "                            m2v1_ls.best_estimator_.named_steps[\"ls\"].intercept_))\n",
    "#print(coef_intercept)\n",
    "\n",
    "coef_intercept_df01 = pd.DataFrame(coef_intercept)\n",
    "#display(coef_intercept_df01)\n",
    "\n",
    "train_x01_col_names = list(train_x01.columns)\n",
    "train_x01_col_names.append('intercept')\n",
    "\n",
    "train_x01_col_names_df01 = pd.DataFrame(train_x01_col_names)\n",
    "#display(train_x01_col_names_df01)\n",
    "\n",
    "model_params = pd.concat([train_x01_col_names_df01, coef_intercept_df01], axis=1)\n",
    "display(model_params)"
   ]
  },
  {
   "cell_type": "code",
   "execution_count": 13,
   "id": "5d8e5924-3c2f-46bb-9138-e2d044dcc2a1",
   "metadata": {},
   "outputs": [],
   "source": [
    "# specify the S3 bucket and key where you want to save the model\n",
    "m2v1_ls_key_name = 'team_8_data/models/m2v1_ls.parquet'\n",
    "\n",
    "# save the model to an in-memory buffer\n",
    "buffer = BytesIO()\n",
    "joblib.dump(m2v1_ls, buffer)\n",
    "\n",
    "# upload the buffer to S3\n",
    "buffer.seek(0)\n",
    "s3.upload_fileobj(buffer, def_bucket, m2v1_ls_key_name)\n",
    "\n",
    "# load the saved model from S3\n",
    "#buffer = BytesIO()\n",
    "#s3.download_fileobj(def_bucket, m2v1_ls_key_name, buffer)\n",
    "#buffer.seek(0)\n",
    "#m2v1_ls_fitted = joblib.load(buffer)"
   ]
  },
  {
   "cell_type": "markdown",
   "id": "9ae9c65c-0f30-4747-9628-fa48e1b17e63",
   "metadata": {},
   "source": [
    "### Lasso - Using `BayesSearchCV`"
   ]
  },
  {
   "cell_type": "code",
   "execution_count": 14,
   "id": "77e2c244-ed94-487d-9ef1-c76a5447e30c",
   "metadata": {
    "tags": []
   },
   "outputs": [
    {
     "name": "stdout",
     "output_type": "stream",
     "text": [
      "Fitting 5 folds for each of 1 candidates, totalling 5 fits\n"
     ]
    },
    {
     "name": "stderr",
     "output_type": "stream",
     "text": [
      "[Parallel(n_jobs=2)]: Using backend LokyBackend with 2 concurrent workers.\n",
      "[Parallel(n_jobs=2)]: Done   5 out of   5 | elapsed:    2.4s remaining:    0.0s\n",
      "[Parallel(n_jobs=2)]: Done   5 out of   5 | elapsed:    2.4s finished\n",
      "[Parallel(n_jobs=2)]: Using backend LokyBackend with 2 concurrent workers.\n"
     ]
    },
    {
     "name": "stdout",
     "output_type": "stream",
     "text": [
      "Fitting 5 folds for each of 1 candidates, totalling 5 fits\n"
     ]
    },
    {
     "name": "stderr",
     "output_type": "stream",
     "text": [
      "[Parallel(n_jobs=2)]: Done   5 out of   5 | elapsed:    1.2s remaining:    0.0s\n",
      "[Parallel(n_jobs=2)]: Done   5 out of   5 | elapsed:    1.2s finished\n",
      "[Parallel(n_jobs=2)]: Using backend LokyBackend with 2 concurrent workers.\n"
     ]
    },
    {
     "name": "stdout",
     "output_type": "stream",
     "text": [
      "Fitting 5 folds for each of 1 candidates, totalling 5 fits\n"
     ]
    },
    {
     "name": "stderr",
     "output_type": "stream",
     "text": [
      "[Parallel(n_jobs=2)]: Done   5 out of   5 | elapsed:    0.7s remaining:    0.0s\n",
      "[Parallel(n_jobs=2)]: Done   5 out of   5 | elapsed:    0.7s finished\n",
      "[Parallel(n_jobs=2)]: Using backend LokyBackend with 2 concurrent workers.\n"
     ]
    },
    {
     "name": "stdout",
     "output_type": "stream",
     "text": [
      "Fitting 5 folds for each of 1 candidates, totalling 5 fits\n"
     ]
    },
    {
     "name": "stderr",
     "output_type": "stream",
     "text": [
      "[Parallel(n_jobs=2)]: Done   5 out of   5 | elapsed:    1.3s remaining:    0.0s\n",
      "[Parallel(n_jobs=2)]: Done   5 out of   5 | elapsed:    1.3s finished\n",
      "[Parallel(n_jobs=2)]: Using backend LokyBackend with 2 concurrent workers.\n"
     ]
    },
    {
     "name": "stdout",
     "output_type": "stream",
     "text": [
      "Fitting 5 folds for each of 1 candidates, totalling 5 fits\n"
     ]
    },
    {
     "name": "stderr",
     "output_type": "stream",
     "text": [
      "[Parallel(n_jobs=2)]: Done   5 out of   5 | elapsed:    0.7s remaining:    0.0s\n",
      "[Parallel(n_jobs=2)]: Done   5 out of   5 | elapsed:    0.7s finished\n",
      "[Parallel(n_jobs=2)]: Using backend LokyBackend with 2 concurrent workers.\n"
     ]
    },
    {
     "name": "stdout",
     "output_type": "stream",
     "text": [
      "Fitting 5 folds for each of 1 candidates, totalling 5 fits\n"
     ]
    },
    {
     "name": "stderr",
     "output_type": "stream",
     "text": [
      "[Parallel(n_jobs=2)]: Done   5 out of   5 | elapsed:    9.2s remaining:    0.0s\n",
      "[Parallel(n_jobs=2)]: Done   5 out of   5 | elapsed:    9.2s finished\n",
      "[Parallel(n_jobs=2)]: Using backend LokyBackend with 2 concurrent workers.\n"
     ]
    },
    {
     "name": "stdout",
     "output_type": "stream",
     "text": [
      "Fitting 5 folds for each of 1 candidates, totalling 5 fits\n"
     ]
    },
    {
     "name": "stderr",
     "output_type": "stream",
     "text": [
      "[Parallel(n_jobs=2)]: Done   5 out of   5 | elapsed:    1.5s remaining:    0.0s\n",
      "[Parallel(n_jobs=2)]: Done   5 out of   5 | elapsed:    1.5s finished\n",
      "[Parallel(n_jobs=2)]: Using backend LokyBackend with 2 concurrent workers.\n"
     ]
    },
    {
     "name": "stdout",
     "output_type": "stream",
     "text": [
      "Fitting 5 folds for each of 1 candidates, totalling 5 fits\n"
     ]
    },
    {
     "name": "stderr",
     "output_type": "stream",
     "text": [
      "[Parallel(n_jobs=2)]: Done   5 out of   5 | elapsed:    1.2s remaining:    0.0s\n",
      "[Parallel(n_jobs=2)]: Done   5 out of   5 | elapsed:    1.2s finished\n",
      "[Parallel(n_jobs=2)]: Using backend LokyBackend with 2 concurrent workers.\n"
     ]
    },
    {
     "name": "stdout",
     "output_type": "stream",
     "text": [
      "Fitting 5 folds for each of 1 candidates, totalling 5 fits\n"
     ]
    },
    {
     "name": "stderr",
     "output_type": "stream",
     "text": [
      "[Parallel(n_jobs=2)]: Done   5 out of   5 | elapsed:    0.8s remaining:    0.0s\n",
      "[Parallel(n_jobs=2)]: Done   5 out of   5 | elapsed:    0.8s finished\n"
     ]
    },
    {
     "name": "stdout",
     "output_type": "stream",
     "text": [
      "Fitting 5 folds for each of 1 candidates, totalling 5 fits\n"
     ]
    },
    {
     "name": "stderr",
     "output_type": "stream",
     "text": [
      "[Parallel(n_jobs=2)]: Using backend LokyBackend with 2 concurrent workers.\n",
      "[Parallel(n_jobs=2)]: Done   5 out of   5 | elapsed:    0.6s remaining:    0.0s\n",
      "[Parallel(n_jobs=2)]: Done   5 out of   5 | elapsed:    0.6s finished\n"
     ]
    },
    {
     "name": "stdout",
     "output_type": "stream",
     "text": [
      "Fitting 5 folds for each of 1 candidates, totalling 5 fits\n"
     ]
    },
    {
     "name": "stderr",
     "output_type": "stream",
     "text": [
      "[Parallel(n_jobs=2)]: Using backend LokyBackend with 2 concurrent workers.\n",
      "[Parallel(n_jobs=2)]: Done   5 out of   5 | elapsed:    0.8s remaining:    0.0s\n",
      "[Parallel(n_jobs=2)]: Done   5 out of   5 | elapsed:    0.8s finished\n"
     ]
    },
    {
     "name": "stdout",
     "output_type": "stream",
     "text": [
      "Fitting 5 folds for each of 1 candidates, totalling 5 fits\n"
     ]
    },
    {
     "name": "stderr",
     "output_type": "stream",
     "text": [
      "[Parallel(n_jobs=2)]: Using backend LokyBackend with 2 concurrent workers.\n",
      "[Parallel(n_jobs=2)]: Done   5 out of   5 | elapsed:    1.0s remaining:    0.0s\n",
      "[Parallel(n_jobs=2)]: Done   5 out of   5 | elapsed:    1.0s finished\n"
     ]
    },
    {
     "name": "stdout",
     "output_type": "stream",
     "text": [
      "Fitting 5 folds for each of 1 candidates, totalling 5 fits\n"
     ]
    },
    {
     "name": "stderr",
     "output_type": "stream",
     "text": [
      "[Parallel(n_jobs=2)]: Using backend LokyBackend with 2 concurrent workers.\n",
      "[Parallel(n_jobs=2)]: Done   5 out of   5 | elapsed:    1.1s remaining:    0.0s\n",
      "[Parallel(n_jobs=2)]: Done   5 out of   5 | elapsed:    1.1s finished\n"
     ]
    },
    {
     "name": "stdout",
     "output_type": "stream",
     "text": [
      "Fitting 5 folds for each of 1 candidates, totalling 5 fits\n"
     ]
    },
    {
     "name": "stderr",
     "output_type": "stream",
     "text": [
      "[Parallel(n_jobs=2)]: Using backend LokyBackend with 2 concurrent workers.\n",
      "[Parallel(n_jobs=2)]: Done   5 out of   5 | elapsed:    1.0s remaining:    0.0s\n",
      "[Parallel(n_jobs=2)]: Done   5 out of   5 | elapsed:    1.0s finished\n"
     ]
    },
    {
     "name": "stdout",
     "output_type": "stream",
     "text": [
      "Fitting 5 folds for each of 1 candidates, totalling 5 fits\n"
     ]
    },
    {
     "name": "stderr",
     "output_type": "stream",
     "text": [
      "[Parallel(n_jobs=2)]: Using backend LokyBackend with 2 concurrent workers.\n",
      "[Parallel(n_jobs=2)]: Done   5 out of   5 | elapsed:    1.0s remaining:    0.0s\n",
      "[Parallel(n_jobs=2)]: Done   5 out of   5 | elapsed:    1.0s finished\n"
     ]
    },
    {
     "name": "stdout",
     "output_type": "stream",
     "text": [
      "Fitting 5 folds for each of 1 candidates, totalling 5 fits\n"
     ]
    },
    {
     "name": "stderr",
     "output_type": "stream",
     "text": [
      "[Parallel(n_jobs=2)]: Using backend LokyBackend with 2 concurrent workers.\n",
      "[Parallel(n_jobs=2)]: Done   5 out of   5 | elapsed:   15.2s remaining:    0.0s\n",
      "[Parallel(n_jobs=2)]: Done   5 out of   5 | elapsed:   15.2s finished\n"
     ]
    },
    {
     "name": "stdout",
     "output_type": "stream",
     "text": [
      "Fitting 5 folds for each of 1 candidates, totalling 5 fits\n"
     ]
    },
    {
     "name": "stderr",
     "output_type": "stream",
     "text": [
      "[Parallel(n_jobs=2)]: Using backend LokyBackend with 2 concurrent workers.\n",
      "[Parallel(n_jobs=2)]: Done   5 out of   5 | elapsed:    1.0s remaining:    0.0s\n",
      "[Parallel(n_jobs=2)]: Done   5 out of   5 | elapsed:    1.0s finished\n"
     ]
    },
    {
     "name": "stdout",
     "output_type": "stream",
     "text": [
      "Fitting 5 folds for each of 1 candidates, totalling 5 fits\n"
     ]
    },
    {
     "name": "stderr",
     "output_type": "stream",
     "text": [
      "[Parallel(n_jobs=2)]: Using backend LokyBackend with 2 concurrent workers.\n",
      "[Parallel(n_jobs=2)]: Done   5 out of   5 | elapsed:    1.1s remaining:    0.0s\n",
      "[Parallel(n_jobs=2)]: Done   5 out of   5 | elapsed:    1.1s finished\n"
     ]
    },
    {
     "name": "stdout",
     "output_type": "stream",
     "text": [
      "Fitting 5 folds for each of 1 candidates, totalling 5 fits\n"
     ]
    },
    {
     "name": "stderr",
     "output_type": "stream",
     "text": [
      "[Parallel(n_jobs=2)]: Using backend LokyBackend with 2 concurrent workers.\n",
      "[Parallel(n_jobs=2)]: Done   5 out of   5 | elapsed:   14.5s remaining:    0.0s\n",
      "[Parallel(n_jobs=2)]: Done   5 out of   5 | elapsed:   14.5s finished\n"
     ]
    },
    {
     "name": "stdout",
     "output_type": "stream",
     "text": [
      "Fitting 5 folds for each of 1 candidates, totalling 5 fits\n"
     ]
    },
    {
     "name": "stderr",
     "output_type": "stream",
     "text": [
      "[Parallel(n_jobs=2)]: Using backend LokyBackend with 2 concurrent workers.\n",
      "[Parallel(n_jobs=2)]: Done   5 out of   5 | elapsed:    1.0s remaining:    0.0s\n",
      "[Parallel(n_jobs=2)]: Done   5 out of   5 | elapsed:    1.0s finished\n"
     ]
    },
    {
     "name": "stdout",
     "output_type": "stream",
     "text": [
      "Fitting 5 folds for each of 1 candidates, totalling 5 fits\n"
     ]
    },
    {
     "name": "stderr",
     "output_type": "stream",
     "text": [
      "[Parallel(n_jobs=2)]: Using backend LokyBackend with 2 concurrent workers.\n",
      "[Parallel(n_jobs=2)]: Done   5 out of   5 | elapsed:   26.9s remaining:    0.0s\n",
      "[Parallel(n_jobs=2)]: Done   5 out of   5 | elapsed:   26.9s finished\n"
     ]
    },
    {
     "name": "stdout",
     "output_type": "stream",
     "text": [
      "Fitting 5 folds for each of 1 candidates, totalling 5 fits\n"
     ]
    },
    {
     "name": "stderr",
     "output_type": "stream",
     "text": [
      "[Parallel(n_jobs=2)]: Using backend LokyBackend with 2 concurrent workers.\n",
      "[Parallel(n_jobs=2)]: Done   5 out of   5 | elapsed:    7.3s remaining:    0.0s\n",
      "[Parallel(n_jobs=2)]: Done   5 out of   5 | elapsed:    7.3s finished\n"
     ]
    },
    {
     "name": "stdout",
     "output_type": "stream",
     "text": [
      "Fitting 5 folds for each of 1 candidates, totalling 5 fits\n"
     ]
    },
    {
     "name": "stderr",
     "output_type": "stream",
     "text": [
      "[Parallel(n_jobs=2)]: Using backend LokyBackend with 2 concurrent workers.\n",
      "[Parallel(n_jobs=2)]: Done   5 out of   5 | elapsed:    5.6s remaining:    0.0s\n",
      "[Parallel(n_jobs=2)]: Done   5 out of   5 | elapsed:    5.6s finished\n"
     ]
    },
    {
     "name": "stdout",
     "output_type": "stream",
     "text": [
      "Fitting 5 folds for each of 1 candidates, totalling 5 fits\n"
     ]
    },
    {
     "name": "stderr",
     "output_type": "stream",
     "text": [
      "[Parallel(n_jobs=2)]: Using backend LokyBackend with 2 concurrent workers.\n",
      "[Parallel(n_jobs=2)]: Done   5 out of   5 | elapsed:    1.1s remaining:    0.0s\n",
      "[Parallel(n_jobs=2)]: Done   5 out of   5 | elapsed:    1.1s finished\n"
     ]
    },
    {
     "name": "stdout",
     "output_type": "stream",
     "text": [
      "Fitting 5 folds for each of 1 candidates, totalling 5 fits\n"
     ]
    },
    {
     "name": "stderr",
     "output_type": "stream",
     "text": [
      "[Parallel(n_jobs=2)]: Using backend LokyBackend with 2 concurrent workers.\n",
      "[Parallel(n_jobs=2)]: Done   5 out of   5 | elapsed:    1.3s remaining:    0.0s\n",
      "[Parallel(n_jobs=2)]: Done   5 out of   5 | elapsed:    1.3s finished\n"
     ]
    },
    {
     "name": "stdout",
     "output_type": "stream",
     "text": [
      "Fitting 5 folds for each of 1 candidates, totalling 5 fits\n"
     ]
    },
    {
     "name": "stderr",
     "output_type": "stream",
     "text": [
      "[Parallel(n_jobs=2)]: Using backend LokyBackend with 2 concurrent workers.\n",
      "[Parallel(n_jobs=2)]: Done   5 out of   5 | elapsed:    3.2s remaining:    0.0s\n",
      "[Parallel(n_jobs=2)]: Done   5 out of   5 | elapsed:    3.2s finished\n"
     ]
    },
    {
     "name": "stdout",
     "output_type": "stream",
     "text": [
      "Fitting 5 folds for each of 1 candidates, totalling 5 fits\n"
     ]
    },
    {
     "name": "stderr",
     "output_type": "stream",
     "text": [
      "[Parallel(n_jobs=2)]: Using backend LokyBackend with 2 concurrent workers.\n",
      "[Parallel(n_jobs=2)]: Done   5 out of   5 | elapsed:    1.1s remaining:    0.0s\n",
      "[Parallel(n_jobs=2)]: Done   5 out of   5 | elapsed:    1.1s finished\n"
     ]
    },
    {
     "name": "stdout",
     "output_type": "stream",
     "text": [
      "Fitting 5 folds for each of 1 candidates, totalling 5 fits\n"
     ]
    },
    {
     "name": "stderr",
     "output_type": "stream",
     "text": [
      "[Parallel(n_jobs=2)]: Using backend LokyBackend with 2 concurrent workers.\n",
      "[Parallel(n_jobs=2)]: Done   5 out of   5 | elapsed:    2.8s remaining:    0.0s\n",
      "[Parallel(n_jobs=2)]: Done   5 out of   5 | elapsed:    2.8s finished\n"
     ]
    },
    {
     "name": "stdout",
     "output_type": "stream",
     "text": [
      "Fitting 5 folds for each of 1 candidates, totalling 5 fits\n"
     ]
    },
    {
     "name": "stderr",
     "output_type": "stream",
     "text": [
      "[Parallel(n_jobs=2)]: Using backend LokyBackend with 2 concurrent workers.\n",
      "[Parallel(n_jobs=2)]: Done   5 out of   5 | elapsed:    1.8s remaining:    0.0s\n",
      "[Parallel(n_jobs=2)]: Done   5 out of   5 | elapsed:    1.8s finished\n"
     ]
    },
    {
     "name": "stdout",
     "output_type": "stream",
     "text": [
      "Fitting 5 folds for each of 1 candidates, totalling 5 fits\n"
     ]
    },
    {
     "name": "stderr",
     "output_type": "stream",
     "text": [
      "[Parallel(n_jobs=2)]: Using backend LokyBackend with 2 concurrent workers.\n",
      "[Parallel(n_jobs=2)]: Done   5 out of   5 | elapsed:   15.5s remaining:    0.0s\n",
      "[Parallel(n_jobs=2)]: Done   5 out of   5 | elapsed:   15.5s finished\n"
     ]
    },
    {
     "name": "stdout",
     "output_type": "stream",
     "text": [
      "Fitting 5 folds for each of 1 candidates, totalling 5 fits\n"
     ]
    },
    {
     "name": "stderr",
     "output_type": "stream",
     "text": [
      "[Parallel(n_jobs=2)]: Using backend LokyBackend with 2 concurrent workers.\n",
      "[Parallel(n_jobs=2)]: Done   5 out of   5 | elapsed:    2.0s remaining:    0.0s\n",
      "[Parallel(n_jobs=2)]: Done   5 out of   5 | elapsed:    2.0s finished\n"
     ]
    },
    {
     "name": "stdout",
     "output_type": "stream",
     "text": [
      "Fitting 5 folds for each of 1 candidates, totalling 5 fits\n"
     ]
    },
    {
     "name": "stderr",
     "output_type": "stream",
     "text": [
      "[Parallel(n_jobs=2)]: Using backend LokyBackend with 2 concurrent workers.\n",
      "[Parallel(n_jobs=2)]: Done   5 out of   5 | elapsed:    1.0s remaining:    0.0s\n",
      "[Parallel(n_jobs=2)]: Done   5 out of   5 | elapsed:    1.0s finished\n"
     ]
    },
    {
     "name": "stdout",
     "output_type": "stream",
     "text": [
      "Fitting 5 folds for each of 1 candidates, totalling 5 fits\n"
     ]
    },
    {
     "name": "stderr",
     "output_type": "stream",
     "text": [
      "[Parallel(n_jobs=2)]: Using backend LokyBackend with 2 concurrent workers.\n",
      "[Parallel(n_jobs=2)]: Done   5 out of   5 | elapsed:    4.0s remaining:    0.0s\n",
      "[Parallel(n_jobs=2)]: Done   5 out of   5 | elapsed:    4.0s finished\n"
     ]
    },
    {
     "name": "stdout",
     "output_type": "stream",
     "text": [
      "Fitting 5 folds for each of 1 candidates, totalling 5 fits\n"
     ]
    },
    {
     "name": "stderr",
     "output_type": "stream",
     "text": [
      "[Parallel(n_jobs=2)]: Using backend LokyBackend with 2 concurrent workers.\n",
      "[Parallel(n_jobs=2)]: Done   5 out of   5 | elapsed:    1.1s remaining:    0.0s\n",
      "[Parallel(n_jobs=2)]: Done   5 out of   5 | elapsed:    1.1s finished\n"
     ]
    },
    {
     "name": "stdout",
     "output_type": "stream",
     "text": [
      "Fitting 5 folds for each of 1 candidates, totalling 5 fits\n"
     ]
    },
    {
     "name": "stderr",
     "output_type": "stream",
     "text": [
      "[Parallel(n_jobs=2)]: Using backend LokyBackend with 2 concurrent workers.\n",
      "[Parallel(n_jobs=2)]: Done   5 out of   5 | elapsed:    1.1s remaining:    0.0s\n",
      "[Parallel(n_jobs=2)]: Done   5 out of   5 | elapsed:    1.1s finished\n"
     ]
    },
    {
     "name": "stdout",
     "output_type": "stream",
     "text": [
      "Fitting 5 folds for each of 1 candidates, totalling 5 fits\n"
     ]
    },
    {
     "name": "stderr",
     "output_type": "stream",
     "text": [
      "[Parallel(n_jobs=2)]: Using backend LokyBackend with 2 concurrent workers.\n",
      "[Parallel(n_jobs=2)]: Done   5 out of   5 | elapsed:    4.4s remaining:    0.0s\n",
      "[Parallel(n_jobs=2)]: Done   5 out of   5 | elapsed:    4.4s finished\n"
     ]
    },
    {
     "name": "stdout",
     "output_type": "stream",
     "text": [
      "Fitting 5 folds for each of 1 candidates, totalling 5 fits\n"
     ]
    },
    {
     "name": "stderr",
     "output_type": "stream",
     "text": [
      "[Parallel(n_jobs=2)]: Using backend LokyBackend with 2 concurrent workers.\n",
      "[Parallel(n_jobs=2)]: Done   5 out of   5 | elapsed:    7.7s remaining:    0.0s\n",
      "[Parallel(n_jobs=2)]: Done   5 out of   5 | elapsed:    7.7s finished\n"
     ]
    },
    {
     "name": "stdout",
     "output_type": "stream",
     "text": [
      "Fitting 5 folds for each of 1 candidates, totalling 5 fits\n"
     ]
    },
    {
     "name": "stderr",
     "output_type": "stream",
     "text": [
      "[Parallel(n_jobs=2)]: Using backend LokyBackend with 2 concurrent workers.\n",
      "[Parallel(n_jobs=2)]: Done   5 out of   5 | elapsed:    1.1s remaining:    0.0s\n",
      "[Parallel(n_jobs=2)]: Done   5 out of   5 | elapsed:    1.1s finished\n"
     ]
    },
    {
     "name": "stdout",
     "output_type": "stream",
     "text": [
      "Fitting 5 folds for each of 1 candidates, totalling 5 fits\n"
     ]
    },
    {
     "name": "stderr",
     "output_type": "stream",
     "text": [
      "[Parallel(n_jobs=2)]: Using backend LokyBackend with 2 concurrent workers.\n",
      "[Parallel(n_jobs=2)]: Done   5 out of   5 | elapsed:    1.5s remaining:    0.0s\n",
      "[Parallel(n_jobs=2)]: Done   5 out of   5 | elapsed:    1.5s finished\n"
     ]
    },
    {
     "name": "stdout",
     "output_type": "stream",
     "text": [
      "Fitting 5 folds for each of 1 candidates, totalling 5 fits\n"
     ]
    },
    {
     "name": "stderr",
     "output_type": "stream",
     "text": [
      "[Parallel(n_jobs=2)]: Using backend LokyBackend with 2 concurrent workers.\n",
      "[Parallel(n_jobs=2)]: Done   5 out of   5 | elapsed:   11.2s remaining:    0.0s\n",
      "[Parallel(n_jobs=2)]: Done   5 out of   5 | elapsed:   11.2s finished\n"
     ]
    },
    {
     "name": "stdout",
     "output_type": "stream",
     "text": [
      "Fitting 5 folds for each of 1 candidates, totalling 5 fits\n"
     ]
    },
    {
     "name": "stderr",
     "output_type": "stream",
     "text": [
      "[Parallel(n_jobs=2)]: Using backend LokyBackend with 2 concurrent workers.\n",
      "[Parallel(n_jobs=2)]: Done   5 out of   5 | elapsed:    4.7s remaining:    0.0s\n",
      "[Parallel(n_jobs=2)]: Done   5 out of   5 | elapsed:    4.7s finished\n"
     ]
    },
    {
     "name": "stdout",
     "output_type": "stream",
     "text": [
      "Fitting 5 folds for each of 1 candidates, totalling 5 fits\n"
     ]
    },
    {
     "name": "stderr",
     "output_type": "stream",
     "text": [
      "[Parallel(n_jobs=2)]: Using backend LokyBackend with 2 concurrent workers.\n",
      "[Parallel(n_jobs=2)]: Done   5 out of   5 | elapsed:    2.6s remaining:    0.0s\n",
      "[Parallel(n_jobs=2)]: Done   5 out of   5 | elapsed:    2.6s finished\n"
     ]
    },
    {
     "name": "stdout",
     "output_type": "stream",
     "text": [
      "Fitting 5 folds for each of 1 candidates, totalling 5 fits\n"
     ]
    },
    {
     "name": "stderr",
     "output_type": "stream",
     "text": [
      "[Parallel(n_jobs=2)]: Using backend LokyBackend with 2 concurrent workers.\n",
      "[Parallel(n_jobs=2)]: Done   5 out of   5 | elapsed:    7.0s remaining:    0.0s\n",
      "[Parallel(n_jobs=2)]: Done   5 out of   5 | elapsed:    7.0s finished\n"
     ]
    },
    {
     "name": "stdout",
     "output_type": "stream",
     "text": [
      "Fitting 5 folds for each of 1 candidates, totalling 5 fits\n"
     ]
    },
    {
     "name": "stderr",
     "output_type": "stream",
     "text": [
      "[Parallel(n_jobs=2)]: Using backend LokyBackend with 2 concurrent workers.\n",
      "[Parallel(n_jobs=2)]: Done   5 out of   5 | elapsed:    1.0s remaining:    0.0s\n",
      "[Parallel(n_jobs=2)]: Done   5 out of   5 | elapsed:    1.0s finished\n"
     ]
    },
    {
     "name": "stdout",
     "output_type": "stream",
     "text": [
      "Fitting 5 folds for each of 1 candidates, totalling 5 fits\n"
     ]
    },
    {
     "name": "stderr",
     "output_type": "stream",
     "text": [
      "[Parallel(n_jobs=2)]: Using backend LokyBackend with 2 concurrent workers.\n",
      "[Parallel(n_jobs=2)]: Done   5 out of   5 | elapsed:   11.4s remaining:    0.0s\n",
      "[Parallel(n_jobs=2)]: Done   5 out of   5 | elapsed:   11.4s finished\n"
     ]
    },
    {
     "name": "stdout",
     "output_type": "stream",
     "text": [
      "Fitting 5 folds for each of 1 candidates, totalling 5 fits\n"
     ]
    },
    {
     "name": "stderr",
     "output_type": "stream",
     "text": [
      "[Parallel(n_jobs=2)]: Using backend LokyBackend with 2 concurrent workers.\n",
      "[Parallel(n_jobs=2)]: Done   5 out of   5 | elapsed:   16.5s remaining:    0.0s\n",
      "[Parallel(n_jobs=2)]: Done   5 out of   5 | elapsed:   16.5s finished\n"
     ]
    },
    {
     "name": "stdout",
     "output_type": "stream",
     "text": [
      "Fitting 5 folds for each of 1 candidates, totalling 5 fits\n"
     ]
    },
    {
     "name": "stderr",
     "output_type": "stream",
     "text": [
      "[Parallel(n_jobs=2)]: Using backend LokyBackend with 2 concurrent workers.\n",
      "[Parallel(n_jobs=2)]: Done   5 out of   5 | elapsed:    6.4s remaining:    0.0s\n",
      "[Parallel(n_jobs=2)]: Done   5 out of   5 | elapsed:    6.4s finished\n"
     ]
    },
    {
     "name": "stdout",
     "output_type": "stream",
     "text": [
      "Fitting 5 folds for each of 1 candidates, totalling 5 fits\n"
     ]
    },
    {
     "name": "stderr",
     "output_type": "stream",
     "text": [
      "[Parallel(n_jobs=2)]: Using backend LokyBackend with 2 concurrent workers.\n",
      "[Parallel(n_jobs=2)]: Done   5 out of   5 | elapsed:    3.5s remaining:    0.0s\n",
      "[Parallel(n_jobs=2)]: Done   5 out of   5 | elapsed:    3.5s finished\n"
     ]
    },
    {
     "name": "stdout",
     "output_type": "stream",
     "text": [
      "Fitting 5 folds for each of 1 candidates, totalling 5 fits\n"
     ]
    },
    {
     "name": "stderr",
     "output_type": "stream",
     "text": [
      "[Parallel(n_jobs=2)]: Using backend LokyBackend with 2 concurrent workers.\n",
      "[Parallel(n_jobs=2)]: Done   5 out of   5 | elapsed:    5.3s remaining:    0.0s\n",
      "[Parallel(n_jobs=2)]: Done   5 out of   5 | elapsed:    5.3s finished\n"
     ]
    },
    {
     "name": "stdout",
     "output_type": "stream",
     "text": [
      "Fitting 5 folds for each of 1 candidates, totalling 5 fits\n"
     ]
    },
    {
     "name": "stderr",
     "output_type": "stream",
     "text": [
      "[Parallel(n_jobs=2)]: Using backend LokyBackend with 2 concurrent workers.\n",
      "[Parallel(n_jobs=2)]: Done   5 out of   5 | elapsed:    1.1s remaining:    0.0s\n",
      "[Parallel(n_jobs=2)]: Done   5 out of   5 | elapsed:    1.1s finished\n"
     ]
    },
    {
     "name": "stdout",
     "output_type": "stream",
     "text": [
      "Best Estimator:\n",
      "Pipeline(memory=None,\n",
      "         steps=[('si',\n",
      "                 SimpleImputer(add_indicator=False, copy=True, fill_value=None,\n",
      "                               missing_values=nan, strategy='median',\n",
      "                               verbose=0)),\n",
      "                ('ss',\n",
      "                 StandardScaler(copy=True, with_mean=True, with_std=True)),\n",
      "                ('ls',\n",
      "                 Lasso(alpha=0.006220450686521634, copy_X=True,\n",
      "                       fit_intercept=True, max_iter=418, normalize=False,\n",
      "                       positive=False, precompute=False, random_state=1699,\n",
      "                       selection='cyclic', tol=0.0001, warm_start=False))],\n",
      "         verbose=False)\n",
      "Coefficients:\n",
      "[-0.05307537  1.18132853  0.         -1.03069013  1.13707564 -0.\n",
      " -0.          0.          0.03242181 -0.         -0.03433216  0.\n",
      "  0.         -0.         -0.01579999  0.         -0.          8.37062894\n",
      "  0.          2.74618347  1.02555378 -2.84909466 -1.69753987 -0.35564416\n",
      " -1.65383025 -3.56686855 -6.83689617  0.14243909  0.33921687 -0.11811406\n",
      " -1.74180667  1.37505585  0.31299764 -0.76659537 -0.34967353 -1.46992126\n",
      " -0.48585324  0.          1.53166242  0.48797291  0.56574465 -0.7399005\n",
      " -8.24197995  0.22054482 -1.47070786  0.36297253  0.72771489  1.61294601]\n",
      "    mean_fit_time  std_fit_time  mean_score_time  std_score_time  \\\n",
      "0        0.835501      0.149053         0.009139        0.001840   \n",
      "1        0.420948      0.067837         0.009727        0.002051   \n",
      "2        0.223677      0.046289         0.009343        0.002466   \n",
      "3        0.454562      0.085099         0.009862        0.002025   \n",
      "4        0.249901      0.037753         0.009424        0.001756   \n",
      "5        3.343774      0.832403         0.009905        0.002546   \n",
      "6        0.530674      0.103092         0.009287        0.001757   \n",
      "7        0.429288      0.081014         0.010738        0.004336   \n",
      "8        0.257585      0.035365         0.014600        0.011115   \n",
      "9        0.214348      0.036204         0.008820        0.001503   \n",
      "10       0.298320      0.075480         0.009774        0.003147   \n",
      "11       0.331703      0.059881         0.009417        0.001559   \n",
      "12       0.369360      0.067874         0.009737        0.002103   \n",
      "13       0.340685      0.062088         0.010420        0.002556   \n",
      "14       0.353591      0.067440         0.009671        0.001679   \n",
      "15       5.552872      2.530695         0.010206        0.001927   \n",
      "16       0.359710      0.064102         0.009314        0.001757   \n",
      "17       0.367053      0.070830         0.008982        0.001577   \n",
      "18       5.706229      4.043877         0.009760        0.001930   \n",
      "19       0.352005      0.066419         0.009175        0.002119   \n",
      "20       9.645736      2.056552         0.008818        0.001724   \n",
      "21       2.567431      0.477587         0.010600        0.002691   \n",
      "22       2.046640      0.377866         0.008931        0.001980   \n",
      "23       0.362482      0.067101         0.009370        0.001810   \n",
      "24       0.460327      0.100888         0.009188        0.001732   \n",
      "25       1.232965      0.334896         0.009527        0.001914   \n",
      "26       0.368374      0.068278         0.009865        0.002644   \n",
      "27       0.989759      0.160442         0.009250        0.002051   \n",
      "28       0.648619      0.119377         0.008951        0.001802   \n",
      "29       5.087281      2.352134         0.010355        0.002124   \n",
      "30       0.780546      0.162008         0.009488        0.001857   \n",
      "31       0.354379      0.063425         0.009371        0.002353   \n",
      "32       1.489109      0.260224         0.009518        0.001869   \n",
      "33       0.367717      0.065149         0.009506        0.001694   \n",
      "34       0.371503      0.061924         0.009065        0.001243   \n",
      "35       1.606104      0.292595         0.009377        0.002072   \n",
      "36       2.799339      0.525147         0.009455        0.001818   \n",
      "37       0.374446      0.068712         0.010801        0.004241   \n",
      "38       0.529105      0.081206         0.009239        0.001555   \n",
      "39       4.353039      0.864990         0.013586        0.005259   \n",
      "40       1.757087      0.307099         0.009457        0.002171   \n",
      "41       1.020772      0.233548         0.009485        0.001925   \n",
      "42       2.511367      0.473059         0.009167        0.001917   \n",
      "43       0.343395      0.063506         0.009078        0.001717   \n",
      "44       4.431400      2.766968         0.010341        0.002308   \n",
      "45       6.425993      1.973044         0.010688        0.002456   \n",
      "46       2.156777      1.315717         0.014353        0.008078   \n",
      "47       1.226577      0.190268         0.009084        0.001652   \n",
      "48       1.857028      0.282337         0.009107        0.001774   \n",
      "49       0.365546      0.062004         0.010002        0.002181   \n",
      "\n",
      "   param_ls__alpha param_ls__max_iter param_ls__selection  \\\n",
      "0          0.00622                418              cyclic   \n",
      "1         0.196056                426              cyclic   \n",
      "2        16.676426               2522              cyclic   \n",
      "3         0.047344                349              cyclic   \n",
      "4         1.023121                263              random   \n",
      "5         0.002351               2714              random   \n",
      "6         0.001473                201              random   \n",
      "7         0.126173               1146              cyclic   \n",
      "8         0.860446               2480              random   \n",
      "9         35.00802                163              cyclic   \n",
      "10          1000.0                100              random   \n",
      "11          0.2635                100              random   \n",
      "12        0.016707                100              random   \n",
      "13        0.072903                100              cyclic   \n",
      "14        0.027792                100              cyclic   \n",
      "15           0.001               5000              cyclic   \n",
      "16        0.011027                100              cyclic   \n",
      "17        0.003307                100              cyclic   \n",
      "18        0.001647               5000              cyclic   \n",
      "19        0.038341                100              random   \n",
      "20           0.001               5000              random   \n",
      "21        0.004312               5000              cyclic   \n",
      "22        0.004429               5000              random   \n",
      "23        0.007865                100              random   \n",
      "24         0.03301               5000              cyclic   \n",
      "25        0.021201               5000              random   \n",
      "26           0.001                100              cyclic   \n",
      "27        0.009064               5000              cyclic   \n",
      "28        0.014953               5000              cyclic   \n",
      "29         0.00121               5000              cyclic   \n",
      "30        0.063507               5000              random   \n",
      "31        0.051558                100              random   \n",
      "32        0.012056               5000              random   \n",
      "33        0.005024                100              random   \n",
      "34        0.002151                100              cyclic   \n",
      "35         0.00904               5000              random   \n",
      "36        0.002832               5000              random   \n",
      "37        0.001074                100              random   \n",
      "38        0.020691               5000              cyclic   \n",
      "39        0.002736               5000              cyclic   \n",
      "40        0.006285               5000              random   \n",
      "41        0.026876               5000              random   \n",
      "42         0.00351               5000              random   \n",
      "43        0.086221                100              random   \n",
      "44        0.001904               5000              cyclic   \n",
      "45        0.001915               5000              random   \n",
      "46        0.096916               5000              random   \n",
      "47        0.007394               5000              cyclic   \n",
      "48        0.005276               5000              cyclic   \n",
      "49         0.00283                100              random   \n",
      "\n",
      "   param_ls__warm_start                                             params  \\\n",
      "0                 False  {'ls__alpha': 0.006220450686521634, 'ls__max_i...   \n",
      "1                  True  {'ls__alpha': 0.19605557024981277, 'ls__max_it...   \n",
      "2                  True  {'ls__alpha': 16.676425815064455, 'ls__max_ite...   \n",
      "3                 False  {'ls__alpha': 0.0473436667118564, 'ls__max_ite...   \n",
      "4                  True  {'ls__alpha': 1.023121292115526, 'ls__max_iter...   \n",
      "5                  True  {'ls__alpha': 0.002350752855627697, 'ls__max_i...   \n",
      "6                  True  {'ls__alpha': 0.001472533272342732, 'ls__max_i...   \n",
      "7                 False  {'ls__alpha': 0.1261734055845255, 'ls__max_ite...   \n",
      "8                  True  {'ls__alpha': 0.8604462469652147, 'ls__max_ite...   \n",
      "9                  True  {'ls__alpha': 35.00801956102984, 'ls__max_iter...   \n",
      "10                 True  {'ls__alpha': 1000.0, 'ls__max_iter': 100, 'ls...   \n",
      "11                 True  {'ls__alpha': 0.2635003326419627, 'ls__max_ite...   \n",
      "12                 True  {'ls__alpha': 0.016707037591718217, 'ls__max_i...   \n",
      "13                 True  {'ls__alpha': 0.07290329371739018, 'ls__max_it...   \n",
      "14                False  {'ls__alpha': 0.027791940844845944, 'ls__max_i...   \n",
      "15                 True  {'ls__alpha': 0.001, 'ls__max_iter': 5000, 'ls...   \n",
      "16                False  {'ls__alpha': 0.011027357700682952, 'ls__max_i...   \n",
      "17                False  {'ls__alpha': 0.003306794876691521, 'ls__max_i...   \n",
      "18                False  {'ls__alpha': 0.0016473774849800314, 'ls__max_...   \n",
      "19                False  {'ls__alpha': 0.038341137896072165, 'ls__max_i...   \n",
      "20                False  {'ls__alpha': 0.001, 'ls__max_iter': 5000, 'ls...   \n",
      "21                 True  {'ls__alpha': 0.004312481112620492, 'ls__max_i...   \n",
      "22                False  {'ls__alpha': 0.0044286681091554375, 'ls__max_...   \n",
      "23                 True  {'ls__alpha': 0.007864566417328264, 'ls__max_i...   \n",
      "24                 True  {'ls__alpha': 0.033009927418395146, 'ls__max_i...   \n",
      "25                False  {'ls__alpha': 0.021200780121981778, 'ls__max_i...   \n",
      "26                False  {'ls__alpha': 0.001, 'ls__max_iter': 100, 'ls_...   \n",
      "27                 True  {'ls__alpha': 0.009063727806378156, 'ls__max_i...   \n",
      "28                False  {'ls__alpha': 0.014952585770592657, 'ls__max_i...   \n",
      "29                False  {'ls__alpha': 0.0012096014792956588, 'ls__max_...   \n",
      "30                False  {'ls__alpha': 0.06350670100510712, 'ls__max_it...   \n",
      "31                 True  {'ls__alpha': 0.051557530482916204, 'ls__max_i...   \n",
      "32                 True  {'ls__alpha': 0.012055617137293062, 'ls__max_i...   \n",
      "33                 True  {'ls__alpha': 0.005023680310265866, 'ls__max_i...   \n",
      "34                False  {'ls__alpha': 0.002150634440274795, 'ls__max_i...   \n",
      "35                False  {'ls__alpha': 0.009039904448110153, 'ls__max_i...   \n",
      "36                False  {'ls__alpha': 0.0028324839044019797, 'ls__max_...   \n",
      "37                 True  {'ls__alpha': 0.0010740365953248914, 'ls__max_...   \n",
      "38                 True  {'ls__alpha': 0.0206909392747766, 'ls__max_ite...   \n",
      "39                 True  {'ls__alpha': 0.0027357968691964843, 'ls__max_...   \n",
      "40                 True  {'ls__alpha': 0.006284703356618046, 'ls__max_i...   \n",
      "41                 True  {'ls__alpha': 0.026876465711694317, 'ls__max_i...   \n",
      "42                 True  {'ls__alpha': 0.0035099086546033645, 'ls__max_...   \n",
      "43                False  {'ls__alpha': 0.0862213016767441, 'ls__max_ite...   \n",
      "44                 True  {'ls__alpha': 0.0019042335250271738, 'ls__max_...   \n",
      "45                False  {'ls__alpha': 0.0019145233809294165, 'ls__max_...   \n",
      "46                 True  {'ls__alpha': 0.09691577581981888, 'ls__max_it...   \n",
      "47                False  {'ls__alpha': 0.007394205169801425, 'ls__max_i...   \n",
      "48                False  {'ls__alpha': 0.005276264337995777, 'ls__max_i...   \n",
      "49                 True  {'ls__alpha': 0.0028303348235380965, 'ls__max_...   \n",
      "\n",
      "    split0_test_score  split1_test_score  split2_test_score  \\\n",
      "0          -11.379031         -11.394244         -11.408633   \n",
      "1          -11.462869         -11.499133         -11.544317   \n",
      "2          -18.828273         -18.816528         -18.873667   \n",
      "3          -11.380778         -11.384255         -11.422092   \n",
      "4          -12.017095         -12.121651         -12.195573   \n",
      "5          -11.379666         -11.397854         -11.407100   \n",
      "6          -11.380696         -11.397511         -11.410111   \n",
      "7          -11.411632         -11.427788         -11.471409   \n",
      "8          -11.956118         -12.059131         -12.135191   \n",
      "9          -18.828273         -18.816528         -18.873667   \n",
      "10         -18.828273         -18.816528         -18.873667   \n",
      "11         -11.519228         -11.571583         -11.619994   \n",
      "12         -11.381014         -11.388535         -11.415499   \n",
      "13         -11.385902         -11.393326         -11.432816   \n",
      "14         -11.381739         -11.384827         -11.415068   \n",
      "15         -11.379843         -11.399078         -11.406382   \n",
      "16         -11.380953         -11.393806         -11.412034   \n",
      "17         -11.379901         -11.396109         -11.409717   \n",
      "18         -11.379665         -11.398489         -11.406773   \n",
      "19         -11.381294         -11.382713         -11.420381   \n",
      "20         -11.379943         -11.399159         -11.406542   \n",
      "21         -11.379305         -11.396053         -11.408028   \n",
      "22         -11.379197         -11.395831         -11.408018   \n",
      "23         -11.381923         -11.391673         -11.413256   \n",
      "24         -11.380247         -11.382293         -11.417891   \n",
      "25         -11.380325         -11.386350         -11.415728   \n",
      "26         -11.379866         -11.397234         -11.409368   \n",
      "27         -11.378788         -11.392067         -11.410605   \n",
      "28         -11.379352         -11.388589         -11.413839   \n",
      "29         -11.379802         -11.398924         -11.406470   \n",
      "30         -11.383257         -11.389463         -11.428951   \n",
      "31         -11.382358         -11.385774         -11.425176   \n",
      "32         -11.378828         -11.390124         -11.412135   \n",
      "33         -11.381785         -11.393340         -11.413128   \n",
      "34         -11.379805         -11.396586         -11.409405   \n",
      "35         -11.378567         -11.392081         -11.410563   \n",
      "36         -11.379544         -11.397361         -11.407273   \n",
      "37         -11.382613         -11.396073         -11.412926   \n",
      "38         -11.380533         -11.386597         -11.415548   \n",
      "39         -11.379488         -11.397455         -11.407148   \n",
      "40         -11.378909         -11.394195         -11.408970   \n",
      "41         -11.380030         -11.383944         -11.416746   \n",
      "42         -11.379373         -11.396712         -11.407553   \n",
      "43         -11.391688         -11.400531         -11.442909   \n",
      "44         -11.379583         -11.398302         -11.406850   \n",
      "45         -11.379790         -11.398314         -11.406955   \n",
      "46         -11.394989         -11.406417         -11.448417   \n",
      "47         -11.378871         -11.393362         -11.409606   \n",
      "48         -11.379140         -11.395170         -11.408493   \n",
      "49         -11.382244         -11.394895         -11.413223   \n",
      "\n",
      "    split3_test_score  split4_test_score  mean_test_score  std_test_score  \\\n",
      "0          -11.504193         -11.385706       -11.414362        0.045993   \n",
      "1          -11.643352         -11.501011       -11.530137        0.062215   \n",
      "2          -18.934900         -19.055553       -18.901784        0.087412   \n",
      "3          -11.518868         -11.394488       -11.420096        0.051471   \n",
      "4          -12.234128         -12.090607       -12.131811        0.076805   \n",
      "5          -11.502724         -11.385991       -11.414667        0.045036   \n",
      "6          -11.504612         -11.387812       -11.416148        0.045320   \n",
      "7          -11.570930         -11.436555       -11.463663        0.057088   \n",
      "8          -12.180169         -12.029627       -12.072047        0.078846   \n",
      "9          -18.934900         -19.055553       -18.901784        0.087412   \n",
      "10         -18.934900         -19.055553       -18.901784        0.087412   \n",
      "11         -11.720099         -11.570820       -11.600345        0.067832   \n",
      "12         -11.510218         -11.389129       -11.416879        0.048112   \n",
      "13         -11.529689         -11.403058       -11.428958        0.052831   \n",
      "14         -11.511872         -11.389412       -11.416584        0.049078   \n",
      "15         -11.502090         -11.386068       -11.414692        0.044688   \n",
      "16         -11.504615         -11.387344       -11.415750        0.045629   \n",
      "17         -11.504220         -11.386159       -11.415221        0.045626   \n",
      "18         -11.502355         -11.385880       -11.414632        0.044871   \n",
      "19         -11.516293         -11.392834       -11.418703        0.050775   \n",
      "20         -11.502225         -11.386203       -11.414814        0.044696   \n",
      "21         -11.503514         -11.385914       -11.414563        0.045523   \n",
      "22         -11.503544         -11.385897       -11.414498        0.045572   \n",
      "23         -11.509226         -11.388739       -11.416963        0.047308   \n",
      "24         -11.513933         -11.391393       -11.417151        0.050215   \n",
      "25         -11.511099         -11.390115       -11.416723        0.048710   \n",
      "26         -11.504340         -11.386295       -11.415421        0.045577   \n",
      "27         -11.505484         -11.386376       -11.414664        0.046610   \n",
      "28         -11.508836         -11.387813       -11.415686        0.047982   \n",
      "29         -11.502235         -11.386027       -11.414691        0.044764   \n",
      "30         -11.526738         -11.399941       -11.425670        0.052910   \n",
      "31         -11.521439         -11.396283       -11.422206        0.051852   \n",
      "32         -11.507006         -11.387062       -11.415031        0.047288   \n",
      "33         -11.508579         -11.388927       -11.417152        0.046882   \n",
      "34         -11.504220         -11.386274       -11.415258        0.045594   \n",
      "35         -11.505352         -11.386419       -11.414596        0.046587   \n",
      "36         -11.502906         -11.385927       -11.414602        0.045166   \n",
      "37         -11.507482         -11.389191       -11.417657        0.046033   \n",
      "38         -11.510815         -11.389953       -11.416689        0.048556   \n",
      "39         -11.502758         -11.385772       -11.414524        0.045133   \n",
      "40         -11.504105         -11.386050       -11.414446        0.045930   \n",
      "41         -11.512453         -11.390712       -11.416777        0.049521   \n",
      "42         -11.503168         -11.385869       -11.414535        0.045344   \n",
      "43         -11.540803         -11.411463       -11.437479        0.054487   \n",
      "44         -11.502345         -11.385818       -11.414580        0.044899   \n",
      "45         -11.502591         -11.386064       -11.414743        0.044927   \n",
      "46         -11.547881         -11.416319       -11.442805        0.055470   \n",
      "47         -11.504592         -11.386166       -11.414520        0.046173   \n",
      "48         -11.503924         -11.385961       -11.414538        0.045763   \n",
      "49         -11.508179         -11.389307       -11.417570        0.046454   \n",
      "\n",
      "    rank_test_score  \n",
      "0                 1  \n",
      "1                44  \n",
      "2                48  \n",
      "3                37  \n",
      "4                47  \n",
      "5                14  \n",
      "6                25  \n",
      "7                43  \n",
      "8                46  \n",
      "9                48  \n",
      "10               48  \n",
      "11               45  \n",
      "12               30  \n",
      "13               40  \n",
      "14               26  \n",
      "15               16  \n",
      "16               24  \n",
      "17               20  \n",
      "18               12  \n",
      "19               36  \n",
      "20               18  \n",
      "21                8  \n",
      "22                3  \n",
      "23               31  \n",
      "24               32  \n",
      "25               28  \n",
      "26               22  \n",
      "27               13  \n",
      "28               23  \n",
      "29               15  \n",
      "30               39  \n",
      "31               38  \n",
      "32               19  \n",
      "33               33  \n",
      "34               21  \n",
      "35               10  \n",
      "36               11  \n",
      "37               35  \n",
      "38               27  \n",
      "39                5  \n",
      "40                2  \n",
      "41               29  \n",
      "42                6  \n",
      "43               41  \n",
      "44                9  \n",
      "45               17  \n",
      "46               42  \n",
      "47                4  \n",
      "48                7  \n",
      "49               34  \n",
      "[ 0.90521521  2.12419412 20.5618859  ...  4.96213343 20.6822549\n",
      "  9.26378851]\n",
      "[43.33088778  3.42840172 36.55466098 ... -0.52389129  1.13934516\n",
      "  3.20514986]\n",
      "Train R-sq:\n",
      "0.6370029345297011\n",
      "Test R-sq:\n",
      "0.6480245612269513\n",
      "Train RMSE:\n",
      "11.388106540799356\n",
      "Test RMSE:\n",
      "11.338037329357997\n",
      "End Time = 2023-04-12 20:11:01.578606\n",
      "Script Time = 0:05:09.418554\n"
     ]
    },
    {
     "name": "stderr",
     "output_type": "stream",
     "text": [
      "/opt/conda/lib/python3.7/site-packages/sklearn/linear_model/_coordinate_descent.py:476: ConvergenceWarning: Objective did not converge. You might want to increase the number of iterations. Duality gap: 6915.629323234782, tolerance: 903.328496061699\n",
      "  positive)\n"
     ]
    }
   ],
   "source": [
    "# Start timer script\n",
    "start_time = dt.datetime.today()\n",
    "\n",
    "# Citation: Hochberg, 2018; Shanmukh, 2021\n",
    "m2v2_ls_pip = Pipeline([('si', SimpleImputer(strategy='median')),\n",
    "                        ('ss', StandardScaler()),\n",
    "                        ('ls', Lasso(random_state=1699))])\n",
    "\n",
    "alpha_hparam = Real(1e-3, 1e3, prior='log-uniform')\n",
    "selection_hparam = Categorical(['cyclic', 'random'])\n",
    "max_iter_hparam = Integer(100, 5000, prior='log-uniform')\n",
    "warm_start_hparam = Categorical([False, True])\n",
    "\n",
    "\n",
    "m2v2_ls_grd = {'ls__alpha': alpha_hparam,\n",
    "               'ls__selection': selection_hparam,\n",
    "               'ls__max_iter': max_iter_hparam,\n",
    "               'ls__warm_start': warm_start_hparam\n",
    "           }\n",
    "\n",
    "m2v2_ls = BayesSearchCV(m2v2_ls_pip,\n",
    "                       m2v2_ls_grd,\n",
    "                       scoring='neg_root_mean_squared_error',\n",
    "                        cv=5,\n",
    "                       n_jobs=2,\n",
    "                       refit=True,\n",
    "                       verbose=2)\n",
    "\n",
    "m2v2_ls.fit(train_x01, train_y01)\n",
    "\n",
    "print(f'Best Estimator:\\n{m2v2_ls.best_estimator_}')\n",
    "print(f'Coefficients:\\n{m2v2_ls.best_estimator_.named_steps[\"ls\"].coef_}')\n",
    "\n",
    "print(pd.DataFrame(m2v2_ls.cv_results_))\n",
    "\n",
    "train_m2v2_ls_y01_pred = m2v2_ls.predict(train_x01)\n",
    "print(train_m2v2_ls_y01_pred)\n",
    "\n",
    "test_m2v2_ls_y01_pred = m2v2_ls.predict(test_x01)\n",
    "print(test_m2v2_ls_y01_pred)\n",
    "\n",
    "# Display evaluation metrics\n",
    "# R-sq\n",
    "train_m2v2_ls_r2 = r2_score(train_y01, train_m2v2_ls_y01_pred)\n",
    "test_m2v2_ls_r2 = r2_score(test_y01, test_m2v2_ls_y01_pred)\n",
    "\n",
    "print(f'Train R-sq:\\n{train_m2v2_ls_r2}')\n",
    "print(f'Test R-sq:\\n{test_m2v2_ls_r2}')\n",
    "\n",
    "# RMSE\n",
    "train_m2v2_ls_rmse = mean_squared_error(train_y01, train_m2v2_ls_y01_pred, squared=False)\n",
    "test_m2v2_ls_rmse = mean_squared_error(test_y01, test_m2v2_ls_y01_pred, squared=False)\n",
    "\n",
    "print(f'Train RMSE:\\n{train_m2v2_ls_rmse}')\n",
    "print(f'Test RMSE:\\n{test_m2v2_ls_rmse}')\n",
    "\n",
    "# End timer script\n",
    "end_time = dt.datetime.today()\n",
    "time_elapse = end_time - start_time\n",
    "print(f'End Time = {end_time}')\n",
    "print(f'Script Time = {time_elapse}')"
   ]
  },
  {
   "cell_type": "code",
   "execution_count": 15,
   "id": "26638d66-e6de-4097-9bf2-12c8f7c5a11e",
   "metadata": {
    "tags": []
   },
   "outputs": [
    {
     "data": {
      "text/html": [
       "<div>\n",
       "<style scoped>\n",
       "    .dataframe tbody tr th:only-of-type {\n",
       "        vertical-align: middle;\n",
       "    }\n",
       "\n",
       "    .dataframe tbody tr th {\n",
       "        vertical-align: top;\n",
       "    }\n",
       "\n",
       "    .dataframe thead th {\n",
       "        text-align: right;\n",
       "    }\n",
       "</style>\n",
       "<table border=\"1\" class=\"dataframe\">\n",
       "  <thead>\n",
       "    <tr style=\"text-align: right;\">\n",
       "      <th></th>\n",
       "      <th>0</th>\n",
       "      <th>0</th>\n",
       "    </tr>\n",
       "  </thead>\n",
       "  <tbody>\n",
       "    <tr>\n",
       "      <th>0</th>\n",
       "      <td>borough_bronx</td>\n",
       "      <td>-0.053075</td>\n",
       "    </tr>\n",
       "    <tr>\n",
       "      <th>1</th>\n",
       "      <td>borough_brooklyn</td>\n",
       "      <td>1.181329</td>\n",
       "    </tr>\n",
       "    <tr>\n",
       "      <th>2</th>\n",
       "      <td>borough_manhattan</td>\n",
       "      <td>0.000000</td>\n",
       "    </tr>\n",
       "    <tr>\n",
       "      <th>3</th>\n",
       "      <td>borough_queens</td>\n",
       "      <td>-1.030690</td>\n",
       "    </tr>\n",
       "    <tr>\n",
       "      <th>4</th>\n",
       "      <td>borough_staten island</td>\n",
       "      <td>1.137076</td>\n",
       "    </tr>\n",
       "    <tr>\n",
       "      <th>5</th>\n",
       "      <td>relative_data_year_-4</td>\n",
       "      <td>-0.000000</td>\n",
       "    </tr>\n",
       "    <tr>\n",
       "      <th>6</th>\n",
       "      <td>relative_data_year_-3</td>\n",
       "      <td>-0.000000</td>\n",
       "    </tr>\n",
       "    <tr>\n",
       "      <th>7</th>\n",
       "      <td>relative_data_year_-2</td>\n",
       "      <td>0.000000</td>\n",
       "    </tr>\n",
       "    <tr>\n",
       "      <th>8</th>\n",
       "      <td>relative_data_year_-1</td>\n",
       "      <td>0.032422</td>\n",
       "    </tr>\n",
       "    <tr>\n",
       "      <th>9</th>\n",
       "      <td>relative_data_year_0</td>\n",
       "      <td>-0.000000</td>\n",
       "    </tr>\n",
       "    <tr>\n",
       "      <th>10</th>\n",
       "      <td>complaint_type_FELONY</td>\n",
       "      <td>-0.034332</td>\n",
       "    </tr>\n",
       "    <tr>\n",
       "      <th>11</th>\n",
       "      <td>complaint_type_MISDEMEANOR</td>\n",
       "      <td>0.000000</td>\n",
       "    </tr>\n",
       "    <tr>\n",
       "      <th>12</th>\n",
       "      <td>complaint_type_VIOLATION</td>\n",
       "      <td>0.000000</td>\n",
       "    </tr>\n",
       "    <tr>\n",
       "      <th>13</th>\n",
       "      <td>annual_evictions_x_borough</td>\n",
       "      <td>-0.000000</td>\n",
       "    </tr>\n",
       "    <tr>\n",
       "      <th>14</th>\n",
       "      <td>annual_complaint_counts</td>\n",
       "      <td>-0.015800</td>\n",
       "    </tr>\n",
       "    <tr>\n",
       "      <th>15</th>\n",
       "      <td>annual_grad_n</td>\n",
       "      <td>0.000000</td>\n",
       "    </tr>\n",
       "    <tr>\n",
       "      <th>16</th>\n",
       "      <td>annual_dropped_out_n</td>\n",
       "      <td>-0.000000</td>\n",
       "    </tr>\n",
       "    <tr>\n",
       "      <th>17</th>\n",
       "      <td>totalpop</td>\n",
       "      <td>8.370629</td>\n",
       "    </tr>\n",
       "    <tr>\n",
       "      <th>18</th>\n",
       "      <td>men</td>\n",
       "      <td>0.000000</td>\n",
       "    </tr>\n",
       "    <tr>\n",
       "      <th>19</th>\n",
       "      <td>women</td>\n",
       "      <td>2.746183</td>\n",
       "    </tr>\n",
       "    <tr>\n",
       "      <th>20</th>\n",
       "      <td>hispanic</td>\n",
       "      <td>1.025554</td>\n",
       "    </tr>\n",
       "    <tr>\n",
       "      <th>21</th>\n",
       "      <td>white</td>\n",
       "      <td>-2.849095</td>\n",
       "    </tr>\n",
       "    <tr>\n",
       "      <th>22</th>\n",
       "      <td>black</td>\n",
       "      <td>-1.697540</td>\n",
       "    </tr>\n",
       "    <tr>\n",
       "      <th>23</th>\n",
       "      <td>native</td>\n",
       "      <td>-0.355644</td>\n",
       "    </tr>\n",
       "    <tr>\n",
       "      <th>24</th>\n",
       "      <td>asian</td>\n",
       "      <td>-1.653830</td>\n",
       "    </tr>\n",
       "    <tr>\n",
       "      <th>25</th>\n",
       "      <td>citizen</td>\n",
       "      <td>-3.566869</td>\n",
       "    </tr>\n",
       "    <tr>\n",
       "      <th>26</th>\n",
       "      <td>income</td>\n",
       "      <td>-6.836896</td>\n",
       "    </tr>\n",
       "    <tr>\n",
       "      <th>27</th>\n",
       "      <td>incomeerr</td>\n",
       "      <td>0.142439</td>\n",
       "    </tr>\n",
       "    <tr>\n",
       "      <th>28</th>\n",
       "      <td>incomepercap</td>\n",
       "      <td>0.339217</td>\n",
       "    </tr>\n",
       "    <tr>\n",
       "      <th>29</th>\n",
       "      <td>incomepercaperr</td>\n",
       "      <td>-0.118114</td>\n",
       "    </tr>\n",
       "    <tr>\n",
       "      <th>30</th>\n",
       "      <td>professional</td>\n",
       "      <td>-1.741807</td>\n",
       "    </tr>\n",
       "    <tr>\n",
       "      <th>31</th>\n",
       "      <td>service</td>\n",
       "      <td>1.375056</td>\n",
       "    </tr>\n",
       "    <tr>\n",
       "      <th>32</th>\n",
       "      <td>office</td>\n",
       "      <td>0.312998</td>\n",
       "    </tr>\n",
       "    <tr>\n",
       "      <th>33</th>\n",
       "      <td>construction</td>\n",
       "      <td>-0.766595</td>\n",
       "    </tr>\n",
       "    <tr>\n",
       "      <th>34</th>\n",
       "      <td>production</td>\n",
       "      <td>-0.349674</td>\n",
       "    </tr>\n",
       "    <tr>\n",
       "      <th>35</th>\n",
       "      <td>drive</td>\n",
       "      <td>-1.469921</td>\n",
       "    </tr>\n",
       "    <tr>\n",
       "      <th>36</th>\n",
       "      <td>carpool</td>\n",
       "      <td>-0.485853</td>\n",
       "    </tr>\n",
       "    <tr>\n",
       "      <th>37</th>\n",
       "      <td>transit</td>\n",
       "      <td>0.000000</td>\n",
       "    </tr>\n",
       "    <tr>\n",
       "      <th>38</th>\n",
       "      <td>walk</td>\n",
       "      <td>1.531662</td>\n",
       "    </tr>\n",
       "    <tr>\n",
       "      <th>39</th>\n",
       "      <td>othertransp</td>\n",
       "      <td>0.487973</td>\n",
       "    </tr>\n",
       "    <tr>\n",
       "      <th>40</th>\n",
       "      <td>workathome</td>\n",
       "      <td>0.565745</td>\n",
       "    </tr>\n",
       "    <tr>\n",
       "      <th>41</th>\n",
       "      <td>meancommute</td>\n",
       "      <td>-0.739900</td>\n",
       "    </tr>\n",
       "    <tr>\n",
       "      <th>42</th>\n",
       "      <td>employed</td>\n",
       "      <td>-8.241980</td>\n",
       "    </tr>\n",
       "    <tr>\n",
       "      <th>43</th>\n",
       "      <td>privatework</td>\n",
       "      <td>0.220545</td>\n",
       "    </tr>\n",
       "    <tr>\n",
       "      <th>44</th>\n",
       "      <td>publicwork</td>\n",
       "      <td>-1.470708</td>\n",
       "    </tr>\n",
       "    <tr>\n",
       "      <th>45</th>\n",
       "      <td>selfemployed</td>\n",
       "      <td>0.362973</td>\n",
       "    </tr>\n",
       "    <tr>\n",
       "      <th>46</th>\n",
       "      <td>familywork</td>\n",
       "      <td>0.727715</td>\n",
       "    </tr>\n",
       "    <tr>\n",
       "      <th>47</th>\n",
       "      <td>unemployment</td>\n",
       "      <td>1.612946</td>\n",
       "    </tr>\n",
       "    <tr>\n",
       "      <th>48</th>\n",
       "      <td>intercept</td>\n",
       "      <td>24.475273</td>\n",
       "    </tr>\n",
       "  </tbody>\n",
       "</table>\n",
       "</div>"
      ],
      "text/plain": [
       "                             0          0\n",
       "0                borough_bronx  -0.053075\n",
       "1             borough_brooklyn   1.181329\n",
       "2            borough_manhattan   0.000000\n",
       "3               borough_queens  -1.030690\n",
       "4        borough_staten island   1.137076\n",
       "5        relative_data_year_-4  -0.000000\n",
       "6        relative_data_year_-3  -0.000000\n",
       "7        relative_data_year_-2   0.000000\n",
       "8        relative_data_year_-1   0.032422\n",
       "9         relative_data_year_0  -0.000000\n",
       "10       complaint_type_FELONY  -0.034332\n",
       "11  complaint_type_MISDEMEANOR   0.000000\n",
       "12    complaint_type_VIOLATION   0.000000\n",
       "13  annual_evictions_x_borough  -0.000000\n",
       "14     annual_complaint_counts  -0.015800\n",
       "15               annual_grad_n   0.000000\n",
       "16        annual_dropped_out_n  -0.000000\n",
       "17                    totalpop   8.370629\n",
       "18                         men   0.000000\n",
       "19                       women   2.746183\n",
       "20                    hispanic   1.025554\n",
       "21                       white  -2.849095\n",
       "22                       black  -1.697540\n",
       "23                      native  -0.355644\n",
       "24                       asian  -1.653830\n",
       "25                     citizen  -3.566869\n",
       "26                      income  -6.836896\n",
       "27                   incomeerr   0.142439\n",
       "28                incomepercap   0.339217\n",
       "29             incomepercaperr  -0.118114\n",
       "30                professional  -1.741807\n",
       "31                     service   1.375056\n",
       "32                      office   0.312998\n",
       "33                construction  -0.766595\n",
       "34                  production  -0.349674\n",
       "35                       drive  -1.469921\n",
       "36                     carpool  -0.485853\n",
       "37                     transit   0.000000\n",
       "38                        walk   1.531662\n",
       "39                 othertransp   0.487973\n",
       "40                  workathome   0.565745\n",
       "41                 meancommute  -0.739900\n",
       "42                    employed  -8.241980\n",
       "43                 privatework   0.220545\n",
       "44                  publicwork  -1.470708\n",
       "45                selfemployed   0.362973\n",
       "46                  familywork   0.727715\n",
       "47                unemployment   1.612946\n",
       "48                   intercept  24.475273"
      ]
     },
     "metadata": {},
     "output_type": "display_data"
    }
   ],
   "source": [
    "coef_intercept = np.hstack((m2v2_ls.best_estimator_.named_steps[\"ls\"].coef_,\n",
    "                            m2v2_ls.best_estimator_.named_steps[\"ls\"].intercept_))\n",
    "#print(coef_intercept)\n",
    "\n",
    "coef_intercept_df01 = pd.DataFrame(coef_intercept)\n",
    "#display(coef_intercept_df01)\n",
    "\n",
    "train_x01_col_names = list(train_x01.columns)\n",
    "train_x01_col_names.append('intercept')\n",
    "\n",
    "train_x01_col_names_df01 = pd.DataFrame(train_x01_col_names)\n",
    "#display(train_x01_col_names_df01)\n",
    "\n",
    "model_params = pd.concat([train_x01_col_names_df01, coef_intercept_df01], axis=1)\n",
    "display(model_params)"
   ]
  },
  {
   "cell_type": "code",
   "execution_count": 16,
   "id": "48ef3404-b854-43f6-8efe-6e3d8ea4d90f",
   "metadata": {},
   "outputs": [],
   "source": [
    "# specify the S3 bucket and key where you want to save the model\n",
    "m2v2_ls_key_name = 'team_8_data/models/m2v2_ls.parquet'\n",
    "\n",
    "# save the model to an in-memory buffer\n",
    "buffer = BytesIO()\n",
    "joblib.dump(m2v2_ls, buffer)\n",
    "\n",
    "# upload the buffer to S3\n",
    "buffer.seek(0)\n",
    "s3.upload_fileobj(buffer, def_bucket, m2v2_ls_key_name)\n",
    "\n",
    "# load the saved model from S3\n",
    "#buffer = BytesIO()\n",
    "#s3.download_fileobj(def_bucket, m2v2_ls_key_name, buffer)\n",
    "#buffer.seek(0)\n",
    "#m2v2_ls_fitted = joblib.load(buffer)"
   ]
  },
  {
   "cell_type": "markdown",
   "id": "482e6e17-d3a7-49f4-bdb7-5550f10cfc2a",
   "metadata": {},
   "source": [
    "## Release Resources"
   ]
  },
  {
   "cell_type": "code",
   "execution_count": 17,
   "id": "034b5c94-394b-4fac-aa24-880026e19549",
   "metadata": {},
   "outputs": [
    {
     "data": {
      "text/html": [
       "\n",
       "<p><b>Shutting down your kernel for this notebook to release resources.</b></p>\n",
       "<button class=\"sm-command-button\" data-commandlinker-command=\"kernelmenu:shutdown\" style=\"display:none;\">Shutdown Kernel</button>\n",
       "        \n",
       "<script>\n",
       "try {\n",
       "    els = document.getElementsByClassName(\"sm-command-button\");\n",
       "    els[0].click();\n",
       "}\n",
       "catch(err) {\n",
       "    // NoOp\n",
       "}    \n",
       "</script>\n"
      ],
      "text/plain": [
       "<IPython.core.display.HTML object>"
      ]
     },
     "metadata": {},
     "output_type": "display_data"
    }
   ],
   "source": [
    "%%html\n",
    "\n",
    "<p><b>Shutting down your kernel for this notebook to release resources.</b></p>\n",
    "<button class=\"sm-command-button\" data-commandlinker-command=\"kernelmenu:shutdown\" style=\"display:none;\">Shutdown Kernel</button>\n",
    "        \n",
    "<script>\n",
    "try {\n",
    "    els = document.getElementsByClassName(\"sm-command-button\");\n",
    "    els[0].click();\n",
    "}\n",
    "catch(err) {\n",
    "    // NoOp\n",
    "}    \n",
    "</script>"
   ]
  },
  {
   "cell_type": "code",
   "execution_count": 18,
   "id": "448d3322-a041-43ea-85da-0e347e3569da",
   "metadata": {
    "tags": []
   },
   "outputs": [
    {
     "data": {
      "application/javascript": [
       "\n",
       "try {\n",
       "    Jupyter.notebook.save_checkpoint();\n",
       "    Jupyter.notebook.session.delete();\n",
       "}\n",
       "catch(err) {\n",
       "    // NoOp\n",
       "}\n"
      ],
      "text/plain": [
       "<IPython.core.display.Javascript object>"
      ]
     },
     "metadata": {},
     "output_type": "display_data"
    }
   ],
   "source": [
    "%%javascript\n",
    "\n",
    "try {\n",
    "    Jupyter.notebook.save_checkpoint();\n",
    "    Jupyter.notebook.session.delete();\n",
    "}\n",
    "catch(err) {\n",
    "    // NoOp\n",
    "}"
   ]
  }
 ],
 "metadata": {
  "availableInstances": [
   {
    "_defaultOrder": 0,
    "_isFastLaunch": true,
    "category": "General purpose",
    "gpuNum": 0,
    "hideHardwareSpecs": false,
    "memoryGiB": 4,
    "name": "ml.t3.medium",
    "vcpuNum": 2
   },
   {
    "_defaultOrder": 1,
    "_isFastLaunch": false,
    "category": "General purpose",
    "gpuNum": 0,
    "hideHardwareSpecs": false,
    "memoryGiB": 8,
    "name": "ml.t3.large",
    "vcpuNum": 2
   },
   {
    "_defaultOrder": 2,
    "_isFastLaunch": false,
    "category": "General purpose",
    "gpuNum": 0,
    "hideHardwareSpecs": false,
    "memoryGiB": 16,
    "name": "ml.t3.xlarge",
    "vcpuNum": 4
   },
   {
    "_defaultOrder": 3,
    "_isFastLaunch": false,
    "category": "General purpose",
    "gpuNum": 0,
    "hideHardwareSpecs": false,
    "memoryGiB": 32,
    "name": "ml.t3.2xlarge",
    "vcpuNum": 8
   },
   {
    "_defaultOrder": 4,
    "_isFastLaunch": true,
    "category": "General purpose",
    "gpuNum": 0,
    "hideHardwareSpecs": false,
    "memoryGiB": 8,
    "name": "ml.m5.large",
    "vcpuNum": 2
   },
   {
    "_defaultOrder": 5,
    "_isFastLaunch": false,
    "category": "General purpose",
    "gpuNum": 0,
    "hideHardwareSpecs": false,
    "memoryGiB": 16,
    "name": "ml.m5.xlarge",
    "vcpuNum": 4
   },
   {
    "_defaultOrder": 6,
    "_isFastLaunch": false,
    "category": "General purpose",
    "gpuNum": 0,
    "hideHardwareSpecs": false,
    "memoryGiB": 32,
    "name": "ml.m5.2xlarge",
    "vcpuNum": 8
   },
   {
    "_defaultOrder": 7,
    "_isFastLaunch": false,
    "category": "General purpose",
    "gpuNum": 0,
    "hideHardwareSpecs": false,
    "memoryGiB": 64,
    "name": "ml.m5.4xlarge",
    "vcpuNum": 16
   },
   {
    "_defaultOrder": 8,
    "_isFastLaunch": false,
    "category": "General purpose",
    "gpuNum": 0,
    "hideHardwareSpecs": false,
    "memoryGiB": 128,
    "name": "ml.m5.8xlarge",
    "vcpuNum": 32
   },
   {
    "_defaultOrder": 9,
    "_isFastLaunch": false,
    "category": "General purpose",
    "gpuNum": 0,
    "hideHardwareSpecs": false,
    "memoryGiB": 192,
    "name": "ml.m5.12xlarge",
    "vcpuNum": 48
   },
   {
    "_defaultOrder": 10,
    "_isFastLaunch": false,
    "category": "General purpose",
    "gpuNum": 0,
    "hideHardwareSpecs": false,
    "memoryGiB": 256,
    "name": "ml.m5.16xlarge",
    "vcpuNum": 64
   },
   {
    "_defaultOrder": 11,
    "_isFastLaunch": false,
    "category": "General purpose",
    "gpuNum": 0,
    "hideHardwareSpecs": false,
    "memoryGiB": 384,
    "name": "ml.m5.24xlarge",
    "vcpuNum": 96
   },
   {
    "_defaultOrder": 12,
    "_isFastLaunch": false,
    "category": "General purpose",
    "gpuNum": 0,
    "hideHardwareSpecs": false,
    "memoryGiB": 8,
    "name": "ml.m5d.large",
    "vcpuNum": 2
   },
   {
    "_defaultOrder": 13,
    "_isFastLaunch": false,
    "category": "General purpose",
    "gpuNum": 0,
    "hideHardwareSpecs": false,
    "memoryGiB": 16,
    "name": "ml.m5d.xlarge",
    "vcpuNum": 4
   },
   {
    "_defaultOrder": 14,
    "_isFastLaunch": false,
    "category": "General purpose",
    "gpuNum": 0,
    "hideHardwareSpecs": false,
    "memoryGiB": 32,
    "name": "ml.m5d.2xlarge",
    "vcpuNum": 8
   },
   {
    "_defaultOrder": 15,
    "_isFastLaunch": false,
    "category": "General purpose",
    "gpuNum": 0,
    "hideHardwareSpecs": false,
    "memoryGiB": 64,
    "name": "ml.m5d.4xlarge",
    "vcpuNum": 16
   },
   {
    "_defaultOrder": 16,
    "_isFastLaunch": false,
    "category": "General purpose",
    "gpuNum": 0,
    "hideHardwareSpecs": false,
    "memoryGiB": 128,
    "name": "ml.m5d.8xlarge",
    "vcpuNum": 32
   },
   {
    "_defaultOrder": 17,
    "_isFastLaunch": false,
    "category": "General purpose",
    "gpuNum": 0,
    "hideHardwareSpecs": false,
    "memoryGiB": 192,
    "name": "ml.m5d.12xlarge",
    "vcpuNum": 48
   },
   {
    "_defaultOrder": 18,
    "_isFastLaunch": false,
    "category": "General purpose",
    "gpuNum": 0,
    "hideHardwareSpecs": false,
    "memoryGiB": 256,
    "name": "ml.m5d.16xlarge",
    "vcpuNum": 64
   },
   {
    "_defaultOrder": 19,
    "_isFastLaunch": false,
    "category": "General purpose",
    "gpuNum": 0,
    "hideHardwareSpecs": false,
    "memoryGiB": 384,
    "name": "ml.m5d.24xlarge",
    "vcpuNum": 96
   },
   {
    "_defaultOrder": 20,
    "_isFastLaunch": false,
    "category": "General purpose",
    "gpuNum": 0,
    "hideHardwareSpecs": true,
    "memoryGiB": 0,
    "name": "ml.geospatial.interactive",
    "supportedImageNames": [
     "sagemaker-geospatial-v1-0"
    ],
    "vcpuNum": 0
   },
   {
    "_defaultOrder": 21,
    "_isFastLaunch": true,
    "category": "Compute optimized",
    "gpuNum": 0,
    "hideHardwareSpecs": false,
    "memoryGiB": 4,
    "name": "ml.c5.large",
    "vcpuNum": 2
   },
   {
    "_defaultOrder": 22,
    "_isFastLaunch": false,
    "category": "Compute optimized",
    "gpuNum": 0,
    "hideHardwareSpecs": false,
    "memoryGiB": 8,
    "name": "ml.c5.xlarge",
    "vcpuNum": 4
   },
   {
    "_defaultOrder": 23,
    "_isFastLaunch": false,
    "category": "Compute optimized",
    "gpuNum": 0,
    "hideHardwareSpecs": false,
    "memoryGiB": 16,
    "name": "ml.c5.2xlarge",
    "vcpuNum": 8
   },
   {
    "_defaultOrder": 24,
    "_isFastLaunch": false,
    "category": "Compute optimized",
    "gpuNum": 0,
    "hideHardwareSpecs": false,
    "memoryGiB": 32,
    "name": "ml.c5.4xlarge",
    "vcpuNum": 16
   },
   {
    "_defaultOrder": 25,
    "_isFastLaunch": false,
    "category": "Compute optimized",
    "gpuNum": 0,
    "hideHardwareSpecs": false,
    "memoryGiB": 72,
    "name": "ml.c5.9xlarge",
    "vcpuNum": 36
   },
   {
    "_defaultOrder": 26,
    "_isFastLaunch": false,
    "category": "Compute optimized",
    "gpuNum": 0,
    "hideHardwareSpecs": false,
    "memoryGiB": 96,
    "name": "ml.c5.12xlarge",
    "vcpuNum": 48
   },
   {
    "_defaultOrder": 27,
    "_isFastLaunch": false,
    "category": "Compute optimized",
    "gpuNum": 0,
    "hideHardwareSpecs": false,
    "memoryGiB": 144,
    "name": "ml.c5.18xlarge",
    "vcpuNum": 72
   },
   {
    "_defaultOrder": 28,
    "_isFastLaunch": false,
    "category": "Compute optimized",
    "gpuNum": 0,
    "hideHardwareSpecs": false,
    "memoryGiB": 192,
    "name": "ml.c5.24xlarge",
    "vcpuNum": 96
   },
   {
    "_defaultOrder": 29,
    "_isFastLaunch": true,
    "category": "Accelerated computing",
    "gpuNum": 1,
    "hideHardwareSpecs": false,
    "memoryGiB": 16,
    "name": "ml.g4dn.xlarge",
    "vcpuNum": 4
   },
   {
    "_defaultOrder": 30,
    "_isFastLaunch": false,
    "category": "Accelerated computing",
    "gpuNum": 1,
    "hideHardwareSpecs": false,
    "memoryGiB": 32,
    "name": "ml.g4dn.2xlarge",
    "vcpuNum": 8
   },
   {
    "_defaultOrder": 31,
    "_isFastLaunch": false,
    "category": "Accelerated computing",
    "gpuNum": 1,
    "hideHardwareSpecs": false,
    "memoryGiB": 64,
    "name": "ml.g4dn.4xlarge",
    "vcpuNum": 16
   },
   {
    "_defaultOrder": 32,
    "_isFastLaunch": false,
    "category": "Accelerated computing",
    "gpuNum": 1,
    "hideHardwareSpecs": false,
    "memoryGiB": 128,
    "name": "ml.g4dn.8xlarge",
    "vcpuNum": 32
   },
   {
    "_defaultOrder": 33,
    "_isFastLaunch": false,
    "category": "Accelerated computing",
    "gpuNum": 4,
    "hideHardwareSpecs": false,
    "memoryGiB": 192,
    "name": "ml.g4dn.12xlarge",
    "vcpuNum": 48
   },
   {
    "_defaultOrder": 34,
    "_isFastLaunch": false,
    "category": "Accelerated computing",
    "gpuNum": 1,
    "hideHardwareSpecs": false,
    "memoryGiB": 256,
    "name": "ml.g4dn.16xlarge",
    "vcpuNum": 64
   },
   {
    "_defaultOrder": 35,
    "_isFastLaunch": false,
    "category": "Accelerated computing",
    "gpuNum": 1,
    "hideHardwareSpecs": false,
    "memoryGiB": 61,
    "name": "ml.p3.2xlarge",
    "vcpuNum": 8
   },
   {
    "_defaultOrder": 36,
    "_isFastLaunch": false,
    "category": "Accelerated computing",
    "gpuNum": 4,
    "hideHardwareSpecs": false,
    "memoryGiB": 244,
    "name": "ml.p3.8xlarge",
    "vcpuNum": 32
   },
   {
    "_defaultOrder": 37,
    "_isFastLaunch": false,
    "category": "Accelerated computing",
    "gpuNum": 8,
    "hideHardwareSpecs": false,
    "memoryGiB": 488,
    "name": "ml.p3.16xlarge",
    "vcpuNum": 64
   },
   {
    "_defaultOrder": 38,
    "_isFastLaunch": false,
    "category": "Accelerated computing",
    "gpuNum": 8,
    "hideHardwareSpecs": false,
    "memoryGiB": 768,
    "name": "ml.p3dn.24xlarge",
    "vcpuNum": 96
   },
   {
    "_defaultOrder": 39,
    "_isFastLaunch": false,
    "category": "Memory Optimized",
    "gpuNum": 0,
    "hideHardwareSpecs": false,
    "memoryGiB": 16,
    "name": "ml.r5.large",
    "vcpuNum": 2
   },
   {
    "_defaultOrder": 40,
    "_isFastLaunch": false,
    "category": "Memory Optimized",
    "gpuNum": 0,
    "hideHardwareSpecs": false,
    "memoryGiB": 32,
    "name": "ml.r5.xlarge",
    "vcpuNum": 4
   },
   {
    "_defaultOrder": 41,
    "_isFastLaunch": false,
    "category": "Memory Optimized",
    "gpuNum": 0,
    "hideHardwareSpecs": false,
    "memoryGiB": 64,
    "name": "ml.r5.2xlarge",
    "vcpuNum": 8
   },
   {
    "_defaultOrder": 42,
    "_isFastLaunch": false,
    "category": "Memory Optimized",
    "gpuNum": 0,
    "hideHardwareSpecs": false,
    "memoryGiB": 128,
    "name": "ml.r5.4xlarge",
    "vcpuNum": 16
   },
   {
    "_defaultOrder": 43,
    "_isFastLaunch": false,
    "category": "Memory Optimized",
    "gpuNum": 0,
    "hideHardwareSpecs": false,
    "memoryGiB": 256,
    "name": "ml.r5.8xlarge",
    "vcpuNum": 32
   },
   {
    "_defaultOrder": 44,
    "_isFastLaunch": false,
    "category": "Memory Optimized",
    "gpuNum": 0,
    "hideHardwareSpecs": false,
    "memoryGiB": 384,
    "name": "ml.r5.12xlarge",
    "vcpuNum": 48
   },
   {
    "_defaultOrder": 45,
    "_isFastLaunch": false,
    "category": "Memory Optimized",
    "gpuNum": 0,
    "hideHardwareSpecs": false,
    "memoryGiB": 512,
    "name": "ml.r5.16xlarge",
    "vcpuNum": 64
   },
   {
    "_defaultOrder": 46,
    "_isFastLaunch": false,
    "category": "Memory Optimized",
    "gpuNum": 0,
    "hideHardwareSpecs": false,
    "memoryGiB": 768,
    "name": "ml.r5.24xlarge",
    "vcpuNum": 96
   },
   {
    "_defaultOrder": 47,
    "_isFastLaunch": false,
    "category": "Accelerated computing",
    "gpuNum": 1,
    "hideHardwareSpecs": false,
    "memoryGiB": 16,
    "name": "ml.g5.xlarge",
    "vcpuNum": 4
   },
   {
    "_defaultOrder": 48,
    "_isFastLaunch": false,
    "category": "Accelerated computing",
    "gpuNum": 1,
    "hideHardwareSpecs": false,
    "memoryGiB": 32,
    "name": "ml.g5.2xlarge",
    "vcpuNum": 8
   },
   {
    "_defaultOrder": 49,
    "_isFastLaunch": false,
    "category": "Accelerated computing",
    "gpuNum": 1,
    "hideHardwareSpecs": false,
    "memoryGiB": 64,
    "name": "ml.g5.4xlarge",
    "vcpuNum": 16
   },
   {
    "_defaultOrder": 50,
    "_isFastLaunch": false,
    "category": "Accelerated computing",
    "gpuNum": 1,
    "hideHardwareSpecs": false,
    "memoryGiB": 128,
    "name": "ml.g5.8xlarge",
    "vcpuNum": 32
   },
   {
    "_defaultOrder": 51,
    "_isFastLaunch": false,
    "category": "Accelerated computing",
    "gpuNum": 1,
    "hideHardwareSpecs": false,
    "memoryGiB": 256,
    "name": "ml.g5.16xlarge",
    "vcpuNum": 64
   },
   {
    "_defaultOrder": 52,
    "_isFastLaunch": false,
    "category": "Accelerated computing",
    "gpuNum": 4,
    "hideHardwareSpecs": false,
    "memoryGiB": 192,
    "name": "ml.g5.12xlarge",
    "vcpuNum": 48
   },
   {
    "_defaultOrder": 53,
    "_isFastLaunch": false,
    "category": "Accelerated computing",
    "gpuNum": 4,
    "hideHardwareSpecs": false,
    "memoryGiB": 384,
    "name": "ml.g5.24xlarge",
    "vcpuNum": 96
   },
   {
    "_defaultOrder": 54,
    "_isFastLaunch": false,
    "category": "Accelerated computing",
    "gpuNum": 8,
    "hideHardwareSpecs": false,
    "memoryGiB": 768,
    "name": "ml.g5.48xlarge",
    "vcpuNum": 192
   }
  ],
  "instance_type": "ml.t3.medium",
  "kernelspec": {
   "display_name": "Python 3 (Data Science)",
   "language": "python",
   "name": "python3__SAGEMAKER_INTERNAL__arn:aws:sagemaker:us-east-1:081325390199:image/datascience-1.0"
  },
  "language_info": {
   "codemirror_mode": {
    "name": "ipython",
    "version": 3
   },
   "file_extension": ".py",
   "mimetype": "text/x-python",
   "name": "python",
   "nbconvert_exporter": "python",
   "pygments_lexer": "ipython3",
   "version": "3.7.10"
  }
 },
 "nbformat": 4,
 "nbformat_minor": 5
}
