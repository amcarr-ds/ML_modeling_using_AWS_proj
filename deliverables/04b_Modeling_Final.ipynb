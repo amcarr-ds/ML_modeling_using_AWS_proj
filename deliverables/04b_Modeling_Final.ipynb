{
 "cells": [
  {
   "cell_type": "markdown",
   "id": "a406a9cc-f539-4fc8-ac94-6964d066545e",
   "metadata": {},
   "source": [
    "# ADS-508-01-SP23 Team 8: Final Project"
   ]
  },
  {
   "cell_type": "markdown",
   "id": "b9d4d4ae-78da-4af4-8ca3-86c028dd6e91",
   "metadata": {},
   "source": [
    "# Train model"
   ]
  },
  {
   "cell_type": "markdown",
   "id": "4d3b8db0-6910-4d3d-a870-fec468b57912",
   "metadata": {},
   "source": [
    "Much of the code is modified from `Fregly, C., & Barth, A. (2021). Data science on AWS: Implementing end-to-end, continuous AI and machine learning pipelines. O’Reilly.`"
   ]
  },
  {
   "cell_type": "markdown",
   "id": "4d04427e-2c8f-4b36-97d0-65e28951db9f",
   "metadata": {},
   "source": [
    "## Install missing dependencies\n",
    "\n",
    "[PyAthena](https://pypi.org/project/PyAthena/) is a Python DB API 2.0 (PEP 249) compliant client for Amazon Athena."
   ]
  },
  {
   "cell_type": "code",
   "execution_count": 2,
   "id": "189f41f2-460c-40df-a1d5-b7a39783149d",
   "metadata": {},
   "outputs": [
    {
     "name": "stdout",
     "output_type": "stream",
     "text": [
      "\u001b[33mWARNING: The directory '/root/.cache/pip' or its parent directory is not owned or is not writable by the current user. The cache has been disabled. Check the permissions and owner of that directory. If executing pip with sudo, you should use sudo's -H flag.\u001b[0m\u001b[33m\n",
      "\u001b[0m\u001b[33mWARNING: Running pip as the 'root' user can result in broken permissions and conflicting behaviour with the system package manager. It is recommended to use a virtual environment instead: https://pip.pypa.io/warnings/venv\u001b[0m\u001b[33m\n",
      "\u001b[0m\u001b[33mWARNING: The directory '/root/.cache/pip' or its parent directory is not owned or is not writable by the current user. The cache has been disabled. Check the permissions and owner of that directory. If executing pip with sudo, you should use sudo's -H flag.\u001b[0m\u001b[33m\n",
      "\u001b[0m\u001b[33mWARNING: Running pip as the 'root' user can result in broken permissions and conflicting behaviour with the system package manager. It is recommended to use a virtual environment instead: https://pip.pypa.io/warnings/venv\u001b[0m\u001b[33m\n",
      "\u001b[0m\u001b[33mWARNING: The directory '/root/.cache/pip' or its parent directory is not owned or is not writable by the current user. The cache has been disabled. Check the permissions and owner of that directory. If executing pip with sudo, you should use sudo's -H flag.\u001b[0m\u001b[33m\n",
      "\u001b[0mCollecting missingno\n",
      "  Downloading missingno-0.5.2-py3-none-any.whl (8.7 kB)\n",
      "Requirement already satisfied: numpy in /opt/conda/lib/python3.7/site-packages (from missingno) (1.21.6)\n",
      "Requirement already satisfied: seaborn in /opt/conda/lib/python3.7/site-packages (from missingno) (0.10.0)\n",
      "Requirement already satisfied: matplotlib in /opt/conda/lib/python3.7/site-packages (from missingno) (3.1.3)\n",
      "Requirement already satisfied: scipy in /opt/conda/lib/python3.7/site-packages (from missingno) (1.4.1)\n",
      "Requirement already satisfied: kiwisolver>=1.0.1 in /opt/conda/lib/python3.7/site-packages (from matplotlib->missingno) (1.1.0)\n",
      "Requirement already satisfied: python-dateutil>=2.1 in /opt/conda/lib/python3.7/site-packages (from matplotlib->missingno) (2.8.2)\n",
      "Requirement already satisfied: pyparsing!=2.0.4,!=2.1.2,!=2.1.6,>=2.0.1 in /opt/conda/lib/python3.7/site-packages (from matplotlib->missingno) (2.4.6)\n",
      "Requirement already satisfied: cycler>=0.10 in /opt/conda/lib/python3.7/site-packages (from matplotlib->missingno) (0.10.0)\n",
      "Requirement already satisfied: pandas>=0.22.0 in /opt/conda/lib/python3.7/site-packages (from seaborn->missingno) (1.3.5)\n",
      "Requirement already satisfied: six in /opt/conda/lib/python3.7/site-packages (from cycler>=0.10->matplotlib->missingno) (1.14.0)\n",
      "Requirement already satisfied: setuptools in /opt/conda/lib/python3.7/site-packages (from kiwisolver>=1.0.1->matplotlib->missingno) (59.3.0)\n",
      "Requirement already satisfied: pytz>=2017.3 in /opt/conda/lib/python3.7/site-packages (from pandas>=0.22.0->seaborn->missingno) (2019.3)\n",
      "Installing collected packages: missingno\n",
      "Successfully installed missingno-0.5.2\n",
      "\u001b[33mWARNING: Running pip as the 'root' user can result in broken permissions and conflicting behaviour with the system package manager. It is recommended to use a virtual environment instead: https://pip.pypa.io/warnings/venv\u001b[0m\u001b[33m\n",
      "\u001b[0m\u001b[33mWARNING: The directory '/root/.cache/pip' or its parent directory is not owned or is not writable by the current user. The cache has been disabled. Check the permissions and owner of that directory. If executing pip with sudo, you should use sudo's -H flag.\u001b[0m\u001b[33m\n",
      "\u001b[0mCollecting scikit-optimize\n",
      "  Downloading scikit_optimize-0.9.0-py2.py3-none-any.whl (100 kB)\n",
      "\u001b[2K     \u001b[90m━━━━━━━━━━━━━━━━━━━━━━━━━━━━━━━━━━━━━\u001b[0m \u001b[32m100.3/100.3 kB\u001b[0m \u001b[31m222.4 MB/s\u001b[0m eta \u001b[36m0:00:00\u001b[0m\n",
      "\u001b[?25hRequirement already satisfied: scikit-learn>=0.20.0 in /opt/conda/lib/python3.7/site-packages (from scikit-optimize) (0.22.1)\n",
      "Requirement already satisfied: numpy>=1.13.3 in /opt/conda/lib/python3.7/site-packages (from scikit-optimize) (1.21.6)\n",
      "Requirement already satisfied: joblib>=0.11 in /opt/conda/lib/python3.7/site-packages (from scikit-optimize) (1.2.0)\n",
      "Requirement already satisfied: scipy>=0.19.1 in /opt/conda/lib/python3.7/site-packages (from scikit-optimize) (1.4.1)\n",
      "Collecting pyaml>=16.9\n",
      "  Downloading pyaml-21.10.1-py2.py3-none-any.whl (24 kB)\n",
      "Requirement already satisfied: PyYAML in /opt/conda/lib/python3.7/site-packages (from pyaml>=16.9->scikit-optimize) (6.0)\n",
      "Installing collected packages: pyaml, scikit-optimize\n",
      "Successfully installed pyaml-21.10.1 scikit-optimize-0.9.0\n",
      "\u001b[33mWARNING: Running pip as the 'root' user can result in broken permissions and conflicting behaviour with the system package manager. It is recommended to use a virtual environment instead: https://pip.pypa.io/warnings/venv\u001b[0m\u001b[33m\n",
      "\u001b[0m"
     ]
    }
   ],
   "source": [
    "!pip install --disable-pip-version-check -q PyAthena==2.1.0\n",
    "!pip install --disable-pip-version-check -q sagemaker-experiments==0.1.26\n",
    "!pip install missingno\n",
    "!pip install scikit-optimize"
   ]
  },
  {
   "cell_type": "markdown",
   "id": "bd6e5a52-94a3-489c-819b-f57885fe9cc6",
   "metadata": {},
   "source": [
    "## Globally import libraries"
   ]
  },
  {
   "cell_type": "code",
   "execution_count": 3,
   "id": "c1264efc-72eb-45b3-9311-6ff9a787a26b",
   "metadata": {},
   "outputs": [],
   "source": [
    "import boto3\n",
    "from botocore.client import ClientError\n",
    "import pandas as pd\n",
    "import numpy as np\n",
    "from pyathena import connect\n",
    "from IPython.core.display import display, HTML\n",
    "import missingno as msno\n",
    "from skopt import BayesSearchCV\n",
    "from skopt.space import Real, Categorical, Integer\n",
    "from sklearn.compose import ColumnTransformer\n",
    "from sklearn.pipeline import make_pipeline, Pipeline\n",
    "from sklearn.preprocessing import StandardScaler, OneHotEncoder\n",
    "from sklearn.model_selection import train_test_split, cross_val_score, GridSearchCV\n",
    "from sklearn.ensemble import RandomForestRegressor\n",
    "from sklearn.neural_network import MLPRegressor\n",
    "from sklearn.impute import SimpleImputer\n",
    "from sklearn.metrics import r2_score, mean_squared_error\n",
    "from sklearn.linear_model import Lasso\n",
    "import datetime as dt\n",
    "import time\n",
    "import sagemaker\n",
    "from smexperiments.experiment import Experiment\n",
    "from smexperiments.trial import Trial\n",
    "import joblib\n",
    "import os\n",
    "from io import BytesIO\n",
    "\n",
    "%matplotlib inline"
   ]
  },
  {
   "cell_type": "markdown",
   "id": "e0208499-b452-4abe-a5ae-475f0ecc4254",
   "metadata": {},
   "source": [
    "## Instantiate AWS SageMaker and S3 sessions"
   ]
  },
  {
   "cell_type": "code",
   "execution_count": 4,
   "id": "6c4ef463-dd80-4d28-9a1f-09f5261fca85",
   "metadata": {},
   "outputs": [],
   "source": [
    "session = boto3.session.Session()\n",
    "role = sagemaker.get_execution_role()\n",
    "region = session.region_name\n",
    "sagemaker_session = sagemaker.Session()\n",
    "def_bucket = sagemaker_session.default_bucket()\n",
    "bucket = 'sagemaker-us-east-ads508-sp23-t8'\n",
    "\n",
    "s3 = boto3.Session().client(service_name=\"s3\",\n",
    "                            region_name=region)\n",
    "\n",
    "sm = boto3.Session().client(service_name=\"sagemaker\",\n",
    "                            region_name=region)"
   ]
  },
  {
   "cell_type": "code",
   "execution_count": 5,
   "id": "59fe83df-3b8d-4120-ae9a-221497980a76",
   "metadata": {},
   "outputs": [
    {
     "name": "stdout",
     "output_type": "stream",
     "text": [
      "Default bucket: sagemaker-us-east-1-657724983756\n",
      "Public T8 bucket: sagemaker-us-east-ads508-sp23-t8\n"
     ]
    }
   ],
   "source": [
    "print(f\"Default bucket: {def_bucket}\")\n",
    "print(f\"Public T8 bucket: {bucket}\")"
   ]
  },
  {
   "cell_type": "markdown",
   "id": "2ea0232b-3373-406b-addb-3bd73572884a",
   "metadata": {},
   "source": [
    "## Pass in train and test X from CSV"
   ]
  },
  {
   "cell_type": "code",
   "execution_count": 6,
   "id": "39061b0e-220f-48bc-b392-9a1e7c18de33",
   "metadata": {},
   "outputs": [
    {
     "name": "stdout",
     "output_type": "stream",
     "text": [
      "(25284, 48)\n",
      "\n",
      "(6321, 48)\n"
     ]
    }
   ],
   "source": [
    "s3_train_x01_csv_path = f\"s3://{def_bucket}/team_8_data/modeling_data/training/train_x01.csv\"\n",
    "train_x01 = pd.read_csv(s3_train_x01_csv_path)\n",
    "s3_test_x01_csv_path = f\"s3://{def_bucket}/team_8_data/modeling_data/testing/test_x01.csv\"\n",
    "test_x01 = pd.read_csv(s3_test_x01_csv_path)\n",
    "\n",
    "print(f'{train_x01.shape}')\n",
    "print(f'\\n{test_x01.shape}')"
   ]
  },
  {
   "cell_type": "markdown",
   "id": "8906d20b-871d-4a6c-8fd2-0d363c49d3ee",
   "metadata": {},
   "source": [
    "## Pass in train and test y from np array"
   ]
  },
  {
   "cell_type": "code",
   "execution_count": 7,
   "id": "52d90171-b637-4458-a57c-bc3bc86372f4",
   "metadata": {},
   "outputs": [
    {
     "name": "stdout",
     "output_type": "stream",
     "text": [
      "(25284,)\n",
      "(6321,)\n"
     ]
    }
   ],
   "source": [
    "# Define the S3 object key\n",
    "train_y01_s3_key = 'team_8_data/modeling_data/training/train_y01.npy'\n",
    "\n",
    "# Load the numpy array from S3\n",
    "with BytesIO() as data:\n",
    "    s3.download_fileobj(def_bucket, train_y01_s3_key, data)\n",
    "    data.seek(0)\n",
    "    train_y01 = np.load(data)\n",
    "\n",
    "# Define the S3 object key\n",
    "test_y01_s3_key = 'team_8_data/modeling_data/testing/test_y01.npy'\n",
    "\n",
    "# Load the numpy array from S3\n",
    "with BytesIO() as data:\n",
    "    s3.download_fileobj(def_bucket, test_y01_s3_key, data)\n",
    "    data.seek(0)\n",
    "    test_y01 = np.load(data)\n",
    "\n",
    "train_y01 = train_y01.ravel()\n",
    "test_y01 = test_y01.ravel()\n",
    "\n",
    "# Confirm that the numpy array was loaded from S3\n",
    "print(f'{train_y01.shape}')\n",
    "print(f'{test_y01.shape}')"
   ]
  },
  {
   "cell_type": "markdown",
   "id": "f964692a-cf34-4755-bd98-14ce4acd8c93",
   "metadata": {},
   "source": [
    "## Model Training using Grid search with 5-fold cross-validation"
   ]
  },
  {
   "cell_type": "markdown",
   "id": "67effbbc-6281-49a2-8ae8-8424eba5a4f5",
   "metadata": {},
   "source": [
    "### Neural Network"
   ]
  },
  {
   "cell_type": "code",
   "execution_count": 8,
   "id": "fc11cbc6-c656-4b38-89d0-ecb204542df7",
   "metadata": {
    "tags": []
   },
   "outputs": [
    {
     "name": "stdout",
     "output_type": "stream",
     "text": [
      "Fitting 5 folds for each of 36 candidates, totalling 180 fits\n"
     ]
    },
    {
     "name": "stderr",
     "output_type": "stream",
     "text": [
      "[Parallel(n_jobs=2)]: Using backend LokyBackend with 2 concurrent workers.\n",
      "[Parallel(n_jobs=2)]: Done  37 tasks      | elapsed: 12.0min\n",
      "[Parallel(n_jobs=2)]: Done 158 tasks      | elapsed: 45.9min\n",
      "[Parallel(n_jobs=2)]: Done 180 out of 180 | elapsed: 51.7min finished\n"
     ]
    },
    {
     "name": "stdout",
     "output_type": "stream",
     "text": [
      "Best Estimator:\n",
      "Pipeline(memory=None,\n",
      "         steps=[('si',\n",
      "                 SimpleImputer(add_indicator=False, copy=True, fill_value=None,\n",
      "                               missing_values=nan, strategy='median',\n",
      "                               verbose=0)),\n",
      "                ('ss',\n",
      "                 StandardScaler(copy=True, with_mean=True, with_std=True)),\n",
      "                ('nn',\n",
      "                 MLPRegressor(activation='relu', alpha=0.0005,\n",
      "                              batch_size='auto', beta_1=0.9, beta_2=0.999,\n",
      "                              early_stopping=False, epsilon=1e-08,\n",
      "                              hidden_layer_sizes=[50, 50],\n",
      "                              learning_rate='constant',\n",
      "                              learning_rate_init=0.001, max_fun=15000,\n",
      "                              max_iter=200, momentum=0.9, n_iter_no_change=10,\n",
      "                              nesterovs_momentum=True, power_t=0.5,\n",
      "                              random_state=1699, shuffle=True, solver='adam',\n",
      "                              tol=0.0001, validation_fraction=0.1,\n",
      "                              verbose=False, warm_start=False))],\n",
      "         verbose=False)\n",
      "    mean_fit_time  std_fit_time  mean_score_time  std_score_time  \\\n",
      "0       33.143548      0.529329         0.032452        0.003388   \n",
      "1       34.235025      0.891932         0.034432        0.003698   \n",
      "2       45.957392      0.721042         0.042339        0.000732   \n",
      "3       46.024776      0.781211         0.050556        0.017036   \n",
      "4       38.072548      0.445525         0.033994        0.003400   \n",
      "5       36.995700      0.322889         0.032575        0.000501   \n",
      "6       32.707927      0.229827         0.032212        0.000665   \n",
      "7       32.493836      0.077391         0.032501        0.000327   \n",
      "8       45.085183      0.421935         0.044698        0.003383   \n",
      "9       45.192096      0.353731         0.045635        0.003949   \n",
      "10      37.167754      0.503359         0.034419        0.004507   \n",
      "11      37.187461      0.628572         0.033794        0.003179   \n",
      "12      32.951811      0.651863         0.032234        0.000757   \n",
      "13      32.465124      0.270572         0.032322        0.000358   \n",
      "14      47.043259      2.372003         0.042367        0.000092   \n",
      "15      45.504390      0.374914         0.042963        0.001024   \n",
      "16      37.119073      0.681981         0.033486        0.001257   \n",
      "17      37.297852      0.599174         0.032584        0.000332   \n",
      "18      25.550653      0.229620         0.020148        0.003253   \n",
      "19      25.787540      0.218238         0.017209        0.000411   \n",
      "20      33.771521      0.603930         0.024322        0.009828   \n",
      "21      33.597681      0.430749         0.019367        0.000481   \n",
      "22      31.016342      0.396437         0.017053        0.001032   \n",
      "23      31.029871      0.554800         0.018221        0.001761   \n",
      "24      26.011305      0.443071         0.017106        0.000348   \n",
      "25      25.785980      0.471428         0.016555        0.001151   \n",
      "26      33.899021      0.349528         0.020482        0.001773   \n",
      "27      33.563256      0.528809         0.019615        0.000963   \n",
      "28      31.141742      0.566396         0.020337        0.006852   \n",
      "29      30.997358      0.365988         0.017249        0.000827   \n",
      "30      25.684840      0.256868         0.017028        0.000479   \n",
      "31      25.798281      0.302832         0.017244        0.000354   \n",
      "32      33.996955      0.638432         0.019921        0.000500   \n",
      "33      33.543362      0.277484         0.019681        0.000308   \n",
      "34      30.799481      0.347098         0.017663        0.000995   \n",
      "35      30.831124      0.491073         0.015790        0.002267   \n",
      "\n",
      "   param_nn__activation param_nn__alpha param_nn__hidden_layer_sizes  \\\n",
      "0              logistic          0.0001                        [100]   \n",
      "1              logistic          0.0001                        [100]   \n",
      "2              logistic          0.0001                        [154]   \n",
      "3              logistic          0.0001                        [154]   \n",
      "4              logistic          0.0001                     [50, 50]   \n",
      "5              logistic          0.0001                     [50, 50]   \n",
      "6              logistic          0.0005                        [100]   \n",
      "7              logistic          0.0005                        [100]   \n",
      "8              logistic          0.0005                        [154]   \n",
      "9              logistic          0.0005                        [154]   \n",
      "10             logistic          0.0005                     [50, 50]   \n",
      "11             logistic          0.0005                     [50, 50]   \n",
      "12             logistic           0.001                        [100]   \n",
      "13             logistic           0.001                        [100]   \n",
      "14             logistic           0.001                        [154]   \n",
      "15             logistic           0.001                        [154]   \n",
      "16             logistic           0.001                     [50, 50]   \n",
      "17             logistic           0.001                     [50, 50]   \n",
      "18                 relu          0.0001                        [100]   \n",
      "19                 relu          0.0001                        [100]   \n",
      "20                 relu          0.0001                        [154]   \n",
      "21                 relu          0.0001                        [154]   \n",
      "22                 relu          0.0001                     [50, 50]   \n",
      "23                 relu          0.0001                     [50, 50]   \n",
      "24                 relu          0.0005                        [100]   \n",
      "25                 relu          0.0005                        [100]   \n",
      "26                 relu          0.0005                        [154]   \n",
      "27                 relu          0.0005                        [154]   \n",
      "28                 relu          0.0005                     [50, 50]   \n",
      "29                 relu          0.0005                     [50, 50]   \n",
      "30                 relu           0.001                        [100]   \n",
      "31                 relu           0.001                        [100]   \n",
      "32                 relu           0.001                        [154]   \n",
      "33                 relu           0.001                        [154]   \n",
      "34                 relu           0.001                     [50, 50]   \n",
      "35                 relu           0.001                     [50, 50]   \n",
      "\n",
      "   param_nn__learning_rate param_nn__solver  \\\n",
      "0                 constant             adam   \n",
      "1               invscaling             adam   \n",
      "2                 constant             adam   \n",
      "3               invscaling             adam   \n",
      "4                 constant             adam   \n",
      "5               invscaling             adam   \n",
      "6                 constant             adam   \n",
      "7               invscaling             adam   \n",
      "8                 constant             adam   \n",
      "9               invscaling             adam   \n",
      "10                constant             adam   \n",
      "11              invscaling             adam   \n",
      "12                constant             adam   \n",
      "13              invscaling             adam   \n",
      "14                constant             adam   \n",
      "15              invscaling             adam   \n",
      "16                constant             adam   \n",
      "17              invscaling             adam   \n",
      "18                constant             adam   \n",
      "19              invscaling             adam   \n",
      "20                constant             adam   \n",
      "21              invscaling             adam   \n",
      "22                constant             adam   \n",
      "23              invscaling             adam   \n",
      "24                constant             adam   \n",
      "25              invscaling             adam   \n",
      "26                constant             adam   \n",
      "27              invscaling             adam   \n",
      "28                constant             adam   \n",
      "29              invscaling             adam   \n",
      "30                constant             adam   \n",
      "31              invscaling             adam   \n",
      "32                constant             adam   \n",
      "33              invscaling             adam   \n",
      "34                constant             adam   \n",
      "35              invscaling             adam   \n",
      "\n",
      "                                               params  split0_test_score  \\\n",
      "0   {'nn__activation': 'logistic', 'nn__alpha': 0....          -7.886156   \n",
      "1   {'nn__activation': 'logistic', 'nn__alpha': 0....          -7.886156   \n",
      "2   {'nn__activation': 'logistic', 'nn__alpha': 0....          -6.666789   \n",
      "3   {'nn__activation': 'logistic', 'nn__alpha': 0....          -6.666789   \n",
      "4   {'nn__activation': 'logistic', 'nn__alpha': 0....          -4.942271   \n",
      "5   {'nn__activation': 'logistic', 'nn__alpha': 0....          -4.942271   \n",
      "6   {'nn__activation': 'logistic', 'nn__alpha': 0....          -7.885017   \n",
      "7   {'nn__activation': 'logistic', 'nn__alpha': 0....          -7.885017   \n",
      "8   {'nn__activation': 'logistic', 'nn__alpha': 0....          -6.660854   \n",
      "9   {'nn__activation': 'logistic', 'nn__alpha': 0....          -6.660854   \n",
      "10  {'nn__activation': 'logistic', 'nn__alpha': 0....          -4.943635   \n",
      "11  {'nn__activation': 'logistic', 'nn__alpha': 0....          -4.943635   \n",
      "12  {'nn__activation': 'logistic', 'nn__alpha': 0....          -7.886704   \n",
      "13  {'nn__activation': 'logistic', 'nn__alpha': 0....          -7.886704   \n",
      "14  {'nn__activation': 'logistic', 'nn__alpha': 0....          -6.656225   \n",
      "15  {'nn__activation': 'logistic', 'nn__alpha': 0....          -6.656225   \n",
      "16  {'nn__activation': 'logistic', 'nn__alpha': 0....          -4.945009   \n",
      "17  {'nn__activation': 'logistic', 'nn__alpha': 0....          -4.945009   \n",
      "18  {'nn__activation': 'relu', 'nn__alpha': 0.0001...          -4.755215   \n",
      "19  {'nn__activation': 'relu', 'nn__alpha': 0.0001...          -4.755215   \n",
      "20  {'nn__activation': 'relu', 'nn__alpha': 0.0001...          -3.408820   \n",
      "21  {'nn__activation': 'relu', 'nn__alpha': 0.0001...          -3.408820   \n",
      "22  {'nn__activation': 'relu', 'nn__alpha': 0.0001...          -2.138443   \n",
      "23  {'nn__activation': 'relu', 'nn__alpha': 0.0001...          -2.138443   \n",
      "24  {'nn__activation': 'relu', 'nn__alpha': 0.0005...          -4.793217   \n",
      "25  {'nn__activation': 'relu', 'nn__alpha': 0.0005...          -4.793217   \n",
      "26  {'nn__activation': 'relu', 'nn__alpha': 0.0005...          -3.415002   \n",
      "27  {'nn__activation': 'relu', 'nn__alpha': 0.0005...          -3.415002   \n",
      "28  {'nn__activation': 'relu', 'nn__alpha': 0.0005...          -2.072638   \n",
      "29  {'nn__activation': 'relu', 'nn__alpha': 0.0005...          -2.072638   \n",
      "30  {'nn__activation': 'relu', 'nn__alpha': 0.001,...          -4.732671   \n",
      "31  {'nn__activation': 'relu', 'nn__alpha': 0.001,...          -4.732671   \n",
      "32  {'nn__activation': 'relu', 'nn__alpha': 0.001,...          -3.442814   \n",
      "33  {'nn__activation': 'relu', 'nn__alpha': 0.001,...          -3.442814   \n",
      "34  {'nn__activation': 'relu', 'nn__alpha': 0.001,...          -2.158172   \n",
      "35  {'nn__activation': 'relu', 'nn__alpha': 0.001,...          -2.158172   \n",
      "\n",
      "    split1_test_score  split2_test_score  split3_test_score  \\\n",
      "0           -8.056679          -7.571552          -7.917553   \n",
      "1           -8.056679          -7.571552          -7.917553   \n",
      "2           -6.611240          -6.292724          -6.284235   \n",
      "3           -6.611240          -6.292724          -6.284235   \n",
      "4           -4.733368          -4.564217          -4.642696   \n",
      "5           -4.733368          -4.564217          -4.642696   \n",
      "6           -8.054838          -7.574916          -7.917823   \n",
      "7           -8.054838          -7.574916          -7.917823   \n",
      "8           -6.610766          -6.290245          -6.284635   \n",
      "9           -6.610766          -6.290245          -6.284635   \n",
      "10          -4.732347          -4.564699          -4.641053   \n",
      "11          -4.732347          -4.564699          -4.641053   \n",
      "12          -8.054588          -7.577553          -7.916608   \n",
      "13          -8.054588          -7.577553          -7.916608   \n",
      "14          -6.610904          -6.288636          -6.287919   \n",
      "15          -6.610904          -6.288636          -6.287919   \n",
      "16          -4.731240          -4.566586          -4.652802   \n",
      "17          -4.731240          -4.566586          -4.652802   \n",
      "18          -4.727183          -4.493818          -4.706454   \n",
      "19          -4.727183          -4.493818          -4.706454   \n",
      "20          -3.261693          -3.143096          -3.177231   \n",
      "21          -3.261693          -3.143096          -3.177231   \n",
      "22          -2.074308          -1.988741          -2.209510   \n",
      "23          -2.074308          -1.988741          -2.209510   \n",
      "24          -4.620354          -4.531985          -4.668786   \n",
      "25          -4.620354          -4.531985          -4.668786   \n",
      "26          -3.165363          -3.111582          -3.153980   \n",
      "27          -3.165363          -3.111582          -3.153980   \n",
      "28          -1.978748          -1.917381          -2.099757   \n",
      "29          -1.978748          -1.917381          -2.099757   \n",
      "30          -4.652343          -4.511500          -4.645985   \n",
      "31          -4.652343          -4.511500          -4.645985   \n",
      "32          -3.205790          -3.099954          -3.160798   \n",
      "33          -3.205790          -3.099954          -3.160798   \n",
      "34          -1.995288          -1.845477          -2.203662   \n",
      "35          -1.995288          -1.845477          -2.203662   \n",
      "\n",
      "    split4_test_score  mean_test_score  std_test_score  rank_test_score  \n",
      "0           -7.868349        -7.860058        0.158714               31  \n",
      "1           -7.868349        -7.860058        0.158714               31  \n",
      "2           -6.383989        -6.447796        0.160961               29  \n",
      "3           -6.383989        -6.447796        0.160961               29  \n",
      "4           -4.418050        -4.660120        0.174970               19  \n",
      "5           -4.418050        -4.660120        0.174970               19  \n",
      "6           -7.869608        -7.860440        0.157032               33  \n",
      "7           -7.869608        -7.860440        0.157032               33  \n",
      "8           -6.380977        -6.445496        0.159897               27  \n",
      "9           -6.380977        -6.445496        0.159897               27  \n",
      "10          -4.419229        -4.660193        0.174983               21  \n",
      "11          -4.419229        -4.660193        0.174983               21  \n",
      "12          -7.871709        -7.861432        0.156003               35  \n",
      "13          -7.871709        -7.861432        0.156003               35  \n",
      "14          -6.378792        -6.444495        0.158522               25  \n",
      "15          -6.378792        -6.444495        0.158522               25  \n",
      "16          -4.421981        -4.663523        0.174169               23  \n",
      "17          -4.421981        -4.663523        0.174169               23  \n",
      "18          -4.317670        -4.600068        0.168870               17  \n",
      "19          -4.317670        -4.600068        0.168870               17  \n",
      "20          -3.227816        -3.243731        0.092065               11  \n",
      "21          -3.227816        -3.243731        0.092065               11  \n",
      "22          -1.943277        -2.070856        0.096772                5  \n",
      "23          -1.943277        -2.070856        0.096772                5  \n",
      "24          -4.332465        -4.589361        0.153697               15  \n",
      "25          -4.332465        -4.589361        0.153697               15  \n",
      "26          -3.171301        -3.203446        0.107820                7  \n",
      "27          -3.171301        -3.203446        0.107820                7  \n",
      "28          -2.024192        -2.018543        0.065378                1  \n",
      "29          -2.024192        -2.018543        0.065378                1  \n",
      "30          -4.367697        -4.582040        0.128561               13  \n",
      "31          -4.367697        -4.582040        0.128561               13  \n",
      "32          -3.234924        -3.228856        0.116271                9  \n",
      "33          -3.234924        -3.228856        0.116271                9  \n",
      "34          -2.029527        -2.046425        0.126879                3  \n",
      "35          -2.029527        -2.046425        0.126879                3  \n",
      "[ 5.77257103  2.71321492 34.23584791 ...  2.24031845 14.15423095\n",
      "  0.35154327]\n",
      "[41.00555646 -0.83261161 37.19630089 ... -1.23440346  6.85440592\n",
      " 17.10392427]\n",
      "Train R-sq:\n",
      "0.9953169265206908\n",
      "Test R-sq:\n",
      "0.9946084935331966\n",
      "Train RMSE:\n",
      "1.2934970735367237\n",
      "Test RMSE:\n",
      "1.4032555490004501\n",
      "End Time = 2023-04-13 19:29:37.552207\n",
      "Script Time = 0:52:22.942444\n"
     ]
    },
    {
     "name": "stderr",
     "output_type": "stream",
     "text": [
      "/opt/conda/lib/python3.7/site-packages/sklearn/neural_network/_multilayer_perceptron.py:571: ConvergenceWarning: Stochastic Optimizer: Maximum iterations (200) reached and the optimization hasn't converged yet.\n",
      "  % self.max_iter, ConvergenceWarning)\n"
     ]
    }
   ],
   "source": [
    "# Start timer script\n",
    "start_time = dt.datetime.today()\n",
    "\n",
    "# Citation: Hochberg, 2018; Shanmukh, 2021\n",
    "m1v1_nn_pip = Pipeline([('si', SimpleImputer(strategy='median')),\n",
    "                     ('ss', StandardScaler()),\n",
    "                     ('nn', MLPRegressor(random_state=1699))])\n",
    "\n",
    "nodes_h = 3\n",
    "predictors_p = 49\n",
    "\n",
    "hidden_layer_sizes_hparam = [[100,],\n",
    "                             [(nodes_h*(predictors_p+1))+nodes_h+1,],\n",
    "                             [50, 50]\n",
    "                            ]\n",
    "activation_hparam = ['logistic', 'relu']\n",
    "solver_hparam = ['adam']\n",
    "alpha_hparam = [.0001, .0005, .001]\n",
    "learn_rate_hparam = ['constant', 'invscaling']\n",
    "\n",
    "#hidden_layer_sizes_hparam = [[100,]]\n",
    "#activation_hparam = ['relu']\n",
    "#solver_hparam = ['adam']\n",
    "#alpha_hparam = [.0001]\n",
    "#learn_rate_hparam = ['invscaling']\n",
    "\n",
    "m1v1_nn_grd = {'nn__hidden_layer_sizes': hidden_layer_sizes_hparam,\n",
    "            'nn__activation': activation_hparam,\n",
    "            'nn__solver': solver_hparam,\n",
    "            'nn__alpha': alpha_hparam,\n",
    "            'nn__learning_rate': learn_rate_hparam\n",
    "           }\n",
    "\n",
    "m1v1_nn = GridSearchCV(m1v1_nn_pip,\n",
    "                       m1v1_nn_grd,\n",
    "                       scoring='neg_root_mean_squared_error',\n",
    "                       n_jobs=2,\n",
    "                       refit=True,\n",
    "                       verbose=2)\n",
    "\n",
    "m1v1_nn.fit(train_x01, train_y01)\n",
    "\n",
    "print(f'Best Estimator:\\n{m1v1_nn.best_estimator_}')\n",
    "\n",
    "print(pd.DataFrame(m1v1_nn.cv_results_))\n",
    "\n",
    "train_m1v1_nn_y01_pred = m1v1_nn.predict(train_x01)\n",
    "print(train_m1v1_nn_y01_pred)\n",
    "\n",
    "test_m1v1_nn_y01_pred = m1v1_nn.predict(test_x01)\n",
    "print(test_m1v1_nn_y01_pred)\n",
    "\n",
    "# Display evaluation metrics\n",
    "# R-sq\n",
    "train_m1v1_nn_r2 = r2_score(train_y01, train_m1v1_nn_y01_pred)\n",
    "test_m1v1_nn_r2 = r2_score(test_y01, test_m1v1_nn_y01_pred)\n",
    "\n",
    "print(f'Train R-sq:\\n{train_m1v1_nn_r2}')\n",
    "print(f'Test R-sq:\\n{test_m1v1_nn_r2}')\n",
    "\n",
    "# RMSE\n",
    "train_m1v1_nn_rmse = mean_squared_error(train_y01, train_m1v1_nn_y01_pred, squared=False)\n",
    "test_m1v1_nn_rmse = mean_squared_error(test_y01, test_m1v1_nn_y01_pred, squared=False)\n",
    "\n",
    "print(f'Train RMSE:\\n{train_m1v1_nn_rmse}')\n",
    "print(f'Test RMSE:\\n{test_m1v1_nn_rmse}')\n",
    "\n",
    "# End timer script\n",
    "end_time = dt.datetime.today()\n",
    "time_elapse = end_time - start_time\n",
    "print(f'End Time = {end_time}')\n",
    "print(f'Script Time = {time_elapse}')"
   ]
  },
  {
   "cell_type": "code",
   "execution_count": 9,
   "id": "f60a9861-cbb4-4044-89a9-9b5683cb5cda",
   "metadata": {},
   "outputs": [],
   "source": [
    "s3_m1v1_nn_pqt_base_path = f\"../models\"\n",
    "\n",
    "if not os.path.exists(s3_m1v1_nn_pqt_base_path):\n",
    "    os.makedirs(s3_m1v1_nn_pqt_base_path)\n",
    "\n",
    "s3_m1v1_nn_pqt_path = os.path.join(s3_m1v1_nn_pqt_base_path,\n",
    "                                   'm1v1_nn.parquet')\n",
    "\n",
    "# save the model to disk using joblib\n",
    "joblib.dump(m1v1_nn,\n",
    "            s3_m1v1_nn_pqt_path)\n",
    "\n",
    "# load the saved model from disk using joblib\n",
    "m1v1_nn_fitted = joblib.load(s3_m1v1_nn_pqt_path)"
   ]
  },
  {
   "cell_type": "code",
   "execution_count": 10,
   "id": "7eb8ef45-fcb8-45cc-b019-95d7077bbeb0",
   "metadata": {
    "tags": []
   },
   "outputs": [],
   "source": [
    "# specify the S3 bucket and key where you want to save the model\n",
    "m1v1_nn_key_name = 'team_8_data/models/m1v1_nn.parquet'\n",
    "\n",
    "# save the model to an in-memory buffer\n",
    "buffer = BytesIO()\n",
    "joblib.dump(m1v1_nn, buffer)\n",
    "\n",
    "# upload the buffer to S3\n",
    "buffer.seek(0)\n",
    "s3.upload_fileobj(buffer, def_bucket, m1v1_nn_key_name)\n",
    "\n",
    "# load the saved model from S3\n",
    "#buffer = BytesIO()\n",
    "#s3.download_fileobj(def_bucket, m1v1_nn_key_name, buffer)\n",
    "#buffer.seek(0)\n",
    "#m1v1_nn_fitted = joblib.load(buffer)"
   ]
  },
  {
   "cell_type": "markdown",
   "id": "bf825858-d3cc-45a7-926a-554144059c73",
   "metadata": {},
   "source": [
    "### Lasso - Using `GridSearchCV`"
   ]
  },
  {
   "cell_type": "code",
   "execution_count": 11,
   "id": "2738b762-9315-4768-ad58-bcbc5d2e111c",
   "metadata": {
    "tags": []
   },
   "outputs": [
    {
     "name": "stdout",
     "output_type": "stream",
     "text": [
      "Fitting 5 folds for each of 12 candidates, totalling 60 fits\n"
     ]
    },
    {
     "name": "stderr",
     "output_type": "stream",
     "text": [
      "[Parallel(n_jobs=2)]: Using backend LokyBackend with 2 concurrent workers.\n",
      "[Parallel(n_jobs=2)]: Done  37 tasks      | elapsed:   15.4s\n",
      "[Parallel(n_jobs=2)]: Done  60 out of  60 | elapsed:   18.6s finished\n"
     ]
    },
    {
     "name": "stdout",
     "output_type": "stream",
     "text": [
      "Best Estimator:\n",
      "Pipeline(memory=None,\n",
      "         steps=[('si',\n",
      "                 SimpleImputer(add_indicator=False, copy=True, fill_value=None,\n",
      "                               missing_values=nan, strategy='median',\n",
      "                               verbose=0)),\n",
      "                ('ss',\n",
      "                 StandardScaler(copy=True, with_mean=True, with_std=True)),\n",
      "                ('ls',\n",
      "                 Lasso(alpha=0.01, copy_X=True, fit_intercept=True,\n",
      "                       max_iter=1000, normalize=False, positive=False,\n",
      "                       precompute=False, random_state=1699, selection='random',\n",
      "                       tol=0.0001, warm_start=False))],\n",
      "         verbose=False)\n",
      "Coefficients:\n",
      "[-0.04698528  1.1655262   0.         -1.02395897  1.13308637 -0.\n",
      " -0.          0.          0.02814286 -0.         -0.0307876   0.\n",
      "  0.         -0.         -0.01445511  0.         -0.          2.92859099\n",
      "  2.50110937  5.60822761  1.40168756 -2.34296164 -1.18943262 -0.33822063\n",
      " -1.3657179  -3.4737577  -6.79353668  0.12912462  0.20841108 -0.04818647\n",
      " -0.51860673  2.15041078  0.72946348 -0.44590033  0.         -1.47779489\n",
      " -0.48312123  0.          1.54018429  0.49113008  0.56200594 -0.72542784\n",
      " -8.16308228  0.40673301 -1.2849073   0.46802939  0.73592459  1.6206294 ]\n",
      "    mean_fit_time  std_fit_time  mean_score_time  std_score_time  \\\n",
      "0        1.025094      0.110517         0.009961        0.001149   \n",
      "1        1.579347      0.095895         0.010434        0.000936   \n",
      "2        0.512077      0.018247         0.010032        0.001147   \n",
      "3        0.840451      0.166026         0.009896        0.001420   \n",
      "4        0.431524      0.015982         0.008961        0.001188   \n",
      "5        1.213542      0.502992         0.010119        0.001508   \n",
      "6        0.287477      0.024440         0.008343        0.000368   \n",
      "7        0.303767      0.005579         0.010572        0.001484   \n",
      "8        0.253030      0.003281         0.010716        0.000799   \n",
      "9        0.258238      0.008042         0.010476        0.000802   \n",
      "10       0.242289      0.005520         0.010471        0.000613   \n",
      "11       0.238470      0.028518         0.008936        0.001677   \n",
      "\n",
      "   param_ls__alpha param_ls__selection  \\\n",
      "0             0.01              cyclic   \n",
      "1             0.01              random   \n",
      "2             0.05              cyclic   \n",
      "3             0.05              random   \n",
      "4              0.1              cyclic   \n",
      "5              0.1              random   \n",
      "6              0.5              cyclic   \n",
      "7              0.5              random   \n",
      "8                1              cyclic   \n",
      "9                1              random   \n",
      "10               2              cyclic   \n",
      "11               2              random   \n",
      "\n",
      "                                            params  split0_test_score  \\\n",
      "0   {'ls__alpha': 0.01, 'ls__selection': 'cyclic'}         -11.378789   \n",
      "1   {'ls__alpha': 0.01, 'ls__selection': 'random'}         -11.378654   \n",
      "2   {'ls__alpha': 0.05, 'ls__selection': 'cyclic'}         -11.381059   \n",
      "3   {'ls__alpha': 0.05, 'ls__selection': 'random'}         -11.380958   \n",
      "4    {'ls__alpha': 0.1, 'ls__selection': 'cyclic'}         -11.396508   \n",
      "5    {'ls__alpha': 0.1, 'ls__selection': 'random'}         -11.396574   \n",
      "6    {'ls__alpha': 0.5, 'ls__selection': 'cyclic'}         -11.806394   \n",
      "7    {'ls__alpha': 0.5, 'ls__selection': 'random'}         -11.806288   \n",
      "8      {'ls__alpha': 1, 'ls__selection': 'cyclic'}         -12.008540   \n",
      "9      {'ls__alpha': 1, 'ls__selection': 'random'}         -12.008700   \n",
      "10     {'ls__alpha': 2, 'ls__selection': 'cyclic'}         -12.496541   \n",
      "11     {'ls__alpha': 2, 'ls__selection': 'random'}         -12.496534   \n",
      "\n",
      "    split1_test_score  split2_test_score  split3_test_score  \\\n",
      "0          -11.391382         -11.411164         -11.505775   \n",
      "1          -11.391378         -11.411135         -11.505295   \n",
      "2          -11.384965         -11.423042         -11.519926   \n",
      "3          -11.384860         -11.423228         -11.520242   \n",
      "4          -11.408320         -11.450277         -11.549378   \n",
      "5          -11.408500         -11.450586         -11.550226   \n",
      "6          -11.866156         -11.935607         -12.014084   \n",
      "7          -11.866341         -11.935859         -12.014298   \n",
      "8          -12.112724         -12.186260         -12.226056   \n",
      "9          -12.112880         -12.186494         -12.226203   \n",
      "10         -12.607476         -12.682111         -12.710059   \n",
      "11         -12.607472         -12.682084         -12.710063   \n",
      "\n",
      "    split4_test_score  mean_test_score  std_test_score  rank_test_score  \n",
      "0          -11.386550       -11.414732        0.046761                2  \n",
      "1          -11.386614       -11.414615        0.046588                1  \n",
      "2          -11.395211       -11.420840        0.051671                3  \n",
      "3          -11.395450       -11.420948        0.051800                4  \n",
      "4          -11.417847       -11.444466        0.055417                5  \n",
      "5          -11.418167       -11.444811        0.055679                6  \n",
      "6          -11.850882       -11.894625        0.072744                7  \n",
      "7          -11.851056       -11.894768        0.072833                8  \n",
      "8          -12.081994       -12.123115        0.076825                9  \n",
      "9          -12.082092       -12.123274        0.076840               10  \n",
      "10         -12.596496       -12.618537        0.074712               11  \n",
      "11         -12.596565       -12.618544        0.074706               12  \n",
      "[ 1.00885432  2.1155105  20.65181841 ...  5.04395528 20.70033313\n",
      "  9.2996565 ]\n",
      "[43.29645545  3.29328038 36.54323059 ... -0.46893988  1.17345827\n",
      "  3.2687973 ]\n",
      "Train R-sq:\n",
      "0.6369229292317483\n",
      "Test R-sq:\n",
      "0.6479556475979478\n",
      "Train RMSE:\n",
      "11.389361452679568\n",
      "Test RMSE:\n",
      "11.339147217962033\n",
      "End Time = 2023-04-13 19:29:57.540560\n",
      "Script Time = 0:00:19.711830\n"
     ]
    }
   ],
   "source": [
    "# Start timer script\n",
    "start_time = dt.datetime.today()\n",
    "\n",
    "# Citation: Hochberg, 2018; Shanmukh, 2021\n",
    "m2v1_ls_pip = Pipeline([('si', SimpleImputer(strategy='median')),\n",
    "                        ('ss', StandardScaler()),\n",
    "                        ('ls', Lasso(random_state=1699))])\n",
    "\n",
    "alpha_hparam = [.01, .05, .1, .5, 1, 2]\n",
    "selection_hparam = ['cyclic', 'random']\n",
    "\n",
    "\n",
    "m2v1_ls_grd = {'ls__alpha': alpha_hparam,\n",
    "               'ls__selection': selection_hparam\n",
    "           }\n",
    "\n",
    "m2v1_ls = GridSearchCV(m2v1_ls_pip,\n",
    "                       m2v1_ls_grd,\n",
    "                       scoring='neg_root_mean_squared_error',\n",
    "                       n_jobs=2,\n",
    "                       refit=True,\n",
    "                       verbose=2)\n",
    "\n",
    "m2v1_ls.fit(train_x01, train_y01)\n",
    "\n",
    "print(f'Best Estimator:\\n{m2v1_ls.best_estimator_}')\n",
    "print(f'Coefficients:\\n{m2v1_ls.best_estimator_.named_steps[\"ls\"].coef_}')\n",
    "\n",
    "print(pd.DataFrame(m2v1_ls.cv_results_))\n",
    "\n",
    "train_m2v1_ls_y01_pred = m2v1_ls.predict(train_x01)\n",
    "print(train_m2v1_ls_y01_pred)\n",
    "\n",
    "test_m2v1_ls_y01_pred = m2v1_ls.predict(test_x01)\n",
    "print(test_m2v1_ls_y01_pred)\n",
    "\n",
    "# Display evaluation metrics\n",
    "# R-sq\n",
    "train_m2v1_ls_r2 = r2_score(train_y01, train_m2v1_ls_y01_pred)\n",
    "test_m2v1_ls_r2 = r2_score(test_y01, test_m2v1_ls_y01_pred)\n",
    "\n",
    "print(f'Train R-sq:\\n{train_m2v1_ls_r2}')\n",
    "print(f'Test R-sq:\\n{test_m2v1_ls_r2}')\n",
    "\n",
    "# RMSE\n",
    "train_m2v1_ls_rmse = mean_squared_error(train_y01, train_m2v1_ls_y01_pred, squared=False)\n",
    "test_m2v1_ls_rmse = mean_squared_error(test_y01, test_m2v1_ls_y01_pred, squared=False)\n",
    "\n",
    "print(f'Train RMSE:\\n{train_m2v1_ls_rmse}')\n",
    "print(f'Test RMSE:\\n{test_m2v1_ls_rmse}')\n",
    "\n",
    "# End timer script\n",
    "end_time = dt.datetime.today()\n",
    "time_elapse = end_time - start_time\n",
    "print(f'End Time = {end_time}')\n",
    "print(f'Script Time = {time_elapse}')"
   ]
  },
  {
   "cell_type": "code",
   "execution_count": 12,
   "id": "3f56e4e9-ab8a-42d1-89a0-e1795c560afa",
   "metadata": {
    "tags": []
   },
   "outputs": [
    {
     "data": {
      "text/html": [
       "<div>\n",
       "<style scoped>\n",
       "    .dataframe tbody tr th:only-of-type {\n",
       "        vertical-align: middle;\n",
       "    }\n",
       "\n",
       "    .dataframe tbody tr th {\n",
       "        vertical-align: top;\n",
       "    }\n",
       "\n",
       "    .dataframe thead th {\n",
       "        text-align: right;\n",
       "    }\n",
       "</style>\n",
       "<table border=\"1\" class=\"dataframe\">\n",
       "  <thead>\n",
       "    <tr style=\"text-align: right;\">\n",
       "      <th></th>\n",
       "      <th>0</th>\n",
       "      <th>0</th>\n",
       "    </tr>\n",
       "  </thead>\n",
       "  <tbody>\n",
       "    <tr>\n",
       "      <th>0</th>\n",
       "      <td>borough_bronx</td>\n",
       "      <td>-0.046985</td>\n",
       "    </tr>\n",
       "    <tr>\n",
       "      <th>1</th>\n",
       "      <td>borough_brooklyn</td>\n",
       "      <td>1.165526</td>\n",
       "    </tr>\n",
       "    <tr>\n",
       "      <th>2</th>\n",
       "      <td>borough_manhattan</td>\n",
       "      <td>0.000000</td>\n",
       "    </tr>\n",
       "    <tr>\n",
       "      <th>3</th>\n",
       "      <td>borough_queens</td>\n",
       "      <td>-1.023959</td>\n",
       "    </tr>\n",
       "    <tr>\n",
       "      <th>4</th>\n",
       "      <td>borough_staten island</td>\n",
       "      <td>1.133086</td>\n",
       "    </tr>\n",
       "    <tr>\n",
       "      <th>5</th>\n",
       "      <td>relative_data_year_-4</td>\n",
       "      <td>-0.000000</td>\n",
       "    </tr>\n",
       "    <tr>\n",
       "      <th>6</th>\n",
       "      <td>relative_data_year_-3</td>\n",
       "      <td>-0.000000</td>\n",
       "    </tr>\n",
       "    <tr>\n",
       "      <th>7</th>\n",
       "      <td>relative_data_year_-2</td>\n",
       "      <td>0.000000</td>\n",
       "    </tr>\n",
       "    <tr>\n",
       "      <th>8</th>\n",
       "      <td>relative_data_year_-1</td>\n",
       "      <td>0.028143</td>\n",
       "    </tr>\n",
       "    <tr>\n",
       "      <th>9</th>\n",
       "      <td>relative_data_year_0</td>\n",
       "      <td>-0.000000</td>\n",
       "    </tr>\n",
       "    <tr>\n",
       "      <th>10</th>\n",
       "      <td>complaint_type_FELONY</td>\n",
       "      <td>-0.030788</td>\n",
       "    </tr>\n",
       "    <tr>\n",
       "      <th>11</th>\n",
       "      <td>complaint_type_MISDEMEANOR</td>\n",
       "      <td>0.000000</td>\n",
       "    </tr>\n",
       "    <tr>\n",
       "      <th>12</th>\n",
       "      <td>complaint_type_VIOLATION</td>\n",
       "      <td>0.000000</td>\n",
       "    </tr>\n",
       "    <tr>\n",
       "      <th>13</th>\n",
       "      <td>annual_evictions_x_borough</td>\n",
       "      <td>-0.000000</td>\n",
       "    </tr>\n",
       "    <tr>\n",
       "      <th>14</th>\n",
       "      <td>annual_complaint_counts</td>\n",
       "      <td>-0.014455</td>\n",
       "    </tr>\n",
       "    <tr>\n",
       "      <th>15</th>\n",
       "      <td>annual_grad_n</td>\n",
       "      <td>0.000000</td>\n",
       "    </tr>\n",
       "    <tr>\n",
       "      <th>16</th>\n",
       "      <td>annual_dropped_out_n</td>\n",
       "      <td>-0.000000</td>\n",
       "    </tr>\n",
       "    <tr>\n",
       "      <th>17</th>\n",
       "      <td>totalpop</td>\n",
       "      <td>2.928591</td>\n",
       "    </tr>\n",
       "    <tr>\n",
       "      <th>18</th>\n",
       "      <td>men</td>\n",
       "      <td>2.501109</td>\n",
       "    </tr>\n",
       "    <tr>\n",
       "      <th>19</th>\n",
       "      <td>women</td>\n",
       "      <td>5.608228</td>\n",
       "    </tr>\n",
       "    <tr>\n",
       "      <th>20</th>\n",
       "      <td>hispanic</td>\n",
       "      <td>1.401688</td>\n",
       "    </tr>\n",
       "    <tr>\n",
       "      <th>21</th>\n",
       "      <td>white</td>\n",
       "      <td>-2.342962</td>\n",
       "    </tr>\n",
       "    <tr>\n",
       "      <th>22</th>\n",
       "      <td>black</td>\n",
       "      <td>-1.189433</td>\n",
       "    </tr>\n",
       "    <tr>\n",
       "      <th>23</th>\n",
       "      <td>native</td>\n",
       "      <td>-0.338221</td>\n",
       "    </tr>\n",
       "    <tr>\n",
       "      <th>24</th>\n",
       "      <td>asian</td>\n",
       "      <td>-1.365718</td>\n",
       "    </tr>\n",
       "    <tr>\n",
       "      <th>25</th>\n",
       "      <td>citizen</td>\n",
       "      <td>-3.473758</td>\n",
       "    </tr>\n",
       "    <tr>\n",
       "      <th>26</th>\n",
       "      <td>income</td>\n",
       "      <td>-6.793537</td>\n",
       "    </tr>\n",
       "    <tr>\n",
       "      <th>27</th>\n",
       "      <td>incomeerr</td>\n",
       "      <td>0.129125</td>\n",
       "    </tr>\n",
       "    <tr>\n",
       "      <th>28</th>\n",
       "      <td>incomepercap</td>\n",
       "      <td>0.208411</td>\n",
       "    </tr>\n",
       "    <tr>\n",
       "      <th>29</th>\n",
       "      <td>incomepercaperr</td>\n",
       "      <td>-0.048186</td>\n",
       "    </tr>\n",
       "    <tr>\n",
       "      <th>30</th>\n",
       "      <td>professional</td>\n",
       "      <td>-0.518607</td>\n",
       "    </tr>\n",
       "    <tr>\n",
       "      <th>31</th>\n",
       "      <td>service</td>\n",
       "      <td>2.150411</td>\n",
       "    </tr>\n",
       "    <tr>\n",
       "      <th>32</th>\n",
       "      <td>office</td>\n",
       "      <td>0.729463</td>\n",
       "    </tr>\n",
       "    <tr>\n",
       "      <th>33</th>\n",
       "      <td>construction</td>\n",
       "      <td>-0.445900</td>\n",
       "    </tr>\n",
       "    <tr>\n",
       "      <th>34</th>\n",
       "      <td>production</td>\n",
       "      <td>0.000000</td>\n",
       "    </tr>\n",
       "    <tr>\n",
       "      <th>35</th>\n",
       "      <td>drive</td>\n",
       "      <td>-1.477795</td>\n",
       "    </tr>\n",
       "    <tr>\n",
       "      <th>36</th>\n",
       "      <td>carpool</td>\n",
       "      <td>-0.483121</td>\n",
       "    </tr>\n",
       "    <tr>\n",
       "      <th>37</th>\n",
       "      <td>transit</td>\n",
       "      <td>0.000000</td>\n",
       "    </tr>\n",
       "    <tr>\n",
       "      <th>38</th>\n",
       "      <td>walk</td>\n",
       "      <td>1.540184</td>\n",
       "    </tr>\n",
       "    <tr>\n",
       "      <th>39</th>\n",
       "      <td>othertransp</td>\n",
       "      <td>0.491130</td>\n",
       "    </tr>\n",
       "    <tr>\n",
       "      <th>40</th>\n",
       "      <td>workathome</td>\n",
       "      <td>0.562006</td>\n",
       "    </tr>\n",
       "    <tr>\n",
       "      <th>41</th>\n",
       "      <td>meancommute</td>\n",
       "      <td>-0.725428</td>\n",
       "    </tr>\n",
       "    <tr>\n",
       "      <th>42</th>\n",
       "      <td>employed</td>\n",
       "      <td>-8.163082</td>\n",
       "    </tr>\n",
       "    <tr>\n",
       "      <th>43</th>\n",
       "      <td>privatework</td>\n",
       "      <td>0.406733</td>\n",
       "    </tr>\n",
       "    <tr>\n",
       "      <th>44</th>\n",
       "      <td>publicwork</td>\n",
       "      <td>-1.284907</td>\n",
       "    </tr>\n",
       "    <tr>\n",
       "      <th>45</th>\n",
       "      <td>selfemployed</td>\n",
       "      <td>0.468029</td>\n",
       "    </tr>\n",
       "    <tr>\n",
       "      <th>46</th>\n",
       "      <td>familywork</td>\n",
       "      <td>0.735925</td>\n",
       "    </tr>\n",
       "    <tr>\n",
       "      <th>47</th>\n",
       "      <td>unemployment</td>\n",
       "      <td>1.620629</td>\n",
       "    </tr>\n",
       "    <tr>\n",
       "      <th>48</th>\n",
       "      <td>intercept</td>\n",
       "      <td>24.475273</td>\n",
       "    </tr>\n",
       "  </tbody>\n",
       "</table>\n",
       "</div>"
      ],
      "text/plain": [
       "                             0          0\n",
       "0                borough_bronx  -0.046985\n",
       "1             borough_brooklyn   1.165526\n",
       "2            borough_manhattan   0.000000\n",
       "3               borough_queens  -1.023959\n",
       "4        borough_staten island   1.133086\n",
       "5        relative_data_year_-4  -0.000000\n",
       "6        relative_data_year_-3  -0.000000\n",
       "7        relative_data_year_-2   0.000000\n",
       "8        relative_data_year_-1   0.028143\n",
       "9         relative_data_year_0  -0.000000\n",
       "10       complaint_type_FELONY  -0.030788\n",
       "11  complaint_type_MISDEMEANOR   0.000000\n",
       "12    complaint_type_VIOLATION   0.000000\n",
       "13  annual_evictions_x_borough  -0.000000\n",
       "14     annual_complaint_counts  -0.014455\n",
       "15               annual_grad_n   0.000000\n",
       "16        annual_dropped_out_n  -0.000000\n",
       "17                    totalpop   2.928591\n",
       "18                         men   2.501109\n",
       "19                       women   5.608228\n",
       "20                    hispanic   1.401688\n",
       "21                       white  -2.342962\n",
       "22                       black  -1.189433\n",
       "23                      native  -0.338221\n",
       "24                       asian  -1.365718\n",
       "25                     citizen  -3.473758\n",
       "26                      income  -6.793537\n",
       "27                   incomeerr   0.129125\n",
       "28                incomepercap   0.208411\n",
       "29             incomepercaperr  -0.048186\n",
       "30                professional  -0.518607\n",
       "31                     service   2.150411\n",
       "32                      office   0.729463\n",
       "33                construction  -0.445900\n",
       "34                  production   0.000000\n",
       "35                       drive  -1.477795\n",
       "36                     carpool  -0.483121\n",
       "37                     transit   0.000000\n",
       "38                        walk   1.540184\n",
       "39                 othertransp   0.491130\n",
       "40                  workathome   0.562006\n",
       "41                 meancommute  -0.725428\n",
       "42                    employed  -8.163082\n",
       "43                 privatework   0.406733\n",
       "44                  publicwork  -1.284907\n",
       "45                selfemployed   0.468029\n",
       "46                  familywork   0.735925\n",
       "47                unemployment   1.620629\n",
       "48                   intercept  24.475273"
      ]
     },
     "metadata": {},
     "output_type": "display_data"
    }
   ],
   "source": [
    "coef_intercept = np.hstack((m2v1_ls.best_estimator_.named_steps[\"ls\"].coef_,\n",
    "                            m2v1_ls.best_estimator_.named_steps[\"ls\"].intercept_))\n",
    "#print(coef_intercept)\n",
    "\n",
    "coef_intercept_df01 = pd.DataFrame(coef_intercept)\n",
    "#display(coef_intercept_df01)\n",
    "\n",
    "train_x01_col_names = list(train_x01.columns)\n",
    "train_x01_col_names.append('intercept')\n",
    "\n",
    "train_x01_col_names_df01 = pd.DataFrame(train_x01_col_names)\n",
    "#display(train_x01_col_names_df01)\n",
    "\n",
    "model_params = pd.concat([train_x01_col_names_df01, coef_intercept_df01], axis=1)\n",
    "display(model_params)"
   ]
  },
  {
   "cell_type": "code",
   "execution_count": 13,
   "id": "5d8e5924-3c2f-46bb-9138-e2d044dcc2a1",
   "metadata": {},
   "outputs": [],
   "source": [
    "# specify the S3 bucket and key where you want to save the model\n",
    "m2v1_ls_key_name = 'team_8_data/models/m2v1_ls.parquet'\n",
    "\n",
    "# save the model to an in-memory buffer\n",
    "buffer = BytesIO()\n",
    "joblib.dump(m2v1_ls, buffer)\n",
    "\n",
    "# upload the buffer to S3\n",
    "buffer.seek(0)\n",
    "s3.upload_fileobj(buffer, def_bucket, m2v1_ls_key_name)\n",
    "\n",
    "# load the saved model from S3\n",
    "#buffer = BytesIO()\n",
    "#s3.download_fileobj(def_bucket, m2v1_ls_key_name, buffer)\n",
    "#buffer.seek(0)\n",
    "#m2v1_ls_fitted = joblib.load(buffer)"
   ]
  },
  {
   "cell_type": "markdown",
   "id": "9ae9c65c-0f30-4747-9628-fa48e1b17e63",
   "metadata": {},
   "source": [
    "### Lasso - Using `BayesSearchCV`"
   ]
  },
  {
   "cell_type": "code",
   "execution_count": 14,
   "id": "77e2c244-ed94-487d-9ef1-c76a5447e30c",
   "metadata": {
    "tags": []
   },
   "outputs": [
    {
     "name": "stdout",
     "output_type": "stream",
     "text": [
      "Fitting 5 folds for each of 1 candidates, totalling 5 fits\n"
     ]
    },
    {
     "name": "stderr",
     "output_type": "stream",
     "text": [
      "[Parallel(n_jobs=2)]: Using backend LokyBackend with 2 concurrent workers.\n",
      "[Parallel(n_jobs=2)]: Done   5 out of   5 | elapsed:    0.7s remaining:    0.0s\n",
      "[Parallel(n_jobs=2)]: Done   5 out of   5 | elapsed:    0.7s finished\n",
      "[Parallel(n_jobs=2)]: Using backend LokyBackend with 2 concurrent workers.\n"
     ]
    },
    {
     "name": "stdout",
     "output_type": "stream",
     "text": [
      "Fitting 5 folds for each of 1 candidates, totalling 5 fits\n"
     ]
    },
    {
     "name": "stderr",
     "output_type": "stream",
     "text": [
      "[Parallel(n_jobs=2)]: Done   5 out of   5 | elapsed:    0.6s remaining:    0.0s\n",
      "[Parallel(n_jobs=2)]: Done   5 out of   5 | elapsed:    0.6s finished\n",
      "[Parallel(n_jobs=2)]: Using backend LokyBackend with 2 concurrent workers.\n"
     ]
    },
    {
     "name": "stdout",
     "output_type": "stream",
     "text": [
      "Fitting 5 folds for each of 1 candidates, totalling 5 fits\n"
     ]
    },
    {
     "name": "stderr",
     "output_type": "stream",
     "text": [
      "[Parallel(n_jobs=2)]: Done   5 out of   5 | elapsed:    0.7s remaining:    0.0s\n",
      "[Parallel(n_jobs=2)]: Done   5 out of   5 | elapsed:    0.7s finished\n",
      "[Parallel(n_jobs=2)]: Using backend LokyBackend with 2 concurrent workers.\n"
     ]
    },
    {
     "name": "stdout",
     "output_type": "stream",
     "text": [
      "Fitting 5 folds for each of 1 candidates, totalling 5 fits\n"
     ]
    },
    {
     "name": "stderr",
     "output_type": "stream",
     "text": [
      "[Parallel(n_jobs=2)]: Done   5 out of   5 | elapsed:    0.8s remaining:    0.0s\n",
      "[Parallel(n_jobs=2)]: Done   5 out of   5 | elapsed:    0.8s finished\n",
      "[Parallel(n_jobs=2)]: Using backend LokyBackend with 2 concurrent workers.\n"
     ]
    },
    {
     "name": "stdout",
     "output_type": "stream",
     "text": [
      "Fitting 5 folds for each of 1 candidates, totalling 5 fits\n"
     ]
    },
    {
     "name": "stderr",
     "output_type": "stream",
     "text": [
      "[Parallel(n_jobs=2)]: Done   5 out of   5 | elapsed:    1.3s remaining:    0.0s\n",
      "[Parallel(n_jobs=2)]: Done   5 out of   5 | elapsed:    1.3s finished\n",
      "[Parallel(n_jobs=2)]: Using backend LokyBackend with 2 concurrent workers.\n"
     ]
    },
    {
     "name": "stdout",
     "output_type": "stream",
     "text": [
      "Fitting 5 folds for each of 1 candidates, totalling 5 fits\n"
     ]
    },
    {
     "name": "stderr",
     "output_type": "stream",
     "text": [
      "[Parallel(n_jobs=2)]: Done   5 out of   5 | elapsed:    3.4s remaining:    0.0s\n",
      "[Parallel(n_jobs=2)]: Done   5 out of   5 | elapsed:    3.4s finished\n",
      "[Parallel(n_jobs=2)]: Using backend LokyBackend with 2 concurrent workers.\n"
     ]
    },
    {
     "name": "stdout",
     "output_type": "stream",
     "text": [
      "Fitting 5 folds for each of 1 candidates, totalling 5 fits\n"
     ]
    },
    {
     "name": "stderr",
     "output_type": "stream",
     "text": [
      "[Parallel(n_jobs=2)]: Done   5 out of   5 | elapsed:    1.4s remaining:    0.0s\n",
      "[Parallel(n_jobs=2)]: Done   5 out of   5 | elapsed:    1.4s finished\n",
      "[Parallel(n_jobs=2)]: Using backend LokyBackend with 2 concurrent workers.\n"
     ]
    },
    {
     "name": "stdout",
     "output_type": "stream",
     "text": [
      "Fitting 5 folds for each of 1 candidates, totalling 5 fits\n"
     ]
    },
    {
     "name": "stderr",
     "output_type": "stream",
     "text": [
      "[Parallel(n_jobs=2)]: Done   5 out of   5 | elapsed:    0.7s remaining:    0.0s\n",
      "[Parallel(n_jobs=2)]: Done   5 out of   5 | elapsed:    0.7s finished\n",
      "[Parallel(n_jobs=2)]: Using backend LokyBackend with 2 concurrent workers.\n"
     ]
    },
    {
     "name": "stdout",
     "output_type": "stream",
     "text": [
      "Fitting 5 folds for each of 1 candidates, totalling 5 fits\n"
     ]
    },
    {
     "name": "stderr",
     "output_type": "stream",
     "text": [
      "[Parallel(n_jobs=2)]: Done   5 out of   5 | elapsed:    0.7s remaining:    0.0s\n",
      "[Parallel(n_jobs=2)]: Done   5 out of   5 | elapsed:    0.7s finished\n"
     ]
    },
    {
     "name": "stdout",
     "output_type": "stream",
     "text": [
      "Fitting 5 folds for each of 1 candidates, totalling 5 fits\n"
     ]
    },
    {
     "name": "stderr",
     "output_type": "stream",
     "text": [
      "[Parallel(n_jobs=2)]: Using backend LokyBackend with 2 concurrent workers.\n",
      "[Parallel(n_jobs=2)]: Done   5 out of   5 | elapsed:    0.7s remaining:    0.0s\n",
      "[Parallel(n_jobs=2)]: Done   5 out of   5 | elapsed:    0.7s finished\n"
     ]
    },
    {
     "name": "stdout",
     "output_type": "stream",
     "text": [
      "Fitting 5 folds for each of 1 candidates, totalling 5 fits\n"
     ]
    },
    {
     "name": "stderr",
     "output_type": "stream",
     "text": [
      "[Parallel(n_jobs=2)]: Using backend LokyBackend with 2 concurrent workers.\n",
      "[Parallel(n_jobs=2)]: Done   5 out of   5 | elapsed:    1.6s remaining:    0.0s\n",
      "[Parallel(n_jobs=2)]: Done   5 out of   5 | elapsed:    1.6s finished\n"
     ]
    },
    {
     "name": "stdout",
     "output_type": "stream",
     "text": [
      "Fitting 5 folds for each of 1 candidates, totalling 5 fits\n"
     ]
    },
    {
     "name": "stderr",
     "output_type": "stream",
     "text": [
      "[Parallel(n_jobs=2)]: Using backend LokyBackend with 2 concurrent workers.\n",
      "[Parallel(n_jobs=2)]: Done   5 out of   5 | elapsed:    1.7s remaining:    0.0s\n",
      "[Parallel(n_jobs=2)]: Done   5 out of   5 | elapsed:    1.7s finished\n"
     ]
    },
    {
     "name": "stdout",
     "output_type": "stream",
     "text": [
      "Fitting 5 folds for each of 1 candidates, totalling 5 fits\n"
     ]
    },
    {
     "name": "stderr",
     "output_type": "stream",
     "text": [
      "[Parallel(n_jobs=2)]: Using backend LokyBackend with 2 concurrent workers.\n",
      "[Parallel(n_jobs=2)]: Done   5 out of   5 | elapsed:    1.3s remaining:    0.0s\n",
      "[Parallel(n_jobs=2)]: Done   5 out of   5 | elapsed:    1.3s finished\n"
     ]
    },
    {
     "name": "stdout",
     "output_type": "stream",
     "text": [
      "Fitting 5 folds for each of 1 candidates, totalling 5 fits\n"
     ]
    },
    {
     "name": "stderr",
     "output_type": "stream",
     "text": [
      "[Parallel(n_jobs=2)]: Using backend LokyBackend with 2 concurrent workers.\n",
      "[Parallel(n_jobs=2)]: Done   5 out of   5 | elapsed:   14.7s remaining:    0.0s\n",
      "[Parallel(n_jobs=2)]: Done   5 out of   5 | elapsed:   14.7s finished\n"
     ]
    },
    {
     "name": "stdout",
     "output_type": "stream",
     "text": [
      "Fitting 5 folds for each of 1 candidates, totalling 5 fits\n"
     ]
    },
    {
     "name": "stderr",
     "output_type": "stream",
     "text": [
      "[Parallel(n_jobs=2)]: Using backend LokyBackend with 2 concurrent workers.\n",
      "[Parallel(n_jobs=2)]: Done   5 out of   5 | elapsed:    2.9s remaining:    0.0s\n",
      "[Parallel(n_jobs=2)]: Done   5 out of   5 | elapsed:    2.9s finished\n"
     ]
    },
    {
     "name": "stdout",
     "output_type": "stream",
     "text": [
      "Fitting 5 folds for each of 1 candidates, totalling 5 fits\n"
     ]
    },
    {
     "name": "stderr",
     "output_type": "stream",
     "text": [
      "[Parallel(n_jobs=2)]: Using backend LokyBackend with 2 concurrent workers.\n",
      "[Parallel(n_jobs=2)]: Done   5 out of   5 | elapsed:    7.5s remaining:    0.0s\n",
      "[Parallel(n_jobs=2)]: Done   5 out of   5 | elapsed:    7.5s finished\n"
     ]
    },
    {
     "name": "stdout",
     "output_type": "stream",
     "text": [
      "Fitting 5 folds for each of 1 candidates, totalling 5 fits\n"
     ]
    },
    {
     "name": "stderr",
     "output_type": "stream",
     "text": [
      "[Parallel(n_jobs=2)]: Using backend LokyBackend with 2 concurrent workers.\n",
      "[Parallel(n_jobs=2)]: Done   5 out of   5 | elapsed:    1.0s remaining:    0.0s\n",
      "[Parallel(n_jobs=2)]: Done   5 out of   5 | elapsed:    1.0s finished\n"
     ]
    },
    {
     "name": "stdout",
     "output_type": "stream",
     "text": [
      "Fitting 5 folds for each of 1 candidates, totalling 5 fits\n"
     ]
    },
    {
     "name": "stderr",
     "output_type": "stream",
     "text": [
      "[Parallel(n_jobs=2)]: Using backend LokyBackend with 2 concurrent workers.\n",
      "[Parallel(n_jobs=2)]: Done   5 out of   5 | elapsed:    1.1s remaining:    0.0s\n",
      "[Parallel(n_jobs=2)]: Done   5 out of   5 | elapsed:    1.1s finished\n"
     ]
    },
    {
     "name": "stdout",
     "output_type": "stream",
     "text": [
      "Fitting 5 folds for each of 1 candidates, totalling 5 fits\n"
     ]
    },
    {
     "name": "stderr",
     "output_type": "stream",
     "text": [
      "[Parallel(n_jobs=2)]: Using backend LokyBackend with 2 concurrent workers.\n",
      "[Parallel(n_jobs=2)]: Done   5 out of   5 | elapsed:    1.1s remaining:    0.0s\n",
      "[Parallel(n_jobs=2)]: Done   5 out of   5 | elapsed:    1.1s finished\n"
     ]
    },
    {
     "name": "stdout",
     "output_type": "stream",
     "text": [
      "Fitting 5 folds for each of 1 candidates, totalling 5 fits\n"
     ]
    },
    {
     "name": "stderr",
     "output_type": "stream",
     "text": [
      "[Parallel(n_jobs=2)]: Using backend LokyBackend with 2 concurrent workers.\n",
      "[Parallel(n_jobs=2)]: Done   5 out of   5 | elapsed:    1.0s remaining:    0.0s\n",
      "[Parallel(n_jobs=2)]: Done   5 out of   5 | elapsed:    1.0s finished\n"
     ]
    },
    {
     "name": "stdout",
     "output_type": "stream",
     "text": [
      "Fitting 5 folds for each of 1 candidates, totalling 5 fits\n"
     ]
    },
    {
     "name": "stderr",
     "output_type": "stream",
     "text": [
      "[Parallel(n_jobs=2)]: Using backend LokyBackend with 2 concurrent workers.\n",
      "[Parallel(n_jobs=2)]: Done   5 out of   5 | elapsed:    1.3s remaining:    0.0s\n",
      "[Parallel(n_jobs=2)]: Done   5 out of   5 | elapsed:    1.3s finished\n"
     ]
    },
    {
     "name": "stdout",
     "output_type": "stream",
     "text": [
      "Fitting 5 folds for each of 1 candidates, totalling 5 fits\n"
     ]
    },
    {
     "name": "stderr",
     "output_type": "stream",
     "text": [
      "[Parallel(n_jobs=2)]: Using backend LokyBackend with 2 concurrent workers.\n",
      "[Parallel(n_jobs=2)]: Done   5 out of   5 | elapsed:    4.7s remaining:    0.0s\n",
      "[Parallel(n_jobs=2)]: Done   5 out of   5 | elapsed:    4.7s finished\n"
     ]
    },
    {
     "name": "stdout",
     "output_type": "stream",
     "text": [
      "Fitting 5 folds for each of 1 candidates, totalling 5 fits\n"
     ]
    },
    {
     "name": "stderr",
     "output_type": "stream",
     "text": [
      "[Parallel(n_jobs=2)]: Using backend LokyBackend with 2 concurrent workers.\n",
      "[Parallel(n_jobs=2)]: Done   5 out of   5 | elapsed:    1.0s remaining:    0.0s\n",
      "[Parallel(n_jobs=2)]: Done   5 out of   5 | elapsed:    1.0s finished\n"
     ]
    },
    {
     "name": "stdout",
     "output_type": "stream",
     "text": [
      "Fitting 5 folds for each of 1 candidates, totalling 5 fits\n"
     ]
    },
    {
     "name": "stderr",
     "output_type": "stream",
     "text": [
      "[Parallel(n_jobs=2)]: Using backend LokyBackend with 2 concurrent workers.\n",
      "[Parallel(n_jobs=2)]: Done   5 out of   5 | elapsed:    8.4s remaining:    0.0s\n",
      "[Parallel(n_jobs=2)]: Done   5 out of   5 | elapsed:    8.4s finished\n"
     ]
    },
    {
     "name": "stdout",
     "output_type": "stream",
     "text": [
      "Fitting 5 folds for each of 1 candidates, totalling 5 fits\n"
     ]
    },
    {
     "name": "stderr",
     "output_type": "stream",
     "text": [
      "[Parallel(n_jobs=2)]: Using backend LokyBackend with 2 concurrent workers.\n",
      "[Parallel(n_jobs=2)]: Done   5 out of   5 | elapsed:    2.3s remaining:    0.0s\n",
      "[Parallel(n_jobs=2)]: Done   5 out of   5 | elapsed:    2.3s finished\n"
     ]
    },
    {
     "name": "stdout",
     "output_type": "stream",
     "text": [
      "Fitting 5 folds for each of 1 candidates, totalling 5 fits\n"
     ]
    },
    {
     "name": "stderr",
     "output_type": "stream",
     "text": [
      "[Parallel(n_jobs=2)]: Using backend LokyBackend with 2 concurrent workers.\n",
      "[Parallel(n_jobs=2)]: Done   5 out of   5 | elapsed:    6.0s remaining:    0.0s\n",
      "[Parallel(n_jobs=2)]: Done   5 out of   5 | elapsed:    6.0s finished\n"
     ]
    },
    {
     "name": "stdout",
     "output_type": "stream",
     "text": [
      "Fitting 5 folds for each of 1 candidates, totalling 5 fits\n"
     ]
    },
    {
     "name": "stderr",
     "output_type": "stream",
     "text": [
      "[Parallel(n_jobs=2)]: Using backend LokyBackend with 2 concurrent workers.\n",
      "[Parallel(n_jobs=2)]: Done   5 out of   5 | elapsed:   26.6s remaining:    0.0s\n",
      "[Parallel(n_jobs=2)]: Done   5 out of   5 | elapsed:   26.6s finished\n"
     ]
    },
    {
     "name": "stdout",
     "output_type": "stream",
     "text": [
      "Fitting 5 folds for each of 1 candidates, totalling 5 fits\n"
     ]
    },
    {
     "name": "stderr",
     "output_type": "stream",
     "text": [
      "[Parallel(n_jobs=2)]: Using backend LokyBackend with 2 concurrent workers.\n",
      "[Parallel(n_jobs=2)]: Done   5 out of   5 | elapsed:    1.0s remaining:    0.0s\n",
      "[Parallel(n_jobs=2)]: Done   5 out of   5 | elapsed:    1.0s finished\n"
     ]
    },
    {
     "name": "stdout",
     "output_type": "stream",
     "text": [
      "Fitting 5 folds for each of 1 candidates, totalling 5 fits\n"
     ]
    },
    {
     "name": "stderr",
     "output_type": "stream",
     "text": [
      "[Parallel(n_jobs=2)]: Using backend LokyBackend with 2 concurrent workers.\n",
      "[Parallel(n_jobs=2)]: Done   5 out of   5 | elapsed:    1.1s remaining:    0.0s\n",
      "[Parallel(n_jobs=2)]: Done   5 out of   5 | elapsed:    1.1s finished\n"
     ]
    },
    {
     "name": "stdout",
     "output_type": "stream",
     "text": [
      "Fitting 5 folds for each of 1 candidates, totalling 5 fits\n"
     ]
    },
    {
     "name": "stderr",
     "output_type": "stream",
     "text": [
      "[Parallel(n_jobs=2)]: Using backend LokyBackend with 2 concurrent workers.\n",
      "[Parallel(n_jobs=2)]: Done   5 out of   5 | elapsed:    1.1s remaining:    0.0s\n",
      "[Parallel(n_jobs=2)]: Done   5 out of   5 | elapsed:    1.1s finished\n"
     ]
    },
    {
     "name": "stdout",
     "output_type": "stream",
     "text": [
      "Fitting 5 folds for each of 1 candidates, totalling 5 fits\n"
     ]
    },
    {
     "name": "stderr",
     "output_type": "stream",
     "text": [
      "[Parallel(n_jobs=2)]: Using backend LokyBackend with 2 concurrent workers.\n",
      "[Parallel(n_jobs=2)]: Done   5 out of   5 | elapsed:   10.9s remaining:    0.0s\n",
      "[Parallel(n_jobs=2)]: Done   5 out of   5 | elapsed:   10.9s finished\n"
     ]
    },
    {
     "name": "stdout",
     "output_type": "stream",
     "text": [
      "Fitting 5 folds for each of 1 candidates, totalling 5 fits\n"
     ]
    },
    {
     "name": "stderr",
     "output_type": "stream",
     "text": [
      "[Parallel(n_jobs=2)]: Using backend LokyBackend with 2 concurrent workers.\n",
      "[Parallel(n_jobs=2)]: Done   5 out of   5 | elapsed:    2.0s remaining:    0.0s\n",
      "[Parallel(n_jobs=2)]: Done   5 out of   5 | elapsed:    2.0s finished\n"
     ]
    },
    {
     "name": "stdout",
     "output_type": "stream",
     "text": [
      "Fitting 5 folds for each of 1 candidates, totalling 5 fits\n"
     ]
    },
    {
     "name": "stderr",
     "output_type": "stream",
     "text": [
      "[Parallel(n_jobs=2)]: Using backend LokyBackend with 2 concurrent workers.\n",
      "[Parallel(n_jobs=2)]: Done   5 out of   5 | elapsed:    1.0s remaining:    0.0s\n",
      "[Parallel(n_jobs=2)]: Done   5 out of   5 | elapsed:    1.0s finished\n"
     ]
    },
    {
     "name": "stdout",
     "output_type": "stream",
     "text": [
      "Fitting 5 folds for each of 1 candidates, totalling 5 fits\n"
     ]
    },
    {
     "name": "stderr",
     "output_type": "stream",
     "text": [
      "[Parallel(n_jobs=2)]: Using backend LokyBackend with 2 concurrent workers.\n",
      "[Parallel(n_jobs=2)]: Done   5 out of   5 | elapsed:    1.1s remaining:    0.0s\n",
      "[Parallel(n_jobs=2)]: Done   5 out of   5 | elapsed:    1.1s finished\n"
     ]
    },
    {
     "name": "stdout",
     "output_type": "stream",
     "text": [
      "Fitting 5 folds for each of 1 candidates, totalling 5 fits\n"
     ]
    },
    {
     "name": "stderr",
     "output_type": "stream",
     "text": [
      "[Parallel(n_jobs=2)]: Using backend LokyBackend with 2 concurrent workers.\n",
      "[Parallel(n_jobs=2)]: Done   5 out of   5 | elapsed:    1.1s remaining:    0.0s\n",
      "[Parallel(n_jobs=2)]: Done   5 out of   5 | elapsed:    1.1s finished\n"
     ]
    },
    {
     "name": "stdout",
     "output_type": "stream",
     "text": [
      "Fitting 5 folds for each of 1 candidates, totalling 5 fits\n"
     ]
    },
    {
     "name": "stderr",
     "output_type": "stream",
     "text": [
      "[Parallel(n_jobs=2)]: Using backend LokyBackend with 2 concurrent workers.\n",
      "[Parallel(n_jobs=2)]: Done   5 out of   5 | elapsed:    5.7s remaining:    0.0s\n",
      "[Parallel(n_jobs=2)]: Done   5 out of   5 | elapsed:    5.7s finished\n"
     ]
    },
    {
     "name": "stdout",
     "output_type": "stream",
     "text": [
      "Fitting 5 folds for each of 1 candidates, totalling 5 fits\n"
     ]
    },
    {
     "name": "stderr",
     "output_type": "stream",
     "text": [
      "[Parallel(n_jobs=2)]: Using backend LokyBackend with 2 concurrent workers.\n",
      "[Parallel(n_jobs=2)]: Done   5 out of   5 | elapsed:   16.0s remaining:    0.0s\n",
      "[Parallel(n_jobs=2)]: Done   5 out of   5 | elapsed:   16.0s finished\n"
     ]
    },
    {
     "name": "stdout",
     "output_type": "stream",
     "text": [
      "Fitting 5 folds for each of 1 candidates, totalling 5 fits\n"
     ]
    },
    {
     "name": "stderr",
     "output_type": "stream",
     "text": [
      "[Parallel(n_jobs=2)]: Using backend LokyBackend with 2 concurrent workers.\n",
      "[Parallel(n_jobs=2)]: Done   5 out of   5 | elapsed:    4.2s remaining:    0.0s\n",
      "[Parallel(n_jobs=2)]: Done   5 out of   5 | elapsed:    4.2s finished\n"
     ]
    },
    {
     "name": "stdout",
     "output_type": "stream",
     "text": [
      "Fitting 5 folds for each of 1 candidates, totalling 5 fits\n"
     ]
    },
    {
     "name": "stderr",
     "output_type": "stream",
     "text": [
      "[Parallel(n_jobs=2)]: Using backend LokyBackend with 2 concurrent workers.\n",
      "[Parallel(n_jobs=2)]: Done   5 out of   5 | elapsed:    3.5s remaining:    0.0s\n",
      "[Parallel(n_jobs=2)]: Done   5 out of   5 | elapsed:    3.5s finished\n"
     ]
    },
    {
     "name": "stdout",
     "output_type": "stream",
     "text": [
      "Fitting 5 folds for each of 1 candidates, totalling 5 fits\n"
     ]
    },
    {
     "name": "stderr",
     "output_type": "stream",
     "text": [
      "[Parallel(n_jobs=2)]: Using backend LokyBackend with 2 concurrent workers.\n",
      "[Parallel(n_jobs=2)]: Done   5 out of   5 | elapsed:    8.4s remaining:    0.0s\n",
      "[Parallel(n_jobs=2)]: Done   5 out of   5 | elapsed:    8.4s finished\n"
     ]
    },
    {
     "name": "stdout",
     "output_type": "stream",
     "text": [
      "Fitting 5 folds for each of 1 candidates, totalling 5 fits\n"
     ]
    },
    {
     "name": "stderr",
     "output_type": "stream",
     "text": [
      "[Parallel(n_jobs=2)]: Using backend LokyBackend with 2 concurrent workers.\n",
      "[Parallel(n_jobs=2)]: Done   5 out of   5 | elapsed:    1.1s remaining:    0.0s\n",
      "[Parallel(n_jobs=2)]: Done   5 out of   5 | elapsed:    1.1s finished\n"
     ]
    },
    {
     "name": "stdout",
     "output_type": "stream",
     "text": [
      "Fitting 5 folds for each of 1 candidates, totalling 5 fits\n"
     ]
    },
    {
     "name": "stderr",
     "output_type": "stream",
     "text": [
      "[Parallel(n_jobs=2)]: Using backend LokyBackend with 2 concurrent workers.\n",
      "[Parallel(n_jobs=2)]: Done   5 out of   5 | elapsed:    1.4s remaining:    0.0s\n",
      "[Parallel(n_jobs=2)]: Done   5 out of   5 | elapsed:    1.4s finished\n"
     ]
    },
    {
     "name": "stdout",
     "output_type": "stream",
     "text": [
      "Fitting 5 folds for each of 1 candidates, totalling 5 fits\n"
     ]
    },
    {
     "name": "stderr",
     "output_type": "stream",
     "text": [
      "[Parallel(n_jobs=2)]: Using backend LokyBackend with 2 concurrent workers.\n",
      "[Parallel(n_jobs=2)]: Done   5 out of   5 | elapsed:    1.1s remaining:    0.0s\n",
      "[Parallel(n_jobs=2)]: Done   5 out of   5 | elapsed:    1.1s finished\n"
     ]
    },
    {
     "name": "stdout",
     "output_type": "stream",
     "text": [
      "Fitting 5 folds for each of 1 candidates, totalling 5 fits\n"
     ]
    },
    {
     "name": "stderr",
     "output_type": "stream",
     "text": [
      "[Parallel(n_jobs=2)]: Using backend LokyBackend with 2 concurrent workers.\n",
      "[Parallel(n_jobs=2)]: Done   5 out of   5 | elapsed:    2.9s remaining:    0.0s\n",
      "[Parallel(n_jobs=2)]: Done   5 out of   5 | elapsed:    2.9s finished\n"
     ]
    },
    {
     "name": "stdout",
     "output_type": "stream",
     "text": [
      "Fitting 5 folds for each of 1 candidates, totalling 5 fits\n"
     ]
    },
    {
     "name": "stderr",
     "output_type": "stream",
     "text": [
      "[Parallel(n_jobs=2)]: Using backend LokyBackend with 2 concurrent workers.\n",
      "[Parallel(n_jobs=2)]: Done   5 out of   5 | elapsed:    1.0s remaining:    0.0s\n",
      "[Parallel(n_jobs=2)]: Done   5 out of   5 | elapsed:    1.0s finished\n"
     ]
    },
    {
     "name": "stdout",
     "output_type": "stream",
     "text": [
      "Fitting 5 folds for each of 1 candidates, totalling 5 fits\n"
     ]
    },
    {
     "name": "stderr",
     "output_type": "stream",
     "text": [
      "[Parallel(n_jobs=2)]: Using backend LokyBackend with 2 concurrent workers.\n",
      "[Parallel(n_jobs=2)]: Done   5 out of   5 | elapsed:    1.1s remaining:    0.0s\n",
      "[Parallel(n_jobs=2)]: Done   5 out of   5 | elapsed:    1.1s finished\n"
     ]
    },
    {
     "name": "stdout",
     "output_type": "stream",
     "text": [
      "Fitting 5 folds for each of 1 candidates, totalling 5 fits\n"
     ]
    },
    {
     "name": "stderr",
     "output_type": "stream",
     "text": [
      "[Parallel(n_jobs=2)]: Using backend LokyBackend with 2 concurrent workers.\n",
      "[Parallel(n_jobs=2)]: Done   5 out of   5 | elapsed:    3.8s remaining:    0.0s\n",
      "[Parallel(n_jobs=2)]: Done   5 out of   5 | elapsed:    3.8s finished\n"
     ]
    },
    {
     "name": "stdout",
     "output_type": "stream",
     "text": [
      "Fitting 5 folds for each of 1 candidates, totalling 5 fits\n"
     ]
    },
    {
     "name": "stderr",
     "output_type": "stream",
     "text": [
      "[Parallel(n_jobs=2)]: Using backend LokyBackend with 2 concurrent workers.\n",
      "[Parallel(n_jobs=2)]: Done   5 out of   5 | elapsed:   14.1s remaining:    0.0s\n",
      "[Parallel(n_jobs=2)]: Done   5 out of   5 | elapsed:   14.1s finished\n"
     ]
    },
    {
     "name": "stdout",
     "output_type": "stream",
     "text": [
      "Fitting 5 folds for each of 1 candidates, totalling 5 fits\n"
     ]
    },
    {
     "name": "stderr",
     "output_type": "stream",
     "text": [
      "[Parallel(n_jobs=2)]: Using backend LokyBackend with 2 concurrent workers.\n",
      "[Parallel(n_jobs=2)]: Done   5 out of   5 | elapsed:    2.0s remaining:    0.0s\n",
      "[Parallel(n_jobs=2)]: Done   5 out of   5 | elapsed:    2.0s finished\n"
     ]
    },
    {
     "name": "stdout",
     "output_type": "stream",
     "text": [
      "Fitting 5 folds for each of 1 candidates, totalling 5 fits\n"
     ]
    },
    {
     "name": "stderr",
     "output_type": "stream",
     "text": [
      "[Parallel(n_jobs=2)]: Using backend LokyBackend with 2 concurrent workers.\n",
      "[Parallel(n_jobs=2)]: Done   5 out of   5 | elapsed:    1.1s remaining:    0.0s\n",
      "[Parallel(n_jobs=2)]: Done   5 out of   5 | elapsed:    1.1s finished\n"
     ]
    },
    {
     "name": "stdout",
     "output_type": "stream",
     "text": [
      "Best Estimator:\n",
      "Pipeline(memory=None,\n",
      "         steps=[('si',\n",
      "                 SimpleImputer(add_indicator=False, copy=True, fill_value=None,\n",
      "                               missing_values=nan, strategy='median',\n",
      "                               verbose=0)),\n",
      "                ('ss',\n",
      "                 StandardScaler(copy=True, with_mean=True, with_std=True)),\n",
      "                ('ls',\n",
      "                 Lasso(alpha=0.00312004499292689, copy_X=True,\n",
      "                       fit_intercept=True, max_iter=5000, normalize=False,\n",
      "                       positive=False, precompute=False, random_state=1699,\n",
      "                       selection='cyclic', tol=0.0001, warm_start=False))],\n",
      "         verbose=False)\n",
      "Coefficients:\n",
      "[-5.90772722e-02  1.20356958e+00  0.00000000e+00 -1.03729787e+00\n",
      "  1.13319125e+00 -0.00000000e+00 -0.00000000e+00  2.94787994e-03\n",
      "  3.38749310e-02 -2.05060234e-04 -2.82296287e-02  2.06826899e-02\n",
      "  0.00000000e+00 -0.00000000e+00 -4.34594017e-02  0.00000000e+00\n",
      " -0.00000000e+00  8.48098006e+00  0.00000000e+00  2.76832909e+00\n",
      "  6.97559873e-01 -3.30318362e+00 -2.14827171e+00 -3.71075424e-01\n",
      " -1.90796058e+00 -3.65510811e+00 -6.88025498e+00  1.54667377e-01\n",
      "  4.43630919e-01 -1.76161247e-01 -1.81767382e+00  1.33115461e+00\n",
      "  2.87452875e-01 -7.98665794e-01 -3.86055676e-01 -1.45597342e+00\n",
      " -4.86681209e-01  0.00000000e+00  1.52719040e+00  4.85589992e-01\n",
      "  5.68145407e-01 -7.49278734e-01 -8.29828524e+00  0.00000000e+00\n",
      " -1.69877386e+00  2.42544215e-01  7.16688567e-01  1.60868297e+00]\n",
      "    mean_fit_time  std_fit_time  mean_score_time  std_score_time  \\\n",
      "0        0.252393      0.044313         0.008819        0.001531   \n",
      "1        0.211456      0.029397         0.009242        0.001724   \n",
      "2        0.238254      0.037010         0.010291        0.002250   \n",
      "3        0.241629      0.017929         0.010836        0.002084   \n",
      "4        0.371777      0.079431         0.015980        0.004156   \n",
      "5        1.241521      0.785646         0.011383        0.002698   \n",
      "6        0.476834      0.089144         0.009877        0.001961   \n",
      "7        0.227144      0.035521         0.009860        0.002405   \n",
      "8        0.213959      0.030165         0.009917        0.002330   \n",
      "9        0.243137      0.040122         0.009101        0.001723   \n",
      "10       0.543308      0.085319         0.009564        0.001922   \n",
      "11       0.606364      0.112065         0.008954        0.001687   \n",
      "12       0.449924      0.079588         0.010595        0.003273   \n",
      "13       5.474890      2.152558         0.010317        0.002130   \n",
      "14       1.031375      0.176444         0.009314        0.001718   \n",
      "15       2.952774      1.177147         0.010025        0.002432   \n",
      "16       0.334927      0.052971         0.009441        0.001776   \n",
      "17       0.371395      0.064502         0.009407        0.001627   \n",
      "18       0.370219      0.069268         0.008443        0.001334   \n",
      "19       0.356148      0.062020         0.009524        0.002007   \n",
      "20       0.456968      0.099663         0.013050        0.004496   \n",
      "21       1.705872      0.324273         0.010758        0.004344   \n",
      "22       0.355035      0.064276         0.008949        0.001570   \n",
      "23       3.311975      0.950526         0.010320        0.002188   \n",
      "24       0.873525      0.198976         0.010325        0.003037   \n",
      "25       2.112508      0.328161         0.008992        0.002086   \n",
      "26       9.484036      1.248022         0.010280        0.001913   \n",
      "27       0.354692      0.058464         0.009997        0.001848   \n",
      "28       0.367649      0.061606         0.009237        0.001774   \n",
      "29       0.378164      0.070533         0.009635        0.002129   \n",
      "30       4.151578      2.864317         0.010427        0.002207   \n",
      "31       0.683975      0.111741         0.008902        0.001899   \n",
      "32       0.352353      0.063039         0.009234        0.001608   \n",
      "33       0.376071      0.064972         0.009555        0.001731   \n",
      "34       0.367897      0.065547         0.009819        0.002583   \n",
      "35       2.044964      0.413021         0.009135        0.002086   \n",
      "36       6.089054      1.929319         0.010797        0.002346   \n",
      "37       1.577792      0.276699         0.010048        0.001905   \n",
      "38       1.364861      0.264036         0.010090        0.001880   \n",
      "39       3.132879      0.511682         0.009999        0.002032   \n",
      "40       0.367394      0.062305         0.008894        0.001489   \n",
      "41       0.473200      0.077456         0.010350        0.002553   \n",
      "42       0.362873      0.056866         0.009705        0.002118   \n",
      "43       1.114455      0.251687         0.010146        0.002999   \n",
      "44       0.342149      0.052996         0.009398        0.001434   \n",
      "45       0.369063      0.061133         0.009580        0.001755   \n",
      "46       1.316128      0.174785         0.009341        0.001797   \n",
      "47       4.643917      1.957186         0.010486        0.002173   \n",
      "48       0.740760      0.162634         0.009555        0.002145   \n",
      "49       0.371850      0.062724         0.009669        0.001504   \n",
      "\n",
      "   param_ls__alpha param_ls__max_iter param_ls__selection  \\\n",
      "0         0.919229                372              cyclic   \n",
      "1        20.785016                193              cyclic   \n",
      "2         1.469648                441              random   \n",
      "3         9.380698                174              random   \n",
      "4       520.400979               2697              cyclic   \n",
      "5         0.002528                165              random   \n",
      "6         0.252225                949              cyclic   \n",
      "7         2.444393               4088              cyclic   \n",
      "8        107.97026                357              cyclic   \n",
      "9         0.859011                467              cyclic   \n",
      "10        0.020092               5000              cyclic   \n",
      "11        0.003409                246              random   \n",
      "12        0.056266               5000              cyclic   \n",
      "13           0.001               5000              cyclic   \n",
      "14        0.008623               5000              cyclic   \n",
      "15        0.001422               5000              cyclic   \n",
      "16         0.10612                100              random   \n",
      "17        0.001179                100              random   \n",
      "18        0.005593                100              cyclic   \n",
      "19        0.030282                100              random   \n",
      "20        0.012457                100              random   \n",
      "21        0.006117               5000              random   \n",
      "22        0.040493                100              cyclic   \n",
      "23         0.00312               5000              cyclic   \n",
      "24        0.040469               5000              random   \n",
      "25        0.004728               5000              cyclic   \n",
      "26           0.001               5000              random   \n",
      "27        0.061997                100              random   \n",
      "28        0.016873                100              random   \n",
      "29        0.001819                100              random   \n",
      "30         0.00183               5000              cyclic   \n",
      "31        0.013661               5000              cyclic   \n",
      "32        0.046368                100              random   \n",
      "33        0.006918                100              random   \n",
      "34           0.001                100              cyclic   \n",
      "35        0.004217               5000              random   \n",
      "36           0.001               5000              cyclic   \n",
      "37        0.010632               5000              random   \n",
      "38        0.015439               5000              random   \n",
      "39        0.002274               5000              random   \n",
      "40        0.002292                100              cyclic   \n",
      "41        0.033243               5000              cyclic   \n",
      "42        0.009614                100              cyclic   \n",
      "43        0.023583               5000              random   \n",
      "44        0.080033                100              cyclic   \n",
      "45        0.026002                100              cyclic   \n",
      "46        0.007288               5000              cyclic   \n",
      "47        0.001158               5000              cyclic   \n",
      "48        0.080142               5000              random   \n",
      "49        0.003943                100              cyclic   \n",
      "\n",
      "   param_ls__warm_start                                             params  \\\n",
      "0                  True  {'ls__alpha': 0.9192293938041608, 'ls__max_ite...   \n",
      "1                  True  {'ls__alpha': 20.785016353070272, 'ls__max_ite...   \n",
      "2                  True  {'ls__alpha': 1.4696478744138841, 'ls__max_ite...   \n",
      "3                  True  {'ls__alpha': 9.380698318075792, 'ls__max_iter...   \n",
      "4                  True  {'ls__alpha': 520.4009792978661, 'ls__max_iter...   \n",
      "5                  True  {'ls__alpha': 0.0025276741815852596, 'ls__max_...   \n",
      "6                  True  {'ls__alpha': 0.2522250210775078, 'ls__max_ite...   \n",
      "7                  True  {'ls__alpha': 2.4443925994929305, 'ls__max_ite...   \n",
      "8                 False  {'ls__alpha': 107.97025991821005, 'ls__max_ite...   \n",
      "9                 False  {'ls__alpha': 0.8590108805849646, 'ls__max_ite...   \n",
      "10                False  {'ls__alpha': 0.020091744449482356, 'ls__max_i...   \n",
      "11                 True  {'ls__alpha': 0.003409256952063032, 'ls__max_i...   \n",
      "12                 True  {'ls__alpha': 0.056266004320859396, 'ls__max_i...   \n",
      "13                False  {'ls__alpha': 0.001, 'ls__max_iter': 5000, 'ls...   \n",
      "14                 True  {'ls__alpha': 0.008623045081308458, 'ls__max_i...   \n",
      "15                False  {'ls__alpha': 0.0014221967527329972, 'ls__max_...   \n",
      "16                False  {'ls__alpha': 0.10611954673637193, 'ls__max_it...   \n",
      "17                 True  {'ls__alpha': 0.0011791282733941873, 'ls__max_...   \n",
      "18                False  {'ls__alpha': 0.005592992209800713, 'ls__max_i...   \n",
      "19                 True  {'ls__alpha': 0.030281735565660575, 'ls__max_i...   \n",
      "20                False  {'ls__alpha': 0.012457400581715239, 'ls__max_i...   \n",
      "21                False  {'ls__alpha': 0.006117246602685628, 'ls__max_i...   \n",
      "22                False  {'ls__alpha': 0.04049343717819463, 'ls__max_it...   \n",
      "23                False  {'ls__alpha': 0.00312004499292689, 'ls__max_it...   \n",
      "24                False  {'ls__alpha': 0.04046875004317316, 'ls__max_it...   \n",
      "25                 True  {'ls__alpha': 0.004728162592110137, 'ls__max_i...   \n",
      "26                False  {'ls__alpha': 0.001, 'ls__max_iter': 5000, 'ls...   \n",
      "27                False  {'ls__alpha': 0.06199705881601676, 'ls__max_it...   \n",
      "28                 True  {'ls__alpha': 0.01687341186753009, 'ls__max_it...   \n",
      "29                False  {'ls__alpha': 0.0018185560271089783, 'ls__max_...   \n",
      "30                 True  {'ls__alpha': 0.0018303658598422532, 'ls__max_...   \n",
      "31                 True  {'ls__alpha': 0.013661350637267831, 'ls__max_i...   \n",
      "32                 True  {'ls__alpha': 0.04636797353331355, 'ls__max_it...   \n",
      "33                 True  {'ls__alpha': 0.006918445469792199, 'ls__max_i...   \n",
      "34                False  {'ls__alpha': 0.001, 'ls__max_iter': 100, 'ls_...   \n",
      "35                False  {'ls__alpha': 0.00421690504388654, 'ls__max_it...   \n",
      "36                 True  {'ls__alpha': 0.001, 'ls__max_iter': 5000, 'ls...   \n",
      "37                 True  {'ls__alpha': 0.010632072820022796, 'ls__max_i...   \n",
      "38                False  {'ls__alpha': 0.015438722672047024, 'ls__max_i...   \n",
      "39                False  {'ls__alpha': 0.0022740964287695036, 'ls__max_...   \n",
      "40                False  {'ls__alpha': 0.0022923216227139103, 'ls__max_...   \n",
      "41                 True  {'ls__alpha': 0.03324342462416447, 'ls__max_it...   \n",
      "42                False  {'ls__alpha': 0.009614323672543546, 'ls__max_i...   \n",
      "43                 True  {'ls__alpha': 0.02358308086767287, 'ls__max_it...   \n",
      "44                 True  {'ls__alpha': 0.08003292102153944, 'ls__max_it...   \n",
      "45                False  {'ls__alpha': 0.02600213461730265, 'ls__max_it...   \n",
      "46                False  {'ls__alpha': 0.0072884291262491525, 'ls__max_...   \n",
      "47                False  {'ls__alpha': 0.0011575416936216076, 'ls__max_...   \n",
      "48                 True  {'ls__alpha': 0.08014202444546731, 'ls__max_it...   \n",
      "49                False  {'ls__alpha': 0.003942785721175991, 'ls__max_i...   \n",
      "\n",
      "    split0_test_score  split1_test_score  split2_test_score  \\\n",
      "0          -11.977457         -12.082645         -12.155722   \n",
      "1          -18.828273         -18.816528         -18.873667   \n",
      "2          -12.217014         -12.327770         -12.406181   \n",
      "3          -16.469237         -16.476761         -16.486357   \n",
      "4          -18.828273         -18.816528         -18.873667   \n",
      "5          -11.380662         -11.395944         -11.410907   \n",
      "6          -11.507037         -11.556216         -11.604021   \n",
      "7          -12.747390         -12.846645         -12.912869   \n",
      "8          -18.828273         -18.816528         -18.873667   \n",
      "9          -11.955538         -12.058478         -12.134445   \n",
      "10         -11.380589         -11.386755         -11.415462   \n",
      "11         -11.379845         -11.396099         -11.409756   \n",
      "12         -11.381898         -11.386847         -11.425501   \n",
      "13         -11.379818         -11.398849         -11.406317   \n",
      "14         -11.378792         -11.392354         -11.410356   \n",
      "15         -11.379706         -11.398501         -11.406496   \n",
      "16         -11.400669         -11.413166         -11.456496   \n",
      "17         -11.382560         -11.395759         -11.412853   \n",
      "18         -11.380164         -11.395063         -11.410263   \n",
      "19         -11.380880         -11.382676         -11.418229   \n",
      "20         -11.381084         -11.389948         -11.414542   \n",
      "21         -11.378914         -11.394251         -11.408826   \n",
      "22         -11.381145         -11.383385         -11.418390   \n",
      "23         -11.379440         -11.396892         -11.407253   \n",
      "24         -11.380317         -11.382732         -11.420022   \n",
      "25         -11.379224         -11.395523         -11.408173   \n",
      "26         -11.379918         -11.398930         -11.406477   \n",
      "27         -11.384259         -11.389523         -11.429869   \n",
      "28         -11.381018         -11.388484         -11.415529   \n",
      "29         -11.382439         -11.395379         -11.413013   \n",
      "30         -11.379603         -11.398171         -11.406777   \n",
      "31         -11.379134         -11.389215         -11.413041   \n",
      "32         -11.381865         -11.384254         -11.423136   \n",
      "33         -11.381857         -11.392092         -11.413386   \n",
      "34         -11.379834         -11.397019         -11.409298   \n",
      "35         -11.379235         -11.395867         -11.407826   \n",
      "36         -11.379818         -11.398849         -11.406317   \n",
      "37         -11.378559         -11.390977         -11.411400   \n",
      "38         -11.379298         -11.388353         -11.414127   \n",
      "39         -11.379691         -11.397716         -11.407038   \n",
      "40         -11.379802         -11.396319         -11.409414   \n",
      "41         -11.380290         -11.382304         -11.417945   \n",
      "42         -11.380949         -11.394112         -11.411515   \n",
      "43         -11.380230         -11.385291         -11.416149   \n",
      "44         -11.388175         -11.396595         -11.436773   \n",
      "45         -11.381719         -11.385534         -11.414868   \n",
      "46         -11.378868         -11.393370         -11.409555   \n",
      "47         -11.379802         -11.398752         -11.406384   \n",
      "48         -11.388123         -11.396783         -11.437692   \n",
      "49         -11.379968         -11.395684         -11.409814   \n",
      "\n",
      "    split3_test_score  split4_test_score  mean_test_score  std_test_score  \\\n",
      "0          -12.199795         -12.052402       -12.093604        0.078029   \n",
      "1          -18.934900         -19.055553       -18.901784        0.087412   \n",
      "2          -12.424359         -12.291528       -12.333370        0.076028   \n",
      "3          -16.600301         -16.742277       -16.554987        0.105179   \n",
      "4          -18.934900         -19.055553       -18.901784        0.087412   \n",
      "5          -11.504640         -11.387121       -11.415855        0.045537   \n",
      "6          -11.705059         -11.555625       -11.585592        0.067147   \n",
      "7          -12.945755         -12.854852       -12.861502        0.067858   \n",
      "8          -18.934900         -19.055553       -18.901784        0.087412   \n",
      "9          -12.179510         -12.029071       -12.071409        0.078797   \n",
      "10         -11.510673         -11.389846       -11.416665        0.048486   \n",
      "11         -11.503854         -11.386609       -11.415232        0.045434   \n",
      "12         -11.522605         -11.397110       -11.422792        0.052142   \n",
      "13         -11.500890         -11.385568       -11.414288        0.044305   \n",
      "14         -11.504997         -11.386338       -11.414567        0.046402   \n",
      "15         -11.501125         -11.385462       -11.414258        0.044446   \n",
      "16         -11.555529         -11.423823       -11.449937        0.055954   \n",
      "17         -11.506265         -11.388701       -11.417228        0.045658   \n",
      "18         -11.503716         -11.386209       -11.415083        0.045460   \n",
      "19         -11.513630         -11.391245       -11.417332        0.049969   \n",
      "20         -11.509086         -11.388563       -11.416645        0.047573   \n",
      "21         -11.503610         -11.385897       -11.414300        0.045754   \n",
      "22         -11.515097         -11.391125       -11.417828        0.050411   \n",
      "23         -11.502023         -11.385352       -11.414192        0.044947   \n",
      "24         -11.516632         -11.393011       -11.418543        0.051028   \n",
      "25         -11.502993         -11.385667       -11.414316        0.045402   \n",
      "26         -11.501023         -11.385705       -11.414411        0.044312   \n",
      "27         -11.526411         -11.399865       -11.425986        0.052637   \n",
      "28         -11.510211         -11.389163       -11.416881        0.048111   \n",
      "29         -11.506586         -11.388744       -11.417232        0.045829   \n",
      "30         -11.501183         -11.385397       -11.414226        0.044508   \n",
      "31         -11.507987         -11.387405       -11.415356        0.047671   \n",
      "32         -11.519297         -11.394784       -11.420667        0.051450   \n",
      "33         -11.508549         -11.388722       -11.416921        0.047009   \n",
      "34         -11.503119         -11.385764       -11.415007        0.045193   \n",
      "35         -11.502647         -11.385574       -11.414230        0.045258   \n",
      "36         -11.500890         -11.385568       -11.414288        0.044305   \n",
      "37         -11.505984         -11.386739       -11.414732        0.046892   \n",
      "38         -11.508911         -11.388004       -11.415739        0.048022   \n",
      "39         -11.501598         -11.385604       -11.414330        0.044654   \n",
      "40         -11.503101         -11.385844       -11.414896        0.045235   \n",
      "41         -11.514004         -11.391430       -11.417194        0.050231   \n",
      "42         -11.504158         -11.387072       -11.415561        0.045465   \n",
      "43         -11.511637         -11.390373       -11.416736        0.049037   \n",
      "44         -11.533929         -11.406318       -11.432358        0.053377   \n",
      "45         -11.511093         -11.389242       -11.416491        0.048708   \n",
      "46         -11.504270         -11.386175       -11.414448        0.046047   \n",
      "47         -11.500968         -11.385536       -11.414288        0.044347   \n",
      "48         -11.536468         -11.407262       -11.433265        0.054250   \n",
      "49         -11.503447         -11.385891       -11.414961        0.045382   \n",
      "\n",
      "    rank_test_score  \n",
      "0                44  \n",
      "1                48  \n",
      "2                45  \n",
      "3                47  \n",
      "4                48  \n",
      "5                23  \n",
      "6                42  \n",
      "7                46  \n",
      "8                48  \n",
      "9                43  \n",
      "10               26  \n",
      "11               19  \n",
      "12               37  \n",
      "13                5  \n",
      "14               13  \n",
      "15                4  \n",
      "16               41  \n",
      "17               31  \n",
      "18               18  \n",
      "19               33  \n",
      "20               25  \n",
      "21                8  \n",
      "22               34  \n",
      "23                1  \n",
      "24               35  \n",
      "25                9  \n",
      "26               11  \n",
      "27               38  \n",
      "28               28  \n",
      "29               32  \n",
      "30                2  \n",
      "31               20  \n",
      "32               36  \n",
      "33               29  \n",
      "34               17  \n",
      "35                3  \n",
      "36                5  \n",
      "37               14  \n",
      "38               22  \n",
      "39               10  \n",
      "40               15  \n",
      "41               30  \n",
      "42               21  \n",
      "43               27  \n",
      "44               39  \n",
      "45               24  \n",
      "46               12  \n",
      "47                7  \n",
      "48               40  \n",
      "49               16  \n",
      "[ 0.80813214  2.15188504 20.47191416 ...  4.87480063 20.68240508\n",
      "  9.20470403]\n",
      "[43.3663052   3.55764009 36.54084305 ... -0.57203178  1.09980524\n",
      "  3.14855382]\n",
      "Train R-sq:\n",
      "0.6370404443324977\n",
      "Test R-sq:\n",
      "0.6480368310543366\n",
      "Train RMSE:\n",
      "11.387518138430686\n",
      "Test RMSE:\n",
      "11.337839706231485\n",
      "End Time = 2023-04-13 19:34:32.039668\n",
      "Script Time = 0:04:34.328540\n"
     ]
    }
   ],
   "source": [
    "# Start timer script\n",
    "start_time = dt.datetime.today()\n",
    "\n",
    "# Citation: Hochberg, 2018; Shanmukh, 2021\n",
    "m2v2_ls_pip = Pipeline([('si', SimpleImputer(strategy='median')),\n",
    "                        ('ss', StandardScaler()),\n",
    "                        ('ls', Lasso(random_state=1699))])\n",
    "\n",
    "alpha_hparam = Real(1e-3, 1e3, prior='log-uniform')\n",
    "selection_hparam = Categorical(['cyclic', 'random'])\n",
    "max_iter_hparam = Integer(100, 5000, prior='log-uniform')\n",
    "warm_start_hparam = Categorical([False, True])\n",
    "\n",
    "\n",
    "m2v2_ls_grd = {'ls__alpha': alpha_hparam,\n",
    "               'ls__selection': selection_hparam,\n",
    "               'ls__max_iter': max_iter_hparam,\n",
    "               'ls__warm_start': warm_start_hparam\n",
    "           }\n",
    "\n",
    "m2v2_ls = BayesSearchCV(m2v2_ls_pip,\n",
    "                       m2v2_ls_grd,\n",
    "                       scoring='neg_root_mean_squared_error',\n",
    "                        cv=5,\n",
    "                       n_jobs=2,\n",
    "                       refit=True,\n",
    "                       verbose=2)\n",
    "\n",
    "m2v2_ls.fit(train_x01, train_y01)\n",
    "\n",
    "print(f'Best Estimator:\\n{m2v2_ls.best_estimator_}')\n",
    "print(f'Coefficients:\\n{m2v2_ls.best_estimator_.named_steps[\"ls\"].coef_}')\n",
    "\n",
    "print(pd.DataFrame(m2v2_ls.cv_results_))\n",
    "\n",
    "train_m2v2_ls_y01_pred = m2v2_ls.predict(train_x01)\n",
    "print(train_m2v2_ls_y01_pred)\n",
    "\n",
    "test_m2v2_ls_y01_pred = m2v2_ls.predict(test_x01)\n",
    "print(test_m2v2_ls_y01_pred)\n",
    "\n",
    "# Display evaluation metrics\n",
    "# R-sq\n",
    "train_m2v2_ls_r2 = r2_score(train_y01, train_m2v2_ls_y01_pred)\n",
    "test_m2v2_ls_r2 = r2_score(test_y01, test_m2v2_ls_y01_pred)\n",
    "\n",
    "print(f'Train R-sq:\\n{train_m2v2_ls_r2}')\n",
    "print(f'Test R-sq:\\n{test_m2v2_ls_r2}')\n",
    "\n",
    "# RMSE\n",
    "train_m2v2_ls_rmse = mean_squared_error(train_y01, train_m2v2_ls_y01_pred, squared=False)\n",
    "test_m2v2_ls_rmse = mean_squared_error(test_y01, test_m2v2_ls_y01_pred, squared=False)\n",
    "\n",
    "print(f'Train RMSE:\\n{train_m2v2_ls_rmse}')\n",
    "print(f'Test RMSE:\\n{test_m2v2_ls_rmse}')\n",
    "\n",
    "# End timer script\n",
    "end_time = dt.datetime.today()\n",
    "time_elapse = end_time - start_time\n",
    "print(f'End Time = {end_time}')\n",
    "print(f'Script Time = {time_elapse}')"
   ]
  },
  {
   "cell_type": "code",
   "execution_count": 15,
   "id": "26638d66-e6de-4097-9bf2-12c8f7c5a11e",
   "metadata": {
    "tags": []
   },
   "outputs": [
    {
     "data": {
      "text/html": [
       "<div>\n",
       "<style scoped>\n",
       "    .dataframe tbody tr th:only-of-type {\n",
       "        vertical-align: middle;\n",
       "    }\n",
       "\n",
       "    .dataframe tbody tr th {\n",
       "        vertical-align: top;\n",
       "    }\n",
       "\n",
       "    .dataframe thead th {\n",
       "        text-align: right;\n",
       "    }\n",
       "</style>\n",
       "<table border=\"1\" class=\"dataframe\">\n",
       "  <thead>\n",
       "    <tr style=\"text-align: right;\">\n",
       "      <th></th>\n",
       "      <th>0</th>\n",
       "      <th>0</th>\n",
       "    </tr>\n",
       "  </thead>\n",
       "  <tbody>\n",
       "    <tr>\n",
       "      <th>0</th>\n",
       "      <td>borough_bronx</td>\n",
       "      <td>-0.059077</td>\n",
       "    </tr>\n",
       "    <tr>\n",
       "      <th>1</th>\n",
       "      <td>borough_brooklyn</td>\n",
       "      <td>1.203570</td>\n",
       "    </tr>\n",
       "    <tr>\n",
       "      <th>2</th>\n",
       "      <td>borough_manhattan</td>\n",
       "      <td>0.000000</td>\n",
       "    </tr>\n",
       "    <tr>\n",
       "      <th>3</th>\n",
       "      <td>borough_queens</td>\n",
       "      <td>-1.037298</td>\n",
       "    </tr>\n",
       "    <tr>\n",
       "      <th>4</th>\n",
       "      <td>borough_staten island</td>\n",
       "      <td>1.133191</td>\n",
       "    </tr>\n",
       "    <tr>\n",
       "      <th>5</th>\n",
       "      <td>relative_data_year_-4</td>\n",
       "      <td>-0.000000</td>\n",
       "    </tr>\n",
       "    <tr>\n",
       "      <th>6</th>\n",
       "      <td>relative_data_year_-3</td>\n",
       "      <td>-0.000000</td>\n",
       "    </tr>\n",
       "    <tr>\n",
       "      <th>7</th>\n",
       "      <td>relative_data_year_-2</td>\n",
       "      <td>0.002948</td>\n",
       "    </tr>\n",
       "    <tr>\n",
       "      <th>8</th>\n",
       "      <td>relative_data_year_-1</td>\n",
       "      <td>0.033875</td>\n",
       "    </tr>\n",
       "    <tr>\n",
       "      <th>9</th>\n",
       "      <td>relative_data_year_0</td>\n",
       "      <td>-0.000205</td>\n",
       "    </tr>\n",
       "    <tr>\n",
       "      <th>10</th>\n",
       "      <td>complaint_type_FELONY</td>\n",
       "      <td>-0.028230</td>\n",
       "    </tr>\n",
       "    <tr>\n",
       "      <th>11</th>\n",
       "      <td>complaint_type_MISDEMEANOR</td>\n",
       "      <td>0.020683</td>\n",
       "    </tr>\n",
       "    <tr>\n",
       "      <th>12</th>\n",
       "      <td>complaint_type_VIOLATION</td>\n",
       "      <td>0.000000</td>\n",
       "    </tr>\n",
       "    <tr>\n",
       "      <th>13</th>\n",
       "      <td>annual_evictions_x_borough</td>\n",
       "      <td>-0.000000</td>\n",
       "    </tr>\n",
       "    <tr>\n",
       "      <th>14</th>\n",
       "      <td>annual_complaint_counts</td>\n",
       "      <td>-0.043459</td>\n",
       "    </tr>\n",
       "    <tr>\n",
       "      <th>15</th>\n",
       "      <td>annual_grad_n</td>\n",
       "      <td>0.000000</td>\n",
       "    </tr>\n",
       "    <tr>\n",
       "      <th>16</th>\n",
       "      <td>annual_dropped_out_n</td>\n",
       "      <td>-0.000000</td>\n",
       "    </tr>\n",
       "    <tr>\n",
       "      <th>17</th>\n",
       "      <td>totalpop</td>\n",
       "      <td>8.480980</td>\n",
       "    </tr>\n",
       "    <tr>\n",
       "      <th>18</th>\n",
       "      <td>men</td>\n",
       "      <td>0.000000</td>\n",
       "    </tr>\n",
       "    <tr>\n",
       "      <th>19</th>\n",
       "      <td>women</td>\n",
       "      <td>2.768329</td>\n",
       "    </tr>\n",
       "    <tr>\n",
       "      <th>20</th>\n",
       "      <td>hispanic</td>\n",
       "      <td>0.697560</td>\n",
       "    </tr>\n",
       "    <tr>\n",
       "      <th>21</th>\n",
       "      <td>white</td>\n",
       "      <td>-3.303184</td>\n",
       "    </tr>\n",
       "    <tr>\n",
       "      <th>22</th>\n",
       "      <td>black</td>\n",
       "      <td>-2.148272</td>\n",
       "    </tr>\n",
       "    <tr>\n",
       "      <th>23</th>\n",
       "      <td>native</td>\n",
       "      <td>-0.371075</td>\n",
       "    </tr>\n",
       "    <tr>\n",
       "      <th>24</th>\n",
       "      <td>asian</td>\n",
       "      <td>-1.907961</td>\n",
       "    </tr>\n",
       "    <tr>\n",
       "      <th>25</th>\n",
       "      <td>citizen</td>\n",
       "      <td>-3.655108</td>\n",
       "    </tr>\n",
       "    <tr>\n",
       "      <th>26</th>\n",
       "      <td>income</td>\n",
       "      <td>-6.880255</td>\n",
       "    </tr>\n",
       "    <tr>\n",
       "      <th>27</th>\n",
       "      <td>incomeerr</td>\n",
       "      <td>0.154667</td>\n",
       "    </tr>\n",
       "    <tr>\n",
       "      <th>28</th>\n",
       "      <td>incomepercap</td>\n",
       "      <td>0.443631</td>\n",
       "    </tr>\n",
       "    <tr>\n",
       "      <th>29</th>\n",
       "      <td>incomepercaperr</td>\n",
       "      <td>-0.176161</td>\n",
       "    </tr>\n",
       "    <tr>\n",
       "      <th>30</th>\n",
       "      <td>professional</td>\n",
       "      <td>-1.817674</td>\n",
       "    </tr>\n",
       "    <tr>\n",
       "      <th>31</th>\n",
       "      <td>service</td>\n",
       "      <td>1.331155</td>\n",
       "    </tr>\n",
       "    <tr>\n",
       "      <th>32</th>\n",
       "      <td>office</td>\n",
       "      <td>0.287453</td>\n",
       "    </tr>\n",
       "    <tr>\n",
       "      <th>33</th>\n",
       "      <td>construction</td>\n",
       "      <td>-0.798666</td>\n",
       "    </tr>\n",
       "    <tr>\n",
       "      <th>34</th>\n",
       "      <td>production</td>\n",
       "      <td>-0.386056</td>\n",
       "    </tr>\n",
       "    <tr>\n",
       "      <th>35</th>\n",
       "      <td>drive</td>\n",
       "      <td>-1.455973</td>\n",
       "    </tr>\n",
       "    <tr>\n",
       "      <th>36</th>\n",
       "      <td>carpool</td>\n",
       "      <td>-0.486681</td>\n",
       "    </tr>\n",
       "    <tr>\n",
       "      <th>37</th>\n",
       "      <td>transit</td>\n",
       "      <td>0.000000</td>\n",
       "    </tr>\n",
       "    <tr>\n",
       "      <th>38</th>\n",
       "      <td>walk</td>\n",
       "      <td>1.527190</td>\n",
       "    </tr>\n",
       "    <tr>\n",
       "      <th>39</th>\n",
       "      <td>othertransp</td>\n",
       "      <td>0.485590</td>\n",
       "    </tr>\n",
       "    <tr>\n",
       "      <th>40</th>\n",
       "      <td>workathome</td>\n",
       "      <td>0.568145</td>\n",
       "    </tr>\n",
       "    <tr>\n",
       "      <th>41</th>\n",
       "      <td>meancommute</td>\n",
       "      <td>-0.749279</td>\n",
       "    </tr>\n",
       "    <tr>\n",
       "      <th>42</th>\n",
       "      <td>employed</td>\n",
       "      <td>-8.298285</td>\n",
       "    </tr>\n",
       "    <tr>\n",
       "      <th>43</th>\n",
       "      <td>privatework</td>\n",
       "      <td>0.000000</td>\n",
       "    </tr>\n",
       "    <tr>\n",
       "      <th>44</th>\n",
       "      <td>publicwork</td>\n",
       "      <td>-1.698774</td>\n",
       "    </tr>\n",
       "    <tr>\n",
       "      <th>45</th>\n",
       "      <td>selfemployed</td>\n",
       "      <td>0.242544</td>\n",
       "    </tr>\n",
       "    <tr>\n",
       "      <th>46</th>\n",
       "      <td>familywork</td>\n",
       "      <td>0.716689</td>\n",
       "    </tr>\n",
       "    <tr>\n",
       "      <th>47</th>\n",
       "      <td>unemployment</td>\n",
       "      <td>1.608683</td>\n",
       "    </tr>\n",
       "    <tr>\n",
       "      <th>48</th>\n",
       "      <td>intercept</td>\n",
       "      <td>24.475273</td>\n",
       "    </tr>\n",
       "  </tbody>\n",
       "</table>\n",
       "</div>"
      ],
      "text/plain": [
       "                             0          0\n",
       "0                borough_bronx  -0.059077\n",
       "1             borough_brooklyn   1.203570\n",
       "2            borough_manhattan   0.000000\n",
       "3               borough_queens  -1.037298\n",
       "4        borough_staten island   1.133191\n",
       "5        relative_data_year_-4  -0.000000\n",
       "6        relative_data_year_-3  -0.000000\n",
       "7        relative_data_year_-2   0.002948\n",
       "8        relative_data_year_-1   0.033875\n",
       "9         relative_data_year_0  -0.000205\n",
       "10       complaint_type_FELONY  -0.028230\n",
       "11  complaint_type_MISDEMEANOR   0.020683\n",
       "12    complaint_type_VIOLATION   0.000000\n",
       "13  annual_evictions_x_borough  -0.000000\n",
       "14     annual_complaint_counts  -0.043459\n",
       "15               annual_grad_n   0.000000\n",
       "16        annual_dropped_out_n  -0.000000\n",
       "17                    totalpop   8.480980\n",
       "18                         men   0.000000\n",
       "19                       women   2.768329\n",
       "20                    hispanic   0.697560\n",
       "21                       white  -3.303184\n",
       "22                       black  -2.148272\n",
       "23                      native  -0.371075\n",
       "24                       asian  -1.907961\n",
       "25                     citizen  -3.655108\n",
       "26                      income  -6.880255\n",
       "27                   incomeerr   0.154667\n",
       "28                incomepercap   0.443631\n",
       "29             incomepercaperr  -0.176161\n",
       "30                professional  -1.817674\n",
       "31                     service   1.331155\n",
       "32                      office   0.287453\n",
       "33                construction  -0.798666\n",
       "34                  production  -0.386056\n",
       "35                       drive  -1.455973\n",
       "36                     carpool  -0.486681\n",
       "37                     transit   0.000000\n",
       "38                        walk   1.527190\n",
       "39                 othertransp   0.485590\n",
       "40                  workathome   0.568145\n",
       "41                 meancommute  -0.749279\n",
       "42                    employed  -8.298285\n",
       "43                 privatework   0.000000\n",
       "44                  publicwork  -1.698774\n",
       "45                selfemployed   0.242544\n",
       "46                  familywork   0.716689\n",
       "47                unemployment   1.608683\n",
       "48                   intercept  24.475273"
      ]
     },
     "metadata": {},
     "output_type": "display_data"
    }
   ],
   "source": [
    "coef_intercept = np.hstack((m2v2_ls.best_estimator_.named_steps[\"ls\"].coef_,\n",
    "                            m2v2_ls.best_estimator_.named_steps[\"ls\"].intercept_))\n",
    "#print(coef_intercept)\n",
    "\n",
    "coef_intercept_df01 = pd.DataFrame(coef_intercept)\n",
    "#display(coef_intercept_df01)\n",
    "\n",
    "train_x01_col_names = list(train_x01.columns)\n",
    "train_x01_col_names.append('intercept')\n",
    "\n",
    "train_x01_col_names_df01 = pd.DataFrame(train_x01_col_names)\n",
    "#display(train_x01_col_names_df01)\n",
    "\n",
    "model_params = pd.concat([train_x01_col_names_df01, coef_intercept_df01], axis=1)\n",
    "display(model_params)"
   ]
  },
  {
   "cell_type": "code",
   "execution_count": 16,
   "id": "48ef3404-b854-43f6-8efe-6e3d8ea4d90f",
   "metadata": {},
   "outputs": [],
   "source": [
    "# specify the S3 bucket and key where you want to save the model\n",
    "m2v2_ls_key_name = 'team_8_data/models/m2v2_ls.parquet'\n",
    "\n",
    "# save the model to an in-memory buffer\n",
    "buffer = BytesIO()\n",
    "joblib.dump(m2v2_ls, buffer)\n",
    "\n",
    "# upload the buffer to S3\n",
    "buffer.seek(0)\n",
    "s3.upload_fileobj(buffer, def_bucket, m2v2_ls_key_name)\n",
    "\n",
    "# load the saved model from S3\n",
    "#buffer = BytesIO()\n",
    "#s3.download_fileobj(def_bucket, m2v2_ls_key_name, buffer)\n",
    "#buffer.seek(0)\n",
    "#m2v2_ls_fitted = joblib.load(buffer)"
   ]
  },
  {
   "cell_type": "markdown",
   "id": "482e6e17-d3a7-49f4-bdb7-5550f10cfc2a",
   "metadata": {},
   "source": [
    "## Release Resources"
   ]
  },
  {
   "cell_type": "code",
   "execution_count": 17,
   "id": "034b5c94-394b-4fac-aa24-880026e19549",
   "metadata": {},
   "outputs": [
    {
     "data": {
      "text/html": [
       "\n",
       "<p><b>Shutting down your kernel for this notebook to release resources.</b></p>\n",
       "<button class=\"sm-command-button\" data-commandlinker-command=\"kernelmenu:shutdown\" style=\"display:none;\">Shutdown Kernel</button>\n",
       "        \n",
       "<script>\n",
       "try {\n",
       "    els = document.getElementsByClassName(\"sm-command-button\");\n",
       "    els[0].click();\n",
       "}\n",
       "catch(err) {\n",
       "    // NoOp\n",
       "}    \n",
       "</script>\n"
      ],
      "text/plain": [
       "<IPython.core.display.HTML object>"
      ]
     },
     "metadata": {},
     "output_type": "display_data"
    }
   ],
   "source": [
    "%%html\n",
    "\n",
    "<p><b>Shutting down your kernel for this notebook to release resources.</b></p>\n",
    "<button class=\"sm-command-button\" data-commandlinker-command=\"kernelmenu:shutdown\" style=\"display:none;\">Shutdown Kernel</button>\n",
    "        \n",
    "<script>\n",
    "try {\n",
    "    els = document.getElementsByClassName(\"sm-command-button\");\n",
    "    els[0].click();\n",
    "}\n",
    "catch(err) {\n",
    "    // NoOp\n",
    "}    \n",
    "</script>"
   ]
  },
  {
   "cell_type": "code",
   "execution_count": 18,
   "id": "448d3322-a041-43ea-85da-0e347e3569da",
   "metadata": {
    "tags": []
   },
   "outputs": [
    {
     "data": {
      "application/javascript": [
       "\n",
       "try {\n",
       "    Jupyter.notebook.save_checkpoint();\n",
       "    Jupyter.notebook.session.delete();\n",
       "}\n",
       "catch(err) {\n",
       "    // NoOp\n",
       "}\n"
      ],
      "text/plain": [
       "<IPython.core.display.Javascript object>"
      ]
     },
     "metadata": {},
     "output_type": "display_data"
    }
   ],
   "source": [
    "%%javascript\n",
    "\n",
    "try {\n",
    "    Jupyter.notebook.save_checkpoint();\n",
    "    Jupyter.notebook.session.delete();\n",
    "}\n",
    "catch(err) {\n",
    "    // NoOp\n",
    "}"
   ]
  }
 ],
 "metadata": {
  "availableInstances": [
   {
    "_defaultOrder": 0,
    "_isFastLaunch": true,
    "category": "General purpose",
    "gpuNum": 0,
    "hideHardwareSpecs": false,
    "memoryGiB": 4,
    "name": "ml.t3.medium",
    "vcpuNum": 2
   },
   {
    "_defaultOrder": 1,
    "_isFastLaunch": false,
    "category": "General purpose",
    "gpuNum": 0,
    "hideHardwareSpecs": false,
    "memoryGiB": 8,
    "name": "ml.t3.large",
    "vcpuNum": 2
   },
   {
    "_defaultOrder": 2,
    "_isFastLaunch": false,
    "category": "General purpose",
    "gpuNum": 0,
    "hideHardwareSpecs": false,
    "memoryGiB": 16,
    "name": "ml.t3.xlarge",
    "vcpuNum": 4
   },
   {
    "_defaultOrder": 3,
    "_isFastLaunch": false,
    "category": "General purpose",
    "gpuNum": 0,
    "hideHardwareSpecs": false,
    "memoryGiB": 32,
    "name": "ml.t3.2xlarge",
    "vcpuNum": 8
   },
   {
    "_defaultOrder": 4,
    "_isFastLaunch": true,
    "category": "General purpose",
    "gpuNum": 0,
    "hideHardwareSpecs": false,
    "memoryGiB": 8,
    "name": "ml.m5.large",
    "vcpuNum": 2
   },
   {
    "_defaultOrder": 5,
    "_isFastLaunch": false,
    "category": "General purpose",
    "gpuNum": 0,
    "hideHardwareSpecs": false,
    "memoryGiB": 16,
    "name": "ml.m5.xlarge",
    "vcpuNum": 4
   },
   {
    "_defaultOrder": 6,
    "_isFastLaunch": false,
    "category": "General purpose",
    "gpuNum": 0,
    "hideHardwareSpecs": false,
    "memoryGiB": 32,
    "name": "ml.m5.2xlarge",
    "vcpuNum": 8
   },
   {
    "_defaultOrder": 7,
    "_isFastLaunch": false,
    "category": "General purpose",
    "gpuNum": 0,
    "hideHardwareSpecs": false,
    "memoryGiB": 64,
    "name": "ml.m5.4xlarge",
    "vcpuNum": 16
   },
   {
    "_defaultOrder": 8,
    "_isFastLaunch": false,
    "category": "General purpose",
    "gpuNum": 0,
    "hideHardwareSpecs": false,
    "memoryGiB": 128,
    "name": "ml.m5.8xlarge",
    "vcpuNum": 32
   },
   {
    "_defaultOrder": 9,
    "_isFastLaunch": false,
    "category": "General purpose",
    "gpuNum": 0,
    "hideHardwareSpecs": false,
    "memoryGiB": 192,
    "name": "ml.m5.12xlarge",
    "vcpuNum": 48
   },
   {
    "_defaultOrder": 10,
    "_isFastLaunch": false,
    "category": "General purpose",
    "gpuNum": 0,
    "hideHardwareSpecs": false,
    "memoryGiB": 256,
    "name": "ml.m5.16xlarge",
    "vcpuNum": 64
   },
   {
    "_defaultOrder": 11,
    "_isFastLaunch": false,
    "category": "General purpose",
    "gpuNum": 0,
    "hideHardwareSpecs": false,
    "memoryGiB": 384,
    "name": "ml.m5.24xlarge",
    "vcpuNum": 96
   },
   {
    "_defaultOrder": 12,
    "_isFastLaunch": false,
    "category": "General purpose",
    "gpuNum": 0,
    "hideHardwareSpecs": false,
    "memoryGiB": 8,
    "name": "ml.m5d.large",
    "vcpuNum": 2
   },
   {
    "_defaultOrder": 13,
    "_isFastLaunch": false,
    "category": "General purpose",
    "gpuNum": 0,
    "hideHardwareSpecs": false,
    "memoryGiB": 16,
    "name": "ml.m5d.xlarge",
    "vcpuNum": 4
   },
   {
    "_defaultOrder": 14,
    "_isFastLaunch": false,
    "category": "General purpose",
    "gpuNum": 0,
    "hideHardwareSpecs": false,
    "memoryGiB": 32,
    "name": "ml.m5d.2xlarge",
    "vcpuNum": 8
   },
   {
    "_defaultOrder": 15,
    "_isFastLaunch": false,
    "category": "General purpose",
    "gpuNum": 0,
    "hideHardwareSpecs": false,
    "memoryGiB": 64,
    "name": "ml.m5d.4xlarge",
    "vcpuNum": 16
   },
   {
    "_defaultOrder": 16,
    "_isFastLaunch": false,
    "category": "General purpose",
    "gpuNum": 0,
    "hideHardwareSpecs": false,
    "memoryGiB": 128,
    "name": "ml.m5d.8xlarge",
    "vcpuNum": 32
   },
   {
    "_defaultOrder": 17,
    "_isFastLaunch": false,
    "category": "General purpose",
    "gpuNum": 0,
    "hideHardwareSpecs": false,
    "memoryGiB": 192,
    "name": "ml.m5d.12xlarge",
    "vcpuNum": 48
   },
   {
    "_defaultOrder": 18,
    "_isFastLaunch": false,
    "category": "General purpose",
    "gpuNum": 0,
    "hideHardwareSpecs": false,
    "memoryGiB": 256,
    "name": "ml.m5d.16xlarge",
    "vcpuNum": 64
   },
   {
    "_defaultOrder": 19,
    "_isFastLaunch": false,
    "category": "General purpose",
    "gpuNum": 0,
    "hideHardwareSpecs": false,
    "memoryGiB": 384,
    "name": "ml.m5d.24xlarge",
    "vcpuNum": 96
   },
   {
    "_defaultOrder": 20,
    "_isFastLaunch": false,
    "category": "General purpose",
    "gpuNum": 0,
    "hideHardwareSpecs": true,
    "memoryGiB": 0,
    "name": "ml.geospatial.interactive",
    "supportedImageNames": [
     "sagemaker-geospatial-v1-0"
    ],
    "vcpuNum": 0
   },
   {
    "_defaultOrder": 21,
    "_isFastLaunch": true,
    "category": "Compute optimized",
    "gpuNum": 0,
    "hideHardwareSpecs": false,
    "memoryGiB": 4,
    "name": "ml.c5.large",
    "vcpuNum": 2
   },
   {
    "_defaultOrder": 22,
    "_isFastLaunch": false,
    "category": "Compute optimized",
    "gpuNum": 0,
    "hideHardwareSpecs": false,
    "memoryGiB": 8,
    "name": "ml.c5.xlarge",
    "vcpuNum": 4
   },
   {
    "_defaultOrder": 23,
    "_isFastLaunch": false,
    "category": "Compute optimized",
    "gpuNum": 0,
    "hideHardwareSpecs": false,
    "memoryGiB": 16,
    "name": "ml.c5.2xlarge",
    "vcpuNum": 8
   },
   {
    "_defaultOrder": 24,
    "_isFastLaunch": false,
    "category": "Compute optimized",
    "gpuNum": 0,
    "hideHardwareSpecs": false,
    "memoryGiB": 32,
    "name": "ml.c5.4xlarge",
    "vcpuNum": 16
   },
   {
    "_defaultOrder": 25,
    "_isFastLaunch": false,
    "category": "Compute optimized",
    "gpuNum": 0,
    "hideHardwareSpecs": false,
    "memoryGiB": 72,
    "name": "ml.c5.9xlarge",
    "vcpuNum": 36
   },
   {
    "_defaultOrder": 26,
    "_isFastLaunch": false,
    "category": "Compute optimized",
    "gpuNum": 0,
    "hideHardwareSpecs": false,
    "memoryGiB": 96,
    "name": "ml.c5.12xlarge",
    "vcpuNum": 48
   },
   {
    "_defaultOrder": 27,
    "_isFastLaunch": false,
    "category": "Compute optimized",
    "gpuNum": 0,
    "hideHardwareSpecs": false,
    "memoryGiB": 144,
    "name": "ml.c5.18xlarge",
    "vcpuNum": 72
   },
   {
    "_defaultOrder": 28,
    "_isFastLaunch": false,
    "category": "Compute optimized",
    "gpuNum": 0,
    "hideHardwareSpecs": false,
    "memoryGiB": 192,
    "name": "ml.c5.24xlarge",
    "vcpuNum": 96
   },
   {
    "_defaultOrder": 29,
    "_isFastLaunch": true,
    "category": "Accelerated computing",
    "gpuNum": 1,
    "hideHardwareSpecs": false,
    "memoryGiB": 16,
    "name": "ml.g4dn.xlarge",
    "vcpuNum": 4
   },
   {
    "_defaultOrder": 30,
    "_isFastLaunch": false,
    "category": "Accelerated computing",
    "gpuNum": 1,
    "hideHardwareSpecs": false,
    "memoryGiB": 32,
    "name": "ml.g4dn.2xlarge",
    "vcpuNum": 8
   },
   {
    "_defaultOrder": 31,
    "_isFastLaunch": false,
    "category": "Accelerated computing",
    "gpuNum": 1,
    "hideHardwareSpecs": false,
    "memoryGiB": 64,
    "name": "ml.g4dn.4xlarge",
    "vcpuNum": 16
   },
   {
    "_defaultOrder": 32,
    "_isFastLaunch": false,
    "category": "Accelerated computing",
    "gpuNum": 1,
    "hideHardwareSpecs": false,
    "memoryGiB": 128,
    "name": "ml.g4dn.8xlarge",
    "vcpuNum": 32
   },
   {
    "_defaultOrder": 33,
    "_isFastLaunch": false,
    "category": "Accelerated computing",
    "gpuNum": 4,
    "hideHardwareSpecs": false,
    "memoryGiB": 192,
    "name": "ml.g4dn.12xlarge",
    "vcpuNum": 48
   },
   {
    "_defaultOrder": 34,
    "_isFastLaunch": false,
    "category": "Accelerated computing",
    "gpuNum": 1,
    "hideHardwareSpecs": false,
    "memoryGiB": 256,
    "name": "ml.g4dn.16xlarge",
    "vcpuNum": 64
   },
   {
    "_defaultOrder": 35,
    "_isFastLaunch": false,
    "category": "Accelerated computing",
    "gpuNum": 1,
    "hideHardwareSpecs": false,
    "memoryGiB": 61,
    "name": "ml.p3.2xlarge",
    "vcpuNum": 8
   },
   {
    "_defaultOrder": 36,
    "_isFastLaunch": false,
    "category": "Accelerated computing",
    "gpuNum": 4,
    "hideHardwareSpecs": false,
    "memoryGiB": 244,
    "name": "ml.p3.8xlarge",
    "vcpuNum": 32
   },
   {
    "_defaultOrder": 37,
    "_isFastLaunch": false,
    "category": "Accelerated computing",
    "gpuNum": 8,
    "hideHardwareSpecs": false,
    "memoryGiB": 488,
    "name": "ml.p3.16xlarge",
    "vcpuNum": 64
   },
   {
    "_defaultOrder": 38,
    "_isFastLaunch": false,
    "category": "Accelerated computing",
    "gpuNum": 8,
    "hideHardwareSpecs": false,
    "memoryGiB": 768,
    "name": "ml.p3dn.24xlarge",
    "vcpuNum": 96
   },
   {
    "_defaultOrder": 39,
    "_isFastLaunch": false,
    "category": "Memory Optimized",
    "gpuNum": 0,
    "hideHardwareSpecs": false,
    "memoryGiB": 16,
    "name": "ml.r5.large",
    "vcpuNum": 2
   },
   {
    "_defaultOrder": 40,
    "_isFastLaunch": false,
    "category": "Memory Optimized",
    "gpuNum": 0,
    "hideHardwareSpecs": false,
    "memoryGiB": 32,
    "name": "ml.r5.xlarge",
    "vcpuNum": 4
   },
   {
    "_defaultOrder": 41,
    "_isFastLaunch": false,
    "category": "Memory Optimized",
    "gpuNum": 0,
    "hideHardwareSpecs": false,
    "memoryGiB": 64,
    "name": "ml.r5.2xlarge",
    "vcpuNum": 8
   },
   {
    "_defaultOrder": 42,
    "_isFastLaunch": false,
    "category": "Memory Optimized",
    "gpuNum": 0,
    "hideHardwareSpecs": false,
    "memoryGiB": 128,
    "name": "ml.r5.4xlarge",
    "vcpuNum": 16
   },
   {
    "_defaultOrder": 43,
    "_isFastLaunch": false,
    "category": "Memory Optimized",
    "gpuNum": 0,
    "hideHardwareSpecs": false,
    "memoryGiB": 256,
    "name": "ml.r5.8xlarge",
    "vcpuNum": 32
   },
   {
    "_defaultOrder": 44,
    "_isFastLaunch": false,
    "category": "Memory Optimized",
    "gpuNum": 0,
    "hideHardwareSpecs": false,
    "memoryGiB": 384,
    "name": "ml.r5.12xlarge",
    "vcpuNum": 48
   },
   {
    "_defaultOrder": 45,
    "_isFastLaunch": false,
    "category": "Memory Optimized",
    "gpuNum": 0,
    "hideHardwareSpecs": false,
    "memoryGiB": 512,
    "name": "ml.r5.16xlarge",
    "vcpuNum": 64
   },
   {
    "_defaultOrder": 46,
    "_isFastLaunch": false,
    "category": "Memory Optimized",
    "gpuNum": 0,
    "hideHardwareSpecs": false,
    "memoryGiB": 768,
    "name": "ml.r5.24xlarge",
    "vcpuNum": 96
   },
   {
    "_defaultOrder": 47,
    "_isFastLaunch": false,
    "category": "Accelerated computing",
    "gpuNum": 1,
    "hideHardwareSpecs": false,
    "memoryGiB": 16,
    "name": "ml.g5.xlarge",
    "vcpuNum": 4
   },
   {
    "_defaultOrder": 48,
    "_isFastLaunch": false,
    "category": "Accelerated computing",
    "gpuNum": 1,
    "hideHardwareSpecs": false,
    "memoryGiB": 32,
    "name": "ml.g5.2xlarge",
    "vcpuNum": 8
   },
   {
    "_defaultOrder": 49,
    "_isFastLaunch": false,
    "category": "Accelerated computing",
    "gpuNum": 1,
    "hideHardwareSpecs": false,
    "memoryGiB": 64,
    "name": "ml.g5.4xlarge",
    "vcpuNum": 16
   },
   {
    "_defaultOrder": 50,
    "_isFastLaunch": false,
    "category": "Accelerated computing",
    "gpuNum": 1,
    "hideHardwareSpecs": false,
    "memoryGiB": 128,
    "name": "ml.g5.8xlarge",
    "vcpuNum": 32
   },
   {
    "_defaultOrder": 51,
    "_isFastLaunch": false,
    "category": "Accelerated computing",
    "gpuNum": 1,
    "hideHardwareSpecs": false,
    "memoryGiB": 256,
    "name": "ml.g5.16xlarge",
    "vcpuNum": 64
   },
   {
    "_defaultOrder": 52,
    "_isFastLaunch": false,
    "category": "Accelerated computing",
    "gpuNum": 4,
    "hideHardwareSpecs": false,
    "memoryGiB": 192,
    "name": "ml.g5.12xlarge",
    "vcpuNum": 48
   },
   {
    "_defaultOrder": 53,
    "_isFastLaunch": false,
    "category": "Accelerated computing",
    "gpuNum": 4,
    "hideHardwareSpecs": false,
    "memoryGiB": 384,
    "name": "ml.g5.24xlarge",
    "vcpuNum": 96
   },
   {
    "_defaultOrder": 54,
    "_isFastLaunch": false,
    "category": "Accelerated computing",
    "gpuNum": 8,
    "hideHardwareSpecs": false,
    "memoryGiB": 768,
    "name": "ml.g5.48xlarge",
    "vcpuNum": 192
   }
  ],
  "kernelspec": {
   "display_name": "Python 3 (ipykernel)",
   "language": "python",
   "name": "python3"
  },
  "language_info": {
   "codemirror_mode": {
    "name": "ipython",
    "version": 3
   },
   "file_extension": ".py",
   "mimetype": "text/x-python",
   "name": "python",
   "nbconvert_exporter": "python",
   "pygments_lexer": "ipython3",
   "version": "3.8.16"
  }
 },
 "nbformat": 4,
 "nbformat_minor": 5
}
